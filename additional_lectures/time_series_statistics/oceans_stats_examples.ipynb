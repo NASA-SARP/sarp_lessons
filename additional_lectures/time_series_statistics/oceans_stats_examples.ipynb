{
 "cells": [
  {
   "cell_type": "markdown",
   "id": "90d173f1",
   "metadata": {},
   "source": [
    "# Time Series Statistics"
   ]
  },
  {
   "cell_type": "markdown",
   "id": "93515dae",
   "metadata": {},
   "source": [
    ":::{admonition} Content\n",
    ":class: note, dropdown\n",
    "\n",
    "1. Load in your data\n",
    "2. Plotting a time series\n",
    "3. Cumulative Sum\n",
    "4. Kendall's Tau\n",
    "5. Theil Sen Estimator\n",
    "\n",
    ":::"
   ]
  },
  {
   "cell_type": "markdown",
   "id": "2e959c42",
   "metadata": {},
   "source": [
    "## 1) Load in your data with `pandas`"
   ]
  },
  {
   "cell_type": "code",
   "execution_count": 1,
   "id": "2ac4b430",
   "metadata": {},
   "outputs": [],
   "source": [
    "import pandas as pd"
   ]
  },
  {
   "cell_type": "code",
   "execution_count": 2,
   "id": "b2d5df79",
   "metadata": {},
   "outputs": [],
   "source": [
    "gauge_data = pd.read_csv('englewood_3_21_21_usgs_modified.csv')"
   ]
  },
  {
   "cell_type": "code",
   "execution_count": null,
   "id": "62788a44",
   "metadata": {},
   "outputs": [],
   "source": [
    "# If your file doesn't read in that easily you might also try using additional flags such as\n",
    "pd.read_csv('englewood_3_21_21_usgs_modified.csv', header=1) # specify header row\n",
    "pd.read_csv('englewood_3_21_21_usgs_modified.csv', skiprows=10) # ignore some rows at the top of the file\n"
   ]
  },
  {
   "cell_type": "markdown",
   "id": "d698e1d6",
   "metadata": {},
   "source": [
    "We see we have a pandas DataFrame with rows corresponding to 146 times and several data columns, the interesting ones being Discharge, Temperature, Dissolved oxygen and pH."
   ]
  },
  {
   "cell_type": "code",
   "execution_count": 4,
   "id": "68c859a1",
   "metadata": {},
   "outputs": [
    {
     "data": {
      "text/html": [
       "<div>\n",
       "<style scoped>\n",
       "    .dataframe tbody tr th:only-of-type {\n",
       "        vertical-align: middle;\n",
       "    }\n",
       "\n",
       "    .dataframe tbody tr th {\n",
       "        vertical-align: top;\n",
       "    }\n",
       "\n",
       "    .dataframe thead th {\n",
       "        text-align: right;\n",
       "    }\n",
       "</style>\n",
       "<table border=\"1\" class=\"dataframe\">\n",
       "  <thead>\n",
       "    <tr style=\"text-align: right;\">\n",
       "      <th></th>\n",
       "      <th>agency_cd</th>\n",
       "      <th>site_no</th>\n",
       "      <th>datetime</th>\n",
       "      <th>tz_cd</th>\n",
       "      <th>Discharge</th>\n",
       "      <th>Temperature</th>\n",
       "      <th>Dissolved oxygen</th>\n",
       "      <th>pH</th>\n",
       "    </tr>\n",
       "  </thead>\n",
       "  <tbody>\n",
       "    <tr>\n",
       "      <th>0</th>\n",
       "      <td>USGS</td>\n",
       "      <td>6711565</td>\n",
       "      <td>2021-03-12 00:00</td>\n",
       "      <td>MST</td>\n",
       "      <td>44.5</td>\n",
       "      <td>8.1</td>\n",
       "      <td>8.3</td>\n",
       "      <td>8.1</td>\n",
       "    </tr>\n",
       "    <tr>\n",
       "      <th>1</th>\n",
       "      <td>USGS</td>\n",
       "      <td>6711565</td>\n",
       "      <td>2021-03-12 00:15</td>\n",
       "      <td>MST</td>\n",
       "      <td>44.5</td>\n",
       "      <td>8.1</td>\n",
       "      <td>8.2</td>\n",
       "      <td>8.1</td>\n",
       "    </tr>\n",
       "    <tr>\n",
       "      <th>2</th>\n",
       "      <td>USGS</td>\n",
       "      <td>6711565</td>\n",
       "      <td>2021-03-12 00:30</td>\n",
       "      <td>MST</td>\n",
       "      <td>44.5</td>\n",
       "      <td>8.1</td>\n",
       "      <td>8.2</td>\n",
       "      <td>8.1</td>\n",
       "    </tr>\n",
       "    <tr>\n",
       "      <th>3</th>\n",
       "      <td>USGS</td>\n",
       "      <td>6711565</td>\n",
       "      <td>2021-03-12 00:45</td>\n",
       "      <td>MST</td>\n",
       "      <td>44.5</td>\n",
       "      <td>8.1</td>\n",
       "      <td>8.1</td>\n",
       "      <td>8.1</td>\n",
       "    </tr>\n",
       "    <tr>\n",
       "      <th>4</th>\n",
       "      <td>USGS</td>\n",
       "      <td>6711565</td>\n",
       "      <td>2021-03-12 01:00</td>\n",
       "      <td>MST</td>\n",
       "      <td>44.5</td>\n",
       "      <td>8.1</td>\n",
       "      <td>8.1</td>\n",
       "      <td>8.1</td>\n",
       "    </tr>\n",
       "    <tr>\n",
       "      <th>...</th>\n",
       "      <td>...</td>\n",
       "      <td>...</td>\n",
       "      <td>...</td>\n",
       "      <td>...</td>\n",
       "      <td>...</td>\n",
       "      <td>...</td>\n",
       "      <td>...</td>\n",
       "      <td>...</td>\n",
       "    </tr>\n",
       "    <tr>\n",
       "      <th>141</th>\n",
       "      <td>USGS</td>\n",
       "      <td>6711565</td>\n",
       "      <td>2021-03-13 11:15</td>\n",
       "      <td>MST</td>\n",
       "      <td>42.6</td>\n",
       "      <td>6.7</td>\n",
       "      <td>9.8</td>\n",
       "      <td>7.9</td>\n",
       "    </tr>\n",
       "    <tr>\n",
       "      <th>142</th>\n",
       "      <td>USGS</td>\n",
       "      <td>6711565</td>\n",
       "      <td>2021-03-13 11:30</td>\n",
       "      <td>MST</td>\n",
       "      <td>42.6</td>\n",
       "      <td>6.7</td>\n",
       "      <td>9.9</td>\n",
       "      <td>7.9</td>\n",
       "    </tr>\n",
       "    <tr>\n",
       "      <th>143</th>\n",
       "      <td>USGS</td>\n",
       "      <td>6711565</td>\n",
       "      <td>2021-03-13 11:45</td>\n",
       "      <td>MST</td>\n",
       "      <td>42.6</td>\n",
       "      <td>6.7</td>\n",
       "      <td>10.2</td>\n",
       "      <td>7.9</td>\n",
       "    </tr>\n",
       "    <tr>\n",
       "      <th>144</th>\n",
       "      <td>USGS</td>\n",
       "      <td>6711565</td>\n",
       "      <td>2021-03-13 12:00</td>\n",
       "      <td>MST</td>\n",
       "      <td>46.5</td>\n",
       "      <td>6.7</td>\n",
       "      <td>10.3</td>\n",
       "      <td>7.9</td>\n",
       "    </tr>\n",
       "    <tr>\n",
       "      <th>145</th>\n",
       "      <td>USGS</td>\n",
       "      <td>6711565</td>\n",
       "      <td>2021-03-13 12:15</td>\n",
       "      <td>MST</td>\n",
       "      <td>NaN</td>\n",
       "      <td>6.6</td>\n",
       "      <td>10.3</td>\n",
       "      <td>7.9</td>\n",
       "    </tr>\n",
       "  </tbody>\n",
       "</table>\n",
       "<p>146 rows × 8 columns</p>\n",
       "</div>"
      ],
      "text/plain": [
       "    agency_cd  site_no          datetime tz_cd  Discharge  Temperature  \\\n",
       "0        USGS  6711565  2021-03-12 00:00   MST       44.5          8.1   \n",
       "1        USGS  6711565  2021-03-12 00:15   MST       44.5          8.1   \n",
       "2        USGS  6711565  2021-03-12 00:30   MST       44.5          8.1   \n",
       "3        USGS  6711565  2021-03-12 00:45   MST       44.5          8.1   \n",
       "4        USGS  6711565  2021-03-12 01:00   MST       44.5          8.1   \n",
       "..        ...      ...               ...   ...        ...          ...   \n",
       "141      USGS  6711565  2021-03-13 11:15   MST       42.6          6.7   \n",
       "142      USGS  6711565  2021-03-13 11:30   MST       42.6          6.7   \n",
       "143      USGS  6711565  2021-03-13 11:45   MST       42.6          6.7   \n",
       "144      USGS  6711565  2021-03-13 12:00   MST       46.5          6.7   \n",
       "145      USGS  6711565  2021-03-13 12:15   MST        NaN          6.6   \n",
       "\n",
       "     Dissolved oxygen   pH  \n",
       "0                 8.3  8.1  \n",
       "1                 8.2  8.1  \n",
       "2                 8.2  8.1  \n",
       "3                 8.1  8.1  \n",
       "4                 8.1  8.1  \n",
       "..                ...  ...  \n",
       "141               9.8  7.9  \n",
       "142               9.9  7.9  \n",
       "143              10.2  7.9  \n",
       "144              10.3  7.9  \n",
       "145              10.3  7.9  \n",
       "\n",
       "[146 rows x 8 columns]"
      ]
     },
     "execution_count": 4,
     "metadata": {},
     "output_type": "execute_result"
    }
   ],
   "source": [
    "gauge_data"
   ]
  },
  {
   "cell_type": "markdown",
   "id": "22461798",
   "metadata": {},
   "source": [
    ":::{note} A Note about using `pandas`\n",
    "\n",
    "You get data from a single column using the following notation:\n",
    "\n",
    "`gauge_data['Discharge']`\n",
    "\n",
    "This will be helpful while plotting.\n",
    "\n",
    ":::"
   ]
  },
  {
   "cell_type": "markdown",
   "id": "237bb865",
   "metadata": {},
   "source": [
    "## 2) Plotting a time series"
   ]
  },
  {
   "cell_type": "code",
   "execution_count": 6,
   "id": "18307e34",
   "metadata": {},
   "outputs": [],
   "source": [
    "import matplotlib.pyplot as plt"
   ]
  },
  {
   "cell_type": "markdown",
   "id": "6862017c",
   "metadata": {},
   "source": [
    "There are two plots below.  Plot 1 is the simpliest way to make a plot.  Because with my data I have a lot of x axis labels and they are over lapping eachother in plot 2 I add some code to format my x labels to make them nicer.  For your data I would start with the technique in Plot 1 and only use the Plot 2 axis labels code if your x axis labels are hard to read.\n",
    "\n",
    "The plotting methods will work for lots of types of python data (i.e. anything that is an `numpy` array)."
   ]
  },
  {
   "cell_type": "code",
   "execution_count": 7,
   "id": "11457c2e",
   "metadata": {},
   "outputs": [
    {
     "data": {
      "text/plain": [
       "[<matplotlib.lines.Line2D at 0x28397dcb5b0>]"
      ]
     },
     "execution_count": 7,
     "metadata": {},
     "output_type": "execute_result"
    },
    {
     "data": {
      "image/png": "[encoded data removed]",
      "text/plain": [
       "<Figure size 432x288 with 1 Axes>"
      ]
     },
     "metadata": {
      "needs_background": "light"
     },
     "output_type": "display_data"
    }
   ],
   "source": [
    "# Plot 1\n",
    "# inputs: x values, y values\n",
    "plt.plot(gauge_data['datetime'], gauge_data['Discharge'])"
   ]
  },
  {
   "cell_type": "code",
   "execution_count": 8,
   "id": "8020082f",
   "metadata": {},
   "outputs": [
    {
     "data": {
      "image/png": "[encoded data removed]",
      "text/plain": [
       "<Figure size 432x288 with 1 Axes>"
      ]
     },
     "metadata": {
      "needs_background": "light"
     },
     "output_type": "display_data"
    }
   ],
   "source": [
    "# Plot 2\n",
    "# inputs: x values, y values\n",
    "plt.plot(gauge_data['datetime'], gauge_data['Discharge'])\n",
    "\n",
    "ax = plt.gca()\n",
    "ax.xaxis.set_major_locator(plt.MaxNLocator(5))  # Use only 4 labels\n",
    "ax.tick_params(axis='x', labelrotation = 80)  # Rotate the labels so the are more vertical"
   ]
  },
  {
   "cell_type": "markdown",
   "id": "fd877fd0",
   "metadata": {},
   "source": [
    "### Optional Extra: A pandas-specific way to plot\n",
    "\n",
    "This plotting method is faster but only works for pandas dataframes.  The benefit is that you get the lagend automatically."
   ]
  },
  {
   "cell_type": "code",
   "execution_count": 9,
   "id": "4d22aca8",
   "metadata": {},
   "outputs": [
    {
     "data": {
      "text/plain": [
       "<AxesSubplot:xlabel='datetime'>"
      ]
     },
     "execution_count": 9,
     "metadata": {},
     "output_type": "execute_result"
    },
    {
     "data": {
      "image/png": "[encoded data removed]",
      "text/plain": [
       "<Figure size 432x288 with 1 Axes>"
      ]
     },
     "metadata": {
      "needs_background": "light"
     },
     "output_type": "display_data"
    }
   ],
   "source": [
    "# Plot 1\n",
    "# inputs: x column name, y column name\n",
    "gauge_data.plot('datetime', 'Discharge')"
   ]
  },
  {
   "cell_type": "code",
   "execution_count": 10,
   "id": "954047b2",
   "metadata": {},
   "outputs": [
    {
     "data": {
      "image/png": "[encoded data removed]",
      "text/plain": [
       "<Figure size 432x288 with 1 Axes>"
      ]
     },
     "metadata": {
      "needs_background": "light"
     },
     "output_type": "display_data"
    }
   ],
   "source": [
    "# Plot 2\n",
    "# inputs: x column name, y column name\n",
    "gauge_data.plot('datetime', 'Discharge')\n",
    "\n",
    "ax = plt.gca()\n",
    "ax.xaxis.set_major_locator(plt.MaxNLocator(5))  # Use only 4 labels\n",
    "ax.tick_params(axis='x', labelrotation = 80)  # Rotate the labels so the are more vertical"
   ]
  },
  {
   "cell_type": "markdown",
   "id": "57ff586c",
   "metadata": {},
   "source": [
    "## 3) Cumulative sum"
   ]
  },
  {
   "cell_type": "markdown",
   "id": "9d7cacca",
   "metadata": {},
   "source": [
    "###  Subtracting the mean value as a baseline\n",
    "\n",
    "In Raphe's examples the mean value of a large value was used as the baseline and then used to compute the anomaly of each value.  Here we use the mean of our dataset (even though the record isn't that long, hopefully it conveys the idea)."
   ]
  },
  {
   "cell_type": "code",
   "execution_count": 11,
   "id": "52c2cea3",
   "metadata": {},
   "outputs": [],
   "source": [
    "baseline_discharge = gauge_data['Discharge'].mean()"
   ]
  },
  {
   "cell_type": "code",
   "execution_count": 12,
   "id": "394a02f7",
   "metadata": {},
   "outputs": [],
   "source": [
    "gauge_data['discharge_anomaly'] = gauge_data['Discharge'] - baseline_discharge"
   ]
  },
  {
   "cell_type": "code",
   "execution_count": 13,
   "id": "4ee9adb6",
   "metadata": {},
   "outputs": [
    {
     "data": {
      "text/plain": [
       "0     -0.304138\n",
       "1     -0.304138\n",
       "2     -0.304138\n",
       "3     -0.304138\n",
       "4     -0.304138\n",
       "         ...   \n",
       "141   -2.204138\n",
       "142   -2.204138\n",
       "143   -2.204138\n",
       "144    1.695862\n",
       "145         NaN\n",
       "Name: discharge_anomaly, Length: 146, dtype: float64"
      ]
     },
     "execution_count": 13,
     "metadata": {},
     "output_type": "execute_result"
    }
   ],
   "source": [
    "gauge_data['discharge_anomaly']"
   ]
  },
  {
   "cell_type": "markdown",
   "id": "05543be7",
   "metadata": {},
   "source": [
    "### Compute the cumulative sum"
   ]
  },
  {
   "cell_type": "code",
   "execution_count": 14,
   "id": "95b7553d",
   "metadata": {},
   "outputs": [],
   "source": [
    "import numpy as np"
   ]
  },
  {
   "cell_type": "code",
   "execution_count": 15,
   "id": "f88a5d3f",
   "metadata": {},
   "outputs": [],
   "source": [
    "# inputs: the data variable you want to sum\n",
    "discharge_csum = np.cumsum(gauge_data['discharge_anomaly'])"
   ]
  },
  {
   "cell_type": "code",
   "execution_count": 16,
   "id": "dbf5c8fe",
   "metadata": {},
   "outputs": [
    {
     "data": {
      "text/plain": [
       "0     -3.041379e-01\n",
       "1     -6.082759e-01\n",
       "2     -9.124138e-01\n",
       "3     -1.216552e+00\n",
       "4     -1.520690e+00\n",
       "           ...     \n",
       "141    2.712414e+00\n",
       "142    5.082759e-01\n",
       "143   -1.695862e+00\n",
       "144   -2.003731e-12\n",
       "145             NaN\n",
       "Name: discharge_anomaly, Length: 146, dtype: float64"
      ]
     },
     "execution_count": 16,
     "metadata": {},
     "output_type": "execute_result"
    }
   ],
   "source": [
    "discharge_csum"
   ]
  },
  {
   "cell_type": "markdown",
   "id": "475938c9",
   "metadata": {},
   "source": [
    "### Plot the cumulative sum"
   ]
  },
  {
   "cell_type": "code",
   "execution_count": 17,
   "id": "46e62184",
   "metadata": {},
   "outputs": [],
   "source": [
    "import matplotlib.pyplot as plt"
   ]
  },
  {
   "cell_type": "code",
   "execution_count": 18,
   "id": "e1f5d18c",
   "metadata": {},
   "outputs": [
    {
     "data": {
      "image/png": "[encoded data removed]",
      "text/plain": [
       "<Figure size 432x288 with 1 Axes>"
      ]
     },
     "metadata": {
      "needs_background": "light"
     },
     "output_type": "display_data"
    }
   ],
   "source": [
    "plt.title('Cumulative Sum Discharge')\n",
    "# inputs: x values, y values\n",
    "plt.plot(gauge_data['datetime'], discharge_csum)\n",
    "\n",
    "ax = plt.gca()\n",
    "ax.xaxis.set_major_locator(plt.MaxNLocator(5))  # Use only 4 labels\n",
    "ax.tick_params(axis='x', labelrotation = 80)  # Rotate the labels so the are more vertical"
   ]
  },
  {
   "cell_type": "markdown",
   "id": "d8c615fd",
   "metadata": {},
   "source": [
    "## Kendall's Tau\n",
    "\n",
    "[docs page](https://docs.scipy.org/doc/scipy/reference/generated/scipy.stats.kendalltau.html)"
   ]
  },
  {
   "cell_type": "code",
   "execution_count": 19,
   "id": "7d667cdb",
   "metadata": {},
   "outputs": [],
   "source": [
    "from scipy import stats"
   ]
  },
  {
   "cell_type": "code",
   "execution_count": 20,
   "id": "1186364c",
   "metadata": {},
   "outputs": [
    {
     "name": "stdout",
     "output_type": "stream",
     "text": [
      "tau:  -0.5386593699749752  p_value:  1.19439882810134e-14\n"
     ]
    }
   ],
   "source": [
    "# inputs: variable 1, variable 2, (OPTIONAL nan_policy if your dataset has nan values)\n",
    "tau, p_value = stats.kendalltau(gauge_data['Discharge'], gauge_data['pH'], nan_policy='omit')\n",
    "print('tau: ', tau, ' p_value: ', p_value)"
   ]
  },
  {
   "cell_type": "markdown",
   "id": "9df0386f",
   "metadata": {},
   "source": [
    "### Scatter plot of the Discharge and pH"
   ]
  },
  {
   "cell_type": "code",
   "execution_count": 21,
   "id": "e33c598c",
   "metadata": {},
   "outputs": [
    {
     "data": {
      "text/plain": [
       "Text(0.5, 1.0, 'pH vs. Discharge')"
      ]
     },
     "execution_count": 21,
     "metadata": {},
     "output_type": "execute_result"
    },
    {
     "data": {
      "image/png": "[encoded data removed]",
      "text/plain": [
       "<Figure size 432x288 with 1 Axes>"
      ]
     },
     "metadata": {
      "needs_background": "light"
     },
     "output_type": "display_data"
    }
   ],
   "source": [
    "gauge_data.plot.scatter('Discharge', 'pH')\n",
    "plt.title('pH vs. Discharge')"
   ]
  },
  {
   "cell_type": "markdown",
   "id": "f4ab8c5c",
   "metadata": {},
   "source": [
    "## Theil Sen Estimator\n",
    "\n",
    "\n",
    "[docs page](https://docs.scipy.org/doc/scipy/reference/generated/scipy.stats.theilslopes.html#scipy.stats.theilslopes)"
   ]
  },
  {
   "cell_type": "code",
   "execution_count": 22,
   "id": "c6c60b2c",
   "metadata": {},
   "outputs": [],
   "source": [
    "from scipy import stats"
   ]
  },
  {
   "cell_type": "markdown",
   "id": "11ac8483",
   "metadata": {},
   "source": [
    "**If needed** drop rows with nans"
   ]
  },
  {
   "cell_type": "code",
   "execution_count": 23,
   "id": "531e7db0",
   "metadata": {},
   "outputs": [],
   "source": [
    "gauge_data = gauge_data.dropna(subset=['Discharge', 'pH'])"
   ]
  },
  {
   "cell_type": "markdown",
   "id": "14cac991",
   "metadata": {},
   "source": [
    "Compute the slope values for the best fit line and confidence interval lines.\n",
    "\n",
    "Output `res` returns four values:\n",
    "1. slope of the Theil line\n",
    "2. intercept of the Theil line\n",
    "3. slope of lower bound of confidence on the Theil line\n",
    "4. slope of upper bound of confidence on the Theil line"
   ]
  },
  {
   "cell_type": "code",
   "execution_count": 24,
   "id": "8465b8a6",
   "metadata": {},
   "outputs": [
    {
     "name": "stdout",
     "output_type": "stream",
     "text": [
      "(-0.02702702702702691, 9.202702702702698, -0.03636363636363624, -0.02564102564102556)\n"
     ]
    }
   ],
   "source": [
    "# inputs are: y variable, x variable, confidence interval (value between 0 and 1)\n",
    "res = stats.theilslopes(gauge_data['pH'], gauge_data['Discharge'], 0.90)\n",
    "# Here I used the index as a replacement for time\n",
    "print(res)"
   ]
  },
  {
   "cell_type": "markdown",
   "id": "dfb01334",
   "metadata": {},
   "source": [
    "### Plot the lines"
   ]
  },
  {
   "cell_type": "code",
   "execution_count": 25,
   "id": "4df8d9db",
   "metadata": {},
   "outputs": [],
   "source": [
    "import matplotlib.pyplot as plt"
   ]
  },
  {
   "cell_type": "markdown",
   "id": "976dc188",
   "metadata": {},
   "source": [
    "Use the slope and y intercept values from the `stats.theilslopes()` method and plot the lines using the form _y = b + m*x_"
   ]
  },
  {
   "cell_type": "code",
   "execution_count": 26,
   "id": "5ae2b448",
   "metadata": {},
   "outputs": [
    {
     "data": {
      "text/plain": [
       "[<matplotlib.lines.Line2D at 0x28399fac250>]"
      ]
     },
     "execution_count": 26,
     "metadata": {},
     "output_type": "execute_result"
    },
    {
     "data": {
      "image/png": "[encoded data removed]",
      "text/plain": [
       "<Figure size 432x288 with 1 Axes>"
      ]
     },
     "metadata": {
      "needs_background": "light"
     },
     "output_type": "display_data"
    }
   ],
   "source": [
    "# Inputs for all plots: x values, y values, (optional color preferences)\n",
    "# base scatter plot\n",
    "plt.scatter(gauge_data['Discharge'], gauge_data['pH'])\n",
    "# Theil slope\n",
    "plt.plot(gauge_data['Discharge'], res[1] + res[0]*gauge_data['Discharge'], color='red')\n",
    "# lower confidence line\n",
    "plt.plot(gauge_data['Discharge'], res[1] + res[2]*gauge_data['Discharge'], '--k')\n",
    "# upper confidence line\n",
    "plt.plot(gauge_data['Discharge'], res[1] + res[3]*gauge_data['Discharge'], '--k')"
   ]
  },
  {
   "cell_type": "markdown",
   "id": "243861cf",
   "metadata": {},
   "source": [
    "More color preferences for the plot are listed in the \"Notes\" section of the [`plt.plot` docs](https://matplotlib.org/stable/api/_as_gen/matplotlib.pyplot.plot.html)."
   ]
  },
  {
   "cell_type": "code",
   "execution_count": null,
   "id": "9f1d5995",
   "metadata": {},
   "outputs": [],
   "source": []
  }
 ],
 "metadata": {
  "kernelspec": {
   "display_name": "Python 3 (ipykernel)",
   "language": "python",
   "name": "python3"
  },
  "language_info": {
   "codemirror_mode": {
    "name": "ipython",
    "version": 3
   },
   "file_extension": ".py",
   "mimetype": "text/x-python",
   "name": "python",
   "nbconvert_exporter": "python",
   "pygments_lexer": "ipython3",
   "version": "3.9.5"
  }
 },
 "nbformat": 4,
 "nbformat_minor": 5
}
