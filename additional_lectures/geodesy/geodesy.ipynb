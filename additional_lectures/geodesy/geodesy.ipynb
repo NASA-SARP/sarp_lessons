{
 "cells": [
  {
   "cell_type": "markdown",
   "id": "d93360da",
   "metadata": {},
   "source": [
    "## Geodesy"
   ]
  },
  {
   "cell_type": "markdown",
   "id": "428cbdde",
   "metadata": {},
   "source": [
    "**geodesy** is the science of understanding and measureing the earth's shape.  There are people who spend their whole careers as geodesists.  Geodesy and mapping is an integral part of **georeferencing** your data - or placing your data in space.  Without georeferencing raster datasets are just pretty images that could have been taken anywhere in the world, or not on this world at all.\n",
    "\n",
    "The three major concepts we will be distinguishing between today are:\n",
    "1. datums\n",
    "2. map projections\n",
    "3. coordinate reference systems"
   ]
  },
  {
   "cell_type": "markdown",
   "id": "5479d260",
   "metadata": {},
   "source": [
    "### Ellipsoids and Datums\n",
    "\n",
    "Geodesists have defined the shape of an ellipsoid which is believed to best align with the shape of the earth.  The mostly commonly used ellisoid is the WGS 84 ellipsoid which was defined in 1984. In addition to defining the size of the ellipsoid we also need to define where the center of the ellipsoid should sit so that it is acurrate for as many places on earth at once.  Defining where to put the ellipsoid is called the **datum**.\n",
    "\n",
    "![Datums](./images/datums.png)"
   ]
  },
  {
   "cell_type": "markdown",
   "id": "8a661586",
   "metadata": {},
   "source": [
    "Together the ellipsoid and the datum become the mathematical definition of the earth's surface."
   ]
  },
  {
   "cell_type": "markdown",
   "id": "bffb328e",
   "metadata": {},
   "source": [
    "### Map Projections\n",
    "\n",
    "The ellipsoid is a 3D shape.  Map projections are the result of taking a 3D shape and turning it into being 2D.\n",
    "\n",
    "<img src=\"https://tomroth.com.au/projections/map-projections.png\" width=500>"
   ]
  },
  {
   "cell_type": "markdown",
   "id": "7898c1eb",
   "metadata": {},
   "source": [
    "There are [an insane number of ways to do this](https://xkcd.com/977/) and they are grouped into different families.  The most important takeaway is just to know that when you convert a 3D object into a 2D you aren't going to be able to be accurate in every aspect.  Something has to sacrifice.  It might be relative size or it might be straight lines but everything can't be perfect on a given map projection.\n",
    "\n",
    "![Projection Distortion](./images/projection_distortion.png)"
   ]
  },
  {
   "cell_type": "markdown",
   "id": "ddea5aa1",
   "metadata": {},
   "source": [
    "### Coordinate Reference Systems (CRS)\n",
    "\n",
    "Once you lay out your 2d surface representing the earth you next need to label the map so you can refer to points on that surface.  The system you uses for labelling points on the map is a **coordinate reference system (crs)**.\n",
    "\n",
    "CRS fit into two main categories:\n",
    "* units of degrees (ex. latitude and longitude) - geographic CRS\n",
    "* units of distance (ex. meters, kilometers, miles, ...) - projected CRS\n",
    "\n",
    "The units of a CRS will be a piece of information that you use frequently when working with spatial data."
   ]
  },
  {
   "cell_type": "markdown",
   "id": "6aa85529",
   "metadata": {},
   "source": [
    ":::{admonition} 📝 Check your understanding\n",
    ":class: tip\n",
    "\n",
    "What purpose does each of the three elements of geodesy serve?\n",
    "\n",
    "1. Ellipsoid + Datum\n",
    "2. Map projection\n",
    "3. Coordinate Reference System\n",
    "\n",
    ":::"
   ]
  },
  {
   "cell_type": "markdown",
   "id": "922cbe0c",
   "metadata": {},
   "source": [
    "### Geodesy in Code: EPSG"
   ]
  },
  {
   "cell_type": "markdown",
   "id": "e106a148",
   "metadata": {},
   "source": [
    "One common way to notate coordinate reference systems and map projections is with EPSG codes.  These codes assign an integer number to many of the common map projection/crs combinations.\n",
    "\n",
    "Really common projections include:\n",
    "\n",
    "EPSG:4326 - what most people think of as \"regular\" lat/lon coordinates\n",
    "EPSG:3857 - Web mercator, the projection used by Google maps and most web maps.  The de facto standard of web mapping."
   ]
  },
  {
   "cell_type": "markdown",
   "id": "d813eff8",
   "metadata": {},
   "source": [
    "## UTM Grids"
   ]
  },
  {
   "cell_type": "markdown",
   "id": "5a072a55",
   "metadata": {},
   "source": [
    "The Universal Transverse Mercator (UTM) projected coordinate system that covers the entire earth.  The system is broken up into 60 zones, each 6 degrees longitude wide, that span from the south to the north pole."
   ]
  },
  {
   "cell_type": "code",
   "execution_count": null,
   "id": "01bc3978",
   "metadata": {},
   "outputs": [],
   "source": [
    "from IPython.display import Image\n",
    "from IPython.core.display import HTML "
   ]
  },
  {
   "cell_type": "code",
   "execution_count": null,
   "id": "e7014c06",
   "metadata": {},
   "outputs": [
    {
     "data": {
      "text/html": [
       "<img src=\"https://gisgeography.com/wp-content/uploads/2016/05/UTM-Zones-Globe-2.png\" width=\"330\"/>"
      ],
      "text/plain": [
       "<IPython.core.display.Image object>"
      ]
     },
     "metadata": {},
     "output_type": "display_data"
    }
   ],
   "source": [
    "# UTM grid zones\n",
    "Image(url= \"https://gisgeography.com/wp-content/uploads/2016/05/UTM-Zones-Globe-2.png\", width=330)"
   ]
  },
  {
   "cell_type": "markdown",
   "id": "53b6dedc",
   "metadata": {},
   "source": [
    "Notice in the image how the area covered by each zone is widest at the equator and gets skinnier towards the poles."
   ]
  },
  {
   "cell_type": "markdown",
   "id": "987668ef",
   "metadata": {},
   "source": [
    "### Easting and Northing"
   ]
  },
  {
   "cell_type": "markdown",
   "id": "d1ed8a62",
   "metadata": {},
   "source": [
    "Instead of latitude and longitude the UTM grid system uses a northing and an easting, respectively.\n",
    "- Longtude -> Eastings.  Eastings are measured from the central meridian, which has a value of 500,000m.\n",
    "- Latitude -> Northings.  Northings are measured from the from the equator, which has a value of 0 for the northern hemisphere and 10,000,000m for the southern hemisphere.\n",
    "\n",
    "Some benefits of UTM:\n",
    "- All values of eastings/northings are positive, so there are no negative numbers nor is there an East-West designation\n",
    "- constant distance relationship anywhere on the map"
   ]
  },
  {
   "cell_type": "code",
   "execution_count": null,
   "id": "8d8cdd36",
   "metadata": {
    "scrolled": true
   },
   "outputs": [
    {
     "data": {
      "text/html": [
       "<img src=\"https://www.maptools.com/images/28ad74e.png\" width=\"360\"/>"
      ],
      "text/plain": [
       "<IPython.core.display.Image object>"
      ]
     },
     "metadata": {},
     "output_type": "display_data"
    }
   ],
   "source": [
    "Image(url= \"https://www.maptools.com/images/28ad74e.png\", width=360)"
   ]
  },
  {
   "cell_type": "markdown",
   "id": "6fdfe960",
   "metadata": {},
   "source": [
    "The x direction should only range from about 0 to 1,000,000 where as the y direction could range from 0 to about 10,000,000."
   ]
  },
  {
   "cell_type": "markdown",
   "id": "ae9dbf1b",
   "metadata": {},
   "source": [
    ":::{admonition} 📝 Check your understanding\n",
    ":class: tip\n",
    "\n",
    "What is the set of coordinates corresponding to the exact center of a UTM grid?\n",
    "\n",
    ":::"
   ]
  },
  {
   "cell_type": "markdown",
   "id": "3a34cf18",
   "metadata": {},
   "source": [
    "### EPSG codes for UTM grids"
   ]
  },
  {
   "cell_type": "markdown",
   "id": "7431b5d6",
   "metadata": {},
   "source": [
    "Each grid has its own EPSG code, meaning there are 120 total EPSG codes total for UTM grids.  Luckily there is an order to how these codes are assigned.\n",
    "\n",
    "\n",
    "* northern hemisphere - 326{zone number}\n",
    "* southern hemisphere - 327(zone number}\n"
   ]
  },
  {
   "cell_type": "markdown",
   "id": "0af86dcd",
   "metadata": {},
   "source": [
    "To visually reference UTM grid zone numbers I use the image from [this website](http://www.dmap.co.uk/utmworld.htm) as a reference:"
   ]
  },
  {
   "cell_type": "code",
   "execution_count": null,
   "id": "ac39dbd8",
   "metadata": {},
   "outputs": [
    {
     "data": {
      "text/html": [
       "<img src=\"http://www.dmap.co.uk/utmworld.gif\"/>"
      ],
      "text/plain": [
       "<IPython.core.display.Image object>"
      ]
     },
     "metadata": {},
     "output_type": "display_data"
    }
   ],
   "source": [
    "# UTM grid zones\n",
    "Image(url= \"http://www.dmap.co.uk/utmworld.gif\")"
   ]
  },
  {
   "cell_type": "markdown",
   "id": "76649c0a",
   "metadata": {},
   "source": [
    "Another source to referenece is epsg.io.  Type the name of the reference system you are interested in to find information or view it on a map. Ex. https://epsg.io/32630 or https://epsg.io/4326"
   ]
  },
  {
   "cell_type": "markdown",
   "id": "d84bff50",
   "metadata": {},
   "source": [
    ":::{admonition} 📝 Check your understanding\n",
    ":class: tip\n",
    "\n",
    "What is the EPSG code for the UTM zone covering most of Ireland?\n",
    "\n",
    ":::"
   ]
  }
 ],
 "metadata": {
  "language_info": {
   "name": "python"
  },
  "orig_nbformat": 4
 },
 "nbformat": 4,
 "nbformat_minor": 2
}
