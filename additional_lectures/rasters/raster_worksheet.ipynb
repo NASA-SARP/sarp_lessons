{
 "cells": [
  {
   "cell_type": "markdown",
   "id": "54ad462f-4439-49f4-958f-93ff3ab46e6d",
   "metadata": {
    "tags": []
   },
   "source": [
    "## 2D Example\n",
    "\n",
    "### Create the array\n",
    "Create an array that is the same shape as the array on the worksheet."
   ]
  },
  {
   "cell_type": "code",
   "execution_count": 14,
   "id": "4d58dfec-fed0-491e-ac5d-d36ccbe1b894",
   "metadata": {},
   "outputs": [],
   "source": [
    "import numpy as np"
   ]
  },
  {
   "cell_type": "code",
   "execution_count": 3,
   "id": "092d3d41-1a08-41c8-ad5f-5f95ea0a8ad6",
   "metadata": {},
   "outputs": [
    {
     "data": {
      "text/plain": [
       "array([[ 1,  5,  9],\n",
       "       [ 3,  7, 11]])"
      ]
     },
     "execution_count": 3,
     "metadata": {},
     "output_type": "execute_result"
    }
   ],
   "source": [
    "# nope.\n",
    "np.array([[1,5,9], [3,7,11]])"
   ]
  },
  {
   "cell_type": "code",
   "execution_count": 7,
   "id": "d84bb62e-82f9-4da2-972c-cc8a11ffe5e3",
   "metadata": {},
   "outputs": [
    {
     "name": "stdout",
     "output_type": "stream",
     "text": [
      "[[ 1  3]\n",
      " [ 5  7]\n",
      " [ 9 11]]\n"
     ]
    }
   ],
   "source": [
    "array = np.array([[1,3], [5,7], [9,11]])\n",
    "print(array)"
   ]
  },
  {
   "cell_type": "code",
   "execution_count": 6,
   "id": "5223e237-3ee5-4cc3-ae40-f932468f818b",
   "metadata": {},
   "outputs": [
    {
     "data": {
      "text/plain": [
       "(3, 2)"
      ]
     },
     "execution_count": 6,
     "metadata": {},
     "output_type": "execute_result"
    }
   ],
   "source": [
    "array.shape"
   ]
  },
  {
   "cell_type": "markdown",
   "id": "b3f925ac-8b0c-468f-afda-2bc004bf349c",
   "metadata": {},
   "source": [
    "When we define arrays with lists the innermost dimension is 0 (rows)"
   ]
  },
  {
   "cell_type": "markdown",
   "id": "3908b457-4560-43a1-bc34-4cc6b9f4d27e",
   "metadata": {},
   "source": [
    "### Index the array"
   ]
  },
  {
   "cell_type": "code",
   "execution_count": 11,
   "id": "4edb1f2d-e8ef-4da0-82b3-77f23f3f38b0",
   "metadata": {},
   "outputs": [
    {
     "data": {
      "text/plain": [
       "array([1, 5, 9])"
      ]
     },
     "execution_count": 11,
     "metadata": {},
     "output_type": "execute_result"
    }
   ],
   "source": [
    "array[:,0]"
   ]
  },
  {
   "cell_type": "markdown",
   "id": "41dccda9-ca94-463f-8b24-f56b8e4c89d6",
   "metadata": {},
   "source": [
    "### Aggregations over an axis"
   ]
  },
  {
   "cell_type": "code",
   "execution_count": 12,
   "id": "4fafb2bd-4ce7-4573-ae67-4850847569b2",
   "metadata": {},
   "outputs": [
    {
     "data": {
      "text/plain": [
       "array([ 9, 11])"
      ]
     },
     "execution_count": 12,
     "metadata": {},
     "output_type": "execute_result"
    }
   ],
   "source": [
    "array.max(axis=0)"
   ]
  },
  {
   "cell_type": "code",
   "execution_count": 13,
   "id": "141d407f-dbe8-4d4b-8ff1-5f01e6959f04",
   "metadata": {},
   "outputs": [
    {
     "data": {
      "text/plain": [
       "array([ 3,  7, 11])"
      ]
     },
     "execution_count": 13,
     "metadata": {},
     "output_type": "execute_result"
    }
   ],
   "source": [
    "array.max(axis=1)"
   ]
  },
  {
   "cell_type": "markdown",
   "id": "46688f7f-65cc-480a-94fb-aa22f6ae9d52",
   "metadata": {},
   "source": [
    "## 3D Example\n",
    "\n",
    "### Create the array"
   ]
  },
  {
   "cell_type": "code",
   "execution_count": 18,
   "id": "3c1e41af-0c0d-489d-b571-22a6047cdc81",
   "metadata": {},
   "outputs": [
    {
     "name": "stdout",
     "output_type": "stream",
     "text": [
      "[[[ 1  3]\n",
      "  [ 5  7]\n",
      "  [ 9 11]]\n",
      "\n",
      " [[ 2  4]\n",
      "  [ 6  8]\n",
      "  [10 12]]]\n"
     ]
    }
   ],
   "source": [
    "array_3d = np.array([[[1,3], [5,7], [9,11]], [[2,4], [6,8], [10,12]]])\n",
    "print(array_3d)"
   ]
  },
  {
   "cell_type": "code",
   "execution_count": 20,
   "id": "2880ea8b-be1e-4a22-8a10-47587491fc20",
   "metadata": {},
   "outputs": [
    {
     "ename": "IndexError",
     "evalue": "index 2 is out of bounds for axis 0 with size 2",
     "output_type": "error",
     "traceback": [
      "\u001b[0;31m---------------------------------------------------------------------------\u001b[0m",
      "\u001b[0;31mIndexError\u001b[0m                                Traceback (most recent call last)",
      "\u001b[0;32m/var/folders/f8/rh42xb3d1tnbw2bxsjwgym1c0000gn/T/ipykernel_5842/3566660304.py\u001b[0m in \u001b[0;36m<module>\u001b[0;34m\u001b[0m\n\u001b[0;32m----> 1\u001b[0;31m \u001b[0marray_3d\u001b[0m\u001b[0;34m[\u001b[0m\u001b[0;36m2\u001b[0m\u001b[0;34m,\u001b[0m\u001b[0;36m1\u001b[0m\u001b[0;34m]\u001b[0m\u001b[0;34m\u001b[0m\u001b[0;34m\u001b[0m\u001b[0m\n\u001b[0m",
      "\u001b[0;31mIndexError\u001b[0m: index 2 is out of bounds for axis 0 with size 2"
     ]
    }
   ],
   "source": [
    "array_3d[2,1]"
   ]
  },
  {
   "cell_type": "code",
   "execution_count": 21,
   "id": "156ed4ce-7bed-464e-9d4c-b52fa1cdf594",
   "metadata": {},
   "outputs": [
    {
     "data": {
      "text/plain": [
       "11"
      ]
     },
     "execution_count": 21,
     "metadata": {},
     "output_type": "execute_result"
    }
   ],
   "source": [
    "array_3d[0,2,1]"
   ]
  },
  {
   "cell_type": "code",
   "execution_count": 24,
   "id": "d7fcf4b8-120f-418c-9ec0-3cbf4972b291",
   "metadata": {},
   "outputs": [
    {
     "data": {
      "text/plain": [
       "array([[ 1,  3],\n",
       "       [ 5,  7],\n",
       "       [ 9, 11]])"
      ]
     },
     "execution_count": 24,
     "metadata": {},
     "output_type": "execute_result"
    }
   ],
   "source": [
    "array_3d[0]"
   ]
  },
  {
   "cell_type": "code",
   "execution_count": 26,
   "id": "424e03e6-3550-45b2-b81a-2cb94dc66f56",
   "metadata": {},
   "outputs": [
    {
     "data": {
      "text/plain": [
       "array([1, 5, 9])"
      ]
     },
     "execution_count": 26,
     "metadata": {},
     "output_type": "execute_result"
    }
   ],
   "source": [
    "array_3d[0,:,0]"
   ]
  },
  {
   "cell_type": "code",
   "execution_count": 28,
   "id": "d47f8d1d-6ca4-4c4b-9572-65b6fb35aded",
   "metadata": {},
   "outputs": [
    {
     "data": {
      "text/plain": [
       "array([[ 1.5,  3.5],\n",
       "       [ 5.5,  7.5],\n",
       "       [ 9.5, 11.5]])"
      ]
     },
     "execution_count": 28,
     "metadata": {},
     "output_type": "execute_result"
    }
   ],
   "source": [
    "array_3d.mean(axis=0)"
   ]
  },
  {
   "cell_type": "markdown",
   "id": "fe9c0b49-9c37-49fd-b424-44889607fd80",
   "metadata": {},
   "source": [
    "### 📝 Checking In\n",
    "\n",
    "Consider an array of the following form called `example_array`:\n",
    "\n",
    "|   |   |   |  |  |\n",
    "|---|---|---|---|---|\n",
    "| 1  | 2  |3   | 4 | 5 |\n",
    "|  6 |  7 | 8 | 9 | 10 |\n",
    "| 11 | 12 | 13 | 14 | 15 |\n",
    "| 16 | 17 | 18 | 19 | 20 |\n",
    "\n",
    "1. What is the value at index [0, 2]?\n",
    "1. What is the result of `example_array[4]`?\n",
    "2. What is the result of `example_array[1:3, 2]`?\n",
    "1. Give the index to return the value 15."
   ]
  },
  {
   "cell_type": "code",
   "execution_count": null,
   "id": "aabef5cf",
   "metadata": {},
   "outputs": [],
   "source": []
  }
 ],
 "metadata": {
  "kernelspec": {
   "display_name": "Python 3 (ipykernel)",
   "language": "python",
   "name": "python3"
  },
  "language_info": {
   "codemirror_mode": {
    "name": "ipython",
    "version": 3
   },
   "file_extension": ".py",
   "mimetype": "text/x-python",
   "name": "python",
   "nbconvert_exporter": "python",
   "pygments_lexer": "ipython3",
   "version": "3.9.7"
  }
 },
 "nbformat": 4,
 "nbformat_minor": 5
}
