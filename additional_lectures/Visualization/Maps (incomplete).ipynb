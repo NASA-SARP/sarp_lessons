{
 "cells": [
  {
   "cell_type": "markdown",
   "id": "031ac27e",
   "metadata": {},
   "source": [
    "## `cartopy`\n",
    "\n",
    "[Gallery](https://scitools.org.uk/cartopy/docs/latest/gallery/index.html)\n",
    "\n",
    "[nice tutorial](https://rabernat.github.io/research_computing_2018/maps-with-cartopy.html)"
   ]
  },
  {
   "cell_type": "code",
   "execution_count": null,
   "id": "d71158ae",
   "metadata": {},
   "outputs": [],
   "source": [
    "import pandas as pd\n",
    "import geopandas as gpd\n",
    "from shapely.geometry import box"
   ]
  },
  {
   "cell_type": "code",
   "execution_count": null,
   "id": "aafee9db",
   "metadata": {},
   "outputs": [],
   "source": [
    "# Read in data\n",
    "SARP_09_20_filepath = \"./Copy of SARP 2009 to 2020 sent to Alex with plotting.xlsx\"\n",
    "SARP_09_20 = pd.read_excel(SARP_09_20_filepath, skipfooter=6)\n",
    "geoSARP_09_20 = gpd.GeoDataFrame(SARP_09_20, \n",
    "                                 geometry=gpd.points_from_xy(SARP_09_20['Longitude'], \n",
    "                                                   SARP_09_20['Latitude']),\n",
    "                                crs='epsg:4326')\n",
    "\n",
    "# Trim data down to just one area and type\n",
    "soca_bbox = box(-125, 27, -114, 42)\n",
    "geoSARP_09_20 = gpd.clip(geoSARP_09_20, soca_bbox)\n",
    "geoSARP_09_20 = geoSARP_09_20[geoSARP_09_20['Flight or Ground'] == 'Ground']"
   ]
  },
  {
   "cell_type": "markdown",
   "id": "c4865f63",
   "metadata": {},
   "source": [
    "### Getting a basemap"
   ]
  },
  {
   "cell_type": "code",
   "execution_count": null,
   "id": "0b9d1333",
   "metadata": {},
   "outputs": [],
   "source": [
    "import cartopy.crs as ccrs\n",
    "import matplotlib.pyplot as plt"
   ]
  },
  {
   "cell_type": "code",
   "execution_count": null,
   "id": "7d5c1872",
   "metadata": {
    "scrolled": true
   },
   "outputs": [],
   "source": [
    "ax = plt.axes(projection=ccrs.PlateCarree())\n",
    "ax.coastlines()"
   ]
  },
  {
   "cell_type": "markdown",
   "id": "8aa56b79",
   "metadata": {},
   "source": [
    "### Specifying a specific area"
   ]
  },
  {
   "cell_type": "code",
   "execution_count": null,
   "id": "a69b8f0a",
   "metadata": {
    "scrolled": true
   },
   "outputs": [],
   "source": [
    "central_lon, central_lat = -10, 45\n",
    "extent = [-40, 20, 30, 60]\n",
    "ax = plt.axes(projection=ccrs.Orthographic(central_lon, central_lat))\n",
    "ax.set_extent(extent)\n",
    "ax.gridlines()\n",
    "ax.coastlines(resolution='50m')"
   ]
  },
  {
   "cell_type": "markdown",
   "id": "a60164b5",
   "metadata": {},
   "source": [
    "Ryan's lat/lon example"
   ]
  },
  {
   "cell_type": "code",
   "execution_count": null,
   "id": "32bff87c",
   "metadata": {},
   "outputs": [],
   "source": [
    "new_york = dict(lon=-74.0060, lat=40.7128)\n",
    "honolulu = dict(lon=-157.8583, lat=21.3069)\n",
    "lons = [new_york['lon'], honolulu['lon']]\n",
    "lats = [new_york['lat'], honolulu['lat']]"
   ]
  },
  {
   "cell_type": "code",
   "execution_count": null,
   "id": "3a4d30bf",
   "metadata": {},
   "outputs": [],
   "source": [
    "ax = plt.axes(projection=ccrs.PlateCarree())\n",
    "ax.plot(lons, lats, label='Equirectangular straight line')\n",
    "ax.plot(lons, lats, label='Great Circle', transform=ccrs.Geodetic())\n",
    "ax.coastlines()\n",
    "ax.legend()\n",
    "ax.set_global()"
   ]
  },
  {
   "cell_type": "code",
   "execution_count": null,
   "id": "f556ea20",
   "metadata": {},
   "outputs": [],
   "source": [
    "from shapely.geometry import Point"
   ]
  },
  {
   "cell_type": "code",
   "execution_count": null,
   "id": "96636238",
   "metadata": {},
   "outputs": [],
   "source": [
    "ny_point = Point(-74.0060, 40.7128)\n",
    "hon_point = Point(-157.8583, 21.3069)"
   ]
  },
  {
   "cell_type": "code",
   "execution_count": null,
   "id": "a9c9d8e1",
   "metadata": {},
   "outputs": [],
   "source": [
    "ax = plt.axes(projection=ccrs.PlateCarree())\n",
    "ax.plot(hon_point)\n",
    "ax.plot(ny_point, transform=ccrs.Geodetic())\n",
    "ax.coastlines()\n",
    "ax.legend()\n",
    "ax.set_global()"
   ]
  },
  {
   "cell_type": "code",
   "execution_count": null,
   "id": "14c6ef26",
   "metadata": {},
   "outputs": [],
   "source": [
    "\n",
    "# set up a blank map with multiple subplots\n",
    "fig, (ax1, ax2) = plt.subplots(1, 2,figsize=(10,7),\n",
    "                      subplot_kw={'projection': ccrs.Orthographic(-80,35)})\n",
    "ax1.coastlines()\n",
    "ax1.gridlines()\n",
    "ax2.coastlines()\n",
    "ax2.gridlines()"
   ]
  },
  {
   "cell_type": "code",
   "execution_count": null,
   "id": "0a8a6f42",
   "metadata": {},
   "outputs": [],
   "source": [
    "was_2020"
   ]
  },
  {
   "cell_type": "code",
   "execution_count": null,
   "id": "d8063a7c",
   "metadata": {},
   "outputs": [],
   "source": [
    "# Define map projection and extent (you'll need to change this to your area)\n",
    "central_lon, central_lat = -118, 33.5\n",
    "map_crs=ccrs.Orthographic(central_lon, central_lat)\n",
    "extent = [-120, -116, 32, 35]  # minx maxx miny maxy\n",
    "\n",
    "# set up a blank map with multiple subplots\n",
    "fig, (ax1, ax2) = plt.subplots(1, 2,figsize=(10,7),\n",
    "                      subplot_kw={'projection': map_crs})\n",
    "\n",
    "# Add maps coastlines and grids to our axes and set to proper area (extent)\n",
    "ax1.coastlines()\n",
    "ax1.gridlines()\n",
    "ax1.set_extent(extent)\n",
    "ax2.coastlines()\n",
    "ax2.gridlines()\n",
    "ax2.set_extent(extent)\n",
    "\n",
    "# Plot our data on our map (You'll need to use your dataframe here)\n",
    "rail_stations_ortho = rail_stations.to_crs(map_crs.proj4_init)\n",
    "rail_stations_ortho.plot(ax=ax1)\n",
    "# Adding data to the second axis\n",
    "rail_stations_ortho.plot(ax=ax2)"
   ]
  }
 ],
 "metadata": {
  "kernelspec": {
   "display_name": "Python 3 (ipykernel)",
   "language": "python",
   "name": "python3"
  },
  "language_info": {
   "codemirror_mode": {
    "name": "ipython",
    "version": 3
   },
   "file_extension": ".py",
   "mimetype": "text/x-python",
   "name": "python",
   "nbconvert_exporter": "python",
   "pygments_lexer": "ipython3",
   "version": "3.9.5"
  }
 },
 "nbformat": 4,
 "nbformat_minor": 5
}
