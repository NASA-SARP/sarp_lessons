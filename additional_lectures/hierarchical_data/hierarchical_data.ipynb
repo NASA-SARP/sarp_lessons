{
 "cells": [
  {
   "cell_type": "markdown",
   "id": "756cba91",
   "metadata": {},
   "source": [
    "# Hierarchical Data Structure\n",
    "\n",
    "* [How netCDF files are organized](https://pro.arcgis.com/en/pro-app/latest/help/data/multidimensional/fundamentals-of-netcdf-data-storage.htm)\n",
    "* [HDF files](https://docs.h5py.org/en/stable/quick.html)\n",
    "\n",
    "In order to use the data in this notebook you will need to unzip the three files in this folder."
   ]
  },
  {
   "cell_type": "markdown",
   "id": "2db51d3f",
   "metadata": {},
   "source": [
    ":::{admonition} Content\n",
    ":class: note, dropdown\n",
    "\n",
    "- Background\n",
    "- HDF4 example\n",
    "- HDF5 example\n",
    "- netCDF example\n",
    "\n",
    ":::"
   ]
  },
  {
   "cell_type": "markdown",
   "id": "abcc49ad",
   "metadata": {},
   "source": [
    "## File Format Structure"
   ]
  },
  {
   "cell_type": "markdown",
   "id": "c042930d",
   "metadata": {},
   "source": [
    "### Concept No. 1: pros and cons of lenient file formats\n",
    "\n",
    "![File Format Spectrum](./images/strict_file_format_spectrum.jpg)\n",
    "\n",
    "|       | Pro | Con |\n",
    "| :----------- | :-----------: | :-----------: |\n",
    "| **Strict File Format**      | easy to know what you're going to get       | doesn't handle all data types       |\n",
    "| **Not Strict File Format**   | handles lots of data types        | what's inside is unpredictable      |"
   ]
  },
  {
   "cell_type": "markdown",
   "id": "dd642868",
   "metadata": {},
   "source": [
    "### Concept No. 2: organizing variables by dimension\n",
    "\n",
    "<img src=\"https://pro.arcgis.com/en/pro-app/latest/help/data/multidimensional/GUID-D872A4C3-749E-4159-A6C0-FB6D3B47C5D8-web.gif\">\n",
    "\n",
    "<center>A 3-dimensional dataset</center>\n",
    "\n",
    "<img src=\"https://pro.arcgis.com/en/pro-app/latest/help/data/multidimensional/GUID-1D7240CD-54D4-45FF-A150-43B1AFFBF7D6-web.gif\">\n",
    "\n",
    "<center>A 4-dimensional dataset</center>\n",
    "\n",
    "Images from [Fundamentals of NetCDF Storage](https://pro.arcgis.com/en/pro-app/latest/help/data/multidimensional/fundamentals-of-netcdf-data-storage.htm) by ESRI\n",
    "\n",
    "When variables are defined in netCDF files they are also assigned dimensions.  **Dimensions** tell us the axis over which our data varies.  Common examples are latitute, longitude, or time.  The values of the dimensions are given in special variables called **coordinate variables**.  The coordinate variables and dimensions help us understand what the core data stored in each variable is describing.  **Attributes** store metadata about our variables.\n",
    "\n",
    "## Concept No. 3: groups and datasets\n",
    "\n",
    "In the previous raster lessons we have been using data where the organization is a single dataset per file.  HDF and netCDF are unique in that they allow multiple datasets to be in the same file.  To keep organized, datasets are allowed to be stored together in **groups**.  An analogy is to think of groups like folders in a folder structure and datasets as the individual files.  Groups can have more groups inside of them."
   ]
  },
  {
   "cell_type": "markdown",
   "id": "2c2226d4",
   "metadata": {},
   "source": [
    "## HDF4"
   ]
  },
  {
   "cell_type": "markdown",
   "id": "1869d8d5",
   "metadata": {},
   "source": [
    "### Install\n",
    "\n",
    "In Anaconda Powershell:\n",
    "\n",
    "`conda install -c conda-forge -n lessons pyhdf`\n",
    "\n",
    "### Documentation\n",
    "\n",
    "http://fhs.github.io/pyhdf/modules/SD.html  (My opinion: pretty terrible docs)"
   ]
  },
  {
   "cell_type": "markdown",
   "id": "802e78ce",
   "metadata": {},
   "source": [
    "### Example dataset: CALIPSO\n",
    "\n",
    "CALIPSO Level 2: `CAL_LID_L2_01kmCLay-Standard-V4-21.2020-07-01T07-32-43ZD.hdf`\n",
    "\n",
    "[download link](https://drive.google.com/file/d/1AMNZn8u4TGYefZjuo9UjmSXox1LcGdSE/view?usp=sharing)"
   ]
  },
  {
   "cell_type": "markdown",
   "id": "38a85fa5",
   "metadata": {},
   "source": [
    "### Opening the Dataset"
   ]
  },
  {
   "cell_type": "code",
   "execution_count": null,
   "id": "4ea1bea7",
   "metadata": {},
   "outputs": [],
   "source": [
    "# from pyhdf.SD import *"
   ]
  },
  {
   "cell_type": "code",
   "execution_count": null,
   "id": "48f40f79",
   "metadata": {},
   "outputs": [],
   "source": [
    "# filepath = './CAL_LID_L2_01kmCLay-Standard-V4-21.2020-07-01T07-32-43ZD.hdf'"
   ]
  },
  {
   "cell_type": "code",
   "execution_count": null,
   "id": "8d26e2c6",
   "metadata": {
    "scrolled": true
   },
   "outputs": [],
   "source": [
    "# Opening the file\n",
    "# d = SD(filepath)"
   ]
  },
  {
   "cell_type": "code",
   "execution_count": null,
   "id": "43912bb0",
   "metadata": {},
   "outputs": [],
   "source": [
    "# d"
   ]
  },
  {
   "cell_type": "markdown",
   "id": "2feea90a",
   "metadata": {},
   "source": [
    "### Exploring the dataset"
   ]
  },
  {
   "cell_type": "code",
   "execution_count": null,
   "id": "ba88d014",
   "metadata": {},
   "outputs": [],
   "source": [
    "# d.datasets()"
   ]
  },
  {
   "cell_type": "markdown",
   "id": "74203bac",
   "metadata": {},
   "source": [
    "Choose a key from the `.datasets()` dictionary and get the varaible info using `.select()`"
   ]
  },
  {
   "cell_type": "code",
   "execution_count": null,
   "id": "206b29ae",
   "metadata": {
    "scrolled": true
   },
   "outputs": [],
   "source": [
    "# d.select('Integrated_Attenuated_Backscatter_532')"
   ]
  },
  {
   "cell_type": "markdown",
   "id": "9195fe52",
   "metadata": {},
   "source": [
    "### Getting your data\n",
    "\n",
    "The data can be accessed using `[:]` and is output as a numpy array.  Any of the methods we practiced with numpy arrays in lecture can be used on the dataset."
   ]
  },
  {
   "cell_type": "code",
   "execution_count": null,
   "id": "703db482",
   "metadata": {},
   "outputs": [],
   "source": [
    "# d.select('Integrated_Attenuated_Backscatter_532')[:]"
   ]
  },
  {
   "cell_type": "code",
   "execution_count": null,
   "id": "70a25426",
   "metadata": {},
   "outputs": [],
   "source": [
    "# backscatter = d.select('Integrated_Attenuated_Backscatter_532')[:]"
   ]
  },
  {
   "cell_type": "code",
   "execution_count": null,
   "id": "daac2971",
   "metadata": {},
   "outputs": [],
   "source": [
    "# type(backscatter)"
   ]
  },
  {
   "cell_type": "code",
   "execution_count": null,
   "id": "dc1a66bd",
   "metadata": {},
   "outputs": [],
   "source": [
    "# backscatter.shape"
   ]
  },
  {
   "cell_type": "code",
   "execution_count": null,
   "id": "fbf05db7",
   "metadata": {},
   "outputs": [],
   "source": [
    "# backscatter.max()"
   ]
  },
  {
   "cell_type": "markdown",
   "id": "6e1e8f30",
   "metadata": {},
   "source": [
    "### Attributes\n",
    "\n",
    "Get metadata with the `.attributes()` method."
   ]
  },
  {
   "cell_type": "code",
   "execution_count": null,
   "id": "860621da",
   "metadata": {},
   "outputs": [],
   "source": [
    "# d.select('Integrated_Attenuated_Backscatter_532').attributes()"
   ]
  },
  {
   "cell_type": "markdown",
   "id": "00773efc",
   "metadata": {},
   "source": [
    "### Masking a no data value\n",
    "\n",
    "While HDF5 data will automatically mask out nodata values, HDF4 datasets often don't.  To mask them yourself you can look up the fill value and apply it to the array."
   ]
  },
  {
   "cell_type": "code",
   "execution_count": null,
   "id": "1c141b62",
   "metadata": {},
   "outputs": [],
   "source": [
    "# import numpy.ma as ma"
   ]
  },
  {
   "cell_type": "code",
   "execution_count": null,
   "id": "65fe7988",
   "metadata": {},
   "outputs": [],
   "source": [
    "# Mask the array\n",
    "# masked_backscatter = ma.masked_where(backscatter == -9999, backscatter)\n",
    "# Update the nodata value\n",
    "# ma.set_fill_value(backscatter, -9999)"
   ]
  },
  {
   "cell_type": "code",
   "execution_count": null,
   "id": "fe8c2e25",
   "metadata": {},
   "outputs": [],
   "source": [
    "# masked_backscatter"
   ]
  },
  {
   "cell_type": "markdown",
   "id": "49f31b8c",
   "metadata": {},
   "source": [
    "## HDF5\n",
    "\n",
    "### Install\n",
    "\n",
    "In Anaconda Powershell:\n",
    "\n",
    "`conda install -c conda-forge -n lessons h5py`\n",
    "\n",
    "### Documentation\n",
    "\n",
    "https://docs.h5py.org/en/stable/quick.html"
   ]
  },
  {
   "cell_type": "markdown",
   "id": "b6ae9722",
   "metadata": {},
   "source": [
    "### Example Dataset: ASTER Emissivity\n",
    "\n",
    "`AG100.v003.83.-013.0001.h5`"
   ]
  },
  {
   "cell_type": "markdown",
   "id": "ba3e3b6a",
   "metadata": {},
   "source": [
    "### Opening a Dataset"
   ]
  },
  {
   "cell_type": "code",
   "execution_count": null,
   "id": "2f58b2c1",
   "metadata": {},
   "outputs": [],
   "source": [
    "# import h5py"
   ]
  },
  {
   "cell_type": "code",
   "execution_count": null,
   "id": "712495cc",
   "metadata": {},
   "outputs": [],
   "source": [
    "# filepath = './AG100.v003.83.-013.0001.h5'"
   ]
  },
  {
   "cell_type": "code",
   "execution_count": null,
   "id": "7113b38c",
   "metadata": {},
   "outputs": [],
   "source": [
    "# f = h5py.File(filepath, 'r')"
   ]
  },
  {
   "cell_type": "code",
   "execution_count": null,
   "id": "2cf1cda2",
   "metadata": {},
   "outputs": [],
   "source": [
    "# f"
   ]
  },
  {
   "cell_type": "markdown",
   "id": "27d5a044",
   "metadata": {},
   "source": [
    "### Exploring Groups"
   ]
  },
  {
   "cell_type": "code",
   "execution_count": null,
   "id": "9e19b2b9",
   "metadata": {},
   "outputs": [],
   "source": [
    "# f.keys()"
   ]
  },
  {
   "cell_type": "code",
   "execution_count": null,
   "id": "96ac18d2",
   "metadata": {},
   "outputs": [],
   "source": [
    "# f['Emissivity']"
   ]
  },
  {
   "cell_type": "code",
   "execution_count": null,
   "id": "3802fe7e",
   "metadata": {},
   "outputs": [],
   "source": [
    "# f['Emissivity'].keys()"
   ]
  },
  {
   "cell_type": "code",
   "execution_count": null,
   "id": "258f82e0",
   "metadata": {
    "scrolled": false
   },
   "outputs": [],
   "source": [
    "# f['Emissivity']['Mean']"
   ]
  },
  {
   "cell_type": "markdown",
   "id": "e12cf84c",
   "metadata": {},
   "source": [
    "You can check where you are in the file hierarchy with the `.name` method"
   ]
  },
  {
   "cell_type": "code",
   "execution_count": null,
   "id": "73e4d5ac",
   "metadata": {},
   "outputs": [],
   "source": [
    "# f.name"
   ]
  },
  {
   "cell_type": "code",
   "execution_count": null,
   "id": "d1876549",
   "metadata": {},
   "outputs": [],
   "source": [
    "# f['Emissivity'].name"
   ]
  },
  {
   "cell_type": "code",
   "execution_count": null,
   "id": "e54229b9",
   "metadata": {},
   "outputs": [],
   "source": [
    "# f['Emissivity']['Mean'].name"
   ]
  },
  {
   "cell_type": "markdown",
   "id": "d8af1ba4",
   "metadata": {},
   "source": [
    "### Getting your data\n",
    "\n",
    "The data inside the data group dictionaries are numpy arrays, so you can use any of the methods we learned about in other lectures with them."
   ]
  },
  {
   "cell_type": "code",
   "execution_count": null,
   "id": "7e4c0ec7",
   "metadata": {},
   "outputs": [],
   "source": [
    "# mean_emissivity = f['Emissivity']['Mean'][:]"
   ]
  },
  {
   "cell_type": "code",
   "execution_count": null,
   "id": "d127d3b3",
   "metadata": {},
   "outputs": [],
   "source": [
    "# type(mean_emissivity)"
   ]
  },
  {
   "cell_type": "code",
   "execution_count": null,
   "id": "7f44db67",
   "metadata": {},
   "outputs": [],
   "source": [
    "# mean_emissivity.shape"
   ]
  },
  {
   "cell_type": "code",
   "execution_count": null,
   "id": "7df485cc",
   "metadata": {},
   "outputs": [],
   "source": [
    "# mean_emissivity.max()"
   ]
  },
  {
   "cell_type": "code",
   "execution_count": null,
   "id": "b8f05a30",
   "metadata": {},
   "outputs": [],
   "source": [
    "# from matplotlib import pyplot"
   ]
  },
  {
   "cell_type": "code",
   "execution_count": null,
   "id": "b6477fa5",
   "metadata": {},
   "outputs": [],
   "source": [
    "# pyplot.imshow(mean_emissivity[0])"
   ]
  },
  {
   "cell_type": "markdown",
   "id": "2d1596f4",
   "metadata": {},
   "source": [
    "### Attributes\n",
    "\n",
    "Metadata in HDF files are called **attributes** and are accessed with `.attrs`"
   ]
  },
  {
   "cell_type": "code",
   "execution_count": null,
   "id": "c0ed442d",
   "metadata": {},
   "outputs": [],
   "source": [
    "# f['Emissivity']['Mean'].attrs.keys()"
   ]
  },
  {
   "cell_type": "code",
   "execution_count": null,
   "id": "c640b20d",
   "metadata": {},
   "outputs": [],
   "source": [
    "# f['Emissivity']['Mean'].attrs['Description']"
   ]
  },
  {
   "cell_type": "markdown",
   "id": "3f809659",
   "metadata": {},
   "source": [
    "If there are no attributes for that group you will just get back an empty list"
   ]
  },
  {
   "cell_type": "code",
   "execution_count": null,
   "id": "a01104db",
   "metadata": {},
   "outputs": [],
   "source": [
    "# No attributes on the Emissivity group\n",
    "# f['Emissivity'].attrs.keys()"
   ]
  },
  {
   "cell_type": "code",
   "execution_count": null,
   "id": "2e595640",
   "metadata": {},
   "outputs": [],
   "source": [
    "# No attributes on the root group\n",
    "# f.attrs.keys()"
   ]
  },
  {
   "cell_type": "markdown",
   "id": "e97199bf",
   "metadata": {},
   "source": [
    "## netCDF\n",
    "\n",
    "### Install\n",
    "\n",
    "In Anaconda Powershell:\n",
    "\n",
    "`conda install -c conda-forge -n lessons netcdf4`\n",
    "\n",
    "### Documentation Link\n",
    "\n",
    "https://unidata.github.io/netcdf4-python/#creatingopeningclosing-a-netcdf-file"
   ]
  },
  {
   "cell_type": "markdown",
   "id": "357d8ba7",
   "metadata": {},
   "source": [
    "### Example Dataset: MODIS Chlorophyll-a\n",
    "\n",
    "`A2018006.L3m_DAY_CHL_chlor_a_4km.nc`"
   ]
  },
  {
   "cell_type": "markdown",
   "id": "3d7298c3",
   "metadata": {},
   "source": [
    "### Opening a Dataset"
   ]
  },
  {
   "cell_type": "code",
   "execution_count": null,
   "id": "d913c831",
   "metadata": {},
   "outputs": [],
   "source": [
    "# from netCDF4 import Dataset"
   ]
  },
  {
   "cell_type": "code",
   "execution_count": null,
   "id": "53d2439f",
   "metadata": {},
   "outputs": [],
   "source": [
    "# filepath = './A2018006.L3m_DAY_CHL_chlor_a_4km.nc'"
   ]
  },
  {
   "cell_type": "code",
   "execution_count": null,
   "id": "642e6097",
   "metadata": {},
   "outputs": [],
   "source": [
    "# d = Dataset(filepath, 'r')"
   ]
  },
  {
   "cell_type": "markdown",
   "id": "b886d6ad",
   "metadata": {},
   "source": [
    "Looking at the `Dataset` object gives us a decent overview of our dataset.  We can see metadata applies to the whole dataset. At the very bottom the **dimensions** and **varaiables** are shown, as well as any additional groups."
   ]
  },
  {
   "cell_type": "code",
   "execution_count": null,
   "id": "5d67c308",
   "metadata": {
    "scrolled": true
   },
   "outputs": [],
   "source": [
    "# d"
   ]
  },
  {
   "cell_type": "markdown",
   "id": "511bf8d2",
   "metadata": {},
   "source": [
    "You can also directly access dimensions or varaiables.  The outputs act like dictionaries, so you can use `.keys()` or `[KEY]` syntax to access elements"
   ]
  },
  {
   "cell_type": "code",
   "execution_count": null,
   "id": "eb8015f3",
   "metadata": {},
   "outputs": [],
   "source": [
    "# d.dimensions"
   ]
  },
  {
   "cell_type": "code",
   "execution_count": null,
   "id": "819170f6",
   "metadata": {
    "scrolled": true
   },
   "outputs": [],
   "source": [
    "# d.variables"
   ]
  },
  {
   "cell_type": "code",
   "execution_count": null,
   "id": "70b9ed00",
   "metadata": {},
   "outputs": [],
   "source": [
    "# Treating a variable like a dictionary\n",
    "# print(d.variables.keys())\n",
    "# d.variables['chlor_a']"
   ]
  },
  {
   "cell_type": "code",
   "execution_count": null,
   "id": "f2926baa",
   "metadata": {},
   "outputs": [],
   "source": [
    "# Access metadata with using a period .\n",
    "# d.variables['chlor_a'].long_name"
   ]
  },
  {
   "cell_type": "markdown",
   "id": "ed7a3fdb",
   "metadata": {},
   "source": [
    "If the data you need is in a group, it can be accessed with `.groups`"
   ]
  },
  {
   "cell_type": "code",
   "execution_count": null,
   "id": "fa4e2de0",
   "metadata": {},
   "outputs": [],
   "source": [
    "# d.groups['processing_control']"
   ]
  },
  {
   "cell_type": "markdown",
   "id": "8c6f780b",
   "metadata": {},
   "source": [
    "### Getting your data\n",
    "\n",
    "Once you traverse the file structure with the right keys and find a `netCDF4._netCDF4.Variable` object you can accesss pull out the numpy array and work with it."
   ]
  },
  {
   "cell_type": "code",
   "execution_count": null,
   "id": "1ead0d7b",
   "metadata": {},
   "outputs": [],
   "source": [
    "# chlor_a = d.variables['chlor_a'][:]"
   ]
  },
  {
   "cell_type": "code",
   "execution_count": null,
   "id": "b41d7a1c",
   "metadata": {},
   "outputs": [],
   "source": [
    "# type(chlor_a)"
   ]
  },
  {
   "cell_type": "code",
   "execution_count": null,
   "id": "7a103f1d",
   "metadata": {},
   "outputs": [],
   "source": [
    "# chlor_a.shape"
   ]
  },
  {
   "cell_type": "code",
   "execution_count": null,
   "id": "8dfa28e7",
   "metadata": {},
   "outputs": [],
   "source": [
    "# chlor_a.max()"
   ]
  },
  {
   "cell_type": "code",
   "execution_count": null,
   "id": "77da360a",
   "metadata": {},
   "outputs": [],
   "source": [
    "# from matplotlib import pyplot"
   ]
  },
  {
   "cell_type": "code",
   "execution_count": null,
   "id": "9ca72c87",
   "metadata": {},
   "outputs": [],
   "source": [
    "# pyplot.imshow(chlor_a)"
   ]
  },
  {
   "cell_type": "code",
   "execution_count": null,
   "id": "e8ac3488",
   "metadata": {},
   "outputs": [],
   "source": []
  }
 ],
 "metadata": {
  "kernelspec": {
   "display_name": "Python 3 (ipykernel)",
   "language": "python",
   "name": "python3"
  },
  "language_info": {
   "codemirror_mode": {
    "name": "ipython",
    "version": 3
   },
   "file_extension": ".py",
   "mimetype": "text/x-python",
   "name": "python",
   "nbconvert_exporter": "python",
   "pygments_lexer": "ipython3",
   "version": "3.9.5"
  }
 },
 "nbformat": 4,
 "nbformat_minor": 5
}
