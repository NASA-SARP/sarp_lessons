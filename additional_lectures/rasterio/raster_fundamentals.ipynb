{
 "cells": [
  {
   "cell_type": "markdown",
   "id": "3aa1ddf8",
   "metadata": {},
   "source": [
    "# Working with rasters"
   ]
  },
  {
   "cell_type": "markdown",
   "id": "d815f703",
   "metadata": {},
   "source": [
    "This is the notebook to start with in this repository.  After this notebook move on to any of the notebooks in this folder."
   ]
  },
  {
   "cell_type": "markdown",
   "id": "e2d37bba",
   "metadata": {},
   "source": [
    "### Table of Contents\n",
    "* 🧠Anatomy of a raster\n",
    "* 📖Opening a file\n",
    "* 🔍Inspecting the metadata\n",
    "* 🚜Working with the data\n",
    "* 💾Saving a file"
   ]
  },
  {
   "cell_type": "markdown",
   "id": "9d0be524",
   "metadata": {},
   "source": [
    "## 🧠 The Anatomy of a raster"
   ]
  },
  {
   "cell_type": "markdown",
   "id": "250f1539",
   "metadata": {},
   "source": [
    "Working with raster data involves understanding how rasters are organized."
   ]
  },
  {
   "cell_type": "markdown",
   "id": "e0b5bb79",
   "metadata": {},
   "source": [
    "<img src=\"./images/raster_anatomy.jpg\" width=\"550\">"
   ]
  },
  {
   "cell_type": "markdown",
   "id": "be71dfe1",
   "metadata": {},
   "source": [
    "### 📝 Checking In\n",
    "\n",
    "You open a raster file and see that the count is 224.  What have you just learned about the raster?"
   ]
  },
  {
   "cell_type": "markdown",
   "id": "377fde82",
   "metadata": {},
   "source": [
    "## 📖 Opening a file"
   ]
  },
  {
   "cell_type": "markdown",
   "id": "f040e65b",
   "metadata": {},
   "source": [
    "When you open data files in Python you usually need to use a library.  When dealing with raster data there are several common libraries, most of which cater to a specific data type:\n",
    "\n",
    "  \n",
    "|  File Format |  File Extension | Python Library  |\n",
    "|---|---|---|\n",
    "|  netCDF |  `.nc` | netCDF4  |\n",
    "|  HDF5 | `.hdf5`  | h5py  |\n",
    "| HDF4 | `.hdf4` | pyhdf |\n",
    "| geoTIFF | `.tiff` | rasterio |\n",
    "| zarr | `.zarr` | zarr |\n",
    "\n",
    "\n",
    "While each of these libraries works best with their associated file type, I really like to use `rasterio` because it does a particularly good job of accomodating [many data types](https://gdal.org/drivers/raster/index.html).  I usually start with `rasterio` and switch to the a different file-specific library only if I need something extra `rasterio` doesn't already provide."
   ]
  },
  {
   "cell_type": "markdown",
   "id": "38c4ddab",
   "metadata": {},
   "source": [
    "### Opening a file with `rasterio`:"
   ]
  },
  {
   "cell_type": "markdown",
   "id": "e9367730",
   "metadata": {},
   "source": [
    "We open our rasters with the `rasterio.open()` method.  The general syntax is \n",
    "> ```python\n",
    "> with rasterio.open(FILEPATH_TO_RASTER, DATAMODE) as src:\n",
    "    print(src)\n",
    "> ```\n",
    "\n",
    "where `FILEPATH_TO_RASTER` is the place on your computer where the data is stored and `DATAMODE` is usually either 'r' for read (opening existing data) or 'w' for write (creating new data).  There are other data modes but these are two very common ones."
   ]
  },
  {
   "cell_type": "markdown",
   "id": "27e0c492",
   "metadata": {},
   "source": [
    "An example of opening a file using test AVIRIS data:"
   ]
  },
  {
   "cell_type": "code",
   "execution_count": 1,
   "id": "cf9d451a",
   "metadata": {},
   "outputs": [],
   "source": [
    "# Define the filepath to our raster\n",
    "# filepath_rad = './data/subset_f180628t01p00r02_corr_v1k1_img'"
   ]
  },
  {
   "cell_type": "markdown",
   "id": "50570e89",
   "metadata": {},
   "source": [
    "### Filepaths\n",
    "Ahe **filepath** and is a string that describes the location of the data that you want to open.  A few pieces of the anatomy of a filepath to notice:\n",
    "* `/` - forward slashes signal that you have entered a new folder.\n",
    "* `.` - the period at the beginning tells the computer to start looking for data in the same place tht the code is being run in.  \n",
    "\n",
    "Choosing to start your filepath with a `.` is called specificying a **relative filepath**, because you are telling the computer to start looking for the file relative to where the file is being run. If you move this file to another place on your computer and don't move the data with it the import statment won't work anymore.  The alternative to a relative filepath is an **aboslute filepath**, in which case you start your file path at the very tippy top of your computer's organizational structure (the root directory).\n",
    "\n",
    "Other vocab notes:\n",
    "* **directory** is the same thing as a folder."
   ]
  },
  {
   "cell_type": "markdown",
   "id": "b2da0cdd",
   "metadata": {},
   "source": [
    "To loop back to our example, we put together our filepath by defining the following directions for our computer:\n",
    "1. start by specifing the current directory as the starting point: `.`\n",
    "2. go into the data folder: `./data`\n",
    "3. choose the file named \"subset_f180628t01p00r02_corr_v1k1_img\": \n",
    "`'./data/subset_f180628t01p00r02_corr_v1k1_img'`\n",
    "\n",
    "🎉 And there we have our file"
   ]
  },
  {
   "cell_type": "code",
   "execution_count": 2,
   "id": "783337f9",
   "metadata": {},
   "outputs": [],
   "source": [
    "# import ra/sterio"
   ]
  },
  {
   "cell_type": "code",
   "execution_count": 3,
   "id": "eb01167f",
   "metadata": {},
   "outputs": [],
   "source": [
    "# Open the file\n",
    "# with rasterio.open(filepath_rad, 'r') as src:\n",
    "#     print(src)"
   ]
  },
  {
   "cell_type": "markdown",
   "id": "25daefed",
   "metadata": {},
   "source": [
    "The object that gets returned here `<open DatasetReader name='./data/subset_f180628t01p00r02_corr_v1k1_img' mode='r'>` is the \"Dataset Reader\" object.  This object connects you to the file in Python, but it isn't actually the data.  To get to the data you need to use `src.read()`."
   ]
  },
  {
   "cell_type": "markdown",
   "id": "21622ccc",
   "metadata": {},
   "source": [
    "### Reading a raster band with `rasterio`:"
   ]
  },
  {
   "cell_type": "markdown",
   "id": "be3595ac",
   "metadata": {},
   "source": [
    "General syntax:\n",
    "\n",
    "> ```python\n",
    "> with rasterio.open(FILEPATH_TO_RASTER, DATAMODE) as src:\n",
    "    print(src.read(BAND_INDEX))\n",
    "> ```\n",
    "\n",
    "where `FILEPATH_TO_RASTER` is the place on your computer where the data is `DATAMODE` is usually either 'r' for read (opening existing data) or 'w' for write (creating new data).  `BAND_INDEX` indicates which band you want to read.  Leaving `BAND_INDEX` blank reads the entire raster (all bands)."
   ]
  },
  {
   "cell_type": "markdown",
   "id": "e3744ec4",
   "metadata": {},
   "source": [
    "An example:"
   ]
  },
  {
   "cell_type": "code",
   "execution_count": 4,
   "id": "50fe6a37",
   "metadata": {},
   "outputs": [],
   "source": [
    "# Reading the first band from our file\n",
    "# with rasterio.open(filepath_rad, 'r') as src:\n",
    "#     print(src.read(5))"
   ]
  },
  {
   "cell_type": "markdown",
   "id": "41835c34",
   "metadata": {},
   "source": [
    "What gets printed here are our actual data values! 🎉"
   ]
  },
  {
   "cell_type": "markdown",
   "id": "9b9470b2",
   "metadata": {},
   "source": [
    "### Getting a quick visual of the data"
   ]
  },
  {
   "cell_type": "markdown",
   "id": "6b13e9e9",
   "metadata": {},
   "source": [
    "Another way to quickly get eyes on our data is to use the `show` command."
   ]
  },
  {
   "cell_type": "code",
   "execution_count": 5,
   "id": "3fc1e79a",
   "metadata": {},
   "outputs": [],
   "source": [
    "# from matplotlib import pyplot"
   ]
  },
  {
   "cell_type": "code",
   "execution_count": 6,
   "id": "2e517d34",
   "metadata": {},
   "outputs": [],
   "source": [
    "# with rasterio.open(filepath_rad, 'r') as src:\n",
    "#     pyplot.imshow(src.read(5))"
   ]
  },
  {
   "cell_type": "markdown",
   "id": "c3604caa",
   "metadata": {},
   "source": [
    "The plot and the array might not be very useful right now, but at least we have validated that we can open our raster and that it contains data."
   ]
  },
  {
   "cell_type": "markdown",
   "id": "28392039",
   "metadata": {},
   "source": [
    "If you like viewing quick plots as a way of interacting with your data you can read more about it in the [rasterio docs](https://rasterio.readthedocs.io/en/latest/topics/plotting.html)."
   ]
  },
  {
   "cell_type": "markdown",
   "id": "61f7193c",
   "metadata": {},
   "source": [
    "### 🌀 Extra background - Context managers"
   ]
  },
  {
   "cell_type": "markdown",
   "id": "a8e37973",
   "metadata": {},
   "source": [
    "It might be new to you that I used the syntax:\n",
    "```python\n",
    "with ... as src:\n",
    "    src.read()\n",
    "```"
   ]
  },
  {
   "cell_type": "markdown",
   "id": "7dfd2dfb",
   "metadata": {},
   "source": [
    "This syntax is called the **Context manager**.  When we read files we are opening them up, like a book, and they stay open until we tell the program to close them.  The benefit of the context manager is that it opens up a file when you use the `with` statement, runs all your lines of indented code, and the closes the file after.  This is important if you are opening up large files.  Your computer only has so much memory, so if you try to open too many 8GB files at once without closing them you can crash your program."
   ]
  },
  {
   "cell_type": "markdown",
   "id": "8f6c6a8c",
   "metadata": {},
   "source": [
    "If you don't want to use the contect manager another way to this same task is to run:"
   ]
  },
  {
   "cell_type": "code",
   "execution_count": 7,
   "id": "732e0c60",
   "metadata": {},
   "outputs": [
    {
     "ename": "NameError",
     "evalue": "name 'rasterio' is not defined",
     "output_type": "error",
     "traceback": [
      "\u001b[1;31m---------------------------------------------------------------------------\u001b[0m",
      "\u001b[1;31mNameError\u001b[0m                                 Traceback (most recent call last)",
      "\u001b[1;32m<ipython-input-7-6ad7d674eaa8>\u001b[0m in \u001b[0;36m<module>\u001b[1;34m\u001b[0m\n\u001b[1;32m----> 1\u001b[1;33m \u001b[0msrc\u001b[0m \u001b[1;33m=\u001b[0m \u001b[0mrasterio\u001b[0m\u001b[1;33m.\u001b[0m\u001b[0mopen\u001b[0m\u001b[1;33m(\u001b[0m\u001b[0mfilepath_rad\u001b[0m\u001b[1;33m,\u001b[0m \u001b[1;34m'r'\u001b[0m\u001b[1;33m)\u001b[0m\u001b[1;33m\u001b[0m\u001b[1;33m\u001b[0m\u001b[0m\n\u001b[0m\u001b[0;32m      2\u001b[0m \u001b[0msrc\u001b[0m\u001b[1;33m.\u001b[0m\u001b[0mread\u001b[0m\u001b[1;33m(\u001b[0m\u001b[1;36m1\u001b[0m\u001b[1;33m)\u001b[0m\u001b[1;33m\u001b[0m\u001b[1;33m\u001b[0m\u001b[0m\n\u001b[0;32m      3\u001b[0m \u001b[0mprint\u001b[0m\u001b[1;33m(\u001b[0m\u001b[0msrc\u001b[0m\u001b[1;33m)\u001b[0m\u001b[1;33m\u001b[0m\u001b[1;33m\u001b[0m\u001b[0m\n\u001b[0;32m      4\u001b[0m \u001b[0msrc\u001b[0m\u001b[1;33m.\u001b[0m\u001b[0mclose\u001b[0m\u001b[1;33m(\u001b[0m\u001b[1;33m)\u001b[0m\u001b[1;33m\u001b[0m\u001b[1;33m\u001b[0m\u001b[0m\n",
      "\u001b[1;31mNameError\u001b[0m: name 'rasterio' is not defined"
     ]
    }
   ],
   "source": [
    "src = rasterio.open(filepath_rad, 'r')\n",
    "src.read(1)\n",
    "print(src)\n",
    "src.close()"
   ]
  },
  {
   "cell_type": "markdown",
   "id": "37cfd7ae",
   "metadata": {},
   "source": [
    "If you do this, though, make sure to only be working with a few files at a time or to close your files."
   ]
  },
  {
   "cell_type": "markdown",
   "id": "61524812",
   "metadata": {},
   "source": [
    "### 📝 Checking In\n",
    "\n",
    "What is happening in the following piece of code?  How many bands will be affected?\n",
    "\n",
    "```\n",
    "with rasterio.open('./data/f180628t01p00r02_corr_v1k1_img', 'r') as src:\n",
    "    src.read()\n",
    "```"
   ]
  },
  {
   "cell_type": "markdown",
   "id": "dc397abd",
   "metadata": {},
   "source": [
    "## 🔍 Inspecting the Metadata"
   ]
  },
  {
   "cell_type": "markdown",
   "id": "7df3bb5e",
   "metadata": {},
   "source": [
    "When you first open a dataset it is often helpful to get your bearings by inspecting the metadata.  In rasterio we do this by inspecting the DatasetReader object (`src`) that was returned when you opened the object."
   ]
  },
  {
   "cell_type": "markdown",
   "id": "c48e8831",
   "metadata": {},
   "source": [
    "There are [lots of attributes](https://rasterio.readthedocs.io/en/latest/api/rasterio._base.html#rasterio._base.DatasetBase) that you check a dataset reader for.  If you want to get an general overview I like to use `src.meta`.  To extract specific values here are some more attributes that I find useful:\n",
    "* [`src.bounds`](https://rasterio.readthedocs.io/en/latest/api/rasterio._base.html#id1) - Returns the lower left and upper right bounds of the dataset in the units of its coordinate reference system. (lower left x, lower left y, upper right x, upper right y)\n",
    "* [`src.count`](https://rasterio.readthedocs.io/en/latest/api/rasterio._base.html#id5) - The number of raster bands in the dataset\n",
    "* [`src.crs`](https://rasterio.readthedocs.io/en/latest/api/rasterio._base.html#id6) - The dataset’s coordinate reference system\n",
    "* [`src.descriptions`](https://rasterio.readthedocs.io/en/latest/api/rasterio._base.html#id7) - Descriptions for each dataset band\n",
    "* [`src.dtypes`](https://rasterio.readthedocs.io/en/latest/api/rasterio._base.html#rasterio._base.DatasetBase.dtypes) - The data types of each band in index order\n",
    "* `src.height` - The number of pixels in each column\n",
    "* [`src.indexes`](https://rasterio.readthedocs.io/en/latest/api/rasterio._base.html#id11) - The 1-based indexes of each band in the dataset\n",
    "* [`src.meta`](https://rasterio.readthedocs.io/en/latest/api/rasterio._base.html#id14) - The basic metadata of this dataset.\n",
    "* `src.name` - Relative filepath of the dataset\n",
    "* [`src.nodata`](https://rasterio.readthedocs.io/en/latest/api/rasterio._base.html#id17) - The dataset’s single nodata value\n",
    "* [`src.res`](https://rasterio.readthedocs.io/en/latest/api/rasterio._base.html#id22) - Returns the (width, height) of pixels in the units of its coordinate reference system.\n",
    "* [`src.transform`](https://rasterio.readthedocs.io/en/latest/api/rasterio._base.html#id24) - The dataset’s georeferencing transformation matrix\n",
    "* [`src.units`](https://rasterio.readthedocs.io/en/latest/api/rasterio._base.html#id25) - one units string for each dataset band\n",
    "* `src.width` - the number of pixels in each row"
   ]
  },
  {
   "cell_type": "markdown",
   "id": "3b996067",
   "metadata": {},
   "source": [
    "All of the parts of the raster that were addressed in the first section of this notebook  _Anatomy of a raster_ are accessible using these attributes."
   ]
  },
  {
   "cell_type": "markdown",
   "id": "9fc361ec",
   "metadata": {},
   "source": [
    "### Example"
   ]
  },
  {
   "cell_type": "code",
   "execution_count": null,
   "id": "84af9c1d",
   "metadata": {},
   "outputs": [],
   "source": [
    "# Try substituting any of the above attributes in for this dataset\n",
    "# with rasterio.open(filepath_rad, 'r') as src:\n",
    "#     pprint(src.meta)"
   ]
  },
  {
   "cell_type": "code",
   "execution_count": null,
   "id": "d2e6e5f0",
   "metadata": {},
   "outputs": [],
   "source": [
    "# with rasterio.open(filepath_rad, 'r') as src:\n",
    "#     print(src.read().shape)"
   ]
  },
  {
   "cell_type": "markdown",
   "id": "516f1d44",
   "metadata": {},
   "source": [
    "With the above print statement we learned from the `src.meta` information that the raster has 224 bands (`count`) it has the coordinate reference system EPSG code 32610 (`crs`), it is an ENVI filetype (`driver`), the datatype is float32 (`dtype`), it has 250 rows or is 250 pixels tall (`height`), there isn't a nodata value set (`nodata`), the affine tranform is (1.02258007728804e-15, 16.7, 769855.79, 16.7, -1.02258007728804e-15, 3751257.6) (`tranform`), and that the raster has 375 columns or is 375 pixels wide.  We also see the relative filepath of the raster from the `src.name` attribute."
   ]
  },
  {
   "cell_type": "markdown",
   "id": "eda36af3",
   "metadata": {},
   "source": [
    "### 📝 Checking In\n",
    "\n",
    "Which of the following are metadata in an AVIRIS reflectance dataset?\n",
    "\n",
    "- A) Number of bands\n",
    "- B) Coordinate information\n",
    "- C) Reflectance values\n",
    "- D) Height/Lines and Width/Samples\n",
    "\n",
    "Answer with all of the letters that are metadata."
   ]
  },
  {
   "cell_type": "markdown",
   "id": "b88ac8dc",
   "metadata": {},
   "source": [
    "## 🚜 Working with the Data"
   ]
  },
  {
   "cell_type": "markdown",
   "id": "143e1639",
   "metadata": {},
   "source": [
    "While the raster file is is accessed through a unique filetype-specific library, the actual data is almost always just a common matrix datatype.  Numpy is the most common library used, but xarray is also used by some data libraries.\n",
    "\n",
    "This means that everything we working on last week for matricies applies to the data inside the raster file."
   ]
  },
  {
   "cell_type": "code",
   "execution_count": null,
   "id": "c6bc9f2b",
   "metadata": {},
   "outputs": [],
   "source": [
    "# with rasterio.open(filepath_rad, 'r') as src:\n",
    "#     red_band = src.read(50)\n",
    "#     blue_band = src.read(10)\n",
    "#     green_band = src.read(20)"
   ]
  },
  {
   "cell_type": "markdown",
   "id": "fb610d9e",
   "metadata": {},
   "source": [
    "### Indexing\n",
    "\n",
    "A reminder about matrix indexing:\n",
    "* 2D matrices use row, column order\n",
    "* 3D matrices use height, row, column order"
   ]
  },
  {
   "cell_type": "code",
   "execution_count": null,
   "id": "a09c5bee",
   "metadata": {},
   "outputs": [],
   "source": [
    "# red_band[249, 374]"
   ]
  },
  {
   "cell_type": "code",
   "execution_count": null,
   "id": "1f936ae2",
   "metadata": {},
   "outputs": [],
   "source": [
    "# red_band[144, 100]"
   ]
  },
  {
   "cell_type": "code",
   "execution_count": null,
   "id": "0d2b95d7",
   "metadata": {
    "scrolled": true
   },
   "outputs": [],
   "source": [
    "# One long row of data\n",
    "# red_band[4]"
   ]
  },
  {
   "cell_type": "markdown",
   "id": "388c42c1",
   "metadata": {},
   "source": [
    "### Exploratory statistics"
   ]
  },
  {
   "cell_type": "markdown",
   "id": "40281795",
   "metadata": {},
   "source": [
    "When I open a dataset I often like to get a sense of it by just looking at looking at statistics for one of the bands.  We can use the aggregation functions from last week for this."
   ]
  },
  {
   "cell_type": "code",
   "execution_count": null,
   "id": "59be474f",
   "metadata": {},
   "outputs": [],
   "source": [
    "# print('max value: ', green_band.max())\n",
    "# print('mean value: ', green_band.mean())\n",
    "# print('min value: ', green_band.min())"
   ]
  },
  {
   "cell_type": "markdown",
   "id": "a99852e7",
   "metadata": {},
   "source": [
    "### Matrix Operations"
   ]
  },
  {
   "cell_type": "markdown",
   "id": "cab2a8c7",
   "metadata": {},
   "source": [
    "Adding and subtracting two matrices"
   ]
  },
  {
   "cell_type": "code",
   "execution_count": null,
   "id": "2ebe280f",
   "metadata": {},
   "outputs": [],
   "source": [
    "# red + green"
   ]
  },
  {
   "cell_type": "code",
   "execution_count": null,
   "id": "752eed35",
   "metadata": {},
   "outputs": [],
   "source": [
    "# blue - red"
   ]
  },
  {
   "cell_type": "markdown",
   "id": "439a9595",
   "metadata": {},
   "source": [
    "Multiplying or dividing a matrix by a constant"
   ]
  },
  {
   "cell_type": "code",
   "execution_count": null,
   "id": "9eb96a6d",
   "metadata": {},
   "outputs": [],
   "source": [
    "# red*5"
   ]
  },
  {
   "cell_type": "code",
   "execution_count": null,
   "id": "f526b1b9",
   "metadata": {
    "scrolled": true
   },
   "outputs": [],
   "source": [
    "# green/7"
   ]
  },
  {
   "cell_type": "markdown",
   "id": "6e9fe885",
   "metadata": {},
   "source": [
    "Some other built in operations"
   ]
  },
  {
   "cell_type": "code",
   "execution_count": null,
   "id": "75b9ca7c",
   "metadata": {},
   "outputs": [],
   "source": [
    "# We have to take the absolute value of red because the nodata values are negative and that throws an error\n",
    "# np.sqrt(abs(red))"
   ]
  },
  {
   "cell_type": "code",
   "execution_count": null,
   "id": "939377e2",
   "metadata": {},
   "outputs": [],
   "source": [
    "# np.power(red, 5)"
   ]
  },
  {
   "cell_type": "markdown",
   "id": "0e3285bb",
   "metadata": {},
   "source": [
    "There are lots more built in functions.  [This table](https://www.oreilly.com/library/view/python-for-data/9781449323592/ch04.html#table_unary_ufuncs) has a nice list."
   ]
  },
  {
   "cell_type": "markdown",
   "id": "442ea7bc",
   "metadata": {},
   "source": [
    "### Plotting\n",
    "\n",
    "Also notice that plotting works for a single band"
   ]
  },
  {
   "cell_type": "code",
   "execution_count": null,
   "id": "a00306b3",
   "metadata": {},
   "outputs": [],
   "source": [
    "# pyplot.imshow(band5, cmap='pink')"
   ]
  },
  {
   "cell_type": "markdown",
   "id": "2347bd9c",
   "metadata": {},
   "source": [
    "### 📝 Checking In\n",
    "\n",
    "Say that the variable `reflectance` hold all of the data for an AVIRIS raster -- count 224 with 1000 rows and 350 columns.\n",
    "\n",
    "What is the index you need to use to get the all the data for band 100?"
   ]
  },
  {
   "cell_type": "markdown",
   "id": "8400bac1",
   "metadata": {},
   "source": [
    "## 💾 Saving a file"
   ]
  },
  {
   "cell_type": "markdown",
   "id": "fe612d81",
   "metadata": {},
   "source": [
    "At a certain point you may want to do it.  Let's start by getting some data to save"
   ]
  },
  {
   "cell_type": "code",
   "execution_count": null,
   "id": "02d2dc5b",
   "metadata": {},
   "outputs": [],
   "source": [
    "# Get our data setup\n",
    "# with rasterio.open(filepath_rad, 'r') as src:\n",
    "#     red_src = src.read(50)\n",
    "#     blue_src = src.read(20)\n",
    "#     green_src = src.read(10)\n",
    "#     meta = src.meta.copy()"
   ]
  },
  {
   "cell_type": "markdown",
   "id": "dfe51c79",
   "metadata": {},
   "source": [
    "It is best practice to persist or update as much of the metadata from your old raster as you can.  As you may have experienced working with data, complete and accurate metadata can make someone else's life (and maybe even your own) much easier down the road.  Make sure you look at it, though, to make sure all the information still applies to your new raster."
   ]
  },
  {
   "cell_type": "markdown",
   "id": "7c2436be",
   "metadata": {},
   "source": [
    "Count has changed, since we are only saving 3 of the 224 total bands, so we need to upadate the `count` value.  I am also going to set -50 as the nodata value."
   ]
  },
  {
   "cell_type": "code",
   "execution_count": null,
   "id": "69f75b06",
   "metadata": {},
   "outputs": [],
   "source": [
    "# meta['count'] = 3"
   ]
  },
  {
   "cell_type": "markdown",
   "id": "109df8e1",
   "metadata": {},
   "source": [
    "Another thing you could do is add tags to your bands so that you remember what band number you used.  You do this when you write out the data."
   ]
  },
  {
   "cell_type": "code",
   "execution_count": null,
   "id": "3267783e",
   "metadata": {},
   "outputs": [],
   "source": [
    "# Make the output directory if it does not exist yet\n",
    "# import os\n",
    "# if not os.path.exists('../output_data'):\n",
    "#     os.makedirs('../output_data')"
   ]
  },
  {
   "cell_type": "code",
   "execution_count": null,
   "id": "d1180c2a",
   "metadata": {},
   "outputs": [],
   "source": [
    "# with rasterio.open(\n",
    "#     '../output_data/rgb',\n",
    "#     'w',\n",
    "#     **meta\n",
    "# ) as dst:\n",
    "#     # Write data matrices\n",
    "#     dst.write(red_src, 1)\n",
    "#     dst.write(green_src, 2)\n",
    "#     dst.write(blue_src, 3)\n",
    "#     # Add band tags\n",
    "#     dst.update_tags(1, src_band=50)\n",
    "#     dst.update_tags(2, src_band=10)\n",
    "#     dst.update_tags(3, src_band=20)"
   ]
  },
  {
   "cell_type": "markdown",
   "id": "c8a7ca98",
   "metadata": {},
   "source": [
    "If we want to confirm that our dataset saved properly we can open it back up and look at what we saved."
   ]
  },
  {
   "cell_type": "code",
   "execution_count": null,
   "id": "7eee1944",
   "metadata": {
    "scrolled": true
   },
   "outputs": [],
   "source": [
    "# with rasterio.open('../output_data/rgb', 'r') as src:\n",
    "#     red_dst = src.read(1)\n",
    "#     green_dst = src.read(2)\n",
    "#     blue_dst = src.read(3)"
   ]
  },
  {
   "cell_type": "code",
   "execution_count": null,
   "id": "d146335e",
   "metadata": {},
   "outputs": [],
   "source": [
    "# print('Source stats: ')\n",
    "# print('red: ', red_src.mean(), red_src.max())\n",
    "# print('green: ', green_src.mean(), green_src.max())\n",
    "# print('blue: ', blue_src.mean(), blue_src.max())\n",
    "# print('Destination stats: ')\n",
    "# print('red: ', red_dst.mean(), red_dst.max())\n",
    "# print('green: ', green_dst.mean(), green_dst.max())\n",
    "# print('blue: ', blue_dst.mean(), blue_dst.max())"
   ]
  },
  {
   "cell_type": "markdown",
   "id": "9f99a6d3",
   "metadata": {},
   "source": [
    "Our values line up!  And the new values came from the raster we made ourselves.  😄"
   ]
  },
  {
   "cell_type": "code",
   "execution_count": null,
   "id": "934025da",
   "metadata": {},
   "outputs": [],
   "source": []
  }
 ],
 "metadata": {
  "kernelspec": {
   "display_name": "Python 3 (ipykernel)",
   "language": "python",
   "name": "python3"
  },
  "language_info": {
   "codemirror_mode": {
    "name": "ipython",
    "version": 3
   },
   "file_extension": ".py",
   "mimetype": "text/x-python",
   "name": "python",
   "nbconvert_exporter": "python",
   "pygments_lexer": "ipython3",
   "version": "3.9.7"
  }
 },
 "nbformat": 4,
 "nbformat_minor": 5
}
