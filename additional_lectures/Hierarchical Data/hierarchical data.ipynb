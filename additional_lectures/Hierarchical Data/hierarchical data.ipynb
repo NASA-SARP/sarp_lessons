{
 "cells": [
  {
   "cell_type": "markdown",
   "id": "756cba91",
   "metadata": {},
   "source": [
    "# Hierarchical Data Structure\n",
    "\n",
    "* [How netCDF files are organized](https://pro.arcgis.com/en/pro-app/latest/help/data/multidimensional/fundamentals-of-netcdf-data-storage.htm)\n",
    "* [HDF files](https://docs.h5py.org/en/stable/quick.html)\n",
    "\n",
    "In order to use the data in this notebook you will need to unzip the three files in this folder."
   ]
  },
  {
   "cell_type": "markdown",
   "id": "2db51d3f",
   "metadata": {},
   "source": [
    "## Content\n",
    "\n",
    "- Background\n",
    "- HDF4 example\n",
    "- HDF5 example\n",
    "- netCDF example"
   ]
  },
  {
   "cell_type": "markdown",
   "id": "abcc49ad",
   "metadata": {},
   "source": [
    "# File Format Structure"
   ]
  },
  {
   "cell_type": "markdown",
   "id": "c042930d",
   "metadata": {},
   "source": [
    "## Concept No. 1: pros and cons of lenient file formats\n",
    "<img src='./images/strict_file_format_spectrum.jpg' width=800>\n",
    "\n",
    "|       | Pro | Con |\n",
    "| :----------- | :-----------: | :-----------: |\n",
    "| **Strict File Format**      | easy to know what you're going to get       | doesn't handle all data types       |\n",
    "| **Not Strict File Format**   | handles lots of data types        | what's inside is unpredictable      |"
   ]
  },
  {
   "cell_type": "markdown",
   "id": "dd642868",
   "metadata": {},
   "source": [
    "## Concept No. 2: organizing variables by dimension\n",
    "\n",
    "<img src=\"https://pro.arcgis.com/en/pro-app/latest/help/data/multidimensional/GUID-D872A4C3-749E-4159-A6C0-FB6D3B47C5D8-web.gif\">\n",
    "\n",
    "<center>A 3-dimensional dataset</center>\n",
    "\n",
    "<img src=\"https://pro.arcgis.com/en/pro-app/latest/help/data/multidimensional/GUID-1D7240CD-54D4-45FF-A150-43B1AFFBF7D6-web.gif\">\n",
    "\n",
    "<center>A 4-dimensional dataset</center>\n",
    "\n",
    "Images from [Fundamentals of NetCDF Storage](https://pro.arcgis.com/en/pro-app/latest/help/data/multidimensional/fundamentals-of-netcdf-data-storage.htm) by ESRI\n",
    "\n",
    "When variables are defined in netCDF files they are also assigned dimensions.  **Dimensions** tell us the axis over which our data varies.  Common examples are latitute, longitude, or time.  The values of the dimensions are given in special variables called **coordinate variables**.  The coordinate variables and dimensions help us understand what the core data stored in each variable is describing.  **Attributes** store metadata about our variables.\n",
    "\n",
    "## Concept No. 3: groups and datasets\n",
    "\n",
    "In the previous raster lessons we have been using data where the organization is a single dataset per file.  HDF and netCDF are unique in that they allow multiple datasets to be in the same file.  To keep organized, datasets are allowed to be stored together in **groups**.  An analogy is to think of groups like folders in a folder structure and datasets as the individual files.  Groups can have more groups inside of them."
   ]
  },
  {
   "cell_type": "markdown",
   "id": "2c2226d4",
   "metadata": {},
   "source": [
    "# HDF4\n",
    "\n",
    "#### Install\n",
    "\n",
    "In Anaconda Powershell:\n",
    "\n",
    "`conda install -c conda-forge -n lessons pyhdf`\n",
    "\n",
    "#### Documentation\n",
    "\n",
    "http://fhs.github.io/pyhdf/modules/SD.html  (My opinion: pretty terrible docs)"
   ]
  },
  {
   "cell_type": "markdown",
   "id": "802e78ce",
   "metadata": {},
   "source": [
    "#### Example dataset: CALIPSO\n",
    "\n",
    "CALIPSO Level 2: `CAL_LID_L2_01kmCLay-Standard-V4-21.2020-07-01T07-32-43ZD.hdf`\n",
    "\n",
    "[download link](https://drive.google.com/file/d/1AMNZn8u4TGYefZjuo9UjmSXox1LcGdSE/view?usp=sharing)"
   ]
  },
  {
   "cell_type": "markdown",
   "id": "38a85fa5",
   "metadata": {},
   "source": [
    "### Opening the Dataset"
   ]
  },
  {
   "cell_type": "code",
   "execution_count": 52,
   "id": "4ea1bea7",
   "metadata": {},
   "outputs": [],
   "source": [
    "from pyhdf.SD import *"
   ]
  },
  {
   "cell_type": "code",
   "execution_count": 53,
   "id": "48f40f79",
   "metadata": {},
   "outputs": [],
   "source": [
    "filepath = './CAL_LID_L2_01kmCLay-Standard-V4-21.2020-07-01T07-32-43ZD.hdf'"
   ]
  },
  {
   "cell_type": "code",
   "execution_count": 54,
   "id": "8d26e2c6",
   "metadata": {
    "scrolled": true
   },
   "outputs": [],
   "source": [
    "# Opening the file\n",
    "d = SD(filepath)"
   ]
  },
  {
   "cell_type": "code",
   "execution_count": 55,
   "id": "43912bb0",
   "metadata": {},
   "outputs": [
    {
     "data": {
      "text/plain": [
       "<pyhdf.SD.SD at 0x1d418331d00>"
      ]
     },
     "execution_count": 55,
     "metadata": {},
     "output_type": "execute_result"
    }
   ],
   "source": [
    "d"
   ]
  },
  {
   "cell_type": "markdown",
   "id": "2feea90a",
   "metadata": {},
   "source": [
    "### Exploring the dataset"
   ]
  },
  {
   "cell_type": "code",
   "execution_count": 56,
   "id": "ba88d014",
   "metadata": {},
   "outputs": [
    {
     "data": {
      "text/plain": [
       "{'Profile_ID': (('fakeDim0', 'fakeDim1'), (17120, 1), 24, 0),\n",
       " 'Latitude': (('fakeDim2', 'fakeDim3'), (17120, 1), 5, 1),\n",
       " 'Longitude': (('fakeDim4', 'fakeDim5'), (17120, 1), 5, 2),\n",
       " 'Profile_Time': (('fakeDim6', 'fakeDim7'), (17120, 1), 6, 3),\n",
       " 'Profile_UTC_Time': (('fakeDim8', 'fakeDim9'), (17120, 1), 6, 4),\n",
       " 'Day_Night_Flag': (('fakeDim10', 'fakeDim11'), (17120, 1), 20, 5),\n",
       " 'Off_Nadir_Angle': (('fakeDim12', 'fakeDim13'), (17120, 1), 5, 6),\n",
       " 'Solar_Zenith_Angle': (('fakeDim14', 'fakeDim15'), (17120, 1), 5, 7),\n",
       " 'Solar_Azimuth_Angle': (('fakeDim16', 'fakeDim17'), (17120, 1), 5, 8),\n",
       " 'Scattering_Angle': (('fakeDim18', 'fakeDim19'), (17120, 1), 5, 9),\n",
       " 'Spacecraft_Position': (('fakeDim20', 'fakeDim21'), (17120, 3), 6, 10),\n",
       " 'Parallel_Column_Reflectance_532': (('fakeDim22', 'fakeDim23'),\n",
       "  (17120, 1),\n",
       "  5,\n",
       "  11),\n",
       " 'Parallel_Column_Reflectance_Uncertainty_532': (('fakeDim24', 'fakeDim25'),\n",
       "  (17120, 1),\n",
       "  5,\n",
       "  12),\n",
       " 'Perpendicular_Column_Reflectance_532': (('fakeDim26', 'fakeDim27'),\n",
       "  (17120, 1),\n",
       "  5,\n",
       "  13),\n",
       " 'Perpendicular_Column_Reflectance_Uncertainty_532': (('fakeDim28',\n",
       "   'fakeDim29'),\n",
       "  (17120, 1),\n",
       "  5,\n",
       "  14),\n",
       " 'Column_Integrated_Attenuated_Backscatter_532': (('fakeDim30', 'fakeDim31'),\n",
       "  (17120, 1),\n",
       "  5,\n",
       "  15),\n",
       " 'Column_IAB_Cumulative_Probability': (('fakeDim32', 'fakeDim33'),\n",
       "  (17120, 1),\n",
       "  5,\n",
       "  16),\n",
       " 'Tropopause_Height': (('fakeDim34', 'fakeDim35'), (17120, 1), 5, 17),\n",
       " 'Tropopause_Temperature': (('fakeDim36', 'fakeDim37'), (17120, 1), 5, 18),\n",
       " 'IGBP_Surface_Type': (('fakeDim38', 'fakeDim39'), (17120, 1), 20, 19),\n",
       " 'Snow_Ice_Surface_Type': (('fakeDim40', 'fakeDim41'), (17120, 1), 21, 20),\n",
       " 'DEM_Surface_Elevation': (('fakeDim42', 'fakeDim43'), (17120, 1), 5, 21),\n",
       " 'Minimum_Laser_Energy_532': (('fakeDim44', 'fakeDim45'), (17120, 1), 5, 22),\n",
       " 'Number_Layers_Found': (('fakeDim46', 'fakeDim47'), (17120, 1), 20, 23),\n",
       " 'Layer_Top_Altitude': (('fakeDim48', 'fakeDim49'), (17120, 10), 5, 24),\n",
       " 'Layer_Base_Altitude': (('fakeDim50', 'fakeDim51'), (17120, 10), 5, 25),\n",
       " 'Layer_Top_Pressure': (('fakeDim52', 'fakeDim53'), (17120, 10), 5, 26),\n",
       " 'Midlayer_Pressure': (('fakeDim54', 'fakeDim55'), (17120, 10), 5, 27),\n",
       " 'Layer_Base_Pressure': (('fakeDim56', 'fakeDim57'), (17120, 10), 5, 28),\n",
       " 'Layer_Top_Temperature': (('fakeDim58', 'fakeDim59'), (17120, 10), 5, 29),\n",
       " 'Layer_Centroid_Temperature': (('fakeDim60', 'fakeDim61'),\n",
       "  (17120, 10),\n",
       "  5,\n",
       "  30),\n",
       " 'Midlayer_Temperature': (('fakeDim62', 'fakeDim63'), (17120, 10), 5, 31),\n",
       " 'Layer_Base_Temperature': (('fakeDim64', 'fakeDim65'), (17120, 10), 5, 32),\n",
       " 'Opacity_Flag': (('fakeDim66', 'fakeDim67'), (17120, 10), 20, 33),\n",
       " 'Attenuated_Scattering_Ratio_Statistics_532': (('fakeDim68', 'fakeDim69'),\n",
       "  (17120, 60),\n",
       "  5,\n",
       "  34),\n",
       " 'Attenuated_Backscatter_Statistics_532': (('fakeDim70', 'fakeDim71'),\n",
       "  (17120, 60),\n",
       "  5,\n",
       "  35),\n",
       " 'Integrated_Attenuated_Backscatter_532': (('fakeDim72', 'fakeDim73'),\n",
       "  (17120, 10),\n",
       "  5,\n",
       "  36),\n",
       " 'Integrated_Attenuated_Backscatter_Uncertainty_532': (('fakeDim74',\n",
       "   'fakeDim75'),\n",
       "  (17120, 10),\n",
       "  5,\n",
       "  37),\n",
       " 'Attenuated_Backscatter_Statistics_1064': (('fakeDim76', 'fakeDim77'),\n",
       "  (17120, 60),\n",
       "  5,\n",
       "  38),\n",
       " 'Integrated_Attenuated_Backscatter_1064': (('fakeDim78', 'fakeDim79'),\n",
       "  (17120, 10),\n",
       "  5,\n",
       "  39),\n",
       " 'Integrated_Attenuated_Backscatter_Uncertainty_1064': (('fakeDim80',\n",
       "   'fakeDim81'),\n",
       "  (17120, 10),\n",
       "  5,\n",
       "  40),\n",
       " 'Volume_Depolarization_Ratio_Statistics': (('fakeDim82', 'fakeDim83'),\n",
       "  (17120, 60),\n",
       "  5,\n",
       "  41),\n",
       " 'Integrated_Volume_Depolarization_Ratio': (('fakeDim84', 'fakeDim85'),\n",
       "  (17120, 10),\n",
       "  5,\n",
       "  42),\n",
       " 'Integrated_Volume_Depolarization_Ratio_Uncertainty': (('fakeDim86',\n",
       "   'fakeDim87'),\n",
       "  (17120, 10),\n",
       "  5,\n",
       "  43),\n",
       " 'Attenuated_Total_Color_Ratio_Statistics': (('fakeDim88', 'fakeDim89'),\n",
       "  (17120, 60),\n",
       "  5,\n",
       "  44),\n",
       " 'Integrated_Attenuated_Total_Color_Ratio': (('fakeDim90', 'fakeDim91'),\n",
       "  (17120, 10),\n",
       "  5,\n",
       "  45),\n",
       " 'Integrated_Attenuated_Total_Color_Ratio_Uncertainty': (('fakeDim92',\n",
       "   'fakeDim93'),\n",
       "  (17120, 10),\n",
       "  5,\n",
       "  46),\n",
       " 'Overlying_Integrated_Attenuated_Backscatter_532': (('fakeDim94',\n",
       "   'fakeDim95'),\n",
       "  (17120, 10),\n",
       "  5,\n",
       "  47),\n",
       " 'Layer_IAB_QA_Factor': (('fakeDim96', 'fakeDim97'), (17120, 10), 5, 48),\n",
       " 'CAD_Score': (('fakeDim98', 'fakeDim99'), (17120, 10), 20, 49),\n",
       " 'Initial_CAD_Score': (('fakeDim100', 'fakeDim101'), (17120, 10), 20, 50),\n",
       " 'Feature_Classification_Flags': (('fakeDim102', 'fakeDim103'),\n",
       "  (17120, 10),\n",
       "  23,\n",
       "  51),\n",
       " 'Surface_Top_Altitude_532': (('fakeDim104', 'fakeDim105'), (17120, 1), 5, 52),\n",
       " 'Surface_Base_Altitude_532': (('fakeDim106', 'fakeDim107'),\n",
       "  (17120, 1),\n",
       "  5,\n",
       "  53),\n",
       " 'Surface_Integrated_Attenuated_Backscatter_532': (('fakeDim108',\n",
       "   'fakeDim109'),\n",
       "  (17120, 1),\n",
       "  5,\n",
       "  54),\n",
       " 'Surface_532_Integrated_Depolarization_Ratio': (('fakeDim110', 'fakeDim111'),\n",
       "  (17120, 1),\n",
       "  5,\n",
       "  55),\n",
       " 'Surface_532_Integrated_Attenuated_Color_Ratio': (('fakeDim112',\n",
       "   'fakeDim113'),\n",
       "  (17120, 1),\n",
       "  5,\n",
       "  56),\n",
       " 'Surface_Detection_Flags_532': (('fakeDim114', 'fakeDim115'),\n",
       "  (17120, 1),\n",
       "  23,\n",
       "  57),\n",
       " 'Surface_Detection_Confidence_532': (('fakeDim116', 'fakeDim117'),\n",
       "  (17120, 1),\n",
       "  5,\n",
       "  58),\n",
       " 'Surface_Overlying_Integrated_Attenuated_Backscatter_532': (('fakeDim118',\n",
       "   'fakeDim119'),\n",
       "  (17120, 1),\n",
       "  5,\n",
       "  59),\n",
       " 'Surface_Scaled_RMS_Background_532': (('fakeDim120', 'fakeDim121'),\n",
       "  (17120, 1),\n",
       "  5,\n",
       "  60),\n",
       " 'Surface_Peak_Signal_532': (('fakeDim122', 'fakeDim123'), (17120, 1), 5, 61),\n",
       " 'Surface_Detections_333m_532': (('fakeDim124', 'fakeDim125'),\n",
       "  (17120, 1),\n",
       "  22,\n",
       "  62),\n",
       " 'Surface_Top_Altitude_1064': (('fakeDim126', 'fakeDim127'),\n",
       "  (17120, 1),\n",
       "  5,\n",
       "  63),\n",
       " 'Surface_Base_Altitude_1064': (('fakeDim128', 'fakeDim129'),\n",
       "  (17120, 1),\n",
       "  5,\n",
       "  64),\n",
       " 'Surface_Integrated_Attenuated_Backscatter_1064': (('fakeDim130',\n",
       "   'fakeDim131'),\n",
       "  (17120, 1),\n",
       "  5,\n",
       "  65),\n",
       " 'Surface_1064_Integrated_Depolarization_Ratio': (('fakeDim132', 'fakeDim133'),\n",
       "  (17120, 1),\n",
       "  5,\n",
       "  66),\n",
       " 'Surface_1064_Integrated_Attenuated_Color_Ratio': (('fakeDim134',\n",
       "   'fakeDim135'),\n",
       "  (17120, 1),\n",
       "  5,\n",
       "  67),\n",
       " 'Surface_Detection_Flags_1064': (('fakeDim136', 'fakeDim137'),\n",
       "  (17120, 1),\n",
       "  23,\n",
       "  68),\n",
       " 'Surface_Detection_Confidence_1064': (('fakeDim138', 'fakeDim139'),\n",
       "  (17120, 1),\n",
       "  5,\n",
       "  69),\n",
       " 'Surface_Overlying_Integrated_Attenuated_Backscatter_1064': (('fakeDim140',\n",
       "   'fakeDim141'),\n",
       "  (17120, 1),\n",
       "  5,\n",
       "  70),\n",
       " 'Surface_Scaled_RMS_Background_1064': (('fakeDim142', 'fakeDim143'),\n",
       "  (17120, 1),\n",
       "  5,\n",
       "  71),\n",
       " 'Surface_Peak_Signal_1064': (('fakeDim144', 'fakeDim145'), (17120, 1), 5, 72),\n",
       " 'Surface_Detections_333m_1064': (('fakeDim146', 'fakeDim147'),\n",
       "  (17120, 1),\n",
       "  22,\n",
       "  73)}"
      ]
     },
     "execution_count": 56,
     "metadata": {},
     "output_type": "execute_result"
    }
   ],
   "source": [
    "d.datasets()"
   ]
  },
  {
   "cell_type": "markdown",
   "id": "74203bac",
   "metadata": {},
   "source": [
    "Choose a key from the `.datasets()` dictionary and get the varaible info using `.select()`"
   ]
  },
  {
   "cell_type": "code",
   "execution_count": 57,
   "id": "206b29ae",
   "metadata": {
    "scrolled": true
   },
   "outputs": [
    {
     "data": {
      "text/plain": [
       "<pyhdf.SD.SDS at 0x1d4182e6fa0>"
      ]
     },
     "execution_count": 57,
     "metadata": {},
     "output_type": "execute_result"
    }
   ],
   "source": [
    "d.select('Integrated_Attenuated_Backscatter_532')"
   ]
  },
  {
   "cell_type": "markdown",
   "id": "9195fe52",
   "metadata": {},
   "source": [
    "### Getting your data\n",
    "\n",
    "The data can be accessed using `[:]` and is output as a numpy array.  Any of the methods we practiced with numpy arrays in lecture can be used on the dataset."
   ]
  },
  {
   "cell_type": "code",
   "execution_count": 58,
   "id": "703db482",
   "metadata": {},
   "outputs": [
    {
     "data": {
      "text/plain": [
       "array([[-9.999000e+03, -9.999000e+03, -9.999000e+03, ..., -9.999000e+03,\n",
       "        -9.999000e+03, -9.999000e+03],\n",
       "       [-9.999000e+03, -9.999000e+03, -9.999000e+03, ..., -9.999000e+03,\n",
       "        -9.999000e+03, -9.999000e+03],\n",
       "       [-9.999000e+03, -9.999000e+03, -9.999000e+03, ..., -9.999000e+03,\n",
       "        -9.999000e+03, -9.999000e+03],\n",
       "       ...,\n",
       "       [ 7.146672e-02, -9.999000e+03, -9.999000e+03, ..., -9.999000e+03,\n",
       "        -9.999000e+03, -9.999000e+03],\n",
       "       [ 7.079382e-02, -9.999000e+03, -9.999000e+03, ..., -9.999000e+03,\n",
       "        -9.999000e+03, -9.999000e+03],\n",
       "       [ 6.545279e-02, -9.999000e+03, -9.999000e+03, ..., -9.999000e+03,\n",
       "        -9.999000e+03, -9.999000e+03]], dtype=float32)"
      ]
     },
     "execution_count": 58,
     "metadata": {},
     "output_type": "execute_result"
    }
   ],
   "source": [
    "d.select('Integrated_Attenuated_Backscatter_532')[:]"
   ]
  },
  {
   "cell_type": "code",
   "execution_count": 59,
   "id": "70a25426",
   "metadata": {},
   "outputs": [],
   "source": [
    "backscatter = d.select('Integrated_Attenuated_Backscatter_532')[:]"
   ]
  },
  {
   "cell_type": "code",
   "execution_count": 60,
   "id": "daac2971",
   "metadata": {},
   "outputs": [
    {
     "data": {
      "text/plain": [
       "numpy.ndarray"
      ]
     },
     "execution_count": 60,
     "metadata": {},
     "output_type": "execute_result"
    }
   ],
   "source": [
    "type(backscatter)"
   ]
  },
  {
   "cell_type": "code",
   "execution_count": 61,
   "id": "dc1a66bd",
   "metadata": {},
   "outputs": [
    {
     "data": {
      "text/plain": [
       "(17120, 10)"
      ]
     },
     "execution_count": 61,
     "metadata": {},
     "output_type": "execute_result"
    }
   ],
   "source": [
    "backscatter.shape"
   ]
  },
  {
   "cell_type": "code",
   "execution_count": 62,
   "id": "fbf05db7",
   "metadata": {},
   "outputs": [
    {
     "data": {
      "text/plain": [
       "0.1473684"
      ]
     },
     "execution_count": 62,
     "metadata": {},
     "output_type": "execute_result"
    }
   ],
   "source": [
    "backscatter.max()"
   ]
  },
  {
   "cell_type": "markdown",
   "id": "6e1e8f30",
   "metadata": {},
   "source": [
    "### Attributes\n",
    "\n",
    "Get metadata with the `.attributes()` method."
   ]
  },
  {
   "cell_type": "code",
   "execution_count": 63,
   "id": "860621da",
   "metadata": {},
   "outputs": [
    {
     "data": {
      "text/plain": [
       "{'units': 'per steradian',\n",
       " 'format': 'Float_32',\n",
       " 'valid_range': '0.0...1.8',\n",
       " 'fillvalue': -9999.0}"
      ]
     },
     "execution_count": 63,
     "metadata": {},
     "output_type": "execute_result"
    }
   ],
   "source": [
    "d.select('Integrated_Attenuated_Backscatter_532').attributes()"
   ]
  },
  {
   "cell_type": "markdown",
   "id": "00773efc",
   "metadata": {},
   "source": [
    "### Masking a no data value\n",
    "\n",
    "While HDF5 data will automatically mask out nodata values, HDF4 datasets often don't.  To mask them yourself you can look up the fill value and apply it to the array."
   ]
  },
  {
   "cell_type": "code",
   "execution_count": 64,
   "id": "1c141b62",
   "metadata": {},
   "outputs": [],
   "source": [
    "import numpy.ma as ma"
   ]
  },
  {
   "cell_type": "code",
   "execution_count": 65,
   "id": "65fe7988",
   "metadata": {},
   "outputs": [],
   "source": [
    "# Mask the array\n",
    "masked_backscatter = ma.masked_where(backscatter == -9999, backscatter)\n",
    "# Update the nodata value\n",
    "ma.set_fill_value(backscatter, -9999)"
   ]
  },
  {
   "cell_type": "code",
   "execution_count": 66,
   "id": "fe8c2e25",
   "metadata": {},
   "outputs": [
    {
     "data": {
      "text/plain": [
       "masked_array(\n",
       "  data=[[--, --, --, --, --, --, --, --, --, --],\n",
       "        [--, --, --, --, --, --, --, --, --, --],\n",
       "        [--, --, --, --, --, --, --, --, --, --],\n",
       "        [--, --, --, --, --, --, --, --, --, --],\n",
       "        [--, --, --, --, --, --, --, --, --, --],\n",
       "        [0.014419915154576302, --, --, --, --, --, --, --, --, --],\n",
       "        [0.0465192012488842, --, --, --, --, --, --, --, --, --],\n",
       "        [--, --, --, --, --, --, --, --, --, --],\n",
       "        [--, --, --, --, --, --, --, --, --, --],\n",
       "        [0.020508071407675743, --, --, --, --, --, --, --, --, --],\n",
       "        [--, --, --, --, --, --, --, --, --, --],\n",
       "        [0.0035129841417074203, --, --, --, --, --, --, --, --, --],\n",
       "        [0.018650395795702934, --, --, --, --, --, --, --, --, --],\n",
       "        [0.007342418190091848, --, --, --, --, --, --, --, --, --],\n",
       "        [0.037423163652420044, --, --, --, --, --, --, --, --, --],\n",
       "        [0.02184727042913437, --, --, --, --, --, --, --, --, --],\n",
       "        [0.02546164207160473, --, --, --, --, --, --, --, --, --],\n",
       "        [--, --, --, --, --, --, --, --, --, --],\n",
       "        [0.005056827329099178, --, --, --, --, --, --, --, --, --],\n",
       "        [0.005110519472509623, --, --, --, --, --, --, --, --, --],\n",
       "        [--, --, --, --, --, --, --, --, --, --],\n",
       "        [--, --, --, --, --, --, --, --, --, --],\n",
       "        [--, --, --, --, --, --, --, --, --, --],\n",
       "        [--, --, --, --, --, --, --, --, --, --],\n",
       "        [--, --, --, --, --, --, --, --, --, --],\n",
       "        [0.007305589970201254, --, --, --, --, --, --, --, --, --],\n",
       "        [--, --, --, --, --, --, --, --, --, --],\n",
       "        [--, --, --, --, --, --, --, --, --, --],\n",
       "        [0.014048753306269646, --, --, --, --, --, --, --, --, --],\n",
       "        [--, --, --, --, --, --, --, --, --, --],\n",
       "        [--, --, --, --, --, --, --, --, --, --],\n",
       "        [--, --, --, --, --, --, --, --, --, --],\n",
       "        [--, --, --, --, --, --, --, --, --, --],\n",
       "        [--, --, --, --, --, --, --, --, --, --],\n",
       "        [--, --, --, --, --, --, --, --, --, --],\n",
       "        [--, --, --, --, --, --, --, --, --, --],\n",
       "        [0.020430590957403183, --, --, --, --, --, --, --, --, --],\n",
       "        [--, --, --, --, --, --, --, --, --, --],\n",
       "        [--, --, --, --, --, --, --, --, --, --],\n",
       "        [--, --, --, --, --, --, --, --, --, --],\n",
       "        [--, --, --, --, --, --, --, --, --, --],\n",
       "        [--, --, --, --, --, --, --, --, --, --],\n",
       "        [--, --, --, --, --, --, --, --, --, --],\n",
       "        [--, --, --, --, --, --, --, --, --, --],\n",
       "        [--, --, --, --, --, --, --, --, --, --],\n",
       "        [--, --, --, --, --, --, --, --, --, --],\n",
       "        [--, --, --, --, --, --, --, --, --, --],\n",
       "        [--, --, --, --, --, --, --, --, --, --],\n",
       "        [--, --, --, --, --, --, --, --, --, --],\n",
       "        [--, --, --, --, --, --, --, --, --, --],\n",
       "        [0.06384915113449097, --, --, --, --, --, --, --, --, --],\n",
       "        [0.06754497438669205, --, --, --, --, --, --, --, --, --],\n",
       "        [0.07606016844511032, --, --, --, --, --, --, --, --, --],\n",
       "        [0.07222440093755722, --, --, --, --, --, --, --, --, --],\n",
       "        [0.07357969880104065, --, --, --, --, --, --, --, --, --],\n",
       "        [0.06455424427986145, --, --, --, --, --, --, --, --, --],\n",
       "        [0.06193232908844948, --, --, --, --, --, --, --, --, --],\n",
       "        [0.06667017191648483, --, --, --, --, --, --, --, --, --],\n",
       "        [0.06219891086220741, --, --, --, --, --, --, --, --, --],\n",
       "        [0.047535818070173264, --, --, --, --, --, --, --, --, --],\n",
       "        [0.008343078196048737, --, --, --, --, --, --, --, --, --],\n",
       "        [0.015935031697154045, --, --, --, --, --, --, --, --, --],\n",
       "        [0.045539628714323044, --, --, --, --, --, --, --, --, --],\n",
       "        [0.06051640957593918, --, --, --, --, --, --, --, --, --],\n",
       "        [0.06098818778991699, --, --, --, --, --, --, --, --, --],\n",
       "        [0.06175035610795021, --, --, --, --, --, --, --, --, --],\n",
       "        [0.035528820008039474, --, --, --, --, --, --, --, --, --],\n",
       "        [0.023173863068223, --, --, --, --, --, --, --, --, --],\n",
       "        [0.04014786705374718, 0.0015499497530981898, --, --, --, --, --,\n",
       "         --, --, --],\n",
       "        [0.03779793158173561, 0.010451153852045536, --, --, --, --, --,\n",
       "         --, --, --],\n",
       "        [0.03328077867627144, 0.013113627210259438, --, --, --, --, --,\n",
       "         --, --, --],\n",
       "        [0.025456970557570457, 0.013707774691283703, --, --, --, --, --,\n",
       "         --, --, --],\n",
       "        [0.004599596373736858, 0.01241966150701046, --, --, --, --, --,\n",
       "         --, --, --],\n",
       "        [0.05606957525014877, --, --, --, --, --, --, --, --, --],\n",
       "        [0.005850658752024174, 0.04178224503993988, --, --, --, --, --,\n",
       "         --, --, --],\n",
       "        [0.024383941665291786, 0.027428651228547096, --, --, --, --, --,\n",
       "         --, --, --],\n",
       "        [0.035722967237234116, 0.016720416024327278, --, --, --, --, --,\n",
       "         --, --, --],\n",
       "        [0.060491058975458145, --, --, --, --, --, --, --, --, --],\n",
       "        [0.05573536083102226, 0.0017276483122259378, --, --, --, --, --,\n",
       "         --, --, --],\n",
       "        [0.05727461725473404, 0.0012825647136196494, --, --, --, --, --,\n",
       "         --, --, --],\n",
       "        [0.06151576340198517, --, --, --, --, --, --, --, --, --],\n",
       "        [0.05871916562318802, --, --, --, --, --, --, --, --, --],\n",
       "        [0.0556531697511673, --, --, --, --, --, --, --, --, --],\n",
       "        [0.06037989631295204, --, --, --, --, --, --, --, --, --],\n",
       "        [0.06109263747930527, --, --, --, --, --, --, --, --, --],\n",
       "        [0.06534979492425919, --, --, --, --, --, --, --, --, --],\n",
       "        [0.06474971026182175, --, --, --, --, --, --, --, --, --],\n",
       "        [0.05914799124002457, --, --, --, --, --, --, --, --, --],\n",
       "        [0.06604515016078949, --, --, --, --, --, --, --, --, --],\n",
       "        [0.06683875620365143, --, --, --, --, --, --, --, --, --],\n",
       "        [0.07031818479299545, --, --, --, --, --, --, --, --, --],\n",
       "        [0.0706884041428566, --, --, --, --, --, --, --, --, --],\n",
       "        [0.07695895433425903, --, --, --, --, --, --, --, --, --],\n",
       "        [0.060839198529720306, --, --, --, --, --, --, --, --, --],\n",
       "        [0.07250568270683289, --, --, --, --, --, --, --, --, --],\n",
       "        [0.07277829945087433, --, --, --, --, --, --, --, --, --],\n",
       "        [0.07336840778589249, --, --, --, --, --, --, --, --, --],\n",
       "        [0.07146672159433365, --, --, --, --, --, --, --, --, --],\n",
       "        [0.07079382240772247, --, --, --, --, --, --, --, --, --],\n",
       "        [0.06545279175043106, --, --, --, --, --, --, --, --, --]],\n",
       "  mask=[[ True,  True,  True, ...,  True,  True,  True],\n",
       "        [ True,  True,  True, ...,  True,  True,  True],\n",
       "        [ True,  True,  True, ...,  True,  True,  True],\n",
       "        ...,\n",
       "        [False,  True,  True, ...,  True,  True,  True],\n",
       "        [False,  True,  True, ...,  True,  True,  True],\n",
       "        [False,  True,  True, ...,  True,  True,  True]],\n",
       "  fill_value=1e+20,\n",
       "  dtype=float32)"
      ]
     },
     "execution_count": 66,
     "metadata": {},
     "output_type": "execute_result"
    }
   ],
   "source": [
    "masked_backscatter"
   ]
  },
  {
   "cell_type": "code",
   "execution_count": null,
   "id": "59e4977e",
   "metadata": {},
   "outputs": [],
   "source": []
  },
  {
   "cell_type": "markdown",
   "id": "49f31b8c",
   "metadata": {},
   "source": [
    "# HDF5\n",
    "\n",
    "#### Install\n",
    "\n",
    "In Anaconda Powershell:\n",
    "\n",
    "`conda install -c conda-forge -n lessons h5py`\n",
    "\n",
    "#### Documentation\n",
    "\n",
    "https://docs.h5py.org/en/stable/quick.html"
   ]
  },
  {
   "cell_type": "markdown",
   "id": "b6ae9722",
   "metadata": {},
   "source": [
    "#### Example Dataset: ASTER Emissivity\n",
    "\n",
    "`AG100.v003.83.-013.0001.h5`"
   ]
  },
  {
   "cell_type": "markdown",
   "id": "ba3e3b6a",
   "metadata": {},
   "source": [
    "### Opening a Dataset"
   ]
  },
  {
   "cell_type": "code",
   "execution_count": 67,
   "id": "2f58b2c1",
   "metadata": {},
   "outputs": [],
   "source": [
    "import h5py"
   ]
  },
  {
   "cell_type": "code",
   "execution_count": 68,
   "id": "712495cc",
   "metadata": {},
   "outputs": [],
   "source": [
    "filepath = './AG100.v003.83.-013.0001.h5'"
   ]
  },
  {
   "cell_type": "code",
   "execution_count": 69,
   "id": "7113b38c",
   "metadata": {},
   "outputs": [],
   "source": [
    "f = h5py.File(filepath, 'r')"
   ]
  },
  {
   "cell_type": "code",
   "execution_count": 70,
   "id": "2cf1cda2",
   "metadata": {},
   "outputs": [
    {
     "data": {
      "text/plain": [
       "<HDF5 file \"AG100.v003.83.-013.0001.h5\" (mode r)>"
      ]
     },
     "execution_count": 70,
     "metadata": {},
     "output_type": "execute_result"
    }
   ],
   "source": [
    "f"
   ]
  },
  {
   "cell_type": "markdown",
   "id": "27d5a044",
   "metadata": {},
   "source": [
    "### Exploring Groups"
   ]
  },
  {
   "cell_type": "code",
   "execution_count": 71,
   "id": "9e19b2b9",
   "metadata": {},
   "outputs": [
    {
     "data": {
      "text/plain": [
       "<KeysViewHDF5 ['ASTER GDEM', 'Emissivity', 'Geolocation', 'Land Water Map', 'NDVI', 'Observations', 'Temperature']>"
      ]
     },
     "execution_count": 71,
     "metadata": {},
     "output_type": "execute_result"
    }
   ],
   "source": [
    "f.keys()"
   ]
  },
  {
   "cell_type": "code",
   "execution_count": 72,
   "id": "96ac18d2",
   "metadata": {},
   "outputs": [
    {
     "data": {
      "text/plain": [
       "<HDF5 group \"/Emissivity\" (2 members)>"
      ]
     },
     "execution_count": 72,
     "metadata": {},
     "output_type": "execute_result"
    }
   ],
   "source": [
    "f['Emissivity']"
   ]
  },
  {
   "cell_type": "code",
   "execution_count": 73,
   "id": "3802fe7e",
   "metadata": {},
   "outputs": [
    {
     "data": {
      "text/plain": [
       "<KeysViewHDF5 ['Mean', 'SDev']>"
      ]
     },
     "execution_count": 73,
     "metadata": {},
     "output_type": "execute_result"
    }
   ],
   "source": [
    "f['Emissivity'].keys()"
   ]
  },
  {
   "cell_type": "code",
   "execution_count": 74,
   "id": "258f82e0",
   "metadata": {
    "scrolled": false
   },
   "outputs": [
    {
     "data": {
      "text/plain": [
       "<HDF5 dataset \"Mean\": shape (5, 1000, 1000), type \"<i2\">"
      ]
     },
     "execution_count": 74,
     "metadata": {},
     "output_type": "execute_result"
    }
   ],
   "source": [
    "f['Emissivity']['Mean']"
   ]
  },
  {
   "cell_type": "markdown",
   "id": "e12cf84c",
   "metadata": {},
   "source": [
    "You can check where you are in the file hierarchy with the `.name` method"
   ]
  },
  {
   "cell_type": "code",
   "execution_count": 75,
   "id": "73e4d5ac",
   "metadata": {},
   "outputs": [
    {
     "data": {
      "text/plain": [
       "'/'"
      ]
     },
     "execution_count": 75,
     "metadata": {},
     "output_type": "execute_result"
    }
   ],
   "source": [
    "f.name"
   ]
  },
  {
   "cell_type": "code",
   "execution_count": 76,
   "id": "d1876549",
   "metadata": {},
   "outputs": [
    {
     "data": {
      "text/plain": [
       "'/Emissivity'"
      ]
     },
     "execution_count": 76,
     "metadata": {},
     "output_type": "execute_result"
    }
   ],
   "source": [
    "f['Emissivity'].name"
   ]
  },
  {
   "cell_type": "code",
   "execution_count": 77,
   "id": "e54229b9",
   "metadata": {},
   "outputs": [
    {
     "data": {
      "text/plain": [
       "'/Emissivity/Mean'"
      ]
     },
     "execution_count": 77,
     "metadata": {},
     "output_type": "execute_result"
    }
   ],
   "source": [
    "f['Emissivity']['Mean'].name"
   ]
  },
  {
   "cell_type": "markdown",
   "id": "d8af1ba4",
   "metadata": {},
   "source": [
    "### Getting your data\n",
    "\n",
    "The data inside the data group dictionaries are numpy arrays, so you can use any of the methods we learned about in other lectures with them."
   ]
  },
  {
   "cell_type": "code",
   "execution_count": 78,
   "id": "7e4c0ec7",
   "metadata": {},
   "outputs": [],
   "source": [
    "mean_emissivity = f['Emissivity']['Mean'][:]"
   ]
  },
  {
   "cell_type": "code",
   "execution_count": 79,
   "id": "d127d3b3",
   "metadata": {},
   "outputs": [
    {
     "data": {
      "text/plain": [
       "numpy.ndarray"
      ]
     },
     "execution_count": 79,
     "metadata": {},
     "output_type": "execute_result"
    }
   ],
   "source": [
    "type(mean_emissivity)"
   ]
  },
  {
   "cell_type": "code",
   "execution_count": 80,
   "id": "7f44db67",
   "metadata": {},
   "outputs": [
    {
     "data": {
      "text/plain": [
       "(5, 1000, 1000)"
      ]
     },
     "execution_count": 80,
     "metadata": {},
     "output_type": "execute_result"
    }
   ],
   "source": [
    "mean_emissivity.shape"
   ]
  },
  {
   "cell_type": "code",
   "execution_count": 81,
   "id": "7df485cc",
   "metadata": {},
   "outputs": [
    {
     "data": {
      "text/plain": [
       "991"
      ]
     },
     "execution_count": 81,
     "metadata": {},
     "output_type": "execute_result"
    }
   ],
   "source": [
    "mean_emissivity.max()"
   ]
  },
  {
   "cell_type": "code",
   "execution_count": 82,
   "id": "b8f05a30",
   "metadata": {},
   "outputs": [],
   "source": [
    "from matplotlib import pyplot"
   ]
  },
  {
   "cell_type": "code",
   "execution_count": 83,
   "id": "b6477fa5",
   "metadata": {},
   "outputs": [
    {
     "data": {
      "text/plain": [
       "<matplotlib.image.AxesImage at 0x1d41cb15e50>"
      ]
     },
     "execution_count": 83,
     "metadata": {},
     "output_type": "execute_result"
    },
    {
     "data": {
      "image/png": "[encoded data removed]",
      "text/plain": [
       "<Figure size 432x288 with 1 Axes>"
      ]
     },
     "metadata": {
      "needs_background": "light"
     },
     "output_type": "display_data"
    }
   ],
   "source": [
    "pyplot.imshow(mean_emissivity[0])"
   ]
  },
  {
   "cell_type": "markdown",
   "id": "2d1596f4",
   "metadata": {},
   "source": [
    "### Attributes\n",
    "\n",
    "Metadata in HDF files are called **attributes** and are accessed with `.attrs`"
   ]
  },
  {
   "cell_type": "code",
   "execution_count": 84,
   "id": "c0ed442d",
   "metadata": {},
   "outputs": [
    {
     "data": {
      "text/plain": [
       "<KeysViewHDF5 ['Description']>"
      ]
     },
     "execution_count": 84,
     "metadata": {},
     "output_type": "execute_result"
    }
   ],
   "source": [
    "f['Emissivity']['Mean'].attrs.keys()"
   ]
  },
  {
   "cell_type": "code",
   "execution_count": 85,
   "id": "c640b20d",
   "metadata": {},
   "outputs": [
    {
     "data": {
      "text/plain": [
       "array([b'Mean Emissivity for each pixel on grid-box using all ASTER data from 2000-2010'],\n",
       "      dtype='|S79')"
      ]
     },
     "execution_count": 85,
     "metadata": {},
     "output_type": "execute_result"
    }
   ],
   "source": [
    "f['Emissivity']['Mean'].attrs['Description']"
   ]
  },
  {
   "cell_type": "markdown",
   "id": "3f809659",
   "metadata": {},
   "source": [
    "If there are no attributes for that group you will just get back an empty list"
   ]
  },
  {
   "cell_type": "code",
   "execution_count": 86,
   "id": "a01104db",
   "metadata": {},
   "outputs": [
    {
     "data": {
      "text/plain": [
       "<KeysViewHDF5 []>"
      ]
     },
     "execution_count": 86,
     "metadata": {},
     "output_type": "execute_result"
    }
   ],
   "source": [
    "# No attributes on the Emissivity group\n",
    "f['Emissivity'].attrs.keys()"
   ]
  },
  {
   "cell_type": "code",
   "execution_count": 87,
   "id": "2e595640",
   "metadata": {},
   "outputs": [
    {
     "data": {
      "text/plain": [
       "<KeysViewHDF5 []>"
      ]
     },
     "execution_count": 87,
     "metadata": {},
     "output_type": "execute_result"
    }
   ],
   "source": [
    "# No attributes on the root group\n",
    "f.attrs.keys()"
   ]
  },
  {
   "cell_type": "markdown",
   "id": "e97199bf",
   "metadata": {},
   "source": [
    "# netCDF\n",
    "\n",
    "#### Install\n",
    "\n",
    "In Anaconda Powershell:\n",
    "\n",
    "`conda install -c conda-forge -n lessons netcdf4`\n",
    "\n",
    "#### Documentation Link\n",
    "\n",
    "https://unidata.github.io/netcdf4-python/#creatingopeningclosing-a-netcdf-file"
   ]
  },
  {
   "cell_type": "markdown",
   "id": "357d8ba7",
   "metadata": {},
   "source": [
    "#### Example Dataset: MODIS Chlorophyll-a\n",
    "\n",
    "`A2018006.L3m_DAY_CHL_chlor_a_4km.nc`"
   ]
  },
  {
   "cell_type": "markdown",
   "id": "3d7298c3",
   "metadata": {},
   "source": [
    "### Opening a Dataset"
   ]
  },
  {
   "cell_type": "code",
   "execution_count": 88,
   "id": "d913c831",
   "metadata": {},
   "outputs": [],
   "source": [
    "from netCDF4 import Dataset"
   ]
  },
  {
   "cell_type": "code",
   "execution_count": 89,
   "id": "53d2439f",
   "metadata": {},
   "outputs": [],
   "source": [
    "filepath = './A2018006.L3m_DAY_CHL_chlor_a_4km.nc'"
   ]
  },
  {
   "cell_type": "code",
   "execution_count": 90,
   "id": "642e6097",
   "metadata": {},
   "outputs": [],
   "source": [
    "d = Dataset(filepath, 'r')"
   ]
  },
  {
   "cell_type": "markdown",
   "id": "b886d6ad",
   "metadata": {},
   "source": [
    "Looking at the `Dataset` object gives us a decent overview of our dataset.  We can see metadata applies to the whole dataset. At the very bottom the **dimensions** and **varaiables** are shown, as well as any additional groups."
   ]
  },
  {
   "cell_type": "code",
   "execution_count": 91,
   "id": "5d67c308",
   "metadata": {
    "scrolled": true
   },
   "outputs": [
    {
     "data": {
      "text/plain": [
       "<class 'netCDF4._netCDF4.Dataset'>\n",
       "root group (NETCDF4 data model, file format HDF5):\n",
       "    product_name: A2018006.L3m_DAY_CHL_chlor_a_4km.nc\n",
       "    instrument: MODIS\n",
       "    title: MODISA Level-3 Standard Mapped Image\n",
       "    project: Ocean Biology Processing Group (NASA/GSFC/OBPG)\n",
       "    platform: Aqua\n",
       "    temporal_range: day\n",
       "    processing_version: 2018.0\n",
       "    date_created: 2018-03-19T18:42:34.000Z\n",
       "    history: l3mapgen par=A2018006.L3m_DAY_CHL_chlor_a_4km.nc.param \n",
       "    l2_flag_names: ATMFAIL,LAND,HILT,HISATZEN,STRAYLIGHT,CLDICE,COCCOLITH,LOWLW,CHLWARN,CHLFAIL,NAVWARN,MAXAERITER,ATMWARN,HISOLZEN,NAVFAIL,FILTER,HIGLINT\n",
       "    time_coverage_start: 2018-01-06T00:15:01.000Z\n",
       "    time_coverage_end: 2018-01-07T02:30:00.000Z\n",
       "    start_orbit_number: 83382\n",
       "    end_orbit_number: 83397\n",
       "    map_projection: Equidistant Cylindrical\n",
       "    latitude_units: degrees_north\n",
       "    longitude_units: degrees_east\n",
       "    northernmost_latitude: 90.0\n",
       "    southernmost_latitude: -90.0\n",
       "    westernmost_longitude: -180.0\n",
       "    easternmost_longitude: 180.0\n",
       "    geospatial_lat_max: 90.0\n",
       "    geospatial_lat_min: -90.0\n",
       "    geospatial_lon_max: 180.0\n",
       "    geospatial_lon_min: -180.0\n",
       "    grid_mapping_name: latitude_longitude\n",
       "    latitude_step: 0.041666668\n",
       "    longitude_step: 0.041666668\n",
       "    sw_point_latitude: -89.979164\n",
       "    sw_point_longitude: -179.97917\n",
       "    geospatial_lon_resolution: 4.6383123\n",
       "    geospatial_lat_resolution: 4.6383123\n",
       "    geospatial_lat_units: degrees_north\n",
       "    geospatial_lon_units: degrees_east\n",
       "    spatialResolution: 4.64 km\n",
       "    number_of_lines: 4320\n",
       "    number_of_columns: 8640\n",
       "    measure: Mean\n",
       "    suggested_image_scaling_minimum: 0.01\n",
       "    suggested_image_scaling_maximum: 20.0\n",
       "    suggested_image_scaling_type: LOG\n",
       "    suggested_image_scaling_applied: No\n",
       "    _lastModified: 2018-03-19T18:42:34.000Z\n",
       "    Conventions: CF-1.6 ACDD-1.3\n",
       "    institution: NASA Goddard Space Flight Center, Ocean Ecology Laboratory, Ocean Biology Processing Group\n",
       "    standard_name_vocabulary: CF Standard Name Table v36\n",
       "    naming_authority: gov.nasa.gsfc.sci.oceandata\n",
       "    id: A2018006.L3b_DAY_CHL.nc/L3/A2018006.L3b_DAY_CHL.nc\n",
       "    license: http://science.nasa.gov/earth-science/earth-science-data/data-information-policy/\n",
       "    creator_name: NASA/GSFC/OBPG\n",
       "    publisher_name: NASA/GSFC/OBPG\n",
       "    creator_email: data@oceancolor.gsfc.nasa.gov\n",
       "    publisher_email: data@oceancolor.gsfc.nasa.gov\n",
       "    creator_url: http://oceandata.sci.gsfc.nasa.gov\n",
       "    publisher_url: http://oceandata.sci.gsfc.nasa.gov\n",
       "    processing_level: L3 Mapped\n",
       "    cdm_data_type: grid\n",
       "    identifier_product_doi_authority: http://dx.doi.org\n",
       "    identifier_product_doi: 10.5067/AQUA/MODIS/L3M/CHL/2018\n",
       "    keywords: Earth Science > Oceans > Ocean Chemistry > Pigments > Chlorophyll; Earth Science > Oceans > Ocean Chemistry > Chlorophyllr\n",
       "    keywords_vocabulary: NASA Global Change Master Directory (GCMD) Science Keywords\n",
       "    data_bins: 2440618\n",
       "    data_minimum: 0.0063775154\n",
       "    data_maximum: 98.49251\n",
       "    dimensions(sizes): lat(4320), lon(8640), rgb(3), eightbitcolor(256)\n",
       "    variables(dimensions): float32 chlor_a(lat, lon), float32 lat(lat), float32 lon(lon), uint8 palette(rgb, eightbitcolor)\n",
       "    groups: processing_control"
      ]
     },
     "execution_count": 91,
     "metadata": {},
     "output_type": "execute_result"
    }
   ],
   "source": [
    "d"
   ]
  },
  {
   "cell_type": "markdown",
   "id": "511bf8d2",
   "metadata": {},
   "source": [
    "You can also directly access dimensions or varaiables.  The outputs act like dictionaries, so you can use `.keys()` or `[KEY]` syntax to access elements"
   ]
  },
  {
   "cell_type": "code",
   "execution_count": 92,
   "id": "eb8015f3",
   "metadata": {},
   "outputs": [
    {
     "data": {
      "text/plain": [
       "{'lat': <class 'netCDF4._netCDF4.Dimension'>: name = 'lat', size = 4320,\n",
       " 'lon': <class 'netCDF4._netCDF4.Dimension'>: name = 'lon', size = 8640,\n",
       " 'rgb': <class 'netCDF4._netCDF4.Dimension'>: name = 'rgb', size = 3,\n",
       " 'eightbitcolor': <class 'netCDF4._netCDF4.Dimension'>: name = 'eightbitcolor', size = 256}"
      ]
     },
     "execution_count": 92,
     "metadata": {},
     "output_type": "execute_result"
    }
   ],
   "source": [
    "d.dimensions"
   ]
  },
  {
   "cell_type": "code",
   "execution_count": 93,
   "id": "819170f6",
   "metadata": {
    "scrolled": true
   },
   "outputs": [
    {
     "data": {
      "text/plain": [
       "{'chlor_a': <class 'netCDF4._netCDF4.Variable'>\n",
       " float32 chlor_a(lat, lon)\n",
       "     long_name: Chlorophyll Concentration, OCI Algorithm\n",
       "     units: mg m^-3\n",
       "     standard_name: mass_concentration_chlorophyll_concentration_in_sea_water\n",
       "     _FillValue: -32767.0\n",
       "     valid_min: 0.001\n",
       "     valid_max: 100.0\n",
       "     reference: Hu, C., Lee Z., and Franz, B.A. (2012). Chlorophyll-a algorithms for oligotrophic oceans: A novel approach based on three-band reflectance difference, J. Geophys. Res., 117, C01011, doi:10.1029/2011JC007395.\n",
       "     display_scale: log\n",
       "     display_min: 0.01\n",
       "     display_max: 20.0\n",
       " unlimited dimensions: \n",
       " current shape = (4320, 8640)\n",
       " filling on,\n",
       " 'lat': <class 'netCDF4._netCDF4.Variable'>\n",
       " float32 lat(lat)\n",
       "     long_name: Latitude\n",
       "     units: degrees_north\n",
       "     standard_name: latitude\n",
       "     _FillValue: -999.0\n",
       "     valid_min: -90.0\n",
       "     valid_max: 90.0\n",
       " unlimited dimensions: \n",
       " current shape = (4320,)\n",
       " filling on,\n",
       " 'lon': <class 'netCDF4._netCDF4.Variable'>\n",
       " float32 lon(lon)\n",
       "     long_name: Longitude\n",
       "     units: degrees_east\n",
       "     standard_name: longitude\n",
       "     _FillValue: -999.0\n",
       "     valid_min: -180.0\n",
       "     valid_max: 180.0\n",
       " unlimited dimensions: \n",
       " current shape = (8640,)\n",
       " filling on,\n",
       " 'palette': <class 'netCDF4._netCDF4.Variable'>\n",
       " uint8 palette(rgb, eightbitcolor)\n",
       " unlimited dimensions: \n",
       " current shape = (3, 256)\n",
       " filling on, default _FillValue of 255 ignored}"
      ]
     },
     "execution_count": 93,
     "metadata": {},
     "output_type": "execute_result"
    }
   ],
   "source": [
    "d.variables"
   ]
  },
  {
   "cell_type": "code",
   "execution_count": 94,
   "id": "70b9ed00",
   "metadata": {},
   "outputs": [
    {
     "name": "stdout",
     "output_type": "stream",
     "text": [
      "dict_keys(['chlor_a', 'lat', 'lon', 'palette'])\n"
     ]
    },
    {
     "data": {
      "text/plain": [
       "<class 'netCDF4._netCDF4.Variable'>\n",
       "float32 chlor_a(lat, lon)\n",
       "    long_name: Chlorophyll Concentration, OCI Algorithm\n",
       "    units: mg m^-3\n",
       "    standard_name: mass_concentration_chlorophyll_concentration_in_sea_water\n",
       "    _FillValue: -32767.0\n",
       "    valid_min: 0.001\n",
       "    valid_max: 100.0\n",
       "    reference: Hu, C., Lee Z., and Franz, B.A. (2012). Chlorophyll-a algorithms for oligotrophic oceans: A novel approach based on three-band reflectance difference, J. Geophys. Res., 117, C01011, doi:10.1029/2011JC007395.\n",
       "    display_scale: log\n",
       "    display_min: 0.01\n",
       "    display_max: 20.0\n",
       "unlimited dimensions: \n",
       "current shape = (4320, 8640)\n",
       "filling on"
      ]
     },
     "execution_count": 94,
     "metadata": {},
     "output_type": "execute_result"
    }
   ],
   "source": [
    "# Treating a variable like a dictionary\n",
    "print(d.variables.keys())\n",
    "d.variables['chlor_a']"
   ]
  },
  {
   "cell_type": "code",
   "execution_count": 95,
   "id": "f2926baa",
   "metadata": {},
   "outputs": [
    {
     "data": {
      "text/plain": [
       "'Chlorophyll Concentration, OCI Algorithm'"
      ]
     },
     "execution_count": 95,
     "metadata": {},
     "output_type": "execute_result"
    }
   ],
   "source": [
    "# Access metadata with using a period .\n",
    "d.variables['chlor_a'].long_name"
   ]
  },
  {
   "cell_type": "markdown",
   "id": "ed7a3fdb",
   "metadata": {},
   "source": [
    "If the data you need is in a group, it can be accessed with `.groups`"
   ]
  },
  {
   "cell_type": "code",
   "execution_count": 96,
   "id": "fa4e2de0",
   "metadata": {},
   "outputs": [
    {
     "data": {
      "text/plain": [
       "<class 'netCDF4._netCDF4.Group'>\n",
       "group /processing_control:\n",
       "    software_name: l3mapgen\n",
       "    software_version: 2.0.0-V2018.0.6\n",
       "    source: A2018006.L3b_DAY_CHL.nc\n",
       "    l2_flag_names: ATMFAIL,LAND,HILT,HISATZEN,STRAYLIGHT,CLDICE,COCCOLITH,LOWLW,CHLWARN,CHLFAIL,NAVWARN,MAXAERITER,ATMWARN,HISOLZEN,NAVFAIL,FILTER,HIGLINT\n",
       "    dimensions(sizes): \n",
       "    variables(dimensions): \n",
       "    groups: input_parameters"
      ]
     },
     "execution_count": 96,
     "metadata": {},
     "output_type": "execute_result"
    }
   ],
   "source": [
    "d.groups['processing_control']"
   ]
  },
  {
   "cell_type": "markdown",
   "id": "8c6f780b",
   "metadata": {},
   "source": [
    "### Getting your data\n",
    "\n",
    "Once you traverse the file structure with the right keys and find a `netCDF4._netCDF4.Variable` object you can accesss pull out the numpy array and work with it."
   ]
  },
  {
   "cell_type": "code",
   "execution_count": 97,
   "id": "1ead0d7b",
   "metadata": {},
   "outputs": [],
   "source": [
    "chlor_a = d.variables['chlor_a'][:]"
   ]
  },
  {
   "cell_type": "code",
   "execution_count": 98,
   "id": "b41d7a1c",
   "metadata": {},
   "outputs": [
    {
     "data": {
      "text/plain": [
       "numpy.ma.core.MaskedArray"
      ]
     },
     "execution_count": 98,
     "metadata": {},
     "output_type": "execute_result"
    }
   ],
   "source": [
    "type(chlor_a)"
   ]
  },
  {
   "cell_type": "code",
   "execution_count": 99,
   "id": "7a103f1d",
   "metadata": {},
   "outputs": [
    {
     "data": {
      "text/plain": [
       "(4320, 8640)"
      ]
     },
     "execution_count": 99,
     "metadata": {},
     "output_type": "execute_result"
    }
   ],
   "source": [
    "chlor_a.shape"
   ]
  },
  {
   "cell_type": "code",
   "execution_count": 100,
   "id": "8dfa28e7",
   "metadata": {},
   "outputs": [
    {
     "data": {
      "text/plain": [
       "98.49251"
      ]
     },
     "execution_count": 100,
     "metadata": {},
     "output_type": "execute_result"
    }
   ],
   "source": [
    "chlor_a.max()"
   ]
  },
  {
   "cell_type": "code",
   "execution_count": 101,
   "id": "77da360a",
   "metadata": {},
   "outputs": [],
   "source": [
    "from matplotlib import pyplot"
   ]
  },
  {
   "cell_type": "code",
   "execution_count": 102,
   "id": "9ca72c87",
   "metadata": {},
   "outputs": [
    {
     "data": {
      "text/plain": [
       "<matplotlib.image.AxesImage at 0x1d41653b580>"
      ]
     },
     "execution_count": 102,
     "metadata": {},
     "output_type": "execute_result"
    },
    {
     "data": {
      "image/png": "[encoded data removed]",
      "text/plain": [
       "<Figure size 432x288 with 1 Axes>"
      ]
     },
     "metadata": {
      "needs_background": "light"
     },
     "output_type": "display_data"
    }
   ],
   "source": [
    "pyplot.imshow(chlor_a)"
   ]
  },
  {
   "cell_type": "code",
   "execution_count": null,
   "id": "e8ac3488",
   "metadata": {},
   "outputs": [],
   "source": []
  }
 ],
 "metadata": {
  "kernelspec": {
   "display_name": "Python [conda env:.conda-lessons]",
   "language": "python",
   "name": "conda-env-.conda-lessons-py"
  },
  "language_info": {
   "codemirror_mode": {
    "name": "ipython",
    "version": 3
   },
   "file_extension": ".py",
   "mimetype": "text/x-python",
   "name": "python",
   "nbconvert_exporter": "python",
   "pygments_lexer": "ipython3",
   "version": "3.9.5"
  }
 },
 "nbformat": 4,
 "nbformat_minor": 5
}
