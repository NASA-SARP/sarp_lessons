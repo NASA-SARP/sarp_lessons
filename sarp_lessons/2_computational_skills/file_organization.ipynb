{
 "cells": [
  {
   "cell_type": "markdown",
   "id": "fd152e2a-ded6-420d-a290-df4992a67b89",
   "metadata": {},
   "source": [
    "## Organizing your Files\n",
    "\n",
    "Projects grow quickly and files can fairly easily become a dense forest of confusion.  Luckily this is relatively easily prevented by putting in a little bit of upfront time considering how you will keep organized. My two major recommendations are:\n",
    "1. Have a few folders to group files. It doesn't matter so much what your system is as long as you have one.\n",
    "2. Don't be afraid of long file names.\n",
    "\n",
    "### Folder System\n",
    "My preference in terms of folder organization is:\n",
    "1. I have a single `projects` folder where all of my projects live\n",
    "2. In the `projects` folder I have sub-folders for each individual project.  This summer, for example, you might have a sub-folder for `lessons` and another sub-folder for `research`\n",
    "3. Within each individual project folder I make three more folders: `code`, `data`, and `figures`.\n",
    "An example project file tree for me would look like:\n",
    "\n",
    "<img src=\"./images/folder_structure.jpg\" width=620>\n",
    "\n",
    "In the image my `projects` folder is underlined in red, my individual project folder is underlined in yellow, and my three standard folders are underlined in blue.\n",
    "\n",
    "### Long File Names\n",
    "It is common to have a tendency to want to keep file names concise, but I think it is more important to have file names that are descriptive.  You are probably making lots of changes to your files and to your plots, so take the time to name them so that when you come back to them the next day or after a weekend you are able to understand exactly what you were doing when you made the file.\n",
    "\n",
    "* Descriptive filename: `sept_mean_radiance_santabarbara_aviris_bands3-24-132.tif`\n",
    "* Not descriptive filenames: `santabarabara_v1.tif`, `august_flight.csv`, `plot_from_sunday_night.tif`\n"
   ]
  },
  {
   "cell_type": "markdown",
   "id": "2cacaa6b-f4ff-4a67-8828-b07489e042c7",
   "metadata": {},
   "source": [
    "## Communicating when something isn't working\n",
    "\n",
    "An inevitable part of the life of programming is that something at some point won't work. At times you will breeze through finding the problem and solution and at other times that process will be more of a struggle.\n",
    "\n",
    "Getting help and perspective from another person can be a great way to help you work through a problem. When brining that second person into you problem you typically want to catch them up in a minute or so on something you have likely been working on for much longer than that.  Articulating the following questions to that person can help you clearly and concisely bring them up to speed so you can work together.  The process of doing this often also helps you clarify for yourself where you are at."
   ]
  },
  {
   "cell_type": "markdown",
   "id": "26ab7a95-b138-45a2-b155-8b4302289c98",
   "metadata": {},
   "source": [
    "<img src=\"./images/clarifying-code-problems.jpg\" width=520>"
   ]
  },
  {
   "cell_type": "code",
   "execution_count": null,
   "id": "63833367-6d2b-4c79-b0eb-81bcb587476d",
   "metadata": {},
   "outputs": [],
   "source": []
  }
 ],
 "metadata": {
  "kernelspec": {
   "display_name": "sarp",
   "language": "python",
   "name": "python3"
  },
  "language_info": {
   "codemirror_mode": {
    "name": "ipython",
    "version": 3
   },
   "file_extension": ".py",
   "mimetype": "text/x-python",
   "name": "python",
   "nbconvert_exporter": "python",
   "pygments_lexer": "ipython3",
   "version": "3.13.1"
  }
 },
 "nbformat": 4,
 "nbformat_minor": 5
}
