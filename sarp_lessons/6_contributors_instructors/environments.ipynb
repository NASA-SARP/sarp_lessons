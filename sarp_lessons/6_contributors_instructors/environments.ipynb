{
 "cells": [
  {
   "cell_type": "markdown",
   "id": "9ddeacad",
   "metadata": {},
   "source": [
    "## Getting your Environment set\n",
    "While Jupyter notebooks are a great, approachable way to start coding, an inevitable part of the process is dealing with your **development environment**.  We'll describe your coding environment in more detail below, but in general your environment describes what tools you have availble to you while you are coding."
   ]
  },
  {
   "cell_type": "markdown",
   "id": "e288692b",
   "metadata": {},
   "source": [
    "## The command line\n",
    "The **command line** is a place to communicate even more directly with your computer than you do with Python.  From the command line you can do things that you usually do with your mouse, such as creating new folders or copying files."
   ]
  },
  {
   "cell_type": "markdown",
   "id": "76b54485",
   "metadata": {},
   "source": [
    "TODO screen shots from a windows machine of using the command line"
   ]
  },
  {
   "cell_type": "markdown",
   "id": "eb983355",
   "metadata": {},
   "source": [
    "## Environments\n",
    "As mentioned above, your **development environment** is a set of software (and hardware) that your code runs in.  The analogy to a physical environment isn't a bad one.  If you think of a kitchen as your cooking environment the pots, pans, and ingredients you have in your kitchen \"environment\" will determine what you are able to make.\n",
    "\n",
    "We change our environment by installing different softwares or libraries into them.  We can also keep our computer organized by creating multiple environments on our computer and giving them names"
   ]
  },
  {
   "cell_type": "markdown",
   "id": "e695ce7e",
   "metadata": {},
   "source": [
    "### `conda` environments\n",
    "You have a softare called [Anaconda](https://www.anaconda.com/) that was kindly installed on your computers for you by David.  Anaconda is (among other things) a **package management system** that helps you install libraries on your computer or inside specific environments. "
   ]
  },
  {
   "cell_type": "markdown",
   "id": "ff9145cc",
   "metadata": {},
   "source": [
    "## Trying it out"
   ]
  },
  {
   "cell_type": "markdown",
   "id": "4a869b12",
   "metadata": {},
   "source": [
    "This is all a little lofty, so let's just get started creating and environment for ourselves and installing some libraries.\n",
    "\n",
    "Creating an environment should be the first step of all your projects."
   ]
  },
  {
   "cell_type": "code",
   "execution_count": 4,
   "id": "c9287ed2",
   "metadata": {},
   "outputs": [],
   "source": [
    "# From the command line\n",
    "# conda create --name myfirstenv"
   ]
  },
  {
   "cell_type": "markdown",
   "id": "6e52df5d",
   "metadata": {},
   "source": [
    "Congrats!  We just created an environment called `myfirstenv`.  We can see our new environment with the command `conda env list`."
   ]
  },
  {
   "cell_type": "code",
   "execution_count": 5,
   "id": "1bc185a2",
   "metadata": {
    "scrolled": true
   },
   "outputs": [],
   "source": [
    "# From the command line\n",
    "# conda env list"
   ]
  },
  {
   "cell_type": "code",
   "execution_count": null,
   "id": "febf3427",
   "metadata": {},
   "outputs": [],
   "source": []
  },
  {
   "cell_type": "code",
   "execution_count": null,
   "id": "861de6c5",
   "metadata": {},
   "outputs": [],
   "source": []
  },
  {
   "cell_type": "markdown",
   "id": "e4d81f57",
   "metadata": {},
   "source": [
    "Let's pick our first goal: creating an environment with the `numpy` library installed in it.  We can see if we try to import `numpy` right now that we can't do it."
   ]
  },
  {
   "cell_type": "code",
   "execution_count": null,
   "id": "838a89c5",
   "metadata": {},
   "outputs": [],
   "source": [
    "!y | conda remove --name sarp --all"
   ]
  },
  {
   "cell_type": "markdown",
   "id": "cf1629f4",
   "metadata": {},
   "source": [
    "## Condensed Version"
   ]
  },
  {
   "cell_type": "markdown",
   "id": "6c1830f5",
   "metadata": {},
   "source": [
    "### Setting up your environment (only do it once)"
   ]
  },
  {
   "cell_type": "code",
   "execution_count": 11,
   "id": "f9e407ea",
   "metadata": {},
   "outputs": [],
   "source": [
    "# Download the `environment-sarp.yml` file I sent you.\n",
    "# Run this command in the same folder as that file.\n",
    "# !conda create --name sarp --file environment-sarp.yml"
   ]
  },
  {
   "cell_type": "markdown",
   "id": "ee5e7775",
   "metadata": {},
   "source": [
    "### Starting your environment (every time you code)"
   ]
  },
  {
   "cell_type": "code",
   "execution_count": 13,
   "id": "bc077226",
   "metadata": {},
   "outputs": [],
   "source": [
    "# activate sarp (I think this is the Windows version of the command)"
   ]
  },
  {
   "cell_type": "markdown",
   "id": "1c942b81",
   "metadata": {},
   "source": [
    "### Installing a new library (only the first time you need a new library)"
   ]
  },
  {
   "cell_type": "code",
   "execution_count": 9,
   "id": "de266dd2",
   "metadata": {},
   "outputs": [],
   "source": [
    "# `sarp` is the name of your environment, `pystac` is the name of the library you want\n",
    "# !conda install --name sarp pystac"
   ]
  },
  {
   "cell_type": "markdown",
   "id": "c965b6c0",
   "metadata": {},
   "source": [
    "## It's a Rabbit Hole"
   ]
  },
  {
   "cell_type": "markdown",
   "id": "506f3f88",
   "metadata": {},
   "source": [
    "If you want to improve your conda skills here are some resources I have enjoyed or find helpful:\n",
    "* [commands reference sheet](https://docs.conda.io/projects/conda/en/4.6.0/_downloads/52a95608c49671267e40c689e0bc00ca/conda-cheatsheet.pdf)"
   ]
  },
  {
   "cell_type": "code",
   "execution_count": null,
   "id": "b366df36",
   "metadata": {},
   "outputs": [],
   "source": []
  }
 ],
 "metadata": {
  "kernelspec": {
   "display_name": "Python 3",
   "language": "python",
   "name": "python3"
  },
  "language_info": {
   "codemirror_mode": {
    "name": "ipython",
    "version": 3
   },
   "file_extension": ".py",
   "mimetype": "text/x-python",
   "name": "python",
   "nbconvert_exporter": "python",
   "pygments_lexer": "ipython3",
   "version": "3.8.8"
  }
 },
 "nbformat": 4,
 "nbformat_minor": 5
}
