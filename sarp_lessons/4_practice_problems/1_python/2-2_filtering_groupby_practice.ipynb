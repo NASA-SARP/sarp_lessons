{
 "cells": [
  {
   "cell_type": "markdown",
   "id": "8c966cb6",
   "metadata": {},
   "source": [
    "# 2.2 Problems\n",
    "\n",
    "Filtering and Groupby Practice"
   ]
  },
  {
   "cell_type": "markdown",
   "id": "c6bf45ba",
   "metadata": {},
   "source": [
    "## Part 1"
   ]
  },
  {
   "cell_type": "markdown",
   "id": "5dd715f5",
   "metadata": {},
   "source": [
    "Run the following cells to import and clean the usgs data for the practice problems in part 1."
   ]
  },
  {
   "cell_type": "code",
   "execution_count": 1,
   "id": "f4db946c",
   "metadata": {},
   "outputs": [],
   "source": [
    "import random\n",
    "\n",
    "import pandas as pd"
   ]
  },
  {
   "cell_type": "code",
   "execution_count": null,
   "id": "4e62f9f1",
   "metadata": {},
   "outputs": [],
   "source": [
    "# Read in the data\n",
    "water_vars = pd.read_csv('../../1_python_progression/2-tabular_data/data/englewood_3_12_21_usgs_water.tsv', sep='\\t', skiprows=30)\n",
    "# There are a lot of variables here, so let's shorten our dataframe to a few variables\n",
    "water_vars = water_vars[['datetime', '210920_00060', '210922_00010', '210924_00300', '210925_00400']]\n",
    "# Get rid of the first row of hard-coded datatype info\n",
    "water_vars = water_vars.drop(0)\n",
    "# Rename the columns from their USGS codes to more human-readible names\n",
    "name_codes = {'210920_00060': 'discharge','210922_00010': 'temperature', '210924_00300': 'dissolved oxygen', '210925_00400': 'pH'}\n",
    "water_vars = water_vars.rename(columns=name_codes)\n",
    "# Convert columns with numbers to a numeric type\n",
    "water_vars['discharge'] = pd.to_numeric(water_vars['discharge'])\n",
    "water_vars['temperature'] = pd.to_numeric(water_vars['temperature'])\n",
    "water_vars['dissolved oxygen'] = pd.to_numeric(water_vars['dissolved oxygen'])\n",
    "water_vars['pH'] = pd.to_numeric(water_vars['pH'])\n",
    "\n",
    "water_vars['dam release'] = [random.choice([True, False]) for x in range(len(water_vars))]\n",
    "water_vars['safety level'] = [random.choice(['low', 'medium', 'high']) for x in range(len(water_vars))]"
   ]
  },
  {
   "cell_type": "markdown",
   "id": "58dca6f4",
   "metadata": {},
   "source": [
    "### Filtering"
   ]
  },
  {
   "cell_type": "markdown",
   "id": "dbdbe85d",
   "metadata": {},
   "source": [
    "1. Look at the output of `water_vars['safety level'] == 'high'`.  What is the output telling us?  Was the safety level high during the observation at index 3?"
   ]
  },
  {
   "cell_type": "code",
   "execution_count": null,
   "id": "008d57e5",
   "metadata": {},
   "outputs": [],
   "source": []
  },
  {
   "cell_type": "markdown",
   "id": "1c48de69",
   "metadata": {},
   "source": [
    "2. Create a dataframe showing which obersvations in `water_vars` recorded temperature less than 8."
   ]
  },
  {
   "cell_type": "code",
   "execution_count": null,
   "id": "cbe2482b",
   "metadata": {},
   "outputs": [],
   "source": []
  },
  {
   "cell_type": "markdown",
   "id": "7ef9d19e",
   "metadata": {},
   "source": [
    "3. Create a dataframe showing which obersvations in `water_vars` recorded either dissolved oxygen less than or equal to 8 or pH greater than 8."
   ]
  },
  {
   "cell_type": "code",
   "execution_count": null,
   "id": "e3dc96ec",
   "metadata": {},
   "outputs": [],
   "source": []
  },
  {
   "cell_type": "markdown",
   "id": "87362be2",
   "metadata": {},
   "source": [
    "4. Create a dataframe showing which obersvations in `water_vars` recorded discharge between 46 and 49."
   ]
  },
  {
   "cell_type": "code",
   "execution_count": null,
   "id": "b0cfab6f",
   "metadata": {},
   "outputs": [],
   "source": []
  },
  {
   "cell_type": "markdown",
   "id": "b40fd640",
   "metadata": {},
   "source": [
    "### Named Indexes"
   ]
  },
  {
   "cell_type": "markdown",
   "id": "9b7ad660",
   "metadata": {},
   "source": [
    "The following bits of code add a new column to the dataframe made up of random letters and assigns them to a new column called `'sample id'`.  Run them before doing the next problems."
   ]
  },
  {
   "cell_type": "code",
   "execution_count": 3,
   "id": "9b01abef",
   "metadata": {},
   "outputs": [],
   "source": [
    "import string"
   ]
  },
  {
   "cell_type": "code",
   "execution_count": 4,
   "id": "56cd3302",
   "metadata": {},
   "outputs": [],
   "source": [
    "letter_ids = [''.join(random.choice(string.ascii_lowercase) for i in range(5)) for x in range(146)]"
   ]
  },
  {
   "cell_type": "code",
   "execution_count": 5,
   "id": "d0ce591a",
   "metadata": {},
   "outputs": [],
   "source": [
    "water_vars['sample id'] = letter_ids"
   ]
  },
  {
   "cell_type": "markdown",
   "id": "f766702b",
   "metadata": {},
   "source": [
    "5. Use the new `'sample id'` column and set it as the index in the `water_vars` dataframe."
   ]
  },
  {
   "cell_type": "code",
   "execution_count": null,
   "id": "67ef6c5d",
   "metadata": {},
   "outputs": [],
   "source": []
  },
  {
   "cell_type": "markdown",
   "id": "9ba8dfd9",
   "metadata": {},
   "source": [
    "6. Pick a sample id and get the data for just that row."
   ]
  },
  {
   "cell_type": "code",
   "execution_count": null,
   "id": "2fdde3ba",
   "metadata": {},
   "outputs": [],
   "source": []
  },
  {
   "cell_type": "markdown",
   "id": "40ce2fa2",
   "metadata": {},
   "source": [
    "7. We have mostly been looking at boolean comparisons with numbers, but you can also interrogate strings with special methods and get a list of booleans as a result.  Consider the following bit of code:"
   ]
  },
  {
   "cell_type": "code",
   "execution_count": null,
   "id": "5ccf5bd5",
   "metadata": {
    "scrolled": true
   },
   "outputs": [],
   "source": [
    "water_vars.index.str.contains('k')"
   ]
  },
  {
   "cell_type": "markdown",
   "id": "43356872",
   "metadata": {},
   "source": [
    "This code is telling us True/False for which indexes contain the letter k in them.\n",
    "\n",
    "Using what you know about pandas filtering, use `water_vars.loc[]` and the code above (`water_vars.index.str.contains('k')`) to filter the data frame to only return the rows which have an index containing the letter k."
   ]
  },
  {
   "cell_type": "code",
   "execution_count": null,
   "id": "65cb1b69",
   "metadata": {},
   "outputs": [],
   "source": []
  },
  {
   "cell_type": "markdown",
   "id": "11d59934",
   "metadata": {},
   "source": [
    "### Groupby"
   ]
  },
  {
   "cell_type": "markdown",
   "id": "53a131b0",
   "metadata": {},
   "source": [
    "8. Fill in the three groupby questions for the following scenario:\n",
    "\n",
    "**Given the environmental sustainbility index (ESI) for every country, what is the minimum ESI on each continent?**\n",
    "\n",
    "* _Which variable to group together?_\n",
    "* _How do we want to group?_\n",
    "* _What variable do we want to look at?_ "
   ]
  },
  {
   "cell_type": "code",
   "execution_count": null,
   "id": "0644746c",
   "metadata": {},
   "outputs": [],
   "source": []
  },
  {
   "cell_type": "markdown",
   "id": "aaa6e250",
   "metadata": {},
   "source": [
    "8. Fill in the three groupby questions for the following scenario:\n",
    "\n",
    "**Given the graduation rates of many high school, what is the average graduation rate in public vs. private schools?**\n",
    "\n",
    "* _Which variable to group together?_ \n",
    "* _How do we want to group?_\n",
    "* _What variable do we want to look at?_ "
   ]
  },
  {
   "cell_type": "code",
   "execution_count": null,
   "id": "39745ed5",
   "metadata": {},
   "outputs": [],
   "source": []
  },
  {
   "cell_type": "markdown",
   "id": "7d52ceae",
   "metadata": {},
   "source": [
    "9. Find the mean values of all of the columns at each safety level"
   ]
  },
  {
   "cell_type": "code",
   "execution_count": null,
   "id": "3ccfd2b6",
   "metadata": {},
   "outputs": [],
   "source": []
  },
  {
   "cell_type": "markdown",
   "id": "89282376",
   "metadata": {},
   "source": [
    "10. Find the mean values of all of the columns at each discharge (less meaningful, but just for practice)"
   ]
  },
  {
   "cell_type": "code",
   "execution_count": null,
   "id": "5e48fd39",
   "metadata": {},
   "outputs": [],
   "source": []
  },
  {
   "cell_type": "markdown",
   "id": "aedc3244",
   "metadata": {},
   "source": [
    "11. Find the number of non-nan observations for each column at each safety level"
   ]
  },
  {
   "cell_type": "code",
   "execution_count": null,
   "id": "ed333cc3",
   "metadata": {},
   "outputs": [],
   "source": []
  },
  {
   "cell_type": "markdown",
   "id": "e54b34d7",
   "metadata": {},
   "source": [
    "12. Display the mean values of just the temperature column at each safety level"
   ]
  },
  {
   "cell_type": "code",
   "execution_count": null,
   "id": "3032dd96",
   "metadata": {},
   "outputs": [],
   "source": []
  },
  {
   "cell_type": "markdown",
   "id": "3e502538",
   "metadata": {},
   "source": [
    "## Part 2"
   ]
  },
  {
   "cell_type": "markdown",
   "id": "4573cd34",
   "metadata": {},
   "source": [
    "For the next set of practice problems we are going to use the WAS 2020 SARP data.  Run the following lines of code to import the data."
   ]
  },
  {
   "cell_type": "code",
   "execution_count": 3,
   "id": "outside-corner",
   "metadata": {},
   "outputs": [],
   "source": [
    "was_2020_filepath = \"../data/SARP 2020 final.xlsx\"\n",
    "was_2020 = pd.read_excel(was_2020_filepath, \"INPUT\", skipfooter=7)"
   ]
  },
  {
   "cell_type": "code",
   "execution_count": 4,
   "id": "honey-level",
   "metadata": {
    "scrolled": true
   },
   "outputs": [
    {
     "data": {
      "text/html": [
       "<div>\n",
       "<style scoped>\n",
       "    .dataframe tbody tr th:only-of-type {\n",
       "        vertical-align: middle;\n",
       "    }\n",
       "\n",
       "    .dataframe tbody tr th {\n",
       "        vertical-align: top;\n",
       "    }\n",
       "\n",
       "    .dataframe thead th {\n",
       "        text-align: right;\n",
       "    }\n",
       "</style>\n",
       "<table border=\"1\" class=\"dataframe\">\n",
       "  <thead>\n",
       "    <tr style=\"text-align: right;\">\n",
       "      <th></th>\n",
       "      <th>Can #</th>\n",
       "      <th>Snake can #</th>\n",
       "      <th>Location</th>\n",
       "      <th>State</th>\n",
       "      <th>Box</th>\n",
       "      <th>Date</th>\n",
       "      <th>Time</th>\n",
       "      <th>Altitude (m)</th>\n",
       "      <th>Temp. Celsius</th>\n",
       "      <th>Wind Spd (mph)</th>\n",
       "      <th>...</th>\n",
       "      <th>3-Ethyltoluene (MS)</th>\n",
       "      <th>4-Ethyltoluene (MS)</th>\n",
       "      <th>2-Ethyltoluene (MS)</th>\n",
       "      <th>1,3,5-Trimethylbenzene (MS)</th>\n",
       "      <th>1,2,4-Trimethylbenzene (MS)</th>\n",
       "      <th>alpha-Pinene (B/MS)</th>\n",
       "      <th>beta-Pinene (B/MS)</th>\n",
       "      <th>Unnamed: 113</th>\n",
       "      <th>Box.1</th>\n",
       "      <th>CH4 (ppmv height).1</th>\n",
       "    </tr>\n",
       "  </thead>\n",
       "  <tbody>\n",
       "    <tr>\n",
       "      <th>0</th>\n",
       "      <td>5044</td>\n",
       "      <td>3701</td>\n",
       "      <td>Mars Hill/Lowell Observatory, Flagstaff, Arizona</td>\n",
       "      <td>Arizona</td>\n",
       "      <td>37</td>\n",
       "      <td>2020-04-24</td>\n",
       "      <td>11:23:00</td>\n",
       "      <td>2200</td>\n",
       "      <td>18</td>\n",
       "      <td>5</td>\n",
       "      <td>...</td>\n",
       "      <td>12</td>\n",
       "      <td>17</td>\n",
       "      <td>17</td>\n",
       "      <td>15</td>\n",
       "      <td>23</td>\n",
       "      <td>12</td>\n",
       "      <td>7</td>\n",
       "      <td>NaN</td>\n",
       "      <td>37</td>\n",
       "      <td>1.914</td>\n",
       "    </tr>\n",
       "    <tr>\n",
       "      <th>1</th>\n",
       "      <td>7338</td>\n",
       "      <td>3716</td>\n",
       "      <td>Buffalo Park, Flagstaff, Arizona</td>\n",
       "      <td>Arizona</td>\n",
       "      <td>37</td>\n",
       "      <td>2020-04-24</td>\n",
       "      <td>11:44:00</td>\n",
       "      <td>2100</td>\n",
       "      <td>18</td>\n",
       "      <td>5</td>\n",
       "      <td>...</td>\n",
       "      <td>12</td>\n",
       "      <td>16</td>\n",
       "      <td>15</td>\n",
       "      <td>14</td>\n",
       "      <td>22</td>\n",
       "      <td>31</td>\n",
       "      <td>9</td>\n",
       "      <td>NaN</td>\n",
       "      <td>37</td>\n",
       "      <td>1.916</td>\n",
       "    </tr>\n",
       "    <tr>\n",
       "      <th>2</th>\n",
       "      <td>6027</td>\n",
       "      <td>3717</td>\n",
       "      <td>Downtown Sedona, Arizona</td>\n",
       "      <td>Arizona</td>\n",
       "      <td>37</td>\n",
       "      <td>2020-04-24</td>\n",
       "      <td>12:47:00</td>\n",
       "      <td>1350</td>\n",
       "      <td>27</td>\n",
       "      <td>5</td>\n",
       "      <td>...</td>\n",
       "      <td>-888</td>\n",
       "      <td>-888</td>\n",
       "      <td>-888</td>\n",
       "      <td>-888</td>\n",
       "      <td>6</td>\n",
       "      <td>11</td>\n",
       "      <td>-888</td>\n",
       "      <td>NaN</td>\n",
       "      <td>37</td>\n",
       "      <td>1.914</td>\n",
       "    </tr>\n",
       "    <tr>\n",
       "      <th>3</th>\n",
       "      <td>5012</td>\n",
       "      <td>3702</td>\n",
       "      <td>Buffalo Park, Flagstaff, Arizona</td>\n",
       "      <td>Arizona</td>\n",
       "      <td>37</td>\n",
       "      <td>2020-05-01</td>\n",
       "      <td>11:16:00</td>\n",
       "      <td>2100</td>\n",
       "      <td>19</td>\n",
       "      <td>16</td>\n",
       "      <td>...</td>\n",
       "      <td>-888</td>\n",
       "      <td>-888</td>\n",
       "      <td>-888</td>\n",
       "      <td>-888</td>\n",
       "      <td>-888</td>\n",
       "      <td>22</td>\n",
       "      <td>-888</td>\n",
       "      <td>NaN</td>\n",
       "      <td>37</td>\n",
       "      <td>1.895</td>\n",
       "    </tr>\n",
       "    <tr>\n",
       "      <th>4</th>\n",
       "      <td>7330</td>\n",
       "      <td>3715</td>\n",
       "      <td>Mars Hill/Lowell Observatory, Flagstaff, Arizona</td>\n",
       "      <td>Arizona</td>\n",
       "      <td>37</td>\n",
       "      <td>2020-05-01</td>\n",
       "      <td>11:49:00</td>\n",
       "      <td>2200</td>\n",
       "      <td>19</td>\n",
       "      <td>16</td>\n",
       "      <td>...</td>\n",
       "      <td>6</td>\n",
       "      <td>3</td>\n",
       "      <td>-888</td>\n",
       "      <td>-888</td>\n",
       "      <td>8</td>\n",
       "      <td>23</td>\n",
       "      <td>-888</td>\n",
       "      <td>NaN</td>\n",
       "      <td>37</td>\n",
       "      <td>1.900</td>\n",
       "    </tr>\n",
       "    <tr>\n",
       "      <th>...</th>\n",
       "      <td>...</td>\n",
       "      <td>...</td>\n",
       "      <td>...</td>\n",
       "      <td>...</td>\n",
       "      <td>...</td>\n",
       "      <td>...</td>\n",
       "      <td>...</td>\n",
       "      <td>...</td>\n",
       "      <td>...</td>\n",
       "      <td>...</td>\n",
       "      <td>...</td>\n",
       "      <td>...</td>\n",
       "      <td>...</td>\n",
       "      <td>...</td>\n",
       "      <td>...</td>\n",
       "      <td>...</td>\n",
       "      <td>...</td>\n",
       "      <td>...</td>\n",
       "      <td>...</td>\n",
       "      <td>...</td>\n",
       "      <td>...</td>\n",
       "    </tr>\n",
       "    <tr>\n",
       "      <th>924</th>\n",
       "      <td>7267</td>\n",
       "      <td>2610</td>\n",
       "      <td>Oakwood Manor, Oshkosh, Wisconsin</td>\n",
       "      <td>Wisconsin</td>\n",
       "      <td>26</td>\n",
       "      <td>2020-06-24</td>\n",
       "      <td>10:28:00</td>\n",
       "      <td>234.696</td>\n",
       "      <td>20</td>\n",
       "      <td>7</td>\n",
       "      <td>...</td>\n",
       "      <td>-888</td>\n",
       "      <td>-888</td>\n",
       "      <td>-888</td>\n",
       "      <td>-888</td>\n",
       "      <td>3</td>\n",
       "      <td>68</td>\n",
       "      <td>45</td>\n",
       "      <td>NaN</td>\n",
       "      <td>26</td>\n",
       "      <td>2.131</td>\n",
       "    </tr>\n",
       "    <tr>\n",
       "      <th>925</th>\n",
       "      <td>8257</td>\n",
       "      <td>2623</td>\n",
       "      <td>South Park, Oshkosh, Wisconsin</td>\n",
       "      <td>Wisconsin</td>\n",
       "      <td>26</td>\n",
       "      <td>2020-06-24</td>\n",
       "      <td>10:42:00</td>\n",
       "      <td>231.64</td>\n",
       "      <td>21.67</td>\n",
       "      <td>6</td>\n",
       "      <td>...</td>\n",
       "      <td>-888</td>\n",
       "      <td>-888</td>\n",
       "      <td>-888</td>\n",
       "      <td>-888</td>\n",
       "      <td>4</td>\n",
       "      <td>33</td>\n",
       "      <td>18</td>\n",
       "      <td>NaN</td>\n",
       "      <td>26</td>\n",
       "      <td>2.074</td>\n",
       "    </tr>\n",
       "    <tr>\n",
       "      <th>926</th>\n",
       "      <td>5194</td>\n",
       "      <td>2608</td>\n",
       "      <td>Carl Traeger middle school, Oshkosh, Wisconsin</td>\n",
       "      <td>Wisconsin</td>\n",
       "      <td>26</td>\n",
       "      <td>2020-07-01</td>\n",
       "      <td>13:09:00</td>\n",
       "      <td>243.84</td>\n",
       "      <td>28.89</td>\n",
       "      <td>9</td>\n",
       "      <td>...</td>\n",
       "      <td>4</td>\n",
       "      <td>-888</td>\n",
       "      <td>-888</td>\n",
       "      <td>-888</td>\n",
       "      <td>5</td>\n",
       "      <td>7</td>\n",
       "      <td>-888</td>\n",
       "      <td>NaN</td>\n",
       "      <td>26</td>\n",
       "      <td>2.017</td>\n",
       "    </tr>\n",
       "    <tr>\n",
       "      <th>927</th>\n",
       "      <td>7101</td>\n",
       "      <td>2609</td>\n",
       "      <td>Oakwood Manor, Oshkosh, Wisconsin</td>\n",
       "      <td>Wisconsin</td>\n",
       "      <td>26</td>\n",
       "      <td>2020-07-01</td>\n",
       "      <td>13:26:00</td>\n",
       "      <td>234.696</td>\n",
       "      <td>30.5</td>\n",
       "      <td>8</td>\n",
       "      <td>...</td>\n",
       "      <td>3</td>\n",
       "      <td>-888</td>\n",
       "      <td>-888</td>\n",
       "      <td>-888</td>\n",
       "      <td>5</td>\n",
       "      <td>23</td>\n",
       "      <td>5</td>\n",
       "      <td>NaN</td>\n",
       "      <td>26</td>\n",
       "      <td>2.027</td>\n",
       "    </tr>\n",
       "    <tr>\n",
       "      <th>928</th>\n",
       "      <td>8190</td>\n",
       "      <td>2624</td>\n",
       "      <td>South Park, Oshkosh, Wisconsin</td>\n",
       "      <td>Wisconsin</td>\n",
       "      <td>26</td>\n",
       "      <td>2020-07-01</td>\n",
       "      <td>13:50:00</td>\n",
       "      <td>231.64</td>\n",
       "      <td>30.5</td>\n",
       "      <td>9</td>\n",
       "      <td>...</td>\n",
       "      <td>3</td>\n",
       "      <td>-888</td>\n",
       "      <td>-888</td>\n",
       "      <td>-888</td>\n",
       "      <td>5</td>\n",
       "      <td>11</td>\n",
       "      <td>3</td>\n",
       "      <td>NaN</td>\n",
       "      <td>26</td>\n",
       "      <td>1.983</td>\n",
       "    </tr>\n",
       "  </tbody>\n",
       "</table>\n",
       "<p>929 rows × 116 columns</p>\n",
       "</div>"
      ],
      "text/plain": [
       "    Can #  Snake can #                                          Location  \\\n",
       "0    5044         3701  Mars Hill/Lowell Observatory, Flagstaff, Arizona   \n",
       "1    7338         3716                  Buffalo Park, Flagstaff, Arizona   \n",
       "2    6027         3717                          Downtown Sedona, Arizona   \n",
       "3    5012         3702                  Buffalo Park, Flagstaff, Arizona   \n",
       "4    7330         3715  Mars Hill/Lowell Observatory, Flagstaff, Arizona   \n",
       "..    ...          ...                                               ...   \n",
       "924  7267         2610                 Oakwood Manor, Oshkosh, Wisconsin   \n",
       "925  8257         2623                   South Park, Oshkosh, Wisconsin    \n",
       "926  5194         2608    Carl Traeger middle school, Oshkosh, Wisconsin   \n",
       "927  7101         2609                 Oakwood Manor, Oshkosh, Wisconsin   \n",
       "928  8190         2624                   South Park, Oshkosh, Wisconsin    \n",
       "\n",
       "         State  Box       Date     Time  Altitude (m) Temp. Celsius  \\\n",
       "0      Arizona   37 2020-04-24  11:23:00         2200            18   \n",
       "1      Arizona   37 2020-04-24  11:44:00         2100            18   \n",
       "2      Arizona   37 2020-04-24  12:47:00         1350            27   \n",
       "3      Arizona   37 2020-05-01  11:16:00         2100            19   \n",
       "4      Arizona   37 2020-05-01  11:49:00         2200            19   \n",
       "..         ...  ...        ...       ...          ...           ...   \n",
       "924  Wisconsin   26 2020-06-24  10:28:00      234.696            20   \n",
       "925  Wisconsin   26 2020-06-24  10:42:00       231.64         21.67   \n",
       "926  Wisconsin   26 2020-07-01  13:09:00       243.84         28.89   \n",
       "927  Wisconsin   26 2020-07-01  13:26:00      234.696          30.5   \n",
       "928  Wisconsin   26 2020-07-01  13:50:00       231.64          30.5   \n",
       "\n",
       "    Wind Spd (mph)  ... 3-Ethyltoluene (MS) 4-Ethyltoluene (MS)  \\\n",
       "0                5  ...                  12                  17   \n",
       "1                5  ...                  12                  16   \n",
       "2                5  ...                -888                -888   \n",
       "3               16  ...                -888                -888   \n",
       "4               16  ...                   6                   3   \n",
       "..             ...  ...                 ...                 ...   \n",
       "924              7  ...                -888                -888   \n",
       "925              6  ...                -888                -888   \n",
       "926              9  ...                   4                -888   \n",
       "927              8  ...                   3                -888   \n",
       "928              9  ...                   3                -888   \n",
       "\n",
       "    2-Ethyltoluene (MS)  1,3,5-Trimethylbenzene (MS)  \\\n",
       "0                    17                           15   \n",
       "1                    15                           14   \n",
       "2                  -888                         -888   \n",
       "3                  -888                         -888   \n",
       "4                  -888                         -888   \n",
       "..                  ...                          ...   \n",
       "924                -888                         -888   \n",
       "925                -888                         -888   \n",
       "926                -888                         -888   \n",
       "927                -888                         -888   \n",
       "928                -888                         -888   \n",
       "\n",
       "     1,2,4-Trimethylbenzene (MS)  alpha-Pinene (B/MS)  beta-Pinene (B/MS)  \\\n",
       "0                             23                   12                   7   \n",
       "1                             22                   31                   9   \n",
       "2                              6                   11                -888   \n",
       "3                           -888                   22                -888   \n",
       "4                              8                   23                -888   \n",
       "..                           ...                  ...                 ...   \n",
       "924                            3                   68                  45   \n",
       "925                            4                   33                  18   \n",
       "926                            5                    7                -888   \n",
       "927                            5                   23                   5   \n",
       "928                            5                   11                   3   \n",
       "\n",
       "     Unnamed: 113  Box.1  CH4 (ppmv height).1  \n",
       "0             NaN     37                1.914  \n",
       "1             NaN     37                1.916  \n",
       "2             NaN     37                1.914  \n",
       "3             NaN     37                1.895  \n",
       "4             NaN     37                1.900  \n",
       "..            ...    ...                  ...  \n",
       "924           NaN     26                2.131  \n",
       "925           NaN     26                2.074  \n",
       "926           NaN     26                2.017  \n",
       "927           NaN     26                2.027  \n",
       "928           NaN     26                1.983  \n",
       "\n",
       "[929 rows x 116 columns]"
      ]
     },
     "execution_count": 4,
     "metadata": {},
     "output_type": "execute_result"
    }
   ],
   "source": [
    "was_2020"
   ]
  },
  {
   "cell_type": "markdown",
   "id": "b79fde76",
   "metadata": {},
   "source": [
    "### Question 1\n",
    "\n",
    "**A)** Using `was_2020` find data samples where `'CO2 (ppmv)'` was greater than 420."
   ]
  },
  {
   "cell_type": "code",
   "execution_count": null,
   "id": "c4280ebe",
   "metadata": {},
   "outputs": [],
   "source": []
  },
  {
   "cell_type": "markdown",
   "id": "1cd56dfc",
   "metadata": {},
   "source": [
    "**B)** How many data samples had CO2 over 420?"
   ]
  },
  {
   "cell_type": "code",
   "execution_count": null,
   "id": "b56d9798",
   "metadata": {},
   "outputs": [],
   "source": []
  },
  {
   "cell_type": "markdown",
   "id": "8a8e2acd",
   "metadata": {},
   "source": [
    "### Question 2\n",
    "\n",
    "**A)** What is the mean value of `'Isoprene (E/B)'` accross all the samples?"
   ]
  },
  {
   "cell_type": "code",
   "execution_count": null,
   "id": "9bbd9fb8",
   "metadata": {},
   "outputs": [],
   "source": []
  },
  {
   "cell_type": "markdown",
   "id": "9463e344",
   "metadata": {},
   "source": [
    "**B)** How many data samples had values of `'Isoprene (E/B)'` below 10?"
   ]
  },
  {
   "cell_type": "code",
   "execution_count": null,
   "id": "0540bc24",
   "metadata": {},
   "outputs": [],
   "source": []
  },
  {
   "cell_type": "markdown",
   "id": "1c7050bd",
   "metadata": {},
   "source": [
    "**C)** Print out the values of isoprene from the previous part of the question which are less than 10.  Do you notice anything unusual about the values?"
   ]
  },
  {
   "cell_type": "code",
   "execution_count": null,
   "id": "cf5d0c72",
   "metadata": {},
   "outputs": [],
   "source": []
  },
  {
   "cell_type": "markdown",
   "id": "9259f237",
   "metadata": {},
   "source": [
    "**D)** Looking at the values in the previous question you might see that several values are marked with -888.  This is likely a nodata value (but its always good to check the data documentation to be sure).\n",
    "\n",
    "Knowing that there are now nodata values, go back and amend your code to find the rows where isoprene is less than 10 but also not equal to -888.  Now how many rows are there?"
   ]
  },
  {
   "cell_type": "code",
   "execution_count": null,
   "id": "70f7068d",
   "metadata": {},
   "outputs": [],
   "source": []
  },
  {
   "cell_type": "markdown",
   "id": "e79a45c4",
   "metadata": {},
   "source": [
    "**E)** What is the true mean value of isoprene?"
   ]
  },
  {
   "cell_type": "code",
   "execution_count": null,
   "id": "aaa01c48",
   "metadata": {},
   "outputs": [],
   "source": []
  },
  {
   "cell_type": "markdown",
   "id": "26456e4d",
   "metadata": {},
   "source": [
    "_This question was brought to you today as a gentle reminder to always be on the lookout for nodata 🙂_"
   ]
  },
  {
   "cell_type": "markdown",
   "id": "73f6eb70",
   "metadata": {},
   "source": [
    "### Question 3\n",
    "\n",
    "There are a lot of data columns in this dataset, many more than we can reasonably view in the preview.  To help us explore our data better we might want to view a smaller subset of the data at once.\n",
    "\n",
    "**A)** Create a dataframe that includes only the following columns from the `was_2020` dataset: `'Can #'`, `'State'`, `'Date'`, `'CO (ppbv)'`, and `'OCS (MS)'`."
   ]
  },
  {
   "cell_type": "code",
   "execution_count": null,
   "id": "6f076c0a",
   "metadata": {},
   "outputs": [],
   "source": []
  },
  {
   "cell_type": "markdown",
   "id": "a7953ea9",
   "metadata": {},
   "source": [
    "**B)** Let's say you would like to view all of the columns of CFCs together.  There are several columns that all start with `CFC-`: 'CFC-12 (C/D)', 'CFC-11 (D/MS)', 'CFC-113 (D)', 'CFC-114 (MS)'.\n",
    "\n",
    "Create a dataframe that includes just the columns whose names start with \"CFC-\"."
   ]
  },
  {
   "cell_type": "code",
   "execution_count": null,
   "id": "51d0b5ea",
   "metadata": {},
   "outputs": [],
   "source": []
  },
  {
   "cell_type": "markdown",
   "id": "0a4e02c0",
   "metadata": {},
   "source": [
    "_**Google help:** try \"pandas filter by column name string\".  [This stackoverflow](https://stackoverflow.com/questions/21285380/find-column-whose-name-contains-a-specific-string) also has several options.  The first few use a method called \"list comprehension\" that we haven't talked about in lecture yet.  Further down are a few other options to try that don't use that technique._"
   ]
  },
  {
   "cell_type": "markdown",
   "id": "d6388c25",
   "metadata": {},
   "source": [
    "**C)** Use the subset of data you created in part be and return just the columns of CFCs and only the rows of samples that were taken in Arizona."
   ]
  },
  {
   "cell_type": "code",
   "execution_count": null,
   "id": "56e95d44",
   "metadata": {},
   "outputs": [],
   "source": []
  },
  {
   "cell_type": "markdown",
   "id": "7d0d86d7",
   "metadata": {},
   "source": [
    "### Question 4\n",
    "\n",
    "`groupby` questions\n",
    "\n",
    "**A)** What are the mean values of `'CO (ppbv)'` from each box?\n",
    "\n"
   ]
  },
  {
   "cell_type": "code",
   "execution_count": null,
   "id": "9dd68494",
   "metadata": {},
   "outputs": [],
   "source": []
  },
  {
   "cell_type": "markdown",
   "id": "c54e62f2",
   "metadata": {},
   "source": [
    "**B)** What is the minimum value of `'CH4 (ppmv height)'` for each `Weather` condition?"
   ]
  },
  {
   "cell_type": "code",
   "execution_count": null,
   "id": "87a6f705",
   "metadata": {},
   "outputs": [],
   "source": []
  },
  {
   "cell_type": "markdown",
   "id": "19d6ca2e",
   "metadata": {},
   "source": [
    "**C)** How many samples were taken in each state?"
   ]
  },
  {
   "cell_type": "code",
   "execution_count": null,
   "id": "545436ee",
   "metadata": {},
   "outputs": [],
   "source": []
  },
  {
   "cell_type": "markdown",
   "id": "279528b5",
   "metadata": {},
   "source": [
    "_For the final two questions we will switch back to the water dataset_"
   ]
  },
  {
   "cell_type": "markdown",
   "id": "441492dd",
   "metadata": {},
   "source": [
    "### Question 5\n",
    "\n",
    "`.groupby` also allows you to group on multiple fields.  So instead of saying \"what is the mean value of CO in each state?\", we can be more specific, and ask, \"What is the mean value of CO in each state at every wind speed?\"\n",
    "\n",
    "We do this by using a `list` of values in the `.groupby()` argument instead of just a single column string.\n",
    "\n",
    "`.groupby([\"Box\", \"Wind Spd (mph)\"])`"
   ]
  },
  {
   "cell_type": "markdown",
   "id": "7bd437cf",
   "metadata": {},
   "source": [
    "**A)** Try using this syntax to find the mean value of CO in each state at every wind speed"
   ]
  },
  {
   "cell_type": "code",
   "execution_count": null,
   "id": "cfa5e75e",
   "metadata": {},
   "outputs": [],
   "source": []
  },
  {
   "cell_type": "markdown",
   "id": "767c87a1",
   "metadata": {},
   "source": [
    "**B)** What was the mean value of CO in Georgia when the wind speed was 8 mph?"
   ]
  },
  {
   "cell_type": "code",
   "execution_count": null,
   "id": "e8dc3066",
   "metadata": {},
   "outputs": [],
   "source": []
  },
  {
   "cell_type": "markdown",
   "id": "2f47a76d",
   "metadata": {},
   "source": [
    "### Question 6\n",
    "\n",
    "The current `.groupby` function allows to use a single aggregation function at once -- we can see either the means for every columns, or the max of every column, and so on.\n",
    "\n",
    "To look use different aggregation functions for different columns we drop the aggregation function and instead use `.agg()`.\n",
    "\n",
    "Here is an example using the water dataset:"
   ]
  },
  {
   "cell_type": "code",
   "execution_count": 9,
   "id": "6402e177",
   "metadata": {
    "scrolled": true
   },
   "outputs": [
    {
     "data": {
      "text/html": [
       "<div>\n",
       "<style scoped>\n",
       "    .dataframe tbody tr th:only-of-type {\n",
       "        vertical-align: middle;\n",
       "    }\n",
       "\n",
       "    .dataframe tbody tr th {\n",
       "        vertical-align: top;\n",
       "    }\n",
       "\n",
       "    .dataframe thead th {\n",
       "        text-align: right;\n",
       "    }\n",
       "</style>\n",
       "<table border=\"1\" class=\"dataframe\">\n",
       "  <thead>\n",
       "    <tr style=\"text-align: right;\">\n",
       "      <th></th>\n",
       "      <th>max_discharge</th>\n",
       "      <th>mean_doxy</th>\n",
       "    </tr>\n",
       "    <tr>\n",
       "      <th>dam release</th>\n",
       "      <th></th>\n",
       "      <th></th>\n",
       "    </tr>\n",
       "  </thead>\n",
       "  <tbody>\n",
       "    <tr>\n",
       "      <th>False</th>\n",
       "      <td>48.5</td>\n",
       "      <td>9.428788</td>\n",
       "    </tr>\n",
       "    <tr>\n",
       "      <th>True</th>\n",
       "      <td>48.5</td>\n",
       "      <td>9.383750</td>\n",
       "    </tr>\n",
       "  </tbody>\n",
       "</table>\n",
       "</div>"
      ],
      "text/plain": [
       "             max_discharge  mean_doxy\n",
       "dam release                          \n",
       "False                 48.5   9.428788\n",
       "True                  48.5   9.383750"
      ]
     },
     "execution_count": 9,
     "metadata": {},
     "output_type": "execute_result"
    }
   ],
   "source": [
    "water_vars.groupby(\"dam release\").agg(\n",
    "    max_discharge=pd.NamedAgg(column='discharge', aggfunc='max'), \n",
    "    mean_doxy=pd.NamedAgg(column=\"dissolved oxygen\", aggfunc='mean')\n",
    ")"
   ]
  },
  {
   "cell_type": "markdown",
   "id": "7aa2102e",
   "metadata": {},
   "source": [
    "Use the `.agg()` function to find the maximum values of `'CH4 (ppmv height)'`, the mean values of 'Toluene (E/B/MS)', and the total number of samples for each state."
   ]
  },
  {
   "cell_type": "code",
   "execution_count": null,
   "id": "0095d292",
   "metadata": {},
   "outputs": [],
   "source": []
  }
 ],
 "metadata": {
  "kernelspec": {
   "display_name": "Python 3.10.4 ('sarp')",
   "language": "python",
   "name": "python3"
  },
  "language_info": {
   "codemirror_mode": {
    "name": "ipython",
    "version": 3
   },
   "file_extension": ".py",
   "mimetype": "text/x-python",
   "name": "python",
   "nbconvert_exporter": "python",
   "pygments_lexer": "ipython3",
   "version": "3.10.4"
  },
  "vscode": {
   "interpreter": {
    "hash": "c6a7549e0a21eb75b694ff081490f6e8db8aea94086d29d6a7e085c556b251de"
   }
  }
 },
 "nbformat": 4,
 "nbformat_minor": 5
}
