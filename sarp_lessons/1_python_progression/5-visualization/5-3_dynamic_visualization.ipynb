{
 "cells": [
  {
   "cell_type": "markdown",
   "id": "9c5acbd5",
   "metadata": {},
   "source": [
    "# 5.3 Dynamic Visualization"
   ]
  },
  {
   "cell_type": "markdown",
   "id": "db42544c",
   "metadata": {},
   "source": [
    "## Read in Datasets\n",
    "\n",
    "1. WAS 2020 Data\n",
    "2. Subset of an AVIRIS image"
   ]
  },
  {
   "cell_type": "code",
   "execution_count": 1,
   "id": "a7ae767d",
   "metadata": {},
   "outputs": [],
   "source": [
    "import pandas as pd\n",
    "import numpy as np\n",
    "import rasterio"
   ]
  },
  {
   "cell_type": "code",
   "execution_count": 2,
   "id": "1f175193",
   "metadata": {},
   "outputs": [],
   "source": [
    "# Import example WAS data\n",
    "was_2020_filepath = \"./data/SARP 2020 final.xlsx\"\n",
    "was_2020 = pd.read_excel(was_2020_filepath, \"INPUT\", skipfooter=7)\n",
    "# Clean temperature column\n",
    "was_2020['Temp. Celsius'] = pd.to_numeric(was_2020['Temp. Celsius'], errors='coerce')\n",
    "was_2020['Temp. Celsius'].mask(was_2020['Temp. Celsius'] > 100, np.nan, inplace=True)"
   ]
  },
  {
   "cell_type": "code",
   "execution_count": 3,
   "id": "7ff7e716",
   "metadata": {},
   "outputs": [],
   "source": [
    "# Import example AVIRIS data\n",
    "with rasterio.open('./data/subset_f180628t01p00r02_corr_v1k1_img') as src:\n",
    "    metadata = src.meta\n",
    "    bands = src.read()"
   ]
  },
  {
   "cell_type": "markdown",
   "id": "21685817",
   "metadata": {},
   "source": [
    "## Interactive Plotting with `bokeh`\n",
    "\n",
    "`conda install -c conda-forge -n lessons bokeh`\n",
    "\n",
    "**Quick take:** Designed for the web, so not always going to look good enough for publications.  But the interactivity is great for exploring your data.\n",
    "\n",
    "### Links\n",
    "* Nice set of steps: https://docs.bokeh.org/en/latest/docs/first_steps/first_steps_1.html#recap-building-visualizations\n",
    "* Example gallery: https://docs.bokeh.org/en/latest/docs/gallery.html"
   ]
  },
  {
   "cell_type": "markdown",
   "id": "9fdbec5d",
   "metadata": {},
   "source": [
    "### Example 1: Line  (AVIRIS)"
   ]
  },
  {
   "cell_type": "markdown",
   "id": "861def7d",
   "metadata": {},
   "source": [
    "#### Step 1: Organize our data\n",
    "For our example let's make a spectral plot for a pixel of our AVIRIS image."
   ]
  },
  {
   "cell_type": "code",
   "execution_count": 4,
   "id": "1b21efcf",
   "metadata": {},
   "outputs": [],
   "source": [
    "import numpy as np"
   ]
  },
  {
   "cell_type": "code",
   "execution_count": 5,
   "id": "c83753cf",
   "metadata": {},
   "outputs": [],
   "source": [
    "y = bands[:, 100, 150]  # z profile\n",
    "x = np.arange(1, 225)  # band number"
   ]
  },
  {
   "cell_type": "markdown",
   "id": "3727371b",
   "metadata": {},
   "source": [
    "#### Step 2: Make our graph"
   ]
  },
  {
   "cell_type": "markdown",
   "id": "02b0f243",
   "metadata": {},
   "source": [
    "If you run the following cell of code the plot will show up directly in your jupyter notebook.  Choosing not to run this code will open plots in a new tab."
   ]
  },
  {
   "cell_type": "code",
   "execution_count": 6,
   "id": "b7173337",
   "metadata": {},
   "outputs": [
    {
     "data": {
      "text/html": [
       "\n",
       "    <div class=\"bk-root\">\n",
       "        <a href=\"https://bokeh.org\" target=\"_blank\" class=\"bk-logo bk-logo-small bk-logo-notebook\"></a>\n",
       "        <span id=\"1001\">Loading BokehJS ...</span>\n",
       "    </div>"
      ]
     },
     "metadata": {},
     "output_type": "display_data"
    },
    {
     "data": {
      "application/javascript": "\n(function(root) {\n  function now() {\n    return new Date();\n  }\n\n  var force = true;\n\n  if (typeof root._bokeh_onload_callbacks === \"undefined\" || force === true) {\n    root._bokeh_onload_callbacks = [];\n    root._bokeh_is_loading = undefined;\n  }\n\n  var JS_MIME_TYPE = 'application/javascript';\n  var HTML_MIME_TYPE = 'text/html';\n  var EXEC_MIME_TYPE = 'application/vnd.bokehjs_exec.v0+json';\n  var CLASS_NAME = 'output_bokeh rendered_html';\n\n  /**\n   * Render data to the DOM node\n   */\n  function render(props, node) {\n    var script = document.createElement(\"script\");\n    node.appendChild(script);\n  }\n\n  /**\n   * Handle when an output is cleared or removed\n   */\n  function handleClearOutput(event, handle) {\n    var cell = handle.cell;\n\n    var id = cell.output_area._bokeh_element_id;\n    var server_id = cell.output_area._bokeh_server_id;\n    // Clean up Bokeh references\n    if (id != null && id in Bokeh.index) {\n      Bokeh.index[id].model.document.clear();\n      delete Bokeh.index[id];\n    }\n\n    if (server_id !== undefined) {\n      // Clean up Bokeh references\n      var cmd = \"from bokeh.io.state import curstate; print(curstate().uuid_to_server['\" + server_id + \"'].get_sessions()[0].document.roots[0]._id)\";\n      cell.notebook.kernel.execute(cmd, {\n        iopub: {\n          output: function(msg) {\n            var id = msg.content.text.trim();\n            if (id in Bokeh.index) {\n              Bokeh.index[id].model.document.clear();\n              delete Bokeh.index[id];\n            }\n          }\n        }\n      });\n      // Destroy server and session\n      var cmd = \"import bokeh.io.notebook as ion; ion.destroy_server('\" + server_id + \"')\";\n      cell.notebook.kernel.execute(cmd);\n    }\n  }\n\n  /**\n   * Handle when a new output is added\n   */\n  function handleAddOutput(event, handle) {\n    var output_area = handle.output_area;\n    var output = handle.output;\n\n    // limit handleAddOutput to display_data with EXEC_MIME_TYPE content only\n    if ((output.output_type != \"display_data\") || (!Object.prototype.hasOwnProperty.call(output.data, EXEC_MIME_TYPE))) {\n      return\n    }\n\n    var toinsert = output_area.element.find(\".\" + CLASS_NAME.split(' ')[0]);\n\n    if (output.metadata[EXEC_MIME_TYPE][\"id\"] !== undefined) {\n      toinsert[toinsert.length - 1].firstChild.textContent = output.data[JS_MIME_TYPE];\n      // store reference to embed id on output_area\n      output_area._bokeh_element_id = output.metadata[EXEC_MIME_TYPE][\"id\"];\n    }\n    if (output.metadata[EXEC_MIME_TYPE][\"server_id\"] !== undefined) {\n      var bk_div = document.createElement(\"div\");\n      bk_div.innerHTML = output.data[HTML_MIME_TYPE];\n      var script_attrs = bk_div.children[0].attributes;\n      for (var i = 0; i < script_attrs.length; i++) {\n        toinsert[toinsert.length - 1].firstChild.setAttribute(script_attrs[i].name, script_attrs[i].value);\n        toinsert[toinsert.length - 1].firstChild.textContent = bk_div.children[0].textContent\n      }\n      // store reference to server id on output_area\n      output_area._bokeh_server_id = output.metadata[EXEC_MIME_TYPE][\"server_id\"];\n    }\n  }\n\n  function register_renderer(events, OutputArea) {\n\n    function append_mime(data, metadata, element) {\n      // create a DOM node to render to\n      var toinsert = this.create_output_subarea(\n        metadata,\n        CLASS_NAME,\n        EXEC_MIME_TYPE\n      );\n      this.keyboard_manager.register_events(toinsert);\n      // Render to node\n      var props = {data: data, metadata: metadata[EXEC_MIME_TYPE]};\n      render(props, toinsert[toinsert.length - 1]);\n      element.append(toinsert);\n      return toinsert\n    }\n\n    /* Handle when an output is cleared or removed */\n    events.on('clear_output.CodeCell', handleClearOutput);\n    events.on('delete.Cell', handleClearOutput);\n\n    /* Handle when a new output is added */\n    events.on('output_added.OutputArea', handleAddOutput);\n\n    /**\n     * Register the mime type and append_mime function with output_area\n     */\n    OutputArea.prototype.register_mime_type(EXEC_MIME_TYPE, append_mime, {\n      /* Is output safe? */\n      safe: true,\n      /* Index of renderer in `output_area.display_order` */\n      index: 0\n    });\n  }\n\n  // register the mime type if in Jupyter Notebook environment and previously unregistered\n  if (root.Jupyter !== undefined) {\n    var events = require('base/js/events');\n    var OutputArea = require('notebook/js/outputarea').OutputArea;\n\n    if (OutputArea.prototype.mime_types().indexOf(EXEC_MIME_TYPE) == -1) {\n      register_renderer(events, OutputArea);\n    }\n  }\n\n  \n  if (typeof (root._bokeh_timeout) === \"undefined\" || force === true) {\n    root._bokeh_timeout = Date.now() + 5000;\n    root._bokeh_failed_load = false;\n  }\n\n  var NB_LOAD_WARNING = {'data': {'text/html':\n     \"<div style='background-color: #fdd'>\\n\"+\n     \"<p>\\n\"+\n     \"BokehJS does not appear to have successfully loaded. If loading BokehJS from CDN, this \\n\"+\n     \"may be due to a slow or bad network connection. Possible fixes:\\n\"+\n     \"</p>\\n\"+\n     \"<ul>\\n\"+\n     \"<li>re-rerun `output_notebook()` to attempt to load from CDN again, or</li>\\n\"+\n     \"<li>use INLINE resources instead, as so:</li>\\n\"+\n     \"</ul>\\n\"+\n     \"<code>\\n\"+\n     \"from bokeh.resources import INLINE\\n\"+\n     \"output_notebook(resources=INLINE)\\n\"+\n     \"</code>\\n\"+\n     \"</div>\"}};\n\n  function display_loaded() {\n    var el = document.getElementById(\"1001\");\n    if (el != null) {\n      el.textContent = \"BokehJS is loading...\";\n    }\n    if (root.Bokeh !== undefined) {\n      if (el != null) {\n        el.textContent = \"BokehJS \" + root.Bokeh.version + \" successfully loaded.\";\n      }\n    } else if (Date.now() < root._bokeh_timeout) {\n      setTimeout(display_loaded, 100)\n    }\n  }\n\n\n  function run_callbacks() {\n    try {\n      root._bokeh_onload_callbacks.forEach(function(callback) {\n        if (callback != null)\n          callback();\n      });\n    } finally {\n      delete root._bokeh_onload_callbacks\n    }\n    console.debug(\"Bokeh: all callbacks have finished\");\n  }\n\n  function load_libs(css_urls, js_urls, callback) {\n    if (css_urls == null) css_urls = [];\n    if (js_urls == null) js_urls = [];\n\n    root._bokeh_onload_callbacks.push(callback);\n    if (root._bokeh_is_loading > 0) {\n      console.debug(\"Bokeh: BokehJS is being loaded, scheduling callback at\", now());\n      return null;\n    }\n    if (js_urls == null || js_urls.length === 0) {\n      run_callbacks();\n      return null;\n    }\n    console.debug(\"Bokeh: BokehJS not loaded, scheduling load and callback at\", now());\n    root._bokeh_is_loading = css_urls.length + js_urls.length;\n\n    function on_load() {\n      root._bokeh_is_loading--;\n      if (root._bokeh_is_loading === 0) {\n        console.debug(\"Bokeh: all BokehJS libraries/stylesheets loaded\");\n        run_callbacks()\n      }\n    }\n\n    function on_error(url) {\n      console.error(\"failed to load \" + url);\n    }\n\n    for (let i = 0; i < css_urls.length; i++) {\n      const url = css_urls[i];\n      const element = document.createElement(\"link\");\n      element.onload = on_load;\n      element.onerror = on_error.bind(null, url);\n      element.rel = \"stylesheet\";\n      element.type = \"text/css\";\n      element.href = url;\n      console.debug(\"Bokeh: injecting link tag for BokehJS stylesheet: \", url);\n      document.body.appendChild(element);\n    }\n\n    const hashes = {\"https://cdn.bokeh.org/bokeh/release/bokeh-2.3.2.min.js\": \"XypntL49z55iwGVUW4qsEu83zKL3XEcz0MjuGOQ9SlaaQ68X/g+k1FcioZi7oQAc\", \"https://cdn.bokeh.org/bokeh/release/bokeh-tables-2.3.2.min.js\": \"bEsM86IHGDTLCS0Zod8a8WM6Y4+lafAL/eSiyQcuPzinmWNgNO2/olUF0Z2Dkn5i\", \"https://cdn.bokeh.org/bokeh/release/bokeh-widgets-2.3.2.min.js\": \"TX0gSQTdXTTeScqxj6PVQxTiRW8DOoGVwinyi1D3kxv7wuxQ02XkOxv0xwiypcAH\"};\n\n    for (let i = 0; i < js_urls.length; i++) {\n      const url = js_urls[i];\n      const element = document.createElement('script');\n      element.onload = on_load;\n      element.onerror = on_error.bind(null, url);\n      element.async = false;\n      element.src = url;\n      if (url in hashes) {\n        element.crossOrigin = \"anonymous\";\n        element.integrity = \"sha384-\" + hashes[url];\n      }\n      console.debug(\"Bokeh: injecting script tag for BokehJS library: \", url);\n      document.head.appendChild(element);\n    }\n  };\n\n  function inject_raw_css(css) {\n    const element = document.createElement(\"style\");\n    element.appendChild(document.createTextNode(css));\n    document.body.appendChild(element);\n  }\n\n  \n  var js_urls = [\"https://cdn.bokeh.org/bokeh/release/bokeh-2.3.2.min.js\", \"https://cdn.bokeh.org/bokeh/release/bokeh-widgets-2.3.2.min.js\", \"https://cdn.bokeh.org/bokeh/release/bokeh-tables-2.3.2.min.js\"];\n  var css_urls = [];\n  \n\n  var inline_js = [\n    function(Bokeh) {\n      Bokeh.set_log_level(\"info\");\n    },\n    function(Bokeh) {\n    \n    \n    }\n  ];\n\n  function run_inline_js() {\n    \n    if (root.Bokeh !== undefined || force === true) {\n      \n    for (var i = 0; i < inline_js.length; i++) {\n      inline_js[i].call(root, root.Bokeh);\n    }\n    if (force === true) {\n        display_loaded();\n      }} else if (Date.now() < root._bokeh_timeout) {\n      setTimeout(run_inline_js, 100);\n    } else if (!root._bokeh_failed_load) {\n      console.log(\"Bokeh: BokehJS failed to load within specified timeout.\");\n      root._bokeh_failed_load = true;\n    } else if (force !== true) {\n      var cell = $(document.getElementById(\"1001\")).parents('.cell').data().cell;\n      cell.output_area.append_execute_result(NB_LOAD_WARNING)\n    }\n\n  }\n\n  if (root._bokeh_is_loading === 0) {\n    console.debug(\"Bokeh: BokehJS loaded, going straight to plotting\");\n    run_inline_js();\n  } else {\n    load_libs(css_urls, js_urls, function() {\n      console.debug(\"Bokeh: BokehJS plotting callback run at\", now());\n      run_inline_js();\n    });\n  }\n}(window));",
      "application/vnd.bokehjs_load.v0+json": ""
     },
     "metadata": {},
     "output_type": "display_data"
    }
   ],
   "source": [
    "from bokeh.io import output_notebook\n",
    "output_notebook()"
   ]
  },
  {
   "cell_type": "code",
   "execution_count": 7,
   "id": "997feee4",
   "metadata": {},
   "outputs": [],
   "source": [
    "from bokeh.plotting import figure, show"
   ]
  },
  {
   "cell_type": "code",
   "execution_count": 8,
   "id": "dc2ad6ee",
   "metadata": {},
   "outputs": [
    {
     "data": {
      "text/html": [
       "\n",
       "\n",
       "\n",
       "\n",
       "\n",
       "\n",
       "  <div class=\"bk-root\" id=\"d8596a79-4f96-4ec7-a2aa-a850172da7ce\" data-root-id=\"1003\"></div>\n"
      ]
     },
     "metadata": {},
     "output_type": "display_data"
    },
    {
     "data": {
      "application/javascript": "(function(root) {\n  function embed_document(root) {\n    \n  var docs_json = {\"95a7949c-41fd-4ed2-8fab-8b18b093c1e5\":{\"defs\":[],\"roots\":{\"references\":[{\"attributes\":{\"below\":[{\"id\":\"1012\"}],\"center\":[{\"id\":\"1015\"},{\"id\":\"1019\"}],\"left\":[{\"id\":\"1016\"}],\"renderers\":[{\"id\":\"1037\"}],\"title\":{\"id\":\"1039\"},\"toolbar\":{\"id\":\"1027\"},\"x_range\":{\"id\":\"1004\"},\"x_scale\":{\"id\":\"1008\"},\"y_range\":{\"id\":\"1006\"},\"y_scale\":{\"id\":\"1010\"}},\"id\":\"1003\",\"subtype\":\"Figure\",\"type\":\"Plot\"},{\"attributes\":{\"formatter\":{\"id\":\"1042\"},\"major_label_policy\":{\"id\":\"1043\"},\"ticker\":{\"id\":\"1013\"}},\"id\":\"1012\",\"type\":\"LinearAxis\"},{\"attributes\":{},\"id\":\"1042\",\"type\":\"BasicTickFormatter\"},{\"attributes\":{\"line_color\":\"#1f77b4\",\"x\":{\"field\":\"x\"},\"y\":{\"field\":\"y\"}},\"id\":\"1035\",\"type\":\"Line\"},{\"attributes\":{},\"id\":\"1043\",\"type\":\"AllLabels\"},{\"attributes\":{\"axis\":{\"id\":\"1012\"},\"ticker\":null},\"id\":\"1015\",\"type\":\"Grid\"},{\"attributes\":{},\"id\":\"1004\",\"type\":\"DataRange1d\"},{\"attributes\":{\"bottom_units\":\"screen\",\"fill_alpha\":0.5,\"fill_color\":\"lightgrey\",\"left_units\":\"screen\",\"level\":\"overlay\",\"line_alpha\":1.0,\"line_color\":\"black\",\"line_dash\":[4,4],\"line_width\":2,\"right_units\":\"screen\",\"syncable\":false,\"top_units\":\"screen\"},\"id\":\"1026\",\"type\":\"BoxAnnotation\"},{\"attributes\":{\"line_alpha\":0.1,\"line_color\":\"#1f77b4\",\"x\":{\"field\":\"x\"},\"y\":{\"field\":\"y\"}},\"id\":\"1036\",\"type\":\"Line\"},{\"attributes\":{},\"id\":\"1047\",\"type\":\"UnionRenderers\"},{\"attributes\":{},\"id\":\"1010\",\"type\":\"LinearScale\"},{\"attributes\":{\"source\":{\"id\":\"1034\"}},\"id\":\"1038\",\"type\":\"CDSView\"},{\"attributes\":{},\"id\":\"1048\",\"type\":\"Selection\"},{\"attributes\":{},\"id\":\"1039\",\"type\":\"Title\"},{\"attributes\":{},\"id\":\"1013\",\"type\":\"BasicTicker\"},{\"attributes\":{\"active_multi\":null,\"tools\":[{\"id\":\"1020\"},{\"id\":\"1021\"},{\"id\":\"1022\"},{\"id\":\"1023\"},{\"id\":\"1024\"},{\"id\":\"1025\"}]},\"id\":\"1027\",\"type\":\"Toolbar\"},{\"attributes\":{\"data_source\":{\"id\":\"1034\"},\"glyph\":{\"id\":\"1035\"},\"hover_glyph\":null,\"muted_glyph\":null,\"nonselection_glyph\":{\"id\":\"1036\"},\"view\":{\"id\":\"1038\"}},\"id\":\"1037\",\"type\":\"GlyphRenderer\"},{\"attributes\":{},\"id\":\"1025\",\"type\":\"HelpTool\"},{\"attributes\":{\"formatter\":{\"id\":\"1045\"},\"major_label_policy\":{\"id\":\"1046\"},\"ticker\":{\"id\":\"1017\"}},\"id\":\"1016\",\"type\":\"LinearAxis\"},{\"attributes\":{},\"id\":\"1045\",\"type\":\"BasicTickFormatter\"},{\"attributes\":{},\"id\":\"1006\",\"type\":\"DataRange1d\"},{\"attributes\":{},\"id\":\"1046\",\"type\":\"AllLabels\"},{\"attributes\":{\"axis\":{\"id\":\"1016\"},\"dimension\":1,\"ticker\":null},\"id\":\"1019\",\"type\":\"Grid\"},{\"attributes\":{},\"id\":\"1017\",\"type\":\"BasicTicker\"},{\"attributes\":{},\"id\":\"1021\",\"type\":\"WheelZoomTool\"},{\"attributes\":{},\"id\":\"1020\",\"type\":\"PanTool\"},{\"attributes\":{\"data\":{\"x\":{\"__ndarray__\":\"AQAAAAIAAAADAAAABAAAAAUAAAAGAAAABwAAAAgAAAAJAAAACgAAAAsAAAAMAAAADQAAAA4AAAAPAAAAEAAAABEAAAASAAAAEwAAABQAAAAVAAAAFgAAABcAAAAYAAAAGQAAABoAAAAbAAAAHAAAAB0AAAAeAAAAHwAAACAAAAAhAAAAIgAAACMAAAAkAAAAJQAAACYAAAAnAAAAKAAAACkAAAAqAAAAKwAAACwAAAAtAAAALgAAAC8AAAAwAAAAMQAAADIAAAAzAAAANAAAADUAAAA2AAAANwAAADgAAAA5AAAAOgAAADsAAAA8AAAAPQAAAD4AAAA/AAAAQAAAAEEAAABCAAAAQwAAAEQAAABFAAAARgAAAEcAAABIAAAASQAAAEoAAABLAAAATAAAAE0AAABOAAAATwAAAFAAAABRAAAAUgAAAFMAAABUAAAAVQAAAFYAAABXAAAAWAAAAFkAAABaAAAAWwAAAFwAAABdAAAAXgAAAF8AAABgAAAAYQAAAGIAAABjAAAAZAAAAGUAAABmAAAAZwAAAGgAAABpAAAAagAAAGsAAABsAAAAbQAAAG4AAABvAAAAcAAAAHEAAAByAAAAcwAAAHQAAAB1AAAAdgAAAHcAAAB4AAAAeQAAAHoAAAB7AAAAfAAAAH0AAAB+AAAAfwAAAIAAAACBAAAAggAAAIMAAACEAAAAhQAAAIYAAACHAAAAiAAAAIkAAACKAAAAiwAAAIwAAACNAAAAjgAAAI8AAACQAAAAkQAAAJIAAACTAAAAlAAAAJUAAACWAAAAlwAAAJgAAACZAAAAmgAAAJsAAACcAAAAnQAAAJ4AAACfAAAAoAAAAKEAAACiAAAAowAAAKQAAAClAAAApgAAAKcAAACoAAAAqQAAAKoAAACrAAAArAAAAK0AAACuAAAArwAAALAAAACxAAAAsgAAALMAAAC0AAAAtQAAALYAAAC3AAAAuAAAALkAAAC6AAAAuwAAALwAAAC9AAAAvgAAAL8AAADAAAAAwQAAAMIAAADDAAAAxAAAAMUAAADGAAAAxwAAAMgAAADJAAAAygAAAMsAAADMAAAAzQAAAM4AAADPAAAA0AAAANEAAADSAAAA0wAAANQAAADVAAAA1gAAANcAAADYAAAA2QAAANoAAADbAAAA3AAAAN0AAADeAAAA3wAAAOAAAAA=\",\"dtype\":\"int32\",\"order\":\"little\",\"shape\":[224]},\"y\":{\"__ndarray__\":\"AAAAgAAAAIDW3o28OoFOPI+/Bj1djyI97YA5PbZjOT0qiDg92as7PTJyPT1OcjU9+Cg3PTlJKj1+cyQ9DgEXPZzfCD1U7f88CcP3PEuZ4DyYvM08UUe9PI6nozwQ8J48VYWJPHQlejxgPnc8sWZlPBudXDzti2U8LV1YPLy9TzweI1Q8V+5GPMcVLTy8rB88WVshPDO/CjyZLQY8/JUSPNvH/zs3jMg7EkLaOyCgwTv+qqY7JQ+fO6LanTsB7Z07RsyiO7TNszv3O447w6BwO1Eeizt0JU87AEZoOwemTztRv1k7i15xO5JTejuJKWE7YGBrO1zr7juAUpI7suRROxmZOjtmLw078RfUOmep6zrmOcQ6v2rYOjjvyzpPwZc6ATCuOsJpbTos6446LVl5OvBDXDqryZA69LZnOowlVDoMPkU66C+sOuMEtjk0zBs6JzjhObZG3jmjpsg5nUnsOT3M4zmgpui5CfeON0rPMDdHdDY36IBjOB1OsLmGNWC5FWCxuT6dRzuJgdg7jISAO2rIxDsyEAE8BKKxOx3Dxj2r1ig8g5jpO9uByzzTou09k0ZtPlor3D1WIbu9Hcd8PVDQBj0vxtw87JtcPMlzPDzm3w88qjbjO672HTymIhA8zFKtO1QqjDtFNL07m0e6O8qupjtB52Y7Uy5nO7E8gjtgsK07dPKtO5W6gTuY5Jk7nKuNO6+doTv7cHU7X12SOyBFlDtt9ZQ7jTy5O0zknDtINIE7GVSXO9dcjjs/IZM7CjhyO9vSgDvGH5o7hJWkO66sjjtKQ3I7mpLNO9qGAzxTKK65SQaYud8yRz0qzHY+MuVOPUMd77Y/3gO3rPisPX2kxbf+U1+9CIVzuSUb5bgZwLK3UBs1uQhkC73LYIQ8pYzLubRaJTyL6q878GKuO/tYhDv2BOw66dSXue9ECDsTBEs7zwgxO2V37jrSF+A6v8RbO1b28ToWc1o7NsEtOxGSTDuFA1E7JtwrO/VzTDu/rVQ7PLKYO8NARDtqLmw73hAgOwL+9Dr5VVE7CRtLO4e+ejvBmvs6ccoxO+YbbDunVHQ7aP29OnmYFjvGJVw7NSmEO9BtZTvM+mI76oBvOxqcgTp+g4E6eUqFOsSJ27jXUi07AyUaO/nPhDuH/rA7m1ynOvFMTDti9NG4HgrlOh3p7DoCqcM7THzMuHsey7g=\",\"dtype\":\"float32\",\"order\":\"little\",\"shape\":[224]}},\"selected\":{\"id\":\"1048\"},\"selection_policy\":{\"id\":\"1047\"}},\"id\":\"1034\",\"type\":\"ColumnDataSource\"},{\"attributes\":{\"overlay\":{\"id\":\"1026\"}},\"id\":\"1022\",\"type\":\"BoxZoomTool\"},{\"attributes\":{},\"id\":\"1023\",\"type\":\"SaveTool\"},{\"attributes\":{},\"id\":\"1024\",\"type\":\"ResetTool\"},{\"attributes\":{},\"id\":\"1008\",\"type\":\"LinearScale\"}],\"root_ids\":[\"1003\"]},\"title\":\"Bokeh Application\",\"version\":\"2.3.2\"}};\n  var render_items = [{\"docid\":\"95a7949c-41fd-4ed2-8fab-8b18b093c1e5\",\"root_ids\":[\"1003\"],\"roots\":{\"1003\":\"d8596a79-4f96-4ec7-a2aa-a850172da7ce\"}}];\n  root.Bokeh.embed.embed_items_notebook(docs_json, render_items);\n\n  }\n  if (root.Bokeh !== undefined) {\n    embed_document(root);\n  } else {\n    var attempts = 0;\n    var timer = setInterval(function(root) {\n      if (root.Bokeh !== undefined) {\n        clearInterval(timer);\n        embed_document(root);\n      } else {\n        attempts++;\n        if (attempts > 100) {\n          clearInterval(timer);\n          console.log(\"Bokeh: ERROR: Unable to run BokehJS code because BokehJS library is missing\");\n        }\n      }\n    }, 10, root)\n  }\n})(window);",
      "application/vnd.bokehjs_exec.v0+json": ""
     },
     "metadata": {
      "application/vnd.bokehjs_exec.v0+json": {
       "id": "1003"
      }
     },
     "output_type": "display_data"
    }
   ],
   "source": [
    "# create a new plot with a title and axis labels\n",
    "p = figure()\n",
    "p.line(x, y)  # add a line renderer with legend and line thickness to the plot\n",
    "show(p)"
   ]
  },
  {
   "cell_type": "markdown",
   "id": "95525c19",
   "metadata": {},
   "source": [
    "### Customizing the graph\n",
    "\n",
    "There are a variety of additional arguments we can use to customize the graph.\n",
    "\n",
    "* More info about [adding plot tools](https://docs.bokeh.org/en/latest/docs/user_guide/tools.html#configuring-plot-tools)\n",
    "\n",
    "#### Tooltips\n",
    "\n",
    "The default hovertext includes:\n",
    "* index - the index number of your original array of data\n",
    "* data - the data values\n",
    "* screen - the pixel number of your computer screen that the line is rendered on (I just ignore this one)\n",
    "\n",
    "You are able to [change the default hovertext](https://docs.bokeh.org/en/latest/docs/user_guide/tools.html#hovertool)."
   ]
  },
  {
   "cell_type": "code",
   "execution_count": 9,
   "id": "3aff4bdd",
   "metadata": {},
   "outputs": [
    {
     "data": {
      "text/html": [
       "\n",
       "\n",
       "\n",
       "\n",
       "\n",
       "\n",
       "  <div class=\"bk-root\" id=\"8a5a88db-d763-4063-a025-4ba85ba77538\" data-root-id=\"1105\"></div>\n"
      ]
     },
     "metadata": {},
     "output_type": "display_data"
    },
    {
     "data": {
      "application/javascript": "(function(root) {\n  function embed_document(root) {\n    \n  var docs_json = {\"958b0aa2-13a5-4433-afcb-514896cdc56b\":{\"defs\":[],\"roots\":{\"references\":[{\"attributes\":{\"below\":[{\"id\":\"1116\"}],\"center\":[{\"id\":\"1119\"},{\"id\":\"1123\"},{\"id\":\"1153\"}],\"left\":[{\"id\":\"1120\"}],\"renderers\":[{\"id\":\"1141\"}],\"title\":{\"id\":\"1106\"},\"toolbar\":{\"id\":\"1131\"},\"x_range\":{\"id\":\"1108\"},\"x_scale\":{\"id\":\"1112\"},\"y_range\":{\"id\":\"1110\"},\"y_scale\":{\"id\":\"1114\"}},\"id\":\"1105\",\"subtype\":\"Figure\",\"type\":\"Plot\"},{\"attributes\":{\"label\":{\"value\":\"pixel100_150\"},\"renderers\":[{\"id\":\"1141\"}]},\"id\":\"1154\",\"type\":\"LegendItem\"},{\"attributes\":{\"text\":\"Spectral Plot\"},\"id\":\"1106\",\"type\":\"Title\"},{\"attributes\":{},\"id\":\"1148\",\"type\":\"BasicTickFormatter\"},{\"attributes\":{\"items\":[{\"id\":\"1154\"}]},\"id\":\"1153\",\"type\":\"Legend\"},{\"attributes\":{},\"id\":\"1108\",\"type\":\"DataRange1d\"},{\"attributes\":{\"line_color\":\"#1f77b4\",\"line_width\":2,\"x\":{\"field\":\"x\"},\"y\":{\"field\":\"y\"}},\"id\":\"1139\",\"type\":\"Line\"},{\"attributes\":{},\"id\":\"1112\",\"type\":\"LinearScale\"},{\"attributes\":{},\"id\":\"1151\",\"type\":\"Selection\"},{\"attributes\":{},\"id\":\"1114\",\"type\":\"LinearScale\"},{\"attributes\":{\"source\":{\"id\":\"1138\"}},\"id\":\"1142\",\"type\":\"CDSView\"},{\"attributes\":{},\"id\":\"1150\",\"type\":\"UnionRenderers\"},{\"attributes\":{\"axis_label\":\"band number\",\"formatter\":{\"id\":\"1145\"},\"major_label_policy\":{\"id\":\"1146\"},\"ticker\":{\"id\":\"1117\"}},\"id\":\"1116\",\"type\":\"LinearAxis\"},{\"attributes\":{},\"id\":\"1117\",\"type\":\"BasicTicker\"},{\"attributes\":{},\"id\":\"1145\",\"type\":\"BasicTickFormatter\"},{\"attributes\":{\"axis\":{\"id\":\"1116\"},\"ticker\":null},\"id\":\"1119\",\"type\":\"Grid\"},{\"attributes\":{},\"id\":\"1146\",\"type\":\"AllLabels\"},{\"attributes\":{},\"id\":\"1125\",\"type\":\"WheelZoomTool\"},{\"attributes\":{\"axis_label\":\"reflectance\",\"formatter\":{\"id\":\"1148\"},\"major_label_policy\":{\"id\":\"1149\"},\"ticker\":{\"id\":\"1121\"}},\"id\":\"1120\",\"type\":\"LinearAxis\"},{\"attributes\":{\"axis\":{\"id\":\"1120\"},\"dimension\":1,\"ticker\":null},\"id\":\"1123\",\"type\":\"Grid\"},{\"attributes\":{},\"id\":\"1121\",\"type\":\"BasicTicker\"},{\"attributes\":{},\"id\":\"1129\",\"type\":\"HelpTool\"},{\"attributes\":{},\"id\":\"1124\",\"type\":\"PanTool\"},{\"attributes\":{\"overlay\":{\"id\":\"1130\"}},\"id\":\"1126\",\"type\":\"BoxZoomTool\"},{\"attributes\":{},\"id\":\"1127\",\"type\":\"SaveTool\"},{\"attributes\":{\"data\":{\"x\":{\"__ndarray__\":\"AQAAAAIAAAADAAAABAAAAAUAAAAGAAAABwAAAAgAAAAJAAAACgAAAAsAAAAMAAAADQAAAA4AAAAPAAAAEAAAABEAAAASAAAAEwAAABQAAAAVAAAAFgAAABcAAAAYAAAAGQAAABoAAAAbAAAAHAAAAB0AAAAeAAAAHwAAACAAAAAhAAAAIgAAACMAAAAkAAAAJQAAACYAAAAnAAAAKAAAACkAAAAqAAAAKwAAACwAAAAtAAAALgAAAC8AAAAwAAAAMQAAADIAAAAzAAAANAAAADUAAAA2AAAANwAAADgAAAA5AAAAOgAAADsAAAA8AAAAPQAAAD4AAAA/AAAAQAAAAEEAAABCAAAAQwAAAEQAAABFAAAARgAAAEcAAABIAAAASQAAAEoAAABLAAAATAAAAE0AAABOAAAATwAAAFAAAABRAAAAUgAAAFMAAABUAAAAVQAAAFYAAABXAAAAWAAAAFkAAABaAAAAWwAAAFwAAABdAAAAXgAAAF8AAABgAAAAYQAAAGIAAABjAAAAZAAAAGUAAABmAAAAZwAAAGgAAABpAAAAagAAAGsAAABsAAAAbQAAAG4AAABvAAAAcAAAAHEAAAByAAAAcwAAAHQAAAB1AAAAdgAAAHcAAAB4AAAAeQAAAHoAAAB7AAAAfAAAAH0AAAB+AAAAfwAAAIAAAACBAAAAggAAAIMAAACEAAAAhQAAAIYAAACHAAAAiAAAAIkAAACKAAAAiwAAAIwAAACNAAAAjgAAAI8AAACQAAAAkQAAAJIAAACTAAAAlAAAAJUAAACWAAAAlwAAAJgAAACZAAAAmgAAAJsAAACcAAAAnQAAAJ4AAACfAAAAoAAAAKEAAACiAAAAowAAAKQAAAClAAAApgAAAKcAAACoAAAAqQAAAKoAAACrAAAArAAAAK0AAACuAAAArwAAALAAAACxAAAAsgAAALMAAAC0AAAAtQAAALYAAAC3AAAAuAAAALkAAAC6AAAAuwAAALwAAAC9AAAAvgAAAL8AAADAAAAAwQAAAMIAAADDAAAAxAAAAMUAAADGAAAAxwAAAMgAAADJAAAAygAAAMsAAADMAAAAzQAAAM4AAADPAAAA0AAAANEAAADSAAAA0wAAANQAAADVAAAA1gAAANcAAADYAAAA2QAAANoAAADbAAAA3AAAAN0AAADeAAAA3wAAAOAAAAA=\",\"dtype\":\"int32\",\"order\":\"little\",\"shape\":[224]},\"y\":{\"__ndarray__\":\"AAAAgAAAAIDW3o28OoFOPI+/Bj1djyI97YA5PbZjOT0qiDg92as7PTJyPT1OcjU9+Cg3PTlJKj1+cyQ9DgEXPZzfCD1U7f88CcP3PEuZ4DyYvM08UUe9PI6nozwQ8J48VYWJPHQlejxgPnc8sWZlPBudXDzti2U8LV1YPLy9TzweI1Q8V+5GPMcVLTy8rB88WVshPDO/CjyZLQY8/JUSPNvH/zs3jMg7EkLaOyCgwTv+qqY7JQ+fO6LanTsB7Z07RsyiO7TNszv3O447w6BwO1Eeizt0JU87AEZoOwemTztRv1k7i15xO5JTejuJKWE7YGBrO1zr7juAUpI7suRROxmZOjtmLw078RfUOmep6zrmOcQ6v2rYOjjvyzpPwZc6ATCuOsJpbTos6446LVl5OvBDXDqryZA69LZnOowlVDoMPkU66C+sOuMEtjk0zBs6JzjhObZG3jmjpsg5nUnsOT3M4zmgpui5CfeON0rPMDdHdDY36IBjOB1OsLmGNWC5FWCxuT6dRzuJgdg7jISAO2rIxDsyEAE8BKKxOx3Dxj2r1ig8g5jpO9uByzzTou09k0ZtPlor3D1WIbu9Hcd8PVDQBj0vxtw87JtcPMlzPDzm3w88qjbjO672HTymIhA8zFKtO1QqjDtFNL07m0e6O8qupjtB52Y7Uy5nO7E8gjtgsK07dPKtO5W6gTuY5Jk7nKuNO6+doTv7cHU7X12SOyBFlDtt9ZQ7jTy5O0zknDtINIE7GVSXO9dcjjs/IZM7CjhyO9vSgDvGH5o7hJWkO66sjjtKQ3I7mpLNO9qGAzxTKK65SQaYud8yRz0qzHY+MuVOPUMd77Y/3gO3rPisPX2kxbf+U1+9CIVzuSUb5bgZwLK3UBs1uQhkC73LYIQ8pYzLubRaJTyL6q878GKuO/tYhDv2BOw66dSXue9ECDsTBEs7zwgxO2V37jrSF+A6v8RbO1b28ToWc1o7NsEtOxGSTDuFA1E7JtwrO/VzTDu/rVQ7PLKYO8NARDtqLmw73hAgOwL+9Dr5VVE7CRtLO4e+ejvBmvs6ccoxO+YbbDunVHQ7aP29OnmYFjvGJVw7NSmEO9BtZTvM+mI76oBvOxqcgTp+g4E6eUqFOsSJ27jXUi07AyUaO/nPhDuH/rA7m1ynOvFMTDti9NG4HgrlOh3p7DoCqcM7THzMuHsey7g=\",\"dtype\":\"float32\",\"order\":\"little\",\"shape\":[224]}},\"selected\":{\"id\":\"1151\"},\"selection_policy\":{\"id\":\"1150\"}},\"id\":\"1138\",\"type\":\"ColumnDataSource\"},{\"attributes\":{},\"id\":\"1128\",\"type\":\"ResetTool\"},{\"attributes\":{\"active_multi\":null,\"tools\":[{\"id\":\"1124\"},{\"id\":\"1125\"},{\"id\":\"1126\"},{\"id\":\"1127\"},{\"id\":\"1128\"},{\"id\":\"1129\"}]},\"id\":\"1131\",\"type\":\"Toolbar\"},{\"attributes\":{},\"id\":\"1149\",\"type\":\"AllLabels\"},{\"attributes\":{},\"id\":\"1110\",\"type\":\"DataRange1d\"},{\"attributes\":{\"line_alpha\":0.1,\"line_color\":\"#1f77b4\",\"line_width\":2,\"x\":{\"field\":\"x\"},\"y\":{\"field\":\"y\"}},\"id\":\"1140\",\"type\":\"Line\"},{\"attributes\":{\"data_source\":{\"id\":\"1138\"},\"glyph\":{\"id\":\"1139\"},\"hover_glyph\":null,\"muted_glyph\":null,\"nonselection_glyph\":{\"id\":\"1140\"},\"view\":{\"id\":\"1142\"}},\"id\":\"1141\",\"type\":\"GlyphRenderer\"},{\"attributes\":{\"bottom_units\":\"screen\",\"fill_alpha\":0.5,\"fill_color\":\"lightgrey\",\"left_units\":\"screen\",\"level\":\"overlay\",\"line_alpha\":1.0,\"line_color\":\"black\",\"line_dash\":[4,4],\"line_width\":2,\"right_units\":\"screen\",\"syncable\":false,\"top_units\":\"screen\"},\"id\":\"1130\",\"type\":\"BoxAnnotation\"}],\"root_ids\":[\"1105\"]},\"title\":\"Bokeh Application\",\"version\":\"2.3.2\"}};\n  var render_items = [{\"docid\":\"958b0aa2-13a5-4433-afcb-514896cdc56b\",\"root_ids\":[\"1105\"],\"roots\":{\"1105\":\"8a5a88db-d763-4063-a025-4ba85ba77538\"}}];\n  root.Bokeh.embed.embed_items_notebook(docs_json, render_items);\n\n  }\n  if (root.Bokeh !== undefined) {\n    embed_document(root);\n  } else {\n    var attempts = 0;\n    var timer = setInterval(function(root) {\n      if (root.Bokeh !== undefined) {\n        clearInterval(timer);\n        embed_document(root);\n      } else {\n        attempts++;\n        if (attempts > 100) {\n          clearInterval(timer);\n          console.log(\"Bokeh: ERROR: Unable to run BokehJS code because BokehJS library is missing\");\n        }\n      }\n    }, 10, root)\n  }\n})(window);",
      "application/vnd.bokehjs_exec.v0+json": ""
     },
     "metadata": {
      "application/vnd.bokehjs_exec.v0+json": {
       "id": "1105"
      }
     },
     "output_type": "display_data"
    }
   ],
   "source": [
    "# create a new plot with a title and axis labels\n",
    "p = figure(title=\"Spectral Plot\", x_axis_label='band number', y_axis_label='reflectance')\n",
    "# add a line renderer with legend and line thickness to the plot\n",
    "p.line(x, y, legend_label=\"pixel100_150\", line_width=2)\n",
    "show(p)"
   ]
  },
  {
   "cell_type": "markdown",
   "id": "abe4f8db",
   "metadata": {},
   "source": [
    "### Adding multiple lines"
   ]
  },
  {
   "cell_type": "code",
   "execution_count": 10,
   "id": "f8682a8c",
   "metadata": {},
   "outputs": [],
   "source": [
    "# get the z profiles\n",
    "y1 = bands[:, 100, 150]\n",
    "y2 = bands[:, 145, 302]\n",
    "y3 = bands[:, 100, 350]\n",
    "\n",
    "# set unreal numbers to nan \n",
    "# (don't do this in your own data unless you've confirmed that it makes scientific sense)\n",
    "y2[np.where(y2>1)] = np.nan\n",
    "y3[np.where(y3>1)] = np.nan\n"
   ]
  },
  {
   "cell_type": "code",
   "execution_count": 11,
   "id": "ac7d5ae9",
   "metadata": {},
   "outputs": [
    {
     "data": {
      "text/html": [
       "\n",
       "\n",
       "\n",
       "\n",
       "\n",
       "\n",
       "  <div class=\"bk-root\" id=\"24e02296-fdcc-4a8f-add8-0805775d5d78\" data-root-id=\"1226\"></div>\n"
      ]
     },
     "metadata": {},
     "output_type": "display_data"
    },
    {
     "data": {
      "application/javascript": "(function(root) {\n  function embed_document(root) {\n    \n  var docs_json = {\"17beaf2e-9d30-4c22-885b-711d8a37de8f\":{\"defs\":[],\"roots\":{\"references\":[{\"attributes\":{\"below\":[{\"id\":\"1237\"}],\"center\":[{\"id\":\"1240\"},{\"id\":\"1244\"},{\"id\":\"1276\"}],\"left\":[{\"id\":\"1241\"}],\"renderers\":[{\"id\":\"1264\"},{\"id\":\"1281\"},{\"id\":\"1299\"}],\"title\":{\"id\":\"1227\"},\"toolbar\":{\"id\":\"1253\"},\"x_range\":{\"id\":\"1229\"},\"x_scale\":{\"id\":\"1233\"},\"y_range\":{\"id\":\"1231\"},\"y_scale\":{\"id\":\"1235\"}},\"id\":\"1226\",\"subtype\":\"Figure\",\"type\":\"Plot\"},{\"attributes\":{},\"id\":\"1292\",\"type\":\"UnionRenderers\"},{\"attributes\":{\"data_source\":{\"id\":\"1261\"},\"glyph\":{\"id\":\"1262\"},\"hover_glyph\":null,\"muted_glyph\":null,\"nonselection_glyph\":{\"id\":\"1263\"},\"view\":{\"id\":\"1265\"}},\"id\":\"1264\",\"type\":\"GlyphRenderer\"},{\"attributes\":{},\"id\":\"1245\",\"type\":\"PanTool\"},{\"attributes\":{},\"id\":\"1274\",\"type\":\"Selection\"},{\"attributes\":{},\"id\":\"1233\",\"type\":\"LinearScale\"},{\"attributes\":{},\"id\":\"1271\",\"type\":\"BasicTickFormatter\"},{\"attributes\":{},\"id\":\"1229\",\"type\":\"DataRange1d\"},{\"attributes\":{},\"id\":\"1272\",\"type\":\"AllLabels\"},{\"attributes\":{\"line_color\":\"blue\",\"line_width\":2,\"x\":{\"field\":\"x\"},\"y\":{\"field\":\"y\"}},\"id\":\"1262\",\"type\":\"Line\"},{\"attributes\":{},\"id\":\"1231\",\"type\":\"DataRange1d\"},{\"attributes\":{\"line_alpha\":0.1,\"line_color\":\"blue\",\"line_width\":2,\"x\":{\"field\":\"x\"},\"y\":{\"field\":\"y\"}},\"id\":\"1263\",\"type\":\"Line\"},{\"attributes\":{\"line_color\":\"red\",\"line_width\":2,\"x\":{\"field\":\"x\"},\"y\":{\"field\":\"y\"}},\"id\":\"1279\",\"type\":\"Line\"},{\"attributes\":{},\"id\":\"1242\",\"type\":\"BasicTicker\"},{\"attributes\":{\"axis\":{\"id\":\"1241\"},\"dimension\":1,\"ticker\":null},\"id\":\"1244\",\"type\":\"Grid\"},{\"attributes\":{\"axis_label\":\"reflectance\",\"formatter\":{\"id\":\"1271\"},\"major_label_policy\":{\"id\":\"1272\"},\"ticker\":{\"id\":\"1242\"}},\"id\":\"1241\",\"type\":\"LinearAxis\"},{\"attributes\":{\"source\":{\"id\":\"1296\"}},\"id\":\"1300\",\"type\":\"CDSView\"},{\"attributes\":{\"axis\":{\"id\":\"1237\"},\"ticker\":null},\"id\":\"1240\",\"type\":\"Grid\"},{\"attributes\":{},\"id\":\"1238\",\"type\":\"BasicTicker\"},{\"attributes\":{\"label\":{\"value\":\"pixel100_350\"},\"renderers\":[{\"id\":\"1299\"}]},\"id\":\"1315\",\"type\":\"LegendItem\"},{\"attributes\":{},\"id\":\"1293\",\"type\":\"Selection\"},{\"attributes\":{\"axis_label\":\"band number\",\"formatter\":{\"id\":\"1268\"},\"major_label_policy\":{\"id\":\"1269\"},\"ticker\":{\"id\":\"1238\"}},\"id\":\"1237\",\"type\":\"LinearAxis\"},{\"attributes\":{\"data_source\":{\"id\":\"1296\"},\"glyph\":{\"id\":\"1297\"},\"hover_glyph\":null,\"muted_glyph\":null,\"nonselection_glyph\":{\"id\":\"1298\"},\"view\":{\"id\":\"1300\"}},\"id\":\"1299\",\"type\":\"GlyphRenderer\"},{\"attributes\":{\"source\":{\"id\":\"1261\"}},\"id\":\"1265\",\"type\":\"CDSView\"},{\"attributes\":{},\"id\":\"1235\",\"type\":\"LinearScale\"},{\"attributes\":{\"line_alpha\":0.1,\"line_color\":\"green\",\"line_width\":2,\"x\":{\"field\":\"x\"},\"y\":{\"field\":\"y\"}},\"id\":\"1298\",\"type\":\"Line\"},{\"attributes\":{\"label\":{\"value\":\"pixel100_150\"},\"renderers\":[{\"id\":\"1264\"}]},\"id\":\"1277\",\"type\":\"LegendItem\"},{\"attributes\":{\"active_multi\":null,\"tools\":[{\"id\":\"1245\"},{\"id\":\"1246\"},{\"id\":\"1247\"},{\"id\":\"1248\"},{\"id\":\"1249\"},{\"id\":\"1250\"},{\"id\":\"1251\"}]},\"id\":\"1253\",\"type\":\"Toolbar\"},{\"attributes\":{\"items\":[{\"id\":\"1277\"},{\"id\":\"1295\"},{\"id\":\"1315\"}]},\"id\":\"1276\",\"type\":\"Legend\"},{\"attributes\":{\"callback\":null},\"id\":\"1248\",\"type\":\"HoverTool\"},{\"attributes\":{\"line_color\":\"green\",\"line_width\":2,\"x\":{\"field\":\"x\"},\"y\":{\"field\":\"y\"}},\"id\":\"1297\",\"type\":\"Line\"},{\"attributes\":{},\"id\":\"1250\",\"type\":\"ResetTool\"},{\"attributes\":{},\"id\":\"1312\",\"type\":\"UnionRenderers\"},{\"attributes\":{},\"id\":\"1313\",\"type\":\"Selection\"},{\"attributes\":{},\"id\":\"1268\",\"type\":\"BasicTickFormatter\"},{\"attributes\":{\"source\":{\"id\":\"1278\"}},\"id\":\"1282\",\"type\":\"CDSView\"},{\"attributes\":{},\"id\":\"1269\",\"type\":\"AllLabels\"},{\"attributes\":{\"data\":{\"x\":{\"__ndarray__\":\"AQAAAAIAAAADAAAABAAAAAUAAAAGAAAABwAAAAgAAAAJAAAACgAAAAsAAAAMAAAADQAAAA4AAAAPAAAAEAAAABEAAAASAAAAEwAAABQAAAAVAAAAFgAAABcAAAAYAAAAGQAAABoAAAAbAAAAHAAAAB0AAAAeAAAAHwAAACAAAAAhAAAAIgAAACMAAAAkAAAAJQAAACYAAAAnAAAAKAAAACkAAAAqAAAAKwAAACwAAAAtAAAALgAAAC8AAAAwAAAAMQAAADIAAAAzAAAANAAAADUAAAA2AAAANwAAADgAAAA5AAAAOgAAADsAAAA8AAAAPQAAAD4AAAA/AAAAQAAAAEEAAABCAAAAQwAAAEQAAABFAAAARgAAAEcAAABIAAAASQAAAEoAAABLAAAATAAAAE0AAABOAAAATwAAAFAAAABRAAAAUgAAAFMAAABUAAAAVQAAAFYAAABXAAAAWAAAAFkAAABaAAAAWwAAAFwAAABdAAAAXgAAAF8AAABgAAAAYQAAAGIAAABjAAAAZAAAAGUAAABmAAAAZwAAAGgAAABpAAAAagAAAGsAAABsAAAAbQAAAG4AAABvAAAAcAAAAHEAAAByAAAAcwAAAHQAAAB1AAAAdgAAAHcAAAB4AAAAeQAAAHoAAAB7AAAAfAAAAH0AAAB+AAAAfwAAAIAAAACBAAAAggAAAIMAAACEAAAAhQAAAIYAAACHAAAAiAAAAIkAAACKAAAAiwAAAIwAAACNAAAAjgAAAI8AAACQAAAAkQAAAJIAAACTAAAAlAAAAJUAAACWAAAAlwAAAJgAAACZAAAAmgAAAJsAAACcAAAAnQAAAJ4AAACfAAAAoAAAAKEAAACiAAAAowAAAKQAAAClAAAApgAAAKcAAACoAAAAqQAAAKoAAACrAAAArAAAAK0AAACuAAAArwAAALAAAACxAAAAsgAAALMAAAC0AAAAtQAAALYAAAC3AAAAuAAAALkAAAC6AAAAuwAAALwAAAC9AAAAvgAAAL8AAADAAAAAwQAAAMIAAADDAAAAxAAAAMUAAADGAAAAxwAAAMgAAADJAAAAygAAAMsAAADMAAAAzQAAAM4AAADPAAAA0AAAANEAAADSAAAA0wAAANQAAADVAAAA1gAAANcAAADYAAAA2QAAANoAAADbAAAA3AAAAN0AAADeAAAA3wAAAOAAAAA=\",\"dtype\":\"int32\",\"order\":\"little\",\"shape\":[224]},\"y\":{\"__ndarray__\":\"AAAAgAAAAIAX4IK9eofSvABSh7uLUgc8SeZePJ4RlDxCJ6U8ONa5PDyLxjwA5Ls8z+fIPHArwDy/zsA89ze7PIpltDzjfK08QhSyPDvEqjxAZqw84ZSgPK5jnjx/E7E8mbWnPFt0qTwRhac8lUqoPBOsrzwL/bc8iNS0PMlTszwEaLA8yuywPIoSrjycXLE8yEvIPJ1V1Ty1Quw8dMIHPawqDz2pkQs9ZeYQPW5EEj0NZhM97LsWPXj2GT1FgR49dhIhPT32Kj2aDic9irwiPfrCJj0uuCU9Gc8nPYIrKD0OaSs9jkY0PV1hNj1B2jk9GbIyPYurPT1z1DE99848Pf10Oj0yBjM9g9ozPeAaND2CujY939M6PWBFPT0Y+D09LIY/PZGfQT2abUE9t0VAPQhFQj2I0UU9BYBJPfBcPz29Gzg92XlJPRI9PD0tz0k9ERNCPQumRT02KUA9wcRDPeUXRD26S0E9U3lGPZiaRD2hzUo9cxhKPRKERj06pTo9UytHPRhCUD2mrUM9gLJFPRlKVz1zl1k9r8VZPQAAwH9Nu2Q9rw9vPb2Afj0cV2o+dbQxPoiRWz7RpbG8HguEPrejrD06FfY9L4GVPbvfVj1REmE9j3ooPeu5Rz3x6Cc96lYrPf1JIj1DVCQ9g0IqPQNvKz3Qn1Q9sA0xPcwtND1K7ys9bX8wPWLWOT0ia0E9lm1BPXvuQz0RU0g9REJSPSsfTT0yQlM9CfxMPbdyRz1u80Q9u5xCPSaoPT1I3Do9w707PS8yRz3ZPEA9T3Y3PXsYSD2OBUM9X2hBPcdRVT0924M9cxdTPq9H1j20mH4/TB9xPhH9AT4EdRy3ywCoPkV/6rc8erE+rIdJPq+Z0r0ZE9S3Q95WufKStj0gOCE+aQPyPVuWqD24lo89YNZGPT3QLj1VVxA9x/uLPfWXlz3MxzE9rwcSPbbECT1QzyU9yhUPPT+9Dz2RiAE9n+z6PJ9p/jzvses8gUQFPfgj+zwCMwA9NPL8POibCT2pGgY94oEIPZq+BT2njw89/rYPPdYEBT0rHgQ9r1T8PHuL8Twrbu08BCnQPHSu3TyrCcY8QsDWPCHhvjy6nMs8q9WnPHCZrDwuSr08n0C4PC/Huzy+2K087XSsPFX8oTxdAqw8Ky6SPH+EqzxsyT885V5sPBrQoTwwIr080UVlPBYOWTw=\",\"dtype\":\"float32\",\"order\":\"little\",\"shape\":[224]}},\"selected\":{\"id\":\"1313\"},\"selection_policy\":{\"id\":\"1312\"}},\"id\":\"1296\",\"type\":\"ColumnDataSource\"},{\"attributes\":{\"label\":{\"value\":\"pixel145_302\"},\"renderers\":[{\"id\":\"1281\"}]},\"id\":\"1295\",\"type\":\"LegendItem\"},{\"attributes\":{\"data_source\":{\"id\":\"1278\"},\"glyph\":{\"id\":\"1279\"},\"hover_glyph\":null,\"muted_glyph\":null,\"nonselection_glyph\":{\"id\":\"1280\"},\"view\":{\"id\":\"1282\"}},\"id\":\"1281\",\"type\":\"GlyphRenderer\"},{\"attributes\":{\"bottom_units\":\"screen\",\"fill_alpha\":0.5,\"fill_color\":\"lightgrey\",\"left_units\":\"screen\",\"level\":\"overlay\",\"line_alpha\":1.0,\"line_color\":\"black\",\"line_dash\":[4,4],\"line_width\":2,\"right_units\":\"screen\",\"syncable\":false,\"top_units\":\"screen\"},\"id\":\"1252\",\"type\":\"BoxAnnotation\"},{\"attributes\":{\"line_alpha\":0.1,\"line_color\":\"red\",\"line_width\":2,\"x\":{\"field\":\"x\"},\"y\":{\"field\":\"y\"}},\"id\":\"1280\",\"type\":\"Line\"},{\"attributes\":{},\"id\":\"1247\",\"type\":\"CrosshairTool\"},{\"attributes\":{\"overlay\":{\"id\":\"1252\"}},\"id\":\"1246\",\"type\":\"BoxZoomTool\"},{\"attributes\":{},\"id\":\"1251\",\"type\":\"SaveTool\"},{\"attributes\":{},\"id\":\"1273\",\"type\":\"UnionRenderers\"},{\"attributes\":{\"data\":{\"x\":{\"__ndarray__\":\"AQAAAAIAAAADAAAABAAAAAUAAAAGAAAABwAAAAgAAAAJAAAACgAAAAsAAAAMAAAADQAAAA4AAAAPAAAAEAAAABEAAAASAAAAEwAAABQAAAAVAAAAFgAAABcAAAAYAAAAGQAAABoAAAAbAAAAHAAAAB0AAAAeAAAAHwAAACAAAAAhAAAAIgAAACMAAAAkAAAAJQAAACYAAAAnAAAAKAAAACkAAAAqAAAAKwAAACwAAAAtAAAALgAAAC8AAAAwAAAAMQAAADIAAAAzAAAANAAAADUAAAA2AAAANwAAADgAAAA5AAAAOgAAADsAAAA8AAAAPQAAAD4AAAA/AAAAQAAAAEEAAABCAAAAQwAAAEQAAABFAAAARgAAAEcAAABIAAAASQAAAEoAAABLAAAATAAAAE0AAABOAAAATwAAAFAAAABRAAAAUgAAAFMAAABUAAAAVQAAAFYAAABXAAAAWAAAAFkAAABaAAAAWwAAAFwAAABdAAAAXgAAAF8AAABgAAAAYQAAAGIAAABjAAAAZAAAAGUAAABmAAAAZwAAAGgAAABpAAAAagAAAGsAAABsAAAAbQAAAG4AAABvAAAAcAAAAHEAAAByAAAAcwAAAHQAAAB1AAAAdgAAAHcAAAB4AAAAeQAAAHoAAAB7AAAAfAAAAH0AAAB+AAAAfwAAAIAAAACBAAAAggAAAIMAAACEAAAAhQAAAIYAAACHAAAAiAAAAIkAAACKAAAAiwAAAIwAAACNAAAAjgAAAI8AAACQAAAAkQAAAJIAAACTAAAAlAAAAJUAAACWAAAAlwAAAJgAAACZAAAAmgAAAJsAAACcAAAAnQAAAJ4AAACfAAAAoAAAAKEAAACiAAAAowAAAKQAAAClAAAApgAAAKcAAACoAAAAqQAAAKoAAACrAAAArAAAAK0AAACuAAAArwAAALAAAACxAAAAsgAAALMAAAC0AAAAtQAAALYAAAC3AAAAuAAAALkAAAC6AAAAuwAAALwAAAC9AAAAvgAAAL8AAADAAAAAwQAAAMIAAADDAAAAxAAAAMUAAADGAAAAxwAAAMgAAADJAAAAygAAAMsAAADMAAAAzQAAAM4AAADPAAAA0AAAANEAAADSAAAA0wAAANQAAADVAAAA1gAAANcAAADYAAAA2QAAANoAAADbAAAA3AAAAN0AAADeAAAA3wAAAOAAAAA=\",\"dtype\":\"int32\",\"order\":\"little\",\"shape\":[224]},\"y\":{\"__ndarray__\":\"AAAAgAAAAIArZW+7Et7OPIltGT17czk9BkhUPcrjUT2/21E9aR1WPceMWz3jx1k9YdRfPYCtWz0YqlQ9spBNPUQNPz3gODg9byc2PWS2Kj1lgSE9cdUWPWj0BT0VqeM8m1e2PNz1oDwJk5U8puiQPMQOjjwNv4Y8NauDPALNczwoP3Y8wQ1tPDjeWTzfvVA8MfZRPN+WUTyUFWM83FdZPHf+WTwqxU08wj1QPGHhPzysIi48JWY+PFSJNzwpjTU8F4E3POWIJDwnECI8Z+sOPJUXFTxe2Qg88+0CPP7w8Tv1NPo7X1TAO/Ah2zu07807rUe7O+LW+jvpmZs7O4aMO0uxjTsFb5Y7pJiMO8vcjzuJZIk7kKmXO+HnlTs8GYs7Dhd+O23DhjuaS4Y7k8lvO5zyazu35GU7x7JvO3zuSzs+Wms7F29VO2WOdTuBS5Y7zFwrO4K8PDv8OVg7dqZfO4COXjsQMi87enYsO6qnSTtudmc7dNtwO8uNRTt0BU07qSJGO2dEAjwVwzI7EKeBOyL63zulzbw7IHG+OwAAwH8yZ4w7VYgwOznV+Lmqqqs7odf8O2QuXztPM+W5A+e2OpwEo7tH04Q7xBcsOiPdAjq8q1077Rb0OiJ3UzuBQVA7zJR5OyXAazsqHFg7QNRPO1GaNjvzfDY7tIn3OzLsjjuXozg7BLGSO+A9gjtKHHs7EExGO8pMczv6Uok7JrRNO3pUbTtp2FA7rX86O2jHPTt3b2A7XllIO0ehUTuGwxE74pRlO0Ztd7qR6U47eAKAO8vVQzsLXwI7qd5VOy+ikjqScQ0794eLuXsq1biHZwG3MbWctv8TPLqRHbW6kbxAO8Vmtbd7ASa4uquWO8lH0risceQ6C0oIPA/whLvNi+A7O9O6uWjtFjwdFqE7qPzmOxnPkzuou047oVuLubbM7ju6oqQ7fQdwO6JbjDvve6Y7m6eaO3JZczvZt1M75tpLOyKAazuuc287IA2cOx42bzvVmFE7d4+AOz7MZjsJNBU7Dk1BO/6KHztuDyE7iupHO6vX8DrlXyk7j54CO7+xCTtXGw474Mm8OtmjwTpIFR87lxjIOn9cSjrUzM+4qZJQOq5YbDoJzWw65cPKuN2BybjhP8i4Af7GuDG8xbjNtbq6zTjDuDr3wbi4tcC4fh8sO/Iyvrh6qdo6+qBQu15vurg=\",\"dtype\":\"float32\",\"order\":\"little\",\"shape\":[224]}},\"selected\":{\"id\":\"1293\"},\"selection_policy\":{\"id\":\"1292\"}},\"id\":\"1278\",\"type\":\"ColumnDataSource\"},{\"attributes\":{},\"id\":\"1249\",\"type\":\"WheelZoomTool\"},{\"attributes\":{\"data\":{\"x\":{\"__ndarray__\":\"AQAAAAIAAAADAAAABAAAAAUAAAAGAAAABwAAAAgAAAAJAAAACgAAAAsAAAAMAAAADQAAAA4AAAAPAAAAEAAAABEAAAASAAAAEwAAABQAAAAVAAAAFgAAABcAAAAYAAAAGQAAABoAAAAbAAAAHAAAAB0AAAAeAAAAHwAAACAAAAAhAAAAIgAAACMAAAAkAAAAJQAAACYAAAAnAAAAKAAAACkAAAAqAAAAKwAAACwAAAAtAAAALgAAAC8AAAAwAAAAMQAAADIAAAAzAAAANAAAADUAAAA2AAAANwAAADgAAAA5AAAAOgAAADsAAAA8AAAAPQAAAD4AAAA/AAAAQAAAAEEAAABCAAAAQwAAAEQAAABFAAAARgAAAEcAAABIAAAASQAAAEoAAABLAAAATAAAAE0AAABOAAAATwAAAFAAAABRAAAAUgAAAFMAAABUAAAAVQAAAFYAAABXAAAAWAAAAFkAAABaAAAAWwAAAFwAAABdAAAAXgAAAF8AAABgAAAAYQAAAGIAAABjAAAAZAAAAGUAAABmAAAAZwAAAGgAAABpAAAAagAAAGsAAABsAAAAbQAAAG4AAABvAAAAcAAAAHEAAAByAAAAcwAAAHQAAAB1AAAAdgAAAHcAAAB4AAAAeQAAAHoAAAB7AAAAfAAAAH0AAAB+AAAAfwAAAIAAAACBAAAAggAAAIMAAACEAAAAhQAAAIYAAACHAAAAiAAAAIkAAACKAAAAiwAAAIwAAACNAAAAjgAAAI8AAACQAAAAkQAAAJIAAACTAAAAlAAAAJUAAACWAAAAlwAAAJgAAACZAAAAmgAAAJsAAACcAAAAnQAAAJ4AAACfAAAAoAAAAKEAAACiAAAAowAAAKQAAAClAAAApgAAAKcAAACoAAAAqQAAAKoAAACrAAAArAAAAK0AAACuAAAArwAAALAAAACxAAAAsgAAALMAAAC0AAAAtQAAALYAAAC3AAAAuAAAALkAAAC6AAAAuwAAALwAAAC9AAAAvgAAAL8AAADAAAAAwQAAAMIAAADDAAAAxAAAAMUAAADGAAAAxwAAAMgAAADJAAAAygAAAMsAAADMAAAAzQAAAM4AAADPAAAA0AAAANEAAADSAAAA0wAAANQAAADVAAAA1gAAANcAAADYAAAA2QAAANoAAADbAAAA3AAAAN0AAADeAAAA3wAAAOAAAAA=\",\"dtype\":\"int32\",\"order\":\"little\",\"shape\":[224]},\"y\":{\"__ndarray__\":\"AAAAgAAAAIDW3o28OoFOPI+/Bj1djyI97YA5PbZjOT0qiDg92as7PTJyPT1OcjU9+Cg3PTlJKj1+cyQ9DgEXPZzfCD1U7f88CcP3PEuZ4DyYvM08UUe9PI6nozwQ8J48VYWJPHQlejxgPnc8sWZlPBudXDzti2U8LV1YPLy9TzweI1Q8V+5GPMcVLTy8rB88WVshPDO/CjyZLQY8/JUSPNvH/zs3jMg7EkLaOyCgwTv+qqY7JQ+fO6LanTsB7Z07RsyiO7TNszv3O447w6BwO1Eeizt0JU87AEZoOwemTztRv1k7i15xO5JTejuJKWE7YGBrO1zr7juAUpI7suRROxmZOjtmLw078RfUOmep6zrmOcQ6v2rYOjjvyzpPwZc6ATCuOsJpbTos6446LVl5OvBDXDqryZA69LZnOowlVDoMPkU66C+sOuMEtjk0zBs6JzjhObZG3jmjpsg5nUnsOT3M4zmgpui5CfeON0rPMDdHdDY36IBjOB1OsLmGNWC5FWCxuT6dRzuJgdg7jISAO2rIxDsyEAE8BKKxOx3Dxj2r1ig8g5jpO9uByzzTou09k0ZtPlor3D1WIbu9Hcd8PVDQBj0vxtw87JtcPMlzPDzm3w88qjbjO672HTymIhA8zFKtO1QqjDtFNL07m0e6O8qupjtB52Y7Uy5nO7E8gjtgsK07dPKtO5W6gTuY5Jk7nKuNO6+doTv7cHU7X12SOyBFlDtt9ZQ7jTy5O0zknDtINIE7GVSXO9dcjjs/IZM7CjhyO9vSgDvGH5o7hJWkO66sjjtKQ3I7mpLNO9qGAzxTKK65SQaYud8yRz0qzHY+MuVOPUMd77Y/3gO3rPisPX2kxbf+U1+9CIVzuSUb5bgZwLK3UBs1uQhkC73LYIQ8pYzLubRaJTyL6q878GKuO/tYhDv2BOw66dSXue9ECDsTBEs7zwgxO2V37jrSF+A6v8RbO1b28ToWc1o7NsEtOxGSTDuFA1E7JtwrO/VzTDu/rVQ7PLKYO8NARDtqLmw73hAgOwL+9Dr5VVE7CRtLO4e+ejvBmvs6ccoxO+YbbDunVHQ7aP29OnmYFjvGJVw7NSmEO9BtZTvM+mI76oBvOxqcgTp+g4E6eUqFOsSJ27jXUi07AyUaO/nPhDuH/rA7m1ynOvFMTDti9NG4HgrlOh3p7DoCqcM7THzMuHsey7g=\",\"dtype\":\"float32\",\"order\":\"little\",\"shape\":[224]}},\"selected\":{\"id\":\"1274\"},\"selection_policy\":{\"id\":\"1273\"}},\"id\":\"1261\",\"type\":\"ColumnDataSource\"},{\"attributes\":{\"text\":\"Spectral Plot\"},\"id\":\"1227\",\"type\":\"Title\"}],\"root_ids\":[\"1226\"]},\"title\":\"Bokeh Application\",\"version\":\"2.3.2\"}};\n  var render_items = [{\"docid\":\"17beaf2e-9d30-4c22-885b-711d8a37de8f\",\"root_ids\":[\"1226\"],\"roots\":{\"1226\":\"24e02296-fdcc-4a8f-add8-0805775d5d78\"}}];\n  root.Bokeh.embed.embed_items_notebook(docs_json, render_items);\n\n  }\n  if (root.Bokeh !== undefined) {\n    embed_document(root);\n  } else {\n    var attempts = 0;\n    var timer = setInterval(function(root) {\n      if (root.Bokeh !== undefined) {\n        clearInterval(timer);\n        embed_document(root);\n      } else {\n        attempts++;\n        if (attempts > 100) {\n          clearInterval(timer);\n          console.log(\"Bokeh: ERROR: Unable to run BokehJS code because BokehJS library is missing\");\n        }\n      }\n    }, 10, root)\n  }\n})(window);",
      "application/vnd.bokehjs_exec.v0+json": ""
     },
     "metadata": {
      "application/vnd.bokehjs_exec.v0+json": {
       "id": "1226"
      }
     },
     "output_type": "display_data"
    }
   ],
   "source": [
    "# create a new plot with a title, axis labels, and plot tools\n",
    "p = figure(title=\"Spectral Plot\", x_axis_label='band number', y_axis_label='reflectance', \n",
    "           tools='pan,box_zoom,crosshair,hover,wheel_zoom,reset,save')\n",
    "\n",
    "# add lines\n",
    "p.line(x, y1, legend_label=\"pixel100_150\", line_color=\"blue\", line_width=2)\n",
    "p.line(x, y2, legend_label=\"pixel145_302\", line_color=\"red\", line_width=2)\n",
    "p.line(x, y3, legend_label=\"pixel100_350\", line_color=\"green\", line_width=2)\n",
    "\n",
    "# show the results\n",
    "show(p)"
   ]
  },
  {
   "cell_type": "markdown",
   "id": "3ed1fdde",
   "metadata": {},
   "source": [
    "### Example 2: Scatter plot (WAS data)\n",
    "\n",
    "* Additional functionality in [this tutorial](https://malouche.github.io/notebooks/scatter_bokeh2.html)\n",
    "\n",
    "* More info about [adding plot tools](https://docs.bokeh.org/en/latest/docs/user_guide/tools.html#configuring-plot-tools)\n",
    "\n",
    "#### Tooltips\n",
    "\n",
    "The default hovertext includes:\n",
    "* index - the index number of your original array of data\n",
    "* data - the data values\n",
    "* screen - the pixel number of your computer screen that the line is rendered on (I just ignore this one)\n",
    "\n",
    "You are able to [change the default hovertext](https://docs.bokeh.org/en/latest/docs/user_guide/tools.html#hovertool) but I had a rough time getting it to work with the default WAS data because bokeh struggles with spaces and parenthesis in column names."
   ]
  },
  {
   "cell_type": "code",
   "execution_count": 12,
   "id": "462c5de8",
   "metadata": {},
   "outputs": [],
   "source": [
    "from bokeh.plotting import ColumnDataSource"
   ]
  },
  {
   "cell_type": "code",
   "execution_count": 13,
   "id": "a1b5efda",
   "metadata": {
    "scrolled": false
   },
   "outputs": [
    {
     "data": {
      "text/html": [
       "\n",
       "\n",
       "\n",
       "\n",
       "\n",
       "\n",
       "  <div class=\"bk-root\" id=\"3f613bab-2e89-45fa-90f9-54e4b47b045b\" data-root-id=\"1421\"></div>\n"
      ]
     },
     "metadata": {},
     "output_type": "display_data"
    },
    {
     "data": {
      "application/javascript": "(function(root) {\n  function embed_document(root) {\n    \n  var docs_json = {\"642c3f87-f161-4b19-b997-aba476df911a\":{\"defs\":[],\"roots\":{\"references\":[{\"attributes\":{\"below\":[{\"id\":\"1432\"}],\"center\":[{\"id\":\"1435\"},{\"id\":\"1439\"}],\"left\":[{\"id\":\"1436\"}],\"renderers\":[{\"id\":\"1459\"},{\"id\":\"1464\"}],\"title\":{\"id\":\"1422\"},\"toolbar\":{\"id\":\"1448\"},\"x_range\":{\"id\":\"1424\"},\"x_scale\":{\"id\":\"1428\"},\"y_range\":{\"id\":\"1426\"},\"y_scale\":{\"id\":\"1430\"}},\"id\":\"1421\",\"subtype\":\"Figure\",\"type\":\"Plot\"},{\"attributes\":{},\"id\":\"1511\",\"type\":\"Selection\"},{\"attributes\":{},\"id\":\"1442\",\"type\":\"CrosshairTool\"},{\"attributes\":{\"active_multi\":null,\"tools\":[{\"id\":\"1440\"},{\"id\":\"1441\"},{\"id\":\"1442\"},{\"id\":\"1443\"},{\"id\":\"1444\"},{\"id\":\"1445\"},{\"id\":\"1446\"}]},\"id\":\"1448\",\"type\":\"Toolbar\"},{\"attributes\":{\"fill_alpha\":{\"value\":0.1},\"fill_color\":{\"value\":\"#1f77b4\"},\"line_alpha\":{\"value\":0.1},\"line_color\":{\"value\":\"#1f77b4\"},\"x\":{\"field\":\"x\"},\"y\":{\"field\":\"y\"}},\"id\":\"1463\",\"type\":\"Scatter\"},{\"attributes\":{},\"id\":\"1430\",\"type\":\"LinearScale\"},{\"attributes\":{\"source\":{\"id\":\"1456\"}},\"id\":\"1460\",\"type\":\"CDSView\"},{\"attributes\":{},\"id\":\"1503\",\"type\":\"BasicTickFormatter\"},{\"attributes\":{\"axis_label\":\"Temp\",\"formatter\":{\"id\":\"1503\"},\"major_label_policy\":{\"id\":\"1504\"},\"ticker\":{\"id\":\"1433\"}},\"id\":\"1432\",\"type\":\"LinearAxis\"},{\"attributes\":{},\"id\":\"1504\",\"type\":\"AllLabels\"},{\"attributes\":{},\"id\":\"1433\",\"type\":\"BasicTicker\"},{\"attributes\":{\"axis\":{\"id\":\"1432\"},\"ticker\":null},\"id\":\"1435\",\"type\":\"Grid\"},{\"attributes\":{\"overlay\":{\"id\":\"1447\"}},\"id\":\"1441\",\"type\":\"BoxZoomTool\"},{\"attributes\":{},\"id\":\"1426\",\"type\":\"DataRange1d\"},{\"attributes\":{},\"id\":\"1445\",\"type\":\"ResetTool\"},{\"attributes\":{\"data\":{\"x\":{\"__ndarray__\":\"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\",\"dtype\":\"float64\",\"order\":\"little\",\"shape\":[929]},\"y\":[93,93,103,90,101,99,115,109,115,109,105,130,101,92,112,311,86,78,109,77,95,135,149,123,147,119,116,112,124,116,195,115,101,203,155,94,95,104,282,262,139,125,346,123,352,116,121,114,106,146,183,103,186,167,171,152,97,123,135,190,331,177,295,145,104,105,114,129,87,260,244,159,131,147,144,122,138,104,157,149,277,205,188,104,113,127,109,122,103,114,128,113,126,98,173,194,220,386,323,125,322,169,124,263,267,261,172,219,319,176,288,180,319,275,252,113,108,111,86,114,90,120,129,110,120,134,153,108,99,126,127,102,151,185,162,162,123,87,89,95,86,114,121,123,99,119,90,97,98,127,120,163,147,121,293,162,160,113,139,124,113,105,94,142,96,134,147,255,137,280,132,89,139,77,148,131,90,139,212,204,158,83,85,115,227,122,125,94,86,206,85,303,193,85,141,95,95,188,206,217,213,181,237,276,205,195,259,231,209,168,171,130,135,232,233,77,80,77,114,218,254,278,194,207,164,193,103,104,105,150,267,100,127,183,102,214,130,111,130,110,120,150,123,123,112,136,128,131,103,116,104,109,135,153,106,95,99,97,138,108,103,100,115,86,95,79,78,88,86,96,111,103,101,83,202,135,92,129,106,112,115,78,84,99,102,94,97,105,95,97,120,103,119,172,134,147,199,200,183,149,124,135,113,103,117,136,168,135,300,282,269,123,97,147,150,133,130,168,172,123,191,133,106,130,114,104,135,115,102,116,162,120,172,111,78,139,129,154,186,194,147,120,112,130,129,148,131,177,156,137,92,169,107,115,114,77,113,92,103,143,228,231,101,87,109,111,108,116,153,151,97,127,106,81,97,79,79,128,119,126,118,114,129,113,135,129,148,162,122,138,123,107,115,116,120,255,182,114,110,136,136,140,110,99,136,177,138,135,125,122,134,150,119,168,108,113,83,96,90,137,145,77,75,77,81,125,115,110,128,114,114,137,130,151,150,145,131,117,129,118,107,106,97,111,121,105,108,115,116,125,107,82,85,100,84,87,81,84,78,93,108,89,78,109,77,114,114,87,103,111,113,120,125,149,162,147,113,121,120,115,111,122,130,136,155,117,123,116,131,114,112,96,106,146,163,143,121,143,109,107,107,106,103,119,109,119,129,129,117,114,123,118,128,97,109,99,101,115,113,109,147,127,161,139,146,135,125,128,112,186,218,162,168,161,167,98,98,104,131,140,128,115,115,123,186,107,126,133,116,121,166,160,139,164,173,135,347,144,158,136,145,258,151,116,113,113,147,138,162,148,208,198,206,154,122,161,137,111,119,158,124,233,132,138,150,187,144,108,99,93,88,129,129,135,109,79,80,78,130,116,195,199,92,98,86,127,212,231,231,152,160,143,100,119,128,147,187,198,199,218,248,125,113,109,194,96,89,155,130,102,87,111,136,140,150,170,126,150,134,140,152,146,120,132,133,113,122,123,163,252,119,215,170,166,150,220,107,98,113,107,105,103,113,122,91,96,101,118,89,95,102,110,111,143,102,91,85,90,88,83,131,144,223,183,146,146,165,186,241,186,170,291,191,147,378,126,145,134,267,138,148,147,133,144,140,139,151,131,388,152,135,140,162,178,150,126,105,163,96,123,129,124,361,354,125,137,120,130,115,123,113,148,204,162,122,106,165,121,160,156,158,300,176,177,181,157,132,136,166,132,99,126,109,138,150,108,103,115,182,159,107,121,131,140,151,91,86,107,178,98,175,207,122,119,119,132,97,115,91,78,93,86,109,127,91,82,127,118,177,104,104,103,99,101,144,105,110,167,116,114,126,153,115,114,109,152,89,100,127,134,134,99,107,189,97,109,111,119,105,114,106,107,109,114,430,190,197,144,172,173,209,155,102,96,119,101,100,124,139,185,111,166,141,244,144,110,86,77,115,90,105,133,168,131,151,167,120,110,135,92,77,99,77,130,141,172,134,112,117,153,131,130,139,171,167,133,111,156,167,136,146,146,100,144,106,127,131,112,98,119,145,105,119,110,88,93,105,116,112,105,78,85,103,97,102,126,116,123,137,105,111,115,114,112,108,117,123,128,134,142,141,102,107,93,99,113,131,150,124]},\"selected\":{\"id\":\"1509\"},\"selection_policy\":{\"id\":\"1508\"}},\"id\":\"1456\",\"type\":\"ColumnDataSource\"},{\"attributes\":{},\"id\":\"1508\",\"type\":\"UnionRenderers\"},{\"attributes\":{\"source\":{\"id\":\"1461\"}},\"id\":\"1465\",\"type\":\"CDSView\"},{\"attributes\":{\"bottom_units\":\"screen\",\"fill_alpha\":0.5,\"fill_color\":\"lightgrey\",\"left_units\":\"screen\",\"level\":\"overlay\",\"line_alpha\":1.0,\"line_color\":\"black\",\"line_dash\":[4,4],\"line_width\":2,\"right_units\":\"screen\",\"syncable\":false,\"top_units\":\"screen\"},\"id\":\"1447\",\"type\":\"BoxAnnotation\"},{\"attributes\":{\"data_source\":{\"id\":\"1461\"},\"glyph\":{\"id\":\"1462\"},\"hover_glyph\":null,\"muted_glyph\":null,\"nonselection_glyph\":{\"id\":\"1463\"},\"view\":{\"id\":\"1465\"}},\"id\":\"1464\",\"type\":\"GlyphRenderer\"},{\"attributes\":{\"fill_alpha\":{\"value\":0.4},\"fill_color\":{\"value\":\"#1f77b4\"},\"line_alpha\":{\"value\":0.4},\"line_color\":{\"value\":\"#1f77b4\"},\"x\":{\"field\":\"x\"},\"y\":{\"field\":\"y\"}},\"id\":\"1462\",\"type\":\"Scatter\"},{\"attributes\":{},\"id\":\"1509\",\"type\":\"Selection\"},{\"attributes\":{},\"id\":\"1506\",\"type\":\"BasicTickFormatter\"},{\"attributes\":{\"text\":\"CO vs. Temp.\"},\"id\":\"1422\",\"type\":\"Title\"},{\"attributes\":{},\"id\":\"1507\",\"type\":\"AllLabels\"},{\"attributes\":{},\"id\":\"1428\",\"type\":\"LinearScale\"},{\"attributes\":{\"callback\":null},\"id\":\"1443\",\"type\":\"HoverTool\"},{\"attributes\":{},\"id\":\"1424\",\"type\":\"DataRange1d\"},{\"attributes\":{\"axis_label\":\"pollutants\",\"formatter\":{\"id\":\"1506\"},\"major_label_policy\":{\"id\":\"1507\"},\"ticker\":{\"id\":\"1437\"}},\"id\":\"1436\",\"type\":\"LinearAxis\"},{\"attributes\":{\"data\":{\"x\":{\"__ndarray__\":\"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\",\"dtype\":\"float64\",\"order\":\"little\",\"shape\":[929]},\"y\":[416,423,412,424,408,427,407,407,408,408,407,416,413,430,408,424,415,447,406,443,424,412,469,423,417,426,429,419,422,408,432,424,436,435,443,431,420,423,458,446,417,424,417,417,445,422,420,408,431,426,432,419,435,420,448,437,433,440,424,427,419,431,452,453,430,408,419,432,420,435,438,408,424,414,432,440,434,408,434,418,429,430,446,433,430,411,407,415,423,408,419,425,410,418,431,428,438,454,487,419,439,434,424,447,433,442,421,439,443,428,453,438,434,449,442,438,435,411,406,423,408,423,431,417,420,424,457,407,431,418,412,409,417,437,416,414,424,422,410,417,409,424,408,409,410,419,426,422,418,419,492,423,424,422,455,420,425,407,415,423,421,423,416,467,437,450,442,453,453,443,436,419,419,421,436,428,420,425,407,434,429,419,419,426,439,427,433,423,424,465,423,435,438,406,424,428,425,428,427,461,425,443,442,414,435,448,440,435,424,421,419,419,423,420,407,416,425,420,408,426,446,444,412,423,417,406,414,407,408,466,624,410,408,412,410,562,408,410,429,408,406,408,413,413,418,414,411,421,417,409,414,407,410,406,415,424,419,408,418,417,424,438,424,414,429,410,407,431,411,420,411,406,409,413,426,422,410,437,424,417,421,407,408,406,412,408,423,406,410,407,416,412,422,423,417,445,439,433,427,412,406,425,412,418,407,427,421,416,440,451,442,407,407,448,437,434,415,417,417,439,416,407,418,411,407,408,407,407,408,411,411,407,446,406,413,412,416,414,415,427,408,417,431,423,437,428,418,410,427,417,430,424,423,407,406,407,406,407,410,430,434,424,407,423,419,421,425,410,433,429,420,428,408,408,407,407,406,407,407,412,446,427,428,431,435,436,421,430,406,420,416,438,423,440,424,415,407,441,430,407,417,425,406,441,419,413,407,407,426,414,415,452,409,446,407,417,407,408,409,408,407,406,406,409,406,419,407,423,428,422,423,408,407,429,426,428,437,407,424,422,407,427,423,417,426,419,422,408,406,414,411,421,407,411,411,417,414,410,411,407,429,407,427,407,406,415,407,406,426,420,428,421,428,423,423,408,409,420,419,417,419,416,414,425,414,419,416,413,406,411,408,407,406,406,407,423,417,417,422,427,419,408,406,411,414,419,462,413,407,414,426,424,419,408,412,408,409,408,413,444,438,446,437,412,434,432,419,433,426,407,428,408,438,443,414,417,406,407,408,407,430,422,430,428,428,425,429,430,429,420,440,429,433,457,441,439,426,418,421,429,409,463,408,415,421,407,426,434,425,438,414,432,441,469,426,408,414,420,433,424,418,435,426,427,429,418,428,406,433,414,415,416,426,422,413,408,413,412,456,407,423,429,407,410,409,428,439,435,432,423,422,425,409,415,444,421,430,421,426,427,436,412,415,433,489,408,407,406,426,407,407,406,417,406,430,432,418,442,407,416,434,422,413,421,439,415,425,420,412,431,407,416,431,425,407,427,431,421,418,422,416,407,411,412,417,433,439,442,417,424,407,408,422,422,424,413,415,412,406,407,407,410,432,436,408,414,409,412,416,407,412,416,430,457,418,419,425,444,407,415,408,414,417,409,417,421,408,411,476,453,410,414,425,431,415,408,417,416,415,408,416,406,554,483,410,409,407,407,420,408,419,408,471,417,411,412,426,408,416,418,479,476,445,415,418,407,420,408,410,408,410,415,421,408,418,408,434,413,531,454,411,431,421,421,420,407,418,409,407,409,489,430,407,408,407,409,423,434,407,407,407,410,436,442,406,423,411,555,454,407,417,417,417,408,412,411,416,421,413,407,422,414,412,407,411,409,414,408,426,438,450,427,414,420,422,428,417,410,408,407,430,411,419,426,482,432,408,425,443,435,427,445,422,423,428,419,411,413,425,459,415,408,410,420,421,431,412,406,427,420,432,423,422,417,408,413,426,419,428,421,418,406,439,412,413,416,406,408,418,422,428,429,447,439,436,438,432,409,420,408,407,406,411,430,408,438,413,423,416,414,410,426,428,414,420,408,432,424,426,414,408,407,452,406,406,427,421,412,421,411,411,412,408,409,417,419,414,409,419,413,410,407,409,406,418,414,408,407,414]},\"selected\":{\"id\":\"1511\"},\"selection_policy\":{\"id\":\"1510\"}},\"id\":\"1461\",\"type\":\"ColumnDataSource\"},{\"attributes\":{\"fill_alpha\":{\"value\":0.1},\"fill_color\":{\"value\":\"red\"},\"line_alpha\":{\"value\":0.1},\"line_color\":{\"value\":\"red\"},\"x\":{\"field\":\"x\"},\"y\":{\"field\":\"y\"}},\"id\":\"1458\",\"type\":\"Scatter\"},{\"attributes\":{\"axis\":{\"id\":\"1436\"},\"dimension\":1,\"ticker\":null},\"id\":\"1439\",\"type\":\"Grid\"},{\"attributes\":{\"fill_alpha\":{\"value\":0.4},\"fill_color\":{\"value\":\"red\"},\"line_alpha\":{\"value\":0.4},\"line_color\":{\"value\":\"red\"},\"x\":{\"field\":\"x\"},\"y\":{\"field\":\"y\"}},\"id\":\"1457\",\"type\":\"Scatter\"},{\"attributes\":{},\"id\":\"1437\",\"type\":\"BasicTicker\"},{\"attributes\":{\"data_source\":{\"id\":\"1456\"},\"glyph\":{\"id\":\"1457\"},\"hover_glyph\":null,\"muted_glyph\":null,\"nonselection_glyph\":{\"id\":\"1458\"},\"view\":{\"id\":\"1460\"}},\"id\":\"1459\",\"type\":\"GlyphRenderer\"},{\"attributes\":{},\"id\":\"1444\",\"type\":\"WheelZoomTool\"},{\"attributes\":{},\"id\":\"1440\",\"type\":\"PanTool\"},{\"attributes\":{},\"id\":\"1446\",\"type\":\"SaveTool\"},{\"attributes\":{},\"id\":\"1510\",\"type\":\"UnionRenderers\"}],\"root_ids\":[\"1421\"]},\"title\":\"Bokeh Application\",\"version\":\"2.3.2\"}};\n  var render_items = [{\"docid\":\"642c3f87-f161-4b19-b997-aba476df911a\",\"root_ids\":[\"1421\"],\"roots\":{\"1421\":\"3f613bab-2e89-45fa-90f9-54e4b47b045b\"}}];\n  root.Bokeh.embed.embed_items_notebook(docs_json, render_items);\n\n  }\n  if (root.Bokeh !== undefined) {\n    embed_document(root);\n  } else {\n    var attempts = 0;\n    var timer = setInterval(function(root) {\n      if (root.Bokeh !== undefined) {\n        clearInterval(timer);\n        embed_document(root);\n      } else {\n        attempts++;\n        if (attempts > 100) {\n          clearInterval(timer);\n          console.log(\"Bokeh: ERROR: Unable to run BokehJS code because BokehJS library is missing\");\n        }\n      }\n    }, 10, root)\n  }\n})(window);",
      "application/vnd.bokehjs_exec.v0+json": ""
     },
     "metadata": {
      "application/vnd.bokehjs_exec.v0+json": {
       "id": "1421"
      }
     },
     "output_type": "display_data"
    }
   ],
   "source": [
    "# create a new plot with a title, axis labels, and plot tools\n",
    "p = figure(title=\"CO vs. Temp.\", x_axis_label=\"Temp\", y_axis_label=\"pollutants\", \n",
    "           tools='pan,box_zoom,crosshair,hover,wheel_zoom,reset,save')\n",
    "\n",
    "# add data points\n",
    "p.scatter(was_2020['Temp. Celsius'], was_2020['CO (ppbv)'], alpha=0.4, color='red')\n",
    "p.scatter(was_2020['Temp. Celsius'], was_2020['CO2 (ppmv)'], alpha=0.4)\n",
    "\n",
    "# show the results\n",
    "show(p)"
   ]
  },
  {
   "cell_type": "markdown",
   "id": "a4e38630",
   "metadata": {},
   "source": [
    "Peruse for futher interactivity examples:\n",
    "https://malouche.github.io/notebooks/scatter_bokeh2.html"
   ]
  },
  {
   "cell_type": "markdown",
   "id": "dee7b958",
   "metadata": {},
   "source": [
    "### Example 3: 3D viz with `plotly` (WAS data)\n",
    "\n",
    "Plotly is a library that does interactive visualization in 2D like bokeh, but it also has some libraries fo 3D viz.  The biggest downside I've found with plotly is that it doesn't easily do basemaps handle polygons of data, but it is really nice for 3D data viewing."
   ]
  },
  {
   "cell_type": "markdown",
   "id": "dbc44be8",
   "metadata": {},
   "source": [
    "`conda install -c conda-forge plotly_express -n lessons`"
   ]
  },
  {
   "cell_type": "markdown",
   "id": "77a21097",
   "metadata": {},
   "source": [
    "### Example with WAS"
   ]
  },
  {
   "cell_type": "code",
   "execution_count": 1,
   "id": "5e806b69",
   "metadata": {},
   "outputs": [],
   "source": [
    "import numpy as np\n",
    "import pandas as pd\n",
    "import plotly.express as px"
   ]
  },
  {
   "cell_type": "code",
   "execution_count": 3,
   "id": "7ddc5e7f",
   "metadata": {},
   "outputs": [],
   "source": [
    "# Read in WAS data\n",
    "was_data = pd.read_excel('./data/Copy of WAS merge.xlsx', 'original', nrows=189)\n",
    "# Remove nans\n",
    "was_data = was_data.replace(-999999, np.nan)"
   ]
  },
  {
   "cell_type": "code",
   "execution_count": 4,
   "id": "8f3ba6a7",
   "metadata": {},
   "outputs": [
    {
     "data": {
      "application/vnd.plotly.v1+json": {
       "config": {
        "plotlyServerURL": "https://plot.ly"
       },
       "data": [
        {
         "hovertemplate": " Longitude_YANG=%{x}<br> Latitude_YANG=%{y}<br> Radar_Altitude_YANG=%{z}<br> O3_CL_RYERSON=%{marker.color}<extra></extra>",
         "legendgroup": "",
         "marker": {
          "color": [
           54.681,
           57.6862,
           52.1462,
           54.0403,
           53.8818,
           41.3017,
           38.7012,
           62.3045,
           54.3234,
           61.2641,
           63.0611,
           39.5952,
           44.1403,
           24.0786,
           29.9412,
           35.9784,
           57.9463,
           47.9201,
           57.3225,
           56.5863,
           66.7274,
           66.5588,
           58.5889,
           61.4395,
           61.1976,
           63.6983,
           51.6842,
           49.2629,
           60.7176,
           50.0804,
           35.0406,
           31.5486,
           71.4404,
           73.4872,
           71.3338,
           75.4085,
           82.8652,
           84.9313,
           83.1998,
           94.9383,
           93.0619,
           75.4251,
           85.6154,
           71.6169,
           69.4383,
           66.1617,
           66.7104,
           67.7841,
           69.3102,
           81.4675,
           79.9201,
           83.501,
           90.117,
           86.2855,
           84.8069,
           76.1877,
           80.0482,
           76.5399,
           68.6703,
           64.3897,
           65.7573,
           67.6724,
           71.0258,
           70.5319,
           73.0282,
           75.4828,
           84.9868,
           100.04,
           77.37,
           73.7165,
           65.3851,
           44.0515,
           60.281,
           68.313,
           58.5192,
           64.0667,
           96.6923,
           121.96,
           116.899,
           104.059,
           116.398,
           74.6612,
           83.3562,
           59.9318,
           65.5631,
           66.8819,
           57.1386,
           63.6779,
           74.6677,
           60.6966,
           70.2604,
           58.8968,
           57.2368,
           114.65,
           106.403,
           118.996,
           133.956,
           67.6781,
           46.886,
           46.4022,
           98.9066,
           89.413,
           65.0737,
           61.4334,
           66.6145,
           72.5905,
           68.2418,
           72.6399,
           74.9652,
           76.1164,
           71.4218,
           81.5357,
           88.8795,
           91.8402,
           82.8564,
           82.4045,
           82.5972,
           79.2347,
           79.101,
           81.8843,
           93.2131,
           101.219,
           61.0783,
           62.6859,
           65.4753,
           60.0483,
           53.1126,
           90.3692,
           80.0421,
           75.5638,
           81.7569,
           73.3518,
           81.9366,
           40.5728,
           32.1088,
           49.9593,
           32.3613,
           39.6242,
           40.9394,
           47.5158,
           35.2477,
           35.1564,
           36.4836,
           30.9318,
           31.0055,
           37.2972,
           31.3644,
           35.8898,
           34.9637,
           33.7289,
           85.0213,
           68.929,
           87.0003,
           106.112,
           99.5972,
           99.8977,
           109.652,
           98.2583,
           105.734,
           101.253,
           49.4132,
           47.307,
           40.0961,
           40.2622,
           40.4805,
           41.6057,
           32.1353,
           31.766,
           32.1879,
           32.4487,
           36.7312,
           33.9727,
           32.7655,
           45.3375,
           34.2236,
           52.7299,
           34.6776,
           37.8241,
           68.163,
           77.5104,
           98.8272,
           100.198,
           122.066,
           115.915,
           108.728,
           104.416,
           101.957,
           71.7311,
           103.168
          ],
          "coloraxis": "coloraxis",
          "symbol": "circle"
         },
         "mode": "markers",
         "name": "",
         "scene": "scene",
         "showlegend": false,
         "type": "scatter3d",
         "x": [
          -117.523,
          -117.608,
          -117.717,
          -117.824,
          -117.949,
          -118.023,
          -118.124,
          -118.269,
          -118.411,
          -118.588,
          -118.766,
          -118.925,
          -118.927,
          -118.889,
          -118.608,
          -118.352,
          -118.105,
          -117.962,
          -117.804,
          -117.599,
          -117.393,
          -117.353,
          -117.499,
          -117.612,
          -117.721,
          -117.837,
          -117.948,
          -118.056,
          -118.406,
          -120.418,
          -120.531,
          -120.613,
          -121.138,
          -120.016,
          -119.839,
          -119.682,
          -119.523,
          -119.382,
          -119.29,
          -119.191,
          -119.261,
          -119.41,
          -119.552,
          -119.754,
          -119.883,
          -120.009,
          -119.96,
          -119.813,
          -119.661,
          -119.508,
          -119.352,
          -119.181,
          -119.053,
          -119.026,
          -119.006,
          -119.117,
          -119.287,
          -119.454,
          -119.634,
          -119.79,
          -119.829,
          -119.691,
          -119.487,
          -119.277,
          -119.076,
          -118.886,
          -118.824,
          -118.943,
          -119.145,
          -119.335,
          -119.429,
          -119.126,
          -118.649,
          -118.212,
          -117.782,
          -117.5,
          -117.329,
          -117.516,
          -117.638,
          -117.762,
          -117.895,
          -118.025,
          -118.134,
          -118.276,
          -118.809,
          -119.108,
          -119.305,
          -119.533,
          -119.577,
          -119.487,
          -119.389,
          -119.368,
          -119.41,
          -119.254,
          -118.888,
          -118.355,
          -117.847,
          -117.325,
          -116.816,
          -116.431,
          -106.567,
          null,
          -119.518,
          -119.566,
          -119.466,
          -119.434,
          -119.396,
          -119.355,
          -119.314,
          -119.282,
          -119.293,
          -119.302,
          -119.312,
          -119.298,
          -119.282,
          -119.266,
          -119.251,
          -119.234,
          -119.159,
          -119.04,
          -118.932,
          -118.86,
          -118.39,
          -118.241,
          -118.104,
          -117.47,
          -117.337,
          -117.319,
          -117.466,
          -117.624,
          -117.785,
          -117.948,
          -118.104,
          -118.246,
          -118.386,
          -118.525,
          -118.664,
          -118.804,
          -118.928,
          -118.929,
          -118.931,
          -118.908,
          -118.757,
          -118.611,
          -118.467,
          -118.314,
          -118.16,
          -118.03,
          -117.952,
          -117.854,
          -117.69,
          -117.534,
          -117.381,
          -117.331,
          -117.342,
          -117.479,
          -117.627,
          -117.782,
          -117.935,
          -118.081,
          -118.223,
          -118.364,
          -118.502,
          -118.64,
          -118.775,
          -118.909,
          -118.929,
          -118.931,
          -118.933,
          -118.824,
          -118.671,
          -118.527,
          -118.384,
          -118.239,
          -118.106,
          -117.995,
          -117.926,
          -117.794,
          -117.637,
          -117.482,
          -117.36,
          -117.324,
          -117.396,
          -117.534,
          -117.679,
          -117.83,
          -117.981,
          -118.194,
          -118.169
         ],
         "y": [
          34.1568,
          34.1557,
          34.1541,
          34.1549,
          34.1558,
          34.158,
          34.1396,
          34.1197,
          34.0946,
          34.0627,
          34.0297,
          33.9887,
          33.7876,
          33.6001,
          33.6004,
          33.601,
          33.6551,
          33.7739,
          33.8542,
          33.8771,
          33.9154,
          34.1305,
          34.1506,
          34.1542,
          34.1543,
          34.152,
          34.1512,
          34.1619,
          34.4365,
          37.6137,
          37.8076,
          37.9482,
          37.2392,
          36.5103,
          36.5568,
          36.598,
          36.6394,
          36.6159,
          36.5092,
          36.3957,
          36.302,
          36.2262,
          36.153,
          36.047,
          35.981,
          35.8859,
          35.755,
          35.7883,
          35.8448,
          35.8997,
          35.9554,
          36.0163,
          36.043,
          35.9137,
          35.78,
          35.7081,
          35.6671,
          35.6273,
          35.5839,
          35.5464,
          35.449,
          35.3414,
          35.3998,
          35.4619,
          35.5204,
          35.554,
          35.3962,
          35.3066,
          35.256,
          35.209,
          35.1261,
          35.074,
          34.9674,
          34.747,
          34.5284,
          34.3841,
          34.1694,
          34.1522,
          34.1518,
          34.1498,
          34.1481,
          34.1577,
          34.2077,
          34.4519,
          34.7726,
          35.2641,
          35.7734,
          36.2889,
          36.8737,
          37.5524,
          37.9556,
          38.6768,
          39.3567,
          40.0303,
          40.6612,
          41.5604,
          42.4013,
          42.7349,
          43.0306,
          43.2727,
          37.4576,
          null,
          36.8844,
          36.8166,
          36.7136,
          36.6674,
          36.6246,
          36.576,
          36.5264,
          36.4755,
          36.3926,
          36.3193,
          36.2267,
          36.1282,
          36.0281,
          35.9257,
          35.8215,
          35.7251,
          35.6508,
          35.5549,
          35.453,
          35.3189,
          34.9733,
          34.8738,
          34.79,
          34.3932,
          34.3018,
          34.1804,
          34.1576,
          34.156,
          34.1575,
          34.1589,
          34.1515,
          34.1263,
          34.0999,
          34.0745,
          34.0418,
          34.0204,
          33.9768,
          33.847,
          33.7139,
          33.6009,
          33.5989,
          33.5994,
          33.5996,
          33.5997,
          33.6297,
          33.6877,
          33.7889,
          33.8585,
          33.8669,
          33.8739,
          33.8787,
          33.9902,
          34.1155,
          34.1539,
          34.1537,
          34.1552,
          34.1562,
          34.1559,
          34.1303,
          34.1039,
          34.0784,
          34.0485,
          34.0252,
          34.0024,
          33.8878,
          33.7678,
          33.6425,
          33.5965,
          33.5993,
          33.5997,
          33.5999,
          33.601,
          33.6524,
          33.7229,
          33.8278,
          33.8601,
          33.8678,
          33.8744,
          33.9243,
          34.0492,
          34.1481,
          34.1548,
          34.1546,
          34.1554,
          34.1567,
          34.4209,
          34.5564
         ],
         "z": [
          1426.09,
          1131.73,
          2042.94,
          1693.71,
          1334.99,
          1309.55,
          1154.16,
          2031.06,
          1745.37,
          2244.99,
          1714.79,
          963.976,
          1455.89,
          1958.92,
          1139.32,
          972.323,
          1864.07,
          3522.37,
          3318,
          1137.78,
          1095.79,
          1501.5,
          2112.29,
          1727.07,
          1572.53,
          1526.72,
          1319.07,
          1067.43,
          11714.1,
          12868.4,
          9780,
          7495,
          1295.96,
          1083.79,
          1030.42,
          972.04,
          1094.32,
          1476.96,
          998.162,
          1116.01,
          1112.11,
          1102.91,
          1102.81,
          966.265,
          956.881,
          1367.45,
          1072.39,
          1030.83,
          1103.47,
          1029.66,
          1007.06,
          1091.21,
          972.792,
          1021.19,
          1197.38,
          1149.86,
          1064.92,
          1058.61,
          1000.46,
          1057.94,
          1265.4,
          1560.26,
          1022.24,
          953.093,
          1126.12,
          1817.32,
          1123.9,
          1112.05,
          1062.96,
          1082.01,
          3735.18,
          11946.2,
          11687.7,
          14046.9,
          11305.1,
          5795.75,
          3337.08,
          1067.43,
          1098.53,
          1534.92,
          1249.17,
          1182.53,
          2311.33,
          11657.8,
          14092.2,
          17180.7,
          17249.8,
          17281.6,
          23197.9,
          22549,
          26275.6,
          34047.3,
          35824.7,
          35248.9,
          35743.2,
          36145.2,
          29156.6,
          19196.1,
          8233.89,
          6687.99,
          22230.6,
          31386.5,
          18423.6,
          4183.45,
          1679.37,
          1112.59,
          1146.03,
          1150.94,
          1046.36,
          1066.77,
          1092.68,
          1092.36,
          1126.01,
          1154.14,
          1048.16,
          1055.46,
          1017.94,
          995.553,
          1108.19,
          1578.81,
          1593.47,
          1891.51,
          5620.73,
          7553.04,
          7729.31,
          3549.72,
          3438.85,
          3666.34,
          1698.91,
          2093.64,
          2340.1,
          3096.73,
          2831,
          3088.64,
          2071.7,
          1447.17,
          2300.52,
          2468.55,
          2615.05,
          2440.74,
          532.461,
          523.05,
          544.405,
          535.91,
          542.103,
          544.188,
          2441.26,
          3653.57,
          3566.74,
          2993.99,
          1340.24,
          1864.18,
          1261.18,
          2297.63,
          2458.76,
          2079.48,
          1729.13,
          1359.84,
          2553.35,
          2876.18,
          3072.99,
          2885.85,
          2761.71,
          2292.6,
          1536.38,
          618.27,
          523.081,
          542.703,
          541.211,
          546.042,
          538.135,
          533.224,
          529.081,
          554.189,
          3087.61,
          3656.63,
          3543.13,
          3401.67,
          2024,
          1387.39,
          1322.1,
          1629.04,
          1072.57,
          1782.18,
          1567.76,
          1817.23,
          2822.44,
          5410.13,
          2931.84
         ]
        }
       ],
       "layout": {
        "coloraxis": {
         "colorbar": {
          "title": {
           "text": " O3_CL_RYERSON"
          }
         },
         "colorscale": [
          [
           0,
           "#0d0887"
          ],
          [
           0.1111111111111111,
           "#46039f"
          ],
          [
           0.2222222222222222,
           "#7201a8"
          ],
          [
           0.3333333333333333,
           "#9c179e"
          ],
          [
           0.4444444444444444,
           "#bd3786"
          ],
          [
           0.5555555555555556,
           "#d8576b"
          ],
          [
           0.6666666666666666,
           "#ed7953"
          ],
          [
           0.7777777777777778,
           "#fb9f3a"
          ],
          [
           0.8888888888888888,
           "#fdca26"
          ],
          [
           1,
           "#f0f921"
          ]
         ]
        },
        "legend": {
         "tracegroupgap": 0
        },
        "margin": {
         "t": 60
        },
        "scene": {
         "domain": {
          "x": [
           0,
           1
          ],
          "y": [
           0,
           1
          ]
         },
         "xaxis": {
          "title": {
           "text": " Longitude_YANG"
          }
         },
         "yaxis": {
          "title": {
           "text": " Latitude_YANG"
          }
         },
         "zaxis": {
          "title": {
           "text": " Radar_Altitude_YANG"
          }
         }
        },
        "template": {
         "data": {
          "bar": [
           {
            "error_x": {
             "color": "#2a3f5f"
            },
            "error_y": {
             "color": "#2a3f5f"
            },
            "marker": {
             "line": {
              "color": "#E5ECF6",
              "width": 0.5
             },
             "pattern": {
              "fillmode": "overlay",
              "size": 10,
              "solidity": 0.2
             }
            },
            "type": "bar"
           }
          ],
          "barpolar": [
           {
            "marker": {
             "line": {
              "color": "#E5ECF6",
              "width": 0.5
             },
             "pattern": {
              "fillmode": "overlay",
              "size": 10,
              "solidity": 0.2
             }
            },
            "type": "barpolar"
           }
          ],
          "carpet": [
           {
            "aaxis": {
             "endlinecolor": "#2a3f5f",
             "gridcolor": "white",
             "linecolor": "white",
             "minorgridcolor": "white",
             "startlinecolor": "#2a3f5f"
            },
            "baxis": {
             "endlinecolor": "#2a3f5f",
             "gridcolor": "white",
             "linecolor": "white",
             "minorgridcolor": "white",
             "startlinecolor": "#2a3f5f"
            },
            "type": "carpet"
           }
          ],
          "choropleth": [
           {
            "colorbar": {
             "outlinewidth": 0,
             "ticks": ""
            },
            "type": "choropleth"
           }
          ],
          "contour": [
           {
            "colorbar": {
             "outlinewidth": 0,
             "ticks": ""
            },
            "colorscale": [
             [
              0,
              "#0d0887"
             ],
             [
              0.1111111111111111,
              "#46039f"
             ],
             [
              0.2222222222222222,
              "#7201a8"
             ],
             [
              0.3333333333333333,
              "#9c179e"
             ],
             [
              0.4444444444444444,
              "#bd3786"
             ],
             [
              0.5555555555555556,
              "#d8576b"
             ],
             [
              0.6666666666666666,
              "#ed7953"
             ],
             [
              0.7777777777777778,
              "#fb9f3a"
             ],
             [
              0.8888888888888888,
              "#fdca26"
             ],
             [
              1,
              "#f0f921"
             ]
            ],
            "type": "contour"
           }
          ],
          "contourcarpet": [
           {
            "colorbar": {
             "outlinewidth": 0,
             "ticks": ""
            },
            "type": "contourcarpet"
           }
          ],
          "heatmap": [
           {
            "colorbar": {
             "outlinewidth": 0,
             "ticks": ""
            },
            "colorscale": [
             [
              0,
              "#0d0887"
             ],
             [
              0.1111111111111111,
              "#46039f"
             ],
             [
              0.2222222222222222,
              "#7201a8"
             ],
             [
              0.3333333333333333,
              "#9c179e"
             ],
             [
              0.4444444444444444,
              "#bd3786"
             ],
             [
              0.5555555555555556,
              "#d8576b"
             ],
             [
              0.6666666666666666,
              "#ed7953"
             ],
             [
              0.7777777777777778,
              "#fb9f3a"
             ],
             [
              0.8888888888888888,
              "#fdca26"
             ],
             [
              1,
              "#f0f921"
             ]
            ],
            "type": "heatmap"
           }
          ],
          "heatmapgl": [
           {
            "colorbar": {
             "outlinewidth": 0,
             "ticks": ""
            },
            "colorscale": [
             [
              0,
              "#0d0887"
             ],
             [
              0.1111111111111111,
              "#46039f"
             ],
             [
              0.2222222222222222,
              "#7201a8"
             ],
             [
              0.3333333333333333,
              "#9c179e"
             ],
             [
              0.4444444444444444,
              "#bd3786"
             ],
             [
              0.5555555555555556,
              "#d8576b"
             ],
             [
              0.6666666666666666,
              "#ed7953"
             ],
             [
              0.7777777777777778,
              "#fb9f3a"
             ],
             [
              0.8888888888888888,
              "#fdca26"
             ],
             [
              1,
              "#f0f921"
             ]
            ],
            "type": "heatmapgl"
           }
          ],
          "histogram": [
           {
            "marker": {
             "pattern": {
              "fillmode": "overlay",
              "size": 10,
              "solidity": 0.2
             }
            },
            "type": "histogram"
           }
          ],
          "histogram2d": [
           {
            "colorbar": {
             "outlinewidth": 0,
             "ticks": ""
            },
            "colorscale": [
             [
              0,
              "#0d0887"
             ],
             [
              0.1111111111111111,
              "#46039f"
             ],
             [
              0.2222222222222222,
              "#7201a8"
             ],
             [
              0.3333333333333333,
              "#9c179e"
             ],
             [
              0.4444444444444444,
              "#bd3786"
             ],
             [
              0.5555555555555556,
              "#d8576b"
             ],
             [
              0.6666666666666666,
              "#ed7953"
             ],
             [
              0.7777777777777778,
              "#fb9f3a"
             ],
             [
              0.8888888888888888,
              "#fdca26"
             ],
             [
              1,
              "#f0f921"
             ]
            ],
            "type": "histogram2d"
           }
          ],
          "histogram2dcontour": [
           {
            "colorbar": {
             "outlinewidth": 0,
             "ticks": ""
            },
            "colorscale": [
             [
              0,
              "#0d0887"
             ],
             [
              0.1111111111111111,
              "#46039f"
             ],
             [
              0.2222222222222222,
              "#7201a8"
             ],
             [
              0.3333333333333333,
              "#9c179e"
             ],
             [
              0.4444444444444444,
              "#bd3786"
             ],
             [
              0.5555555555555556,
              "#d8576b"
             ],
             [
              0.6666666666666666,
              "#ed7953"
             ],
             [
              0.7777777777777778,
              "#fb9f3a"
             ],
             [
              0.8888888888888888,
              "#fdca26"
             ],
             [
              1,
              "#f0f921"
             ]
            ],
            "type": "histogram2dcontour"
           }
          ],
          "mesh3d": [
           {
            "colorbar": {
             "outlinewidth": 0,
             "ticks": ""
            },
            "type": "mesh3d"
           }
          ],
          "parcoords": [
           {
            "line": {
             "colorbar": {
              "outlinewidth": 0,
              "ticks": ""
             }
            },
            "type": "parcoords"
           }
          ],
          "pie": [
           {
            "automargin": true,
            "type": "pie"
           }
          ],
          "scatter": [
           {
            "fillpattern": {
             "fillmode": "overlay",
             "size": 10,
             "solidity": 0.2
            },
            "type": "scatter"
           }
          ],
          "scatter3d": [
           {
            "line": {
             "colorbar": {
              "outlinewidth": 0,
              "ticks": ""
             }
            },
            "marker": {
             "colorbar": {
              "outlinewidth": 0,
              "ticks": ""
             }
            },
            "type": "scatter3d"
           }
          ],
          "scattercarpet": [
           {
            "marker": {
             "colorbar": {
              "outlinewidth": 0,
              "ticks": ""
             }
            },
            "type": "scattercarpet"
           }
          ],
          "scattergeo": [
           {
            "marker": {
             "colorbar": {
              "outlinewidth": 0,
              "ticks": ""
             }
            },
            "type": "scattergeo"
           }
          ],
          "scattergl": [
           {
            "marker": {
             "colorbar": {
              "outlinewidth": 0,
              "ticks": ""
             }
            },
            "type": "scattergl"
           }
          ],
          "scattermapbox": [
           {
            "marker": {
             "colorbar": {
              "outlinewidth": 0,
              "ticks": ""
             }
            },
            "type": "scattermapbox"
           }
          ],
          "scatterpolar": [
           {
            "marker": {
             "colorbar": {
              "outlinewidth": 0,
              "ticks": ""
             }
            },
            "type": "scatterpolar"
           }
          ],
          "scatterpolargl": [
           {
            "marker": {
             "colorbar": {
              "outlinewidth": 0,
              "ticks": ""
             }
            },
            "type": "scatterpolargl"
           }
          ],
          "scatterternary": [
           {
            "marker": {
             "colorbar": {
              "outlinewidth": 0,
              "ticks": ""
             }
            },
            "type": "scatterternary"
           }
          ],
          "surface": [
           {
            "colorbar": {
             "outlinewidth": 0,
             "ticks": ""
            },
            "colorscale": [
             [
              0,
              "#0d0887"
             ],
             [
              0.1111111111111111,
              "#46039f"
             ],
             [
              0.2222222222222222,
              "#7201a8"
             ],
             [
              0.3333333333333333,
              "#9c179e"
             ],
             [
              0.4444444444444444,
              "#bd3786"
             ],
             [
              0.5555555555555556,
              "#d8576b"
             ],
             [
              0.6666666666666666,
              "#ed7953"
             ],
             [
              0.7777777777777778,
              "#fb9f3a"
             ],
             [
              0.8888888888888888,
              "#fdca26"
             ],
             [
              1,
              "#f0f921"
             ]
            ],
            "type": "surface"
           }
          ],
          "table": [
           {
            "cells": {
             "fill": {
              "color": "#EBF0F8"
             },
             "line": {
              "color": "white"
             }
            },
            "header": {
             "fill": {
              "color": "#C8D4E3"
             },
             "line": {
              "color": "white"
             }
            },
            "type": "table"
           }
          ]
         },
         "layout": {
          "annotationdefaults": {
           "arrowcolor": "#2a3f5f",
           "arrowhead": 0,
           "arrowwidth": 1
          },
          "autotypenumbers": "strict",
          "coloraxis": {
           "colorbar": {
            "outlinewidth": 0,
            "ticks": ""
           }
          },
          "colorscale": {
           "diverging": [
            [
             0,
             "#8e0152"
            ],
            [
             0.1,
             "#c51b7d"
            ],
            [
             0.2,
             "#de77ae"
            ],
            [
             0.3,
             "#f1b6da"
            ],
            [
             0.4,
             "#fde0ef"
            ],
            [
             0.5,
             "#f7f7f7"
            ],
            [
             0.6,
             "#e6f5d0"
            ],
            [
             0.7,
             "#b8e186"
            ],
            [
             0.8,
             "#7fbc41"
            ],
            [
             0.9,
             "#4d9221"
            ],
            [
             1,
             "#276419"
            ]
           ],
           "sequential": [
            [
             0,
             "#0d0887"
            ],
            [
             0.1111111111111111,
             "#46039f"
            ],
            [
             0.2222222222222222,
             "#7201a8"
            ],
            [
             0.3333333333333333,
             "#9c179e"
            ],
            [
             0.4444444444444444,
             "#bd3786"
            ],
            [
             0.5555555555555556,
             "#d8576b"
            ],
            [
             0.6666666666666666,
             "#ed7953"
            ],
            [
             0.7777777777777778,
             "#fb9f3a"
            ],
            [
             0.8888888888888888,
             "#fdca26"
            ],
            [
             1,
             "#f0f921"
            ]
           ],
           "sequentialminus": [
            [
             0,
             "#0d0887"
            ],
            [
             0.1111111111111111,
             "#46039f"
            ],
            [
             0.2222222222222222,
             "#7201a8"
            ],
            [
             0.3333333333333333,
             "#9c179e"
            ],
            [
             0.4444444444444444,
             "#bd3786"
            ],
            [
             0.5555555555555556,
             "#d8576b"
            ],
            [
             0.6666666666666666,
             "#ed7953"
            ],
            [
             0.7777777777777778,
             "#fb9f3a"
            ],
            [
             0.8888888888888888,
             "#fdca26"
            ],
            [
             1,
             "#f0f921"
            ]
           ]
          },
          "colorway": [
           "#636efa",
           "#EF553B",
           "#00cc96",
           "#ab63fa",
           "#FFA15A",
           "#19d3f3",
           "#FF6692",
           "#B6E880",
           "#FF97FF",
           "#FECB52"
          ],
          "font": {
           "color": "#2a3f5f"
          },
          "geo": {
           "bgcolor": "white",
           "lakecolor": "white",
           "landcolor": "#E5ECF6",
           "showlakes": true,
           "showland": true,
           "subunitcolor": "white"
          },
          "hoverlabel": {
           "align": "left"
          },
          "hovermode": "closest",
          "mapbox": {
           "style": "light"
          },
          "paper_bgcolor": "white",
          "plot_bgcolor": "#E5ECF6",
          "polar": {
           "angularaxis": {
            "gridcolor": "white",
            "linecolor": "white",
            "ticks": ""
           },
           "bgcolor": "#E5ECF6",
           "radialaxis": {
            "gridcolor": "white",
            "linecolor": "white",
            "ticks": ""
           }
          },
          "scene": {
           "xaxis": {
            "backgroundcolor": "#E5ECF6",
            "gridcolor": "white",
            "gridwidth": 2,
            "linecolor": "white",
            "showbackground": true,
            "ticks": "",
            "zerolinecolor": "white"
           },
           "yaxis": {
            "backgroundcolor": "#E5ECF6",
            "gridcolor": "white",
            "gridwidth": 2,
            "linecolor": "white",
            "showbackground": true,
            "ticks": "",
            "zerolinecolor": "white"
           },
           "zaxis": {
            "backgroundcolor": "#E5ECF6",
            "gridcolor": "white",
            "gridwidth": 2,
            "linecolor": "white",
            "showbackground": true,
            "ticks": "",
            "zerolinecolor": "white"
           }
          },
          "shapedefaults": {
           "line": {
            "color": "#2a3f5f"
           }
          },
          "ternary": {
           "aaxis": {
            "gridcolor": "white",
            "linecolor": "white",
            "ticks": ""
           },
           "baxis": {
            "gridcolor": "white",
            "linecolor": "white",
            "ticks": ""
           },
           "bgcolor": "#E5ECF6",
           "caxis": {
            "gridcolor": "white",
            "linecolor": "white",
            "ticks": ""
           }
          },
          "title": {
           "x": 0.05
          },
          "xaxis": {
           "automargin": true,
           "gridcolor": "white",
           "linecolor": "white",
           "ticks": "",
           "title": {
            "standoff": 15
           },
           "zerolinecolor": "white",
           "zerolinewidth": 2
          },
          "yaxis": {
           "automargin": true,
           "gridcolor": "white",
           "linecolor": "white",
           "ticks": "",
           "title": {
            "standoff": 15
           },
           "zerolinecolor": "white",
           "zerolinewidth": 2
          }
         }
        }
       }
      }
     },
     "metadata": {},
     "output_type": "display_data"
    }
   ],
   "source": [
    "fig = px.scatter_3d(was_data, x=' Longitude_YANG', y=' Latitude_YANG', z=' Radar_Altitude_YANG',\n",
    "              color=' O3_CL_RYERSON')\n",
    "fig.show()"
   ]
  },
  {
   "cell_type": "code",
   "execution_count": null,
   "id": "2f1e08c1",
   "metadata": {},
   "outputs": [],
   "source": []
  }
 ],
 "metadata": {
  "kernelspec": {
   "display_name": "sarp",
   "language": "python",
   "name": "python3"
  },
  "language_info": {
   "codemirror_mode": {
    "name": "ipython",
    "version": 3
   },
   "file_extension": ".py",
   "mimetype": "text/x-python",
   "name": "python",
   "nbconvert_exporter": "python",
   "pygments_lexer": "ipython3",
   "version": "3.13.1"
  }
 },
 "nbformat": 4,
 "nbformat_minor": 5
}
