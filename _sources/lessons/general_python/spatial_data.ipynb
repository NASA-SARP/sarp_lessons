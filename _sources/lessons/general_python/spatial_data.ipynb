{
 "cells": [
  {
   "cell_type": "markdown",
   "id": "de83f833",
   "metadata": {},
   "source": [
    "# Spatial Data"
   ]
  },
  {
   "cell_type": "markdown",
   "id": "1348d0cc",
   "metadata": {},
   "source": [
    ":::{admonition} Lesson Content\n",
    ":class: note, dropdown\n",
    "\n",
    "- raster vs. vector data\n",
    "- The earth as a coordinate system; bounding boxes\n",
    "- geodesy and UTM grids\n",
    "- `shapely` vector object library\n",
    "\n",
    ":::"
   ]
  },
  {
   "cell_type": "markdown",
   "id": "b6500ec1",
   "metadata": {},
   "source": [
    "## Context\n",
    "\n",
    "Spatial data, as defined by software firm [Safe](https://www.safe.com/what-is/spatial-data/) is:\n",
    "\n",
    "> a term used to describe any data related to or containing information about a specific location on the Earth’s surface\n",
    "\n",
    "As earth scientists we are all about the earth's surface! Our data is inherently spatial.  Very little (or nothing) that we do is disconnected from location.  Learning how to deal with location, then, is a key part of learning to code for earth science research."
   ]
  },
  {
   "cell_type": "markdown",
   "id": "f0a128cb",
   "metadata": {},
   "source": [
    "## Vector data vs. Raster data\n",
    "\n",
    "Spatial data is most often divided between two types: \n",
    "1. **raster data** - made up of a continuous matrix of cells that each hold specific values\n",
    "2. **vector data** - data storing discrete boundaries with attached attributes\n",
    "\n",
    "<img src=\"https://i.ytimg.com/vi/zgAXPyU3euo/maxresdefault.jpg\" width=600>\n",
    "\n",
    "Lidar has become increasingly prevelent, and though it is often represented in raster file formats has also been called \"the third branch of geospatial data\"."
   ]
  },
  {
   "cell_type": "markdown",
   "id": "0c4370d8",
   "metadata": {},
   "source": [
    ":::{admonition} 📝 Check your understanding\n",
    ":class: tip\n",
    "\n",
    "What is the best type of data structure for each dataset?\n",
    "\n",
    "1. temperature output from a weather model of spatitially continuous temperature predicitions\n",
    "2. temperature taken from individual ground stations\n",
    "4. whole air samples taken on an airplane flight\n",
    "5. elevation across an entire state\n",
    "\n",
    ":::"
   ]
  },
  {
   "cell_type": "markdown",
   "id": "d93360da",
   "metadata": {},
   "source": [
    "## Geodesy"
   ]
  },
  {
   "cell_type": "markdown",
   "id": "428cbdde",
   "metadata": {},
   "source": [
    "**geodesy** is the science of understanding and measureing the earth's shape.  There are people who spend their whole careers as geodesists.  Geodesy and mapping is an integral part of **georeferencing** your data - or placing your data in space.  Without georeferencing raster datasets are just pretty images that could have been taken anywhere in the world, or not on this world at all.\n",
    "\n",
    "The three concepts we will be distinguishing between today are:\n",
    "1. ellipsoids and datums - define the shape of the earth\n",
    "2. map projections - define how we put a round earth on a flat map\n",
    "3. coordinate reference systems - define how we define distances on the flat map"
   ]
  },
  {
   "cell_type": "markdown",
   "id": "73ef99e5",
   "metadata": {},
   "source": [
    "````{panels}\n",
    ":column: col-lg-12 p-2\n",
    "Vocabulary\n",
    "^^^^^^^^^^^^^^\n",
    "**Georeferencing:** The process of assigning a data value a location in space.\n",
    "\n",
    "````"
   ]
  },
  {
   "cell_type": "markdown",
   "id": "5479d260",
   "metadata": {},
   "source": [
    "### Ellipsoids and Datums\n",
    "\n",
    "The earth is not a perfect circle. It isn't even a perfect squished circle. It's bumpy with mountain ranges, ocean topography (bathymetry) and ice sheets. Because of this, in order to define where something is we have to first agree on a basic starting shape for the earth. The agreed upon starting shape is called the **ellipsoid** and agreeing upon where to center that shape is called the **datum**.\n",
    "\n",
    "Geodesists have defined the shape of an ellipsoid which is believed to best align with the shape of the earth.  The mostly commonly used ellisoid is the WGS 84 ellipsoid which was defined in 1984. In addition to defining the size of the ellipsoid we also need to define where the center of the ellipsoid should sit so that it is acurrate for as many places on earth at once.  Defining where to put the ellipsoid is called the datum.\n",
    "\n",
    "![Datums](./images/datums.png)"
   ]
  },
  {
   "cell_type": "markdown",
   "id": "8a661586",
   "metadata": {},
   "source": [
    "Together the ellipsoid and the datum become the mathematical definition of the earth's surface."
   ]
  },
  {
   "cell_type": "markdown",
   "id": "bffb328e",
   "metadata": {},
   "source": [
    "### Map Projections\n",
    "\n",
    "The ellipsoid is a 3D shape.  Map projections are the result of taking a 3D shape and turning it into being 2D.\n",
    "\n",
    "<img src=\"https://tomroth.com.au/projections/map-projections.png\" width=500>"
   ]
  },
  {
   "cell_type": "markdown",
   "id": "7898c1eb",
   "metadata": {},
   "source": [
    "There are [an insane number of ways to do this](https://xkcd.com/977/) and they are grouped into different families.  The most important takeaway is just to know that when you convert a 3D object into a 2D you aren't going to be able to be accurate in every aspect.  Something has to sacrifice.  It might be relative size or it might be straight lines but everything can't be perfect on a given map projection.\n",
    "\n",
    "![Projection Distortion](./images/projection_distortion.png)"
   ]
  },
  {
   "cell_type": "markdown",
   "id": "ddea5aa1",
   "metadata": {},
   "source": [
    "### Coordinate Reference Systems (CRS)\n",
    "\n",
    "Once you lay out your 2d surface representing the earth you next need to label the map so you can refer to points on that surface.  The system you uses for labelling points on the map is a **coordinate reference system (crs)**.\n",
    "\n",
    "CRS fit into two main categories:\n",
    "* units of degrees (ex. latitude and longitude) - geographic CRS\n",
    "* units of distance (ex. meters, kilometers, miles, ...) - projected CRS\n",
    "\n",
    "The units of a CRS will be a piece of information that you use frequently when working with spatial data.\n",
    "\n",
    "Knowing what type of CRS you are using is important for measuring distances. If you have a dataset in degrees the benefit is that it is usually intuitive to think of data in latitude and longitudes. The downside is that if you ask a program about the distance between two things it will give you an answer back in degrees.\n",
    "\n",
    "In a projected system the general location of the image can be counter intuitive, but the distances from one point to another are easier because they will be returned to you in the units of the coordiante system."
   ]
  },
  {
   "cell_type": "markdown",
   "id": "6aa85529",
   "metadata": {},
   "source": [
    ":::{admonition} 📝 Check your understanding\n",
    ":class: tip\n",
    "\n",
    "What purpose does each of the three elements of geodesy serve?\n",
    "\n",
    "1. Ellipsoid + Datum\n",
    "2. Map projection\n",
    "3. Coordinate Reference System\n",
    "\n",
    ":::"
   ]
  },
  {
   "cell_type": "markdown",
   "id": "dfe7da0a",
   "metadata": {},
   "source": [
    ":::{admonition} 📝 Check your understanding\n",
    ":class: tip\n",
    "\n",
    "What is the difference between a projected and a geographic coordinate system? What are the units in each one?\n",
    "\n",
    ":::"
   ]
  },
  {
   "cell_type": "markdown",
   "id": "922cbe0c",
   "metadata": {},
   "source": [
    "## Standardized Geodesy: EPSG Codes"
   ]
  },
  {
   "cell_type": "markdown",
   "id": "e106a148",
   "metadata": {},
   "source": [
    "We aren't talking about geodesy to do a deep dive into it, but we do need to understand that any geospatial data we look at is going to need to communicate to us how they are describing place and distance. \n",
    "\n",
    "One common way to do that is with **EPSG codes**.  These codes assign an integer number to many of the common map projection/crs combinations.\n",
    "\n",
    "Really common projections include:\n",
    "\n",
    "* EPSG:4326 - what most people think of as \"regular\" latitude/longitude coordinates\n",
    "* EPSG:3857 - Web mercator, the projection used by Google maps and most web maps.  The de facto standard of web mapping. Nice for distance calculations on most parts of the globe."
   ]
  },
  {
   "cell_type": "markdown",
   "id": "b1072499",
   "metadata": {},
   "source": [
    ":::{admonition} 📝 Check your understanding\n",
    ":class: tip\n",
    "\n",
    "Look at the epsg.io page for the 4326 projection (www.epsg.io/4326). What are the units of that projection?\n",
    "\n",
    ":::"
   ]
  },
  {
   "cell_type": "markdown",
   "id": "32ef5b5d",
   "metadata": {},
   "source": [
    "## All the world's a coordinate system\n",
    "\n",
    "A map of the world:\n",
    "\n",
    "<img src=\"https://upload.wikimedia.org/wikipedia/commons/thumb/7/73/Mercator_projection_Square.JPG/350px-Mercator_projection_Square.JPG\" width=450>"
   ]
  },
  {
   "cell_type": "markdown",
   "id": "c81829df",
   "metadata": {},
   "source": [
    "We are familiar with a map like this. Latitudes run horizontally east/west and longitudes run vertically north and south.\n",
    "\n",
    "There are several ways to represent coordinates, but when we are representing coordinate locations on a computer we typically use decimal degrees: \n",
    "\n",
    "35 degrees 30 mintes = 35.5 degrees\n",
    "\n",
    "We also use a negative sign to denote the southern and western hemisphere:\n",
    "\n",
    "112 W, 15 S = -112, -15\n",
    "\n",
    "While this all is generally approachable it can get easy to get turned around when you're in the nitty gritty of coordinates with your data.  One visual I like to keep myself on track is that the coordinate system on our map is just that, a coordinate system just like they x and y planes in math class.\n",
    "\n",
    "![Map with CRS](./images/crs_map.jpg)"
   ]
  },
  {
   "cell_type": "markdown",
   "id": "45d7969e",
   "metadata": {},
   "source": [
    "### Bounding Boxes"
   ]
  },
  {
   "cell_type": "markdown",
   "id": "31505f65",
   "metadata": {},
   "source": [
    "Bounding boxes represent the minimum and maxiumum coordinates of the dataset.  These are often latitude and longitude lines, but the bounding box is given the units of whatever dataset the raster is using.  AVIRIS, for example, uses a UTM grid (more detail later) so the units of the bounding box are meters."
   ]
  },
  {
   "cell_type": "markdown",
   "id": "ef9747aa",
   "metadata": {},
   "source": [
    "![Bounding Boxs](./images/bounding_box.png)"
   ]
  },
  {
   "cell_type": "markdown",
   "id": "75a96ce9",
   "metadata": {},
   "source": [
    "In this example the outline of Italy is shown in red and the bounding box for Italy, which follows the minimum and maximum latitude and longitude lines, is shown in black.\n",
    "\n",
    "Bounding boxes are often written as a list of coordinates in the format `[minimum_x minimum_y maximum_x maximum_y]`.  So for our Italy example the bounding box would be `[6.634, 36.62, 18.511, 47.08]`."
   ]
  },
  {
   "cell_type": "markdown",
   "id": "1a75f091",
   "metadata": {},
   "source": [
    "When translating between north/south/east/west and x/y coordinates:\n",
    "* `minimum_x` -> most western\n",
    "* `minimum_y` -> most southern\n",
    "* `maximum_x` -> most eastern\n",
    "* `maximum_y` -> most northern"
   ]
  },
  {
   "cell_type": "markdown",
   "id": "a22cc4ef",
   "metadata": {},
   "source": [
    ":::{admonition} 📝 Check your understanding\n",
    ":class: tip\n",
    "\n",
    "Pull up Google maps or your favorite mapping appliation and zoom into the state of California. Click the map to view latitude and longitude locations for the edges.  Write down an approximate bounding box (to ~the nearest half of a degree) for the state in the form `[minimum_x minimum_y maximum_x maximum_y]`\n",
    "\n",
    ":::"
   ]
  },
  {
   "cell_type": "markdown",
   "id": "d813eff8",
   "metadata": {},
   "source": [
    "## UTM Grids"
   ]
  },
  {
   "cell_type": "markdown",
   "id": "5a072a55",
   "metadata": {},
   "source": [
    "The Universal Transverse Mercator (UTM) projected coordinate system that covers the entire earth.  The system is broken up into 60 zones, each 6 degrees longitude wide, that span from the south to the north pole."
   ]
  },
  {
   "cell_type": "code",
   "execution_count": 1,
   "id": "01bc3978",
   "metadata": {},
   "outputs": [],
   "source": [
    "from IPython.display import Image\n",
    "from IPython.core.display import HTML "
   ]
  },
  {
   "cell_type": "code",
   "execution_count": 2,
   "id": "e7014c06",
   "metadata": {},
   "outputs": [
    {
     "data": {
      "text/html": [
       "<img src=\"https://gisgeography.com/wp-content/uploads/2016/05/UTM-Zones-Globe-2.png\" width=\"330\"/>"
      ],
      "text/plain": [
       "<IPython.core.display.Image object>"
      ]
     },
     "execution_count": 2,
     "metadata": {},
     "output_type": "execute_result"
    }
   ],
   "source": [
    "# UTM grid zones\n",
    "Image(url= \"https://gisgeography.com/wp-content/uploads/2016/05/UTM-Zones-Globe-2.png\", width=330)"
   ]
  },
  {
   "cell_type": "markdown",
   "id": "53b6dedc",
   "metadata": {},
   "source": [
    "Notice in the image how the area covered by each zone is widest at the equator and gets skinnier towards the poles."
   ]
  },
  {
   "cell_type": "markdown",
   "id": "987668ef",
   "metadata": {},
   "source": [
    "### Easting and Northing"
   ]
  },
  {
   "cell_type": "markdown",
   "id": "d1ed8a62",
   "metadata": {},
   "source": [
    "Instead of latitude and longitude the UTM grid system uses a northing and an easting, respectively.\n",
    "- Longtude -> Eastings.  Eastings are measured from the central meridian, which has a value of 500,000m.\n",
    "- Latitude -> Northings.  Northings are measured from the from the equator, which has a value of 0 for the northern hemisphere and 10,000,000m for the southern hemisphere.\n",
    "\n",
    "Some benefits of UTM:\n",
    "- All values of eastings/northings are positive, so there are no negative numbers nor is there an East-West designation\n",
    "- constant distance relationship anywhere on the map"
   ]
  },
  {
   "cell_type": "code",
   "execution_count": 3,
   "id": "8d8cdd36",
   "metadata": {
    "scrolled": true
   },
   "outputs": [
    {
     "data": {
      "text/html": [
       "<img src=\"https://www.maptools.com/images/28ad74e.png\" width=\"360\"/>"
      ],
      "text/plain": [
       "<IPython.core.display.Image object>"
      ]
     },
     "execution_count": 3,
     "metadata": {},
     "output_type": "execute_result"
    }
   ],
   "source": [
    "Image(url= \"https://www.maptools.com/images/28ad74e.png\", width=360)"
   ]
  },
  {
   "cell_type": "markdown",
   "id": "6fdfe960",
   "metadata": {},
   "source": [
    "The x direction should only range from about 0 to 1,000,000 where as the y direction could range from 0 to about 10,000,000."
   ]
  },
  {
   "cell_type": "markdown",
   "id": "ae9dbf1b",
   "metadata": {},
   "source": [
    ":::{admonition} 📝 Check your understanding\n",
    ":class: tip\n",
    "\n",
    "What is the set of coordinates corresponding to the exact center of a northern hemisphere UTM grid at the equator?\n",
    "\n",
    ":::"
   ]
  },
  {
   "cell_type": "markdown",
   "id": "3a34cf18",
   "metadata": {},
   "source": [
    "### EPSG codes for UTM grids"
   ]
  },
  {
   "cell_type": "markdown",
   "id": "7431b5d6",
   "metadata": {},
   "source": [
    "Each grid has its own EPSG code, meaning there are 120 total EPSG codes total for UTM grids.  Luckily there is an order to how these codes are assigned.\n",
    "\n",
    "\n",
    "* northern hemisphere - 326{zone number}\n",
    "* southern hemisphere - 327(zone number}\n"
   ]
  },
  {
   "cell_type": "markdown",
   "id": "0af86dcd",
   "metadata": {},
   "source": [
    "To visually reference UTM grid zone numbers I use the image from [this website](http://www.dmap.co.uk/utmworld.htm) as a reference:"
   ]
  },
  {
   "cell_type": "code",
   "execution_count": 4,
   "id": "ac39dbd8",
   "metadata": {},
   "outputs": [
    {
     "data": {
      "text/html": [
       "<img src=\"http://www.dmap.co.uk/utmworld.gif\"/>"
      ],
      "text/plain": [
       "<IPython.core.display.Image object>"
      ]
     },
     "execution_count": 4,
     "metadata": {},
     "output_type": "execute_result"
    }
   ],
   "source": [
    "# UTM grid zones\n",
    "Image(url= \"http://www.dmap.co.uk/utmworld.gif\")"
   ]
  },
  {
   "cell_type": "markdown",
   "id": "76649c0a",
   "metadata": {},
   "source": [
    "Another source to referenece is epsg.io.  Type the name of the reference system you are interested in to find information or view it on a map. Ex. https://epsg.io/32630 or https://epsg.io/4326"
   ]
  },
  {
   "cell_type": "markdown",
   "id": "d84bff50",
   "metadata": {},
   "source": [
    ":::{admonition} 📝 Check your understanding\n",
    ":class: tip\n",
    "\n",
    "What is the EPSG code for the UTM zone covering most of Ireland?\n",
    "\n",
    ":::"
   ]
  },
  {
   "cell_type": "markdown",
   "id": "302d0cc9",
   "metadata": {},
   "source": [
    "## Back to Coding"
   ]
  },
  {
   "cell_type": "markdown",
   "id": "a7023757",
   "metadata": {},
   "source": [
    "### `shapely` objects\n",
    "`shapely` is a library for handling vector data.  It has objects for `Point`s, `LineString`s, `LineRing`s,and `Polygon`s. `Point`s and `Polygon`s are what we will primarily use.\n",
    "\n",
    "See also:\n",
    "* [medium article](https://towardsdatascience.com/geospatial-adventures-step-1-shapely-e911e4f86361)"
   ]
  },
  {
   "cell_type": "markdown",
   "id": "05d287cb",
   "metadata": {},
   "source": [
    "#### Creating a `Point()`\n",
    "You create a `shapely` object by giving it a set of coordinates, in the format (x, y).\n",
    "\n",
    "**Notice!** x, y for degree coordinates is longitude, latitude"
   ]
  },
  {
   "cell_type": "code",
   "execution_count": 5,
   "id": "7798f240",
   "metadata": {},
   "outputs": [],
   "source": [
    "from shapely.geometry import Point"
   ]
  },
  {
   "cell_type": "code",
   "execution_count": 6,
   "id": "6dfc5a9b",
   "metadata": {},
   "outputs": [
    {
     "name": "stdout",
     "output_type": "stream",
     "text": [
      "POINT (0 0)\n"
     ]
    }
   ],
   "source": [
    "point = Point(0.0, 0.0)\n",
    "print(point)"
   ]
  },
  {
   "cell_type": "code",
   "execution_count": 7,
   "id": "472ea668",
   "metadata": {},
   "outputs": [
    {
     "data": {
      "text/plain": [
       "5.0"
      ]
     },
     "execution_count": 7,
     "metadata": {},
     "output_type": "execute_result"
    }
   ],
   "source": [
    "Point(0,0).distance(Point(3,4))"
   ]
  },
  {
   "cell_type": "code",
   "execution_count": 8,
   "id": "0ca42756",
   "metadata": {},
   "outputs": [
    {
     "data": {
      "text/plain": [
       "[(4.0, 3.0)]"
      ]
     },
     "execution_count": 8,
     "metadata": {},
     "output_type": "execute_result"
    }
   ],
   "source": [
    "list(Point(4,3).coords)"
   ]
  },
  {
   "cell_type": "markdown",
   "id": "3217b7f4",
   "metadata": {},
   "source": [
    "#### Creating a `Polygon()`"
   ]
  },
  {
   "cell_type": "code",
   "execution_count": 9,
   "id": "34c4dc1e",
   "metadata": {},
   "outputs": [],
   "source": [
    "from shapely.geometry import Polygon"
   ]
  },
  {
   "cell_type": "code",
   "execution_count": 10,
   "id": "4830d3db",
   "metadata": {},
   "outputs": [],
   "source": [
    "polygon = Polygon([(0, 0), (1, 1), (1, 0)])"
   ]
  },
  {
   "cell_type": "markdown",
   "id": "2a46a39f",
   "metadata": {},
   "source": [
    "When you create a `Polygon` object you get extra properties that tell you something about your object"
   ]
  },
  {
   "cell_type": "code",
   "execution_count": 11,
   "id": "4968c017",
   "metadata": {},
   "outputs": [
    {
     "name": "stdout",
     "output_type": "stream",
     "text": [
      "0.5\n",
      "3.414213562373095\n",
      "(0.0, 0.0, 1.0, 1.0)\n"
     ]
    }
   ],
   "source": [
    "print(polygon.area)\n",
    "print(polygon.length)\n",
    "print(polygon.bounds)"
   ]
  },
  {
   "cell_type": "markdown",
   "id": "e8e5dbba",
   "metadata": {},
   "source": [
    "#### Creating a Bounding Box\n",
    "\n",
    "When we create a bounding box in code the order of inputs is:\n",
    "`minx`, `miny`, `maxx`, `maxy`"
   ]
  },
  {
   "cell_type": "code",
   "execution_count": 12,
   "id": "3dfa87bd",
   "metadata": {},
   "outputs": [],
   "source": [
    "from shapely.geometry import box"
   ]
  },
  {
   "cell_type": "code",
   "execution_count": 13,
   "id": "d1b07c3d",
   "metadata": {},
   "outputs": [
    {
     "data": {
      "image/svg+xml": [
       "<svg xmlns=\"http://www.w3.org/2000/svg\" xmlns:xlink=\"http://www.w3.org/1999/xlink\" width=\"100.0\" height=\"100.0\" viewBox=\"9.6 -15.4 10.799999999999999 10.8\" preserveAspectRatio=\"xMinYMin meet\"><g transform=\"matrix(1,0,0,-1,0,-20.0)\"><path fill-rule=\"evenodd\" fill=\"#66cc99\" stroke=\"#555555\" stroke-width=\"0.21600000000000003\" opacity=\"0.6\" d=\"M 20.0,-15.0 L 20.0,-5.0 L 10.0,-5.0 L 10.0,-15.0 L 20.0,-15.0 z\" /></g></svg>"
      ],
      "text/plain": [
       "<POLYGON ((20 -15, 20 -5, 10 -5, 10 -15, 20 -15))>"
      ]
     },
     "execution_count": 13,
     "metadata": {},
     "output_type": "execute_result"
    }
   ],
   "source": [
    "box(10, -15, 20, -5)"
   ]
  },
  {
   "cell_type": "markdown",
   "id": "e2900e40",
   "metadata": {},
   "source": [
    "#### Example\n",
    "Creating a bounding box Python object for the bounding box of Italy in the image above"
   ]
  },
  {
   "cell_type": "code",
   "execution_count": 14,
   "id": "e7bb44e6",
   "metadata": {},
   "outputs": [],
   "source": [
    "bbox_italy = box(6.634, 36.62, 18.51, 47.08)"
   ]
  },
  {
   "cell_type": "code",
   "execution_count": 15,
   "id": "48d39138",
   "metadata": {},
   "outputs": [
    {
     "data": {
      "text/plain": [
       "124.22296000000003"
      ]
     },
     "execution_count": 15,
     "metadata": {},
     "output_type": "execute_result"
    }
   ],
   "source": [
    "bbox_italy.area"
   ]
  },
  {
   "cell_type": "markdown",
   "id": "a43387a7",
   "metadata": {},
   "source": [
    "### Operations with spatial objects\n",
    "\n",
    "Just like addition or multiplication are operations for numbers, we also have operations we can run on spatial data which are unique.  Here are a few common ones:\n",
    "\n",
    "<img src=\"https://docs.qgis.org/2.8/en/_images/overlay_operations.png\">\n",
    "\n",
    "Another common one is a buffer: \n",
    "<img src=\"https://saylordotorg.github.io/text_essentials-of-geographic-information-systems/section_11/5c7eb6fc4bcbfc5117d778f0aabfded6.jpg\" width=550>"
   ]
  },
  {
   "cell_type": "code",
   "execution_count": 16,
   "id": "2a518be0",
   "metadata": {},
   "outputs": [],
   "source": [
    "bbox_italy = box(6.634, 36.62, 18.51, 47.08)"
   ]
  },
  {
   "cell_type": "code",
   "execution_count": 17,
   "id": "35ee6321",
   "metadata": {},
   "outputs": [],
   "source": [
    "bbox_example = box(12.5, 36, 22.7, 49.3)"
   ]
  },
  {
   "cell_type": "code",
   "execution_count": 18,
   "id": "38f80eef",
   "metadata": {},
   "outputs": [
    {
     "data": {
      "image/svg+xml": [
       "<svg xmlns=\"http://www.w3.org/2000/svg\" xmlns:xlink=\"http://www.w3.org/1999/xlink\" width=\"100.0\" height=\"100.0\" viewBox=\"11.968 35.468 11.264 14.36399999999999\" preserveAspectRatio=\"xMinYMin meet\"><g transform=\"matrix(1,0,0,-1,0,85.3)\"><path fill-rule=\"evenodd\" fill=\"#66cc99\" stroke=\"#555555\" stroke-width=\"0.2872799999999998\" opacity=\"0.6\" d=\"M 12.5,49.3 L 22.7,49.3 L 22.7,36.0 L 12.5,36.0 L 12.5,36.62 L 18.51,36.62 L 18.51,47.08 L 12.5,47.08 L 12.5,49.3 z\" /></g></svg>"
      ],
      "text/plain": [
       "<POLYGON ((12.5 49.3, 22.7 49.3, 22.7 36, 12.5 36, 12.5 36.62, 18.51 36.62, ...>"
      ]
     },
     "execution_count": 18,
     "metadata": {},
     "output_type": "execute_result"
    }
   ],
   "source": [
    "bbox_example - bbox_italy"
   ]
  },
  {
   "cell_type": "code",
   "execution_count": 19,
   "id": "2a3af4bb",
   "metadata": {},
   "outputs": [
    {
     "data": {
      "image/svg+xml": [
       "<svg xmlns=\"http://www.w3.org/2000/svg\" xmlns:xlink=\"http://www.w3.org/1999/xlink\" width=\"100.0\" height=\"100.0\" viewBox=\"12.0816 36.2016 6.8468 11.296799999999998\" preserveAspectRatio=\"xMinYMin meet\"><g transform=\"matrix(1,0,0,-1,0,83.69999999999999)\"><path fill-rule=\"evenodd\" fill=\"#66cc99\" stroke=\"#555555\" stroke-width=\"0.22593599999999994\" opacity=\"0.6\" d=\"M 12.5,47.08 L 18.51,47.08 L 18.51,36.62 L 12.5,36.62 L 12.5,47.08 z\" /></g></svg>"
      ],
      "text/plain": [
       "<POLYGON ((12.5 47.08, 18.51 47.08, 18.51 36.62, 12.5 36.62, 12.5 47.08))>"
      ]
     },
     "execution_count": 19,
     "metadata": {},
     "output_type": "execute_result"
    }
   ],
   "source": [
    "bbox_example.intersection(bbox_italy)"
   ]
  },
  {
   "cell_type": "markdown",
   "id": "aa18a362",
   "metadata": {},
   "source": [
    "#### An example of buffer using the shape of California"
   ]
  },
  {
   "cell_type": "code",
   "execution_count": 20,
   "id": "1ee576f9",
   "metadata": {},
   "outputs": [],
   "source": [
    "import json\n",
    "from shapely.geometry import shape"
   ]
  },
  {
   "cell_type": "code",
   "execution_count": 21,
   "id": "b536766d",
   "metadata": {},
   "outputs": [],
   "source": [
    "# Opening a geojson and convering to a shapely object.  We'll talk about this again below\n",
    "with open('./data/california.geojson') as f:\n",
    "    ca_geom_json = json.load(f)\n",
    "ca_geom = shape(ca_geom_json['geometry'])"
   ]
  },
  {
   "cell_type": "code",
   "execution_count": 22,
   "id": "03e5a8a1",
   "metadata": {
    "scrolled": true
   },
   "outputs": [
    {
     "data": {
      "image/svg+xml": [
       "<svg xmlns=\"http://www.w3.org/2000/svg\" xmlns:xlink=\"http://www.w3.org/1999/xlink\" width=\"100.0\" height=\"100.0\" viewBox=\"-124.82071508 32.12303192 11.10035015999999 10.297610159999998\" preserveAspectRatio=\"xMinYMin meet\"><g transform=\"matrix(1,0,0,-1,0,74.54367400000001)\"><g><path fill-rule=\"evenodd\" fill=\"#66cc99\" stroke=\"#555555\" stroke-width=\"0.2220070031999998\" opacity=\"0.6\" d=\"M -120.248484,33.999329 L -120.247393,34.001911 L -120.238657,34.007592 L -120.230001,34.010136 L -120.221287,34.010367 L -120.208478,34.005655 L -120.19578,34.004284 L -120.167306,34.008219 L -120.151663,34.018126 L -120.147647,34.024831 L -120.140362,34.025974 L -120.135853,34.026087 L -120.115058,34.019866 L -120.090182,34.019806 L -120.073609,34.024477 L -120.062778,34.031161 L -120.061953,34.033976 L -120.057637,34.03734 L -120.055107,34.037729 L -120.043259,34.035806 L -120.044004,34.02482 L -120.047798,34.021227 L -120.050382,34.013331 L -120.048926,34.009898 L -120.046575,34.000002 L -120.041311,33.994507 L -120.025653,33.985553 L -120.011123,33.979894 L -120.003815,33.979547 L -119.984316,33.983948 L -119.978876,33.983081 L -119.979913,33.969623 L -119.976857,33.956693 L -119.971141,33.950401 L -119.97026,33.944359 L -119.973691,33.942481 L -120.00096,33.941554 L -120.017715,33.936366 L -120.046881,33.919597 L -120.048315,33.917625 L -120.048611,33.915775 L -120.049682,33.914563 L -120.077793,33.908886 L -120.098601,33.907853 L -120.105489,33.90428 L -120.109137,33.899129 L -120.121817,33.895712 L -120.168974,33.91909 L -120.179049,33.927994 L -120.18984,33.947703 L -120.192339,33.950266 L -120.198602,33.952211 L -120.200085,33.956904 L -120.209372,33.972376 L -120.224461,33.989059 L -120.248484,33.999329 z\" /><path fill-rule=\"evenodd\" fill=\"#66cc99\" stroke=\"#555555\" stroke-width=\"0.2220070031999998\" opacity=\"0.6\" d=\"M -119.789798,34.05726 L -119.770729,34.055051 L -119.766081,34.05537 L -119.763688,34.057155 L -119.755521,34.056716 L -119.739472,34.049299 L -119.726437,34.047908 L -119.712576,34.043265 L -119.704628,34.037681 L -119.686507,34.019805 L -119.637742,34.013178 L -119.619343,34.016468 L -119.612226,34.021256 L -119.604287,34.031561 L -119.608798,34.035245 L -119.609239,34.03735 L -119.59324,34.049625 L -119.57341,34.05011 L -119.5667,34.053452 L -119.529603,34.041155 L -119.52064,34.034262 L -119.52177,34.032247 L -119.532413,34.024949 L -119.538847,34.023988 L -119.542449,34.021082 L -119.54828,34.009819 L -119.547072,34.005469 L -119.554472,33.99782 L -119.560464,33.99553 L -119.575636,33.996009 L -119.5902,33.989712 L -119.596877,33.988611 L -119.619082,33.987228 L -119.621117,33.98899 L -119.64771,33.987786 L -119.662825,33.985889 L -119.69011,33.972225 L -119.706952,33.969178 L -119.712363,33.965422 L -119.714696,33.961439 L -119.721206,33.959583 L -119.742966,33.963877 L -119.750438,33.963759 L -119.758141,33.959212 L -119.795938,33.962929 L -119.842748,33.97034 L -119.873358,33.980375 L -119.877057,33.985757 L -119.883033,34.000802 L -119.884896,34.008814 L -119.882531,34.011674 L -119.876916,34.023527 L -119.876329,34.032087 L -119.892821,34.045529 L -119.916216,34.058351 L -119.923337,34.069361 L -119.919155,34.07728 L -119.912857,34.077508 L -119.89113,34.072856 L -119.857304,34.071298 L -119.825865,34.059794 L -119.818742,34.052997 L -119.807825,34.052127 L -119.789798,34.05726 z\" /><path fill-rule=\"evenodd\" fill=\"#66cc99\" stroke=\"#555555\" stroke-width=\"0.2220070031999998\" opacity=\"0.6\" d=\"M -120.46258,34.042627 L -120.440248,34.036918 L -120.418768,34.052093 L -120.415287,34.05496 L -120.411314,34.052869 L -120.403613,34.050442 L -120.396188,34.050187 L -120.390906,34.051994 L -120.374211,34.062658 L -120.368813,34.06778 L -120.368584,34.071214 L -120.370176,34.074907 L -120.368278,34.076465 L -120.362251,34.073056 L -120.354982,34.059256 L -120.36029,34.05582 L -120.358608,34.050235 L -120.346946,34.046576 L -120.331161,34.049097 L -120.319032,34.041979 L -120.313175,34.036576 L -120.302122,34.023574 L -120.304543,34.021171 L -120.317052,34.018837 L -120.347706,34.020114 L -120.35532,34.017914 L -120.35793,34.015029 L -120.375143,34.018775 L -120.409368,34.032198 L -120.415225,34.032245 L -120.419021,34.028949 L -120.427408,34.025425 L -120.454134,34.028081 L -120.459635,34.031537 L -120.465329,34.038448 L -120.46258,34.042627 z\" /><path fill-rule=\"evenodd\" fill=\"#66cc99\" stroke=\"#555555\" stroke-width=\"0.2220070031999998\" opacity=\"0.6\" d=\"M -119.543842,33.280329 L -119.532941,33.284728 L -119.528141,33.284929 L -119.50504,33.272829 L -119.48278,33.263973 L -119.465717,33.259239 L -119.458466,33.254661 L -119.429559,33.228167 L -119.444269,33.21919 L -119.464725,33.215432 L -119.476029,33.21552 L -119.500684,33.220569 L -119.511659,33.223027 L -119.517514,33.226737 L -119.545872,33.233406 L -119.564971,33.24744 L -119.565641,33.250029 L -119.566014,33.252639 L -119.570642,33.257729 L -119.578942,33.278628 L -119.562042,33.271129 L -119.555242,33.273429 L -119.547642,33.280328 L -119.543842,33.280329 z\" /><path fill-rule=\"evenodd\" fill=\"#66cc99\" stroke=\"#555555\" stroke-width=\"0.2220070031999998\" opacity=\"0.6\" d=\"M -119.422972,34.004368 L -119.427589,34.006445 L -119.437734,34.01 L -119.441116,34.012426 L -119.441226,34.014075 L -119.433912,34.015975 L -119.421376,34.015012 L -119.411317,34.008005 L -119.396251,34.005918 L -119.389983,34.006099 L -119.366591,34.016785 L -119.357462,34.015919 L -119.376396,34.010551 L -119.391551,34.002505 L -119.414528,34.004994 L -119.422972,34.004368 z\" /><path fill-rule=\"evenodd\" fill=\"#66cc99\" stroke=\"#555555\" stroke-width=\"0.2220070031999998\" opacity=\"0.6\" d=\"M -118.524531,32.895488 L -118.535823,32.90628 L -118.551134,32.945155 L -118.560887,32.957891 L -118.573522,32.969183 L -118.586928,33.008281 L -118.596037,33.015357 L -118.606559,33.01469 L -118.605534,33.030999 L -118.594033,33.035951 L -118.57516,33.033961 L -118.569013,33.029151 L -118.564445,33.024914 L -118.564527,33.018637 L -118.559171,33.006291 L -118.540069,32.980933 L -118.529228,32.970921 L -118.496811,32.933847 L -118.485288,32.923545 L -118.479039,32.920363 L -118.460623,32.90951 L -118.446771,32.895424 L -118.369984,32.839273 L -118.353504,32.821962 L -118.356541,32.817311 L -118.36053,32.819921 L -118.379968,32.824545 L -118.387375,32.825327 L -118.394565,32.823978 L -118.401268,32.820338 L -118.425634,32.800595 L -118.42943,32.805429 L -118.428372,32.806872 L -118.44492,32.820593 L -118.476074,32.841754 L -118.487908,32.84459 L -118.496298,32.851572 L -118.506902,32.868503 L -118.508095,32.871321 L -118.507193,32.876264 L -118.524641,32.893175 L -118.524531,32.895488 z\" /><path fill-rule=\"evenodd\" fill=\"#66cc99\" stroke=\"#555555\" stroke-width=\"0.2220070031999998\" opacity=\"0.6\" d=\"M -118.500212,33.449592 L -118.499669,33.447879 L -118.48557,33.446213 L -118.477646,33.448392 L -118.445812,33.428907 L -118.423576,33.427258 L -118.382037,33.409883 L -118.370323,33.409285 L -118.368301,33.40711 L -118.365094,33.388374 L -118.32446,33.348782 L -118.316083,33.342928 L -118.310213,33.335795 L -118.303174,33.320264 L -118.305084,33.310323 L -118.316787,33.301137 L -118.325244,33.299075 L -118.343249,33.305234 L -118.360332,33.31533 L -118.374768,33.320065 L -118.402941,33.320901 L -118.440047,33.318638 L -118.456309,33.32182 L -118.465368,33.326056 L -118.481886,33.344123 L -118.48877,33.356649 L -118.482609,33.369914 L -118.478465,33.38632 L -118.484949,33.412131 L -118.48875,33.419826 L -118.503952,33.424234 L -118.515914,33.422417 L -118.516267,33.425075 L -118.52323,33.430733 L -118.53738,33.434608 L -118.558715,33.433419 L -118.563442,33.434381 L -118.570927,33.439351 L -118.575901,33.448261 L -118.593969,33.467198 L -118.601185,33.469853 L -118.60403,33.47654 L -118.603375,33.478098 L -118.598783,33.477939 L -118.585936,33.473819 L -118.54453,33.474119 L -118.530702,33.468071 L -118.500212,33.449592 z\" /><path fill-rule=\"evenodd\" fill=\"#66cc99\" stroke=\"#555555\" stroke-width=\"0.2220070031999998\" opacity=\"0.6\" d=\"M -122.418698,37.852717 L -122.434403,37.852434 L -122.443302,37.855448 L -122.446316,37.861046 L -122.438565,37.868367 L -122.430958,37.872242 L -122.421439,37.869969 L -122.421341,37.869946 L -122.41847,37.861764 L -122.41847,37.852721 L -122.418698,37.852717 z\" /><path fill-rule=\"evenodd\" fill=\"#66cc99\" stroke=\"#555555\" stroke-width=\"0.2220070031999998\" opacity=\"0.6\" d=\"M -123.013916,37.700355 L -123.013897,37.704478 L -123.012194,37.706749 L -123.004489,37.706262 L -123.00019,37.702937 L -122.997189,37.697909 L -123.000677,37.690203 L -123.005543,37.689392 L -123.011464,37.691907 L -123.014303,37.696205 L -123.013916,37.700355 z\" /><path fill-rule=\"evenodd\" fill=\"#66cc99\" stroke=\"#555555\" stroke-width=\"0.2220070031999998\" opacity=\"0.6\" d=\"M -122.3785,37.826505 L -122.377879,37.830648 L -122.369941,37.832137 L -122.363244,37.823951 L -122.358779,37.814278 L -122.362661,37.807577 L -122.372422,37.811301 L -122.37267,37.81651 L -122.3785,37.826505 z\" /><path fill-rule=\"evenodd\" fill=\"#66cc99\" stroke=\"#555555\" stroke-width=\"0.2220070031999998\" opacity=\"0.6\" d=\"M -124.065521,41.464739 L -124.066057,41.470258 L -124.075917,41.501757 L -124.081427,41.511228 L -124.081987,41.547761 L -124.092404,41.553615 L -124.101123,41.569192 L -124.101403,41.578524 L -124.097385,41.585251 L -124.100961,41.602499 L -124.114413,41.616768 L -124.116037,41.628849 L -124.120225,41.640354 L -124.135552,41.657307 L -124.139354,41.671652 L -124.138373,41.678881 L -124.143479,41.709284 L -124.147412,41.717955 L -124.154246,41.728801 L -124.164716,41.740126 L -124.17739,41.745756 L -124.185363,41.739351 L -124.19104,41.736079 L -124.194953,41.736778 L -124.203843,41.747035 L -124.23972,41.7708 L -124.242288,41.772034 L -124.248704,41.771459 L -124.255994,41.783014 L -124.245027,41.7923 L -124.230678,41.818681 L -124.219592,41.846432 L -124.208439,41.888192 L -124.203402,41.940964 L -124.204948,41.983441 L -124.211605,41.99846 L -124.100921,41.996956 L -124.100216,41.996842 L -124.087827,41.996891 L -124.086661,41.996869 L -123.821472,41.995473 L -123.624554,41.999837 L -123.518075,42.000436 L -123.501997,42.000527 L -123.498896,42.000474 L -123.49883,42.000525 L -123.347562,41.999108 L -123.230764,42.003845 L -123.230762,42.003845 L -123.154908,42.008036 L -123.045254,42.003049 L -123.001152,42.003 L -122.634739,42.004858 L -122.501135,42.00846 L -122.378193,42.009518 L -122.289533,42.007764 L -122.289527,42.007764 L -122.161328,42.007637 L -122.160438,42.007637 L -122.156666,42.007384 L -122.155408,42.007429 L -122.001119,42.004017 L -121.708199,42.000815 L -121.705045,42.000766 L -121.689159,42.000584 L -121.675348,42.000351 L -121.580865,41.998668 L -121.52025,41.997983 L -121.44754,41.997169 L -121.43961,41.99708 L -121.434977,41.997022 L -121.376101,41.997026 L -121.360253,41.99668 L -121.340517,41.99622 L -121.335734,41.996518 L -121.334385,41.996655 L -121.154347,41.996352 L -121.035195,41.993323 L -120.879481,41.993781 L -120.693941,41.993676 L -120.692219,41.993677 L -120.326005,41.993122 L -120.286424,41.993058 L -119.999168,41.99454 L -119.999866,41.183974 L -119.999358,40.873101 L -119.999232,40.867454 L -119.999231,40.865899 L -119.995926,40.499901 L -119.996155,40.321838 L -119.996155,40.32125 L -119.996182,40.263532 L -119.996183,40.262461 L -119.997124,40.126363 L -119.997234,40.091591 L -119.997175,40.077245 L -119.997291,40.071803 L -120.000607,39.780779 L -120.000502,39.779956 L -120.001319,39.72242 L -120.001319,39.722416 L -120.003116,39.445113 L -120.003117,39.445045 L -120.005318,39.316479 L -120.00532,39.31635 L -120.005413,39.313848 L -120.005414,39.313345 L -120.005743,39.228664 L -120.005746,39.22521 L -120.004504,39.165599 L -120.003402,39.112687 L -120.002461,39.067489 L -120.001014,38.999574 L -119.904315,38.933324 L -119.587679,38.714734 L -119.587066,38.714345 L -119.585437,38.713212 L -119.494183,38.649852 L -119.494022,38.649734 L -119.450612,38.619964 L -119.450623,38.619965 L -119.328498,38.534648 L -119.156863,38.414743 L -119.125982,38.39317 L -118.746598,38.124926 L -118.428581,37.895613 L -118.039798,37.615273 L -118.039849,37.615245 L -117.832726,37.464929 L -117.500909,37.220282 L -117.166187,36.970862 L -117.000895,36.847694 L -116.488233,36.459097 L -116.097216,36.158346 L -116.093601,36.155805 L -115.912858,36.015359 L -115.892975,35.999967 L -115.84608,35.963596 L -115.689302,35.842003 L -115.648029,35.809629 L -115.647683,35.809358 L -115.647202,35.808995 L -115.406079,35.618613 L -115.404537,35.617605 L -115.393996,35.609344 L -115.391535,35.607271 L -115.388866,35.605171 L -115.303743,35.538207 L -115.271342,35.51266 L -115.225273,35.475907 L -115.160599,35.424313 L -115.160068,35.424129 L -115.146788,35.413662 L -115.145813,35.413182 L -114.92548,35.237054 L -114.925381,35.237039 L -114.80503,35.140284 L -114.804249,35.139689 L -114.633013,35.002085 L -114.62919,34.991887 L -114.629015,34.986148 L -114.630877,34.907263 L -114.636725,34.889107 L -114.635176,34.875003 L -114.633051,34.869971 L -114.552682,34.766871 L -114.465607,34.69226 L -114.452547,34.653494 L -114.339627,34.451435 L -114.264317,34.401329 L -114.199482,34.361373 L -114.176909,34.349306 L -114.138282,34.30323 L -114.131489,34.260387 L -114.133264,34.258462 L -114.164476,34.251667 L -114.225861,34.201774 L -114.244191,34.179625 L -114.312592,34.144453 L -114.321618,34.138093 L -114.366521,34.118575 L -114.390565,34.110084 L -114.401352,34.111652 L -114.411681,34.110031 L -114.420499,34.103466 L -114.43338,34.088413 L -114.435429,34.079727 L -114.434949,34.037784 L -114.438266,34.022609 L -114.46361,33.993431 L -114.499883,33.961789 L -114.518434,33.917518 L -114.525539,33.838614 L -114.523365,33.80612 L -114.50434,33.756381 L -114.494197,33.707922 L -114.496489,33.696901 L -114.519113,33.688473 L -114.523959,33.685879 L -114.530348,33.679245 L -114.540617,33.591412 L -114.5403,33.580615 L -114.535965,33.569154 L -114.535664,33.568788 L -114.558898,33.531819 L -114.594534,33.495059 L -114.622918,33.456561 L -114.627125,33.433554 L -114.665278,33.415358 L -114.721233,33.396912 L -114.700103,33.341045 L -114.672088,33.258499 L -114.67536,33.185489 L -114.679359,33.159519 L -114.687074,33.142196 L -114.696829,33.131209 L -114.706175,33.105335 L -114.707819,33.091102 L -114.675104,33.047532 L -114.62387,33.02872 L -114.606282,33.025703 L -114.589778,33.026228 L -114.584765,33.028231 L -114.578287,33.035375 L -114.571653,33.036624 L -114.523578,33.030961 L -114.516912,33.026871 L -114.511343,33.023455 L -114.468605,32.971649 L -114.46289,32.905797 L -114.465715,32.87942 L -114.465715,32.879191 L -114.496284,32.822326 L -114.496827,32.822119 L -114.615733,32.729427 L -114.615585,32.728446 L -114.65826,32.733799 L -114.65884,32.73383 L -114.677091,32.736218 L -114.678632,32.736614 L -114.719633,32.718763 L -115.465164,32.6671 L -115.875842,32.636424 L -116.106159,32.618328 L -116.390091,32.59602 L -117.118865,32.534661 L -117.124862,32.534156 L -117.133363,32.575625 L -117.132963,32.597054 L -117.136664,32.618754 L -117.139464,32.627054 L -117.159865,32.660652 L -117.168866,32.671952 L -117.180366,32.681652 L -117.192967,32.687751 L -117.196767,32.688851 L -117.213068,32.687751 L -117.223868,32.683051 L -117.236239,32.671353 L -117.246069,32.669352 L -117.255169,32.700051 L -117.25757,32.72605 L -117.25537,32.745449 L -117.25257,32.752949 L -117.25497,32.786948 L -117.26107,32.803148 L -117.280971,32.822247 L -117.28217,32.839547 L -117.28117,32.843047 L -117.27387,32.851447 L -117.26497,32.848947 L -117.26067,32.852647 L -117.25617,32.859447 L -117.25167,32.874346 L -117.25447,32.900146 L -117.26047,32.931245 L -117.262547,32.939542 L -117.28077,33.012343 L -117.29337,33.034642 L -117.309771,33.07454 L -117.315278,33.093504 L -117.328359,33.121842 L -117.359484,33.164231 L -117.362572,33.168437 L -117.39148,33.202762 L -117.401926,33.213598 L -117.445583,33.268517 L -117.469794,33.296417 L -117.50565,33.334063 L -117.547693,33.365491 L -117.571722,33.378988 L -117.59588,33.386629 L -117.607905,33.406317 L -117.631682,33.430528 L -117.645582,33.440728 L -117.645592,33.440733 L -117.684584,33.461927 L -117.689284,33.460155 L -117.691984,33.456627 L -117.691384,33.454028 L -117.715349,33.460556 L -117.726486,33.483427 L -117.761387,33.516326 L -117.784888,33.541525 L -117.801288,33.546324 L -117.814188,33.552224 L -117.840289,33.573523 L -117.87679,33.592322 L -117.89979,33.599622 L -117.927091,33.605521 L -117.940591,33.620021 L -117.957114,33.629466 L -118.000593,33.654319 L -118.029694,33.676418 L -118.064895,33.711018 L -118.088896,33.729817 L -118.101097,33.734117 L -118.116703,33.743549 L -118.132698,33.753217 L -118.1569,33.760317 L -118.1755,33.763617 L -118.180831,33.763072 L -118.187701,33.749218 L -118.1837,33.736118 L -118.181367,33.717367 L -118.207476,33.716905 L -118.258687,33.703741 L -118.277208,33.707091 L -118.297104,33.708319 L -118.317205,33.712818 L -118.354705,33.732317 L -118.360505,33.736817 L -118.385006,33.741417 L -118.396606,33.735917 L -118.411211,33.741985 L -118.428407,33.774715 L -118.423407,33.782015 L -118.405007,33.800215 L -118.394376,33.804289 L -118.394307,33.804315 L -118.391507,33.815415 L -118.392107,33.840915 L -118.412708,33.883913 L -118.44241,33.940312 L -118.460611,33.969111 L -118.482729,33.995912 L -118.484212,33.99771 L -118.502813,34.015509 L -118.519514,34.027509 L -118.543115,34.038508 L -118.569235,34.04164 L -118.603572,34.039048 L -118.609652,34.036424 L -118.668358,34.038887 L -118.67543,34.037479 L -118.679366,34.033255 L -118.706215,34.029383 L -118.732391,34.032743 L -118.744952,34.032103 L -118.783433,34.021543 L -118.787094,34.019545 L -118.805114,34.001239 L -118.821579,34.013959 L -118.84038,34.027527 L -118.854653,34.034215 L -118.896159,34.039207 L -118.928048,34.045847 L -118.938081,34.043383 L -118.944887,34.04534 L -118.954722,34.048167 L -118.977751,34.059822 L -118.99698,34.065943 L -119.004644,34.066231 L -119.037494,34.083111 L -119.069959,34.09047 L -119.088536,34.09831 L -119.098216,34.099334 L -119.109784,34.094566 L -119.130169,34.100102 L -119.159554,34.119653 L -119.18864,34.139005 L -119.20314,34.144505 L -119.211241,34.144905 L -119.216441,34.146105 L -119.227743,34.161728 L -119.237142,34.175804 L -119.257043,34.213304 L -119.265927,34.234609 L -119.270144,34.252903 L -119.278644,34.266902 L -119.290945,34.274902 L -119.302131,34.272761 L -119.313034,34.275689 L -119.337475,34.290576 L -119.349187,34.304383 L -119.370356,34.319486 L -119.37578,34.321118 L -119.388249,34.317398 L -119.390449,34.318198 L -119.42777,34.353016 L -119.431066,34.355297 L -119.435888,34.355839 L -119.461036,34.374064 L -119.472678,34.375628 L -119.478265,34.377197 L -119.510655,34.386295 L -119.536957,34.395495 L -119.559459,34.413395 L -119.616862,34.420995 L -119.638864,34.415696 L -119.648664,34.417396 L -119.671866,34.416096 L -119.688167,34.412497 L -119.684666,34.408297 L -119.691749,34.403154 L -119.709067,34.395397 L -119.729369,34.395897 L -119.74547,34.402898 L -119.785871,34.415997 L -119.794771,34.417597 L -119.835771,34.415796 L -119.853771,34.407996 L -119.873971,34.408795 L -119.925227,34.433931 L -119.956433,34.435288 L -119.971951,34.444641 L -120.008077,34.460447 L -120.038828,34.463434 L -120.050682,34.461651 L -120.088591,34.460208 L -120.097212,34.461809 L -120.118411,34.469927 L -120.141165,34.473405 L -120.183505,34.470372 L -120.225498,34.470587 L -120.238002,34.468098 L -120.25777,34.467451 L -120.283001,34.468354 L -120.295051,34.470623 L -120.299169,34.469731 L -120.301822,34.467077 L -120.341369,34.458789 L -120.441975,34.451512 L -120.451425,34.447094 L -120.471376,34.447846 L -120.47661,34.475131 L -120.480372,34.481059 L -120.490523,34.490075 L -120.511421,34.522953 L -120.524776,34.531291 L -120.581293,34.556959 L -120.608355,34.556656 L -120.612005,34.553564 L -120.622575,34.554017 L -120.637805,34.56622 L -120.645739,34.581035 L -120.640244,34.604406 L -120.625127,34.634489 L -120.60197,34.692095 L -120.60045,34.70464 L -120.601672,34.709721 L -120.614852,34.730709 L -120.62632,34.738072 L -120.637415,34.755895 L -120.62297,34.7933 L -120.616296,34.816308 L -120.609898,34.842751 L -120.610266,34.85818 L -120.616325,34.866739 L -120.639283,34.880413 L -120.642212,34.894145 L -120.647328,34.901133 L -120.662889,34.901183 L -120.670835,34.904115 L -120.648905,34.974393 L -120.63999,35.002963 L -120.63357,35.033085 L -120.629931,35.061515 L -120.629583,35.078362 L -120.630957,35.101941 L -120.635787,35.123805 L -120.644311,35.139616 L -120.651134,35.147768 L -120.662475,35.153357 L -120.667994,35.15203 L -120.675074,35.153061 L -120.686974,35.160708 L -120.698906,35.171192 L -120.704203,35.173206 L -120.714185,35.175998 L -120.734231,35.178472 L -120.74887,35.177795 L -120.754823,35.174701 L -120.756862,35.169208 L -120.756086,35.160459 L -120.760492,35.15971 L -120.778998,35.168897 L -120.786076,35.177666 L -120.805258,35.184973 L -120.846674,35.204429 L -120.856047,35.206487 L -120.873046,35.225688 L -120.89679,35.247877 L -120.896876,35.25399 L -120.889354,35.277819 L -120.87957,35.294184 L -120.8672,35.327154 L -120.862684,35.346776 L -120.862133,35.360763 L -120.866099,35.393045 L -120.869209,35.403276 L -120.884757,35.430196 L -120.896862,35.442243 L -120.907937,35.449069 L -120.946546,35.446715 L -120.950742,35.44802 L -120.955863,35.453743 L -120.969436,35.460197 L -120.976122,35.459028 L -121.003359,35.46071 L -121.025621,35.484598 L -121.05308,35.50753 L -121.059913,35.509671 L -121.101595,35.548814 L -121.126027,35.593058 L -121.133556,35.600455 L -121.143561,35.606046 L -121.166712,35.635399 L -121.188897,35.643138 L -121.195291,35.640734 L -121.251034,35.656641 L -121.272322,35.666711 L -121.284973,35.674109 L -121.289794,35.689428 L -121.296473,35.696824 L -121.304583,35.701794 L -121.314632,35.71331 L -121.315786,35.75252 L -121.324918,35.769347 L -121.332449,35.783106 L -121.346363,35.795183 L -121.356737,35.804187 L -121.388053,35.823483 L -121.406823,35.844623 L -121.413146,35.855316 L -121.426955,35.860103 L -121.439584,35.86695 L -121.462264,35.885618 L -121.461227,35.896906 L -121.463452,35.904416 L -121.472435,35.91989 L -121.4862,35.970348 L -121.503112,36.000299 L -121.51159,36.006598 L -121.531876,36.014368 L -121.553716,36.019798 L -121.569612,36.021539 L -121.574602,36.025156 L -121.590395,36.050363 L -121.589183,36.053775 L -121.592853,36.065062 L -121.606845,36.072065 L -121.618672,36.087767 L -121.622009,36.099695 L -121.629634,36.114452 L -121.680145,36.165818 L -121.717176,36.195146 L -121.779851,36.227407 L -121.797059,36.234211 L -121.806979,36.232907 L -121.813734,36.234235 L -121.826425,36.24186 L -121.835785,36.250748 L -121.83935,36.260478 L -121.851967,36.277831 L -121.874797,36.289064 L -121.888491,36.30281 L -121.894714,36.317806 L -121.892917,36.340428 L -121.905446,36.358269 L -121.902669,36.363901 L -121.901813,36.381879 L -121.903195,36.393603 L -121.905657,36.398206 L -121.914378,36.404344 L -121.917463,36.414809 L -121.91474,36.42589 L -121.9255,36.453918 L -121.937205,36.472488 L -121.9416,36.485602 L -121.939216,36.496896 L -121.938763,36.506423 L -121.943678,36.511802 L -121.944666,36.521861 L -121.928769,36.523147 L -121.925937,36.525173 L -121.932508,36.559935 L -121.942533,36.566435 L -121.949659,36.567602 L -121.95146,36.564009 L -121.957335,36.564482 L -121.972594,36.57337 L -121.978592,36.580488 L -121.970427,36.582754 L -121.941666,36.618059 L -121.938551,36.633908 L -121.93643,36.636746 L -121.929666,36.636959 L -121.923866,36.634559 L -121.890164,36.609259 L -121.889064,36.601759 L -121.886764,36.601459 L -121.871364,36.604559 L -121.860604,36.611136 L -121.842263,36.630059 L -121.831995,36.644856 L -121.825052,36.657207 L -121.814462,36.682858 L -121.807062,36.714157 L -121.805643,36.750239 L -121.788278,36.803994 L -121.791544,36.815186 L -121.809363,36.848654 L -121.810552,36.850648 L -121.827664,36.879353 L -121.862266,36.931552 L -121.880167,36.950151 L -121.894667,36.961851 L -121.906468,36.96895 L -121.930069,36.97815 L -121.93947,36.97805 L -121.95167,36.97145 L -121.972771,36.954151 L -121.975871,36.954051 L -121.983896,36.958727 L -122.012373,36.96455 L -122.023373,36.96215 L -122.027174,36.95115 L -122.050122,36.948523 L -122.066421,36.948271 L -122.079356,36.950783 L -122.105976,36.955951 L -122.140578,36.97495 L -122.155078,36.98085 L -122.186879,37.00345 L -122.20618,37.013949 L -122.252181,37.059448 L -122.260481,37.072548 L -122.284882,37.101747 L -122.292974,37.107318 L -122.306139,37.116383 L -122.313907,37.118161 L -122.322971,37.11546 L -122.330463,37.115338 L -122.337071,37.117382 L -122.338856,37.120854 L -122.337085,37.130795 L -122.337833,37.135936 L -122.344029,37.144099 L -122.359791,37.155574 L -122.36179,37.163593 L -122.367085,37.172817 L -122.37927,37.181128 L -122.390599,37.182988 L -122.397065,37.187249 L -122.405073,37.195791 L -122.407181,37.219465 L -122.408982,37.225258 L -122.415822,37.232839 L -122.419113,37.24147 L -122.418452,37.248521 L -122.411686,37.265844 L -122.401323,37.337009 L -122.40085,37.359225 L -122.409258,37.374805 L -122.423286,37.392542 L -122.443687,37.435941 L -122.445987,37.461541 L -122.452087,37.48054 L -122.467888,37.49814 L -122.472388,37.50054 L -122.476443,37.498768 L -122.482351,37.496187 L -122.485888,37.494641 L -122.486749,37.49439 L -122.487139,37.494277 L -122.493789,37.492341 L -122.494429,37.49269 L -122.499289,37.495341 L -122.516689,37.52134 L -122.519533,37.537302 L -122.516589,37.544939 L -122.514789,37.546139 L -122.513688,37.552239 L -122.518088,37.576138 L -122.517187,37.590637 L -122.501386,37.599637 L -122.496786,37.612136 L -122.494085,37.644035 L -122.496784,37.686433 L -122.502427,37.708133 L -122.506483,37.723731 L -122.509397,37.748841 L -122.511983,37.77113 L -122.514483,37.780829 L -122.50531,37.788312 L -122.492883,37.787929 L -122.485783,37.790629 L -122.478083,37.810828 L -122.470336,37.808671 L -122.463793,37.804653 L -122.425942,37.810979 L -122.407452,37.811441 L -122.398139,37.80563 L -122.385323,37.790724 L -122.375854,37.734979 L -122.370094,37.732331 L -122.367697,37.734943 L -122.365478,37.734621 L -122.356784,37.729505 L -122.361749,37.71501 L -122.370411,37.717572 L -122.391374,37.708331 L -122.39319,37.707531 L -122.387626,37.67906 L -122.374291,37.662206 L -122.3756,37.652389 L -122.37789,37.650425 L -122.387381,37.648462 L -122.386072,37.637662 L -122.365455,37.626208 L -122.35531,37.615736 L -122.358583,37.611155 L -122.370364,37.614427 L -122.373309,37.613773 L -122.378545,37.605592 L -122.360219,37.592501 L -122.317676,37.590865 L -122.315385,37.587265 L -122.315713,37.583666 L -122.305895,37.575484 L -122.262698,37.572866 L -122.251898,37.566321 L -122.244372,37.55814 L -122.242832,37.557136 L -122.236323,37.552891 L -122.225135,37.545594 L -122.214264,37.538505 L -122.196593,37.537196 L -122.194957,37.522469 L -122.168449,37.504143 L -122.155686,37.501198 L -122.149632,37.502671 L -122.140142,37.507907 L -122.130979,37.503652 L -122.127706,37.500053 L -122.116112,37.505386 L -122.111344,37.50758 L -122.111998,37.528851 L -122.128688,37.560594 L -122.133924,37.562885 L -122.137524,37.567467 L -122.144396,37.581866 L -122.147014,37.588411 L -122.145378,37.600846 L -122.14636,37.607391 L -122.152905,37.640771 L -122.163049,37.667933 L -122.170904,37.676114 L -122.179085,37.680041 L -122.197411,37.692804 L -122.203971,37.697769 L -122.213774,37.698695 L -122.221628,37.705567 L -122.246826,37.72193 L -122.255989,37.735674 L -122.257953,37.739601 L -122.257134,37.745001 L -122.252226,37.747619 L -122.244938,37.750294 L -122.242638,37.753744 L -122.253753,37.761218 L -122.264101,37.764667 L -122.275408,37.76735 L -122.286139,37.769458 L -122.293996,37.770416 L -122.304345,37.774632 L -122.318909,37.77904 L -122.329159,37.783173 L -122.33079,37.78383 L -122.330963,37.786035 L -122.331748,37.796052 L -122.33555,37.799538 L -122.335675,37.799652 L -122.333711,37.809797 L -122.323567,37.823214 L -122.317676,37.826814 L -122.306222,37.827469 L -122.303931,37.830087 L -122.301313,37.847758 L -122.310477,37.873938 L -122.309986,37.892755 L -122.313258,37.89701 L -122.313496,37.897211 L -122.32373,37.905845 L -122.33453,37.908791 L -122.35711,37.908791 L -122.362346,37.904209 L -122.367582,37.903882 L -122.378709,37.905191 L -122.385908,37.908136 L -122.389181,37.9101 L -122.39049,37.922535 L -122.395071,37.927117 L -122.401289,37.928426 L -122.413725,37.937262 L -122.417371,37.943513 L -122.430087,37.963115 L -122.42976,37.965405 L -122.415361,37.963115 L -122.411761,37.960497 L -122.408383,37.957544 L -122.399832,37.956009 L -122.367582,37.978168 L -122.361905,37.989991 L -122.363001,37.994375 L -122.366928,37.998458 L -122.368891,38.007948 L -122.367909,38.01253 L -122.363655,38.014166 L -122.359493,38.009941 L -122.340093,38.003694 L -122.331912,38.00533 L -122.321112,38.012857 L -122.315549,38.013511 L -122.300823,38.010893 L -122.283478,38.022674 L -122.262861,38.0446 L -122.262861,38.051473 L -122.266669,38.06007 L -122.273006,38.07438 L -122.282824,38.082889 L -122.301804,38.105142 L -122.314567,38.115287 L -122.366273,38.141467 L -122.39638,38.149976 L -122.403514,38.150624 L -122.40358,38.15063 L -122.409798,38.136231 L -122.439577,38.116923 L -122.450377,38.116269 L -122.454958,38.118887 L -122.484411,38.11496 L -122.489974,38.112014 L -122.490727,38.109755 L -122.491283,38.108087 L -122.489974,38.096961 L -122.486702,38.090088 L -122.483757,38.071762 L -122.492265,38.056381 L -122.499465,38.032165 L -122.497828,38.019402 L -122.494556,38.015148 L -122.481466,38.007621 L -122.462812,38.003367 L -122.452995,37.996167 L -122.448413,37.988313 L -122.448413,37.984713 L -122.456595,37.978823 L -122.462485,37.981441 L -122.471975,37.981768 L -122.488665,37.966714 L -122.490302,37.964751 L -122.490302,37.959188 L -122.487684,37.948716 L -122.480484,37.945443 L -122.479175,37.941516 L -122.48572,37.937589 L -122.499465,37.939225 L -122.503064,37.936607 L -122.503064,37.928753 L -122.493574,37.921881 L -122.486375,37.921881 L -122.478193,37.918608 L -122.471975,37.910427 L -122.472303,37.902573 L -122.458558,37.894064 L -122.448413,37.89341 L -122.43925,37.88392 L -122.438268,37.880974 L -122.45005,37.871157 L -122.462158,37.868866 L -122.474266,37.874429 L -122.480811,37.873448 L -122.483429,37.868866 L -122.483102,37.863957 L -122.476536,37.832812 L -122.476473,37.832513 L -122.479151,37.825428 L -122.47986,37.825641 L -122.483483,37.826728 L -122.492474,37.82484 L -122.505383,37.822128 L -122.522836,37.824717 L -122.523585,37.824828 L -122.537285,37.830328 L -122.548986,37.836227 L -122.561487,37.851827 L -122.584289,37.859227 L -122.60129,37.875126 L -122.627113,37.88608 L -122.639977,37.897349 L -122.656519,37.904519 L -122.678474,37.906604 L -122.682171,37.90645 L -122.693569,37.901171 L -122.70264,37.89382 L -122.727297,37.904626 L -122.732898,37.920225 L -122.736898,37.925825 L -122.754606,37.935527 L -122.766138,37.938004 L -122.783244,37.951334 L -122.791739,37.969422 L -122.797405,37.976657 L -122.821383,37.996735 L -122.856573,38.016717 L -122.882114,38.025273 L -122.939711,38.031908 L -122.956811,38.02872 L -122.972378,38.020247 L -122.981776,38.009119 L -122.982386,38.004274 L -122.980147,38.000831 L -122.976764,37.99568 L -122.97439,37.992429 L -123.024066,37.994878 L -123.020562,37.999544 L -123.016303,38.001691 L -123.011533,38.003438 L -122.99242,38.041758 L -122.960889,38.112962 L -122.952086,38.138562 L -122.949074,38.15406 L -122.949626,38.164041 L -122.953629,38.17567 L -122.965408,38.187113 L -122.96637,38.198514 L -122.968112,38.202428 L -122.991953,38.233185 L -122.993959,38.237602 L -122.993235,38.239686 L -122.987149,38.237538 L -122.968569,38.242879 L -122.967203,38.250691 L -122.977082,38.267902 L -122.986319,38.273164 L -122.994603,38.283096 L -122.997106,38.289458 L -123.002911,38.295708 L -123.004122,38.297012 L -123.024333,38.310573 L -123.038742,38.313576 L -123.051061,38.310693 L -123.053476,38.305722 L -123.052021,38.302246 L -123.053504,38.299385 L -123.058239,38.298355 L -123.063671,38.302178 L -123.074684,38.322574 L -123.068437,38.33521 L -123.068265,38.359865 L -123.085572,38.390525 L -123.103706,38.415541 L -123.122379,38.437314 L -123.128825,38.450418 L -123.145325,38.459422 L -123.166428,38.474947 L -123.202277,38.494314 L -123.249797,38.511045 L -123.287156,38.540223 L -123.297151,38.543452 L -123.331899,38.565542 L -123.343338,38.590008 L -123.349612,38.596805 L -123.371876,38.607235 L -123.379303,38.621953 L -123.398166,38.647044 L -123.40301,38.649449 L -123.405663,38.656729 L -123.43272,38.687131 L -123.441774,38.699744 L -123.461291,38.717001 L -123.490021,38.732213 L -123.514784,38.741966 L -123.525152,38.753801 L -123.533535,38.768408 L -123.541837,38.776764 L -123.571987,38.798189 L -123.579856,38.802835 L -123.58638,38.802857 L -123.600221,38.814115 L -123.601569,38.81899 L -123.605317,38.822765 L -123.638637,38.843865 L -123.642676,38.844005 L -123.647387,38.845472 L -123.652212,38.854582 L -123.654696,38.865638 L -123.659846,38.872529 L -123.688099,38.893594 L -123.71054,38.91323 L -123.725367,38.917438 L -123.72763,38.9295 L -123.726315,38.936367 L -123.738886,38.95412 L -123.732892,38.954994 L -123.729053,38.956667 L -123.721347,38.963879 L -123.711149,38.977316 L -123.6969,39.004401 L -123.69074,39.021293 L -123.690095,39.031157 L -123.693969,39.057363 L -123.713392,39.108422 L -123.721505,39.125327 L -123.735936,39.139644 L -123.737913,39.143442 L -123.742221,39.164885 L -123.76101,39.191595 L -123.765891,39.193657 L -123.774998,39.212083 L -123.777368,39.237214 L -123.787893,39.264327 L -123.798991,39.271355 L -123.803848,39.278771 L -123.801757,39.28353 L -123.803081,39.291747 L -123.811387,39.312825 L -123.808772,39.324368 L -123.817369,39.3388 L -123.822085,39.343857 L -123.825331,39.360814 L -123.826306,39.36871 L -123.822325,39.379987 L -123.821887,39.406809 L -123.81469,39.446538 L -123.795639,39.492215 L -123.78417,39.509419 L -123.778521,39.521478 L -123.766475,39.552803 L -123.76721,39.559852 L -123.787417,39.604552 L -123.78354,39.609517 L -123.782322,39.621486 L -123.78636,39.659932 L -123.792659,39.684122 L -123.808208,39.710715 L -123.824744,39.718128 L -123.829545,39.723071 L -123.831599,39.730629 L -123.835092,39.738768 L -123.838089,39.752409 L -123.83715,39.776232 L -123.839797,39.795637 L -123.851714,39.832041 L -123.853764,39.8341 L -123.881458,39.845422 L -123.907664,39.863028 L -123.915142,39.875313 L -123.915853,39.881114 L -123.930047,39.909697 L -123.954952,39.922373 L -123.962655,39.937635 L -123.980031,39.962458 L -123.99586,39.973045 L -124.023938,40.001284 L -124.035904,40.013319 L -124.056408,40.024305 L -124.065069,40.024785 L -124.068908,40.021307 L -124.072509,40.022657 L -124.079983,40.029773 L -124.080709,40.06611 L -124.087086,40.078442 L -124.110549,40.103765 L -124.139952,40.11635 L -124.170767,40.124207 L -124.187874,40.130542 L -124.214895,40.160902 L -124.231095,40.171581 L -124.258405,40.184277 L -124.296497,40.208816 L -124.320912,40.226617 L -124.327691,40.23737 L -124.34307,40.243979 L -124.352715,40.250453 L -124.363414,40.260974 L -124.363634,40.276212 L -124.347853,40.314634 L -124.353124,40.331425 L -124.356595,40.335016 L -124.362796,40.350046 L -124.365357,40.374855 L -124.373599,40.392923 L -124.379082,40.398828 L -124.391496,40.407047 L -124.402623,40.422105 L -124.409591,40.438076 L -124.408601,40.443201 L -124.396642,40.462119 L -124.38494,40.48982 L -124.383224,40.499852 L -124.387023,40.504954 L -124.382816,40.519 L -124.379096,40.522865 L -124.363545,40.548698 L -124.329404,40.61643 L -124.315141,40.639526 L -124.312558,40.641333 L -124.289119,40.67963 L -124.248406,40.735166 L -124.228244,40.76939 L -124.201921,40.805111 L -124.176715,40.843618 L -124.158322,40.876069 L -124.137066,40.925732 L -124.118147,40.989263 L -124.112165,41.028173 L -124.125448,41.048504 L -124.132946,41.052482 L -124.138217,41.054342 L -124.142867,41.054032 L -124.147216,41.052884 L -124.148939,41.051467 L -124.151266,41.051101 L -124.153622,41.05355 L -124.154028,41.059923 L -124.154513,41.087159 L -124.160556,41.099011 L -124.159065,41.121957 L -124.165414,41.129822 L -124.163988,41.138675 L -124.158539,41.143021 L -124.149674,41.140845 L -124.1438,41.144686 L -124.122677,41.189726 L -124.106986,41.229678 L -124.106389,41.240682 L -124.092284,41.287695 L -124.079015,41.347135 L -124.072294,41.374844 L -124.063076,41.439579 L -124.065521,41.464739 z\" /></g></g></svg>"
      ],
      "text/plain": [
       "<MULTIPOLYGON (((-120.248 33.999, -120.247 34.002, -120.239 34.008, -120.23 ...>"
      ]
     },
     "execution_count": 22,
     "metadata": {},
     "output_type": "execute_result"
    }
   ],
   "source": [
    "ca_geom"
   ]
  },
  {
   "cell_type": "code",
   "execution_count": 23,
   "id": "5f216da7",
   "metadata": {},
   "outputs": [
    {
     "data": {
      "image/svg+xml": [
       "<svg xmlns=\"http://www.w3.org/2000/svg\" xmlns:xlink=\"http://www.w3.org/1999/xlink\" width=\"100.0\" height=\"100.0\" viewBox=\"-125.68464426821924 31.259129229659667 12.827500608579783 12.025451763999467\" preserveAspectRatio=\"xMinYMin meet\"><g transform=\"matrix(1,0,0,-1,0,74.5437102233188)\"><path fill-rule=\"evenodd\" fill=\"#66cc99\" stroke=\"#555555\" stroke-width=\"0.2565500121715957\" opacity=\"0.6\" d=\"M -125.15251984322012,40.73738398404048 L -125.14917906664363,40.74853790555068 L -125.12399147530776,40.820096188621385 L -125.0921390920779,40.88894695706959 L -125.06116202667415,40.94203891246489 L -125.04378180688602,40.97651936255979 L -125.01007107398743,41.03677787306393 L -124.99580807398743,41.05987387306393 L -124.98624435902491,41.07498010952876 L -124.96506694322329,41.107617842343615 L -124.96512870961746,41.10845887238596 L -124.9636458447645,41.18298140183881 L -124.95523357131871,41.25704245732478 L -124.95380757131872,41.26589545732478 L -124.9387340200378,41.338095672036744 L -124.93297879679793,41.356830276558775 L -124.97017910422973,41.42254259073657 L -125.00126914472837,41.49221345211517 L -125.02558111792598,41.56452906248169 L -125.04289391328145,41.63883173175018 L -125.05305007580256,41.71444569809429 L -125.05595723805486,41.79068327381048 L -125.05158896021739,41.86685109964382 L -125.03998497054538,41.94225645069489 L -125.021250804053,42.01621353655743 L -125.00935093992938,42.0494836512461 L -125.00883881432162,42.06492988267027 L -124.9982083850726,42.144251339222635 L -124.97970590016062,42.22211376628274 L -124.95351652607987,42.29773794350713 L -124.9199023570629,42.370367050185564 L -124.87919979213189,42.43927423924189 L -124.83181616853305,42.50376991126919 L -124.77822568524594,42.56320861580303 L -124.7189646573633,42.61699551076733 L -124.65462614883451,42.664592315448935 L -124.58585403728586,42.705522697425494 L -124.5133365703151,42.73937703953627 L -124.43779947774665,42.76581653918952 L -124.35999870877754,42.78457659898214 L -124.28071286669827,42.795469474699274 L -124.20073541689938,42.798386154193764 L -124.09350045268525,42.79692902049622 L -124.08385576437222,42.79688114324402 L -123.82820624023564,42.795520187950046 L -123.64227885498948,42.7996406193439 L -123.62905434671325,42.79982434169952 L -123.52258910028945,42.80042326432847 L -123.50652485383557,42.80051418648466 L -123.50149179012412,42.80052684047685 L -123.49832479012412,42.800524840476854 L -123.49133634458872,42.800489902435466 L -123.36003248884302,42.79925991616215 L -123.26904172593132,42.80295024685199 L -123.19904023050458,42.806817788870205 L -123.11856203550818,42.807209930296246 L -123.02662744134196,42.80302879854449 L -123.00273587735434,42.80300225356614 L -122.64754901089363,42.80480332830389 L -122.5226953822951,42.80816941592261 L -122.50801929227183,42.80843037852655 L -122.38507729227182,42.80948837852655 L -122.3623693423737,42.80936149210288 L -122.2812049586685,42.80775578119583 L -122.16093174115268,42.807637 L -122.160438,42.807637 L -122.14226532303373,42.807430569498955 L -121.98765993034931,42.803917670714014 L -121.69945447259892,42.800767206847716 L -121.698493831892,42.80075612890387 L -121.679453831892,42.80052512890387 L -121.67566443195194,42.80047017729849 L -121.66185343195194,42.8002371772985 L -121.56922087079361,42.79858749353983 L -121.51125217241265,42.797932398952824 L -121.44226142403458,42.797160036565536 L -121.37449963700764,42.797024397271244 L -121.35863923481476,42.79683540651921 L -121.34279123481475,42.79648940651921 L -121.34161193376343,42.79646278966827 L -121.33979106840371,42.796420349555504 L -121.3330386194764,42.796653867036376 L -121.1530006194764,42.79635086703638 L -121.13401651967871,42.79609362800864 L -121.0262044634101,42.79335290424036 L -120.88183402166224,42.793777539548174 L -120.8790282675081,42.7937808718958 L -120.69394692175045,42.79367613145544 L -120.69268357599482,42.7936768651057 L -120.69100659553125,42.793676081296596 L -120.32479259553125,42.7931210812966 L -120.28784087914472,42.79306133679887 L -120.00329527400574,42.79452935343496 L -119.92456302573648,42.79105371476902 L -119.84655477759101,42.77984834985116 L -119.77002755658891,42.76102200056712 L -119.69572401719829,42.73475736625226 L -119.62436523428373,42.70130933069527 L -119.55664370547257,42.66100248863158 L -119.49321663084731,42.61422799573054 L -119.4346995351814,42.56143977264533 L -119.38166029461073,42.5031500999635 L -119.33461362570908,42.43992464680635 L -119.29401609044763,42.37237698132217 L -119.26026166551283,42.30116261634579 L -119.23367791898004,42.22697264800809 L -119.21452283144599,42.15052704902927 L -119.20298229246944,42.07256768178069 L -119.19916829661548,41.99385109891981 L -119.19986543713075,41.18428319219199 L -119.19937054778367,40.88143331818638 L -119.19926435932064,40.8746494058873 L -119.19595835932063,40.507096405887296 L -119.19592666158103,40.49887215151097 L -119.196155,40.32132357553849 L -119.196155,40.32125 L -119.19618208753161,40.263157766699486 L -119.19618334872314,40.26171403487464 L -119.19620212142178,40.256929823886175 L -119.19713274887545,40.12233201815857 L -119.19722879593539,40.091970669356925 L -119.19718176545256,40.0805350878882 L -119.19722859954638,40.06798452478071 L -119.20066059954638,39.77151852478072 L -119.20074748026855,39.77151953054407 L -119.20058264159378,39.76859730082355 L -119.20135575669438,39.71415182906285 L -119.20313279706225,39.439928887979256 L -119.2032024911615,39.43334956607599 L -119.2032034911615,39.43328156607599 L -119.20323420667947,39.4313513171593 L -119.20340172492068,39.421566151234956 L -119.13318221013698,39.373090034379736 L -119.13319745094924,39.37306795747855 L -119.13079270801424,39.371471078481505 L -119.03977603167078,39.3082739540624 L -118.9980786860692,39.27967120761775 L -118.99243269197848,39.27576253743426 L -118.8703305983779,39.190454855942974 L -118.69871184692528,39.07056120725287 L -118.6678351900419,39.04899124128852 L -118.66412588876504,39.04638430825949 L -118.28474188876505,38.778140308259495 L -118.27869641703094,38.773823610301534 L -117.96067960771097,38.54451074779547 L -117.57189679788868,38.26417088492703 L -117.5697797903782,38.2626391117358 L -117.3627077903782,38.1122951117358 L -117.35797780472487,38.10883438985398 L -117.02616080472487,37.86418738985398 L -117.02290016560985,37.861770545684934 L -116.688178509868,37.61235080221085 L -116.52288684658488,37.48918305311678 L -116.51763764921232,37.48523798507842 L -116.00497564921231,37.09664098507842 L -116.00049628996621,37.093220727426605 L -115.61035029315583,36.79313966014125 L -115.60273577211359,36.787510095793934 L -115.42256853582983,36.64751149188059 L -115.40326211414379,36.6325658376739 L -115.3557940025461,36.59575076009132 L -115.19901785199876,36.47415919447942 L -115.1955615395155,36.47146337022242 L -115.15428853951549,36.43908937022242 L -115.15429269826357,36.43908406831318 L -115.15145170060852,36.43687368306964 L -114.91384729008004,36.249269834058005 L -114.91106367304144,36.24727481472867 L -114.90052267304144,36.23901381472867 L -114.89877548876001,36.23764062202434 L -114.80852248876,36.16650362202434 L -114.77601768267967,36.14087478864409 L -114.77243235353085,36.1380312214837 L -114.7263684545036,36.101282290945846 L -114.66716361051598,36.05405133691955 L -114.66485434648821,36.05243102719354 L -114.65157434648822,36.04196402719354 L -114.65163811477073,36.04188312122319 L -114.64629633782621,36.03806847305791 L -114.4259633378262,35.86194047305791 L -114.42600606281782,35.8618870248522 L -114.42412843642332,35.86053388170137 L -114.30466091481381,35.764489145443854 L -114.3031280522607,35.76328967009014 L -114.13189205226071,35.62568567009014 L -114.06813669594986,35.56857839018443 L -114.01084739649893,35.50498654286912 L -113.96067993618283,35.435638054767466 L -113.91820857462015,35.361326747932196 L -113.88391947530691,35.28290325307996 L -113.8800964753069,35.272705253079955 L -113.86231010472963,35.21600438293443 L -113.8274739687524,35.17473925803163 L -113.77940059576467,35.10350295834265 L -113.73924610856741,35.02752087662782 L -113.73462015885524,35.01589478067446 L -113.73416792311787,35.015624496547446 L -113.67261907426078,34.97034679640386 L -113.61567055582414,34.919403718622924 L -113.563841874521,34.863259985933496 L -113.52521487452101,34.8171839859335 L -113.48146959846399,34.75995471926587 L -113.44304946809496,34.69902252971841 L -113.41026597691054,34.63488142864912 L -113.38338491901924,34.568051443857385 L -113.36262423419986,34.49907440342761 L -113.3481522409418,34.42850954282576 L -113.3413592409418,34.38566654282576 L -113.33278872131888,34.30597060269552 L -113.33223627477204,34.225817053287756 L -113.33970744725752,34.14601054815476 L -113.3551272364139,34.0673522569057 L -113.37834084450346,33.99063182234414 L -113.40911523241125,33.9166194333221 L -113.44714145910187,33.84605809289035 L -113.49203778304775,33.77965615936432 L -113.54335349449477,33.718080235185006 L -113.54512849449476,33.716155235185006 L -113.60336045172863,33.65912717744301 L -113.66709277485104,33.608320177900296 L -113.70491934123179,33.584015724703384 L -113.71095536145371,33.545033892247105 L -113.71324736145371,33.5340128922471 L -113.73364223510907,33.45593458471468 L -113.75470489361369,33.399362838939155 L -113.76524387188552,33.35325882286599 L -113.76546176657195,33.35260313536281 L -113.76225285245916,33.34723739660516 L -113.7281233439828,33.27444747605633 L -113.70147176986602,33.19859967134558 L -113.68256727752144,33.120459950002754 L -113.6716007785695,33.04081742503601 L -113.6658857785695,32.97496542503601 L -113.66293050346768,32.89774691256278 L -113.66743914085318,32.820603510327516 L -113.67026414085318,32.79422651032752 L -113.67052056396507,32.79425397346931 L -113.68123553829798,32.72237271609243 L -113.70049474540815,32.64587155811315 L -113.72719493541929,32.57163919263789 L -113.7610764763416,32.50039745335948 L -113.7916454763416,32.44353245335948 L -113.83483614632644,32.37234073705172 L -113.88519287460564,32.3060241149906 L -113.9421701015431,32.2453010546667 L -114.00515054169837,32.19082942349567 L -114.11399381041366,32.10617881260415 L -114.13004140003446,32.09264146043418 L -114.19398317445868,32.048554905264794 L -114.26189866128028,32.01087650942571 L -114.33314773847984,31.979961402092336 L -114.40705886403781,31.956100966598036 L -114.4829354054015,31.939520094066584 L -114.56006220543733,31.930375063751878 L -114.59080399774706,31.929732518235234 L -114.6643280959913,31.92067693472096 L -115.407715743372,31.86916246245001 L -115.81471495409541,31.838761253258987 L -116.0434961420948,31.820785921963264 L -116.32520060886753,31.798652935032745 L -117.05174109336251,31.73748198548168 L -117.05773257401748,31.736977450258944 L -117.13512588484267,31.734221844792252 L -117.2124230147608,31.73896226970904 L -117.28889962711162,31.75115430339163 L -117.36383907414843,31.77068369661798 L -117.43653911260753,31.797367443169332 L -117.50631848429586,31.8309554947466 L -117.57252330003148,31.871133104125267 L -117.63453316711453,31.917523774591604 L -117.69176700290873,31.969692788021547 L -117.74368848005608,32.027151278541325 L -117.77717588376296,32.07231866001074 L -117.81330433200907,32.10522074034444 L -117.8662320489079,32.163983033037 L -117.87680192659744,32.17834939516644 L -117.90823729603683,32.15472229724927 L -117.9761831135901,32.11351566167657 L -118.04788176844576,32.079253089821975 L -118.12262583899884,32.05227263661303 L -118.19967785576038,32.0328405072603 L -118.20635447862158,32.031847328357905 L -118.2208553029591,32.02724793351676 L -118.29638306519753,32.01110516735319 L -118.37311549295497,32.002320732333956 L -118.45033741221698,32.00097650257461 L -118.52732908673111,32.00708500678331 L -118.60337292620927,32.020589311488706 L -118.67776017452918,32.04136355168053 L -118.74979751559809,32.069214103917055 L -118.81881353530977,32.103881390965704 L -118.88416497936721,32.14504230115685 L -118.91629823479919,32.16991170751877 L -118.94113205203269,32.18535714382619 L -118.9996372726481,32.229664678099 L -119.00802727264809,32.236646678099 L -119.07006650258553,32.29408683836719 L -119.1256972421332,32.35775361840393 L -119.15642802988208,32.401498207357285 L -119.15643942741245,32.40149001261056 L -119.172252115749,32.423482833324194 L -119.19875441513474,32.45865635256236 L -119.22838115581236,32.44887030095809 L -119.29971892761479,32.43235756766549 L -119.32017492761479,32.42859956766549 L -119.39525229479801,32.41845424420507 L -119.4709526952261,32.415456240484644 L -119.4822566952261,32.41554424048464 L -119.55978640852685,32.4199166462383 L -119.63652697334749,32.43178509548741 L -119.6611819733475,32.43683409548741 L -119.67552354517962,32.43990829685081 L -119.6864985451796,32.442366296850814 L -119.74389903427047,32.45747846040108 L -119.77811203427048,32.46785746040108 L -119.8629938851523,32.49894448980532 L -119.94382681695593,32.5394089080309 L -120.01957877855197,32.58873407727193 L -120.03867777855197,32.602768077271925 L -120.10560623701136,32.65776759899951 L -120.16619543818999,32.719681366794305 L -120.21973493906009,32.78778340632759 L -120.2655969583609,32.86127518224615 L -120.27126795836091,32.87156418224615 L -120.31415225905587,32.962445247181336 L -120.32245225905586,32.983344247181336 L -120.34790944416116,33.0579720011687 L -120.36589638696779,33.13474334886532 L -120.36592704876868,33.13497510431377 L -120.4013050073259,33.146121142424356 L -120.47714782113663,33.178955411226404 L -120.52430482113664,33.2023334112264 L -120.58581748526758,33.236271203546664 L -120.59231837000233,33.24064284333511 L -120.6063439252095,33.24269438267849 L -120.67814252602373,33.26008348680828 L -120.74803095712723,33.28402147375808 L -120.81541326457756,33.31430421907596 L -120.87971486469696,33.350673495167214 L -120.88521586469697,33.354129495167214 L -120.95506691766695,33.40340706522786 L -121.01926118434069,33.459856552721725 L -121.07706570175178,33.52283342370598 L -121.08275970175177,33.529744423705985 L -121.12946730133966,33.59244316068359 L -121.16983162108343,33.65940175363082 L -121.20346713559576,33.72998067145577 L -121.23005258726987,33.80350580482616 L -121.24933405465686,33.87927490468391 L -121.26112737770572,33.9565642895263 L -121.26531991670237,34.0346357573914 L -121.26379323693028,34.06921688824632 L -121.30140784758454,34.11941885779276 L -121.34304062956514,34.188539305772906 L -121.35097462956514,34.203354305772905 L -121.38613859024855,34.27803591293901 L -121.41341978653236,34.35594344087554 L -121.4325277654697,34.43624743654691 L -121.44325909137787,34.518092932599586 L -121.44549951174386,34.60060854988771 L -121.44086748334847,34.66137183609263 L -121.44301199023288,34.663375898729846 L -121.49897647279481,34.721216338869 L -121.54884613213963,34.78438719370529 L -121.59211622966669,34.852249101163856 L -121.62834882196988,34.92411522029455 L -121.64123016220631,34.9576912435641 L -121.67616188517337,34.97612186951563 L -121.68881288517336,34.98351986951563 L -121.75061078508773,35.02358501650778 L -121.80846226185372,35.06916355392751 L -121.86187700644919,35.11986918968063 L -121.91040231251895,35.17527217794086 L -121.93853726009357,35.21408593074352 L -121.96611449496714,35.24901423354138 L -121.98880717299731,35.28441516262481 L -122.02831490397618,35.32029829035974 L -122.08059374028896,35.378007586125165 L -122.12701444379164,35.44052604604124 L -122.13745103081847,35.45788498829677 L -122.15905605814895,35.47888367421987 L -122.20871271628346,35.53740237418623 L -122.21076276122135,35.54035004169913 L -122.22574373133496,35.548488704869435 L -122.23843473133496,35.55611370486944 L -122.31075240331522,35.605128528814596 L -122.37729424500637,35.66173667267544 L -122.38665424500637,35.67062467267544 L -122.41811649144155,35.70338080051423 L -122.4415534059036,35.72445158748393 L -122.4552474059036,35.738197587483924 L -122.50753750221479,35.79607394632349 L -122.5539428582423,35.85876740704085 L -122.59402233835735,35.925681997067734 L -122.62739494156838,35.99618161720627 L -122.63361794156837,36.011177617206265 L -122.65926003888409,36.08228667080037 L -122.67361720234251,36.138149091307874 L -122.6844190039515,36.17605742211661 L -122.68920277430568,36.20205484320888 L -122.69573996296329,36.21827409408157 L -122.70013496296328,36.231388094081574 L -122.70395026881059,36.245161295846756 L -122.7153882896448,36.26882916799672 L -122.7428248455624,36.34395437075544 L -122.76262317995179,36.42144363869342 L -122.76581139629087,36.442520008142225 L -122.76745899845018,36.444003279601866 L -122.7877694363254,36.45641988346546 L -122.85119256762911,36.50445540268301 L -122.90953079186623,36.558553057749805 L -122.96220711622543,36.61817779710245 L -122.97216867243377,36.63201069878223 L -122.98069902474239,36.64010064245609 L -122.9887070247424,36.64864264245609 L -123.03792980353711,36.70641152942854 L -123.08145674625483,36.768584928177184 L -123.11889610182445,36.83460326584817 L -123.14964721098235,36.90328341663798 L -123.17444498199971,36.90742517175434 L -123.24745385072482,36.92684420457889 L -123.3183054062045,36.95306348821659 L -123.3242264062045,36.955578488216595 L -123.39446388072756,36.98954591667983 L -123.46105861404735,37.03019355520715 L -123.52337721855413,37.07713480099491 L -123.58082697722688,37.12992319225876 L -123.63286148101021,37.1880566545658 L -123.67898582575282,37.250982276103024 L -123.68182482575281,37.25528027610302 L -123.72126836569085,37.321772133235335 L -123.7541095561806,37.39176081885639 L -123.78004169334882,37.46459270864126 L -123.79882259697023,37.539587625581746 L -123.81027687218862,37.61604519215935 L -123.81429754752938,37.69325137117082 L -123.81381550541954,37.704041172835005 L -123.81390750558242,37.70404159679889 L -123.81388850558243,37.70816459679889 L -123.81158110040822,37.754055033487546 L -123.81084707390607,37.77048513412149 L -123.81064722931437,37.77262817044075 L -123.81022349915992,37.78105545579292 L -123.80432846006423,37.8224384515766 L -123.81178771989605,37.855255322744426 L -123.82155344085369,37.931523586731224 L -123.82160036653471,37.93302709456885 L -123.822898093601,37.93394094705359 L -123.88032190967417,37.98310546942819 L -123.93284878482423,38.03747064485969 L -123.93512949621348,38.040327784707394 L -123.95586843037168,38.060469198885315 L -123.98719091423753,38.09728418084994 L -124.00584817353877,38.11041554479733 L -124.06367810438694,38.15997350677585 L -124.07038484599471,38.16693113362659 L -124.07491503352125,38.17026417905929 L -124.09584109462816,38.182985075592256 L -124.15834294317939,38.229903950041546 L -124.21596846624101,38.28269751919333 L -124.22533383755146,38.293133138281796 L -124.22823730616139,38.29524714890915 L -124.28829557756845,38.34900909806346 L -124.34263894251848,38.40854179351043 L -124.3907157018091,38.47324085345249 L -124.43203777543683,38.542449446650004 L -124.46618565763342,38.61546496063684 L -124.4812216210762,38.658427103371956 L -124.49525002736344,38.693517893119534 L -124.5169349126271,38.76800205470781 L -124.53130355526147,38.84423634282838 L -124.53822084232696,38.921503902101726 L -124.53791127368618,38.96158735748546 L -124.54153510458158,38.96922659973722 L -124.5666771625284,39.03774886658438 L -124.58330482473193,39.1001537784904 L -124.59032937045247,39.12069654815403 L -124.6078184396149,39.193447685557956 L -124.61106443961492,39.210404685557954 L -124.61930092198834,39.26277440097063 L -124.62027592198834,39.27067040097063 L -124.62593601827123,39.34438236387264 L -124.6247674114286,39.41830208061213 L -124.62223350776584,39.4416180456063 L -124.6241479603362,39.44326554559358 L -124.6316219603362,39.45038154559358 L -124.67639008860377,39.49743085792818 L -124.69965518189099,39.51690235362685 L -124.72974357146569,39.536285399719816 L -124.76780699599284,39.5623897569705 L -124.79222199599285,39.580190756970495 L -124.81307304474038,39.596958596998945 L -124.8582845485583,39.630453458411004 L -124.91363554469311,39.68004249646663 L -124.92433454469311,39.69056349646663 L -124.97715577055071,39.74782583515744 L -125.02415694329363,39.80995430764979 L -125.06489235540293,39.87635975572242 L -125.09897571695424,39.94641246301345 L -125.12608381876731,40.01944812655897 L -125.14595959736697,40.09477415631296 L -125.15493028905817,40.15016285772247 L -125.17120711307761,40.19324770036827 L -125.19190607120973,40.27079441297342 L -125.204730613152,40.3500249034906 L -125.20955165308666,40.43014167500299 L -125.20632066468937,40.51033830970544 L -125.19507016957229,40.589807585927396 L -125.19408016957229,40.594932585927396 L -125.17654449033948,40.667394656567744 L -125.15251984322012,40.73738398404048 z\" /></g></svg>"
      ],
      "text/plain": [
       "<POLYGON ((-125.153 40.737, -125.149 40.749, -125.124 40.82, -125.092 40.889...>"
      ]
     },
     "execution_count": 23,
     "metadata": {},
     "output_type": "execute_result"
    }
   ],
   "source": [
    "ca_geom.buffer(0.8)"
   ]
  },
  {
   "cell_type": "markdown",
   "id": "27e8b610",
   "metadata": {},
   "source": [
    ":::{admonition} 📝 Check your understanding\n",
    ":class: tip\n",
    "\n",
    "In the image below we have a shape `purple`, `tan` and `green`.  What is the operation that was used on `purple` and `tan` to get green shape?\n",
    "\n",
    "<img src=\"https://gisgeography.com/wp-content/uploads/2020/10/Erase-Tool-3D-550x178.jpg\">\n",
    "\n",
    ":::"
   ]
  },
  {
   "cell_type": "markdown",
   "id": "df41e889",
   "metadata": {},
   "source": [
    "## Different Ways to Represent Spatial Objects\n",
    "\n",
    "While Python objects are nice, they aren't great if you are trying to take your objects out of Python.  For example, maybe you drew out a custom shape in QGIS that you want to use or you defined an ROI in ENVI and you want to import those into your Python code.\n",
    "\n",
    "Shapefiles are a really common way to move shapes around.  Opening those is a little more involved so we won't look at those right now, but I will briefly mention two other common representations that are text-based: GeoJSON and WKT."
   ]
  },
  {
   "cell_type": "markdown",
   "id": "174d83da",
   "metadata": {},
   "source": [
    "### geojson\n",
    "\n",
    "Geojson is a specific flavor of the very common JSON format.  JSON format is a way of sending data that looks just like a Python dictionary but it is used much more broadly than just Python.\n",
    "\n",
    "Links:\n",
    "* [geojson.org](https://geojson.org/) - the full specification\n",
    "* [geojson.tools](https://geojson.tools/) - for quick visualization of geojson objects"
   ]
  },
  {
   "cell_type": "code",
   "execution_count": 24,
   "id": "571ae022",
   "metadata": {},
   "outputs": [],
   "source": [
    "armstrong_geojson = {\n",
    "  \"type\": \"Feature\",\n",
    "  \"geometry\": {\n",
    "    \"type\": \"Point\",\n",
    "    \"coordinates\": [-117.89, 34.94]\n",
    "  },\n",
    "  \"properties\": {\n",
    "    \"name\": \"Armstrong Flight Research Center\"\n",
    "  }\n",
    "}"
   ]
  },
  {
   "cell_type": "markdown",
   "id": "58847d79",
   "metadata": {},
   "source": [
    "The geojson acts  just like a Python dictionary."
   ]
  },
  {
   "cell_type": "code",
   "execution_count": 25,
   "id": "cd85b161",
   "metadata": {},
   "outputs": [
    {
     "data": {
      "text/plain": [
       "{'type': 'Point', 'coordinates': [-117.89, 34.94]}"
      ]
     },
     "execution_count": 25,
     "metadata": {},
     "output_type": "execute_result"
    }
   ],
   "source": [
    "armstrong_geojson['geometry']"
   ]
  },
  {
   "cell_type": "code",
   "execution_count": 26,
   "id": "09d90c0c",
   "metadata": {},
   "outputs": [],
   "source": [
    "from shapely.geometry import shape"
   ]
  },
  {
   "cell_type": "code",
   "execution_count": 27,
   "id": "c655a473",
   "metadata": {},
   "outputs": [],
   "source": [
    "armstrong_geometry = shape(armstrong_geojson['geometry'])"
   ]
  },
  {
   "cell_type": "code",
   "execution_count": 28,
   "id": "773f848b",
   "metadata": {},
   "outputs": [
    {
     "data": {
      "text/plain": [
       "[(-117.89, 34.94)]"
      ]
     },
     "execution_count": 28,
     "metadata": {},
     "output_type": "execute_result"
    }
   ],
   "source": [
    "list(armstrong_geometry.coords)"
   ]
  },
  {
   "cell_type": "markdown",
   "id": "fec34fdf",
   "metadata": {},
   "source": [
    "#### Loading a geojson from a file"
   ]
  },
  {
   "cell_type": "code",
   "execution_count": 29,
   "id": "008cd721",
   "metadata": {},
   "outputs": [],
   "source": [
    "import json"
   ]
  },
  {
   "cell_type": "code",
   "execution_count": 30,
   "id": "cfec9d74",
   "metadata": {},
   "outputs": [],
   "source": [
    "with open('./data/california.geojson') as f:\n",
    "    out = json.load(f)"
   ]
  },
  {
   "cell_type": "code",
   "execution_count": 31,
   "id": "d93a5b15",
   "metadata": {},
   "outputs": [],
   "source": [
    "ca_geom = shape(out['geometry'])"
   ]
  },
  {
   "cell_type": "markdown",
   "id": "4159e2bc",
   "metadata": {},
   "source": [
    "### WKT\n",
    "\n",
    "WKT stands for \"Well Known Text\".  It is another way of saving vector geometries."
   ]
  },
  {
   "cell_type": "code",
   "execution_count": 32,
   "id": "65ed8c4c",
   "metadata": {},
   "outputs": [
    {
     "data": {
      "text/plain": [
       "'POINT (-117.89 34.94)'"
      ]
     },
     "execution_count": 32,
     "metadata": {},
     "output_type": "execute_result"
    }
   ],
   "source": [
    "armstrong_geometry.wkt"
   ]
  },
  {
   "cell_type": "code",
   "execution_count": null,
   "id": "3c3128aa",
   "metadata": {},
   "outputs": [],
   "source": []
  }
 ],
 "metadata": {
    "kernelspec": {
        "display_name": "Python 3 (ipykernel)",
        "language": "python",
        "name": "python3"
       },
  "language_info": {
   "codemirror_mode": {
    "name": "ipython",
    "version": 3
   },
   "file_extension": ".py",
   "mimetype": "text/x-python",
   "name": "python",
   "nbconvert_exporter": "python",
   "pygments_lexer": "ipython3",
   "version": "3.10.12"
  },
  "vscode": {
   "interpreter": {
    "hash": "c6a7549e0a21eb75b694ff081490f6e8db8aea94086d29d6a7e085c556b251de"
   }
  }
 },
 "nbformat": 4,
 "nbformat_minor": 5
}
