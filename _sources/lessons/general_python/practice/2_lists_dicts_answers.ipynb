{
 "cells": [
  {
   "cell_type": "markdown",
   "id": "29bfa073",
   "metadata": {},
   "source": [
    "This notebook provides practice problems associated with lesson 2. It is divided into several parts:\n",
    "* **Part 1** - most approachable place to start.  Practices syntax and concepts\n",
    "* **Part 2** - a step up from part 1.  Integrates concepts from accross the lesson in more applied scenarios"
   ]
  },
  {
   "cell_type": "markdown",
   "id": "577bef3e",
   "metadata": {},
   "source": [
    "# Lists and Dictionaries Answers"
   ]
  },
  {
   "cell_type": "markdown",
   "id": "3d9d0393",
   "metadata": {},
   "source": [
    "## Part 1"
   ]
  },
  {
   "cell_type": "markdown",
   "id": "1182f452",
   "metadata": {},
   "source": [
    "### Lists"
   ]
  },
  {
   "cell_type": "markdown",
   "id": "c199809f",
   "metadata": {},
   "source": [
    "1. Create a list with 4-6 items that represents some foods."
   ]
  },
  {
   "cell_type": "code",
   "execution_count": 1,
   "id": "611cde3e",
   "metadata": {},
   "outputs": [],
   "source": [
    "pastries = ['bagels', 'baklava', 'croissant', 'msemen']"
   ]
  },
  {
   "cell_type": "markdown",
   "id": "78fdcd6e",
   "metadata": {},
   "source": [
    "2. Write a line of code to figure out how many foods are in your list. Write a print statement which displays `Number of foods is: ___` where the __ space is calculated based on the number of items in your list. "
   ]
  },
  {
   "cell_type": "code",
   "execution_count": 1,
   "id": "4e4ae90f",
   "metadata": {},
   "outputs": [
    {
     "name": "stdout",
     "output_type": "stream",
     "text": [
      "Number of foods is:  4\n"
     ]
    }
   ],
   "source": [
    "pastries = ['bagels', 'baklava', 'croissant', 'msemen']\n",
    "print('Number of foods is: ', len(pastries))"
   ]
  },
  {
   "cell_type": "markdown",
   "id": "0023aa40",
   "metadata": {},
   "source": [
    "3. 🐞 Debugging: Find and fix the error in the following block of code."
   ]
  },
  {
   "cell_type": "code",
   "execution_count": 3,
   "id": "39492f6e",
   "metadata": {},
   "outputs": [
    {
     "ename": "SyntaxError",
     "evalue": "invalid syntax (<ipython-input-3-62fb6dd1130b>, line 4)",
     "output_type": "error",
     "traceback": [
      "\u001b[1;36m  File \u001b[1;32m\"<ipython-input-3-62fb6dd1130b>\"\u001b[1;36m, line \u001b[1;32m4\u001b[0m\n\u001b[1;33m    pollutants = ['co\" 'co2', 'no2', 'o3']\u001b[0m\n\u001b[1;37m                        ^\u001b[0m\n\u001b[1;31mSyntaxError\u001b[0m\u001b[1;31m:\u001b[0m invalid syntax\n"
     ]
    }
   ],
   "source": [
    "# Two problems:\n",
    "# 1) Double quotation after co\n",
    "# 2) No comma after co\n",
    "pollutants = ['co\" 'co2', 'no2', 'o3']"
   ]
  },
  {
   "cell_type": "code",
   "execution_count": 9,
   "id": "14838337",
   "metadata": {},
   "outputs": [],
   "source": [
    "# Working version\n",
    "pollutants = ['co', 'co2', 'no2', 'o3']"
   ]
  },
  {
   "cell_type": "markdown",
   "id": "18b75c9e",
   "metadata": {},
   "source": [
    "#### Indexing"
   ]
  },
  {
   "cell_type": "markdown",
   "id": "134fd0bc",
   "metadata": {},
   "source": [
    "4. For each of the bullets print out the colors from the `colors` list using indices.\n",
    "* red\n",
    "* blue, yellow, white (together)"
   ]
  },
  {
   "cell_type": "code",
   "execution_count": 10,
   "id": "4c39a960",
   "metadata": {},
   "outputs": [],
   "source": [
    "colors = ['red', 'green', 'blue', 'yellow', 'white', 'black']"
   ]
  },
  {
   "cell_type": "code",
   "execution_count": 11,
   "id": "0798862b",
   "metadata": {},
   "outputs": [
    {
     "data": {
      "text/plain": [
       "'red'"
      ]
     },
     "execution_count": 11,
     "metadata": {},
     "output_type": "execute_result"
    }
   ],
   "source": [
    "colors[0]"
   ]
  },
  {
   "cell_type": "code",
   "execution_count": 13,
   "id": "862d2697",
   "metadata": {},
   "outputs": [
    {
     "data": {
      "text/plain": [
       "['blue', 'yellow', 'white']"
      ]
     },
     "execution_count": 13,
     "metadata": {},
     "output_type": "execute_result"
    }
   ],
   "source": [
    "colors[2:5]"
   ]
  },
  {
   "cell_type": "markdown",
   "id": "8b0b859d",
   "metadata": {},
   "source": [
    "5. 🐞 Debugging: The goal of the following block of code is to print out the value `o3`.  Find and fix the error."
   ]
  },
  {
   "cell_type": "code",
   "execution_count": 14,
   "id": "0324039e",
   "metadata": {},
   "outputs": [
    {
     "ename": "IndexError",
     "evalue": "list index out of range",
     "output_type": "error",
     "traceback": [
      "\u001b[1;31m---------------------------------------------------------------------------\u001b[0m",
      "\u001b[1;31mIndexError\u001b[0m                                Traceback (most recent call last)",
      "\u001b[1;32m<ipython-input-14-1bec3e92d526>\u001b[0m in \u001b[0;36m<module>\u001b[1;34m\u001b[0m\n\u001b[0;32m      1\u001b[0m \u001b[1;31m# Problem: there is no value at index 4.  The last item in this list is at index 3.\u001b[0m\u001b[1;33m\u001b[0m\u001b[1;33m\u001b[0m\u001b[1;33m\u001b[0m\u001b[0m\n\u001b[0;32m      2\u001b[0m \u001b[0mpollutants\u001b[0m \u001b[1;33m=\u001b[0m \u001b[1;33m[\u001b[0m\u001b[1;34m'co'\u001b[0m\u001b[1;33m,\u001b[0m \u001b[1;34m'co2'\u001b[0m\u001b[1;33m,\u001b[0m \u001b[1;34m'no2'\u001b[0m\u001b[1;33m,\u001b[0m \u001b[1;34m'o3'\u001b[0m\u001b[1;33m]\u001b[0m\u001b[1;33m\u001b[0m\u001b[1;33m\u001b[0m\u001b[0m\n\u001b[1;32m----> 3\u001b[1;33m \u001b[0mprint\u001b[0m\u001b[1;33m(\u001b[0m\u001b[0mpollutants\u001b[0m\u001b[1;33m[\u001b[0m\u001b[1;36m4\u001b[0m\u001b[1;33m]\u001b[0m\u001b[1;33m)\u001b[0m\u001b[1;33m\u001b[0m\u001b[1;33m\u001b[0m\u001b[0m\n\u001b[0m",
      "\u001b[1;31mIndexError\u001b[0m: list index out of range"
     ]
    }
   ],
   "source": [
    "# Problem: there is no value at index 4.  The last item in this list is at index 3.\n",
    "pollutants = ['co', 'co2', 'no2', 'o3']\n",
    "print(pollutants[4])"
   ]
  },
  {
   "cell_type": "code",
   "execution_count": null,
   "id": "21442c2c",
   "metadata": {},
   "outputs": [],
   "source": [
    "# Correct version\n",
    "pollutants[3]"
   ]
  },
  {
   "cell_type": "markdown",
   "id": "06cb2f21",
   "metadata": {},
   "source": [
    "#### Functions/Methods"
   ]
  },
  {
   "cell_type": "markdown",
   "id": "e1fca3e4",
   "metadata": {},
   "source": [
    "6. Returning to our list of pollutants, let's say we learned that `no2` is the wrong value.  Instead we want that item to be `nox`.  Update the pollutants list below so the output is `['co', 'co2', 'nox', 'o3']`."
   ]
  },
  {
   "cell_type": "code",
   "execution_count": 2,
   "id": "74bbdd70",
   "metadata": {},
   "outputs": [],
   "source": [
    "pollutants = ['co', 'co2', 'no2', 'o3']"
   ]
  },
  {
   "cell_type": "code",
   "execution_count": 3,
   "id": "fb7e10b1",
   "metadata": {},
   "outputs": [],
   "source": [
    "pollutants[2] = 'nox'"
   ]
  },
  {
   "cell_type": "code",
   "execution_count": 4,
   "id": "3bbc740c",
   "metadata": {},
   "outputs": [
    {
     "data": {
      "text/plain": [
       "['co', 'co2', 'nox', 'o3']"
      ]
     },
     "execution_count": 4,
     "metadata": {},
     "output_type": "execute_result"
    }
   ],
   "source": [
    "pollutants"
   ]
  },
  {
   "cell_type": "markdown",
   "id": "a23cbe2d",
   "metadata": {},
   "source": [
    "7. [This article](https://towardsdatascience.com/python-list-methods-fa7c53010300) linked in the lecture describes a few common list methods.  Scroll down to where the article talks about `pop()` and apply that to our `pollutants` list by removing 'co' from the list."
   ]
  },
  {
   "cell_type": "code",
   "execution_count": 5,
   "id": "74863b5d",
   "metadata": {},
   "outputs": [
    {
     "name": "stdout",
     "output_type": "stream",
     "text": [
      "['co2', 'nox', 'o3']\n"
     ]
    }
   ],
   "source": [
    "# Sorting forward\n",
    "pollutants.pop(0)\n",
    "print(pollutants)"
   ]
  },
  {
   "cell_type": "markdown",
   "id": "730124fb",
   "metadata": {},
   "source": [
    "### Dictionaries"
   ]
  },
  {
   "cell_type": "markdown",
   "id": "c41d533d",
   "metadata": {},
   "source": [
    "8. Create a dictionary that has an item for each of the last 4 days and displays the weather condition on each of those days."
   ]
  },
  {
   "cell_type": "code",
   "execution_count": 20,
   "id": "7f68a12e",
   "metadata": {},
   "outputs": [],
   "source": [
    "weather_conditions = {\n",
    "    'monday': 'sunny',\n",
    "    'sunday': 'partly cloudy',\n",
    "    'saturday': 'tornado',\n",
    "    'friday': 'sunny'\n",
    "}"
   ]
  },
  {
   "cell_type": "markdown",
   "id": "bf6041f6",
   "metadata": {},
   "source": [
    "9. Using the dictionary you made in the previous question:\n",
    "* print all the keys\n",
    "* print all the values\n",
    "* pick one specific key and print its value"
   ]
  },
  {
   "cell_type": "code",
   "execution_count": 21,
   "id": "f99e7a40",
   "metadata": {},
   "outputs": [
    {
     "data": {
      "text/plain": [
       "dict_keys(['monday', 'sunday', 'saturday', 'friday'])"
      ]
     },
     "execution_count": 21,
     "metadata": {},
     "output_type": "execute_result"
    }
   ],
   "source": [
    "weather_conditions.keys()"
   ]
  },
  {
   "cell_type": "code",
   "execution_count": 22,
   "id": "5a3270f7",
   "metadata": {},
   "outputs": [
    {
     "data": {
      "text/plain": [
       "dict_values(['sunny', 'partly cloudy', 'tornado', 'sunny'])"
      ]
     },
     "execution_count": 22,
     "metadata": {},
     "output_type": "execute_result"
    }
   ],
   "source": [
    "weather_conditions.values()"
   ]
  },
  {
   "cell_type": "code",
   "execution_count": 23,
   "id": "cb87743e",
   "metadata": {},
   "outputs": [
    {
     "data": {
      "text/plain": [
       "'sunny'"
      ]
     },
     "execution_count": 23,
     "metadata": {},
     "output_type": "execute_result"
    }
   ],
   "source": [
    "weather_conditions['friday']"
   ]
  },
  {
   "cell_type": "markdown",
   "id": "b75f5265",
   "metadata": {},
   "source": [
    "10. 🐞 Debugging: Find and fix the error in the following block of code."
   ]
  },
  {
   "cell_type": "code",
   "execution_count": 24,
   "id": "6782b8b6",
   "metadata": {},
   "outputs": [
    {
     "ename": "SyntaxError",
     "evalue": "invalid syntax (<ipython-input-24-a4eb952b1e43>, line 5)",
     "output_type": "error",
     "traceback": [
      "\u001b[1;36m  File \u001b[1;32m\"<ipython-input-24-a4eb952b1e43>\"\u001b[1;36m, line \u001b[1;32m5\u001b[0m\n\u001b[1;33m    'zenith': 60,\u001b[0m\n\u001b[1;37m    ^\u001b[0m\n\u001b[1;31mSyntaxError\u001b[0m\u001b[1;31m:\u001b[0m invalid syntax\n"
     ]
    }
   ],
   "source": [
    "# Problem: missing a comma after the 5 in the 'quality_flag' item\n",
    "metadata = {\n",
    "    'location': 'Nairobi', \n",
    "    'quality_flag': 5\n",
    "    'zenith': 60, \n",
    "    'clouds': True,\n",
    "    'data_center': ['LPDAAC', 'ASDC'],\n",
    "}"
   ]
  },
  {
   "cell_type": "code",
   "execution_count": 25,
   "id": "f8954e2c",
   "metadata": {},
   "outputs": [],
   "source": [
    "# Working version\n",
    "metadata = {\n",
    "    'location': 'Nairobi', \n",
    "    'quality_flag': 5,\n",
    "    'zenith': 60, \n",
    "    'clouds': True,\n",
    "    'data_center': ['LPDAAC', 'ASDC'],\n",
    "}"
   ]
  },
  {
   "cell_type": "markdown",
   "id": "34c6dc77",
   "metadata": {},
   "source": [
    "11. 🐞 Debugging: The goal of the following block of code is to print out the keys of the dictionary `metadata`. Find and fix the error.\n",
    "    "
   ]
  },
  {
   "cell_type": "code",
   "execution_count": 26,
   "id": "eed891de",
   "metadata": {},
   "outputs": [
    {
     "name": "stdout",
     "output_type": "stream",
     "text": [
      "<built-in method keys of dict object at 0x000001E692C202C0>\n"
     ]
    }
   ],
   "source": [
    "metadata = {\n",
    "    'location': 'Nairobi', \n",
    "    'quality_flag': 5,\n",
    "    'zenith': 60, \n",
    "    'clouds': True,\n",
    "    'data_center': ['LPDAAC', 'ASDC'],\n",
    "}\n",
    "# Problem: missing the () in the syntax for `.keys()`\n",
    "print(metadata.keys)"
   ]
  },
  {
   "cell_type": "code",
   "execution_count": 27,
   "id": "3c7695bf",
   "metadata": {},
   "outputs": [
    {
     "name": "stdout",
     "output_type": "stream",
     "text": [
      "dict_keys(['location', 'quality_flag', 'zenith', 'clouds', 'data_center'])\n"
     ]
    }
   ],
   "source": [
    "# Working version\n",
    "print(metadata.keys())"
   ]
  },
  {
   "cell_type": "markdown",
   "id": "cf9a7964",
   "metadata": {},
   "source": [
    "#### Adding or changing items"
   ]
  },
  {
   "cell_type": "markdown",
   "id": "db7dcfbf",
   "metadata": {},
   "source": [
    "12. Using the following dictionary change the value for `state` to `PA`."
   ]
  },
  {
   "cell_type": "code",
   "execution_count": 28,
   "id": "bbae3cdf",
   "metadata": {},
   "outputs": [],
   "source": [
    "census_block7 = {\n",
    "    'state': 'NY',\n",
    "    'block_groups': ['01', '02', '03', '04'],\n",
    "    'median_education': 'some_bachelors',\n",
    "    'total_housing_units': 9329432,\n",
    "}"
   ]
  },
  {
   "cell_type": "code",
   "execution_count": 29,
   "id": "b82d0544",
   "metadata": {},
   "outputs": [],
   "source": [
    "census_block7['state']  = 'PA'"
   ]
  },
  {
   "cell_type": "markdown",
   "id": "2242e232",
   "metadata": {},
   "source": [
    "13. Using the `census_block7` dictionary add the value 78.2 for a new item called `employment_rate`."
   ]
  },
  {
   "cell_type": "code",
   "execution_count": 30,
   "id": "d181fa38",
   "metadata": {},
   "outputs": [],
   "source": [
    "census_block7['employment_rate'] = 78.2"
   ]
  },
  {
   "cell_type": "markdown",
   "id": "2bccbfb6",
   "metadata": {},
   "source": [
    "### Data Structures"
   ]
  },
  {
   "cell_type": "markdown",
   "id": "c285a571",
   "metadata": {},
   "source": [
    "Come up with 1-2 fake datasets that make sense as a list and type out an example list.  Do the same for 1-2 dictionaries."
   ]
  },
  {
   "cell_type": "code",
   "execution_count": 31,
   "id": "e436539a",
   "metadata": {},
   "outputs": [],
   "source": [
    "# Example\n",
    "max_daily_temperatures_NYC = [56, 50, 49, 49, 60]"
   ]
  },
  {
   "cell_type": "code",
   "execution_count": 32,
   "id": "59a44978",
   "metadata": {},
   "outputs": [],
   "source": [
    "# List dataset\n",
    "passenger_totals = [923, 837, 283, 295]\n",
    "# Dictionary dataset\n",
    "weather_sunday = {\n",
    "    'conditions': 'thunderstorms',\n",
    "    'high_temp': 67,\n",
    "    'low_temp': 50,\n",
    "    'humidity': 90,\n",
    "}"
   ]
  },
  {
   "cell_type": "markdown",
   "id": "f8515972",
   "metadata": {},
   "source": [
    "## Part 2\n",
    "\n",
    "Assign the value of a dictionary to another variable"
   ]
  },
  {
   "cell_type": "markdown",
   "id": "d680e25c",
   "metadata": {},
   "source": [
    "### Question 1"
   ]
  },
  {
   "cell_type": "markdown",
   "id": "6ee641b3",
   "metadata": {},
   "source": [
    "The list below represents the smallest size of [particulate matter (PM)](https://www.epa.gov/pm-pollution/particulate-matter-pm-basics#:~:text=PM%20stands%20for%20particulate%20matter,seen%20with%20the%20naked%20eye.) measured in a series of air samples.  Find the number of occurances of PM2.5 and PM10 in the list.  (One of the methods from the [list methods article](https://towardsdatascience.com/python-list-methods-fa7c53010300) could be a good place to start)."
   ]
  },
  {
   "cell_type": "code",
   "execution_count": 33,
   "id": "fc0d850e",
   "metadata": {},
   "outputs": [],
   "source": [
    "pm_levels = ['PM1', 'PM2.5', 'PM1', 'PM10', 'PM10', 'PM10', 'PM2.5', 'PM10', 'PM1', 'PM2.5']"
   ]
  },
  {
   "cell_type": "code",
   "execution_count": 34,
   "id": "798a2cd3",
   "metadata": {},
   "outputs": [
    {
     "data": {
      "text/plain": [
       "3"
      ]
     },
     "execution_count": 34,
     "metadata": {},
     "output_type": "execute_result"
    }
   ],
   "source": [
    "# Number of occurances of 'PM2.5'\n",
    "pm_levels.count('PM2.5')"
   ]
  },
  {
   "cell_type": "code",
   "execution_count": 35,
   "id": "0c955281",
   "metadata": {},
   "outputs": [
    {
     "data": {
      "text/plain": [
       "4"
      ]
     },
     "execution_count": 35,
     "metadata": {},
     "output_type": "execute_result"
    }
   ],
   "source": [
    "# Number of occurances of 'PM10'\n",
    "pm_levels.count('PM10')"
   ]
  },
  {
   "cell_type": "markdown",
   "id": "5238b2bf",
   "metadata": {},
   "source": [
    "### Question 2\n",
    "One very common practice in dictionaries is called nesting.  **Nesting** is the practice of putting one data structure inside of another data structure.  So a _nested dictionary_ is a dictionary inside of another dictionary.\n",
    "\n",
    "<img src=\"https://i.pinimg.com/originals/a0/40/4b/a0404bf8ec04d32660aee70ecca5055b.gif\" align=\"left\">"
   ]
  },
  {
   "cell_type": "code",
   "execution_count": 36,
   "id": "31384b4e",
   "metadata": {},
   "outputs": [],
   "source": [
    "state_info = {\n",
    "    'state': 'AK',\n",
    "    'motto': 'north to the future',\n",
    "    'num_of_counties': 29,\n",
    "    'population': {\n",
    "        'ages_0_25': 28393,\n",
    "        'ages_25_50': 25920,\n",
    "        'ages_over_50': 8943,\n",
    "        }\n",
    "}"
   ]
  },
  {
   "cell_type": "markdown",
   "id": "1445a20b",
   "metadata": {},
   "source": [
    "**A)** Print out the following pieces of information from the dictionary above:\n",
    "* the motto\n",
    "* the population ages 25 to 50"
   ]
  },
  {
   "cell_type": "code",
   "execution_count": 37,
   "id": "e312ee48",
   "metadata": {},
   "outputs": [
    {
     "data": {
      "text/plain": [
       "'north to the future'"
      ]
     },
     "execution_count": 37,
     "metadata": {},
     "output_type": "execute_result"
    }
   ],
   "source": [
    "state_info['motto']"
   ]
  },
  {
   "cell_type": "code",
   "execution_count": 38,
   "id": "f102a9db",
   "metadata": {},
   "outputs": [
    {
     "data": {
      "text/plain": [
       "25920"
      ]
     },
     "execution_count": 38,
     "metadata": {},
     "output_type": "execute_result"
    }
   ],
   "source": [
    "state_info['population']['ages_25_50']"
   ]
  },
  {
   "cell_type": "markdown",
   "id": "7eca8f92",
   "metadata": {},
   "source": [
    "**B)** Change the population ages 0 to 25 to 98988"
   ]
  },
  {
   "cell_type": "code",
   "execution_count": 39,
   "id": "f3ed8e37",
   "metadata": {},
   "outputs": [],
   "source": [
    "state_info['population']['ages_25_50'] = 98988"
   ]
  },
  {
   "cell_type": "markdown",
   "id": "d2fe4c5d",
   "metadata": {},
   "source": [
    "**C)** Add a new age bracket to the population dictionary by adding an additional item: `ages_50_75` with the population 3333.  Change the item `ages_over_50` to be renamed `ages_50_75`."
   ]
  },
  {
   "cell_type": "markdown",
   "id": "5d887297",
   "metadata": {},
   "source": [
    "**I accidently typed an error into this question. I mistyped the new variable, which made the variable name repetitive.**\n",
    "\n",
    "**Part C should state:**\n",
    "\n",
    "> Add a new age bracket to the population dictionary by adding an additional item: ages_over_75 with the population 3333. Change the item ages_over_50 to be renamed ages_50_75."
   ]
  },
  {
   "cell_type": "code",
   "execution_count": 40,
   "id": "4ade28a1",
   "metadata": {},
   "outputs": [],
   "source": [
    "# Rename the the key `ages_50_75` -- in two steps\n",
    "# Remove the old value\n",
    "state_info['population'].pop('ages_over_50')\n",
    "# Replace the value with a new name\n",
    "state_info['population']['ages_50_75'] = 8943"
   ]
  },
  {
   "cell_type": "markdown",
   "id": "f3a1bf33",
   "metadata": {},
   "source": [
    "**OR**"
   ]
  },
  {
   "cell_type": "code",
   "execution_count": 41,
   "id": "f05c1add",
   "metadata": {
    "scrolled": true
   },
   "outputs": [
    {
     "ename": "KeyError",
     "evalue": "'ages_over_50'",
     "output_type": "error",
     "traceback": [
      "\u001b[1;31m---------------------------------------------------------------------------\u001b[0m",
      "\u001b[1;31mKeyError\u001b[0m                                  Traceback (most recent call last)",
      "\u001b[1;32m<ipython-input-41-fcc5141fb57b>\u001b[0m in \u001b[0;36m<module>\u001b[1;34m\u001b[0m\n\u001b[0;32m      1\u001b[0m \u001b[1;31m# Rename the the key `ages_50_75` -- in one step\u001b[0m\u001b[1;33m\u001b[0m\u001b[1;33m\u001b[0m\u001b[1;33m\u001b[0m\u001b[0m\n\u001b[1;32m----> 2\u001b[1;33m \u001b[0mstate_info\u001b[0m\u001b[1;33m[\u001b[0m\u001b[1;34m'population'\u001b[0m\u001b[1;33m]\u001b[0m\u001b[1;33m[\u001b[0m\u001b[1;34m'ages_50_75'\u001b[0m\u001b[1;33m]\u001b[0m \u001b[1;33m=\u001b[0m \u001b[0mstate_info\u001b[0m\u001b[1;33m[\u001b[0m\u001b[1;34m'population'\u001b[0m\u001b[1;33m]\u001b[0m\u001b[1;33m.\u001b[0m\u001b[0mpop\u001b[0m\u001b[1;33m(\u001b[0m\u001b[1;34m'ages_over_50'\u001b[0m\u001b[1;33m)\u001b[0m\u001b[1;33m\u001b[0m\u001b[1;33m\u001b[0m\u001b[0m\n\u001b[0m",
      "\u001b[1;31mKeyError\u001b[0m: 'ages_over_50'"
     ]
    }
   ],
   "source": [
    "# Rename the the key `ages_50_75` -- in one step\n",
    "state_info['population']['ages_50_75'] = state_info['population'].pop('ages_over_50')"
   ]
  },
  {
   "cell_type": "markdown",
   "id": "0d1e4480",
   "metadata": {},
   "source": [
    "Step 2: Add the new key"
   ]
  },
  {
   "cell_type": "code",
   "execution_count": 42,
   "id": "ca49160d",
   "metadata": {},
   "outputs": [],
   "source": [
    "state_info['population']['ages_over_75'] = 3333"
   ]
  },
  {
   "cell_type": "code",
   "execution_count": 43,
   "id": "572f1a9f",
   "metadata": {},
   "outputs": [
    {
     "data": {
      "text/plain": [
       "{'state': 'AK',\n",
       " 'motto': 'north to the future',\n",
       " 'num_of_counties': 29,\n",
       " 'population': {'ages_0_25': 28393,\n",
       "  'ages_25_50': 98988,\n",
       "  'ages_50_75': 8943,\n",
       "  'ages_over_75': 3333}}"
      ]
     },
     "execution_count": 43,
     "metadata": {},
     "output_type": "execute_result"
    }
   ],
   "source": [
    "state_info"
   ]
  },
  {
   "cell_type": "markdown",
   "id": "abf7d6e2",
   "metadata": {},
   "source": [
    "### Question 3\n",
    "Another common example of nested objects is a list of dictionaries.  Below we have the same nested dictionary as in question two, but we have a list of three states' data."
   ]
  },
  {
   "cell_type": "code",
   "execution_count": 44,
   "id": "9ef845ba",
   "metadata": {},
   "outputs": [],
   "source": [
    "census_by_state = [\n",
    "    {\n",
    "        'state': 'AK',\n",
    "        'motto': 'north to the future',\n",
    "        'num_of_counties': 29,\n",
    "        'population': {\n",
    "            'ages_0_25': 28393,\n",
    "            'ages_25_50': 25920,\n",
    "            'ages_over_50': 8943,\n",
    "            }\n",
    "    },\n",
    "    {\n",
    "        'state': 'FL',\n",
    "        'motto': 'in god we trust',\n",
    "        'num_of_counties': 67,\n",
    "        'population': {\n",
    "            'ages_0_25': 382933,\n",
    "            'ages_25_50': 483923,\n",
    "            'ages_over_50': 938923,\n",
    "            },\n",
    "    },\n",
    "    {\n",
    "        'state': 'MN',\n",
    "        'motto': 'letoile du nord',\n",
    "        'num_of_counties': 87,\n",
    "        'population': {\n",
    "            'ages_0_25': 39323,\n",
    "            'ages_25_50': 109282,\n",
    "            'ages_over_50': 92837,\n",
    "        },\n",
    "    },\n",
    "]"
   ]
  },
  {
   "cell_type": "markdown",
   "id": "35a86c44",
   "metadata": {},
   "source": [
    "**A)** Print the following population numbers:\n",
    "* population ages 25-50 in Alaska\n",
    "* number of counties in Florida\n",
    "* population ages 0-25 in Minnesota\n",
    "* motto of alaska"
   ]
  },
  {
   "cell_type": "code",
   "execution_count": 45,
   "id": "34744419",
   "metadata": {},
   "outputs": [
    {
     "data": {
      "text/plain": [
       "25920"
      ]
     },
     "execution_count": 45,
     "metadata": {},
     "output_type": "execute_result"
    }
   ],
   "source": [
    "census_by_state[0]['population']['ages_25_50']"
   ]
  },
  {
   "cell_type": "code",
   "execution_count": 46,
   "id": "60347621",
   "metadata": {},
   "outputs": [
    {
     "data": {
      "text/plain": [
       "67"
      ]
     },
     "execution_count": 46,
     "metadata": {},
     "output_type": "execute_result"
    }
   ],
   "source": [
    "census_by_state[1]['num_of_counties']"
   ]
  },
  {
   "cell_type": "code",
   "execution_count": 47,
   "id": "b9750271",
   "metadata": {},
   "outputs": [
    {
     "data": {
      "text/plain": [
       "39323"
      ]
     },
     "execution_count": 47,
     "metadata": {},
     "output_type": "execute_result"
    }
   ],
   "source": [
    "census_by_state[2]['population']['ages_0_25']"
   ]
  },
  {
   "cell_type": "code",
   "execution_count": 48,
   "id": "91448a01",
   "metadata": {},
   "outputs": [
    {
     "data": {
      "text/plain": [
       "'north to the future'"
      ]
     },
     "execution_count": 48,
     "metadata": {},
     "output_type": "execute_result"
    }
   ],
   "source": [
    "census_by_state[0]['motto']"
   ]
  },
  {
   "cell_type": "markdown",
   "id": "bcfa7f50",
   "metadata": {},
   "source": [
    "**B)** Change:\n",
    "* the population over age 50 in florida to 8898\n",
    "* the motto of minnesota to \"go pack go!\"\n",
    "* the number of counties in alaska to 31"
   ]
  },
  {
   "cell_type": "code",
   "execution_count": 49,
   "id": "0461fa47",
   "metadata": {},
   "outputs": [],
   "source": [
    "census_by_state[1]['population']['ages_over_50'] = 8898"
   ]
  },
  {
   "cell_type": "code",
   "execution_count": 50,
   "id": "5a3c5375",
   "metadata": {},
   "outputs": [],
   "source": [
    "census_by_state[2]['motto'] = 'Go pack go!'"
   ]
  },
  {
   "cell_type": "code",
   "execution_count": 51,
   "id": "0c718c9d",
   "metadata": {},
   "outputs": [],
   "source": [
    "census_by_state[0]['num_of_counties'] = 31"
   ]
  },
  {
   "cell_type": "code",
   "execution_count": 52,
   "id": "8f30c0f9",
   "metadata": {},
   "outputs": [
    {
     "data": {
      "text/plain": [
       "[{'state': 'AK',\n",
       "  'motto': 'north to the future',\n",
       "  'num_of_counties': 31,\n",
       "  'population': {'ages_0_25': 28393,\n",
       "   'ages_25_50': 25920,\n",
       "   'ages_over_50': 8943}},\n",
       " {'state': 'FL',\n",
       "  'motto': 'in god we trust',\n",
       "  'num_of_counties': 67,\n",
       "  'population': {'ages_0_25': 382933,\n",
       "   'ages_25_50': 483923,\n",
       "   'ages_over_50': 8898}},\n",
       " {'state': 'MN',\n",
       "  'motto': 'Go pack go!',\n",
       "  'num_of_counties': 87,\n",
       "  'population': {'ages_0_25': 39323,\n",
       "   'ages_25_50': 109282,\n",
       "   'ages_over_50': 92837}}]"
      ]
     },
     "execution_count": 52,
     "metadata": {},
     "output_type": "execute_result"
    }
   ],
   "source": [
    "census_by_state"
   ]
  },
  {
   "cell_type": "markdown",
   "id": "fd029b20",
   "metadata": {},
   "source": [
    "**C)** Add a new state to the list of dictionaries.  Pick whatever state and values you want."
   ]
  },
  {
   "cell_type": "code",
   "execution_count": 53,
   "id": "d5657caa",
   "metadata": {},
   "outputs": [],
   "source": [
    "census_by_state.append(\n",
    "{\n",
    "    'state': 'NV',\n",
    "    'motto': 'all for our country',\n",
    "    'num_of_counties': 16,\n",
    "    'population': {\n",
    "        'ages_0_25': 1923,\n",
    "        'ages_25_50': 75832,\n",
    "        'ages_over_50': 32743\n",
    "    }\n",
    "}\n",
    ")"
   ]
  },
  {
   "cell_type": "code",
   "execution_count": 54,
   "id": "9299635d",
   "metadata": {},
   "outputs": [
    {
     "data": {
      "text/plain": [
       "[{'state': 'AK',\n",
       "  'motto': 'north to the future',\n",
       "  'num_of_counties': 31,\n",
       "  'population': {'ages_0_25': 28393,\n",
       "   'ages_25_50': 25920,\n",
       "   'ages_over_50': 8943}},\n",
       " {'state': 'FL',\n",
       "  'motto': 'in god we trust',\n",
       "  'num_of_counties': 67,\n",
       "  'population': {'ages_0_25': 382933,\n",
       "   'ages_25_50': 483923,\n",
       "   'ages_over_50': 8898}},\n",
       " {'state': 'MN',\n",
       "  'motto': 'Go pack go!',\n",
       "  'num_of_counties': 87,\n",
       "  'population': {'ages_0_25': 39323,\n",
       "   'ages_25_50': 109282,\n",
       "   'ages_over_50': 92837}},\n",
       " {'state': 'NV',\n",
       "  'motto': 'all for our country',\n",
       "  'num_of_counties': 16,\n",
       "  'population': {'ages_0_25': 1923,\n",
       "   'ages_25_50': 75832,\n",
       "   'ages_over_50': 32743}}]"
      ]
     },
     "execution_count": 54,
     "metadata": {},
     "output_type": "execute_result"
    }
   ],
   "source": [
    "census_by_state"
   ]
  },
  {
   "cell_type": "markdown",
   "id": "33f83b96",
   "metadata": {},
   "source": [
    "### Question 4\n",
    "Using the list of values below create new lists made up of the following chunks:\n",
    "* The first 5 items in the list\n",
    "* The middle third of the list items\n",
    "* The first 3 items and the last 3 items together"
   ]
  },
  {
   "cell_type": "code",
   "execution_count": 55,
   "id": "9ca01410",
   "metadata": {},
   "outputs": [],
   "source": [
    "# Creating my fake list -- this creates a list where each letter of the alphabet becomes its own item\n",
    "alphabet = list('abcdefghijklmnopqrstuvwxyz')"
   ]
  },
  {
   "cell_type": "markdown",
   "id": "64da1e7c",
   "metadata": {},
   "source": [
    "* The first 5 items in the list"
   ]
  },
  {
   "cell_type": "code",
   "execution_count": 56,
   "id": "294192b5",
   "metadata": {},
   "outputs": [
    {
     "data": {
      "text/plain": [
       "['a', 'b', 'c', 'd', 'e']"
      ]
     },
     "execution_count": 56,
     "metadata": {},
     "output_type": "execute_result"
    }
   ],
   "source": [
    "alphabet[0:5]\n",
    "# or\n",
    "alphabet[:5]  # the 0 can optionally be dropped"
   ]
  },
  {
   "cell_type": "markdown",
   "id": "71037e5f",
   "metadata": {},
   "source": [
    "* The middle third of the list items"
   ]
  },
  {
   "cell_type": "markdown",
   "id": "b752c4dc",
   "metadata": {},
   "source": [
    "Method 1 - counting out the number of indexes and inputing them"
   ]
  },
  {
   "cell_type": "code",
   "execution_count": 57,
   "id": "5bb579c3",
   "metadata": {
    "scrolled": false
   },
   "outputs": [
    {
     "data": {
      "text/plain": [
       "['a',\n",
       " 'b',\n",
       " 'c',\n",
       " 'd',\n",
       " 'e',\n",
       " 'f',\n",
       " 'g',\n",
       " 'h',\n",
       " 'i',\n",
       " 'j',\n",
       " 'k',\n",
       " 'l',\n",
       " 'm',\n",
       " 'n',\n",
       " 'o',\n",
       " 'p',\n",
       " 'q',\n",
       " 'r',\n",
       " 's',\n",
       " 't',\n",
       " 'u',\n",
       " 'v',\n",
       " 'w',\n",
       " 'x',\n",
       " 'y',\n",
       " 'z']"
      ]
     },
     "execution_count": 57,
     "metadata": {},
     "output_type": "execute_result"
    }
   ],
   "source": [
    "alphabet"
   ]
  },
  {
   "cell_type": "markdown",
   "id": "33c97115",
   "metadata": {},
   "source": [
    "Method 2 - Calculating the middle third based on the length of the list"
   ]
  },
  {
   "cell_type": "code",
   "execution_count": 58,
   "id": "b991e73d",
   "metadata": {},
   "outputs": [],
   "source": [
    "# Calculating what each third's index should be, using floor division to ensure I get a whole integer as a result\n",
    "thirds = len(alphabet) // 3"
   ]
  },
  {
   "cell_type": "code",
   "execution_count": 59,
   "id": "d8a8df55",
   "metadata": {},
   "outputs": [
    {
     "data": {
      "text/plain": [
       "['i', 'j', 'k', 'l', 'm', 'n', 'o', 'p']"
      ]
     },
     "execution_count": 59,
     "metadata": {},
     "output_type": "execute_result"
    }
   ],
   "source": [
    "alphabet[thirds:thirds*2]"
   ]
  },
  {
   "cell_type": "markdown",
   "id": "b1ff9f88",
   "metadata": {},
   "source": [
    "* The first 3 items and the last 3 items together"
   ]
  },
  {
   "cell_type": "code",
   "execution_count": 60,
   "id": "720a4d56",
   "metadata": {},
   "outputs": [
    {
     "data": {
      "text/plain": [
       "['a', 'b', 'c', 'x', 'y', 'z']"
      ]
     },
     "execution_count": 60,
     "metadata": {},
     "output_type": "execute_result"
    }
   ],
   "source": [
    "alphabet[:3] + alphabet[-3:]"
   ]
  },
  {
   "cell_type": "markdown",
   "id": "6ccfde8b",
   "metadata": {},
   "source": [
    "_**Hint** Googling suggestions: \"python list indexing\", or \"combining two python lists\".  Article suggestions [here](https://railsware.com/blog/python-for-machine-learning-indexing-and-slicing-for-lists-tuples-strings-and-other-sequential-types/#Slice_Notation) or [here](https://www.w3schools.com/python/gloss_python_join_lists.asp)._"
   ]
  },
  {
   "cell_type": "markdown",
   "id": "db46d804",
   "metadata": {},
   "source": [
    "### Question 5\n",
    "Write some code that starts with an index and returns the value from the list below at that index.  Print the value  Include in the print statement if the value is even or odd."
   ]
  },
  {
   "cell_type": "code",
   "execution_count": 61,
   "id": "b6d06952",
   "metadata": {},
   "outputs": [],
   "source": [
    "starting_data = [4, 6, 4, 1, 3, 4, 6, 9, 8, 7, 6, 5, 5, 3, 2]\n",
    "index = 3"
   ]
  },
  {
   "cell_type": "code",
   "execution_count": 62,
   "id": "1dbef1be",
   "metadata": {},
   "outputs": [
    {
     "name": "stdout",
     "output_type": "stream",
     "text": [
      "value is  1 which is odd\n"
     ]
    }
   ],
   "source": [
    "value = starting_data[index]\n",
    "if value % 2 == 0:\n",
    "    print('value is ', value, 'which is even')\n",
    "else:\n",
    "    print('value is ', value, 'which is odd')"
   ]
  },
  {
   "cell_type": "code",
   "execution_count": null,
   "id": "c045c808",
   "metadata": {},
   "outputs": [],
   "source": []
  }
 ],
 "metadata": {
  "kernelspec": {
   "display_name": "Python 3.10.4 ('sarp')",
   "language": "python",
   "name": "python3"
  },
  "language_info": {
   "codemirror_mode": {
    "name": "ipython",
    "version": 3
   },
   "file_extension": ".py",
   "mimetype": "text/x-python",
   "name": "python",
   "nbconvert_exporter": "python",
   "pygments_lexer": "ipython3",
   "version": "3.10.4"
  },
  "vscode": {
   "interpreter": {
    "hash": "c6a7549e0a21eb75b694ff081490f6e8db8aea94086d29d6a7e085c556b251de"
   }
  }
 },
 "nbformat": 4,
 "nbformat_minor": 5
}
