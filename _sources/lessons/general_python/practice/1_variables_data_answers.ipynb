{
 "cells": [
  {
   "cell_type": "markdown",
   "id": "84b880bd",
   "metadata": {},
   "source": [
    "# Variables, Data Types and If statements Answers"
   ]
  },
  {
   "cell_type": "markdown",
   "id": "68633ce6",
   "metadata": {},
   "source": [
    "## Part 1"
   ]
  },
  {
   "cell_type": "markdown",
   "id": "9588f27b",
   "metadata": {},
   "source": [
    "### Assigning Variables"
   ]
  },
  {
   "cell_type": "markdown",
   "id": "6cf05d9b",
   "metadata": {},
   "source": [
    "1. Create a variable called `location` and assign it the value: Quito, Ecuador. Print your variable."
   ]
  },
  {
   "cell_type": "code",
   "execution_count": 1,
   "id": "92b32afb",
   "metadata": {},
   "outputs": [],
   "source": [
    "location = 'Quito, Ecuador'\n",
    "# or\n",
    "location = \"Quito, Ecuador\""
   ]
  },
  {
   "cell_type": "markdown",
   "id": "0165e1ca",
   "metadata": {},
   "source": [
    "2. Create two variables that are numbers and print the result of one of them divided by the other."
   ]
  },
  {
   "cell_type": "code",
   "execution_count": 2,
   "id": "c7d6b6e7",
   "metadata": {},
   "outputs": [
    {
     "name": "stdout",
     "output_type": "stream",
     "text": [
      "9.0\n"
     ]
    }
   ],
   "source": [
    "number1 = 45\n",
    "number2 = 5\n",
    "print(number1/number2)"
   ]
  },
  {
   "cell_type": "markdown",
   "id": "f73bc914",
   "metadata": {},
   "source": [
    "3. What do you expect to be the output of the following block of code?\n",
    "\n",
    "```\n",
    "my_fav_icecream = 'mint'\n",
    "your_fav_icecream = 'blue moon'\n",
    "my_fav_icecream = 'peanut butter cup'\n",
    "print(my_fav_icecream)\n",
    "```"
   ]
  },
  {
   "cell_type": "code",
   "execution_count": 3,
   "id": "693cf67a",
   "metadata": {},
   "outputs": [],
   "source": [
    "# peanut butter cup"
   ]
  },
  {
   "cell_type": "markdown",
   "id": "ba6faee5",
   "metadata": {},
   "source": [
    "### Data Types"
   ]
  },
  {
   "cell_type": "markdown",
   "id": "fb8bfc3b",
   "metadata": {},
   "source": [
    "4. What are the data types of each of the following values?"
   ]
  },
  {
   "cell_type": "markdown",
   "id": "30459922",
   "metadata": {},
   "source": [
    "1. `True` -- **Boolean**\n",
    "1. `832` -- **integer**\n",
    "1. `0.001` -- **float**\n",
    "1. `'giant kelp'` -- **string**\n",
    "1. `\"false\"` -- **string**\n",
    "1. `\"5\"` -- **string**\n",
    "\n",
    "Check that you are correct using the `type()` function, as shown below."
   ]
  },
  {
   "cell_type": "code",
   "execution_count": 4,
   "id": "b0d654ad",
   "metadata": {},
   "outputs": [
    {
     "data": {
      "text/plain": [
       "str"
      ]
     },
     "execution_count": 4,
     "metadata": {},
     "output_type": "execute_result"
    }
   ],
   "source": [
    "type('cheese')"
   ]
  },
  {
   "cell_type": "markdown",
   "id": "b0315207",
   "metadata": {},
   "source": [
    "### Booleans"
   ]
  },
  {
   "cell_type": "markdown",
   "id": "af8a101d",
   "metadata": {},
   "source": [
    "5. What is a boolean?  When might a boolean be useful?"
   ]
  },
  {
   "cell_type": "code",
   "execution_count": 5,
   "id": "45e0e0c0",
   "metadata": {},
   "outputs": [],
   "source": [
    "# Booleans are a data type that have only two possible values -- either 0 or 1.\n",
    "# Booleans are often useful when doing comparisons."
   ]
  },
  {
   "cell_type": "markdown",
   "id": "55a106db",
   "metadata": {},
   "source": [
    "6. The following cell represents some data you are working with."
   ]
  },
  {
   "cell_type": "code",
   "execution_count": 6,
   "id": "ee4ac540",
   "metadata": {},
   "outputs": [],
   "source": [
    "cloud_cover = 15\n",
    "city = 'Oshkosh'\n",
    "cfc_present = True\n",
    "ozone = 3.8"
   ]
  },
  {
   "cell_type": "markdown",
   "id": "16251c63",
   "metadata": {},
   "source": [
    "Run the cell above, and use the variables to individually check for each of the following conditions:\n",
    "* cloud cover is less than 90\n",
    "* city is not Minneapolis\n",
    "* there are no cfcs present\n",
    "* ozone is greater than or equal to 2"
   ]
  },
  {
   "cell_type": "code",
   "execution_count": 7,
   "id": "6bc6dc29",
   "metadata": {},
   "outputs": [
    {
     "data": {
      "text/plain": [
       "True"
      ]
     },
     "execution_count": 7,
     "metadata": {},
     "output_type": "execute_result"
    }
   ],
   "source": [
    "cloud_cover < 90"
   ]
  },
  {
   "cell_type": "code",
   "execution_count": 8,
   "id": "8d37a588",
   "metadata": {},
   "outputs": [
    {
     "data": {
      "text/plain": [
       "True"
      ]
     },
     "execution_count": 8,
     "metadata": {},
     "output_type": "execute_result"
    }
   ],
   "source": [
    "city != 'Minneapolis'"
   ]
  },
  {
   "cell_type": "code",
   "execution_count": 9,
   "id": "509637f8",
   "metadata": {},
   "outputs": [
    {
     "data": {
      "text/plain": [
       "False"
      ]
     },
     "execution_count": 9,
     "metadata": {},
     "output_type": "execute_result"
    }
   ],
   "source": [
    "cfc_present == False"
   ]
  },
  {
   "cell_type": "code",
   "execution_count": 10,
   "id": "9b264754",
   "metadata": {},
   "outputs": [
    {
     "data": {
      "text/plain": [
       "True"
      ]
     },
     "execution_count": 10,
     "metadata": {},
     "output_type": "execute_result"
    }
   ],
   "source": [
    "ozone >= 2"
   ]
  },
  {
   "cell_type": "markdown",
   "id": "3b47a8b7",
   "metadata": {},
   "source": [
    "7. Explain the difference between `=` and `==`."
   ]
  },
  {
   "cell_type": "code",
   "execution_count": 11,
   "id": "0da59fea",
   "metadata": {},
   "outputs": [],
   "source": [
    "# A single = is used to assign a value to a variable, while a double == is \"equals to\" and is a comparison\n",
    "# The result of == is a Boolean output - either True or False.  There isn't usually output when using a single =, just a new variable.\n"
   ]
  },
  {
   "cell_type": "markdown",
   "id": "36bdf0b2",
   "metadata": {},
   "source": [
    "### Logical Operators"
   ]
  },
  {
   "cell_type": "markdown",
   "id": "4e595552",
   "metadata": {},
   "source": [
    "8. How is `and` different from `or`?"
   ]
  },
  {
   "cell_type": "code",
   "execution_count": 12,
   "id": "df92cec3",
   "metadata": {},
   "outputs": [],
   "source": [
    "# and checks if both statements are true, while or checks if any single one of them is true."
   ]
  },
  {
   "cell_type": "markdown",
   "id": "46e0a1f9",
   "metadata": {},
   "source": [
    "9. Fill out the values for `p and q` and `p or q` in the following table, given each combination of the possible values for `p` and for `q`.\n",
    "\n",
    "| p      | q | p and q | p or q |\n",
    "| ----------- | ----------- | --- | --- |\n",
    "|  `True`     | `True`      | `True` | `True` |\n",
    "| `True`   | `False`        | `False` | `True` |\n",
    "| `False`   | `True`        | `False` | `True` |\n",
    "| `False`   | `False`        | `False` | `False` |"
   ]
  },
  {
   "cell_type": "markdown",
   "id": "0be3592a",
   "metadata": {},
   "source": [
    "10. For each of the following scenarios do you think it would make more sense to use `and` or `or`?\n",
    "* You have several images and you want to make sure that at least one of them has the wavelength you need. -- **or**\n",
    "* You have an algorithm which requires three variables in a specific range and you want to check those three variables in your image to make sure the image will work. -- **and**\n",
    "* In a particular dataset you are looking at invalid results have the value -999. You also know that values above 1000 are not suitable for your use case.  You need to check the dataset to make sure that neither of those things are true. -- **and**"
   ]
  },
  {
   "cell_type": "markdown",
   "id": "b58546ac",
   "metadata": {},
   "source": [
    "11. Write a statement using the following operators: `and`, `!=`"
   ]
  },
  {
   "cell_type": "code",
   "execution_count": 13,
   "id": "b9f37269",
   "metadata": {
    "scrolled": true
   },
   "outputs": [
    {
     "data": {
      "text/plain": [
       "True"
      ]
     },
     "execution_count": 13,
     "metadata": {},
     "output_type": "execute_result"
    }
   ],
   "source": [
    "visibility = 62\n",
    "visibility > 40 and visibility != 74"
   ]
  },
  {
   "cell_type": "markdown",
   "id": "ae1008a0",
   "metadata": {},
   "source": [
    "12. Write a statement using the following operators: `or`, `+`"
   ]
  },
  {
   "cell_type": "code",
   "execution_count": 14,
   "id": "0fc09db9",
   "metadata": {},
   "outputs": [
    {
     "data": {
      "text/plain": [
       "True"
      ]
     },
     "execution_count": 14,
     "metadata": {},
     "output_type": "execute_result"
    }
   ],
   "source": [
    "speed = 12\n",
    "speed + 10 > 15 or speed + 25 > 15"
   ]
  },
  {
   "cell_type": "markdown",
   "id": "1c2d7099",
   "metadata": {},
   "source": [
    "### If statements"
   ]
  },
  {
   "cell_type": "markdown",
   "id": "9608b04e",
   "metadata": {},
   "source": [
    "12. Write an if statement that uses the following elements:\n",
    "* `if`, `<=`, `or`"
   ]
  },
  {
   "cell_type": "code",
   "execution_count": 15,
   "id": "09c15b17",
   "metadata": {},
   "outputs": [
    {
     "name": "stdout",
     "output_type": "stream",
     "text": [
      "ideal conditions\n"
     ]
    }
   ],
   "source": [
    "depth = 200\n",
    "if depth <= 150 or depth < 500:\n",
    "    print('ideal conditions')"
   ]
  },
  {
   "cell_type": "markdown",
   "id": "c6962676",
   "metadata": {},
   "source": [
    "13. You have species data with the variable `family` and you would like to assign the species to a group based on the family.  The groups are:\n",
    "* Group A - `pinaceae`, `lamiaceae`\n",
    "* Group B - `aceraceae`, `salicaceae`\n",
    "\n",
    "Write a statement that checks the `family`variable and informs the user if the species belongs in group A or group B."
   ]
  },
  {
   "cell_type": "code",
   "execution_count": 16,
   "id": "d6f8b3c3",
   "metadata": {},
   "outputs": [
    {
     "name": "stdout",
     "output_type": "stream",
     "text": [
      "species in group B\n"
     ]
    }
   ],
   "source": [
    "family = 'salicaceae'\n",
    "if family == 'pinaceae' or family == 'lamiacae':\n",
    "    print('species in group A')\n",
    "elif family in family == 'aceraceae' or family == 'salicaceae':\n",
    "    print('species in group B')\n",
    "else:\n",
    "    print('no family found.')"
   ]
  },
  {
   "cell_type": "markdown",
   "id": "91e64dd4",
   "metadata": {},
   "source": [
    "## Practice Problems Part 2"
   ]
  },
  {
   "cell_type": "markdown",
   "id": "0a7f35d2",
   "metadata": {},
   "source": [
    "### Question 1\n",
    "Write some code to take the mean value of the three sun angles below."
   ]
  },
  {
   "cell_type": "code",
   "execution_count": 17,
   "id": "eee42e47",
   "metadata": {},
   "outputs": [],
   "source": [
    "sun_angle1 = 45\n",
    "sun_angle2 = 32\n",
    "sun_angle3 = 67\n",
    "# Take the mean\n",
    "# Output the mean to the user"
   ]
  },
  {
   "cell_type": "code",
   "execution_count": 18,
   "id": "895ba3d5",
   "metadata": {},
   "outputs": [
    {
     "name": "stdout",
     "output_type": "stream",
     "text": [
      "48.0\n"
     ]
    }
   ],
   "source": [
    "mean_angle = (sun_angle1 + sun_angle2 + sun_angle3)/3\n",
    "print(mean_angle)"
   ]
  },
  {
   "cell_type": "markdown",
   "id": "c46bba68",
   "metadata": {},
   "source": [
    "### Question 2"
   ]
  },
  {
   "cell_type": "markdown",
   "id": "fa51367b",
   "metadata": {},
   "source": [
    "**A)** Google \"Python operators\".  Find a webpage with some operators and use two of them below.\n",
    "If you are having a hard time finding a webpage you can use [this one](https://www.w3schools.com/python/python_operators.asp), which is the first page that shows up when I run the search."
   ]
  },
  {
   "cell_type": "code",
   "execution_count": 19,
   "id": "08eb06a4",
   "metadata": {},
   "outputs": [
    {
     "data": {
      "text/plain": [
       "3"
      ]
     },
     "execution_count": 19,
     "metadata": {},
     "output_type": "execute_result"
    }
   ],
   "source": [
    "# Floor division\n",
    "10 // 3"
   ]
  },
  {
   "cell_type": "code",
   "execution_count": 20,
   "id": "641134d8",
   "metadata": {},
   "outputs": [
    {
     "data": {
      "text/plain": [
       "81"
      ]
     },
     "execution_count": 20,
     "metadata": {},
     "output_type": "execute_result"
    }
   ],
   "source": [
    "# Exponents\n",
    "3**4"
   ]
  },
  {
   "cell_type": "markdown",
   "id": "8a73ece1",
   "metadata": {},
   "source": [
    "**B)** Fill in the `# Your code here` space below to compute the area of a circle given the radius.  You can approximate the value of pi with `3.14`."
   ]
  },
  {
   "cell_type": "code",
   "execution_count": 21,
   "id": "f4c0c119",
   "metadata": {
    "scrolled": true
   },
   "outputs": [
    {
     "name": "stdout",
     "output_type": "stream",
     "text": [
      "50.24\n"
     ]
    }
   ],
   "source": [
    "radius = 4\n",
    "# Your code here\n",
    "area = 3.14 * radius**2\n",
    "print(area)"
   ]
  },
  {
   "cell_type": "markdown",
   "id": "29272d53",
   "metadata": {},
   "source": [
    "_**Hint** I haven't told you how to take the square of a variable, so you will either have to do that using the tools you have or do a google search for \"square of a number Python\"._"
   ]
  },
  {
   "cell_type": "markdown",
   "id": "bf390f14",
   "metadata": {},
   "source": [
    "**C)** Calculate 2 to the 8th power.  Assign it to a variable and print the output.  Include a string in the print statement that says: _2 to the 8th power is:_"
   ]
  },
  {
   "cell_type": "code",
   "execution_count": 22,
   "id": "2b22aeee",
   "metadata": {},
   "outputs": [
    {
     "name": "stdout",
     "output_type": "stream",
     "text": [
      "2 to the 8th power is:  256\n"
     ]
    }
   ],
   "source": [
    "output = 2**8\n",
    "print('2 to the 8th power is: ', output)"
   ]
  },
  {
   "cell_type": "markdown",
   "id": "b62c90f0",
   "metadata": {},
   "source": [
    "### Question 3"
   ]
  },
  {
   "cell_type": "markdown",
   "id": "29c5bdc9",
   "metadata": {},
   "source": [
    "What is the output of the following block of code?\n",
    "```\n",
    "updated_temp = 72\n",
    "print(updated_temp)\n",
    "updated_temp = updated_temp + 5\n",
    "updated_temp = updated_temp + 2\n",
    "updated_temp = updated_temp -9\n",
    "print(updated_temp)\n",
    "```"
   ]
  },
  {
   "cell_type": "code",
   "execution_count": 23,
   "id": "b74ee3e2",
   "metadata": {},
   "outputs": [],
   "source": [
    "# 72\n",
    "# 70"
   ]
  },
  {
   "cell_type": "markdown",
   "id": "c4b83217",
   "metadata": {},
   "source": [
    "### Question 4"
   ]
  },
  {
   "cell_type": "markdown",
   "id": "1536b8c7",
   "metadata": {},
   "source": [
    "Use a comparison (less than, equal to, etc.) to determine if the result of 3 to the power of some number (the input variable `exponent`) is between 100 and 1000."
   ]
  },
  {
   "cell_type": "code",
   "execution_count": 24,
   "id": "616aa8b8",
   "metadata": {},
   "outputs": [],
   "source": [
    "exponent = 7"
   ]
  },
  {
   "cell_type": "code",
   "execution_count": 25,
   "id": "69e9a37a",
   "metadata": {},
   "outputs": [
    {
     "data": {
      "text/plain": [
       "False"
      ]
     },
     "execution_count": 25,
     "metadata": {},
     "output_type": "execute_result"
    }
   ],
   "source": [
    "3**exponent > 100 and 3**exponent < 1000"
   ]
  },
  {
   "cell_type": "markdown",
   "id": "126dd2a4",
   "metadata": {},
   "source": [
    "### Question 4"
   ]
  },
  {
   "cell_type": "code",
   "execution_count": 26,
   "id": "e43a479b",
   "metadata": {},
   "outputs": [],
   "source": [
    "cloud_cover = 15\n",
    "city = 'Oshkosh'\n",
    "cfc_present = True\n",
    "ozone = 3.8"
   ]
  },
  {
   "cell_type": "markdown",
   "id": "141cb27d",
   "metadata": {},
   "source": [
    "**A)** Use the variables in the cell above and check that the following conditions are true:\n",
    "* Cloud cover is less than 90\n",
    "* city is not Minneapolis\n",
    "* There are no cfcs present\n",
    "* ozone is greater than or equal to 2 and above 0.5\n",
    "\n",
    "_Print a message to the user informing them if all of the conditions were true or not._"
   ]
  },
  {
   "cell_type": "markdown",
   "id": "ae4809a4",
   "metadata": {},
   "source": [
    "**I realize on this question that ozone being greater than 2 and above 0.5 is repetitive, so my apologies for the nonsensical request.  In the solution I just dropped the \"above 0.5\" off in my solution**"
   ]
  },
  {
   "cell_type": "code",
   "execution_count": 27,
   "id": "88ed5f1a",
   "metadata": {},
   "outputs": [
    {
     "name": "stdout",
     "output_type": "stream",
     "text": [
      "not all conditions met\n"
     ]
    }
   ],
   "source": [
    "if cloud_cover < 90 and city != 'Minneapolis' and cfc_present == False and ozone >= 2:\n",
    "    print('all conditions met')\n",
    "else:\n",
    "    print('not all conditions met')"
   ]
  },
  {
   "cell_type": "markdown",
   "id": "be47f4c3",
   "metadata": {},
   "source": [
    "**B)** Using the same variables and conditions as in part A, change your code so that it checks if any of the conditions are true."
   ]
  },
  {
   "cell_type": "code",
   "execution_count": 28,
   "id": "a08f3049",
   "metadata": {},
   "outputs": [
    {
     "name": "stdout",
     "output_type": "stream",
     "text": [
      "at least one condition met\n"
     ]
    }
   ],
   "source": [
    "if cloud_cover < 90 or city != 'Minneapolis' or cfc_present == False or ozone >= 2:\n",
    "    print('at least one condition met')"
   ]
  },
  {
   "cell_type": "markdown",
   "id": "751cccd4",
   "metadata": {},
   "source": [
    "### Question 5"
   ]
  },
  {
   "cell_type": "markdown",
   "id": "2fe1d315",
   "metadata": {},
   "source": [
    "As a variable, wind is often expressed as two different numbers, which together make up the complete wind vector:\n",
    "1. wind speed\n",
    "2. wind direction\n",
    "\n",
    "Wind speed is expressed in degrees and follows the following quadrant:\n",
    "\n",
    "<img src=\"https://slideplayer.com/slide/17852123/106/images/17/Wind+Direction+%28degrees%29+Meteorologists+generally+use+degrees.jpg\" width=520>\n",
    "Note that 0 degrees is on top and the degrees increase going clockwise. Use this knowledge to work through the following problems."
   ]
  },
  {
   "cell_type": "markdown",
   "id": "507e56b2",
   "metadata": {},
   "source": [
    "**A)** Sometimes wind directions are conveyed as greater than 360 degrees.  Numbers above 360 indicate a second loop around the quadrant. For example:\n",
    "- 450 degrees is the same as 90 degrees\n",
    "- 720 degrees is the same as 0 degrees\n",
    "\n",
    "Given wind directions that are greater than 360, write some code to return the wind direction expressed between 0 and 360.  Check your code works against both of the numbers below."
   ]
  },
  {
   "cell_type": "code",
   "execution_count": 29,
   "id": "91d42c00",
   "metadata": {},
   "outputs": [],
   "source": [
    "large_wind_direction = 512\n",
    "large_wind_direction = 750"
   ]
  },
  {
   "cell_type": "code",
   "execution_count": 30,
   "id": "bff4acd3",
   "metadata": {},
   "outputs": [
    {
     "data": {
      "text/plain": [
       "30"
      ]
     },
     "execution_count": 30,
     "metadata": {},
     "output_type": "execute_result"
    }
   ],
   "source": [
    "large_wind_direction % 360"
   ]
  },
  {
   "cell_type": "markdown",
   "id": "64e5a58a",
   "metadata": {},
   "source": [
    "_**Hint** check out the Python arithmetic operators_"
   ]
  },
  {
   "cell_type": "markdown",
   "id": "c483e802",
   "metadata": {},
   "source": [
    "**B)** Write a statement to check if a given wind direction is coming from the west."
   ]
  },
  {
   "cell_type": "code",
   "execution_count": 31,
   "id": "281b4287",
   "metadata": {},
   "outputs": [],
   "source": [
    "wind_direction = 145"
   ]
  },
  {
   "cell_type": "code",
   "execution_count": 32,
   "id": "90cdbf58",
   "metadata": {},
   "outputs": [
    {
     "data": {
      "text/plain": [
       "False"
      ]
     },
     "execution_count": 32,
     "metadata": {},
     "output_type": "execute_result"
    }
   ],
   "source": [
    "# Due west only\n",
    "wind_direction == 270"
   ]
  },
  {
   "cell_type": "code",
   "execution_count": 33,
   "id": "32d65d25",
   "metadata": {},
   "outputs": [
    {
     "data": {
      "text/plain": [
       "False"
      ]
     },
     "execution_count": 33,
     "metadata": {},
     "output_type": "execute_result"
    }
   ],
   "source": [
    "# Range of degrees\n",
    "wind_direction > 240 and wind_direction < 300"
   ]
  },
  {
   "cell_type": "markdown",
   "id": "4ffdbb8c",
   "metadata": {},
   "source": [
    "**C)** _Write a block of code that takes a wind direction and prints back to the user the direction the wind is coming from.  You can use a range of values for each direction (i.e. \"east\" means wind coming from between 45 and 135 degrees)._"
   ]
  },
  {
   "cell_type": "code",
   "execution_count": 34,
   "id": "efb39d09",
   "metadata": {},
   "outputs": [
    {
     "name": "stdout",
     "output_type": "stream",
     "text": [
      "East\n"
     ]
    }
   ],
   "source": [
    "wind_direction = 132\n",
    "if wind_direction > 45 and wind_direction <= 135:\n",
    "    print('East')\n",
    "elif wind_direction > 135 and wind_direction <= 225:\n",
    "    print('South')\n",
    "elif wind_direction > 225 and wind_direction <= 315:\n",
    "    print('West')\n",
    "elif (wind_direction > 315 and wind_direction <= 360) or wind_direction < 45:\n",
    "    print('North')\n",
    "else:\n",
    "    print('invalid wind direction')"
   ]
  },
  {
   "cell_type": "markdown",
   "id": "046d1ddc",
   "metadata": {},
   "source": [
    "**C)** Monsoon winds in some regions are identified by winds coming from the Northwest (+/- 30 degrees) at greater than or equal to 20 mph.  Write a statement to evaluate if the wind direction/wind speed combination would qualify as a monsoon-type wind."
   ]
  },
  {
   "cell_type": "code",
   "execution_count": 35,
   "id": "3d43b8fd",
   "metadata": {},
   "outputs": [],
   "source": [
    "wind_speed = 22\n",
    "wind_direction = 43"
   ]
  },
  {
   "cell_type": "code",
   "execution_count": 36,
   "id": "3f07a82c",
   "metadata": {},
   "outputs": [
    {
     "name": "stdout",
     "output_type": "stream",
     "text": [
      "not a monsoon wind\n"
     ]
    }
   ],
   "source": [
    "if wind_speed > 20 and wind_direction > 285 and wind_direction < 345:\n",
    "    print('monsoon wind')\n",
    "else:\n",
    "    print('not a monsoon wind')"
   ]
  },
  {
   "cell_type": "markdown",
   "id": "171be101",
   "metadata": {},
   "source": [
    "### Question 6"
   ]
  },
  {
   "cell_type": "markdown",
   "id": "63dad4f4",
   "metadata": {},
   "source": [
    "Given a temperature in fahrenheit, write an equation to convert the temperature to celsius.  Print out a statement after converting to celsius informing the user whether or not the temperature has reached boiling point of water."
   ]
  },
  {
   "cell_type": "code",
   "execution_count": 37,
   "id": "a1cd59f0",
   "metadata": {},
   "outputs": [
    {
     "name": "stdout",
     "output_type": "stream",
     "text": [
      "30.555555555555557\n"
     ]
    }
   ],
   "source": [
    "fahrenheit = 87\n",
    "celsius = (fahrenheit - 32)*5/9\n",
    "print(celsius)"
   ]
  },
  {
   "cell_type": "code",
   "execution_count": null,
   "id": "11d33c2a",
   "metadata": {},
   "outputs": [],
   "source": []
  }
 ],
 "metadata": {
  "kernelspec": {
   "display_name": "Python 3",
   "language": "python",
   "name": "python3"
  },
  "language_info": {
   "codemirror_mode": {
    "name": "ipython",
    "version": 3
   },
   "file_extension": ".py",
   "mimetype": "text/x-python",
   "name": "python",
   "nbconvert_exporter": "python",
   "pygments_lexer": "ipython3",
   "version": "3.8.8"
  }
 },
 "nbformat": 4,
 "nbformat_minor": 5
}
