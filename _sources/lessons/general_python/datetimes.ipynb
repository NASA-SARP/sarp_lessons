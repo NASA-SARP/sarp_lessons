{
 "cells": [
  {
   "cell_type": "markdown",
   "id": "344755f3",
   "metadata": {},
   "source": [
    "# Datetimes"
   ]
  },
  {
   "cell_type": "markdown",
   "id": "9de2631f",
   "metadata": {},
   "source": [
    ":::{admonition} Lesson Content\n",
    ":class: note, dropdown\n",
    "- Dates\n",
    "- Datetimes\n",
    "- Timedeltas\n",
    ":::"
   ]
  },
  {
   "cell_type": "markdown",
   "id": "9aa8c01d",
   "metadata": {},
   "source": [
    "## Context\n",
    "Dates and times are a common part of working with scientific data.  They are very common fields.  While dates and times are commonly represented as strings, you can also represent them using Python-specific objects that come with added functionality specific to dates and times."
   ]
  },
  {
   "cell_type": "markdown",
   "id": "d66f6ba3",
   "metadata": {},
   "source": [
    "## Python library `datetime`\n",
    "\n",
    "The `datetime` library has three major components:\n",
    "1. `date()` - for handling a date (Ex. 2021-06-28)\n",
    "2. `datetime()` - for handling a specific time of a particular date (Ex. 2021-06-28 at 12:31pm)\n",
    "3. `timedelta()` - for handling a length of time (Ex. 1 hour, 2 weeks, 3.5 years)"
   ]
  },
  {
   "cell_type": "markdown",
   "id": "76083325",
   "metadata": {},
   "source": [
    "## Dates"
   ]
  },
  {
   "cell_type": "code",
   "execution_count": 1,
   "id": "7ce6597c",
   "metadata": {},
   "outputs": [],
   "source": [
    "from datetime import date"
   ]
  },
  {
   "cell_type": "code",
   "execution_count": 2,
   "id": "42c11ff9",
   "metadata": {
    "scrolled": true
   },
   "outputs": [
    {
     "data": {
      "text/plain": [
       "datetime.date(2017, 6, 30)"
      ]
     },
     "execution_count": 2,
     "metadata": {},
     "output_type": "execute_result"
    }
   ],
   "source": [
    "date(2017, 6, 30)"
   ]
  },
  {
   "cell_type": "code",
   "execution_count": 3,
   "id": "4c1a5da8",
   "metadata": {},
   "outputs": [],
   "source": [
    "# assigning a date to a variable\n",
    "birthday = date(2019, 9, 12)"
   ]
  },
  {
   "cell_type": "markdown",
   "id": "c92c073a",
   "metadata": {},
   "source": [
    "### Why bother?\n",
    "The dates are nice, but why put in the effort?  Your data by default probably uses a string, for example `2016-06-30`, so why not stick with that?\n",
    "\n",
    "#### Reason 1\n",
    "> If Python knows it's a date it can help you find errors."
   ]
  },
  {
   "cell_type": "code",
   "execution_count": 4,
   "id": "c06c326e",
   "metadata": {
    "tags": [
     "raises-exception"
    ]
   },
   "outputs": [
    {
     "ename": "ValueError",
     "evalue": "day is out of range for month",
     "output_type": "error",
     "traceback": [
      "\u001b[0;31m---------------------------------------------------------------------------\u001b[0m",
      "\u001b[0;31mValueError\u001b[0m                                Traceback (most recent call last)",
      "Cell \u001b[0;32mIn[4], line 1\u001b[0m\n\u001b[0;32m----> 1\u001b[0m \u001b[43mdate\u001b[49m\u001b[43m(\u001b[49m\u001b[38;5;241;43m2017\u001b[39;49m\u001b[43m,\u001b[49m\u001b[43m \u001b[49m\u001b[38;5;241;43m6\u001b[39;49m\u001b[43m,\u001b[49m\u001b[43m \u001b[49m\u001b[38;5;241;43m31\u001b[39;49m\u001b[43m)\u001b[49m\n",
      "\u001b[0;31mValueError\u001b[0m: day is out of range for month"
     ]
    }
   ],
   "source": [
    "date(2017, 6, 31)"
   ]
  },
  {
   "cell_type": "code",
   "execution_count": 5,
   "id": "a6408bf9",
   "metadata": {
    "tags": []
   },
   "outputs": [
    {
     "data": {
      "text/plain": [
       "datetime.date(2012, 2, 29)"
      ]
     },
     "execution_count": 5,
     "metadata": {},
     "output_type": "execute_result"
    }
   ],
   "source": [
    "# Feb 29 exists during a leap year\n",
    "date(2012, 2, 29)"
   ]
  },
  {
   "cell_type": "code",
   "execution_count": 6,
   "id": "6a2fcb15",
   "metadata": {
    "scrolled": true,
    "tags": [
     "raises-exception"
    ]
   },
   "outputs": [
    {
     "ename": "ValueError",
     "evalue": "day is out of range for month",
     "output_type": "error",
     "traceback": [
      "\u001b[0;31m---------------------------------------------------------------------------\u001b[0m",
      "\u001b[0;31mValueError\u001b[0m                                Traceback (most recent call last)",
      "Cell \u001b[0;32mIn[6], line 2\u001b[0m\n\u001b[1;32m      1\u001b[0m \u001b[38;5;66;03m# But not during other years!\u001b[39;00m\n\u001b[0;32m----> 2\u001b[0m \u001b[43mdate\u001b[49m\u001b[43m(\u001b[49m\u001b[38;5;241;43m2011\u001b[39;49m\u001b[43m,\u001b[49m\u001b[43m \u001b[49m\u001b[38;5;241;43m2\u001b[39;49m\u001b[43m,\u001b[49m\u001b[43m \u001b[49m\u001b[38;5;241;43m29\u001b[39;49m\u001b[43m)\u001b[49m\n",
      "\u001b[0;31mValueError\u001b[0m: day is out of range for month"
     ]
    }
   ],
   "source": [
    "# But not during other years!\n",
    "date(2011, 2, 29)"
   ]
  },
  {
   "cell_type": "markdown",
   "id": "5751e5e4",
   "metadata": {},
   "source": [
    "#### Reason 2\n",
    "> Added organization through quick accessing of elements.\n",
    "\n",
    "We'll talk about this more below."
   ]
  },
  {
   "cell_type": "markdown",
   "id": "b7f03e19",
   "metadata": {},
   "source": [
    "### Accessing parts of a date\n",
    "\n",
    "Once you have a date created you can easily pull out the piece you want."
   ]
  },
  {
   "cell_type": "code",
   "execution_count": 7,
   "id": "318b6f58",
   "metadata": {},
   "outputs": [],
   "source": [
    "campaign_start = date(2011, 5, 15)"
   ]
  },
  {
   "cell_type": "code",
   "execution_count": 8,
   "id": "127b4fec",
   "metadata": {},
   "outputs": [
    {
     "data": {
      "text/plain": [
       "5"
      ]
     },
     "execution_count": 8,
     "metadata": {},
     "output_type": "execute_result"
    }
   ],
   "source": [
    "campaign_start.month"
   ]
  },
  {
   "cell_type": "code",
   "execution_count": 9,
   "id": "a687f2c6",
   "metadata": {},
   "outputs": [
    {
     "data": {
      "text/plain": [
       "6"
      ]
     },
     "execution_count": 9,
     "metadata": {},
     "output_type": "execute_result"
    }
   ],
   "source": [
    "# Monday is 0 and Sunday is 6\n",
    "campaign_start.weekday()"
   ]
  },
  {
   "cell_type": "markdown",
   "id": "53c4e9b9",
   "metadata": {},
   "source": [
    ":::{admonition} 📝 Check your understanding\n",
    ":class: tip\n",
    "\n",
    "Create a date object that represents your birthday.\n",
    "\n",
    ":::"
   ]
  },
  {
   "cell_type": "markdown",
   "id": "b258ab8c",
   "metadata": {},
   "source": [
    "### Using `dates()` with other objects\n",
    "You can do what you want with these objects, such as putting them in lists or dictionaries."
   ]
  },
  {
   "cell_type": "code",
   "execution_count": 10,
   "id": "f74047ac",
   "metadata": {},
   "outputs": [],
   "source": [
    "holidays = [date(2021, 1, 1), date(2021, 1, 18), date(2021, 11, 25)]\n",
    "holidays_dict = {\n",
    "    'New Years Day': date(2021, 1, 1),\n",
    "    'MLK Day': date(2021, 1, 18),\n",
    "    'Thanksgiving': date(2021, 11, 25),\n",
    "}"
   ]
  },
  {
   "cell_type": "code",
   "execution_count": 11,
   "id": "40cef9a4",
   "metadata": {},
   "outputs": [
    {
     "data": {
      "text/plain": [
       "datetime.date(2021, 11, 25)"
      ]
     },
     "execution_count": 11,
     "metadata": {},
     "output_type": "execute_result"
    }
   ],
   "source": [
    "holidays_dict['Thanksgiving']"
   ]
  },
  {
   "cell_type": "markdown",
   "id": "29f08d62",
   "metadata": {},
   "source": [
    "### A comment on calendars\n",
    "\n",
    "Turns out there are actually lots of different calendars that can be used to track time.  The one you are most likely familiar with is the Gregorian calendar (using years, months, and days).  Another common one that you will use is a Julian calendar, which starts on January 1st and counts the days one by one.\n",
    "\n",
    "If you use model data you will also find more types of calendars, such as `365_day` (just ignores leap days) or `360_day` (every month has 30 days).\n",
    "\n",
    "<img src=\"https://imgs.xkcd.com/comics/leap_smearing.png\" width=350>\n"
   ]
  },
  {
   "cell_type": "markdown",
   "id": "ba81ed7b",
   "metadata": {},
   "source": [
    ":::{admonition} 📝 Check your understanding\n",
    ":class: tip\n",
    "\n",
    "```\n",
    "holidays_dict = {\n",
    "    'New Years Day': date(2021, 1, 1),\n",
    "    'MLK Day': date(2021, 1, 18),\n",
    "    'Thanksgiving': date(2021, 11, 25),\n",
    "}\n",
    "```\n",
    "What is the output of `holidays_dict['MLK Day'].day`?\n",
    "\n",
    ":::"
   ]
  },
  {
   "cell_type": "markdown",
   "id": "55cd254a",
   "metadata": {},
   "source": [
    "## Datetimes"
   ]
  },
  {
   "cell_type": "markdown",
   "id": "04225cf5",
   "metadata": {},
   "source": [
    "### Creating `datetime()` objects manually"
   ]
  },
  {
   "cell_type": "code",
   "execution_count": 12,
   "id": "8a40e0ae",
   "metadata": {},
   "outputs": [],
   "source": [
    "from datetime import datetime"
   ]
  },
  {
   "cell_type": "code",
   "execution_count": 13,
   "id": "ede19c83",
   "metadata": {},
   "outputs": [
    {
     "data": {
      "text/plain": [
       "datetime.datetime(2021, 9, 21, 13, 45)"
      ]
     },
     "execution_count": 13,
     "metadata": {},
     "output_type": "execute_result"
    }
   ],
   "source": [
    "# Created just like `date` objects\n",
    "datetime(2021, 9, 21, 13, 45, 0)"
   ]
  },
  {
   "cell_type": "markdown",
   "id": "0b729d6b",
   "metadata": {},
   "source": [
    "We have the same ability as with `date()`s to access the different parts of the datetime object.  One place this could come in handy is if we need to narrow down our data by some aspect of the date."
   ]
  },
  {
   "cell_type": "code",
   "execution_count": 14,
   "id": "551e4c4a",
   "metadata": {},
   "outputs": [
    {
     "name": "stdout",
     "output_type": "stream",
     "text": [
      "sample taken in the afternoon\n"
     ]
    }
   ],
   "source": [
    "example = datetime(2021, 9, 21, 13, 45, 0)\n",
    "if example.hour >= 12 and example.hour <= 18:\n",
    "    print('sample taken in the afternoon')"
   ]
  },
  {
   "cell_type": "markdown",
   "id": "41e61add",
   "metadata": {},
   "source": [
    "### A comment on timezones\n",
    "\n",
    "The `datetime` library also has the ability to keep track and convert timezones.  Timezones can cause a lot of chaos in the data world.  We aren't going to talk about them in depth but know that if you need to track timezones for whatever reason `datetime` can handle that."
   ]
  },
  {
   "cell_type": "markdown",
   "id": "23a4c2f1",
   "metadata": {},
   "source": [
    "## Creating `date()`s and `datetime()`s from strings"
   ]
  },
  {
   "cell_type": "markdown",
   "id": "052c94dd",
   "metadata": {},
   "source": [
    "Thus far we have created our time objects by inputing the integer number of the year, month, etc.  Much more commonly, though, you aren't creating them from scratch, you are creating them from a string.  For that we have `strptime` and `strftime`.\n",
    "\n",
    "| Syntax      | Description |\n",
    "| :-----------: | :-----------: |\n",
    "| `datetime.strptime()`      | Convert from string to datetime       |\n",
    "| `DATETIME_OBJECT.strftime()`   | Convert from datetime to string       |\n",
    "\n",
    "All of the following strings can be converted programatically into datetime objects:\n",
    "* `'2019-01-29'`\n",
    "* `'01-31-88'`\n",
    "* `'September 12 7:00PM'`\n",
    "* `'Apr 11 2001 13:00:00'`\n",
    "* `'210 9:00'`\n",
    "* And so many other combinations"
   ]
  },
  {
   "cell_type": "markdown",
   "id": "ebed2bdb",
   "metadata": {},
   "source": [
    "The key part of converting from string to datetime and vice versa is that we need to tell the computer what is supposed to be looking for in the string.  For that we have labels, or directives, such as `%Y` or `%d`.  The place to consult for format strings is [strftime.org](https://strftime.org/)."
   ]
  },
  {
   "cell_type": "markdown",
   "id": "3f272eee",
   "metadata": {},
   "source": [
    "### Some Examples"
   ]
  },
  {
   "cell_type": "markdown",
   "id": "d954334d",
   "metadata": {},
   "source": [
    "#### Example 1"
   ]
  },
  {
   "cell_type": "code",
   "execution_count": 15,
   "id": "dc095b9f",
   "metadata": {},
   "outputs": [],
   "source": [
    "date_string = '2019-01-29'"
   ]
  },
  {
   "cell_type": "code",
   "execution_count": null,
   "id": "09dbe727",
   "metadata": {},
   "outputs": [],
   "source": []
  },
  {
   "cell_type": "markdown",
   "id": "f1424446",
   "metadata": {},
   "source": [
    "#### Example 2"
   ]
  },
  {
   "cell_type": "code",
   "execution_count": 16,
   "id": "b57a0dfc",
   "metadata": {},
   "outputs": [],
   "source": [
    "date_string = 'Apr 11 2001 13:00:00'"
   ]
  },
  {
   "cell_type": "code",
   "execution_count": null,
   "id": "a19337dc",
   "metadata": {},
   "outputs": [],
   "source": []
  },
  {
   "cell_type": "markdown",
   "id": "36fcf7b0",
   "metadata": {},
   "source": [
    "#### Example 3\n",
    "\n",
    "_Switching date formats_"
   ]
  },
  {
   "cell_type": "code",
   "execution_count": 17,
   "id": "4c62a039",
   "metadata": {},
   "outputs": [],
   "source": [
    "start_date_string = '2016234'"
   ]
  },
  {
   "cell_type": "code",
   "execution_count": null,
   "id": "a55b8495",
   "metadata": {},
   "outputs": [],
   "source": []
  },
  {
   "cell_type": "code",
   "execution_count": 18,
   "id": "b449cea7",
   "metadata": {},
   "outputs": [],
   "source": [
    "# Goal: '2016-08-21 00:00:00'"
   ]
  },
  {
   "cell_type": "markdown",
   "id": "d2a35b49",
   "metadata": {},
   "source": [
    ":::{admonition} 📝 Check your understanding\n",
    ":class: tip\n",
    "\n",
    "What is the format string corresponding to the following datetime string?\n",
    "\n",
    "`'8/30/2019 22:13:00'`, which shows the date August 30th 2019 at 10:13PM (military time).\n",
    "\n",
    ":::"
   ]
  },
  {
   "cell_type": "markdown",
   "id": "39b06a76",
   "metadata": {},
   "source": [
    "## `timedelta()` objects"
   ]
  },
  {
   "cell_type": "markdown",
   "id": "4590cf34",
   "metadata": {},
   "source": [
    "While `date()`sand `datetime()`s represent a specific moment in time, `timedelta()`s represent a length of time, for example, one week, two hours, or 15 seconds.  They aren't connected to any particular moment, they just represent a set length of time."
   ]
  },
  {
   "cell_type": "code",
   "execution_count": 19,
   "id": "457426f7",
   "metadata": {},
   "outputs": [],
   "source": [
    "from datetime import timedelta"
   ]
  },
  {
   "cell_type": "code",
   "execution_count": 20,
   "id": "d49ea636",
   "metadata": {},
   "outputs": [
    {
     "data": {
      "text/plain": [
       "datetime.timedelta(days=3)"
      ]
     },
     "execution_count": 20,
     "metadata": {},
     "output_type": "execute_result"
    }
   ],
   "source": [
    "# Representing 3 days\n",
    "timedelta(days=3)"
   ]
  },
  {
   "cell_type": "code",
   "execution_count": 21,
   "id": "9820e94d",
   "metadata": {},
   "outputs": [
    {
     "data": {
      "text/plain": [
       "datetime.date(2023, 8, 6)"
      ]
     },
     "execution_count": 21,
     "metadata": {},
     "output_type": "execute_result"
    }
   ],
   "source": [
    "date.today() + timedelta(days=3)"
   ]
  },
  {
   "cell_type": "code",
   "execution_count": 22,
   "id": "fc12ec23",
   "metadata": {},
   "outputs": [
    {
     "data": {
      "text/plain": [
       "datetime.date(2023, 7, 31)"
      ]
     },
     "execution_count": 22,
     "metadata": {},
     "output_type": "execute_result"
    }
   ],
   "source": [
    "# Negatives also work\n",
    "date.today() + timedelta(days=-3)"
   ]
  },
  {
   "cell_type": "markdown",
   "id": "4d945f06",
   "metadata": {},
   "source": [
    "When we combine `timedelta()`s and `datetime()`s what we get is the ability to really quickly determine how long there is between two things."
   ]
  },
  {
   "cell_type": "code",
   "execution_count": 23,
   "id": "bbe4eea5",
   "metadata": {},
   "outputs": [
    {
     "data": {
      "text/plain": [
       "datetime.datetime(2023, 8, 6, 16, 3, 39, 209746)"
      ]
     },
     "execution_count": 23,
     "metadata": {},
     "output_type": "execute_result"
    }
   ],
   "source": [
    "# Combine lengths of time\n",
    "datetime.now() + timedelta(days=3, hours=1)"
   ]
  },
  {
   "cell_type": "code",
   "execution_count": 24,
   "id": "8fd8d2b4",
   "metadata": {},
   "outputs": [
    {
     "data": {
      "text/plain": [
       "datetime.timedelta(days=616)"
      ]
     },
     "execution_count": 24,
     "metadata": {},
     "output_type": "execute_result"
    }
   ],
   "source": [
    "# If you want to find the difference between two lengths of time\n",
    "date.today() - date(2021, 11, 25)"
   ]
  },
  {
   "cell_type": "markdown",
   "id": "ea76413a",
   "metadata": {},
   "source": [
    ":::{admonition} 📝 Check your understanding\n",
    ":class: tip\n",
    "\n",
    "How many days are there between today and Thanksgiving of this year (November 25th 2022)?\n",
    "\n",
    ":::"
   ]
  },
  {
   "cell_type": "markdown",
   "id": "a2ddc3d6",
   "metadata": {},
   "source": [
    "## Code Summary"
   ]
  },
  {
   "cell_type": "code",
   "execution_count": 25,
   "id": "5d62582e",
   "metadata": {},
   "outputs": [],
   "source": [
    "from datetime import datetime, date, timedelta"
   ]
  },
  {
   "cell_type": "code",
   "execution_count": 26,
   "id": "0ae9d30f",
   "metadata": {},
   "outputs": [
    {
     "name": "stdout",
     "output_type": "stream",
     "text": [
      "independence day was on the day of week : 0\n",
      "flight month: 12\n",
      "I'm a datetime object: 2019-01-29 00:00:00\n",
      "one week from today will be: 2023-08-10 15:03:39.234559\n",
      "this year started  579 days, 15:03:39.234617 ago\n"
     ]
    }
   ],
   "source": [
    "# Creating a single date\n",
    "independence_day = date(2022, 7, 4)\n",
    "# Creating a single datetime\n",
    "flight_start = datetime(2021, 12, 17, 9, 28, 00)\n",
    "\n",
    "# Inspecting dates/datetimes\n",
    "print('independence day was on the day of week :', independence_day.weekday())  # 0 is Monday\n",
    "print('flight month:', flight_start.month)\n",
    "\n",
    "# Parsing strings\n",
    "date_string = '2019-01-29'\n",
    "dt = datetime.strptime(date_string, '%Y-%m-%d')\n",
    "print(\"I'm a datetime object:\", dt)\n",
    "\n",
    "# Timedeltas\n",
    "timedelta(days=7)\n",
    "print('one week from today will be:', datetime.today()+timedelta(days=7))\n",
    "print('this year started ', datetime.today() - datetime(2022, 1, 1), 'ago')\n"
   ]
  }
 ],
 "metadata": {
  "interpreter": {
   "hash": "c6a7549e0a21eb75b694ff081490f6e8db8aea94086d29d6a7e085c556b251de"
  },
  "kernelspec": {
   "display_name": "Python 3 (ipykernel)",
   "language": "python",
   "name": "python3"
  },
  "language_info": {
   "codemirror_mode": {
    "name": "ipython",
    "version": 3
   },
   "file_extension": ".py",
   "mimetype": "text/x-python",
   "name": "python",
   "nbconvert_exporter": "python",
   "pygments_lexer": "ipython3",
   "version": "3.10.8"
  }
 },
 "nbformat": 4,
 "nbformat_minor": 5
}
