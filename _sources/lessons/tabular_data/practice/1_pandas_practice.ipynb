{
 "cells": [
  {
   "cell_type": "markdown",
   "id": "0dee22d4",
   "metadata": {},
   "source": [
    "# `pandas` Practice"
   ]
  },
  {
   "cell_type": "markdown",
   "id": "c6bf45ba",
   "metadata": {},
   "source": [
    "## Part 1"
   ]
  },
  {
   "cell_type": "code",
   "execution_count": 4,
   "id": "e881609e",
   "metadata": {},
   "outputs": [],
   "source": [
    "# Import the libary.  You only have to do this once per file.\n",
    "import pandas as pd"
   ]
  },
  {
   "cell_type": "markdown",
   "id": "0354929c",
   "metadata": {},
   "source": [
    "### `pandas` Data Structures"
   ]
  },
  {
   "cell_type": "markdown",
   "id": "b28004d1",
   "metadata": {},
   "source": [
    "1. Use `pd.Dataframe()` to convert the following dictionary into a pandas Dataframe.  Assign it to a variable called `earthquake_df`."
   ]
  },
  {
   "cell_type": "code",
   "execution_count": 5,
   "id": "aacdbf98",
   "metadata": {},
   "outputs": [],
   "source": [
    "earthquakes_dict = {\n",
    "    'magnitude': [3.2, 2.6, 5.4, 6.0, 6.0, 4.5, 4.2], \n",
    "    'depth (km)': [6, 5, 3, 15, 14, 10, 8],\n",
    "    'region': ['California', 'Philippines', 'Philippines', 'Indonesia', 'California', 'California', 'California']\n",
    "}"
   ]
  },
  {
   "cell_type": "code",
   "execution_count": null,
   "id": "06e79f6b",
   "metadata": {},
   "outputs": [],
   "source": []
  },
  {
   "cell_type": "markdown",
   "id": "4c461f63",
   "metadata": {},
   "source": [
    "2. Print just the Depth column from the dataframe.  What is the data type of that subset of data?"
   ]
  },
  {
   "cell_type": "code",
   "execution_count": null,
   "id": "688fa05a",
   "metadata": {},
   "outputs": [],
   "source": []
  },
  {
   "cell_type": "markdown",
   "id": "4844b78f",
   "metadata": {},
   "source": [
    "Check your answer using `type()` (Ex. `type(earthquake_df)`)"
   ]
  },
  {
   "cell_type": "markdown",
   "id": "0d6eb4e0",
   "metadata": {},
   "source": [
    "### Accessing values in Dataframes"
   ]
  },
  {
   "cell_type": "markdown",
   "id": "b5325d5d",
   "metadata": {},
   "source": [
    "3. print out the first row in the earthquakes dataframe"
   ]
  },
  {
   "cell_type": "code",
   "execution_count": null,
   "id": "33fe34a0",
   "metadata": {},
   "outputs": [],
   "source": []
  },
  {
   "cell_type": "markdown",
   "id": "2b3b93b3",
   "metadata": {},
   "source": [
    "4. print out the 2nd-5th rows in the earthquakes dataframe"
   ]
  },
  {
   "cell_type": "code",
   "execution_count": null,
   "id": "7eed07e0",
   "metadata": {},
   "outputs": [],
   "source": []
  },
  {
   "cell_type": "markdown",
   "id": "2591a395",
   "metadata": {},
   "source": [
    "5. take the 2nd and 3rd rows of the earthquakes dataframe and assign them to a variables called `philippeans_only`"
   ]
  },
  {
   "cell_type": "code",
   "execution_count": null,
   "id": "900a556e",
   "metadata": {},
   "outputs": [],
   "source": []
  },
  {
   "cell_type": "markdown",
   "id": "f20fa767",
   "metadata": {},
   "source": [
    "6. What is the data type of the new `pilippeans_only` variable?"
   ]
  },
  {
   "cell_type": "code",
   "execution_count": null,
   "id": "5c1e904b",
   "metadata": {},
   "outputs": [],
   "source": []
  },
  {
   "cell_type": "markdown",
   "id": "1943cbc5",
   "metadata": {},
   "source": [
    "### Inspecting and Aggregations"
   ]
  },
  {
   "cell_type": "markdown",
   "id": "48b3d14c",
   "metadata": {},
   "source": [
    "7. Use `.info()` to look up the data type of each of the columns in the dataframe"
   ]
  },
  {
   "cell_type": "code",
   "execution_count": null,
   "id": "e6b8185f",
   "metadata": {},
   "outputs": [],
   "source": []
  },
  {
   "cell_type": "markdown",
   "id": "c8920169",
   "metadata": {},
   "source": [
    "_Note: An \"object\" data type isn't one we have talked about before because it is specific to pandas.  Pandas uses \"object\" as a datatype that is usually strings, but also includes any kind of mixed datatypes.  Generally I just consider \"object\" datatype in pandas to mean \"string\", since that is the most common case._"
   ]
  },
  {
   "cell_type": "markdown",
   "id": "25ac53a8",
   "metadata": {},
   "source": [
    "8. What is:\n",
    "\n",
    "* the strongest earthquake that is listed in this dataset (highest magnitude)?\n",
    "* the mean depth of these earthquakes?"
   ]
  },
  {
   "cell_type": "code",
   "execution_count": null,
   "id": "66f710a5",
   "metadata": {},
   "outputs": [],
   "source": []
  },
  {
   "cell_type": "markdown",
   "id": "c7640d6d",
   "metadata": {},
   "source": [
    "9. Googling practice: Find the number of earthquakes that each of the regions in the dataframe had.  \n",
    "\n",
    "In other words answer the question, \"how many earthquakes occured in California?\", \"how many earthquakes occured in the phillipeans?\", etc."
   ]
  },
  {
   "cell_type": "code",
   "execution_count": null,
   "id": "e60305c0",
   "metadata": {},
   "outputs": [],
   "source": []
  },
  {
   "cell_type": "markdown",
   "id": "52080a34",
   "metadata": {},
   "source": [
    ":::{admonition} Hint\n",
    ":class: note, dropdown\n",
    "\n",
    "- Googling suggestion: \"pandas dataframe number of occurances of a value\"\n",
    "- Website suggestion: Check out [this](https://www.marsja.se/pandas-count-occurrences-in-column-unique-values/) piece of the internet\n",
    "\n",
    ":::"
   ]
  },
  {
   "cell_type": "markdown",
   "id": "4e229f5c",
   "metadata": {},
   "source": [
    "## Filepaths"
   ]
  },
  {
   "cell_type": "markdown",
   "id": "56957969",
   "metadata": {},
   "source": [
    "You have been given a laminated piece of paper with the following file structure on it. This file structure is an abbreviated version of the file structure of the SARP laptops. `...` represents additional folder contents which are not shown in this diagram.\n",
    "\n",
    "![Folder structure](../images/SARP_computer_structure.jpg)\n"
   ]
  },
  {
   "cell_type": "markdown",
   "id": "b56a48ce",
   "metadata": {},
   "source": [
    "To help you determine the filepaths you can use the provided laminated sheet with the filepath on it. For each path, do the following:\n",
    "\n",
    "1. Circle the file that you are finding the path to\n",
    "2. Circle the starting location of your file path. What will the starting location always be for an absolute filepath?  For a relative filepath, underline the file you are starting from and circle the starting directory.\n",
    "3. Write down the starting directory For a relative filepath. In this step there is 1 possible option for an absolute filepath and 2 options for a relative filepath\n",
    "4. Trace the lines from the starting directory to the end file. Whenever you cross a directory add the name of the directory to your filepath, followed by a `\\`. \n",
    "5. Add the name of the file to the end of the filepath"
   ]
  },
  {
   "cell_type": "markdown",
   "id": "a500402a",
   "metadata": {},
   "source": [
    "### Absolute Filepaths\n",
    "1. `geopandas.ipynb`\n",
    "2. `shrubland_change_Jan2022-Dec2006.mp4`\n",
    "3. `dramatic_chipmunk.gif`\n",
    "\n",
    "### Relative Filepaths\n",
    "1. `example_code.py` -> `dramatic_chipmunk.gif`\n",
    "1. `geopandas.ipynb` -> `CAcountymap.geojson`\n",
    "1. `extract_features.ipynb` -> `aviris_f1806t01p00r02_img`\n",
    "3. `geopandas.ipynb` -> `aviris_f1806t01p00r02_img`\n",
    "2. `classify_shrublands.ipynb` -> `dramatic_chipmunk.gif`"
   ]
  },
  {
   "cell_type": "markdown",
   "id": "86213c87",
   "metadata": {},
   "source": [
    "## Part 2"
   ]
  },
  {
   "cell_type": "markdown",
   "id": "9564d476",
   "metadata": {},
   "source": [
    "Please run the following cells to have access to the sample USGS data before you start the practice problems."
   ]
  },
  {
   "cell_type": "code",
   "execution_count": null,
   "id": "f8c7f71f",
   "metadata": {},
   "outputs": [],
   "source": [
    "# Read in the data\n",
    "water_vars = pd.read_csv('../data/englewood_3_12_21_usgs_water.tsv', sep='\\t', skiprows=30)\n",
    "# There are a lot of variables here, so let's shorten our dataframe to a few variables\n",
    "water_vars = water_vars[['datetime', '210920_00060', '210922_00010', '210924_00300', '210925_00400']]\n",
    "# Get rid of the first row of hard-coded datatype info\n",
    "water_vars = water_vars.drop(0)\n",
    "# Rename the columns from their USGS codes to more human-readible names\n",
    "name_codes = {'210920_00060': 'discharge','210922_00010': 'temperature (C)', '210924_00300': 'dissolved oxygen', '210925_00400': 'pH'}\n",
    "water_vars = water_vars.rename(columns=name_codes)\n",
    "# Convert all numeric columns to the proper datatype\n",
    "numeric_cols = water_vars.columns.drop('datetime')\n",
    "water_vars[numeric_cols] = water_vars[numeric_cols].apply(pd.to_numeric)"
   ]
  },
  {
   "cell_type": "code",
   "execution_count": null,
   "id": "68875ad0",
   "metadata": {
    "scrolled": true
   },
   "outputs": [],
   "source": [
    "water_vars"
   ]
  },
  {
   "cell_type": "markdown",
   "id": "d57c658c",
   "metadata": {},
   "source": [
    "### Question 1\n",
    "\n",
    "**A)** Return the mean of all the columns"
   ]
  },
  {
   "cell_type": "code",
   "execution_count": null,
   "id": "1d99e3a5",
   "metadata": {},
   "outputs": [],
   "source": []
  },
  {
   "cell_type": "markdown",
   "id": "3549143b",
   "metadata": {},
   "source": [
    "**B)** Return the mean of just the dissolved oxygen column"
   ]
  },
  {
   "cell_type": "code",
   "execution_count": null,
   "id": "25b3de61",
   "metadata": {},
   "outputs": [],
   "source": []
  },
  {
   "cell_type": "markdown",
   "id": "54956550",
   "metadata": {},
   "source": [
    "**C**) Return the total discharge from the full dataframe"
   ]
  },
  {
   "cell_type": "code",
   "execution_count": null,
   "id": "03ae162b",
   "metadata": {},
   "outputs": [],
   "source": []
  },
  {
   "cell_type": "markdown",
   "id": "6065cb4b",
   "metadata": {},
   "source": [
    "**D)** Return the mean values of all the columns for the first 15 rows"
   ]
  },
  {
   "cell_type": "code",
   "execution_count": null,
   "id": "13b85b3e",
   "metadata": {},
   "outputs": [],
   "source": []
  },
  {
   "cell_type": "markdown",
   "id": "a3dec889",
   "metadata": {},
   "source": [
    "### Question 2\n",
    "\n",
    "Just like with dictionaries, the syntax for viewing a key (in dictionary)/column (in dataframe) is very similar to the syntax for creating a new key/column."
   ]
  },
  {
   "cell_type": "code",
   "execution_count": null,
   "id": "ea3d8a0e",
   "metadata": {
    "scrolled": true
   },
   "outputs": [],
   "source": [
    "# Example: View a column\n",
    "water_vars['temperature (C)']"
   ]
  },
  {
   "cell_type": "code",
   "execution_count": null,
   "id": "6482ce94",
   "metadata": {},
   "outputs": [],
   "source": [
    "# Example: Assign a column (Set all the values to 6)\n",
    "water_vars['temperature'] = 6"
   ]
  },
  {
   "cell_type": "markdown",
   "id": "cc312254",
   "metadata": {},
   "source": [
    "Create a new temperature column which is the the temperature of the water in farenheit.  Calculate the farenheit temperature using the celsius temperature in the `temperature (C)` column."
   ]
  },
  {
   "cell_type": "code",
   "execution_count": null,
   "id": "c363b918",
   "metadata": {},
   "outputs": [],
   "source": []
  },
  {
   "cell_type": "markdown",
   "id": "ba867d24",
   "metadata": {},
   "source": [
    "### Question 3\n",
    "\n",
    "NaN values are an inevitable part of life when working with real data and its important to always be aware of them."
   ]
  },
  {
   "cell_type": "markdown",
   "id": "39706ff6",
   "metadata": {},
   "source": [
    "**A)** Use the function `.isnull()` to create a table full off Boolean values, indicating if that value is NaN or not\n",
    "\n",
    "_[`.isnull()` doc page](https://pandas.pydata.org/pandas-docs/stable/reference/api/pandas.DataFrame.isnull.html?highlight=isnull#pandas.DataFrame.isnull)_"
   ]
  },
  {
   "cell_type": "code",
   "execution_count": null,
   "id": "15de1ed4",
   "metadata": {},
   "outputs": [],
   "source": [
    "# Run this line to make sure you will be able to see more rows in the output\n",
    "pd.set_option('display.min_rows', 40)"
   ]
  },
  {
   "cell_type": "code",
   "execution_count": null,
   "id": "b1aac9b2",
   "metadata": {},
   "outputs": [],
   "source": []
  },
  {
   "cell_type": "code",
   "execution_count": null,
   "id": "ba32c7c1",
   "metadata": {},
   "outputs": [],
   "source": []
  },
  {
   "cell_type": "code",
   "execution_count": null,
   "id": "6e107f2e",
   "metadata": {},
   "outputs": [],
   "source": [
    "# Run this line after this problem if you'd like to reset your output display\n",
    "pd.set_option('display.min_rows', 10)"
   ]
  },
  {
   "cell_type": "markdown",
   "id": "f14e9bd3",
   "metadata": {},
   "source": [
    "**B)** Use the [`.dropna()`](https://pandas.pydata.org/docs/reference/api/pandas.DataFrame.dropna.html) method to replace all of the columns that have any NaN values.  (_That will require an argument in the function._)"
   ]
  },
  {
   "cell_type": "code",
   "execution_count": null,
   "id": "1933c0a4",
   "metadata": {},
   "outputs": [],
   "source": []
  },
  {
   "cell_type": "markdown",
   "id": "261081e8",
   "metadata": {},
   "source": [
    "**C)** Drop any rows that have NaN values.  Assign that dataframe to a new variable called `water_vars_nonan`."
   ]
  },
  {
   "cell_type": "code",
   "execution_count": null,
   "id": "3940af1f",
   "metadata": {},
   "outputs": [],
   "source": []
  },
  {
   "cell_type": "markdown",
   "id": "6b1bf2ca",
   "metadata": {},
   "source": [
    "**D)** Replace all of the NaN values in this dataframe with a different value to indicate NaN: -999."
   ]
  },
  {
   "cell_type": "code",
   "execution_count": null,
   "id": "ccf7822b",
   "metadata": {},
   "outputs": [],
   "source": []
  },
  {
   "cell_type": "markdown",
   "id": "d7c2d76b",
   "metadata": {},
   "source": [
    ":::{admonition} Hint\n",
    ":class: note, dropdown\n",
    "\n",
    "- Google phrase suggestion: try \"pandas dataframe replace null values\"\n",
    "- Website suggestion: [here's a page](https://www.geeksforgeeks.org/python-pandas-dataframe-fillna-to-replace-null-values-in-dataframe/)\n",
    "\n",
    ":::"
   ]
  },
  {
   "cell_type": "markdown",
   "id": "ec5e643f",
   "metadata": {},
   "source": [
    "(After completing this problem please re-run the original data import cells at the top of Part 2 to set your data back to using NaNs.)"
   ]
  },
  {
   "cell_type": "markdown",
   "id": "ba748c66",
   "metadata": {},
   "source": [
    "### Question 4\n",
    "\n",
    "Sort the rows in the dataframe by discharge, with the largest discharge on the top (descending order).  "
   ]
  },
  {
   "cell_type": "code",
   "execution_count": null,
   "id": "ff10f494",
   "metadata": {},
   "outputs": [],
   "source": []
  },
  {
   "cell_type": "markdown",
   "id": "d6fc7be6",
   "metadata": {},
   "source": [
    ":::{admonition} Hint\n",
    ":class: note, dropdown\n",
    "\n",
    "- Google phrase suggestion: \"pandas sort values\"\n",
    "- Website suggestion: [this stackoverflow article](https://stackoverflow.com/questions/37787698/how-to-sort-pandas-dataframe-from-one-column) would be helpful, the second answer in particular\n",
    "\n",
    ":::"
   ]
  },
  {
   "cell_type": "markdown",
   "id": "78f60024",
   "metadata": {},
   "source": [
    "### Question 5"
   ]
  },
  {
   "cell_type": "markdown",
   "id": "2e738ebb",
   "metadata": {},
   "source": [
    "Before doing question 5 run the following lines of code.  This will format our data a little nicer for this problem."
   ]
  },
  {
   "cell_type": "code",
   "execution_count": null,
   "id": "cb626b83",
   "metadata": {},
   "outputs": [],
   "source": [
    "# Set a new index.  Instead of integers 0+, use the datetime instead\n",
    "water_vars = water_vars.set_index(pd.to_datetime(water_vars['datetime']))\n",
    "# Drop the old datetime column\n",
    "water_vars = water_vars.drop(columns='datetime')"
   ]
  },
  {
   "cell_type": "markdown",
   "id": "913e81e6",
   "metadata": {},
   "source": [
    "**A)** While there isn't a lot of control in it, we can use the dataframe method `.plot()` to make quick plots of our data.  This isn't the way you would make plots for presentations, but it can still be useful sometimes to help us get a sense of our data.\n",
    "\n",
    "Try ising the `.plot()` method on the dataframe to make a quick plot. (Example: `forecast.plot()`, where `forecast` is the dataframe)"
   ]
  },
  {
   "cell_type": "code",
   "execution_count": null,
   "id": "a8339eb2",
   "metadata": {},
   "outputs": [],
   "source": []
  },
  {
   "cell_type": "markdown",
   "id": "4c14459a",
   "metadata": {},
   "source": [
    "**B)** `.plot()` also works on a single Series.  Try making a plot for just the disolved oxygen variable."
   ]
  },
  {
   "cell_type": "code",
   "execution_count": null,
   "id": "49888fd3",
   "metadata": {},
   "outputs": [],
   "source": []
  },
  {
   "cell_type": "markdown",
   "id": "29abb990",
   "metadata": {},
   "source": [
    "**C)** Looking at the first plot of all the variables we can see that discharge values are so high it shifts the graph so the other variables can't be seen as well.\n",
    "\n",
    "Create a plot that shows all the variables except for discharge.  You can use the following line of code, which I used in the data cleaning lines for this problem, as a guide for dropping a single column from a dataframe:\n",
    "\n",
    "```\n",
    "# Droppping a single column, \"datetime\" from the water_vars dataframe\n",
    "water_vars.drop(columns='datetime')\n",
    "```"
   ]
  },
  {
   "cell_type": "code",
   "execution_count": null,
   "id": "f3803f05",
   "metadata": {},
   "outputs": [],
   "source": []
  }
 ],
 "metadata": {
  "kernelspec": {
   "display_name": "Python 3",
   "language": "python",
   "name": "python3"
  },
  "language_info": {
   "codemirror_mode": {
    "name": "ipython",
    "version": 3
   },
   "file_extension": ".py",
   "mimetype": "text/x-python",
   "name": "python",
   "nbconvert_exporter": "python",
   "pygments_lexer": "ipython3",
   "version": "3.8.8"
  }
 },
 "nbformat": 4,
 "nbformat_minor": 5
}
