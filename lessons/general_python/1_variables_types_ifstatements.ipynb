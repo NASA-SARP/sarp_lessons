{
 "cells": [
  {
   "cell_type": "markdown",
   "id": "c27ed47a",
   "metadata": {
    "slideshow": {
     "slide_type": "slide"
    }
   },
   "source": [
    "# Variables, Data Types, and if Statements\n",
    "\n",
    "```{image} ./images/L1_legos.jpeg\n",
    ":alt: legos\n",
    ":class: bg-primary mb-1\n",
    ":width: 400px\n",
    ":align: center\n",
    "```"
   ]
  },
  {
   "cell_type": "markdown",
   "id": "e917aec1",
   "metadata": {
    "slideshow": {
     "slide_type": "slide"
    }
   },
   "source": [
    "## Context\n",
    "Today we are getting started with code!  We'll be:\n",
    "* Thinking about why we code\n",
    "* Learning to use a Jupyter notebook\n",
    "* Establishing some of the base ingredients in code such as variables, data types, and operators and getting familiar with the associated vocabulary\n",
    "\n",
    "The different ideas might feel a little disconnected right now, but eventually these building blocks will work together to help us to make more complicated things."
   ]
  },
  {
   "cell_type": "markdown",
   "id": "e8dc8d06",
   "metadata": {
    "slideshow": {
     "slide_type": "subslide"
    }
   },
   "source": [
    "![Summary](./images/summary_variables.jpg)"
   ]
  },
  {
   "cell_type": "markdown",
   "id": "5b9eec88",
   "metadata": {
    "slideshow": {
     "slide_type": "slide"
    }
   },
   "source": [
    "## Jupyter Notebooks\n",
    "The primary way of writing code during lessons this summer will be in Jupyter Notebooks.  Notebooks are a bit of a unique way of writing code, but they have become popular in data science fields due to the flexbility they give the user to iterate on the same dataset many times and their great visualization support.  Read more in depth about Jupyter notebooks [here](https://www.dataquest.io/blog/jupyter-notebook-tutorial/).\n",
    "\n",
    "Jupyter notebooks are made up of **cells**, or individual chunks of input.  Cells can be either **markdown cells**, which are made up of text, or code cells. You run the code in a cell by hitting the `Run` button in the top bar or using `shift + enter`.\n",
    "\n",
    "A few links for interested individuals to explore:\n",
    "* [Markdown tutorial](https://www.markdowntutorial.com/lesson/1/)\n",
    "* [Markdown reference](https://commonmark.org/help/)\n",
    "* [Jupyter shortcut keys](https://towardsdatascience.com/jypyter-notebook-shortcuts-bf0101a98330)"
   ]
  },
  {
   "cell_type": "markdown",
   "id": "bacbf0db",
   "metadata": {
    "slideshow": {
     "slide_type": "subslide"
    }
   },
   "source": [
    ":::{admonition} 📝 Check your understanding\n",
    ":class: tip\n",
    "\n",
    "Create a new cell in your notebook. Change it from a code cell to a markdown cell, type something into the cell and then run it.\n",
    "\n",
    ":::"
   ]
  },
  {
   "cell_type": "markdown",
   "id": "61661a96",
   "metadata": {
    "slideshow": {
     "slide_type": "slide"
    },
    "tags": []
   },
   "source": [
    "## 👩🏽‍💻 Communicating with the computer\n"
   ]
  },
  {
   "cell_type": "markdown",
   "id": "011a2acf",
   "metadata": {
    "slideshow": {
     "slide_type": "skip"
    }
   },
   "source": [
    "Programming is about getting a computer to do something for you.  You do this all the time when you use a computer.  You tell it to access the internet or download a file for you.  You tell it take a screenshot and save it to your Desktop.  In those scenarios you are telling a computer to do something using your mouse or trackpad.  In coding you are telling a computer what to do by learning how to write text that the computer understands."
   ]
  },
  {
   "cell_type": "markdown",
   "id": "532f6284",
   "metadata": {
    "slideshow": {
     "slide_type": "skip"
    }
   },
   "source": [
    "One of the first tasks programmers ask a computer to do is repeat a line of text back to you.  In Python, the instruction for that is `print()`.  Learning what words the computer understands is called learning **syntax**."
   ]
  },
  {
   "cell_type": "markdown",
   "id": "07d5c383",
   "metadata": {
    "slideshow": {
     "slide_type": "subslide"
    }
   },
   "source": [
    "````{panels}\n",
    ":column: col-lg-12 p-2\n",
    "Vocabulary\n",
    "^^^^^^^^^^^^^^\n",
    "**Syntax:** The words and characters of a programming language which a computer can interpret. The computer interprets the syntax to do an action for the programmer.\n",
    "\n",
    "````"
   ]
  },
  {
   "cell_type": "code",
   "execution_count": 1,
   "id": "a52066b6",
   "metadata": {
    "slideshow": {
     "slide_type": "subslide"
    }
   },
   "outputs": [
    {
     "name": "stdout",
     "output_type": "stream",
     "text": [
      "Hello, world\n",
      "Boa tarde, mundo\n"
     ]
    }
   ],
   "source": [
    "# repeat a line of text back to you: \"printing\"\n",
    "# modify it to change the output\n",
    "print('Hello, world')\n",
    "print(\"Boa tarde, mundo\")  # single ' and double \" are the same in Python"
   ]
  },
  {
   "cell_type": "code",
   "execution_count": 2,
   "id": "0308ba01",
   "metadata": {
    "slideshow": {
     "slide_type": "skip"
    }
   },
   "outputs": [
    {
     "name": "stdout",
     "output_type": "stream",
     "text": [
      "3.1415927\n"
     ]
    }
   ],
   "source": [
    "# you can also print numbers\n",
    "print(3.1415927)"
   ]
  },
  {
   "cell_type": "code",
   "execution_count": 3,
   "id": "de3ef9e2",
   "metadata": {
    "slideshow": {
     "slide_type": "skip"
    }
   },
   "outputs": [
    {
     "name": "stdout",
     "output_type": "stream",
     "text": [
      "hi  8943\n"
     ]
    }
   ],
   "source": [
    "# you can print a couple of things together if you seperate them by commas\n",
    "print('hi ', 8943)"
   ]
  },
  {
   "cell_type": "code",
   "execution_count": 4,
   "id": "8215dacb",
   "metadata": {
    "slideshow": {
     "slide_type": "skip"
    }
   },
   "outputs": [
    {
     "name": "stdout",
     "output_type": "stream",
     "text": [
      "5.5\n"
     ]
    }
   ],
   "source": [
    "# you can print the output of math calculations\n",
    "print(4/8+5)"
   ]
  },
  {
   "cell_type": "markdown",
   "id": "c106df53",
   "metadata": {
    "slideshow": {
     "slide_type": "skip"
    }
   },
   "source": [
    "`print` statements seem a little useless on their own, but when you have a more complex block of code they are helpful for confirming that what you think is happening is, in fact, happening.  They are useful for finding errors in your code as well."
   ]
  },
  {
   "cell_type": "markdown",
   "id": "5478639e",
   "metadata": {
    "slideshow": {
     "slide_type": "subslide"
    }
   },
   "source": [
    ":::{admonition} 💡 Key Ideas\n",
    ":class: note\n",
    "\n",
    "In programming we learn which words the computer understands (aka the syntax of the Python language) and we use those to get the computer to do something for us.  \n",
    "\n",
    "Right now the computer is just parroting back text, but eventually it could be doing huge mathematical calculations, creating a stunning map, or connecting us to an exciting dataset!\n",
    "\n",
    ":::"
   ]
  },
  {
   "cell_type": "markdown",
   "id": "81f65013",
   "metadata": {
    "slideshow": {
     "slide_type": "subslide"
    }
   },
   "source": [
    ":::{admonition} 📝 Check your understanding\n",
    ":class: tip\n",
    "\n",
    "Write a cell of code to display the phrase: I am programming!\n",
    "\n",
    ":::"
   ]
  },
  {
   "cell_type": "markdown",
   "id": "9bb706bc",
   "metadata": {
    "slideshow": {
     "slide_type": "skip"
    }
   },
   "source": [
    ":::{admonition} 🌀 More Info: Programming Languages\n",
    ":class: note, dropdown\n",
    "\n",
    "There are tons of different programming languages and each one has different strengths and weakness, meaning that they have syntax to let you do different types of things.  For example, the language **R** is known for having great statistics support.  **Julia** allows a user to control what the code is doing closer to the underlying computer hardware, making it good for high performance computing. **Matlab** is another common language, but it is a **proprietary software**, or a software that you have to pay for.  Python is an **open source software**, meaning that the source code that Python is built on is openly available and anyone could propose changes or make their own flavor. If you like legal nuance you can get into the details of Free and Open Source Software (FOSS) on the [FOSS wikipedia page](https://en.wikipedia.org/wiki/Free_and_open-source_software).\n",
    "\n",
    ":::"
   ]
  },
  {
   "cell_type": "markdown",
   "id": "78831e70",
   "metadata": {
    "jp-MarkdownHeadingCollapsed": true,
    "slideshow": {
     "slide_type": "slide"
    },
    "tags": []
   },
   "source": [
    "## 👣 Assigning Variables"
   ]
  },
  {
   "cell_type": "markdown",
   "id": "fd729a27",
   "metadata": {
    "tags": []
   },
   "source": [
    "As programming tasks get more complex we want to be able to keep track of many values at once.  We do this is by assigning a name to values we want to keep track of. When we give a value a name it becomes a **variable**. There are different ways to think about variables that are related to the location of an object on your computer, but for practical use I like this framing."
   ]
  },
  {
   "cell_type": "code",
   "execution_count": 5,
   "id": "d139431e",
   "metadata": {
    "tags": []
   },
   "outputs": [],
   "source": [
    "# Assigning the number 7 to a variable I named x\n",
    "x = 7\n",
    "# Assigning the number 2 to a variable I named y\n",
    "y = 2"
   ]
  },
  {
   "cell_type": "code",
   "execution_count": 6,
   "id": "fd55071b",
   "metadata": {},
   "outputs": [],
   "source": [
    "# assigning the text 'pineapple' to a variable I named my_lunch\n",
    "my_lunch = 'pineapple'"
   ]
  },
  {
   "cell_type": "markdown",
   "id": "f6820216",
   "metadata": {},
   "source": [
    "````{panels}\n",
    ":column: col-lg-12 p-2\n",
    "Vocabulary\n",
    "^^^^^^^^^^^^^^\n",
    "**Variable:** A named value. The same variable will often change values throughout a program.\n",
    "\n",
    "````"
   ]
  },
  {
   "cell_type": "markdown",
   "id": "7e9f712d",
   "metadata": {},
   "source": [
    "How do we see our variables?  We `print` them."
   ]
  },
  {
   "cell_type": "code",
   "execution_count": 7,
   "id": "601226f0",
   "metadata": {},
   "outputs": [
    {
     "name": "stdout",
     "output_type": "stream",
     "text": [
      "7\n",
      "y is 2\n"
     ]
    }
   ],
   "source": [
    "print(x)\n",
    "print('y is', y)"
   ]
  },
  {
   "cell_type": "markdown",
   "id": "079d2a73",
   "metadata": {
    "tags": []
   },
   "source": [
    ":::{admonition} 📝 Check your understanding\n",
    ":class: tip\n",
    "\n",
    "`print` the sum of your two variables x and y\n",
    "\n",
    ":::"
   ]
  },
  {
   "cell_type": "markdown",
   "id": "99474b14",
   "metadata": {},
   "source": [
    "An example with words instead of numbers"
   ]
  },
  {
   "cell_type": "code",
   "execution_count": 8,
   "id": "0e6764ed",
   "metadata": {},
   "outputs": [
    {
     "name": "stdout",
     "output_type": "stream",
     "text": [
      "Sunday\n"
     ]
    }
   ],
   "source": [
    "today = 'Sunday' # Change this to be the actual day\n",
    "tomorrow = 'Friday'\n",
    "print(today)"
   ]
  },
  {
   "cell_type": "markdown",
   "id": "42c086b4",
   "metadata": {
    "tags": []
   },
   "source": [
    "### 🌟 Key Clarification - Order of Execution\n",
    "One fundamental principle of code is that it executes things in a certain order - from top to bottom."
   ]
  },
  {
   "cell_type": "code",
   "execution_count": 9,
   "id": "0c4047db",
   "metadata": {},
   "outputs": [
    {
     "name": "stdout",
     "output_type": "stream",
     "text": [
      "this will print first\n",
      "this will print second\n"
     ]
    }
   ],
   "source": [
    "print('this will print first')\n",
    "print('this will print second')"
   ]
  },
  {
   "cell_type": "markdown",
   "id": "78dde332",
   "metadata": {},
   "source": [
    "We can make this difference really obvious by using the syntax `time.sleep(3)` to force Python to wait 3 seconds after it executes the first line."
   ]
  },
  {
   "cell_type": "code",
   "execution_count": 10,
   "id": "1a139fa6",
   "metadata": {},
   "outputs": [],
   "source": [
    "import time"
   ]
  },
  {
   "cell_type": "code",
   "execution_count": 11,
   "id": "74d3255c",
   "metadata": {},
   "outputs": [
    {
     "name": "stdout",
     "output_type": "stream",
     "text": [
      "this will print first\n",
      "this will print second\n"
     ]
    }
   ],
   "source": [
    "print('this will print first')\n",
    "time.sleep(3)  # Wait 3 seconds\n",
    "print('this will print second')"
   ]
  },
  {
   "cell_type": "markdown",
   "id": "d14e6be3",
   "metadata": {},
   "source": [
    "If you define a variable and change it further down in the cell the output value will be the most recent value."
   ]
  },
  {
   "cell_type": "code",
   "execution_count": 12,
   "id": "d65b0f62",
   "metadata": {},
   "outputs": [
    {
     "name": "stdout",
     "output_type": "stream",
     "text": [
      "print #1 Sunday\n",
      "print #2 Thursday\n",
      "print #3 Arbor Day\n"
     ]
    }
   ],
   "source": [
    "today = 'Sunday'\n",
    "print('print #1', today)\n",
    "today = 'Thursday'\n",
    "print('print #2', today)\n",
    "today = 'Arbor Day'\n",
    "print('print #3', today)"
   ]
  },
  {
   "cell_type": "markdown",
   "id": "ebde375f",
   "metadata": {},
   "source": [
    "The importance of sequence is also applied to the order in which you run the cells in your jupyter notebook."
   ]
  },
  {
   "cell_type": "code",
   "execution_count": 13,
   "id": "1bd317ae",
   "metadata": {},
   "outputs": [],
   "source": [
    "today = 'Sunday'"
   ]
  },
  {
   "cell_type": "code",
   "execution_count": 14,
   "id": "e8523c59",
   "metadata": {},
   "outputs": [],
   "source": [
    "today = 'Monday'"
   ]
  },
  {
   "cell_type": "code",
   "execution_count": 15,
   "id": "e4ce346d",
   "metadata": {
    "scrolled": true
   },
   "outputs": [
    {
     "name": "stdout",
     "output_type": "stream",
     "text": [
      "Monday\n"
     ]
    }
   ],
   "source": [
    "print(today)"
   ]
  },
  {
   "cell_type": "markdown",
   "id": "b6d6397a",
   "metadata": {
    "jp-MarkdownHeadingCollapsed": true,
    "tags": []
   },
   "source": [
    ":::{admonition} 💡 Key Ideas\n",
    ":class: note\n",
    "\n",
    "1. Assiging a variable means giving a name to a value (a number, a piece of text, etc.) that you care about.  \n",
    "2. You can change the value of your variable.  Code executes from top to bottom so you need to follow along to keep track of changes to your variable.\n",
    "\n",
    ":::"
   ]
  },
  {
   "cell_type": "markdown",
   "id": "9c3ffef0",
   "metadata": {},
   "source": [
    ":::{admonition} 📝 Check your understanding\n",
    ":class: tip\n",
    "\n",
    "What is the output of the following lines of code:\n",
    "```\n",
    "x = 7\n",
    "x = 9\n",
    "y = x + 2\n",
    "print('y is ', y, ' and x is ', x)\n",
    "```\n",
    "a) y is 9 and x is 7\n",
    "\n",
    "b) y is 11 and x is 9\n",
    "\n",
    "c) y is 9 and x is 9\n",
    "\n",
    "d) y is 11 and x is 7\n",
    "\n",
    "e) y is 7 and x is 9\n",
    ":::"
   ]
  },
  {
   "cell_type": "markdown",
   "id": "8da2da39",
   "metadata": {
    "tags": []
   },
   "source": [
    "## 🧩 Data Types"
   ]
  },
  {
   "cell_type": "markdown",
   "id": "6896d6ff",
   "metadata": {},
   "source": [
    "So far in our code we have used text and numbers as our values.  When we talk about our values we often refer to their **data type**.  A data type is a way of classifying a value in Python that allows the computer to understand what it can do with the value. \n",
    "\n",
    "\"text\" and \"number\" aren't actually data types in Python, but they do have corresponding data types:\n",
    "\n",
    "| Python Data Type | Plain English  | Example |\n",
    "|:---|:---:|:---:|\n",
    "| `string` (`str`)| text | 'Tuesday' or \"Tuesday\" |\n",
    "|`integer` (`bool`)|  whole number  | 67 |\n",
    "|`float` (`float`)| decimal number | 2.9 |\n",
    "\n",
    "Notice that with strings we tell Python that we want that as a data type by using quotations, `''` or `\"\"`, around our value."
   ]
  },
  {
   "cell_type": "markdown",
   "id": "2c963bea",
   "metadata": {},
   "source": [
    "One more data type I'll introduce today is the **boolean data type**.  Booleans have two possible values: True or False.\n",
    "\n",
    "| Python Data Type| English    | Example |\n",
    "|:---|:---:|:---:|\n",
    "|  `boolean` (`bool`)| yes/no  | True or False |"
   ]
  },
  {
   "cell_type": "code",
   "execution_count": 16,
   "id": "a09c28dd",
   "metadata": {},
   "outputs": [
    {
     "name": "stdout",
     "output_type": "stream",
     "text": [
      "True\n"
     ]
    }
   ],
   "source": [
    "# Example boolean\n",
    "x = True\n",
    "print(x)"
   ]
  },
  {
   "cell_type": "code",
   "execution_count": 17,
   "id": "ccfd8849",
   "metadata": {
    "tags": [
     "raises-exception"
    ]
   },
   "outputs": [
    {
     "ename": "NameError",
     "evalue": "name 'true' is not defined",
     "output_type": "error",
     "traceback": [
      "\u001b[0;31m---------------------------------------------------------------------------\u001b[0m",
      "\u001b[0;31mNameError\u001b[0m                                 Traceback (most recent call last)",
      "Cell \u001b[0;32mIn[17], line 2\u001b[0m\n\u001b[1;32m      1\u001b[0m \u001b[38;5;66;03m# Capitalization matters\u001b[39;00m\n\u001b[0;32m----> 2\u001b[0m x \u001b[38;5;241m=\u001b[39m \u001b[43mtrue\u001b[49m\n",
      "\u001b[0;31mNameError\u001b[0m: name 'true' is not defined"
     ]
    }
   ],
   "source": [
    "# Capitalization matters\n",
    "x = true"
   ]
  },
  {
   "cell_type": "markdown",
   "id": "b7fe2064",
   "metadata": {},
   "source": [
    "A list of Python data types can be found [here](https://www.w3schools.com/python/python_datatypes.asp)."
   ]
  },
  {
   "cell_type": "markdown",
   "id": "1076a835",
   "metadata": {},
   "source": [
    "````{panels}\n",
    ":column: col-lg-12 p-2\n",
    "Vocabulary\n",
    "^^^^^^^^^^^^^^\n",
    "**Data type:** a way to categorize data that tells the computer something about how we are going to be using the data\n",
    "\n",
    "````"
   ]
  },
  {
   "cell_type": "markdown",
   "id": "87e86271",
   "metadata": {
    "tags": []
   },
   "source": [
    ":::{admonition} 📝 Check your understanding\n",
    ":class: tip\n",
    "\n",
    "What are the data types of the following values?\n",
    "```\n",
    "x = 9\n",
    "y = 'stratocumulus'\n",
    "z = False\n",
    "i = 3.0\n",
    "j = '2'\n",
    "k = \"true\"\n",
    "```\n",
    ":::"
   ]
  },
  {
   "cell_type": "markdown",
   "id": "8a9adb12",
   "metadata": {},
   "source": [
    "Why do we care about data types? The data type helps the computer understand what types of operations it can do on a value. Consider the + operation. Let's say we have the following variables:"
   ]
  },
  {
   "cell_type": "code",
   "execution_count": 18,
   "id": "db478e97",
   "metadata": {},
   "outputs": [],
   "source": [
    "x = 2\n",
    "y = 3\n",
    "a = 'cat'\n",
    "b = 'fish'"
   ]
  },
  {
   "cell_type": "markdown",
   "id": "5017a564",
   "metadata": {},
   "source": [
    "What is the difference between `x + y` and `a + b`? Does `a + b` even make sense? Try them out on your own. \n",
    "\n",
    "Try it again and this time use a `\\` sign. What error do you get when you do `a/b`?"
   ]
  },
  {
   "cell_type": "markdown",
   "id": "123df333",
   "metadata": {},
   "source": [
    ":::{admonition} 💡 Key Ideas\n",
    ":class: note\n",
    "\n",
    "We categorize our variables using data types.  This helps us understand what the expected values are.\n",
    "\n",
    ":::"
   ]
  },
  {
   "cell_type": "markdown",
   "id": "b10fe147",
   "metadata": {
    "jp-MarkdownHeadingCollapsed": true,
    "tags": []
   },
   "source": [
    "## 🔳 Booleans and Comparisons"
   ]
  },
  {
   "cell_type": "markdown",
   "id": "5f34b913",
   "metadata": {},
   "source": [
    "Booleans might seem a bit useless on their own, but they become really useful when we get into comparisons, such as greater than, less than, and equal to."
   ]
  },
  {
   "cell_type": "markdown",
   "id": "f8d62d25",
   "metadata": {},
   "source": [
    "![Comparison Operators](./images/comparison_operators.png)\n",
    "\n",
    "_This table was taken from the [W3 schools Operators page](https://www.w3schools.com/python/python_operators.asp)._"
   ]
  },
  {
   "cell_type": "markdown",
   "id": "bf12b5ac",
   "metadata": {},
   "source": [
    "Examples"
   ]
  },
  {
   "cell_type": "code",
   "execution_count": 19,
   "id": "d2bd24c6",
   "metadata": {},
   "outputs": [
    {
     "data": {
      "text/plain": [
       "False"
      ]
     },
     "execution_count": 19,
     "metadata": {},
     "output_type": "execute_result"
    }
   ],
   "source": [
    "# Example of \"equal to\" syntax\n",
    "4+5 == 10"
   ]
  },
  {
   "cell_type": "code",
   "execution_count": 20,
   "id": "895bcf9c",
   "metadata": {},
   "outputs": [
    {
     "data": {
      "text/plain": [
       "True"
      ]
     },
     "execution_count": 20,
     "metadata": {},
     "output_type": "execute_result"
    }
   ],
   "source": [
    "# Example of \"greater than or equal to\" syntax\n",
    "2**10 >= 1000"
   ]
  },
  {
   "cell_type": "code",
   "execution_count": 21,
   "id": "b028c2fe",
   "metadata": {},
   "outputs": [
    {
     "data": {
      "text/plain": [
       "False"
      ]
     },
     "execution_count": 21,
     "metadata": {},
     "output_type": "execute_result"
    }
   ],
   "source": [
    "# Example: Checking if a state code is New York\n",
    "state_code = 'WI'\n",
    "state_code == 'NY'"
   ]
  },
  {
   "cell_type": "markdown",
   "id": "0487c1b4-57fc-45f6-9929-86435add8427",
   "metadata": {},
   "source": [
    ":::{admonition} 🌀 More Info: Operators\n",
    ":class: note, dropdown\n",
    "\n",
    "The general word for doing something to a Python object is an **operator**. This includes regular arithmetic, which can be done using the signs `+` `-` `*` and `/`. Operators are organized into types. It isn't that important to remember the names of the different types of operators, but it can be helpful to see them together and associate them all with taking action on an object.\n",
    "\n",
    "| Type   | Examples |\n",
    "|:---:|:---|\n",
    "| **arithmetic operators** |  addition, subtraction, multiplication, exponents|\n",
    "| **comparison operators** |  greater than, less than, equal to|\n",
    "| **logical operators** |  and, or|\n",
    "\n",
    "You can get a list of all operators [here](https://www.w3schools.com/python/python_operators.asp), or by googling \"python operators\".\n",
    "\n",
    ":::"
   ]
  },
  {
   "cell_type": "code",
   "execution_count": 22,
   "id": "913b4ce0-5672-4c55-92f5-fb6c89e277ba",
   "metadata": {},
   "outputs": [
    {
     "data": {
      "text/plain": [
       "6.0"
      ]
     },
     "execution_count": 22,
     "metadata": {},
     "output_type": "execute_result"
    }
   ],
   "source": [
    "# Python math (arithmetic operators)\n",
    "(8+4+6)/3"
   ]
  },
  {
   "cell_type": "markdown",
   "id": "ef6e9bc9",
   "metadata": {
    "jp-MarkdownHeadingCollapsed": true,
    "tags": []
   },
   "source": [
    ":::{admonition} 📝 Check your understanding\n",
    ":class: tip\n",
    "\n",
    "Evaluate the output of the following:\n",
    "1. `2*3 <= 6`\n",
    "2. `8 == 8`\n",
    "3. `6 != 3+3`\n",
    "\n",
    "a) True, True, False\n",
    "\n",
    "b) True, False, True\n",
    "\n",
    "c) False, True, False\n",
    "\n",
    "d) False, True, True\n",
    "\n",
    "e) True, True, True\n",
    "\n",
    ":::"
   ]
  },
  {
   "cell_type": "markdown",
   "id": "cff7ebe6",
   "metadata": {},
   "source": [
    ":::{admonition} 💡 Key Ideas\n",
    ":class: note\n",
    "\n",
    "* Boolean data types have a value of either `True` or `False`.\n",
    "* Booleans are especially handy when doing comparisons (Ex. greater than, less than) \n",
    "\n",
    ":::"
   ]
  },
  {
   "cell_type": "markdown",
   "id": "af324804",
   "metadata": {},
   "source": [
    "### Comparing Multiple Items"
   ]
  },
  {
   "cell_type": "markdown",
   "id": "390b3114",
   "metadata": {},
   "source": [
    "If you want to compare more than one thing there are two possible ways to do that, depending on what you want to happen. If you want to compare multiple items and see if they are both true, you use `and`.  If you want to compare multiple items and see if either of them are true, you use `or`.\n",
    "\n",
    "| Operator   | Use |\n",
    "|:---:|:---|\n",
    "| `and`  | checks if **both** logical statements are True |\n",
    "| `or`  | checks if **either** logical statements is True |\n"
   ]
  },
  {
   "cell_type": "code",
   "execution_count": 23,
   "id": "973d7188",
   "metadata": {},
   "outputs": [
    {
     "data": {
      "text/plain": [
       "True"
      ]
     },
     "execution_count": 23,
     "metadata": {},
     "output_type": "execute_result"
    }
   ],
   "source": [
    "True and True"
   ]
  },
  {
   "cell_type": "code",
   "execution_count": 24,
   "id": "684ad3c8",
   "metadata": {},
   "outputs": [
    {
     "data": {
      "text/plain": [
       "False"
      ]
     },
     "execution_count": 24,
     "metadata": {},
     "output_type": "execute_result"
    }
   ],
   "source": [
    "True and False"
   ]
  },
  {
   "cell_type": "code",
   "execution_count": 25,
   "id": "cb24ace8",
   "metadata": {},
   "outputs": [
    {
     "data": {
      "text/plain": [
       "True"
      ]
     },
     "execution_count": 25,
     "metadata": {},
     "output_type": "execute_result"
    }
   ],
   "source": [
    "True or False"
   ]
  },
  {
   "cell_type": "code",
   "execution_count": 26,
   "id": "e8d2ff16",
   "metadata": {},
   "outputs": [
    {
     "data": {
      "text/plain": [
       "True"
      ]
     },
     "execution_count": 26,
     "metadata": {},
     "output_type": "execute_result"
    }
   ],
   "source": [
    "True or True"
   ]
  },
  {
   "cell_type": "markdown",
   "id": "b978669f",
   "metadata": {},
   "source": [
    "Examples"
   ]
  },
  {
   "cell_type": "code",
   "execution_count": 27,
   "id": "cd591156",
   "metadata": {},
   "outputs": [
    {
     "data": {
      "text/plain": [
       "False"
      ]
     },
     "execution_count": 27,
     "metadata": {},
     "output_type": "execute_result"
    }
   ],
   "source": [
    "4 == 4 and 5 == 6\n",
    "# True and False -> False"
   ]
  },
  {
   "cell_type": "code",
   "execution_count": 28,
   "id": "36d910b8",
   "metadata": {
    "scrolled": true
   },
   "outputs": [
    {
     "data": {
      "text/plain": [
       "True"
      ]
     },
     "execution_count": 28,
     "metadata": {},
     "output_type": "execute_result"
    }
   ],
   "source": [
    "5 < 6 and 6 < 7\n",
    "# True and True -> True"
   ]
  },
  {
   "cell_type": "code",
   "execution_count": 29,
   "id": "50f44249",
   "metadata": {},
   "outputs": [
    {
     "data": {
      "text/plain": [
       "True"
      ]
     },
     "execution_count": 29,
     "metadata": {},
     "output_type": "execute_result"
    }
   ],
   "source": [
    "4 == 4 or 5 == 6\n",
    "# True or False -> True"
   ]
  },
  {
   "cell_type": "markdown",
   "id": "f9b8c272",
   "metadata": {},
   "source": [
    ":::{admonition} 📝 Check your understanding\n",
    ":class: tip\n",
    "\n",
    "Evaluate the output of the following:\n",
    "1. `5 <= 6 and 5 != 5`\n",
    "2. `4 > 5 or 5 < 6`\n",
    "\n",
    ":::"
   ]
  },
  {
   "cell_type": "markdown",
   "id": "05f3768e",
   "metadata": {},
   "source": [
    ":::{admonition} 💡 Key Ideas\n",
    ":class: note\n",
    "\n",
    "* `and` and `or` are ways to compare multiple conditions at the same time.\n",
    "* When using `and` you are asking if **all** of the items are true.  When using `or` you are asking if any **one** of the items is true.\n",
    "\n",
    ":::"
   ]
  },
  {
   "cell_type": "markdown",
   "id": "a4413102",
   "metadata": {
    "tags": []
   },
   "source": [
    "## ❓ `if` statements"
   ]
  },
  {
   "cell_type": "markdown",
   "id": "e0284f16",
   "metadata": {},
   "source": [
    "Often after a comparison we want to make a decision based on if the comparison was `True` or `False`.  For example, \n",
    "> if the cloud cover was less than 30 percent, start the processing.  Otherwise, skip to the next image.\n",
    "\n",
    "We do that in Python with `if` statements, which have the following syntax:\n",
    "\n",
    "```\n",
    "if <<True/False statement>>:\n",
    "    <<do something>>\n",
    "else:\n",
    "    <<do something else>>\n",
    "```\n",
    "Statements contained in `<<` `>>` are placeholders and should be filed with python code.  The `if`, `:`, `else:` and indenting are all part of the required syntax for an if statement."
   ]
  },
  {
   "cell_type": "code",
   "execution_count": 30,
   "id": "8cc200f1",
   "metadata": {},
   "outputs": [
    {
     "name": "stdout",
     "output_type": "stream",
     "text": [
      "Too many clouds for processing\n"
     ]
    }
   ],
   "source": [
    "# If statement example\n",
    "cloud_cover = 50\n",
    "if cloud_cover < 30:\n",
    "    print('Good image for processing')\n",
    "else:\n",
    "    print('Too many clouds for processing')"
   ]
  },
  {
   "cell_type": "markdown",
   "id": "ec8694fe",
   "metadata": {},
   "source": [
    "If you have multiple statements you can add in as many as you need after the first `if` using the syntax `elif`."
   ]
  },
  {
   "cell_type": "code",
   "execution_count": 31,
   "id": "01128c50",
   "metadata": {},
   "outputs": [
    {
     "name": "stdout",
     "output_type": "stream",
     "text": [
      "Potentially usable\n"
     ]
    }
   ],
   "source": [
    "# Including elif\n",
    "cloud_cover = 35\n",
    "if cloud_cover < 30:\n",
    "    print('Good image for processing')\n",
    "elif cloud_cover < 40:\n",
    "    print('Potentially usable')\n",
    "elif cloud_cover < 50:\n",
    "    print('Only if we are really desperate')\n",
    "else:\n",
    "    print('Too many clouds for processing')"
   ]
  },
  {
   "cell_type": "markdown",
   "id": "3fc4ee80",
   "metadata": {},
   "source": [
    "Notice that the if statement is exited as soon as it finds the first statement that returns true, starting from the top.  So we can write an if statement like in the following example, but no matter what the code will never hit the `elif`:"
   ]
  },
  {
   "cell_type": "code",
   "execution_count": 32,
   "id": "6b9e3b39",
   "metadata": {},
   "outputs": [
    {
     "name": "stdout",
     "output_type": "stream",
     "text": [
      "three is less than four\n"
     ]
    }
   ],
   "source": [
    "if 3 < 4:\n",
    "    print('three is less than four')\n",
    "elif 2 < 4:\n",
    "    print('two is less than four')"
   ]
  },
  {
   "cell_type": "markdown",
   "id": "db453c5e",
   "metadata": {},
   "source": [
    ":::{admonition} 📝 Check your understanding\n",
    ":class: tip\n",
    "\n",
    "What will be the output of the following code block?\n",
    "```\n",
    "pH = 3.4\n",
    "if pH < 7:\n",
    "    print('acidic')\n",
    "elif pH == 7:\n",
    "    print('neutral')\n",
    "else:\n",
    "    print('basic')\n",
    "```\n",
    "a) acidic\n",
    "\n",
    "b) neutral\n",
    "\n",
    "c) basic\n",
    "\n",
    "d) acidicneutralbasic\n",
    "\n",
    "e) acidicbasic\n",
    ":::"
   ]
  },
  {
   "cell_type": "markdown",
   "id": "f1430445",
   "metadata": {},
   "source": [
    ":::{admonition} 💡 Key Ideas\n",
    ":class: note\n",
    "\n",
    "* If statements allow us to change how our code is executing based on a condition.\n",
    "* If statements use indenting as syntax and can also include `elif` and `else`. Code exits the if statement as soon as it finds the first True statement.\n",
    "\n",
    ":::"
   ]
  },
  {
   "cell_type": "markdown",
   "id": "271a648a",
   "metadata": {},
   "source": [
    "## Wrapping up\n",
    "\n",
    "A lot of things happened in this notebook, but they are all ideas that come together to form the building blocks of code!"
   ]
  },
  {
   "cell_type": "markdown",
   "id": "e9d8a082",
   "metadata": {},
   "source": [
    ":::{admonition} 📝 Check your understanding\n",
    ":class: tip\n",
    "\n",
    "Below is a block of code. It includes a lot of functionality that hasn't been covered, but there are also lots of instances of the concepts from this lesson.\n",
    "\n",
    "![Example code](./images/example_code.png)\n",
    "\n",
    "Find an example of:\n",
    "* any kind of operator\n",
    "* if statement\n",
    "* a variable getting assigned a value\n",
    "* a variable changing its value\n",
    "* any integer\n",
    "* any string\n",
    "* any line that will have a Boolean output\n",
    "\n",
    ":::"
   ]
  },
  {
   "cell_type": "code",
   "execution_count": null,
   "id": "8351ca5c",
   "metadata": {},
   "outputs": [],
   "source": []
  }
 ],
 "metadata": {
  "celltoolbar": "Slideshow",
  "interpreter": {
   "hash": "c6a7549e0a21eb75b694ff081490f6e8db8aea94086d29d6a7e085c556b251de"
  },
  "kernelspec": {
   "display_name": "Python 3 (ipykernel)",
   "language": "python",
   "name": "python3"
  },
  "language_info": {
   "codemirror_mode": {
    "name": "ipython",
    "version": 3
   },
   "file_extension": ".py",
   "mimetype": "text/x-python",
   "name": "python",
   "nbconvert_exporter": "python",
   "pygments_lexer": "ipython3",
   "version": "3.10.8"
  }
 },
 "nbformat": 4,
 "nbformat_minor": 5
}
