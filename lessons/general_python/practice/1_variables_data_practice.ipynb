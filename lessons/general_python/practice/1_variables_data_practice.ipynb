{
 "cells": [
  {
   "cell_type": "markdown",
   "metadata": {},
   "source": [
    "# Variables, Data Types and If statements Practice"
   ]
  },
  {
   "cell_type": "markdown",
   "metadata": {},
   "source": [
    "This notebook provides practice problems. It is divided into several parts:\n",
    "* **Part 1** - most approachable place to start.  Practices syntax and concepts\n",
    "* **Part 2** - a step up from part 1.  Integrates concepts from accross the lesson in more applied scenarios\n",
    "* **Intermediate Reading** - some suggested reading for a more in depth understanding of some of the foundational concepts discussed in the lesson. I would recommmend this only for folks that started SARP feeling competent with Python."
   ]
  },
  {
   "cell_type": "markdown",
   "metadata": {},
   "source": [
    "## Practice Problems Part 1"
   ]
  },
  {
   "cell_type": "markdown",
   "metadata": {},
   "source": [
    "### Assigning Variables"
   ]
  },
  {
   "cell_type": "markdown",
   "metadata": {},
   "source": [
    "1. Create a variable called `location` and assign it the value: Quito, Ecuador. Print your variable."
   ]
  },
  {
   "cell_type": "code",
   "execution_count": null,
   "metadata": {},
   "outputs": [],
   "source": []
  },
  {
   "cell_type": "markdown",
   "metadata": {},
   "source": [
    "2. Create two variables that are numbers and print the result of one of them divided by the other."
   ]
  },
  {
   "cell_type": "code",
   "execution_count": null,
   "metadata": {},
   "outputs": [],
   "source": []
  },
  {
   "cell_type": "markdown",
   "metadata": {},
   "source": [
    "3. What do you expect to be the output of the following block of code?\n",
    "\n",
    "```\n",
    "my_fav_icecream = 'mint'\n",
    "your_fav_icecream = 'blue moon'\n",
    "my_fav_icecream = 'peanut butter cup'\n",
    "print(my_fav_icecream)\n",
    "```"
   ]
  },
  {
   "cell_type": "code",
   "execution_count": null,
   "metadata": {},
   "outputs": [],
   "source": []
  },
  {
   "cell_type": "markdown",
   "metadata": {},
   "source": [
    "### Data Types"
   ]
  },
  {
   "cell_type": "markdown",
   "metadata": {},
   "source": [
    "4. What are the data types of each of the following values?"
   ]
  },
  {
   "cell_type": "markdown",
   "metadata": {},
   "source": [
    "1. `True`\n",
    "1. `832`\n",
    "1. `0.001`\n",
    "1. `'giant kelp'`\n",
    "1. `\"false\"`\n",
    "1. `\"5\"`\n",
    "\n",
    "Check that you are correct using the `type()` function, as shown below."
   ]
  },
  {
   "cell_type": "code",
   "execution_count": null,
   "metadata": {},
   "outputs": [],
   "source": [
    "type('cheese')"
   ]
  },
  {
   "cell_type": "code",
   "execution_count": null,
   "metadata": {},
   "outputs": [],
   "source": []
  },
  {
   "cell_type": "markdown",
   "metadata": {},
   "source": [
    "### Booleans"
   ]
  },
  {
   "cell_type": "markdown",
   "metadata": {},
   "source": [
    "5. What is a boolean?  When might a boolean be useful?"
   ]
  },
  {
   "cell_type": "code",
   "execution_count": null,
   "metadata": {},
   "outputs": [],
   "source": []
  },
  {
   "cell_type": "markdown",
   "metadata": {},
   "source": [
    "6. The following cell represents some data you are working with."
   ]
  },
  {
   "cell_type": "code",
   "execution_count": null,
   "metadata": {},
   "outputs": [],
   "source": [
    "cloud_cover = 15\n",
    "city = 'Oshkosh'\n",
    "cfc_present = True\n",
    "ozone = 3.8"
   ]
  },
  {
   "cell_type": "markdown",
   "metadata": {},
   "source": [
    "Run the cell above, and use the variables to individually check for each of the following conditions:\n",
    "* cloud cover is less than 90\n",
    "* city is not Minneapolis\n",
    "* there are no cfcs present\n",
    "* ozone is greater than or equal to 2"
   ]
  },
  {
   "cell_type": "code",
   "execution_count": null,
   "metadata": {},
   "outputs": [],
   "source": []
  },
  {
   "cell_type": "markdown",
   "metadata": {},
   "source": [
    "7. Explain the difference between `=` and `==`."
   ]
  },
  {
   "cell_type": "code",
   "execution_count": null,
   "metadata": {},
   "outputs": [],
   "source": []
  },
  {
   "cell_type": "markdown",
   "metadata": {},
   "source": [
    "### Logical Operators"
   ]
  },
  {
   "cell_type": "markdown",
   "metadata": {},
   "source": [
    "8. How is `and` different from `or`?"
   ]
  },
  {
   "cell_type": "code",
   "execution_count": null,
   "metadata": {},
   "outputs": [],
   "source": []
  },
  {
   "cell_type": "markdown",
   "metadata": {},
   "source": [
    "9. For each of the following scenarios do you think it would make more sense to use `and` or `or`?\n",
    "* You have several images and you want to make sure that at least one of them has the wavelength you need.\n",
    "* You have an algorithm which requires three variables in a specific range and you want to check those three variables in your image to make sure the image will work.\n",
    "* In a particular dataset you are looking at invalid results have the value -999. You also know that values above 1000 are not suitable for your use case.  You need to check the dataset to make sure that neither of those things are true."
   ]
  },
  {
   "cell_type": "code",
   "execution_count": null,
   "metadata": {},
   "outputs": [],
   "source": []
  },
  {
   "cell_type": "markdown",
   "metadata": {},
   "source": [
    "10. Write a statement using the following operators: `and`, `!=`"
   ]
  },
  {
   "cell_type": "code",
   "execution_count": null,
   "metadata": {},
   "outputs": [],
   "source": []
  },
  {
   "cell_type": "markdown",
   "metadata": {},
   "source": [
    "11. Write a statement using the following operators: `or`, `+`"
   ]
  },
  {
   "cell_type": "code",
   "execution_count": null,
   "metadata": {},
   "outputs": [],
   "source": []
  },
  {
   "cell_type": "markdown",
   "metadata": {},
   "source": [
    "### If statements"
   ]
  },
  {
   "cell_type": "markdown",
   "metadata": {},
   "source": [
    "12. Write an if statement that uses the following elements:\n",
    "* `if`, `<=`, `or`"
   ]
  },
  {
   "cell_type": "code",
   "execution_count": null,
   "metadata": {},
   "outputs": [],
   "source": []
  },
  {
   "cell_type": "markdown",
   "metadata": {},
   "source": [
    "13. You have species data with the variable `family` and you would like to assign the species to a group based on the family.  The groups are:\n",
    "* Group A - `pinaceae`, `lamiaceae`\n",
    "* Group B - `aceraceae`, `salicaceae`\n",
    "\n",
    "Write a statement that checks the `family`variable and informs the user if the species belongs in group A or group B."
   ]
  },
  {
   "cell_type": "code",
   "execution_count": null,
   "metadata": {},
   "outputs": [],
   "source": []
  },
  {
   "cell_type": "markdown",
   "metadata": {},
   "source": [
    "## Practice Problems Part 2"
   ]
  },
  {
   "cell_type": "markdown",
   "metadata": {},
   "source": [
    "### Question 1\n",
    "Write some code to take the mean value of the three sun angles below."
   ]
  },
  {
   "cell_type": "code",
   "execution_count": null,
   "metadata": {},
   "outputs": [],
   "source": [
    "sun_angle1 = 45\n",
    "sun_angle2 = 32\n",
    "sun_angle3 = 67\n",
    "# Take the mean\n",
    "# Output the mean to the user"
   ]
  },
  {
   "cell_type": "code",
   "execution_count": null,
   "metadata": {},
   "outputs": [],
   "source": []
  },
  {
   "cell_type": "markdown",
   "metadata": {},
   "source": [
    "### Question 2"
   ]
  },
  {
   "cell_type": "markdown",
   "metadata": {},
   "source": [
    "**A)** Google \"Python operators\".  Find a webpage with some operators and use two of them below.\n",
    "If you are having a hard time finding a webpage you can use [this one](https://www.w3schools.com/python/python_operators.asp), which is the first page that shows up when I run the search."
   ]
  },
  {
   "cell_type": "code",
   "execution_count": null,
   "metadata": {},
   "outputs": [],
   "source": []
  },
  {
   "cell_type": "markdown",
   "metadata": {},
   "source": [
    "**B)** Fill in the `# Your code here` space below to compute the area of a circle given the radius.  You can approximate the value of pi with `3.14`."
   ]
  },
  {
   "cell_type": "code",
   "execution_count": null,
   "metadata": {
    "scrolled": true
   },
   "outputs": [],
   "source": [
    "radius = 4\n",
    "# Your code here"
   ]
  },
  {
   "cell_type": "code",
   "execution_count": null,
   "metadata": {},
   "outputs": [],
   "source": []
  },
  {
   "cell_type": "markdown",
   "metadata": {},
   "source": [
    ":::{admonition} Hint\n",
    ":class: note, dropdown\n",
    "\n",
    "I haven't told you how to take the square of a variable, so you will either have to do that using the tools you have or do a google search for \"square of a number Python\"\n",
    "\n",
    ":::"
   ]
  },
  {
   "cell_type": "markdown",
   "metadata": {},
   "source": [
    "**C)** Calculate 2 to the 8th power.  Assign it to a variable and print the output.  Include a string in the print statement that says: _2 to the 8th power is:_"
   ]
  },
  {
   "cell_type": "code",
   "execution_count": null,
   "metadata": {},
   "outputs": [],
   "source": []
  },
  {
   "cell_type": "markdown",
   "metadata": {},
   "source": [
    "### Question 3"
   ]
  },
  {
   "cell_type": "markdown",
   "metadata": {},
   "source": [
    "What is the output of the following block of code?\n",
    "```\n",
    "updated_temp = 72\n",
    "print(updated_temp)\n",
    "updated_temp = updated_temp + 5\n",
    "updated_temp = updated_temp + 2\n",
    "updated_temp = updated_temp -9\n",
    "print('updated_temp')\n",
    "```"
   ]
  },
  {
   "cell_type": "code",
   "execution_count": null,
   "metadata": {},
   "outputs": [],
   "source": []
  },
  {
   "cell_type": "markdown",
   "metadata": {},
   "source": [
    "### Question 4"
   ]
  },
  {
   "cell_type": "markdown",
   "metadata": {},
   "source": [
    "Use a comparison (less than, equal to, etc.) to determine if the result of 3 to the power of some number (the input variable `exponent`) is between 100 and 1000."
   ]
  },
  {
   "cell_type": "code",
   "execution_count": null,
   "metadata": {},
   "outputs": [],
   "source": []
  },
  {
   "cell_type": "markdown",
   "metadata": {},
   "source": [
    "### Question 4"
   ]
  },
  {
   "cell_type": "code",
   "execution_count": null,
   "metadata": {},
   "outputs": [],
   "source": [
    "cloud_cover = 15\n",
    "city = 'Oshkosh'\n",
    "cfc_present = True\n",
    "ozone = 3.8"
   ]
  },
  {
   "cell_type": "markdown",
   "metadata": {},
   "source": [
    "**A)** Use the variables in the cell above and check that the following conditions are true:\n",
    "* Cloud cover is less than 90\n",
    "* city is not Minneapolis\n",
    "* There are no CFCs present\n",
    "* ozone is greater than or equal to 2 and above 0.5\n",
    "\n",
    "_Print a message to the user informing them if all of the conditions were true or not._"
   ]
  },
  {
   "cell_type": "code",
   "execution_count": null,
   "metadata": {},
   "outputs": [],
   "source": []
  },
  {
   "cell_type": "markdown",
   "metadata": {},
   "source": [
    "**B)** Using the same variables and conditions as in part A, change your code so that it checks if any of the conditions are true."
   ]
  },
  {
   "cell_type": "code",
   "execution_count": null,
   "metadata": {},
   "outputs": [],
   "source": []
  },
  {
   "cell_type": "markdown",
   "metadata": {},
   "source": [
    "#### Question 5"
   ]
  },
  {
   "cell_type": "markdown",
   "metadata": {},
   "source": [
    "As a variable, wind is often expressed as two different numbers, which together make up the complete wind vector:\n",
    "1. wind speed\n",
    "2. wind direction\n",
    "\n",
    "Wind speed is expressed in degrees and follows the following quadrant:\n",
    "\n",
    "<img src=\"https://slideplayer.com/slide/17852123/106/images/17/Wind+Direction+%28degrees%29+Meteorologists+generally+use+degrees.jpg\" width=520>\n",
    "\n",
    "Note that 0 degrees is on top and the degrees increase going clockwise. Use this knowledge to work through the following problems."
   ]
  },
  {
   "cell_type": "markdown",
   "metadata": {},
   "source": [
    "**A)** Sometimes wind directions are conveyed as greater than 360 degrees.  Numbers above 360 indicate a second loop around the quadrant. For example:\n",
    "- 450 degrees is the same as 90 degrees\n",
    "- 720 degrees is the same as 0 degrees\n",
    "\n",
    "Given wind directions that are greater than 360, write some code to return the wind direction expressed between 0 and 360.  Check your code works against both of the numbers below."
   ]
  },
  {
   "cell_type": "code",
   "execution_count": null,
   "metadata": {},
   "outputs": [],
   "source": [
    "large_wind_direction = 512\n",
    "large_wind_direction = 750"
   ]
  },
  {
   "cell_type": "code",
   "execution_count": null,
   "metadata": {},
   "outputs": [],
   "source": []
  },
  {
   "cell_type": "markdown",
   "metadata": {},
   "source": [
    ":::{admonition} Hint\n",
    ":class: note, dropdown\n",
    "\n",
    "check out the Python arithmetic operators\n",
    "\n",
    ":::"
   ]
  },
  {
   "cell_type": "markdown",
   "metadata": {},
   "source": [
    "**B)** Write a statement to check if a given wind direction is coming from the west."
   ]
  },
  {
   "cell_type": "code",
   "execution_count": null,
   "metadata": {},
   "outputs": [],
   "source": [
    "wind_direction = 145"
   ]
  },
  {
   "cell_type": "code",
   "execution_count": null,
   "metadata": {},
   "outputs": [],
   "source": []
  },
  {
   "cell_type": "markdown",
   "metadata": {},
   "source": [
    "**C)** Write a block of code that takes a wind direction and prints back to the user the direction the wind is coming from.  You can use a range of values for each direction (i.e. \"east\" means wind coming from between 45 and 135 degrees)."
   ]
  },
  {
   "cell_type": "code",
   "execution_count": null,
   "metadata": {},
   "outputs": [],
   "source": []
  },
  {
   "cell_type": "markdown",
   "metadata": {},
   "source": [
    "**C)** Monsoon winds in some regions are identified by winds coming from the Northwest (+/- 30 degrees) at greater than or equal to 20 mph.  Write a statement to evaluate if the wind direction/wind speed combination would qualify as a monsoon-type wind."
   ]
  },
  {
   "cell_type": "code",
   "execution_count": null,
   "metadata": {},
   "outputs": [],
   "source": [
    "wind_speed = 22\n",
    "wind_direction = 43"
   ]
  },
  {
   "cell_type": "code",
   "execution_count": null,
   "metadata": {},
   "outputs": [],
   "source": []
  },
  {
   "cell_type": "markdown",
   "metadata": {},
   "source": [
    "### Question 6"
   ]
  },
  {
   "cell_type": "markdown",
   "metadata": {},
   "source": [
    "Given a temperature in fahrenheit, write an equation to convert the temperature to celsius.  Print out a statement after converting to celsius informing the user whether or not the temperature has reached boiling point of water."
   ]
  },
  {
   "cell_type": "code",
   "execution_count": null,
   "metadata": {},
   "outputs": [],
   "source": []
  },
  {
   "cell_type": "markdown",
   "metadata": {},
   "source": [
    "## Intermediate Reading\n",
    "The following articles are suggested for learning about intermediate Pythonic nuances and data types.  They are more advanced looks at some of the topics covered in the lecture.\n",
    "* [equality vs. identity](https://realpython.com/python-is-identity-vs-equality/)\n",
    "* [unicode vs. byte strings](https://towardsdatascience.com/a-guide-to-unicode-utf-8-and-strings-in-python-757a232db95c)\n",
    "* [formatting strings](https://realpython.com/python-string-formatting/)"
   ]
  },
  {
   "cell_type": "code",
   "execution_count": null,
   "metadata": {},
   "outputs": [],
   "source": []
  }
 ],
 "metadata": {
  "kernelspec": {
   "display_name": "Python 3 (ipykernel)",
   "language": "python",
   "name": "python3"
  },
  "language_info": {
   "codemirror_mode": {
    "name": "ipython",
    "version": 3
   },
   "file_extension": ".py",
   "mimetype": "text/x-python",
   "name": "python",
   "nbconvert_exporter": "python",
   "pygments_lexer": "ipython3",
   "version": "3.9.7"
  }
 },
 "nbformat": 4,
 "nbformat_minor": 4
}
