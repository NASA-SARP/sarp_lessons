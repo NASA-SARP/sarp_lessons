{
 "cells": [
  {
   "cell_type": "markdown",
   "id": "fd9bdd08",
   "metadata": {},
   "source": [
    "# Part 1"
   ]
  },
  {
   "cell_type": "markdown",
   "id": "0a5f07b6",
   "metadata": {},
   "source": [
    "## Dates and Datetimes"
   ]
  },
  {
   "cell_type": "markdown",
   "id": "714724f9",
   "metadata": {},
   "source": [
    "1. Create a `date()` object representing your birthday.  Assign it to a variable and use the variable to print out your birthyear."
   ]
  },
  {
   "cell_type": "code",
   "execution_count": null,
   "id": "99d0d358",
   "metadata": {},
   "outputs": [],
   "source": []
  },
  {
   "cell_type": "markdown",
   "id": "9860c044",
   "metadata": {},
   "source": [
    "2. Explain why the following code returns an error:"
   ]
  },
  {
   "cell_type": "code",
   "execution_count": 2,
   "id": "1f7a2c5a",
   "metadata": {},
   "outputs": [
    {
     "ename": "ValueError",
     "evalue": "day is out of range for month",
     "output_type": "error",
     "traceback": [
      "\u001b[1;31m---------------------------------------------------------------------------\u001b[0m",
      "\u001b[1;31mValueError\u001b[0m                                Traceback (most recent call last)",
      "\u001b[1;32m<ipython-input-2-16a4d5913b87>\u001b[0m in \u001b[0;36m<module>\u001b[1;34m\u001b[0m\n\u001b[1;32m----> 1\u001b[1;33m \u001b[0mdate\u001b[0m\u001b[1;33m(\u001b[0m\u001b[1;36m2011\u001b[0m\u001b[1;33m,\u001b[0m \u001b[1;36m2\u001b[0m\u001b[1;33m,\u001b[0m \u001b[1;36m29\u001b[0m\u001b[1;33m)\u001b[0m\u001b[1;33m\u001b[0m\u001b[1;33m\u001b[0m\u001b[0m\n\u001b[0m",
      "\u001b[1;31mValueError\u001b[0m: day is out of range for month"
     ]
    }
   ],
   "source": [
    "date(2011, 2, 29)"
   ]
  },
  {
   "cell_type": "markdown",
   "id": "3c8cf49a",
   "metadata": {},
   "source": [
    "3. Create a datetime object for the 6:23pm on March 13th 1998"
   ]
  },
  {
   "cell_type": "code",
   "execution_count": null,
   "id": "be747206",
   "metadata": {},
   "outputs": [],
   "source": []
  },
  {
   "cell_type": "markdown",
   "id": "d6b2edb4",
   "metadata": {},
   "source": [
    "4. Create a list with 3 datetime objects in it"
   ]
  },
  {
   "cell_type": "code",
   "execution_count": null,
   "id": "d1f661fd",
   "metadata": {},
   "outputs": [],
   "source": []
  },
  {
   "cell_type": "markdown",
   "id": "f247f23b",
   "metadata": {},
   "source": [
    "## Creating Dates and Datetimes from Strings"
   ]
  },
  {
   "cell_type": "markdown",
   "id": "a58f7290",
   "metadata": {},
   "source": [
    "5. Create a datetime object from the following string"
   ]
  },
  {
   "cell_type": "code",
   "execution_count": null,
   "id": "c86e880a",
   "metadata": {},
   "outputs": [],
   "source": [
    "date_string = '01-22-2009 21:00'"
   ]
  },
  {
   "cell_type": "code",
   "execution_count": null,
   "id": "5c3d70c9",
   "metadata": {},
   "outputs": [],
   "source": []
  },
  {
   "cell_type": "markdown",
   "id": "38b2495b",
   "metadata": {},
   "source": [
    "6. Create a datetime object from the following string"
   ]
  },
  {
   "cell_type": "code",
   "execution_count": null,
   "id": "d62dfb6c",
   "metadata": {},
   "outputs": [],
   "source": [
    "date_string = 'Jul 23 1998 8:02:00'"
   ]
  },
  {
   "cell_type": "code",
   "execution_count": null,
   "id": "29c45b0c",
   "metadata": {},
   "outputs": [],
   "source": []
  },
  {
   "cell_type": "markdown",
   "id": "74a0989a",
   "metadata": {},
   "source": [
    "7. Create a datetime object from the following string"
   ]
  },
  {
   "cell_type": "code",
   "execution_count": null,
   "id": "e62db67e",
   "metadata": {},
   "outputs": [],
   "source": [
    "date_string = '12/1/72 01 52 12'"
   ]
  },
  {
   "cell_type": "code",
   "execution_count": null,
   "id": "db66b70a",
   "metadata": {},
   "outputs": [],
   "source": []
  },
  {
   "cell_type": "markdown",
   "id": "7b48ef4c",
   "metadata": {},
   "source": [
    "8. Convert the date August 29th 2008 to the date in Julian days"
   ]
  },
  {
   "cell_type": "code",
   "execution_count": null,
   "id": "7e0f9cd1",
   "metadata": {},
   "outputs": [],
   "source": []
  },
  {
   "cell_type": "markdown",
   "id": "37aa6fb7",
   "metadata": {},
   "source": [
    "## Timedeltas"
   ]
  },
  {
   "cell_type": "markdown",
   "id": "1357463b",
   "metadata": {},
   "source": [
    "9. Calculate how many days it has been since your last birthday."
   ]
  },
  {
   "cell_type": "code",
   "execution_count": null,
   "id": "90c723bb",
   "metadata": {},
   "outputs": [],
   "source": []
  },
  {
   "cell_type": "markdown",
   "id": "6f964bf6",
   "metadata": {},
   "source": [
    "10. Calculate exactly how old you are, down to the hour, right now."
   ]
  },
  {
   "cell_type": "code",
   "execution_count": null,
   "id": "b1e86f33",
   "metadata": {},
   "outputs": [],
   "source": []
  },
  {
   "cell_type": "markdown",
   "id": "d8495a3d",
   "metadata": {},
   "source": [
    "# Part 2"
   ]
  },
  {
   "cell_type": "code",
   "execution_count": null,
   "id": "5f881ffc",
   "metadata": {},
   "outputs": [],
   "source": [
    "import pandas as pd"
   ]
  },
  {
   "cell_type": "code",
   "execution_count": null,
   "id": "3c38c07a",
   "metadata": {},
   "outputs": [],
   "source": [
    "was_2020_filepath = \"./data/SARP 2020 final.xlsx\"\n",
    "was_2020 = pd.read_excel(was_2020_filepath, \"INPUT\", skipfooter=7)"
   ]
  },
  {
   "cell_type": "markdown",
   "id": "22034f2e",
   "metadata": {},
   "source": [
    "#### Question 1\n",
    "\n",
    "Using datetime object calculate how long the data record `was_2020` is. In other words, how much time passed between the first and the last measurement in this sample list?"
   ]
  },
  {
   "cell_type": "code",
   "execution_count": null,
   "id": "9ae26d3b",
   "metadata": {},
   "outputs": [],
   "source": []
  },
  {
   "cell_type": "markdown",
   "id": "45bfb822",
   "metadata": {},
   "source": [
    "#### Question 2 \n",
    "_Creating a datetime column from our `was_2020` Dataframe_\n",
    "\n",
    "**A)** In the `was_2020` dataset Date and Time are in two seperate columns.  Combine the two dataframes into one and assign the output to a new variable called `combined_datetime`.\n",
    "\n",
    "To do this you will need to:\n",
    "1. Convert each column to a string type\n",
    "2. Use concatenation to combine them"
   ]
  },
  {
   "cell_type": "code",
   "execution_count": null,
   "id": "7c5f6d08",
   "metadata": {},
   "outputs": [],
   "source": [
    "# Example of string concatenation\n",
    "'hello ' + 'there'"
   ]
  },
  {
   "cell_type": "code",
   "execution_count": null,
   "id": "d82061a2",
   "metadata": {},
   "outputs": [],
   "source": []
  },
  {
   "cell_type": "markdown",
   "id": "2296fb97",
   "metadata": {},
   "source": [
    "**B)** Now that you have a `'combined_datetime'` variable, you can use the pandas function `pd.to_datetime()` to convert it from a string to a Series of datetime objects.  Create a new column in your dataframe called `'datetime'` for the new datetime objects."
   ]
  },
  {
   "cell_type": "code",
   "execution_count": null,
   "id": "17a1aa5d",
   "metadata": {},
   "outputs": [],
   "source": []
  },
  {
   "cell_type": "markdown",
   "id": "a5e4fde3",
   "metadata": {},
   "source": [
    "_**Google suggestion** \"pandas to_datetime\" or the examples in [the docs](https://pandas.pydata.org/pandas-docs/stable/reference/api/pandas.to_datetime.html)_"
   ]
  },
  {
   "cell_type": "markdown",
   "id": "c9f0bebb",
   "metadata": {},
   "source": [
    "**C)** Delete the old `'Date'` and `'Time'` columns with the `DATAFRAME.drop()` method."
   ]
  },
  {
   "cell_type": "code",
   "execution_count": null,
   "id": "50d4a8ae",
   "metadata": {},
   "outputs": [],
   "source": []
  },
  {
   "cell_type": "markdown",
   "id": "629ba5c6",
   "metadata": {},
   "source": [
    "_**Google suggestion**_ \"pandas drop column, or the second (not the first) answer on [this stackoverflow](https://stackoverflow.com/questions/13411544/delete-a-column-from-a-pandas-dataframe)"
   ]
  },
  {
   "cell_type": "markdown",
   "id": "79dcaf49",
   "metadata": {},
   "source": [
    "#### Question 3\n",
    "\n",
    "_Filtering our dataframe to include only the rows within 7 days of our target date_"
   ]
  },
  {
   "cell_type": "code",
   "execution_count": null,
   "id": "053bece8",
   "metadata": {},
   "outputs": [],
   "source": [
    "import numpy as np"
   ]
  },
  {
   "cell_type": "markdown",
   "id": "ec964460",
   "metadata": {},
   "source": [
    "**A)** Let's say that we are interested in a phenomena that occurred on July 5th, 2020 so we want to narrow down our dataframe to inclue only the observations that occured within a week of the 5th.\n",
    "\n",
    "Start by calculating the difference between each date in the 'datetime' column and July 5th, 2020. What type of object is returned in the result?"
   ]
  },
  {
   "cell_type": "code",
   "execution_count": null,
   "id": "6677ee0f",
   "metadata": {},
   "outputs": [],
   "source": []
  },
  {
   "cell_type": "markdown",
   "id": "385bc676",
   "metadata": {},
   "source": [
    "**B)** Use the calculation from part A and write a conditional statement checking if each of the rows occured within 7 days of the 5th.  Don't forget to include dates of samples both before and after the 5th."
   ]
  },
  {
   "cell_type": "code",
   "execution_count": null,
   "id": "fcb8cc24",
   "metadata": {},
   "outputs": [],
   "source": []
  },
  {
   "cell_type": "markdown",
   "id": "fbb26c13",
   "metadata": {},
   "source": [
    "**C)** Use the boolean series from part B as a filter to output the `was_2020` dataframe with only the rows within 7 days of July 5th, 2020."
   ]
  },
  {
   "cell_type": "code",
   "execution_count": null,
   "id": "247cfe98",
   "metadata": {},
   "outputs": [],
   "source": []
  },
  {
   "cell_type": "markdown",
   "id": "0fd48f29",
   "metadata": {},
   "source": [
    "#### Question 4"
   ]
  },
  {
   "cell_type": "code",
   "execution_count": null,
   "id": "9d0cb3d9",
   "metadata": {},
   "outputs": [],
   "source": [
    "# Read in the data\n",
    "water_vars = pd.read_csv('./data/englewood_3_12_21_usgs_water.tsv', sep='\\t', skiprows=30)\n",
    "# There are a lot of variables here, so let's shorten our dataframe to a few variables\n",
    "water_vars = water_vars[['datetime', '210920_00060', '210922_00010', '210924_00300', '210925_00400']]\n",
    "# Get rid of the first row of hard-coded datatype info\n",
    "water_vars = water_vars.drop(0)\n",
    "# Rename the columns from their USGS codes to more human-readible names\n",
    "name_codes = {'210920_00060': 'discharge','210922_00010': 'temperature', '210924_00300': 'dissolved oxygen', '210925_00400': 'pH'}\n",
    "water_vars = water_vars.rename(columns=name_codes)\n",
    "# Convert columns with numbers to a numeric type\n",
    "water_vars['discharge'] = pd.to_numeric(water_vars['discharge'])\n",
    "water_vars['temperature'] = pd.to_numeric(water_vars['temperature'])\n",
    "water_vars['dissolved oxygen'] = pd.to_numeric(water_vars['dissolved oxygen'])\n",
    "water_vars['pH'] = pd.to_numeric(water_vars['pH'])"
   ]
  },
  {
   "cell_type": "code",
   "execution_count": null,
   "id": "27bb83a4",
   "metadata": {},
   "outputs": [],
   "source": [
    "water_vars"
   ]
  },
  {
   "cell_type": "markdown",
   "id": "93e1f98b",
   "metadata": {},
   "source": [
    "**A)** Convert the 'datetime' string column to a column of datetime objects using `pd.to_datetime()`."
   ]
  },
  {
   "cell_type": "code",
   "execution_count": null,
   "id": "8988b04c",
   "metadata": {},
   "outputs": [],
   "source": []
  },
  {
   "cell_type": "markdown",
   "id": "e5dbd81d",
   "metadata": {},
   "source": [
    "**B)** Set the new datetime column as the index of the dataframe."
   ]
  },
  {
   "cell_type": "code",
   "execution_count": null,
   "id": "fac7179b",
   "metadata": {},
   "outputs": [],
   "source": []
  },
  {
   "cell_type": "markdown",
   "id": "b0411537",
   "metadata": {},
   "source": [
    "**C)** Use the new index to retrieve the value for `'2021-03-12 13:30:00'`"
   ]
  },
  {
   "cell_type": "code",
   "execution_count": null,
   "id": "e19490e5",
   "metadata": {},
   "outputs": [],
   "source": []
  },
  {
   "cell_type": "markdown",
   "id": "df4ad33b",
   "metadata": {},
   "source": [
    "**D)** One cool thing we can do when we have a datetime index is easily **resample** the data.  Resampling is when we aggregate more finely resolved data to be more coarsely resolved. In this example we will be taking data that is reported every 15 minutes and resampling to an hourly resolution.\n",
    "\n",
    "Use the `DATAFRAME.resample()` function to resample to hourly resolution using the mean value of the 15 minute intervals.  Check out the [docs page](https://pandas.pydata.org/pandas-docs/stable/reference/api/pandas.DataFrame.resample.html) or the [pandas datetime overview](https://pandas.pydata.org/pandas-docs/stable/user_guide/timeseries.html#time-series-date-functionality) for examples."
   ]
  },
  {
   "cell_type": "code",
   "execution_count": null,
   "id": "3b6ed641",
   "metadata": {},
   "outputs": [],
   "source": []
  }
 ],
 "metadata": {
  "kernelspec": {
   "display_name": "Python 3 (ipykernel)",
   "language": "python",
   "name": "python3"
  },
  "language_info": {
   "codemirror_mode": {
    "name": "ipython",
    "version": 3
   },
   "file_extension": ".py",
   "mimetype": "text/x-python",
   "name": "python",
   "nbconvert_exporter": "python",
   "pygments_lexer": "ipython3",
   "version": "3.9.5"
  }
 },
 "nbformat": 4,
 "nbformat_minor": 5
}
