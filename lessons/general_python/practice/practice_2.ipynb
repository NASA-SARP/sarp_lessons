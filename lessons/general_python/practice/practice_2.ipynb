{
 "cells": [
  {
   "cell_type": "markdown",
   "id": "29bfa073",
   "metadata": {},
   "source": [
    "This notebook provides practice problems associated with lesson 2. It is divided into several parts:\n",
    "* **Part 1** - most approachable place to start.  Practices syntax and concepts\n",
    "* **Part 2** - a step up from part 1.  Integrates concepts from accross the lesson in more applied scenarios"
   ]
  },
  {
   "cell_type": "markdown",
   "id": "577bef3e",
   "metadata": {},
   "source": [
    "# Practice Problems Part 1"
   ]
  },
  {
   "cell_type": "markdown",
   "id": "1182f452",
   "metadata": {},
   "source": [
    "## Lists"
   ]
  },
  {
   "cell_type": "markdown",
   "id": "c199809f",
   "metadata": {},
   "source": [
    "1. Create a list with 4-6 items that represents some foods."
   ]
  },
  {
   "cell_type": "code",
   "execution_count": null,
   "id": "611cde3e",
   "metadata": {},
   "outputs": [],
   "source": []
  },
  {
   "cell_type": "markdown",
   "id": "78fdcd6e",
   "metadata": {},
   "source": [
    "2. Create a list which contains some fake data, for example relative humidity measurements. Include a print statement which displays `Number of samples is: x` where `x` is calculated based on the number of items in your list."
   ]
  },
  {
   "cell_type": "code",
   "execution_count": null,
   "id": "4e4ae90f",
   "metadata": {},
   "outputs": [],
   "source": []
  },
  {
   "cell_type": "markdown",
   "id": "0023aa40",
   "metadata": {},
   "source": [
    "3. 🐞 Debugging: Find and fix the error in the following block of code."
   ]
  },
  {
   "cell_type": "code",
   "execution_count": 2,
   "id": "39492f6e",
   "metadata": {},
   "outputs": [
    {
     "ename": "SyntaxError",
     "evalue": "invalid syntax (<ipython-input-2-1d22d87ab71b>, line 1)",
     "output_type": "error",
     "traceback": [
      "\u001b[1;36m  File \u001b[1;32m\"<ipython-input-2-1d22d87ab71b>\"\u001b[1;36m, line \u001b[1;32m1\u001b[0m\n\u001b[1;33m    pollutants = ['co\" 'co2', 'no2', 'o3']\u001b[0m\n\u001b[1;37m                        ^\u001b[0m\n\u001b[1;31mSyntaxError\u001b[0m\u001b[1;31m:\u001b[0m invalid syntax\n"
     ]
    }
   ],
   "source": [
    "pollutants = ['co\" 'co2', 'no2', 'o3']"
   ]
  },
  {
   "cell_type": "markdown",
   "id": "18b75c9e",
   "metadata": {},
   "source": [
    "### Indexing"
   ]
  },
  {
   "cell_type": "markdown",
   "id": "134fd0bc",
   "metadata": {},
   "source": [
    "4. For each of the bullets print out the colors from the `colors` list using indices.\n",
    "* red\n",
    "* your favorite color\n",
    "* blue, yellow, white (together)"
   ]
  },
  {
   "cell_type": "code",
   "execution_count": null,
   "id": "4c39a960",
   "metadata": {},
   "outputs": [],
   "source": [
    "colors = ['red', 'green', 'blue', 'yellow', 'white', 'black']"
   ]
  },
  {
   "cell_type": "code",
   "execution_count": null,
   "id": "0798862b",
   "metadata": {},
   "outputs": [],
   "source": []
  },
  {
   "cell_type": "markdown",
   "id": "8b0b859d",
   "metadata": {},
   "source": [
    "5. 🐞 Debugging: The goal of the following block of code is to print out the value `o3`.  Find and fix the error."
   ]
  },
  {
   "cell_type": "code",
   "execution_count": 7,
   "id": "0324039e",
   "metadata": {},
   "outputs": [
    {
     "ename": "IndexError",
     "evalue": "list index out of range",
     "output_type": "error",
     "traceback": [
      "\u001b[0;31m----------------------------------------------------------------\u001b[0m",
      "\u001b[0;31mIndexError\u001b[0m                     Traceback (most recent call last)",
      "\u001b[0;32m<ipython-input-7-ba5a7280c547>\u001b[0m in \u001b[0;36m<module>\u001b[0;34m\u001b[0m\n\u001b[1;32m      1\u001b[0m \u001b[0mpollutants\u001b[0m \u001b[0;34m=\u001b[0m \u001b[0;34m[\u001b[0m\u001b[0;34m'co'\u001b[0m\u001b[0;34m,\u001b[0m \u001b[0;34m'co2'\u001b[0m\u001b[0;34m,\u001b[0m \u001b[0;34m'no2'\u001b[0m\u001b[0;34m,\u001b[0m \u001b[0;34m'o3'\u001b[0m\u001b[0;34m]\u001b[0m\u001b[0;34m\u001b[0m\u001b[0;34m\u001b[0m\u001b[0m\n\u001b[0;32m----> 2\u001b[0;31m \u001b[0mprint\u001b[0m\u001b[0;34m(\u001b[0m\u001b[0mpollutants\u001b[0m\u001b[0;34m[\u001b[0m\u001b[0;36m4\u001b[0m\u001b[0;34m]\u001b[0m\u001b[0;34m)\u001b[0m\u001b[0;34m\u001b[0m\u001b[0;34m\u001b[0m\u001b[0m\n\u001b[0m",
      "\u001b[0;31mIndexError\u001b[0m: list index out of range"
     ]
    }
   ],
   "source": [
    "pollutants = ['co', 'co2', 'no2', 'o3']\n",
    "print(pollutants[4])"
   ]
  },
  {
   "cell_type": "code",
   "execution_count": null,
   "id": "21442c2c",
   "metadata": {},
   "outputs": [],
   "source": []
  },
  {
   "cell_type": "markdown",
   "id": "06cb2f21",
   "metadata": {},
   "source": [
    "### Functions/Methods"
   ]
  },
  {
   "cell_type": "markdown",
   "id": "e1fca3e4",
   "metadata": {},
   "source": [
    "6. Returning to our list of pollutants, let's say we learned that `no2` is the wrong value.  Instead we want that item to be `nox`.  Update the pollutants list below so the output is `['co', 'co2', 'nox', 'o3']`."
   ]
  },
  {
   "cell_type": "code",
   "execution_count": null,
   "id": "74bbdd70",
   "metadata": {},
   "outputs": [],
   "source": [
    "pollutants = ['co', 'co2', 'no2', 'o3']"
   ]
  },
  {
   "cell_type": "code",
   "execution_count": null,
   "id": "fb7e10b1",
   "metadata": {},
   "outputs": [],
   "source": []
  },
  {
   "cell_type": "markdown",
   "id": "a23cbe2d",
   "metadata": {},
   "source": [
    "7. [This article](https://towardsdatascience.com/python-list-methods-fa7c53010300) linked in the lecture describes a few common list methods.  Scroll down to where the article talks about `sort()` and apply that to our `pollutants` list.  Sort first forward and then in reverse, alphabetically."
   ]
  },
  {
   "cell_type": "code",
   "execution_count": null,
   "id": "74863b5d",
   "metadata": {},
   "outputs": [],
   "source": []
  },
  {
   "cell_type": "code",
   "execution_count": null,
   "id": "cf1b0514",
   "metadata": {},
   "outputs": [],
   "source": []
  },
  {
   "cell_type": "markdown",
   "id": "730124fb",
   "metadata": {},
   "source": [
    "## Dictionaries"
   ]
  },
  {
   "cell_type": "markdown",
   "id": "c41d533d",
   "metadata": {},
   "source": [
    "8. Create a dictionary that has an item for each of the last 4 days and displays the weather condition on each of those days."
   ]
  },
  {
   "cell_type": "code",
   "execution_count": null,
   "id": "7f68a12e",
   "metadata": {},
   "outputs": [],
   "source": []
  },
  {
   "cell_type": "markdown",
   "id": "bf6041f6",
   "metadata": {},
   "source": [
    "9. Using the dictionary you made in the previous question:\n",
    "* print all the keys\n",
    "* print all the values\n",
    "* pick one specific key and print its value"
   ]
  },
  {
   "cell_type": "code",
   "execution_count": null,
   "id": "f99e7a40",
   "metadata": {},
   "outputs": [],
   "source": []
  },
  {
   "cell_type": "markdown",
   "id": "b75f5265",
   "metadata": {},
   "source": [
    "10. 🐞 Debugging: Find and fix the error in the following block of code."
   ]
  },
  {
   "cell_type": "code",
   "execution_count": 13,
   "id": "6782b8b6",
   "metadata": {},
   "outputs": [
    {
     "ename": "SyntaxError",
     "evalue": "invalid syntax (<ipython-input-13-4d50fa6ccc43>, line 4)",
     "output_type": "error",
     "traceback": [
      "\u001b[0;36m  File \u001b[0;32m\"<ipython-input-13-4d50fa6ccc43>\"\u001b[0;36m, line \u001b[0;32m4\u001b[0m\n\u001b[0;31m    'zenith': 60,\u001b[0m\n\u001b[0m    ^\u001b[0m\n\u001b[0;31mSyntaxError\u001b[0m\u001b[0;31m:\u001b[0m invalid syntax\n"
     ]
    }
   ],
   "source": [
    "metadata = {\n",
    "    'location': 'Nairobi', \n",
    "    'quality_flag': 5\n",
    "    'zenith': 60, \n",
    "    'clouds': True,\n",
    "    'data_center': ['LPDAAC', 'ASDC'],\n",
    "}"
   ]
  },
  {
   "cell_type": "markdown",
   "id": "34c6dc77",
   "metadata": {},
   "source": [
    "11. 🐞 Debugging: The goal of the following block of code is to print out the keys of the dictionary `metadata`. Find and fix the error.\n",
    "    "
   ]
  },
  {
   "cell_type": "code",
   "execution_count": 12,
   "id": "eed891de",
   "metadata": {},
   "outputs": [
    {
     "name": "stdout",
     "output_type": "stream",
     "text": [
      "<built-in method keys of dict object at 0x7ffe4794eb40>\n"
     ]
    }
   ],
   "source": [
    "metadata = {\n",
    "    'location': 'Nairobi', \n",
    "    'quality_flag': 5,\n",
    "    'zenith': 60, \n",
    "    'clouds': True,\n",
    "    'data_center': ['LPDAAC', 'ASDC'],\n",
    "}\n",
    "print(metadata.keys)"
   ]
  },
  {
   "cell_type": "code",
   "execution_count": null,
   "id": "3c7695bf",
   "metadata": {},
   "outputs": [],
   "source": []
  },
  {
   "cell_type": "markdown",
   "id": "cf9a7964",
   "metadata": {},
   "source": [
    "### Adding or changing items"
   ]
  },
  {
   "cell_type": "markdown",
   "id": "db7dcfbf",
   "metadata": {},
   "source": [
    "12. Using the following dictionary change the value for `state` to `PA`."
   ]
  },
  {
   "cell_type": "code",
   "execution_count": 3,
   "id": "bbae3cdf",
   "metadata": {},
   "outputs": [],
   "source": [
    "census_block7 = {\n",
    "    'state': 'NY',\n",
    "    'block_groups': ['01', '02', '03', '04'],\n",
    "    'median_education': 'some_bachelors',\n",
    "    'total_housing_units': 9329432,\n",
    "}"
   ]
  },
  {
   "cell_type": "code",
   "execution_count": null,
   "id": "b82d0544",
   "metadata": {},
   "outputs": [],
   "source": []
  },
  {
   "cell_type": "markdown",
   "id": "2242e232",
   "metadata": {},
   "source": [
    "13. Using the `census_block7` dictionary add the value 78.2 for a new item called `employment_rate`."
   ]
  },
  {
   "cell_type": "code",
   "execution_count": null,
   "id": "d181fa38",
   "metadata": {},
   "outputs": [],
   "source": []
  },
  {
   "cell_type": "markdown",
   "id": "2bccbfb6",
   "metadata": {},
   "source": [
    "## Data Structures"
   ]
  },
  {
   "cell_type": "markdown",
   "id": "c285a571",
   "metadata": {},
   "source": [
    "Come up with 1-2 fake datasets that make sense as a list and type out an example list.  Do the same for 1-2 dictionaries."
   ]
  },
  {
   "cell_type": "code",
   "execution_count": null,
   "id": "e436539a",
   "metadata": {},
   "outputs": [],
   "source": [
    "# Example\n",
    "max_daily_temperatures_NYC = [56, 50, 49, 49, 60]"
   ]
  },
  {
   "cell_type": "code",
   "execution_count": null,
   "id": "59a44978",
   "metadata": {},
   "outputs": [],
   "source": []
  },
  {
   "cell_type": "markdown",
   "id": "f8515972",
   "metadata": {},
   "source": [
    "# Practice Problems Part 2\n",
    "\n",
    "Assign the value of a dictionary to another variable"
   ]
  },
  {
   "cell_type": "markdown",
   "id": "d680e25c",
   "metadata": {},
   "source": [
    "#### Question 1"
   ]
  },
  {
   "cell_type": "markdown",
   "id": "6ee641b3",
   "metadata": {},
   "source": [
    "The list below represents the smallest size of [particulate matter (PM)](https://www.epa.gov/pm-pollution/particulate-matter-pm-basics#:~:text=PM%20stands%20for%20particulate%20matter,seen%20with%20the%20naked%20eye.) measured in a series of air samples.  Find the number of occurances of PM2.5 and PM10 in the list.  (One of the methods from the [list methods article](https://towardsdatascience.com/python-list-methods-fa7c53010300) could be a good place to start)."
   ]
  },
  {
   "cell_type": "code",
   "execution_count": 1,
   "id": "fc0d850e",
   "metadata": {},
   "outputs": [],
   "source": [
    "pm_levels = ['PM1', 'PM2.5', 'PM1', 'PM10', 'PM10', 'PM10', 'PM2.5', 'PM10', 'PM1', 'PM2.5']"
   ]
  },
  {
   "cell_type": "code",
   "execution_count": null,
   "id": "798a2cd3",
   "metadata": {},
   "outputs": [],
   "source": []
  },
  {
   "cell_type": "markdown",
   "id": "5238b2bf",
   "metadata": {},
   "source": [
    "#### Question 2\n",
    "One very common practice in dictionaries is called nesting.  **Nesting** is the practice of putting one data structure inside of another data structure.  So a _nested dictionary_ is a dictionary inside of another dictionary.\n",
    "\n",
    "<img src=\"https://i.pinimg.com/originals/a0/40/4b/a0404bf8ec04d32660aee70ecca5055b.gif\" align=\"left\">"
   ]
  },
  {
   "cell_type": "code",
   "execution_count": 10,
   "id": "31384b4e",
   "metadata": {},
   "outputs": [],
   "source": [
    "state_info = {\n",
    "    'state': 'AK',\n",
    "    'motto': 'north to the future',\n",
    "    'num_of_counties': 29,\n",
    "    'population': {\n",
    "        'ages_0_25': 28393,\n",
    "        'ages_25_50': 25920,\n",
    "        'ages_over_50': 8943,\n",
    "        }\n",
    "}"
   ]
  },
  {
   "cell_type": "markdown",
   "id": "1445a20b",
   "metadata": {},
   "source": [
    "**A)** Print out the following pieces of information from the dictionary above:\n",
    "* the motto\n",
    "* the population ages 25 to 50"
   ]
  },
  {
   "cell_type": "code",
   "execution_count": null,
   "id": "e312ee48",
   "metadata": {},
   "outputs": [],
   "source": []
  },
  {
   "cell_type": "markdown",
   "id": "7eca8f92",
   "metadata": {},
   "source": [
    "**B)** Change the population ages 0 to 25 to 98988"
   ]
  },
  {
   "cell_type": "code",
   "execution_count": null,
   "id": "ca49160d",
   "metadata": {},
   "outputs": [],
   "source": []
  },
  {
   "cell_type": "markdown",
   "id": "d2fe4c5d",
   "metadata": {},
   "source": [
    "**C)** Add a new age bracket to the population dictionary by adding an additional item: `ages_50_75` with the population 3333.  Change the item `ages_over_50` to be renamed `ages_50_75`."
   ]
  },
  {
   "cell_type": "code",
   "execution_count": null,
   "id": "8c78ba4f",
   "metadata": {},
   "outputs": [],
   "source": []
  },
  {
   "cell_type": "markdown",
   "id": "abf7d6e2",
   "metadata": {},
   "source": [
    "#### Question 3\n",
    "Another common example of nested objects is a list of dictionaries.  Below we have the same nested dictionary as in question two, but we have a list of three states' data."
   ]
  },
  {
   "cell_type": "code",
   "execution_count": 11,
   "id": "9ef845ba",
   "metadata": {},
   "outputs": [],
   "source": [
    "census_by_state = [\n",
    "    {\n",
    "        'state': 'AK',\n",
    "        'motto': 'north to the future',\n",
    "        'num_of_counties': 29,\n",
    "        'population': {\n",
    "            'ages_0_25': 28393,\n",
    "            'ages_25_50': 25920,\n",
    "            'ages_over_50': 8943,\n",
    "            }\n",
    "    },\n",
    "    {\n",
    "        'state': 'FL',\n",
    "        'motto': 'in god we trust',\n",
    "        'num_of_counties': 67,\n",
    "        'population': {\n",
    "            'ages_0_25': 382933,\n",
    "            'ages_25_50': 483923,\n",
    "            'ages_over_50': 938923,\n",
    "            },\n",
    "    },\n",
    "    {\n",
    "        'state': 'MN',\n",
    "        'motto': 'letoile du nord',\n",
    "        'num_of_counties': 87,\n",
    "        'population': {\n",
    "            'ages_0_25': 39323,\n",
    "            'ages_25_50': 109282,\n",
    "            'ages_over_50': 92837,\n",
    "        },\n",
    "    },\n",
    "]"
   ]
  },
  {
   "cell_type": "markdown",
   "id": "35a86c44",
   "metadata": {},
   "source": [
    "**A)** Print the following population numbers:\n",
    "* population ages 25-50 in Alaska\n",
    "* number of counties in Florida\n",
    "* population ages 0-25 in Minnesota\n",
    "* motto of alaska"
   ]
  },
  {
   "cell_type": "code",
   "execution_count": null,
   "id": "2c737d60",
   "metadata": {},
   "outputs": [],
   "source": []
  },
  {
   "cell_type": "markdown",
   "id": "bcfa7f50",
   "metadata": {},
   "source": [
    "**B)** Change:\n",
    "* the population over age 50 in florida to 8898\n",
    "* the motto of minnesota to \"go pack go!\"\n",
    "* the number of counties in alaska to 31"
   ]
  },
  {
   "cell_type": "code",
   "execution_count": null,
   "id": "0461fa47",
   "metadata": {},
   "outputs": [],
   "source": []
  },
  {
   "cell_type": "markdown",
   "id": "fd029b20",
   "metadata": {},
   "source": [
    "**C)** Add a new state to the list of dictionaries.  Pick whatever state and values you want."
   ]
  },
  {
   "cell_type": "code",
   "execution_count": null,
   "id": "d5657caa",
   "metadata": {},
   "outputs": [],
   "source": []
  },
  {
   "cell_type": "markdown",
   "id": "33f83b96",
   "metadata": {},
   "source": [
    "#### Question 4\n",
    "Using the list of values below create new lists made up of the following chunks:\n",
    "* The first 5 items in the list\n",
    "* The middle third of the list items\n",
    "* The first 3 items and the last 3 items together"
   ]
  },
  {
   "cell_type": "code",
   "execution_count": null,
   "id": "9ca01410",
   "metadata": {},
   "outputs": [],
   "source": []
  },
  {
   "cell_type": "markdown",
   "id": "6ccfde8b",
   "metadata": {},
   "source": [
    "_**Hint** Googling suggestions: \"python list indexing\", or \"combining two python lists\".  Article suggestions [here](https://railsware.com/blog/python-for-machine-learning-indexing-and-slicing-for-lists-tuples-strings-and-other-sequential-types/#Slice_Notation) or [here](https://www.w3schools.com/python/gloss_python_join_lists.asp)._"
   ]
  },
  {
   "cell_type": "markdown",
   "id": "db46d804",
   "metadata": {},
   "source": [
    "#### Question 5\n",
    "Write some code that starts with an index and returns the value from the list below at that index.  Print the value  Include in the print statement if the value is even or odd."
   ]
  },
  {
   "cell_type": "code",
   "execution_count": 12,
   "id": "b6d06952",
   "metadata": {},
   "outputs": [],
   "source": [
    "starting_data = [4, 6, 4, 1, 3, 4, 6, 9, 8, 7, 6, 5, 5, 3, 2]\n",
    "index = 3\n",
    "# Your code here"
   ]
  },
  {
   "cell_type": "code",
   "execution_count": null,
   "id": "1dbef1be",
   "metadata": {},
   "outputs": [],
   "source": []
  }
 ],
 "metadata": {
  "kernelspec": {
   "display_name": "Python 3",
   "language": "python",
   "name": "python3"
  },
  "language_info": {
   "codemirror_mode": {
    "name": "ipython",
    "version": 3
   },
   "file_extension": ".py",
   "mimetype": "text/x-python",
   "name": "python",
   "nbconvert_exporter": "python",
   "pygments_lexer": "ipython3",
   "version": "3.8.8"
  }
 },
 "nbformat": 4,
 "nbformat_minor": 5
}
