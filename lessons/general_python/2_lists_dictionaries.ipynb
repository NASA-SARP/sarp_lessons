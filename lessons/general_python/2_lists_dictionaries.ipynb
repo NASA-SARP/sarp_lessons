{
 "cells": [
  {
   "cell_type": "markdown",
   "metadata": {},
   "source": [
    "# Lists and Dictionaries\n",
    "\n",
    ":::{admonition} Lesson Content\n",
    ":class: note, dropdown\n",
    "\n",
    "* 🚥 Lists; Indexing Lists\n",
    "* 🏋🏽 Doing things to lists: Methods/Functions\n",
    "* 📕 Dictionaries; Inspecting, Adding, or Changing Items\n",
    "\n",
    ":::"
   ]
  },
  {
   "cell_type": "markdown",
   "metadata": {},
   "source": [
    "## Context: _from data types to data structures_\n",
    "Data types are the first level of building blocks in code. Using data types we can build increasingly more complex objects which we call **data structures**.  Data structures are made up of groups of data types, organized differently depending on the strucutre.  Today we are going to look at two data structures: Lists and Dictionaries.\n",
    "\n",
    "The data structures of lists and dictionaries are one step more complicated ways to organize data. This means we are expanding the type of data that we can represent."
   ]
  },
  {
   "cell_type": "markdown",
   "metadata": {},
   "source": [
    "![Summary Slide](./images/summaryslide_2.jpg)"
   ]
  },
  {
   "cell_type": "markdown",
   "metadata": {},
   "source": [
    "## 🚥 Lists"
   ]
  },
  {
   "cell_type": "markdown",
   "metadata": {},
   "source": [
    "**Lists** are a data structure which represent a group of values. Their syntax is square brackets `[]` with a comma in between each item."
   ]
  },
  {
   "cell_type": "code",
   "execution_count": 1,
   "metadata": {
    "scrolled": true
   },
   "outputs": [
    {
     "data": {
      "text/plain": [
       "['co', 'co2', 'no2', 'o3']"
      ]
     },
     "execution_count": 1,
     "metadata": {},
     "output_type": "execute_result"
    }
   ],
   "source": [
    "# List of pollutants\n",
    "['co', 'co2', 'no2', 'o3']"
   ]
  },
  {
   "cell_type": "markdown",
   "metadata": {},
   "source": [
    "We can see how data structures are made of data types in the previous example.  Here we have a list of `string`s\n",
    "\n",
    "`list` = [`str`, `str`, `str`, `str`]\n",
    "\n",
    "The next example is a list of `float`s"
   ]
  },
  {
   "cell_type": "code",
   "execution_count": 2,
   "metadata": {},
   "outputs": [
    {
     "data": {
      "text/plain": [
       "[4.5, 1.0, 4.3, 4.3, 7.6]"
      ]
     },
     "execution_count": 2,
     "metadata": {},
     "output_type": "execute_result"
    }
   ],
   "source": [
    "# List of pH values\n",
    "[4.5, 1.0, 4.3, 4.3, 7.6]"
   ]
  },
  {
   "cell_type": "markdown",
   "metadata": {},
   "source": [
    "Lists can be any data type, or a mix of data types.  You can assign a list as a variable the same way as we did for strings and integers, with an equal sign."
   ]
  },
  {
   "cell_type": "code",
   "execution_count": 3,
   "metadata": {},
   "outputs": [],
   "source": [
    "list1 = [\"apple\", \"banana\", \"cherry\"]\n",
    "list2 = [1, 5, 7, 9, 3]\n",
    "list3 = [True, False, False]\n",
    "list4 = [\"abc\", 34, True, 40, \"male\"]"
   ]
  },
  {
   "cell_type": "code",
   "execution_count": 4,
   "metadata": {},
   "outputs": [],
   "source": [
    "pollutants = ['co', 'co2', 'no2', 'o3']"
   ]
  },
  {
   "cell_type": "markdown",
   "metadata": {},
   "source": [
    "### List Indexes"
   ]
  },
  {
   "cell_type": "markdown",
   "metadata": {},
   "source": [
    "You access individual items in a list using an **index**.  An index is a number which represents the position of an item in the list."
   ]
  },
  {
   "cell_type": "code",
   "execution_count": 5,
   "metadata": {},
   "outputs": [],
   "source": [
    "colors = ['red', 'green', 'blue', 'yellow', 'white', 'black']"
   ]
  },
  {
   "cell_type": "markdown",
   "metadata": {},
   "source": [
    "A conceptual image of the `colors` list\n",
    "\n",
    "![Colors List](https://railsware.com/blog/wp-content/uploads/2018/10/positive-indexes.png)\n",
    "\n",
    "_Image from [Railsware](https://railsware.com/blog/python-for-machine-learning-indexing-and-slicing-for-lists-tuples-strings-and-other-sequential-types/)_"
   ]
  },
  {
   "cell_type": "markdown",
   "metadata": {},
   "source": [
    "The syntax for indexing uses the index number and square brackets `[]`."
   ]
  },
  {
   "cell_type": "code",
   "execution_count": 6,
   "metadata": {
    "scrolled": true
   },
   "outputs": [
    {
     "data": {
      "text/plain": [
       "'green'"
      ]
     },
     "execution_count": 6,
     "metadata": {},
     "output_type": "execute_result"
    }
   ],
   "source": [
    "# Which pollutant is at position 1 in the `pollutants` list?\n",
    "colors[1]"
   ]
  },
  {
   "cell_type": "markdown",
   "metadata": {},
   "source": [
    "<div class=\"alert alert-info\">\n",
    "    <i>Key Vocabulary</i></br>\n",
    "    <strong>index:</strong> A number that represents the position of an item in a data structure.  “Indexing” as a verb refers to getting the value of that item using its index.\n",
    "</div>"
   ]
  },
  {
   "cell_type": "markdown",
   "metadata": {
    "tags": []
   },
   "source": [
    "### 🌟Key Clarification\n",
    "In Python (and most programming langauges) you begin counting with indexes at 0 instead of at 1.  So `pollutants[1]` did not return the first item in the list, it returned the second.  You access the first item in the list using `pollutants[0]`.\n",
    "\n",
    "This concept of starting counting at 0 instead of 1 is true across the whole Python language."
   ]
  },
  {
   "cell_type": "markdown",
   "metadata": {},
   "source": [
    "<div class=\"alert alert-warning\">\n",
    "    <i>Python Object</i></br>\n",
    "    <strong>List</strong> \n",
    "</div>"
   ]
  },
  {
   "cell_type": "markdown",
   "metadata": {
    "tags": []
   },
   "source": [
    "### More ways to index"
   ]
  },
  {
   "cell_type": "markdown",
   "metadata": {},
   "source": [
    "To access several values in a row you use a colon `:`."
   ]
  },
  {
   "cell_type": "code",
   "execution_count": 7,
   "metadata": {},
   "outputs": [
    {
     "data": {
      "text/plain": [
       "['green', 'blue']"
      ]
     },
     "execution_count": 7,
     "metadata": {},
     "output_type": "execute_result"
    }
   ],
   "source": [
    "colors[1:3]"
   ]
  },
  {
   "cell_type": "markdown",
   "metadata": {},
   "source": [
    "The general syntax is:\n",
    "> `list[start:end+1]`"
   ]
  },
  {
   "cell_type": "markdown",
   "metadata": {},
   "source": [
    "We only sampled a few of the ways to index lists here.  If you want to read about more check out [this article](https://railsware.com/blog/python-for-machine-learning-indexing-and-slicing-for-lists-tuples-strings-and-other-sequential-types/) from Railsware."
   ]
  },
  {
   "cell_type": "markdown",
   "metadata": {},
   "source": [
    "### 👀 Noticing patterns\n",
    "This sytnax for indexing - `[number]` or `[number:number]`- is really common in the Python language.  It works on many types of data structures, so keep your eyes open for the pattern!"
   ]
  },
  {
   "cell_type": "markdown",
   "metadata": {},
   "source": [
    ":::{admonition} 📝 Check your understanding\n",
    ":class: tip\n",
    "\n",
    "Use the following list to answer the questions:\n",
    "`pollutants = ['co', 'co2', 'no2', 'o3']`\n",
    "\n",
    "1. What would be the result of `pollutants[2]`?\n",
    "\n",
    "2. What is the index you should use to find the value of the last item in the `pollutants` list?\n",
    "\n",
    "3. Write an index to find the first 3 items in the `pollutants` list.\n",
    "\n",
    ":::"
   ]
  },
  {
   "cell_type": "markdown",
   "metadata": {},
   "source": [
    "## 🏋🏽 Doing things to lists: Functions/Methods"
   ]
  },
  {
   "cell_type": "markdown",
   "metadata": {},
   "source": [
    "If data structures are like nouns in the english language then methods or functions are the verbs. Thus far we have created lots of variables of many different types.  **Functions** or **methods** will now enable us to do things to them.\n",
    "\n",
    "For example, when working with a list, you might want to:\n",
    "* know how many things are in your list\n",
    "* add a new item to a list\n",
    "* delete an item from a list \n",
    "\n",
    "On a vocabulary note, for now you can consider methods and functions to be the same thing."
   ]
  },
  {
   "cell_type": "markdown",
   "metadata": {},
   "source": [
    "### Getting the length"
   ]
  },
  {
   "cell_type": "markdown",
   "metadata": {},
   "source": [
    "One very common question you might ask about a list is \"How many things are in my list?\".  You answer this question using a function called `len()`, with is short for \"length\".  This gives the number of items in the list."
   ]
  },
  {
   "cell_type": "code",
   "execution_count": 8,
   "metadata": {},
   "outputs": [
    {
     "data": {
      "text/plain": [
       "4"
      ]
     },
     "execution_count": 8,
     "metadata": {},
     "output_type": "execute_result"
    }
   ],
   "source": [
    "# Finding the number of items in a list\n",
    "len(pollutants)"
   ]
  },
  {
   "cell_type": "markdown",
   "metadata": {},
   "source": [
    "The `len()` function is a good example of one of the two typical syntaxes of a function -- the name of the function, `len`, followed by regular parenthesis `()` with your object (in this case the list) inside the parenthesis."
   ]
  },
  {
   "cell_type": "markdown",
   "metadata": {},
   "source": [
    "### Adding a new value"
   ]
  },
  {
   "cell_type": "markdown",
   "metadata": {},
   "source": [
    "A different thing you might want to do to your list is add a new item. The syntax for this is `.append()`."
   ]
  },
  {
   "cell_type": "code",
   "execution_count": 9,
   "metadata": {},
   "outputs": [
    {
     "name": "stdout",
     "output_type": "stream",
     "text": [
      "['co', 'co2', 'no2', 'o3']\n"
     ]
    }
   ],
   "source": [
    "# Starting list\n",
    "print( pollutants)"
   ]
  },
  {
   "cell_type": "code",
   "execution_count": 10,
   "metadata": {
    "scrolled": true
   },
   "outputs": [],
   "source": [
    "# Appending methane\n",
    "pollutants.append('ch4')"
   ]
  },
  {
   "cell_type": "code",
   "execution_count": 11,
   "metadata": {},
   "outputs": [
    {
     "name": "stdout",
     "output_type": "stream",
     "text": [
      "['co', 'co2', 'no2', 'o3', 'ch4']\n"
     ]
    }
   ],
   "source": [
    "# Updated list\n",
    "print(pollutants)"
   ]
  },
  {
   "cell_type": "markdown",
   "metadata": {},
   "source": [
    "When using `.append()` we had to tell the method what the value was that we wanted to append, in this case `ch4`.  `ch4` is called an **argument**, which is an input into your function/method."
   ]
  },
  {
   "cell_type": "markdown",
   "metadata": {},
   "source": [
    "`.append()` is an example of the other common syntax -- your object (ex. the list), `.`, the function name (ex. `append`), open parenthesis `()`.  If the method needs inputs(arguments) (Ex. `ch4` in the `append` example) they go inside the parentheis."
   ]
  },
  {
   "cell_type": "markdown",
   "metadata": {},
   "source": [
    "There are lots of methods that you can use on lists.  10 of them are described pretty nicely in [this article](https://towardsdatascience.com/python-list-methods-fa7c53010300)."
   ]
  },
  {
   "cell_type": "markdown",
   "metadata": {},
   "source": [
    "### Changing (updating) a value"
   ]
  },
  {
   "cell_type": "markdown",
   "metadata": {},
   "source": [
    "One action you might want to take is changing the value of an item.  This is so common you don't need to use a `.verb()`-type function for this.  You just use the same `[]` notation we used for indexing and an equals sign to update the value."
   ]
  },
  {
   "cell_type": "code",
   "execution_count": 12,
   "metadata": {},
   "outputs": [
    {
     "data": {
      "text/plain": [
       "['co', 'co2', 'no2', 'o3', 'ch4']"
      ]
     },
     "execution_count": 12,
     "metadata": {},
     "output_type": "execute_result"
    }
   ],
   "source": [
    "# Original value of the 3rd item in `pollutants`\n",
    "pollutants"
   ]
  },
  {
   "cell_type": "code",
   "execution_count": 13,
   "metadata": {},
   "outputs": [],
   "source": [
    "# Changing the value\n",
    "pollutants[2] = 'ch4'"
   ]
  },
  {
   "cell_type": "code",
   "execution_count": 14,
   "metadata": {},
   "outputs": [
    {
     "data": {
      "text/plain": [
       "['co', 'co2', 'ch4', 'o3', 'ch4']"
      ]
     },
     "execution_count": 14,
     "metadata": {},
     "output_type": "execute_result"
    }
   ],
   "source": [
    "# Notice the value in the 3rd position (index 2) has changed.\n",
    "pollutants"
   ]
  },
  {
   "cell_type": "markdown",
   "metadata": {},
   "source": [
    "<div class=\"alert alert-info\">\n",
    "    <i>Key Vocabulary</i></br>\n",
    "    <strong>Function/Method:</strong> Actions that you can do to an object, such as adding new numbers or sorting the items\n",
    "</div>"
   ]
  },
  {
   "cell_type": "markdown",
   "metadata": {
    "jp-MarkdownHeadingCollapsed": true,
    "tags": []
   },
   "source": [
    ":::{admonition} 📝 Check your understanding\n",
    ":class: tip\n",
    "\n",
    "1. Add the value 'nox' to our `pollutants` list.\n",
    "2. Check that the number of items has changed.\n",
    "3. Change the third value of `pollutants` list to 'bc'.\n",
    "\n",
    ":::"
   ]
  },
  {
   "cell_type": "markdown",
   "metadata": {},
   "source": [
    ":::{admonition} 💡 Key Ideas\n",
    ":class: note\n",
    "1. Lists are a data type that hold a group of values.  They are defined with square brackets `[]` with commas in between values.\n",
    "2. **Indexes** are ways to access items in your list using the position of the value in the list as a number.\n",
    "2. In python we start counting from 0, not from 1 with indexes.\n",
    "2. Functions/methods (think of those two as the same thing right now) are actions you can take that let you ask a question about an object or change it somehow.  The two we looked at today are `len()` and `.append()`, which demonstrate the two common types of syntax.\n",
    ":::"
   ]
  },
  {
   "cell_type": "markdown",
   "metadata": {},
   "source": [
    "## 📕 Dictionaries"
   ]
  },
  {
   "cell_type": "markdown",
   "metadata": {},
   "source": [
    "Dictionaries are another data structure.  They are similar to lists in that they represent a group of things, but with dictionaries each value is given a name, called a **key**."
   ]
  },
  {
   "cell_type": "markdown",
   "metadata": {},
   "source": [
    "![Dictionaries](https://www.learnbyexample.org/wp-content/uploads/python/Dictionary-Key-Value-Pairs-Illustration.png)"
   ]
  },
  {
   "cell_type": "markdown",
   "metadata": {},
   "source": [
    "We see in the image that dictionary items have two parts - the **key** and the **value**. Each item in the dictionary, called a **key-value pair**, is seperated by a comma. \n",
    "\n",
    "This concept is similar to a book dictionary, with words and definitions.  In that case the words are the keys and the definitions are the values."
   ]
  },
  {
   "cell_type": "markdown",
   "metadata": {},
   "source": [
    "The dictionary represented conceptually above would be coded like this in Python:"
   ]
  },
  {
   "cell_type": "code",
   "execution_count": 2,
   "metadata": {},
   "outputs": [
    {
     "data": {
      "text/plain": [
       "{'name': 'Dyamond',\n",
       " 'age': 25,\n",
       " 'job': 'Dev',\n",
       " 'city': 'New York',\n",
       " 'email': 'dyamond@web.com'}"
      ]
     },
     "execution_count": 2,
     "metadata": {},
     "output_type": "execute_result"
    }
   ],
   "source": [
    "{\n",
    "    'name': 'Dyamond',\n",
    "    'age': 25,\n",
    "    'job': 'Dev',\n",
    "    'city': 'New York',\n",
    "    'email': 'dyamond@web.com',\n",
    "}"
   ]
  },
  {
   "cell_type": "markdown",
   "metadata": {},
   "source": [
    "The key comes before the colon and the value comes after.  So the general syntax of a dictionary would be: \n",
    "```\n",
    "{key1: value1,\n",
    "key2: value2,\n",
    "key3: value3}\n",
    "```"
   ]
  },
  {
   "cell_type": "markdown",
   "metadata": {},
   "source": [
    "The values in the dictionary can be any of the types of data types we know so far -- strings, numbers, booleans, lists, or even another dictionary.  The keys can be strings, numbers, or booleans, but not lists."
   ]
  },
  {
   "cell_type": "markdown",
   "metadata": {},
   "source": [
    "**side note:** you don't have to leave the spaces between lines like I did.  You can define a dictionary all in one line. I just used multiple because I think it is easier to read."
   ]
  },
  {
   "cell_type": "code",
   "execution_count": 3,
   "metadata": {},
   "outputs": [
    {
     "data": {
      "text/plain": [
       "{'name': 'Dyamond',\n",
       " 'age': 25,\n",
       " 'job': 'Dev',\n",
       " 'city': 'New York',\n",
       " 'email': 'dyamond@web.com'}"
      ]
     },
     "execution_count": 3,
     "metadata": {},
     "output_type": "execute_result"
    }
   ],
   "source": [
    "{'name': 'Dyamond', 'age': 25, 'job': 'Dev', 'city': 'New York', 'email': 'dyamond@web.com',}"
   ]
  },
  {
   "cell_type": "markdown",
   "metadata": {},
   "source": [
    "As you may be noticing the trend, we can assign dictionaries as variables:"
   ]
  },
  {
   "cell_type": "code",
   "execution_count": 4,
   "metadata": {},
   "outputs": [],
   "source": [
    "human = {'name': 'Dyamond', 'age': 25, 'job': 'Dev', 'city': 'New York', 'email': 'dyamond@web.com',}"
   ]
  },
  {
   "cell_type": "markdown",
   "metadata": {},
   "source": [
    "<div class=\"alert alert-warning\">\n",
    "    <i>Python Object</i></br>\n",
    "    <strong>Dictionary</strong>\n",
    "</div>"
   ]
  },
  {
   "cell_type": "markdown",
   "metadata": {},
   "source": [
    ":::{admonition} 📝 Check your understanding\n",
    ":class: tip\n",
    "\n",
    "* How many keys are in the following dictionary?  What are they?\n",
    "```\n",
    "{\n",
    "'CO': 'Colorado',\n",
    "'AZ': 'Arizona',\n",
    "'WI': 'Wisconsin',\n",
    "}\n",
    "```\n",
    "\n",
    "* Write a dictionary that represents the english to spanish translation of the following words: table -> mesa, city -> ciudad, sky -> cielo\n",
    "\n",
    ":::"
   ]
  },
  {
   "cell_type": "markdown",
   "metadata": {},
   "source": [
    ":::{admonition} 💡 Key Ideas\n",
    ":class: note\n",
    "* Dictionaries are a data structure that represent a group of **values** that have names, or **keys**.  This is similar to a book dictionary, where you have words (keys) and definitions (values).\n",
    "* Each item in a dictionary is called a **key-value pair**\n",
    ":::"
   ]
  },
  {
   "cell_type": "markdown",
   "metadata": {},
   "source": [
    "### Inspecting in a dictionary"
   ]
  },
  {
   "cell_type": "markdown",
   "metadata": {},
   "source": [
    "You can view a particular value of a dictionary using its key and square brackets `[]`."
   ]
  },
  {
   "cell_type": "code",
   "execution_count": 18,
   "metadata": {},
   "outputs": [],
   "source": [
    "metadata = {\n",
    "    'location': 'Nairobi', \n",
    "    'quality_flag': 5, \n",
    "    'zenith': 60, \n",
    "    'clouds': True,\n",
    "    'data_center': ['LPDAAC', 'ASDC'],\n",
    "}"
   ]
  },
  {
   "cell_type": "code",
   "execution_count": 19,
   "metadata": {},
   "outputs": [
    {
     "data": {
      "text/plain": [
       "'Nairobi'"
      ]
     },
     "execution_count": 19,
     "metadata": {},
     "output_type": "execute_result"
    }
   ],
   "source": [
    "metadata['location']"
   ]
  },
  {
   "cell_type": "markdown",
   "metadata": {},
   "source": [
    "If instead of a single value you want to view all either all of the keys or all of the values, you use `.keys()` and `.values()`, respectively."
   ]
  },
  {
   "cell_type": "code",
   "execution_count": 20,
   "metadata": {},
   "outputs": [
    {
     "data": {
      "text/plain": [
       "dict_keys(['location', 'quality_flag', 'zenith', 'clouds', 'data_center'])"
      ]
     },
     "execution_count": 20,
     "metadata": {},
     "output_type": "execute_result"
    }
   ],
   "source": [
    "metadata.keys()"
   ]
  },
  {
   "cell_type": "code",
   "execution_count": 21,
   "metadata": {},
   "outputs": [
    {
     "data": {
      "text/plain": [
       "dict_values(['Nairobi', 5, 60, True, ['LPDAAC', 'ASDC']])"
      ]
     },
     "execution_count": 21,
     "metadata": {},
     "output_type": "execute_result"
    }
   ],
   "source": [
    "metadata.values()"
   ]
  },
  {
   "cell_type": "markdown",
   "metadata": {},
   "source": [
    "### Changing and adding dictionary items"
   ]
  },
  {
   "cell_type": "markdown",
   "metadata": {},
   "source": [
    "You change or add a new dictionary item with the same `[]` syntax you use to access the item's value and a `=` (just like with a list)."
   ]
  },
  {
   "cell_type": "code",
   "execution_count": 22,
   "metadata": {},
   "outputs": [
    {
     "name": "stdout",
     "output_type": "stream",
     "text": [
      "value before 60\n"
     ]
    }
   ],
   "source": [
    "print('value before', metadata['zenith'])"
   ]
  },
  {
   "cell_type": "code",
   "execution_count": 23,
   "metadata": {
    "scrolled": true
   },
   "outputs": [],
   "source": [
    "metadata['zenith'] = 30"
   ]
  },
  {
   "cell_type": "code",
   "execution_count": 24,
   "metadata": {},
   "outputs": [
    {
     "name": "stdout",
     "output_type": "stream",
     "text": [
      "value after 30\n"
     ]
    }
   ],
   "source": [
    "print('value after', metadata['zenith'])"
   ]
  },
  {
   "cell_type": "markdown",
   "metadata": {},
   "source": [
    "This syntax works whether or not the dictionary key exists already or not. So in the previous code block we updated the value of the key `zenith`. We can use the same code, though, with a new key value to add a new key."
   ]
  },
  {
   "cell_type": "code",
   "execution_count": 25,
   "metadata": {},
   "outputs": [
    {
     "ename": "KeyError",
     "evalue": "'agency'",
     "output_type": "error",
     "traceback": [
      "\u001b[1;31m---------------------------------------------------------------------------\u001b[0m",
      "\u001b[1;31mKeyError\u001b[0m                                  Traceback (most recent call last)",
      "\u001b[1;32m<ipython-input-25-fe40360e0bc9>\u001b[0m in \u001b[0;36m<module>\u001b[1;34m\u001b[0m\n\u001b[1;32m----> 1\u001b[1;33m \u001b[0mprint\u001b[0m\u001b[1;33m(\u001b[0m\u001b[1;34m'value before:'\u001b[0m\u001b[1;33m,\u001b[0m \u001b[0mmetadata\u001b[0m\u001b[1;33m[\u001b[0m\u001b[1;34m'agency'\u001b[0m\u001b[1;33m]\u001b[0m\u001b[1;33m)\u001b[0m\u001b[1;33m\u001b[0m\u001b[1;33m\u001b[0m\u001b[0m\n\u001b[0m",
      "\u001b[1;31mKeyError\u001b[0m: 'agency'"
     ]
    }
   ],
   "source": [
    "print('value before:', metadata['agency'])"
   ]
  },
  {
   "cell_type": "code",
   "execution_count": 26,
   "metadata": {},
   "outputs": [],
   "source": [
    "metadata['agency'] = 'NASA'"
   ]
  },
  {
   "cell_type": "code",
   "execution_count": 27,
   "metadata": {},
   "outputs": [
    {
     "name": "stdout",
     "output_type": "stream",
     "text": [
      "value after: NASA\n"
     ]
    }
   ],
   "source": [
    "print('value after:', metadata['agency'])"
   ]
  },
  {
   "cell_type": "markdown",
   "metadata": {},
   "source": [
    ":::{admonition} 📝 Check your understanding\n",
    ":class: tip\n",
    "\n",
    "* Add a new value to the `metadata` dictionary called `satellite_name` and pick your own glorious satellite name to assign.\n",
    "* Overwrite the `satellite_name` field you just created with a new name.\n",
    "\n",
    ":::"
   ]
  },
  {
   "cell_type": "markdown",
   "metadata": {},
   "source": [
    ":::{admonition} 💡 Key Ideas\n",
    ":class: note\n",
    "* Access values in a dictionary using their key and square brackets `[]`  (Ex. `metadata['location']`)\n",
    "* Using the square bracket notation and then an equals sign will either add a new key-value pair to the dictionary, or overwrite the old one if the key already exists.\n",
    ":::"
   ]
  },
  {
   "cell_type": "markdown",
   "metadata": {},
   "source": [
    "### 📝 Closing Thought\n",
    "> Lists and Dictionaries are data structures. Data structures are really influential when working with data because the structure that your data is stored in greatly expands or restricts how you work with the data. Most datasets do not fit into every type of data structure so choosing an appropriate data structure is an important part of coding.\n",
    "\n",
    "Take 1 minute and write out a few of the similarities and differences between lists and dictionaries."
   ]
  },
  {
   "cell_type": "code",
   "execution_count": null,
   "metadata": {},
   "outputs": [],
   "source": []
  }
 ],
 "metadata": {
  "kernelspec": {
   "display_name": "Python 3 (ipykernel)",
   "language": "python",
   "name": "python3"
  },
  "language_info": {
   "codemirror_mode": {
    "name": "ipython",
    "version": 3
   },
   "file_extension": ".py",
   "mimetype": "text/x-python",
   "name": "python",
   "nbconvert_exporter": "python",
   "pygments_lexer": "ipython3",
   "version": "3.9.7"
  }
 },
 "nbformat": 4,
 "nbformat_minor": 4
}
