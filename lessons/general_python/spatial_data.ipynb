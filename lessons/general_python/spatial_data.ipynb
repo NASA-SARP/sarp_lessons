{
 "cells": [
  {
   "cell_type": "markdown",
   "id": "de83f833",
   "metadata": {},
   "source": [
    "# Spatial Data"
   ]
  },
  {
   "cell_type": "markdown",
   "id": "1348d0cc",
   "metadata": {},
   "source": [
    ":::{admonition} Lesson Content\n",
    ":class: note, dropdown\n",
    "\n",
    "- raster vs. vector data\n",
    "- The earth as a coordinate system; bounding boxes\n",
    "- geodesy and UTM grids\n",
    "- `shapely` vector object library\n",
    "\n",
    ":::"
   ]
  },
  {
   "cell_type": "markdown",
   "id": "b6500ec1",
   "metadata": {},
   "source": [
    "## Context\n",
    "\n",
    "Spatial data, as defined by software firm [Safe](https://www.safe.com/what-is/spatial-data/) is:\n",
    "\n",
    "> a term used to describe any data related to or containing information about a specific location on the Earth’s surface\n",
    "\n",
    "As earth scientists we are all about the earth's surface! Our data is inherently spatial.  Very little (or nothing) that we do is disconnected from location.  Learning how to deal with location, then, is a key part of learning to code for earth science research."
   ]
  },
  {
   "cell_type": "markdown",
   "id": "f0a128cb",
   "metadata": {},
   "source": [
    "## Vector data vs. Raster data\n",
    "\n",
    "Spatial data is most often divided between two types: \n",
    "1. **raster data** - made up of a continuous matrix of cells that each hold specific values\n",
    "2. **vector data** - data storing discrete boundaries with attached attributes\n",
    "\n",
    "<img src=\"https://i.ytimg.com/vi/zgAXPyU3euo/maxresdefault.jpg\" width=600>\n",
    "\n",
    "Lidar has become increasingly prevelent, and though it is often represented in raster file formats has also been called \"the third branch of geospatial data\"."
   ]
  },
  {
   "cell_type": "markdown",
   "id": "0c4370d8",
   "metadata": {},
   "source": [
    ":::{admonition} 📝 Check your understanding\n",
    ":class: tip\n",
    "\n",
    "What is the best type of data structure for each dataset?\n",
    "\n",
    "1. temperature output from a weather model of spatitially continuous temperature predicitions\n",
    "2. temperature taken from individual ground stations\n",
    "3. rock types from several park locations\n",
    "4. whole air samples taken on an airplane flight\n",
    "5. elevations across a state\n",
    "\n",
    ":::"
   ]
  },
  {
   "cell_type": "markdown",
   "id": "32ef5b5d",
   "metadata": {},
   "source": [
    "## All the world's a coordinate system\n",
    "\n",
    "A map of the world:\n",
    "\n",
    "<img src=\"https://upload.wikimedia.org/wikipedia/commons/thumb/7/73/Mercator_projection_Square.JPG/350px-Mercator_projection_Square.JPG\" width=450>"
   ]
  },
  {
   "cell_type": "markdown",
   "id": "c81829df",
   "metadata": {},
   "source": [
    "We are familiar with a map like this. Latitudes run horizontally east/west and longitudes run vertically north and south.\n",
    "\n",
    "There are several ways to represent coordinates, but when we are representing coordinate locations on a computer we typically use decimal degrees: \n",
    "\n",
    "35 degrees 30 mintes = 35.5 degrees\n",
    "\n",
    "We also use a negative sign to denote the southern and western hemisphere:\n",
    "\n",
    "112 W, 15 S = -112, -15\n",
    "\n",
    "While this all is generally approachable it can get easy to get turned around when you're in the nitty gritty of coordinates with your data.  One visual I like to keep myself on track is that the coordinate system on our map is just that, a coordinate system just like they x and y planes in math class.\n",
    "\n",
    "![Map with CRS](./images/crs_map.jpg)"
   ]
  },
  {
   "cell_type": "markdown",
   "id": "45d7969e",
   "metadata": {},
   "source": [
    "### Bounding Boxes"
   ]
  },
  {
   "cell_type": "markdown",
   "id": "31505f65",
   "metadata": {},
   "source": [
    "Bounding boxes represent the minimum and maxiumum coordinates of the dataset.  These are often latitude and longitude lines, but the bounding box is given the units of whatever dataset the raster is using.  AVIRIS, for example, uses a UTM grid (more detail later) so the units of the bounding box are meters."
   ]
  },
  {
   "cell_type": "markdown",
   "id": "ef9747aa",
   "metadata": {},
   "source": [
    "![Bounding Boxs](./images/bounding_box.png)"
   ]
  },
  {
   "cell_type": "markdown",
   "id": "75a96ce9",
   "metadata": {},
   "source": [
    "In this example the outline of Italy is shown in red and the bounding box for Italy, which follows the minimum and maximum latitude and longitude lines, is shown in black.\n",
    "\n",
    "Bounding boxes are often written as a list of coordinates in the format `[minimum_x minimum_y maximum_x maximum_y]`.  So for our Italy example the bounding box would be `[6.634, 36.62, 18.511, 47.08]`."
   ]
  },
  {
   "cell_type": "markdown",
   "id": "1a75f091",
   "metadata": {},
   "source": [
    "When translating between north/south/east/west and x/y coordinates:\n",
    "* `minimum_x` -> most western\n",
    "* `minimum_y` -> most southern\n",
    "* `maximum_x` -> most eastern\n",
    "* `maximum_y` -> most northern"
   ]
  },
  {
   "cell_type": "markdown",
   "id": "a22cc4ef",
   "metadata": {},
   "source": [
    ":::{admonition} 📝 Check your understanding\n",
    ":class: tip\n",
    "\n",
    "Pull up Google maps or your favorite mapping appliation and zoom into the state of Wyoming. Click the map to view latitude and longitude locations for the edges.  Write down an approximate bounding box (to ~the nearest half of a degree) for the state in the form `[minimum_x minimum_y maximum_x maximum_y]`\n",
    "\n",
    ":::"
   ]
  },
  {
   "cell_type": "markdown",
   "id": "d93360da",
   "metadata": {},
   "source": [
    "## Geodesy (copied to additional lecture -- shorten)"
   ]
  },
  {
   "cell_type": "markdown",
   "id": "428cbdde",
   "metadata": {},
   "source": [
    "**geodesy** is the science of understanding and measureing the earth's shape.  There are people who spend their whole careers as geodesists.  Geodesy and mapping is an integral part of **georeferencing** your data - or placing your data in space.  Without georeferencing raster datasets are just pretty images that could have been taken anywhere in the world, or not on this world at all.\n",
    "\n",
    "The three major concept we will be distinguishing between today are:\n",
    "1. datums\n",
    "2. map projections\n",
    "3. coordinate reference systems"
   ]
  },
  {
   "cell_type": "markdown",
   "id": "5479d260",
   "metadata": {},
   "source": [
    "### Ellipsoids and Datums\n",
    "\n",
    "Geodesists have defined the shape of an ellipsoid which is believed to best align with the shape of the earth.  The mostly commonly used ellisoid is the WGS 84 ellipsoid which was defined in 1984. In addition to defining the size of the ellipsoid we also need to define where the center of the ellipsoid should sit so that it is acurrate for as many places on earth at once.  Defining where to put the ellipsoid is called the **datum**.\n",
    "\n",
    "![Datums](./images/datums.png)"
   ]
  },
  {
   "cell_type": "markdown",
   "id": "8a661586",
   "metadata": {},
   "source": [
    "Together the ellipsoid and the datum become the mathematical definition of the earth's surface."
   ]
  },
  {
   "cell_type": "markdown",
   "id": "bffb328e",
   "metadata": {},
   "source": [
    "### Map Projections\n",
    "\n",
    "The ellipsoid is a 3D shape.  Map projections are the result of taking a 3D shape and turning it into being 2D.\n",
    "\n",
    "<img src=\"https://tomroth.com.au/projections/map-projections.png\" width=500>"
   ]
  },
  {
   "cell_type": "markdown",
   "id": "7898c1eb",
   "metadata": {},
   "source": [
    "There are [an insane number of ways to do this](https://xkcd.com/977/) and they are grouped into different families.  The most important takeaway is just to know that when you convert a 3D object into a 2D you aren't going to be able to be accurate in every aspect.  Something has to sacrifice.  It might be relative size or it might be straight lines but everything can't be perfect on a given map projection.\n",
    "\n",
    "![Projection Distortion](./images/projection_distortion.png)"
   ]
  },
  {
   "cell_type": "markdown",
   "id": "ddea5aa1",
   "metadata": {},
   "source": [
    "### Coordinate Reference Systems (CRS)\n",
    "\n",
    "Once you lay out your 2d surface representing the earth you next need to label the map so you can refer to points on that surface.  The system you uses for labelling points on the map is a **coordinate reference system (crs)**.\n",
    "\n",
    "CRS fit into two main categories:\n",
    "* units of degrees (ex. latitude and longitude) - geographic CRS\n",
    "* units of distance (ex. meters, kilometers, miles, ...) - projected CRS\n",
    "\n",
    "The units of a CRS will be a piece of information that you use frequently when working with spatial data."
   ]
  },
  {
   "cell_type": "markdown",
   "id": "6aa85529",
   "metadata": {},
   "source": [
    ":::{admonition} 📝 Check your understanding\n",
    ":class: tip\n",
    "\n",
    "What purpose does each of the three elements of geodesy serve?\n",
    "\n",
    "1. Ellipsoid + Datum\n",
    "2. Map projection\n",
    "3. Coordinate Reference System\n",
    "\n",
    ":::"
   ]
  },
  {
   "cell_type": "markdown",
   "id": "922cbe0c",
   "metadata": {},
   "source": [
    "### Geodesy in Code: EPSG"
   ]
  },
  {
   "cell_type": "markdown",
   "id": "e106a148",
   "metadata": {},
   "source": [
    "One common way to notate coordinate reference systems and map projections is with EPSG codes.  These codes assign an integer number to many of the common map projection/crs combinations.\n",
    "\n",
    "Really common projections include:\n",
    "\n",
    "EPSG:4326 - what most people think of as \"regular\" lat/lon coordinates\n",
    "EPSG:3857 - Web mercator, the projection used by Google maps and most web maps.  The de facto standard of web mapping."
   ]
  },
  {
   "cell_type": "markdown",
   "id": "d813eff8",
   "metadata": {},
   "source": [
    "## UTM Grids"
   ]
  },
  {
   "cell_type": "markdown",
   "id": "5a072a55",
   "metadata": {},
   "source": [
    "The Universal Transverse Mercator (UTM) projected coordinate system that covers the entire earth.  The system is broken up into 60 zones, each 6 degrees longitude wide, that span from the south to the north pole."
   ]
  },
  {
   "cell_type": "code",
   "execution_count": 1,
   "id": "01bc3978",
   "metadata": {},
   "outputs": [],
   "source": [
    "from IPython.display import Image\n",
    "from IPython.core.display import HTML "
   ]
  },
  {
   "cell_type": "code",
   "execution_count": 2,
   "id": "e7014c06",
   "metadata": {},
   "outputs": [
    {
     "data": {
      "text/html": [
       "<img src=\"https://gisgeography.com/wp-content/uploads/2016/05/UTM-Zones-Globe-2.png\" width=\"330\"/>"
      ],
      "text/plain": [
       "<IPython.core.display.Image object>"
      ]
     },
     "execution_count": 2,
     "metadata": {},
     "output_type": "execute_result"
    }
   ],
   "source": [
    "# UTM grid zones\n",
    "Image(url= \"https://gisgeography.com/wp-content/uploads/2016/05/UTM-Zones-Globe-2.png\", width=330)"
   ]
  },
  {
   "cell_type": "markdown",
   "id": "53b6dedc",
   "metadata": {},
   "source": [
    "Notice in the image how the area covered by each zone is widest at the equator and gets skinnier towards the poles."
   ]
  },
  {
   "cell_type": "markdown",
   "id": "987668ef",
   "metadata": {},
   "source": [
    "### Easting and Northing"
   ]
  },
  {
   "cell_type": "markdown",
   "id": "d1ed8a62",
   "metadata": {},
   "source": [
    "Instead of latitude and longitude the UTM grid system uses a northing and an easting, respectively.\n",
    "- Longtude -> Eastings.  Eastings are measured from the central meridian, which has a value of 500,000m.\n",
    "- Latitude -> Northings.  Northings are measured from the from the equator, which has a value of 0 for the northern hemisphere and 10,000,000m for the southern hemisphere.\n",
    "\n",
    "Some benefits of UTM:\n",
    "- All values of eastings/northings are positive, so there are no negative numbers nor is there an East-West designation\n",
    "- constant distance relationship anywhere on the map"
   ]
  },
  {
   "cell_type": "code",
   "execution_count": 3,
   "id": "8d8cdd36",
   "metadata": {
    "scrolled": true
   },
   "outputs": [
    {
     "data": {
      "text/html": [
       "<img src=\"https://www.maptools.com/images/28ad74e.png\" width=\"360\"/>"
      ],
      "text/plain": [
       "<IPython.core.display.Image object>"
      ]
     },
     "execution_count": 3,
     "metadata": {},
     "output_type": "execute_result"
    }
   ],
   "source": [
    "Image(url= \"https://www.maptools.com/images/28ad74e.png\", width=360)"
   ]
  },
  {
   "cell_type": "markdown",
   "id": "6fdfe960",
   "metadata": {},
   "source": [
    "The x direction should only range from about 0 to 1,000,000 where as the y direction could range from 0 to about 10,000,000."
   ]
  },
  {
   "cell_type": "markdown",
   "id": "ae9dbf1b",
   "metadata": {},
   "source": [
    ":::{admonition} 📝 Check your understanding\n",
    ":class: tip\n",
    "\n",
    "What is the set of coordinates corresponding to the exact center of a UTM grid?\n",
    "\n",
    ":::"
   ]
  },
  {
   "cell_type": "markdown",
   "id": "3a34cf18",
   "metadata": {},
   "source": [
    "### EPSG codes for UTM grids"
   ]
  },
  {
   "cell_type": "markdown",
   "id": "7431b5d6",
   "metadata": {},
   "source": [
    "Each grid has its own EPSG code, meaning there are 120 total EPSG codes total for UTM grids.  Luckily there is an order to how these codes are assigned.\n",
    "\n",
    "\n",
    "* northern hemisphere - 326{zone number}\n",
    "* southern hemisphere - 327(zone number}\n"
   ]
  },
  {
   "cell_type": "markdown",
   "id": "0af86dcd",
   "metadata": {},
   "source": [
    "To visually reference UTM grid zone numbers I use the image from [this website](http://www.dmap.co.uk/utmworld.htm) as a reference:"
   ]
  },
  {
   "cell_type": "code",
   "execution_count": 4,
   "id": "ac39dbd8",
   "metadata": {},
   "outputs": [
    {
     "data": {
      "text/html": [
       "<img src=\"http://www.dmap.co.uk/utmworld.gif\"/>"
      ],
      "text/plain": [
       "<IPython.core.display.Image object>"
      ]
     },
     "execution_count": 4,
     "metadata": {},
     "output_type": "execute_result"
    }
   ],
   "source": [
    "# UTM grid zones\n",
    "Image(url= \"http://www.dmap.co.uk/utmworld.gif\")"
   ]
  },
  {
   "cell_type": "markdown",
   "id": "76649c0a",
   "metadata": {},
   "source": [
    "Another source to referenece is epsg.io.  Type the name of the reference system you are interested in to find information or view it on a map. Ex. https://epsg.io/32630 or https://epsg.io/4326"
   ]
  },
  {
   "cell_type": "markdown",
   "id": "d84bff50",
   "metadata": {},
   "source": [
    ":::{admonition} 📝 Check your understanding\n",
    ":class: tip\n",
    "\n",
    "What is the EPSG code for the UTM zone covering most of Ireland?\n",
    "\n",
    ":::"
   ]
  },
  {
   "cell_type": "markdown",
   "id": "302d0cc9",
   "metadata": {},
   "source": [
    "## Back to Coding"
   ]
  },
  {
   "cell_type": "markdown",
   "id": "a7023757",
   "metadata": {},
   "source": [
    "### `shapely` objects\n",
    "`shapely` is a library for handling vector data.  It has objects for `Point`s, `LineString`s, `LineRing`s,and `Polygon`s. `Point`s and `Polygon`s are what we will primarily use.\n",
    "\n",
    "See also:\n",
    "* [medium article](https://towardsdatascience.com/geospatial-adventures-step-1-shapely-e911e4f86361)"
   ]
  },
  {
   "cell_type": "markdown",
   "id": "05d287cb",
   "metadata": {},
   "source": [
    "#### Creating a `Point()`\n",
    "You create a `shapely` object by giving it a set of coordinates, in the format (x, y).\n",
    "\n",
    "**Notice!** x, y for degree coordinates is longitude, latitude"
   ]
  },
  {
   "cell_type": "code",
   "execution_count": 5,
   "id": "7798f240",
   "metadata": {},
   "outputs": [],
   "source": [
    "from shapely.geometry import Point"
   ]
  },
  {
   "cell_type": "code",
   "execution_count": 6,
   "id": "6dfc5a9b",
   "metadata": {},
   "outputs": [],
   "source": [
    "point = Point(0.0, 0.0)\n",
    "print(point)"
   ]
  },
  {
   "cell_type": "code",
   "execution_count": 7,
   "id": "472ea668",
   "metadata": {},
   "outputs": [],
   "source": [
    "Point(0,0).distance(Point(3,4))"
   ]
  },
  {
   "cell_type": "code",
   "execution_count": 8,
   "id": "0ca42756",
   "metadata": {},
   "outputs": [],
   "source": [
    "list(Point(4,3).coords)"
   ]
  },
  {
   "cell_type": "markdown",
   "id": "3217b7f4",
   "metadata": {},
   "source": [
    "#### Creating a `Polygon()`"
   ]
  },
  {
   "cell_type": "code",
   "execution_count": 9,
   "id": "34c4dc1e",
   "metadata": {},
   "outputs": [],
   "source": [
    "from shapely.geometry import Polygon"
   ]
  },
  {
   "cell_type": "code",
   "execution_count": 10,
   "id": "4830d3db",
   "metadata": {},
   "outputs": [],
   "source": [
    "polygon = Polygon([(0, 0), (1, 1), (1, 0)])"
   ]
  },
  {
   "cell_type": "markdown",
   "id": "2a46a39f",
   "metadata": {},
   "source": [
    "When you create a `Polygon` object you get extra properties that tell you something about your object"
   ]
  },
  {
   "cell_type": "code",
   "execution_count": 11,
   "id": "4968c017",
   "metadata": {},
   "outputs": [],
   "source": [
    "print(polygon.area)\n",
    "print(polygon.length)\n",
    "print(polygon.bounds)"
   ]
  },
  {
   "cell_type": "markdown",
   "id": "e8e5dbba",
   "metadata": {},
   "source": [
    "#### Creating a Bounding Box\n",
    "\n",
    "When we create a bounding box in code the order of inputs is:\n",
    "`minx`, `miny`, `maxx`, `maxy`"
   ]
  },
  {
   "cell_type": "code",
   "execution_count": 12,
   "id": "3dfa87bd",
   "metadata": {},
   "outputs": [],
   "source": [
    "from shapely.geometry import box"
   ]
  },
  {
   "cell_type": "code",
   "execution_count": 13,
   "id": "d1b07c3d",
   "metadata": {},
   "outputs": [],
   "source": [
    "box(10, -15, 20, -5)"
   ]
  },
  {
   "cell_type": "markdown",
   "id": "e2900e40",
   "metadata": {},
   "source": [
    "#### Example\n",
    "Creating a bounding box Python object for the bounding box of Italy in the image above"
   ]
  },
  {
   "cell_type": "code",
   "execution_count": 14,
   "id": "e7bb44e6",
   "metadata": {},
   "outputs": [],
   "source": [
    "bbox_italy = box(6.634, 36.62, 18.51, 47.08)"
   ]
  },
  {
   "cell_type": "code",
   "execution_count": 15,
   "id": "48d39138",
   "metadata": {},
   "outputs": [],
   "source": [
    "bbox_italy.area"
   ]
  },
  {
   "cell_type": "markdown",
   "id": "a43387a7",
   "metadata": {},
   "source": [
    "### Operations with spatial objects\n",
    "\n",
    "Just like addition or multiplication are operations for numbers, we also have operations we can run on spatial data which are unique.  Here are a few common ones:\n",
    "\n",
    "<img src=\"https://docs.qgis.org/2.8/en/_images/overlay_operations.png\">\n",
    "\n",
    "Another common one is a buffer: \n",
    "<img src=\"https://saylordotorg.github.io/text_essentials-of-geographic-information-systems/section_11/5c7eb6fc4bcbfc5117d778f0aabfded6.jpg\" width=550>"
   ]
  },
  {
   "cell_type": "code",
   "execution_count": 16,
   "id": "2a518be0",
   "metadata": {},
   "outputs": [],
   "source": [
    "bbox_italy = box(6.634, 36.62, 18.51, 47.08)"
   ]
  },
  {
   "cell_type": "code",
   "execution_count": 17,
   "id": "35ee6321",
   "metadata": {},
   "outputs": [],
   "source": [
    "bbox_example = box(12.5, 36, 22.7, 49.3)"
   ]
  },
  {
   "cell_type": "code",
   "execution_count": 18,
   "id": "38f80eef",
   "metadata": {},
   "outputs": [],
   "source": [
    "bbox_example - bbox_italy"
   ]
  },
  {
   "cell_type": "code",
   "execution_count": 19,
   "id": "2a3af4bb",
   "metadata": {},
   "outputs": [],
   "source": [
    "bbox_example.intersection(bbox_italy)"
   ]
  },
  {
   "cell_type": "markdown",
   "id": "aa18a362",
   "metadata": {},
   "source": [
    "#### An example of buffer using the shape of California"
   ]
  },
  {
   "cell_type": "code",
   "execution_count": 20,
   "id": "1ee576f9",
   "metadata": {},
   "outputs": [],
   "source": [
    "import json\n",
    "from shapely.geometry import shape"
   ]
  },
  {
   "cell_type": "code",
   "execution_count": 21,
   "id": "b536766d",
   "metadata": {},
   "outputs": [],
   "source": [
    "# Opening a geojson and convering to a shapely object.  We'll talk about this again below\n",
    "with open('./data/california.geojson') as f:\n",
    "    ca_geom_json = json.load(f)\n",
    "ca_geom = shape(ca_geom_json['geometry'])"
   ]
  },
  {
   "cell_type": "code",
   "execution_count": 22,
   "id": "03e5a8a1",
   "metadata": {
    "scrolled": true
   },
   "outputs": [],
   "source": [
    "ca_geom"
   ]
  },
  {
   "cell_type": "code",
   "execution_count": 23,
   "id": "5f216da7",
   "metadata": {},
   "outputs": [],
   "source": [
    "ca_geom.buffer(0.8)"
   ]
  },
  {
   "cell_type": "markdown",
   "id": "27e8b610",
   "metadata": {},
   "source": [
    ":::{admonition} 📝 Check your understanding\n",
    ":class: tip\n",
    "\n",
    "In the image below we have a shape `purple`, `tan` and `green`.  What is the operation that was used on `purple` and `tan` to get green shape?\n",
    "\n",
    "<img src=\"https://gisgeography.com/wp-content/uploads/2020/10/Erase-Tool-3D-550x178.jpg\">\n",
    "\n",
    ":::"
   ]
  },
  {
   "cell_type": "markdown",
   "id": "df41e889",
   "metadata": {},
   "source": [
    "## Different Ways to Represent Spatial Objects\n",
    "\n",
    "While Python objects are nice, they aren't great if you are trying to take your objects out of Python.  For example, maybe you drew out a custom shape in QGIS that you want to use or you defined an ROI in ENVI and you want to import those into your Python code.\n",
    "\n",
    "Shapefiles are a really common way to move shapes around.  Opening those is a little more involved so we won't look at those right now, but I will briefly mention two other common representations that are text-based: GeoJSON and WKT."
   ]
  },
  {
   "cell_type": "markdown",
   "id": "174d83da",
   "metadata": {},
   "source": [
    "### geojson\n",
    "\n",
    "Geojson is a specific flavor of the very common JSON format.  JSON format is a way of sending data that looks just like a Python dictionary but it is used much more broadly than just Python.\n",
    "\n",
    "Links:\n",
    "* [geojson.org](https://geojson.org/) - the full specification\n",
    "* [geojson.tools](https://geojson.tools/) - for quick visualization of geojson objects"
   ]
  },
  {
   "cell_type": "code",
   "execution_count": 24,
   "id": "571ae022",
   "metadata": {},
   "outputs": [],
   "source": [
    "armstrong_geojson = {\n",
    "  \"type\": \"Feature\",\n",
    "  \"geometry\": {\n",
    "    \"type\": \"Point\",\n",
    "    \"coordinates\": [-117.89, 34.94]\n",
    "  },\n",
    "  \"properties\": {\n",
    "    \"name\": \"Armstrong Flight Research Center\"\n",
    "  }\n",
    "}"
   ]
  },
  {
   "cell_type": "markdown",
   "id": "58847d79",
   "metadata": {},
   "source": [
    "The geojson acts  just like a Python dictionary."
   ]
  },
  {
   "cell_type": "code",
   "execution_count": 25,
   "id": "cd85b161",
   "metadata": {},
   "outputs": [],
   "source": [
    "armstrong_geojson['geometry']"
   ]
  },
  {
   "cell_type": "code",
   "execution_count": 26,
   "id": "09d90c0c",
   "metadata": {},
   "outputs": [],
   "source": [
    "from shapely.geometry import shape"
   ]
  },
  {
   "cell_type": "code",
   "execution_count": 27,
   "id": "c655a473",
   "metadata": {},
   "outputs": [],
   "source": [
    "armstrong_geometry = shape(armstrong_geojson['geometry'])"
   ]
  },
  {
   "cell_type": "code",
   "execution_count": 28,
   "id": "773f848b",
   "metadata": {},
   "outputs": [],
   "source": [
    "list(armstrong_geometry.coords)"
   ]
  },
  {
   "cell_type": "markdown",
   "id": "fec34fdf",
   "metadata": {},
   "source": [
    "#### Loading a geojson from a file"
   ]
  },
  {
   "cell_type": "code",
   "execution_count": 29,
   "id": "008cd721",
   "metadata": {},
   "outputs": [],
   "source": [
    "import json"
   ]
  },
  {
   "cell_type": "code",
   "execution_count": 30,
   "id": "cfec9d74",
   "metadata": {},
   "outputs": [],
   "source": [
    "with open('./data/california.geojson') as f:\n",
    "    out = json.load(f)"
   ]
  },
  {
   "cell_type": "code",
   "execution_count": 31,
   "id": "d93a5b15",
   "metadata": {},
   "outputs": [],
   "source": [
    "ca_geom = shape(out['geometry'])"
   ]
  },
  {
   "cell_type": "markdown",
   "id": "4159e2bc",
   "metadata": {},
   "source": [
    "### WKT\n",
    "\n",
    "WKT stands for \"Well Known Text\".  It is another way of saving vector geometries."
   ]
  },
  {
   "cell_type": "code",
   "execution_count": 32,
   "id": "65ed8c4c",
   "metadata": {},
   "outputs": [],
   "source": [
    "armstrong_geometry.wkt"
   ]
  },
  {
   "cell_type": "code",
   "execution_count": null,
   "id": "3c3128aa",
   "metadata": {},
   "outputs": [],
   "source": []
  }
 ],
 "metadata": {
  "kernelspec": {
   "display_name": "Python 3 (ipykernel)",
   "language": "python",
   "name": "python3"
  },
  "language_info": {
   "codemirror_mode": {
    "name": "ipython",
    "version": 3
   },
   "file_extension": ".py",
   "mimetype": "text/x-python",
   "name": "python",
   "nbconvert_exporter": "python",
   "pygments_lexer": "ipython3",
   "version": "3.9.7"
  }
 },
 "nbformat": 4,
 "nbformat_minor": 5
}
