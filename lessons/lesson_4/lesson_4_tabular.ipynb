{
 "cells": [
  {
   "cell_type": "markdown",
   "id": "e99ac388",
   "metadata": {},
   "source": [
    "## Loading our data"
   ]
  },
  {
   "cell_type": "markdown",
   "id": "45233572",
   "metadata": {},
   "source": [
    "We'll be using the same USGS water dataset as lesson 3.  Here we read and pre-process the data."
   ]
  },
  {
   "cell_type": "code",
   "execution_count": 30,
   "id": "f4db946c",
   "metadata": {},
   "outputs": [],
   "source": [
    "import pandas as pd"
   ]
  },
  {
   "cell_type": "code",
   "execution_count": 31,
   "id": "4e62f9f1",
   "metadata": {},
   "outputs": [],
   "source": [
    "# Read in the data\n",
    "water_vars = pd.read_csv('../../data/englewood_3_12_21_usgs_water.tsv', sep='\\t', skiprows=30)\n",
    "# There are a lot of variables here, so let's shorten our dataframe to a few variables\n",
    "water_vars = water_vars[['datetime', '210920_00060', '210922_00010', '210924_00300', '210925_00400']]\n",
    "# Get rid of the first row of hard-coded datatype info\n",
    "water_vars = water_vars.drop(0)\n",
    "# Rename the columns from their USGS codes to more human-readible names\n",
    "name_codes = {'210920_00060': 'discharge','210922_00010': 'temperature', '210924_00300': 'dissolved oxygen', '210925_00400': 'pH'}\n",
    "water_vars = water_vars.rename(columns=name_codes)\n",
    "# Convert columns with numbers to a numeric type\n",
    "water_vars['discharge'] = pd.to_numeric(water_vars['discharge'])\n",
    "water_vars['temperature'] = pd.to_numeric(water_vars['temperature'])\n",
    "water_vars['dissolved oxygen'] = pd.to_numeric(water_vars['dissolved oxygen'])\n",
    "water_vars['pH'] = pd.to_numeric(water_vars['pH'])"
   ]
  },
  {
   "cell_type": "markdown",
   "id": "41208201",
   "metadata": {},
   "source": [
    "Today I'm also going to add two fake columns of data, \"dam release\" and \"safety level\", that will help us as we go through some of the new concepts."
   ]
  },
  {
   "cell_type": "code",
   "execution_count": 32,
   "id": "027f4984",
   "metadata": {},
   "outputs": [],
   "source": [
    "import random"
   ]
  },
  {
   "cell_type": "code",
   "execution_count": 33,
   "id": "c955bccb",
   "metadata": {},
   "outputs": [],
   "source": [
    "water_vars['dam release'] = [random.choice([True, False]) for x in range(len(water_vars))]\n",
    "water_vars['safety level'] = [random.choice(['low', 'medium', 'high']) for x in range(len(water_vars))]"
   ]
  },
  {
   "cell_type": "code",
   "execution_count": 34,
   "id": "8398079c",
   "metadata": {},
   "outputs": [
    {
     "data": {
      "text/html": [
       "<div>\n",
       "<style scoped>\n",
       "    .dataframe tbody tr th:only-of-type {\n",
       "        vertical-align: middle;\n",
       "    }\n",
       "\n",
       "    .dataframe tbody tr th {\n",
       "        vertical-align: top;\n",
       "    }\n",
       "\n",
       "    .dataframe thead th {\n",
       "        text-align: right;\n",
       "    }\n",
       "</style>\n",
       "<table border=\"1\" class=\"dataframe\">\n",
       "  <thead>\n",
       "    <tr style=\"text-align: right;\">\n",
       "      <th></th>\n",
       "      <th>datetime</th>\n",
       "      <th>discharge</th>\n",
       "      <th>temperature</th>\n",
       "      <th>dissolved oxygen</th>\n",
       "      <th>pH</th>\n",
       "      <th>dam release</th>\n",
       "      <th>safety level</th>\n",
       "    </tr>\n",
       "  </thead>\n",
       "  <tbody>\n",
       "    <tr>\n",
       "      <th>1</th>\n",
       "      <td>2021-03-12 00:00</td>\n",
       "      <td>44.5</td>\n",
       "      <td>8.1</td>\n",
       "      <td>8.3</td>\n",
       "      <td>8.1</td>\n",
       "      <td>False</td>\n",
       "      <td>low</td>\n",
       "    </tr>\n",
       "    <tr>\n",
       "      <th>2</th>\n",
       "      <td>2021-03-12 00:15</td>\n",
       "      <td>44.5</td>\n",
       "      <td>8.1</td>\n",
       "      <td>8.2</td>\n",
       "      <td>8.1</td>\n",
       "      <td>True</td>\n",
       "      <td>low</td>\n",
       "    </tr>\n",
       "    <tr>\n",
       "      <th>3</th>\n",
       "      <td>2021-03-12 00:30</td>\n",
       "      <td>44.5</td>\n",
       "      <td>8.1</td>\n",
       "      <td>8.2</td>\n",
       "      <td>8.1</td>\n",
       "      <td>True</td>\n",
       "      <td>high</td>\n",
       "    </tr>\n",
       "    <tr>\n",
       "      <th>4</th>\n",
       "      <td>2021-03-12 00:45</td>\n",
       "      <td>44.5</td>\n",
       "      <td>8.1</td>\n",
       "      <td>8.1</td>\n",
       "      <td>8.1</td>\n",
       "      <td>False</td>\n",
       "      <td>medium</td>\n",
       "    </tr>\n",
       "    <tr>\n",
       "      <th>5</th>\n",
       "      <td>2021-03-12 01:00</td>\n",
       "      <td>44.5</td>\n",
       "      <td>8.1</td>\n",
       "      <td>8.1</td>\n",
       "      <td>8.1</td>\n",
       "      <td>True</td>\n",
       "      <td>medium</td>\n",
       "    </tr>\n",
       "    <tr>\n",
       "      <th>...</th>\n",
       "      <td>...</td>\n",
       "      <td>...</td>\n",
       "      <td>...</td>\n",
       "      <td>...</td>\n",
       "      <td>...</td>\n",
       "      <td>...</td>\n",
       "      <td>...</td>\n",
       "    </tr>\n",
       "    <tr>\n",
       "      <th>142</th>\n",
       "      <td>2021-03-13 11:15</td>\n",
       "      <td>42.6</td>\n",
       "      <td>6.7</td>\n",
       "      <td>9.8</td>\n",
       "      <td>7.9</td>\n",
       "      <td>False</td>\n",
       "      <td>low</td>\n",
       "    </tr>\n",
       "    <tr>\n",
       "      <th>143</th>\n",
       "      <td>2021-03-13 11:30</td>\n",
       "      <td>42.6</td>\n",
       "      <td>6.7</td>\n",
       "      <td>9.9</td>\n",
       "      <td>7.9</td>\n",
       "      <td>False</td>\n",
       "      <td>low</td>\n",
       "    </tr>\n",
       "    <tr>\n",
       "      <th>144</th>\n",
       "      <td>2021-03-13 11:45</td>\n",
       "      <td>42.6</td>\n",
       "      <td>6.7</td>\n",
       "      <td>10.2</td>\n",
       "      <td>7.9</td>\n",
       "      <td>True</td>\n",
       "      <td>medium</td>\n",
       "    </tr>\n",
       "    <tr>\n",
       "      <th>145</th>\n",
       "      <td>2021-03-13 12:00</td>\n",
       "      <td>46.5</td>\n",
       "      <td>6.7</td>\n",
       "      <td>10.3</td>\n",
       "      <td>7.9</td>\n",
       "      <td>False</td>\n",
       "      <td>high</td>\n",
       "    </tr>\n",
       "    <tr>\n",
       "      <th>146</th>\n",
       "      <td>2021-03-13 12:15</td>\n",
       "      <td>NaN</td>\n",
       "      <td>6.6</td>\n",
       "      <td>10.3</td>\n",
       "      <td>7.9</td>\n",
       "      <td>True</td>\n",
       "      <td>medium</td>\n",
       "    </tr>\n",
       "  </tbody>\n",
       "</table>\n",
       "<p>146 rows × 7 columns</p>\n",
       "</div>"
      ],
      "text/plain": [
       "             datetime  discharge  temperature  dissolved oxygen   pH  \\\n",
       "1    2021-03-12 00:00       44.5          8.1               8.3  8.1   \n",
       "2    2021-03-12 00:15       44.5          8.1               8.2  8.1   \n",
       "3    2021-03-12 00:30       44.5          8.1               8.2  8.1   \n",
       "4    2021-03-12 00:45       44.5          8.1               8.1  8.1   \n",
       "5    2021-03-12 01:00       44.5          8.1               8.1  8.1   \n",
       "..                ...        ...          ...               ...  ...   \n",
       "142  2021-03-13 11:15       42.6          6.7               9.8  7.9   \n",
       "143  2021-03-13 11:30       42.6          6.7               9.9  7.9   \n",
       "144  2021-03-13 11:45       42.6          6.7              10.2  7.9   \n",
       "145  2021-03-13 12:00       46.5          6.7              10.3  7.9   \n",
       "146  2021-03-13 12:15        NaN          6.6              10.3  7.9   \n",
       "\n",
       "     dam release safety level  \n",
       "1          False          low  \n",
       "2           True          low  \n",
       "3           True         high  \n",
       "4          False       medium  \n",
       "5           True       medium  \n",
       "..           ...          ...  \n",
       "142        False          low  \n",
       "143        False          low  \n",
       "144         True       medium  \n",
       "145        False         high  \n",
       "146         True       medium  \n",
       "\n",
       "[146 rows x 7 columns]"
      ]
     },
     "execution_count": 34,
     "metadata": {},
     "output_type": "execute_result"
    }
   ],
   "source": [
    "water_vars"
   ]
  },
  {
   "cell_type": "markdown",
   "id": "b585e90e",
   "metadata": {},
   "source": [
    "## Filtering"
   ]
  },
  {
   "cell_type": "code",
   "execution_count": 60,
   "id": "467dccd3",
   "metadata": {},
   "outputs": [],
   "source": [
    "# https://www.listendata.com/2019/07/how-to-filter-pandas-dataframe.html"
   ]
  },
  {
   "cell_type": "code",
   "execution_count": null,
   "id": "7d284a94",
   "metadata": {},
   "outputs": [],
   "source": []
  },
  {
   "cell_type": "code",
   "execution_count": null,
   "id": "5fc8feda",
   "metadata": {},
   "outputs": [],
   "source": []
  },
  {
   "cell_type": "markdown",
   "id": "6c54e688",
   "metadata": {},
   "source": [
    "### `loc` vs. `iloc`"
   ]
  },
  {
   "cell_type": "code",
   "execution_count": null,
   "id": "7a28f930",
   "metadata": {},
   "outputs": [],
   "source": []
  },
  {
   "cell_type": "code",
   "execution_count": null,
   "id": "85d7c40c",
   "metadata": {},
   "outputs": [],
   "source": []
  },
  {
   "cell_type": "code",
   "execution_count": null,
   "id": "bd6567dc",
   "metadata": {},
   "outputs": [],
   "source": []
  },
  {
   "cell_type": "markdown",
   "id": "f384ac68",
   "metadata": {},
   "source": [
    "# Groupby"
   ]
  },
  {
   "cell_type": "markdown",
   "id": "8706b970",
   "metadata": {},
   "source": [
    "While we have 146 individual readings in our dataset sometimes we don't care about each individual reading.  Instead we care about the aggregate of a group of readings. \n",
    "\n",
    "For example:\n",
    "* What is the average temperature in each state, given the average temperature of every county in the US?\n",
    "* How many KFCs were opened each year, given a list of the opening dates of every KCF? 🐓\n",
    "\n",
    "In pandas (and tabular data in general) we do that with `groupby`."
   ]
  },
  {
   "cell_type": "markdown",
   "id": "9071b2b4",
   "metadata": {},
   "source": [
    "## Examples"
   ]
  },
  {
   "cell_type": "markdown",
   "id": "88ea25eb",
   "metadata": {},
   "source": [
    "Our general sytax is:\n",
    "`-dataframe-.groupby(-grouping-).-aggregation-`\n",
    "\n",
    "TODO make this nicer to look at ^"
   ]
  },
  {
   "cell_type": "code",
   "execution_count": 39,
   "id": "c1817ce2",
   "metadata": {},
   "outputs": [
    {
     "data": {
      "text/html": [
       "<div>\n",
       "<style scoped>\n",
       "    .dataframe tbody tr th:only-of-type {\n",
       "        vertical-align: middle;\n",
       "    }\n",
       "\n",
       "    .dataframe tbody tr th {\n",
       "        vertical-align: top;\n",
       "    }\n",
       "\n",
       "    .dataframe thead th {\n",
       "        text-align: right;\n",
       "    }\n",
       "</style>\n",
       "<table border=\"1\" class=\"dataframe\">\n",
       "  <thead>\n",
       "    <tr style=\"text-align: right;\">\n",
       "      <th></th>\n",
       "      <th>datetime</th>\n",
       "      <th>discharge</th>\n",
       "      <th>temperature</th>\n",
       "      <th>dissolved oxygen</th>\n",
       "      <th>pH</th>\n",
       "      <th>dam release</th>\n",
       "    </tr>\n",
       "    <tr>\n",
       "      <th>safety level</th>\n",
       "      <th></th>\n",
       "      <th></th>\n",
       "      <th></th>\n",
       "      <th></th>\n",
       "      <th></th>\n",
       "      <th></th>\n",
       "    </tr>\n",
       "  </thead>\n",
       "  <tbody>\n",
       "    <tr>\n",
       "      <th>high</th>\n",
       "      <td>48</td>\n",
       "      <td>48</td>\n",
       "      <td>48</td>\n",
       "      <td>48</td>\n",
       "      <td>48</td>\n",
       "      <td>48</td>\n",
       "    </tr>\n",
       "    <tr>\n",
       "      <th>low</th>\n",
       "      <td>46</td>\n",
       "      <td>46</td>\n",
       "      <td>46</td>\n",
       "      <td>46</td>\n",
       "      <td>46</td>\n",
       "      <td>46</td>\n",
       "    </tr>\n",
       "    <tr>\n",
       "      <th>medium</th>\n",
       "      <td>52</td>\n",
       "      <td>51</td>\n",
       "      <td>50</td>\n",
       "      <td>52</td>\n",
       "      <td>52</td>\n",
       "      <td>52</td>\n",
       "    </tr>\n",
       "  </tbody>\n",
       "</table>\n",
       "</div>"
      ],
      "text/plain": [
       "              datetime  discharge  temperature  dissolved oxygen  pH  \\\n",
       "safety level                                                           \n",
       "high                48         48           48                48  48   \n",
       "low                 46         46           46                46  46   \n",
       "medium              52         51           50                52  52   \n",
       "\n",
       "              dam release  \n",
       "safety level               \n",
       "high                   48  \n",
       "low                    46  \n",
       "medium                 52  "
      ]
     },
     "execution_count": 39,
     "metadata": {},
     "output_type": "execute_result"
    }
   ],
   "source": [
    "water_vars.groupby(\"safety level\").count()"
   ]
  },
  {
   "cell_type": "markdown",
   "id": "1c80b3ac",
   "metadata": {},
   "source": [
    "How can it be that temperature and datetime have a different number of measurements?"
   ]
  },
  {
   "cell_type": "markdown",
   "id": "3acdb582",
   "metadata": {},
   "source": [
    "There are lots of aggretation functions.  Common ones include:\n",
    "* `.count()` - find the total number of rows\n",
    "* `.min()`- find the minimum value of those rows\n",
    "* `.max()` - find the maximum value of those rows\n",
    "* `.mean()`- find the mean value of those rows\n",
    "* `.sum()` - find the sum of the values of those rows"
   ]
  },
  {
   "cell_type": "markdown",
   "id": "66f37c84",
   "metadata": {},
   "source": [
    "Since sometimes the dataframes can be large, I will often specify which column I want to do the aggregation on when I do the groupby."
   ]
  },
  {
   "cell_type": "code",
   "execution_count": 40,
   "id": "868f8c78",
   "metadata": {},
   "outputs": [
    {
     "data": {
      "text/plain": [
       "safety level\n",
       "high      44.433333\n",
       "low       45.160870\n",
       "medium    44.831373\n",
       "Name: discharge, dtype: float64"
      ]
     },
     "execution_count": 40,
     "metadata": {},
     "output_type": "execute_result"
    }
   ],
   "source": [
    "# Group our water dataframe by saftey level and take the mean of the discharge values for each safety level group\n",
    "water_vars.groupby(\"safety level\")['discharge'].mean()"
   ]
  },
  {
   "cell_type": "markdown",
   "id": "2b734c6d",
   "metadata": {},
   "source": [
    "### 📝 Checking In\n",
    "Find the max pH value for each type of safety level.\n",
    "\n",
    "Find the mean discharge during dam releases."
   ]
  },
  {
   "cell_type": "markdown",
   "id": "cf4dc9b5",
   "metadata": {},
   "source": [
    "## Breaking down the process\n",
    "split -- apply -- combine\n",
    "\n",
    "https://static.packt-cdn.com/products/9781783985128/graphics/5128OS_09_01.jpg\n",
    "\n"
   ]
  },
  {
   "cell_type": "markdown",
   "id": "89012445",
   "metadata": {},
   "source": [
    "## Variations on the idea"
   ]
  },
  {
   "cell_type": "markdown",
   "id": "0b341475",
   "metadata": {},
   "source": [
    "### Group by multiple fields"
   ]
  },
  {
   "cell_type": "code",
   "execution_count": 44,
   "id": "e68267e1",
   "metadata": {},
   "outputs": [
    {
     "data": {
      "text/plain": [
       "safety level  dam release\n",
       "high          False          8.008000\n",
       "              True           7.965217\n",
       "low           False          7.971429\n",
       "              True           8.000000\n",
       "medium        False          8.010345\n",
       "              True           7.973913\n",
       "Name: pH, dtype: float64"
      ]
     },
     "execution_count": 44,
     "metadata": {},
     "output_type": "execute_result"
    }
   ],
   "source": [
    "water_vars.groupby(['safety level', 'dam release'])['pH'].mean()"
   ]
  },
  {
   "cell_type": "markdown",
   "id": "1f51cb5f",
   "metadata": {},
   "source": [
    "### 📝 Checking In\n",
    "Explain the above output.\n",
    "\n",
    "..."
   ]
  },
  {
   "cell_type": "markdown",
   "id": "c7904c74",
   "metadata": {},
   "source": [
    "### Aggregating multiple columns"
   ]
  },
  {
   "cell_type": "code",
   "execution_count": 42,
   "id": "75090759",
   "metadata": {},
   "outputs": [
    {
     "data": {
      "text/html": [
       "<div>\n",
       "<style scoped>\n",
       "    .dataframe tbody tr th:only-of-type {\n",
       "        vertical-align: middle;\n",
       "    }\n",
       "\n",
       "    .dataframe tbody tr th {\n",
       "        vertical-align: top;\n",
       "    }\n",
       "\n",
       "    .dataframe thead th {\n",
       "        text-align: right;\n",
       "    }\n",
       "</style>\n",
       "<table border=\"1\" class=\"dataframe\">\n",
       "  <thead>\n",
       "    <tr style=\"text-align: right;\">\n",
       "      <th></th>\n",
       "      <th>max_methane</th>\n",
       "      <th>mean_dms</th>\n",
       "    </tr>\n",
       "    <tr>\n",
       "      <th>dam release</th>\n",
       "      <th></th>\n",
       "      <th></th>\n",
       "    </tr>\n",
       "  </thead>\n",
       "  <tbody>\n",
       "    <tr>\n",
       "      <th>False</th>\n",
       "      <td>48.5</td>\n",
       "      <td>9.596341</td>\n",
       "    </tr>\n",
       "    <tr>\n",
       "      <th>True</th>\n",
       "      <td>48.5</td>\n",
       "      <td>9.157812</td>\n",
       "    </tr>\n",
       "  </tbody>\n",
       "</table>\n",
       "</div>"
      ],
      "text/plain": [
       "             max_methane  mean_dms\n",
       "dam release                       \n",
       "False               48.5  9.596341\n",
       "True                48.5  9.157812"
      ]
     },
     "execution_count": 42,
     "metadata": {},
     "output_type": "execute_result"
    }
   ],
   "source": [
    "water_vars.groupby(\"dam release\").agg(\n",
    "    max_methane=pd.NamedAgg(column='discharge', aggfunc='max'), \n",
    "    mean_dms=pd.NamedAgg(column=\"dissolved oxygen\", aggfunc='mean')\n",
    ")"
   ]
  },
  {
   "cell_type": "markdown",
   "id": "af337957",
   "metadata": {},
   "source": [
    "### 📝 Checking In\n",
    "Explain the output\n",
    "\n",
    "Find the minimum temperature value and mean discharge for each safety level.\n",
    "\n",
    "Find the minimum temperature value and mean discharge for each safety level and dam release."
   ]
  },
  {
   "cell_type": "markdown",
   "id": "d3a9597b",
   "metadata": {},
   "source": [
    "### Binning a numeric value to split on"
   ]
  },
  {
   "cell_type": "code",
   "execution_count": 45,
   "id": "0827e4d6",
   "metadata": {},
   "outputs": [
    {
     "data": {
      "text/plain": [
       "count    144.000000\n",
       "mean       7.512500\n",
       "std        0.571451\n",
       "min        6.600000\n",
       "25%        6.900000\n",
       "50%        7.600000\n",
       "75%        8.000000\n",
       "max        8.500000\n",
       "Name: temperature, dtype: float64"
      ]
     },
     "execution_count": 45,
     "metadata": {},
     "output_type": "execute_result"
    }
   ],
   "source": [
    "water_vars['temperature'].describe()"
   ]
  },
  {
   "cell_type": "code",
   "execution_count": 49,
   "id": "0d559bb5",
   "metadata": {},
   "outputs": [
    {
     "name": "stdout",
     "output_type": "stream",
     "text": [
      "IntervalIndex([(6, 7], (7, 8], (8, 9]],\n",
      "              closed='right',\n",
      "              dtype='interval[int64]')\n"
     ]
    }
   ],
   "source": [
    "bin_intervals = pd.IntervalIndex.from_tuples([(6, 7), (7, 8), (8, 9)])\n",
    "print(bin_intervals)"
   ]
  },
  {
   "cell_type": "markdown",
   "id": "f091ea3f",
   "metadata": {},
   "source": [
    "\"closed right\" means that the right value is included in that bin.  Another way to think about it is that the `]` means less than or equal to `<=` while the `(` bracket means less than `<`.\n",
    "So our data values range from \n",
    "* bin 1: 6 < x <=7\n",
    "* bin 2: 7 < x <= 8\n",
    "* bin 3: 8 < x <= 9\n",
    "\n",
    "If there are values outside your bins when you apply them they will be dropped"
   ]
  },
  {
   "cell_type": "code",
   "execution_count": 56,
   "id": "2fbdc00d",
   "metadata": {},
   "outputs": [],
   "source": [
    "# TODO why aren't the labels applied?\n",
    "bins = pd.cut(water_vars['temperature'], bins=bin_intervals, labels=['cold', 'moderate', 'warm'])"
   ]
  },
  {
   "cell_type": "code",
   "execution_count": 57,
   "id": "027ae264",
   "metadata": {},
   "outputs": [
    {
     "data": {
      "text/plain": [
       "1      (8, 9]\n",
       "2      (8, 9]\n",
       "3      (8, 9]\n",
       "4      (8, 9]\n",
       "5      (8, 9]\n",
       "        ...  \n",
       "142    (6, 7]\n",
       "143    (6, 7]\n",
       "144    (6, 7]\n",
       "145    (6, 7]\n",
       "146    (6, 7]\n",
       "Name: temperature, Length: 146, dtype: category\n",
       "Categories (3, interval[int64]): [(6, 7] < (7, 8] < (8, 9]]"
      ]
     },
     "execution_count": 57,
     "metadata": {},
     "output_type": "execute_result"
    }
   ],
   "source": [
    "bins"
   ]
  },
  {
   "cell_type": "code",
   "execution_count": 59,
   "id": "463f4018",
   "metadata": {},
   "outputs": [
    {
     "data": {
      "text/plain": [
       "temperature\n",
       "(6, 7]     9.169767\n",
       "(7, 8]     8.822857\n",
       "(8, 9]    11.125806\n",
       "Name: dissolved oxygen, dtype: float64"
      ]
     },
     "execution_count": 59,
     "metadata": {},
     "output_type": "execute_result"
    }
   ],
   "source": [
    "water_vars.groupby(bins)['dissolved oxygen'].mean()"
   ]
  },
  {
   "cell_type": "markdown",
   "id": "6c6ddaea",
   "metadata": {},
   "source": [
    "### 📝 Checking In\n",
    "Same setup with bins\n",
    "\n",
    "Multiple aggregation"
   ]
  },
  {
   "cell_type": "code",
   "execution_count": null,
   "id": "cf19b324",
   "metadata": {},
   "outputs": [],
   "source": []
  }
 ],
 "metadata": {
  "kernelspec": {
   "display_name": "Python [conda env:lectures] *",
   "language": "python",
   "name": "conda-env-lectures-py"
  },
  "language_info": {
   "codemirror_mode": {
    "name": "ipython",
    "version": 3
   },
   "file_extension": ".py",
   "mimetype": "text/x-python",
   "name": "python",
   "nbconvert_exporter": "python",
   "pygments_lexer": "ipython3",
   "version": "3.8.8"
  }
 },
 "nbformat": 4,
 "nbformat_minor": 5
}
