{
 "cells": [
  {
   "cell_type": "markdown",
   "metadata": {},
   "source": [
    "# FIREX Campaign Spatial Intersect Exercise\n",
    "\n",
    "In this exercise we are going to be looking at data from the FIREX campaign and comparing it with wildfire data shapes from the USGS. The `geopandas` lesson page will be a helpful reference. https://rwegener2.github.io/sarp_lessons/lessons/tabular_data/3_geopandas.html"
   ]
  },
  {
   "cell_type": "code",
   "execution_count": 3,
   "metadata": {},
   "outputs": [],
   "source": [
    "import geopandas as gpd\n",
    "import pandas as pd\n",
    "import numpy as np"
   ]
  },
  {
   "cell_type": "code",
   "execution_count": 4,
   "metadata": {},
   "outputs": [],
   "source": [
    "firex_all = pd.read_csv('../data/firexaq-mrg60-dc8_merge_20190722_R1_thru20190905.csv', skiprows=676)"
   ]
  },
  {
   "cell_type": "markdown",
   "metadata": {},
   "source": [
    "_Note: This file was originally a `.ict` file but I used the File Explorer to re-name it to a `.csv` file. Pandas can open `.ict` files just fine, but I find that Excel has a hard time with them. If you rename the same file from `.ict` to `.csv`, however, Excel will open it up._"
   ]
  },
  {
   "cell_type": "code",
   "execution_count": 68,
   "metadata": {},
   "outputs": [
    {
     "data": {
      "text/html": [
       "<div>\n",
       "<style scoped>\n",
       "    .dataframe tbody tr th:only-of-type {\n",
       "        vertical-align: middle;\n",
       "    }\n",
       "\n",
       "    .dataframe tbody tr th {\n",
       "        vertical-align: top;\n",
       "    }\n",
       "\n",
       "    .dataframe thead th {\n",
       "        text-align: right;\n",
       "    }\n",
       "</style>\n",
       "<table border=\"1\" class=\"dataframe\">\n",
       "  <thead>\n",
       "    <tr style=\"text-align: right;\">\n",
       "      <th></th>\n",
       "      <th>Fractional_Day</th>\n",
       "      <th>Time_Start</th>\n",
       "      <th>Time_Stop</th>\n",
       "      <th>Day_Of_Year_YANG</th>\n",
       "      <th>Latitude_YANG</th>\n",
       "      <th>Longitude_YANG</th>\n",
       "      <th>MSL_GPS_Altitude_YANG</th>\n",
       "      <th>HAE_GPS_Altitude_YANG</th>\n",
       "      <th>Pressure_Altitude_YANG</th>\n",
       "      <th>Radar_Altitude_YANG</th>\n",
       "      <th>...</th>\n",
       "      <th>jBrONO2_BrO_NO2_CAFS_HALL</th>\n",
       "      <th>jBrONO2_Br_NO3_CAFS_HALL</th>\n",
       "      <th>jBrCl_Br_Cl_CAFS_HALL</th>\n",
       "      <th>jCHBr3_NoProductsSpecified_CAFS_HALL</th>\n",
       "      <th>smoke_age_HOLMES</th>\n",
       "      <th>smoke_age_corr_HOLMES</th>\n",
       "      <th>smoke_age_rise_HOLMES</th>\n",
       "      <th>smoke_rise_HOLMES</th>\n",
       "      <th>fire_distance_HOLMES</th>\n",
       "      <th>smoke_agemethod_HOLMES</th>\n",
       "    </tr>\n",
       "  </thead>\n",
       "  <tbody>\n",
       "    <tr>\n",
       "      <th>count</th>\n",
       "      <td>9081.000000</td>\n",
       "      <td>9081.000000</td>\n",
       "      <td>9081.000000</td>\n",
       "      <td>9081.000000</td>\n",
       "      <td>9081.000000</td>\n",
       "      <td>9081.000000</td>\n",
       "      <td>9081.000000</td>\n",
       "      <td>9081.000000</td>\n",
       "      <td>9081.000000</td>\n",
       "      <td>9081.000000</td>\n",
       "      <td>...</td>\n",
       "      <td>9081.000000</td>\n",
       "      <td>9081.000000</td>\n",
       "      <td>9081.000000</td>\n",
       "      <td>9.081000e+03</td>\n",
       "      <td>9081.000000</td>\n",
       "      <td>9081.000000</td>\n",
       "      <td>9081.000000</td>\n",
       "      <td>9081.000000</td>\n",
       "      <td>9081.000000</td>\n",
       "      <td>9081.000000</td>\n",
       "    </tr>\n",
       "    <tr>\n",
       "      <th>mean</th>\n",
       "      <td>226.760197</td>\n",
       "      <td>81625.678890</td>\n",
       "      <td>81685.678890</td>\n",
       "      <td>225.815108</td>\n",
       "      <td>-1722.146676</td>\n",
       "      <td>-1869.220822</td>\n",
       "      <td>3156.048955</td>\n",
       "      <td>-2292.452929</td>\n",
       "      <td>15359.291967</td>\n",
       "      <td>12676.498769</td>\n",
       "      <td>...</td>\n",
       "      <td>-330.359580</td>\n",
       "      <td>-330.358731</td>\n",
       "      <td>-330.350287</td>\n",
       "      <td>-3.303598e+02</td>\n",
       "      <td>-822610.049450</td>\n",
       "      <td>-822536.417093</td>\n",
       "      <td>-826164.556287</td>\n",
       "      <td>-825761.166757</td>\n",
       "      <td>-800607.897810</td>\n",
       "      <td>-826244.062768</td>\n",
       "    </tr>\n",
       "    <tr>\n",
       "      <th>std</th>\n",
       "      <td>13.324944</td>\n",
       "      <td>11555.139635</td>\n",
       "      <td>11555.139635</td>\n",
       "      <td>13.390380</td>\n",
       "      <td>41942.180600</td>\n",
       "      <td>41936.002445</td>\n",
       "      <td>42262.242721</td>\n",
       "      <td>84775.483466</td>\n",
       "      <td>9758.671210</td>\n",
       "      <td>20621.489347</td>\n",
       "      <td>...</td>\n",
       "      <td>18173.790620</td>\n",
       "      <td>18173.790636</td>\n",
       "      <td>18173.790789</td>\n",
       "      <td>1.817379e+04</td>\n",
       "      <td>386958.865866</td>\n",
       "      <td>387131.448999</td>\n",
       "      <td>379073.762924</td>\n",
       "      <td>379953.825504</td>\n",
       "      <td>444493.726463</td>\n",
       "      <td>378901.670616</td>\n",
       "    </tr>\n",
       "    <tr>\n",
       "      <th>min</th>\n",
       "      <td>203.762500</td>\n",
       "      <td>52470.000000</td>\n",
       "      <td>52530.000000</td>\n",
       "      <td>203.000000</td>\n",
       "      <td>-999999.000000</td>\n",
       "      <td>-999999.000000</td>\n",
       "      <td>-999999.000000</td>\n",
       "      <td>-999999.000000</td>\n",
       "      <td>508.533300</td>\n",
       "      <td>-999999.000000</td>\n",
       "      <td>...</td>\n",
       "      <td>-999999.000000</td>\n",
       "      <td>-999999.000000</td>\n",
       "      <td>-999999.000000</td>\n",
       "      <td>-9.999990e+05</td>\n",
       "      <td>-999999.000000</td>\n",
       "      <td>-999999.000000</td>\n",
       "      <td>-999999.000000</td>\n",
       "      <td>-999999.000000</td>\n",
       "      <td>-999999.000000</td>\n",
       "      <td>-999999.000000</td>\n",
       "    </tr>\n",
       "    <tr>\n",
       "      <th>25%</th>\n",
       "      <td>215.930556</td>\n",
       "      <td>73230.000000</td>\n",
       "      <td>73290.000000</td>\n",
       "      <td>215.000000</td>\n",
       "      <td>34.776165</td>\n",
       "      <td>-116.700670</td>\n",
       "      <td>2541.030000</td>\n",
       "      <td>2382.890000</td>\n",
       "      <td>7842.780000</td>\n",
       "      <td>5530.440000</td>\n",
       "      <td>...</td>\n",
       "      <td>0.000104</td>\n",
       "      <td>0.000588</td>\n",
       "      <td>0.006327</td>\n",
       "      <td>1.928000e-07</td>\n",
       "      <td>-999999.000000</td>\n",
       "      <td>-999999.000000</td>\n",
       "      <td>-999999.000000</td>\n",
       "      <td>-999999.000000</td>\n",
       "      <td>-999999.000000</td>\n",
       "      <td>-999999.000000</td>\n",
       "    </tr>\n",
       "    <tr>\n",
       "      <th>50%</th>\n",
       "      <td>226.048611</td>\n",
       "      <td>81930.000000</td>\n",
       "      <td>81990.000000</td>\n",
       "      <td>225.000000</td>\n",
       "      <td>38.273844</td>\n",
       "      <td>-112.260533</td>\n",
       "      <td>4742.480000</td>\n",
       "      <td>4663.480000</td>\n",
       "      <td>14643.200000</td>\n",
       "      <td>10821.500000</td>\n",
       "      <td>...</td>\n",
       "      <td>0.000207</td>\n",
       "      <td>0.001170</td>\n",
       "      <td>0.010991</td>\n",
       "      <td>8.174000e-07</td>\n",
       "      <td>-999999.000000</td>\n",
       "      <td>-999999.000000</td>\n",
       "      <td>-999999.000000</td>\n",
       "      <td>-999999.000000</td>\n",
       "      <td>-999999.000000</td>\n",
       "      <td>-999999.000000</td>\n",
       "    </tr>\n",
       "    <tr>\n",
       "      <th>75%</th>\n",
       "      <td>238.902778</td>\n",
       "      <td>90030.000000</td>\n",
       "      <td>90090.000000</td>\n",
       "      <td>238.000000</td>\n",
       "      <td>45.356357</td>\n",
       "      <td>-95.753198</td>\n",
       "      <td>7715.070000</td>\n",
       "      <td>7685.270000</td>\n",
       "      <td>23975.300000</td>\n",
       "      <td>20293.000000</td>\n",
       "      <td>...</td>\n",
       "      <td>0.000256</td>\n",
       "      <td>0.001452</td>\n",
       "      <td>0.012980</td>\n",
       "      <td>1.246000e-06</td>\n",
       "      <td>-999999.000000</td>\n",
       "      <td>-999999.000000</td>\n",
       "      <td>-999999.000000</td>\n",
       "      <td>-999999.000000</td>\n",
       "      <td>-999999.000000</td>\n",
       "      <td>-999999.000000</td>\n",
       "    </tr>\n",
       "    <tr>\n",
       "      <th>max</th>\n",
       "      <td>248.965972</td>\n",
       "      <td>107670.000000</td>\n",
       "      <td>107730.000000</td>\n",
       "      <td>248.000000</td>\n",
       "      <td>48.971215</td>\n",
       "      <td>-83.123175</td>\n",
       "      <td>12502.500000</td>\n",
       "      <td>12475.500000</td>\n",
       "      <td>38978.600000</td>\n",
       "      <td>39361.400000</td>\n",
       "      <td>...</td>\n",
       "      <td>0.000634</td>\n",
       "      <td>0.003593</td>\n",
       "      <td>0.032215</td>\n",
       "      <td>3.133000e-06</td>\n",
       "      <td>112476.600000</td>\n",
       "      <td>206980.500000</td>\n",
       "      <td>796.850000</td>\n",
       "      <td>9099.080000</td>\n",
       "      <td>932455.400000</td>\n",
       "      <td>7.000000</td>\n",
       "    </tr>\n",
       "  </tbody>\n",
       "</table>\n",
       "<p>8 rows × 644 columns</p>\n",
       "</div>"
      ],
      "text/plain": [
       "       Fractional_Day     Time_Start      Time_Stop   Day_Of_Year_YANG  \\\n",
       "count     9081.000000    9081.000000    9081.000000        9081.000000   \n",
       "mean       226.760197   81625.678890   81685.678890         225.815108   \n",
       "std         13.324944   11555.139635   11555.139635          13.390380   \n",
       "min        203.762500   52470.000000   52530.000000         203.000000   \n",
       "25%        215.930556   73230.000000   73290.000000         215.000000   \n",
       "50%        226.048611   81930.000000   81990.000000         225.000000   \n",
       "75%        238.902778   90030.000000   90090.000000         238.000000   \n",
       "max        248.965972  107670.000000  107730.000000         248.000000   \n",
       "\n",
       "        Latitude_YANG   Longitude_YANG   MSL_GPS_Altitude_YANG  \\\n",
       "count     9081.000000      9081.000000             9081.000000   \n",
       "mean     -1722.146676     -1869.220822             3156.048955   \n",
       "std      41942.180600     41936.002445            42262.242721   \n",
       "min    -999999.000000   -999999.000000          -999999.000000   \n",
       "25%         34.776165      -116.700670             2541.030000   \n",
       "50%         38.273844      -112.260533             4742.480000   \n",
       "75%         45.356357       -95.753198             7715.070000   \n",
       "max         48.971215       -83.123175            12502.500000   \n",
       "\n",
       "        HAE_GPS_Altitude_YANG   Pressure_Altitude_YANG   Radar_Altitude_YANG  \\\n",
       "count             9081.000000              9081.000000           9081.000000   \n",
       "mean             -2292.452929             15359.291967          12676.498769   \n",
       "std              84775.483466              9758.671210          20621.489347   \n",
       "min            -999999.000000               508.533300        -999999.000000   \n",
       "25%               2382.890000              7842.780000           5530.440000   \n",
       "50%               4663.480000             14643.200000          10821.500000   \n",
       "75%               7685.270000             23975.300000          20293.000000   \n",
       "max              12475.500000             38978.600000          39361.400000   \n",
       "\n",
       "       ...   jBrONO2_BrO_NO2_CAFS_HALL   jBrONO2_Br_NO3_CAFS_HALL  \\\n",
       "count  ...                 9081.000000                9081.000000   \n",
       "mean   ...                 -330.359580                -330.358731   \n",
       "std    ...                18173.790620               18173.790636   \n",
       "min    ...              -999999.000000             -999999.000000   \n",
       "25%    ...                    0.000104                   0.000588   \n",
       "50%    ...                    0.000207                   0.001170   \n",
       "75%    ...                    0.000256                   0.001452   \n",
       "max    ...                    0.000634                   0.003593   \n",
       "\n",
       "        jBrCl_Br_Cl_CAFS_HALL   jCHBr3_NoProductsSpecified_CAFS_HALL  \\\n",
       "count             9081.000000                           9.081000e+03   \n",
       "mean              -330.350287                          -3.303598e+02   \n",
       "std              18173.790789                           1.817379e+04   \n",
       "min            -999999.000000                          -9.999990e+05   \n",
       "25%                  0.006327                           1.928000e-07   \n",
       "50%                  0.010991                           8.174000e-07   \n",
       "75%                  0.012980                           1.246000e-06   \n",
       "max                  0.032215                           3.133000e-06   \n",
       "\n",
       "        smoke_age_HOLMES   smoke_age_corr_HOLMES   smoke_age_rise_HOLMES  \\\n",
       "count        9081.000000             9081.000000             9081.000000   \n",
       "mean      -822610.049450          -822536.417093          -826164.556287   \n",
       "std        386958.865866           387131.448999           379073.762924   \n",
       "min       -999999.000000          -999999.000000          -999999.000000   \n",
       "25%       -999999.000000          -999999.000000          -999999.000000   \n",
       "50%       -999999.000000          -999999.000000          -999999.000000   \n",
       "75%       -999999.000000          -999999.000000          -999999.000000   \n",
       "max        112476.600000           206980.500000              796.850000   \n",
       "\n",
       "        smoke_rise_HOLMES   fire_distance_HOLMES   smoke_agemethod_HOLMES  \n",
       "count         9081.000000            9081.000000              9081.000000  \n",
       "mean       -825761.166757         -800607.897810           -826244.062768  \n",
       "std         379953.825504          444493.726463            378901.670616  \n",
       "min        -999999.000000         -999999.000000           -999999.000000  \n",
       "25%        -999999.000000         -999999.000000           -999999.000000  \n",
       "50%        -999999.000000         -999999.000000           -999999.000000  \n",
       "75%        -999999.000000         -999999.000000           -999999.000000  \n",
       "max           9099.080000          932455.400000                 7.000000  \n",
       "\n",
       "[8 rows x 644 columns]"
      ]
     },
     "execution_count": 68,
     "metadata": {},
     "output_type": "execute_result"
    }
   ],
   "source": [
    "firex_all.describe()"
   ]
  },
  {
   "cell_type": "code",
   "execution_count": 69,
   "metadata": {},
   "outputs": [],
   "source": [
    "firex_all = firex_all.replace({-999999: np.nan, -888888: np.nan, -66666: np.nan})"
   ]
  },
  {
   "cell_type": "markdown",
   "metadata": {},
   "source": [
    "## Processing the FIREX Dataset"
   ]
  },
  {
   "cell_type": "markdown",
   "metadata": {},
   "source": [
    "1. Convert the pandas dataframe into a geodataframe. Be sure to specify the CRS as `epsg:4326`."
   ]
  },
  {
   "cell_type": "code",
   "execution_count": null,
   "metadata": {},
   "outputs": [],
   "source": []
  },
  {
   "cell_type": "markdown",
   "metadata": {},
   "source": [
    "2. How many rows and columns are in this dataframe?"
   ]
  },
  {
   "cell_type": "code",
   "execution_count": null,
   "metadata": {},
   "outputs": [],
   "source": []
  },
  {
   "cell_type": "markdown",
   "metadata": {},
   "source": [
    "3. We have a pretty big dataframe. Let's filter it down to just the following columns:\n",
    "```\n",
    "['Fractional_Day', ' Time_Start', ' Time_Stop', ' Day_Of_Year_YANG',\n",
    "       ' Latitude_YANG', ' Longitude_YANG', ' Pressure_Altitude_YANG', ' Potential_Temp_YANG', \n",
    "       ' Sat_Vapor_Press_H2O_YANG', ' Smoke_flag_SCHWARZ', ' BC_mass_90_550_nm_SCHWARZ', 'geometry']\n",
    "```"
   ]
  },
  {
   "cell_type": "code",
   "execution_count": null,
   "metadata": {},
   "outputs": [],
   "source": []
  },
  {
   "cell_type": "markdown",
   "metadata": {},
   "source": [
    "4. To keep filtering, let's filter it down to just the Fractional Day 203."
   ]
  },
  {
   "cell_type": "code",
   "execution_count": null,
   "metadata": {},
   "outputs": [],
   "source": []
  },
  {
   "cell_type": "markdown",
   "metadata": {},
   "source": [
    "## Processing the Wildfires Shapefile\n",
    "\n",
    "1. The `data` folder has a file at `wildfires_2019_usgs/wildfires_2019_usgs.shp` which contains all of the burn areas of fires in 2019. Open that file up using `gpd.read_file()` and give the filepath to that `.shp` file as an argument. Assign output to a variable called `wildfires`."
   ]
  },
  {
   "cell_type": "code",
   "execution_count": null,
   "metadata": {},
   "outputs": [],
   "source": []
  },
  {
   "cell_type": "markdown",
   "metadata": {},
   "source": [
    "2. Look at the new dataframe. How many rows and columns does it have? What is the type of the geometry (Point, Polygon, Multipolygon, Line, etc.)?"
   ]
  },
  {
   "cell_type": "code",
   "execution_count": null,
   "metadata": {},
   "outputs": [],
   "source": []
  },
  {
   "cell_type": "markdown",
   "metadata": {},
   "source": [
    "3. What is the CRS of this dataframe?"
   ]
  },
  {
   "cell_type": "code",
   "execution_count": null,
   "metadata": {},
   "outputs": [],
   "source": []
  },
  {
   "cell_type": "markdown",
   "metadata": {},
   "source": [
    "4. If you run `wildfires.plot()` you'll notice that the points are very difficult or impossible to see. To make the shapes easier to see let's make them larger, or buffer them by 100,000m. Use the `.buffer(100000)` method on the dataframe and then plot it to see the shape of the data more clearly."
   ]
  },
  {
   "cell_type": "code",
   "execution_count": null,
   "metadata": {},
   "outputs": [],
   "source": []
  },
  {
   "cell_type": "markdown",
   "metadata": {},
   "source": [
    "This image visually shows what a buffer operation does to points, lines, and polygons.\n",
    "\n",
    "![Buffers](https://pro.arcgis.com/en/pro-app/2.8/tool-reference/analysis/GUID-267CF0D1-DB92-456F-A8FE-F819981F5467-web.png)"
   ]
  },
  {
   "cell_type": "markdown",
   "metadata": {},
   "source": [
    "5. From that shape we can see that the wildfire data is spread out between the contiguous US (CONUS) Hawai'i and Alaska. To make our file more manegable let's cut it down to only the fires in CONUS.\n",
    "\n",
    "In order to do that we are going to create a new shape that covers the area we want to keep and intersect the two areas. We are going to create a shape that is a box using `shapely`."
   ]
  },
  {
   "cell_type": "code",
   "execution_count": 21,
   "metadata": {},
   "outputs": [],
   "source": [
    "from shapely.geometry import box"
   ]
  },
  {
   "cell_type": "code",
   "execution_count": null,
   "metadata": {},
   "outputs": [],
   "source": [
    "conus = box(-3000000, -2000000, 2000000, 2000000)  # In units of the dataset"
   ]
  },
  {
   "cell_type": "markdown",
   "metadata": {},
   "source": [
    "Now that we have a shape `conus` defined, use the `.intersects()` method on the `wildfires` dataframe with `conus` as an argument. This will return a True/False boolean array indicating if each row in the dataframe intersects the `conus` shape."
   ]
  },
  {
   "cell_type": "code",
   "execution_count": null,
   "metadata": {},
   "outputs": [],
   "source": []
  },
  {
   "cell_type": "markdown",
   "metadata": {},
   "source": [
    "Use the True/False dataframe from the previous step to filter the `wildfires` dataframe.  Assign this dataframe to a new variable called `wildfires_conus`."
   ]
  },
  {
   "cell_type": "code",
   "execution_count": null,
   "metadata": {},
   "outputs": [],
   "source": []
  },
  {
   "cell_type": "markdown",
   "metadata": {},
   "source": [
    "6. Plot the new `wildfires_conus` dataframe again, again buffering by 10000m, to confirm that you have spatially filtered the dataframe."
   ]
  },
  {
   "cell_type": "code",
   "execution_count": null,
   "metadata": {},
   "outputs": [],
   "source": []
  },
  {
   "cell_type": "markdown",
   "metadata": {},
   "source": [
    "Nice work! You have used two spatial data operations -- buffer and intersects -- in Python AND used those to spatially filter a dataframe!"
   ]
  },
  {
   "cell_type": "code",
   "execution_count": null,
   "metadata": {},
   "outputs": [],
   "source": []
  }
 ],
 "metadata": {
  "kernelspec": {
   "display_name": "Python 3.10.4 ('sarp')",
   "language": "python",
   "name": "python3"
  },
  "language_info": {
   "codemirror_mode": {
    "name": "ipython",
    "version": 3
   },
   "file_extension": ".py",
   "mimetype": "text/x-python",
   "name": "python",
   "nbconvert_exporter": "python",
   "pygments_lexer": "ipython3",
   "version": "3.10.4"
  },
  "orig_nbformat": 4,
  "vscode": {
   "interpreter": {
    "hash": "c6a7549e0a21eb75b694ff081490f6e8db8aea94086d29d6a7e085c556b251de"
   }
  }
 },
 "nbformat": 4,
 "nbformat_minor": 2
}
