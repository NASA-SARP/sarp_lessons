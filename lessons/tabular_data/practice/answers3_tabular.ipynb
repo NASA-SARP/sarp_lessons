{
 "cells": [
  {
   "cell_type": "markdown",
   "id": "8a968910",
   "metadata": {},
   "source": [
    "This notebook provides practice problems associated with lesson 2. It is divided into several parts:\n",
    "* **Part 1** - most approachable place to start.  Practices syntax and concepts\n",
    "* **Part 2** - a step up from part 1.  Integrates concepts from accross the lesson in more applied scenarios"
   ]
  },
  {
   "cell_type": "code",
   "execution_count": 1,
   "id": "e58ed9cc",
   "metadata": {},
   "outputs": [],
   "source": [
    "# Import the libary.  You only have to do this once per file.\n",
    "import pandas as pd"
   ]
  },
  {
   "cell_type": "markdown",
   "id": "c6bf45ba",
   "metadata": {},
   "source": [
    "# Practice Problems Part 1"
   ]
  },
  {
   "cell_type": "markdown",
   "id": "709503d9",
   "metadata": {},
   "source": [
    "## `pandas` Data Structures"
   ]
  },
  {
   "cell_type": "markdown",
   "id": "d0ca5447",
   "metadata": {},
   "source": [
    "1. Use `pd.Dataframe()` to convert the following dictionary into a pandas Dataframe.  Assign it to a variable called `earthquake_df`."
   ]
  },
  {
   "cell_type": "code",
   "execution_count": 2,
   "id": "3c60adca",
   "metadata": {},
   "outputs": [],
   "source": [
    "earthquakes_dict = {\n",
    "    'magnitude': [3.2, 2.6, 5.4, 6.0, 6.0, 4.5, 4.2], \n",
    "    'depth (km)': [6, 5, 3, 15, 14, 10, 8],\n",
    "    'region': ['California', 'Philippines', 'Philippines', 'Indonesia', 'California', 'California', 'California']\n",
    "}"
   ]
  },
  {
   "cell_type": "code",
   "execution_count": 3,
   "id": "6dc47357",
   "metadata": {},
   "outputs": [],
   "source": [
    "earthquake_df = pd.DataFrame(earthquakes_dict)"
   ]
  },
  {
   "cell_type": "markdown",
   "id": "21d840b8",
   "metadata": {},
   "source": [
    "2. Print just the Depth column from the dataframe.  What is the data type of that that subset of data?"
   ]
  },
  {
   "cell_type": "code",
   "execution_count": 4,
   "id": "69d5958a",
   "metadata": {},
   "outputs": [
    {
     "data": {
      "text/plain": [
       "0     6\n",
       "1     5\n",
       "2     3\n",
       "3    15\n",
       "4    14\n",
       "5    10\n",
       "6     8\n",
       "Name: depth (km), dtype: int64"
      ]
     },
     "execution_count": 4,
     "metadata": {},
     "output_type": "execute_result"
    }
   ],
   "source": [
    "earthquake_df['depth (km)']"
   ]
  },
  {
   "cell_type": "code",
   "execution_count": null,
   "id": "1993820f",
   "metadata": {},
   "outputs": [],
   "source": []
  },
  {
   "cell_type": "markdown",
   "id": "34e20993",
   "metadata": {},
   "source": [
    "Check your answer using `type()`"
   ]
  },
  {
   "cell_type": "code",
   "execution_count": 5,
   "id": "f35f1317",
   "metadata": {},
   "outputs": [
    {
     "data": {
      "text/plain": [
       "pandas.core.frame.DataFrame"
      ]
     },
     "execution_count": 5,
     "metadata": {},
     "output_type": "execute_result"
    }
   ],
   "source": [
    "# Example\n",
    "type(earthquake_df)  # Put your answer to #2 in place of `earthquake_df`"
   ]
  },
  {
   "cell_type": "markdown",
   "id": "aa5c67fa",
   "metadata": {},
   "source": [
    "## Accessing values in Dataframes"
   ]
  },
  {
   "cell_type": "code",
   "execution_count": 6,
   "id": "581e6d87",
   "metadata": {},
   "outputs": [
    {
     "data": {
      "text/html": [
       "<div>\n",
       "<style scoped>\n",
       "    .dataframe tbody tr th:only-of-type {\n",
       "        vertical-align: middle;\n",
       "    }\n",
       "\n",
       "    .dataframe tbody tr th {\n",
       "        vertical-align: top;\n",
       "    }\n",
       "\n",
       "    .dataframe thead th {\n",
       "        text-align: right;\n",
       "    }\n",
       "</style>\n",
       "<table border=\"1\" class=\"dataframe\">\n",
       "  <thead>\n",
       "    <tr style=\"text-align: right;\">\n",
       "      <th></th>\n",
       "      <th>magnitude</th>\n",
       "      <th>depth (km)</th>\n",
       "      <th>region</th>\n",
       "    </tr>\n",
       "  </thead>\n",
       "  <tbody>\n",
       "    <tr>\n",
       "      <th>0</th>\n",
       "      <td>3.2</td>\n",
       "      <td>6</td>\n",
       "      <td>California</td>\n",
       "    </tr>\n",
       "    <tr>\n",
       "      <th>1</th>\n",
       "      <td>2.6</td>\n",
       "      <td>5</td>\n",
       "      <td>Philippines</td>\n",
       "    </tr>\n",
       "    <tr>\n",
       "      <th>2</th>\n",
       "      <td>5.4</td>\n",
       "      <td>3</td>\n",
       "      <td>Philippines</td>\n",
       "    </tr>\n",
       "    <tr>\n",
       "      <th>3</th>\n",
       "      <td>6.0</td>\n",
       "      <td>15</td>\n",
       "      <td>Indonesia</td>\n",
       "    </tr>\n",
       "    <tr>\n",
       "      <th>4</th>\n",
       "      <td>6.0</td>\n",
       "      <td>14</td>\n",
       "      <td>California</td>\n",
       "    </tr>\n",
       "    <tr>\n",
       "      <th>5</th>\n",
       "      <td>4.5</td>\n",
       "      <td>10</td>\n",
       "      <td>California</td>\n",
       "    </tr>\n",
       "    <tr>\n",
       "      <th>6</th>\n",
       "      <td>4.2</td>\n",
       "      <td>8</td>\n",
       "      <td>California</td>\n",
       "    </tr>\n",
       "  </tbody>\n",
       "</table>\n",
       "</div>"
      ],
      "text/plain": [
       "   magnitude  depth (km)       region\n",
       "0        3.2           6   California\n",
       "1        2.6           5  Philippines\n",
       "2        5.4           3  Philippines\n",
       "3        6.0          15    Indonesia\n",
       "4        6.0          14   California\n",
       "5        4.5          10   California\n",
       "6        4.2           8   California"
      ]
     },
     "execution_count": 6,
     "metadata": {},
     "output_type": "execute_result"
    }
   ],
   "source": [
    "earthquake_df"
   ]
  },
  {
   "cell_type": "markdown",
   "id": "090f4784",
   "metadata": {},
   "source": [
    "3. print out the first row in the earthquakes dataframe"
   ]
  },
  {
   "cell_type": "code",
   "execution_count": null,
   "id": "5b124751",
   "metadata": {},
   "outputs": [],
   "source": []
  },
  {
   "cell_type": "markdown",
   "id": "a1c01069",
   "metadata": {},
   "source": [
    "4. print out the 2nd-5th rows in the earthquakes dataframe"
   ]
  },
  {
   "cell_type": "code",
   "execution_count": null,
   "id": "784e9772",
   "metadata": {},
   "outputs": [],
   "source": []
  },
  {
   "cell_type": "markdown",
   "id": "06201d52",
   "metadata": {},
   "source": [
    "5. take the 2nd and 3rd rows of the earthquakes dataframe and assign them to a variables called `philippeans_only`"
   ]
  },
  {
   "cell_type": "code",
   "execution_count": null,
   "id": "1e0aca0d",
   "metadata": {},
   "outputs": [],
   "source": []
  },
  {
   "cell_type": "markdown",
   "id": "b146cdcb",
   "metadata": {},
   "source": [
    "6. What is the data type of the new `pilippeans_only` variable?"
   ]
  },
  {
   "cell_type": "code",
   "execution_count": null,
   "id": "b55ea40b",
   "metadata": {},
   "outputs": [],
   "source": []
  },
  {
   "cell_type": "markdown",
   "id": "5c55eaa9",
   "metadata": {},
   "source": [
    "## Inspecting and Aggregations"
   ]
  },
  {
   "cell_type": "markdown",
   "id": "3ef419af",
   "metadata": {},
   "source": [
    "7. Use `.info()` to look up the data type of each of the columns in the dataframe"
   ]
  },
  {
   "cell_type": "code",
   "execution_count": 7,
   "id": "f7e30e26",
   "metadata": {},
   "outputs": [
    {
     "name": "stdout",
     "output_type": "stream",
     "text": [
      "<class 'pandas.core.frame.DataFrame'>\n",
      "RangeIndex: 7 entries, 0 to 6\n",
      "Data columns (total 3 columns):\n",
      " #   Column      Non-Null Count  Dtype  \n",
      "---  ------      --------------  -----  \n",
      " 0   magnitude   7 non-null      float64\n",
      " 1   depth (km)  7 non-null      int64  \n",
      " 2   region      7 non-null      object \n",
      "dtypes: float64(1), int64(1), object(1)\n",
      "memory usage: 296.0+ bytes\n"
     ]
    }
   ],
   "source": [
    "earthquake_df.info()"
   ]
  },
  {
   "cell_type": "code",
   "execution_count": 8,
   "id": "048a9721",
   "metadata": {},
   "outputs": [],
   "source": [
    "# magnitude -> float, depth -> int, region -> object"
   ]
  },
  {
   "cell_type": "markdown",
   "id": "c827e6cd",
   "metadata": {},
   "source": [
    "_Note: An \"object\" data type isn't one we have talked about before because it is specific to pandas.  Pandas uses \"object\" as a datatype that is usually strings, but also includes any kind of mixed datatypes.  Generally I just consider \"object\" datatype in pandas to mean \"string\", since that is the most common case._"
   ]
  },
  {
   "cell_type": "markdown",
   "id": "1b73e14e",
   "metadata": {},
   "source": [
    "8. What is:\n",
    "\n",
    "* the strongest earthquake that is listed in this dataset (highest magnitude)?\n",
    "* the mean depth of these earthquakes?"
   ]
  },
  {
   "cell_type": "code",
   "execution_count": 9,
   "id": "2ee55092",
   "metadata": {},
   "outputs": [
    {
     "data": {
      "text/html": [
       "<div>\n",
       "<style scoped>\n",
       "    .dataframe tbody tr th:only-of-type {\n",
       "        vertical-align: middle;\n",
       "    }\n",
       "\n",
       "    .dataframe tbody tr th {\n",
       "        vertical-align: top;\n",
       "    }\n",
       "\n",
       "    .dataframe thead th {\n",
       "        text-align: right;\n",
       "    }\n",
       "</style>\n",
       "<table border=\"1\" class=\"dataframe\">\n",
       "  <thead>\n",
       "    <tr style=\"text-align: right;\">\n",
       "      <th></th>\n",
       "      <th>magnitude</th>\n",
       "      <th>depth (km)</th>\n",
       "    </tr>\n",
       "  </thead>\n",
       "  <tbody>\n",
       "    <tr>\n",
       "      <th>count</th>\n",
       "      <td>7.000000</td>\n",
       "      <td>7.000000</td>\n",
       "    </tr>\n",
       "    <tr>\n",
       "      <th>mean</th>\n",
       "      <td>4.557143</td>\n",
       "      <td>8.714286</td>\n",
       "    </tr>\n",
       "    <tr>\n",
       "      <th>std</th>\n",
       "      <td>1.333988</td>\n",
       "      <td>4.535574</td>\n",
       "    </tr>\n",
       "    <tr>\n",
       "      <th>min</th>\n",
       "      <td>2.600000</td>\n",
       "      <td>3.000000</td>\n",
       "    </tr>\n",
       "    <tr>\n",
       "      <th>25%</th>\n",
       "      <td>3.700000</td>\n",
       "      <td>5.500000</td>\n",
       "    </tr>\n",
       "    <tr>\n",
       "      <th>50%</th>\n",
       "      <td>4.500000</td>\n",
       "      <td>8.000000</td>\n",
       "    </tr>\n",
       "    <tr>\n",
       "      <th>75%</th>\n",
       "      <td>5.700000</td>\n",
       "      <td>12.000000</td>\n",
       "    </tr>\n",
       "    <tr>\n",
       "      <th>max</th>\n",
       "      <td>6.000000</td>\n",
       "      <td>15.000000</td>\n",
       "    </tr>\n",
       "  </tbody>\n",
       "</table>\n",
       "</div>"
      ],
      "text/plain": [
       "       magnitude  depth (km)\n",
       "count   7.000000    7.000000\n",
       "mean    4.557143    8.714286\n",
       "std     1.333988    4.535574\n",
       "min     2.600000    3.000000\n",
       "25%     3.700000    5.500000\n",
       "50%     4.500000    8.000000\n",
       "75%     5.700000   12.000000\n",
       "max     6.000000   15.000000"
      ]
     },
     "execution_count": 9,
     "metadata": {},
     "output_type": "execute_result"
    }
   ],
   "source": [
    "earthquake_df.describe()"
   ]
  },
  {
   "cell_type": "markdown",
   "id": "da67240e",
   "metadata": {},
   "source": [
    "9. Googling practice: Find the number of earthquakes that each of the regions in the dataframe had.  \n",
    "\n",
    "In other words answer the question, \"how many earthquakes occured in California?\", \"how many earthquakes occured in the phillipeans?\", etc."
   ]
  },
  {
   "cell_type": "code",
   "execution_count": 10,
   "id": "b81689d4",
   "metadata": {},
   "outputs": [
    {
     "data": {
      "text/plain": [
       "California     4\n",
       "Philippines    2\n",
       "Indonesia      1\n",
       "Name: region, dtype: int64"
      ]
     },
     "execution_count": 10,
     "metadata": {},
     "output_type": "execute_result"
    }
   ],
   "source": [
    "earthquake_df['region'].value_counts()"
   ]
  },
  {
   "cell_type": "markdown",
   "id": "ac81b939",
   "metadata": {},
   "source": [
    "\n",
    "If you're looking for a place to start googling, try the phrase: \"pandas dataframe number of occurances of a value\"."
   ]
  },
  {
   "cell_type": "markdown",
   "id": "1c0460ee",
   "metadata": {},
   "source": [
    "_**Hint** Check out [this](https://www.marsja.se/pandas-count-occurrences-in-column-unique-values/) piece of the internet_"
   ]
  },
  {
   "cell_type": "markdown",
   "id": "86213c87",
   "metadata": {},
   "source": [
    "# Practice Problems Part 2"
   ]
  },
  {
   "cell_type": "markdown",
   "id": "0c14657f",
   "metadata": {},
   "source": [
    "Please run the following cells to have access to the sample USGS data before you start the practice problems."
   ]
  },
  {
   "cell_type": "code",
   "execution_count": 11,
   "id": "03d68229",
   "metadata": {},
   "outputs": [],
   "source": [
    "# Read in the data\n",
    "water_vars = pd.read_csv('./data/englewood_3_12_21_usgs_water.tsv', sep='\\t', skiprows=30)\n",
    "# There are a lot of variables here, so let's shorten our dataframe to a few variables\n",
    "water_vars = water_vars[['datetime', '210920_00060', '210922_00010', '210924_00300', '210925_00400']]\n",
    "# Get rid of the first row of hard-coded datatype info\n",
    "water_vars = water_vars.drop(0)\n",
    "# Rename the columns from their USGS codes to more human-readible names\n",
    "name_codes = {'210920_00060': 'discharge','210922_00010': 'temperature (C)', '210924_00300': 'dissolved oxygen', '210925_00400': 'pH'}\n",
    "water_vars = water_vars.rename(columns=name_codes)\n",
    "# Convert all numeric columns to the proper datatype\n",
    "numeric_cols = water_vars.columns.drop('datetime')\n",
    "water_vars[numeric_cols] = water_vars[numeric_cols].apply(pd.to_numeric)"
   ]
  },
  {
   "cell_type": "code",
   "execution_count": 12,
   "id": "34dce91d",
   "metadata": {
    "scrolled": true
   },
   "outputs": [
    {
     "data": {
      "text/html": [
       "<div>\n",
       "<style scoped>\n",
       "    .dataframe tbody tr th:only-of-type {\n",
       "        vertical-align: middle;\n",
       "    }\n",
       "\n",
       "    .dataframe tbody tr th {\n",
       "        vertical-align: top;\n",
       "    }\n",
       "\n",
       "    .dataframe thead th {\n",
       "        text-align: right;\n",
       "    }\n",
       "</style>\n",
       "<table border=\"1\" class=\"dataframe\">\n",
       "  <thead>\n",
       "    <tr style=\"text-align: right;\">\n",
       "      <th></th>\n",
       "      <th>datetime</th>\n",
       "      <th>discharge</th>\n",
       "      <th>temperature (C)</th>\n",
       "      <th>dissolved oxygen</th>\n",
       "      <th>pH</th>\n",
       "    </tr>\n",
       "  </thead>\n",
       "  <tbody>\n",
       "    <tr>\n",
       "      <th>1</th>\n",
       "      <td>2021-03-12 00:00</td>\n",
       "      <td>44.5</td>\n",
       "      <td>8.1</td>\n",
       "      <td>8.3</td>\n",
       "      <td>8.1</td>\n",
       "    </tr>\n",
       "    <tr>\n",
       "      <th>2</th>\n",
       "      <td>2021-03-12 00:15</td>\n",
       "      <td>44.5</td>\n",
       "      <td>8.1</td>\n",
       "      <td>8.2</td>\n",
       "      <td>8.1</td>\n",
       "    </tr>\n",
       "    <tr>\n",
       "      <th>3</th>\n",
       "      <td>2021-03-12 00:30</td>\n",
       "      <td>44.5</td>\n",
       "      <td>8.1</td>\n",
       "      <td>8.2</td>\n",
       "      <td>8.1</td>\n",
       "    </tr>\n",
       "    <tr>\n",
       "      <th>4</th>\n",
       "      <td>2021-03-12 00:45</td>\n",
       "      <td>44.5</td>\n",
       "      <td>8.1</td>\n",
       "      <td>8.1</td>\n",
       "      <td>8.1</td>\n",
       "    </tr>\n",
       "    <tr>\n",
       "      <th>5</th>\n",
       "      <td>2021-03-12 01:00</td>\n",
       "      <td>44.5</td>\n",
       "      <td>8.1</td>\n",
       "      <td>8.1</td>\n",
       "      <td>8.1</td>\n",
       "    </tr>\n",
       "    <tr>\n",
       "      <th>...</th>\n",
       "      <td>...</td>\n",
       "      <td>...</td>\n",
       "      <td>...</td>\n",
       "      <td>...</td>\n",
       "      <td>...</td>\n",
       "    </tr>\n",
       "    <tr>\n",
       "      <th>142</th>\n",
       "      <td>2021-03-13 11:15</td>\n",
       "      <td>42.6</td>\n",
       "      <td>6.7</td>\n",
       "      <td>9.8</td>\n",
       "      <td>7.9</td>\n",
       "    </tr>\n",
       "    <tr>\n",
       "      <th>143</th>\n",
       "      <td>2021-03-13 11:30</td>\n",
       "      <td>42.6</td>\n",
       "      <td>6.7</td>\n",
       "      <td>9.9</td>\n",
       "      <td>7.9</td>\n",
       "    </tr>\n",
       "    <tr>\n",
       "      <th>144</th>\n",
       "      <td>2021-03-13 11:45</td>\n",
       "      <td>42.6</td>\n",
       "      <td>6.7</td>\n",
       "      <td>10.2</td>\n",
       "      <td>7.9</td>\n",
       "    </tr>\n",
       "    <tr>\n",
       "      <th>145</th>\n",
       "      <td>2021-03-13 12:00</td>\n",
       "      <td>46.5</td>\n",
       "      <td>6.7</td>\n",
       "      <td>10.3</td>\n",
       "      <td>7.9</td>\n",
       "    </tr>\n",
       "    <tr>\n",
       "      <th>146</th>\n",
       "      <td>2021-03-13 12:15</td>\n",
       "      <td>NaN</td>\n",
       "      <td>6.6</td>\n",
       "      <td>10.3</td>\n",
       "      <td>7.9</td>\n",
       "    </tr>\n",
       "  </tbody>\n",
       "</table>\n",
       "<p>146 rows × 5 columns</p>\n",
       "</div>"
      ],
      "text/plain": [
       "             datetime  discharge  temperature (C)  dissolved oxygen   pH\n",
       "1    2021-03-12 00:00       44.5              8.1               8.3  8.1\n",
       "2    2021-03-12 00:15       44.5              8.1               8.2  8.1\n",
       "3    2021-03-12 00:30       44.5              8.1               8.2  8.1\n",
       "4    2021-03-12 00:45       44.5              8.1               8.1  8.1\n",
       "5    2021-03-12 01:00       44.5              8.1               8.1  8.1\n",
       "..                ...        ...              ...               ...  ...\n",
       "142  2021-03-13 11:15       42.6              6.7               9.8  7.9\n",
       "143  2021-03-13 11:30       42.6              6.7               9.9  7.9\n",
       "144  2021-03-13 11:45       42.6              6.7              10.2  7.9\n",
       "145  2021-03-13 12:00       46.5              6.7              10.3  7.9\n",
       "146  2021-03-13 12:15        NaN              6.6              10.3  7.9\n",
       "\n",
       "[146 rows x 5 columns]"
      ]
     },
     "execution_count": 12,
     "metadata": {},
     "output_type": "execute_result"
    }
   ],
   "source": [
    "water_vars"
   ]
  },
  {
   "cell_type": "markdown",
   "id": "862c9564",
   "metadata": {},
   "source": [
    "#### Question 1\n",
    "\n",
    "**A)** Return the mean of all the columns"
   ]
  },
  {
   "cell_type": "code",
   "execution_count": null,
   "id": "5a0ed395",
   "metadata": {},
   "outputs": [],
   "source": []
  },
  {
   "cell_type": "markdown",
   "id": "153bbfd6",
   "metadata": {},
   "source": [
    "**B)** Return the mean of just the dissolved oxygen column"
   ]
  },
  {
   "cell_type": "code",
   "execution_count": null,
   "id": "a4409288",
   "metadata": {},
   "outputs": [],
   "source": []
  },
  {
   "cell_type": "markdown",
   "id": "be942dba",
   "metadata": {},
   "source": [
    "**C**) Return the total discharge from the full dataframe"
   ]
  },
  {
   "cell_type": "code",
   "execution_count": null,
   "id": "9cd1c41f",
   "metadata": {},
   "outputs": [],
   "source": []
  },
  {
   "cell_type": "markdown",
   "id": "52d1eff9",
   "metadata": {},
   "source": [
    "**D)** Return the mean values of all the columns for the first 15 rows"
   ]
  },
  {
   "cell_type": "code",
   "execution_count": null,
   "id": "7d9d4379",
   "metadata": {},
   "outputs": [],
   "source": []
  },
  {
   "cell_type": "markdown",
   "id": "a3dec889",
   "metadata": {},
   "source": [
    "#### Question 2\n",
    "\n",
    "Just like with dictionaries, the syntax for viewing a key (in dictionary)/column (in dataframe) is very similar to the syntax for creating a new key/column."
   ]
  },
  {
   "cell_type": "code",
   "execution_count": 13,
   "id": "6123a3d7",
   "metadata": {
    "scrolled": true
   },
   "outputs": [
    {
     "data": {
      "text/plain": [
       "1      8.1\n",
       "2      8.1\n",
       "3      8.1\n",
       "4      8.1\n",
       "5      8.1\n",
       "      ... \n",
       "142    6.7\n",
       "143    6.7\n",
       "144    6.7\n",
       "145    6.7\n",
       "146    6.6\n",
       "Name: temperature (C), Length: 146, dtype: float64"
      ]
     },
     "execution_count": 13,
     "metadata": {},
     "output_type": "execute_result"
    }
   ],
   "source": [
    "# Example: View a column\n",
    "water_vars['temperature (C)']"
   ]
  },
  {
   "cell_type": "code",
   "execution_count": 14,
   "id": "0c067e73",
   "metadata": {},
   "outputs": [],
   "source": [
    "# Example: Assign a column (Set all the values to 6)\n",
    "water_vars['temperature'] = 6"
   ]
  },
  {
   "cell_type": "markdown",
   "id": "7ae2dcb3",
   "metadata": {},
   "source": [
    "Create a new temperature column which is the the temperature of the water in farenheit.  Calculate the farenheit temperature using the celsius temperature in the `temperature (C)` column."
   ]
  },
  {
   "cell_type": "code",
   "execution_count": null,
   "id": "c363b918",
   "metadata": {},
   "outputs": [],
   "source": []
  },
  {
   "cell_type": "markdown",
   "id": "d1547c93",
   "metadata": {},
   "source": [
    "#### Question 3\n",
    "\n",
    "NaN values are an inevitable part of life when working with real data and its important to always be aware of them."
   ]
  },
  {
   "cell_type": "markdown",
   "id": "0bd72aca",
   "metadata": {},
   "source": [
    "**A)** Use the function `.isnull()` to create a table full off Boolean values, indicating if that value is NaN or not\n",
    "\n",
    "_[`.isnull()` doc page](https://pandas.pydata.org/pandas-docs/stable/reference/api/pandas.DataFrame.isnull.html?highlight=isnull#pandas.DataFrame.isnull)_"
   ]
  },
  {
   "cell_type": "code",
   "execution_count": 15,
   "id": "a70cb932",
   "metadata": {},
   "outputs": [],
   "source": [
    "# Run this line to make sure you will be able to see more rows in the output\n",
    "pd.set_option('display.min_rows', 40)"
   ]
  },
  {
   "cell_type": "code",
   "execution_count": 16,
   "id": "b3d26c53",
   "metadata": {
    "scrolled": true
   },
   "outputs": [
    {
     "data": {
      "text/html": [
       "<div>\n",
       "<style scoped>\n",
       "    .dataframe tbody tr th:only-of-type {\n",
       "        vertical-align: middle;\n",
       "    }\n",
       "\n",
       "    .dataframe tbody tr th {\n",
       "        vertical-align: top;\n",
       "    }\n",
       "\n",
       "    .dataframe thead th {\n",
       "        text-align: right;\n",
       "    }\n",
       "</style>\n",
       "<table border=\"1\" class=\"dataframe\">\n",
       "  <thead>\n",
       "    <tr style=\"text-align: right;\">\n",
       "      <th></th>\n",
       "      <th>datetime</th>\n",
       "      <th>discharge</th>\n",
       "      <th>temperature (C)</th>\n",
       "      <th>dissolved oxygen</th>\n",
       "      <th>pH</th>\n",
       "      <th>temperature</th>\n",
       "    </tr>\n",
       "  </thead>\n",
       "  <tbody>\n",
       "    <tr>\n",
       "      <th>1</th>\n",
       "      <td>False</td>\n",
       "      <td>False</td>\n",
       "      <td>False</td>\n",
       "      <td>False</td>\n",
       "      <td>False</td>\n",
       "      <td>False</td>\n",
       "    </tr>\n",
       "    <tr>\n",
       "      <th>2</th>\n",
       "      <td>False</td>\n",
       "      <td>False</td>\n",
       "      <td>False</td>\n",
       "      <td>False</td>\n",
       "      <td>False</td>\n",
       "      <td>False</td>\n",
       "    </tr>\n",
       "    <tr>\n",
       "      <th>3</th>\n",
       "      <td>False</td>\n",
       "      <td>False</td>\n",
       "      <td>False</td>\n",
       "      <td>False</td>\n",
       "      <td>False</td>\n",
       "      <td>False</td>\n",
       "    </tr>\n",
       "    <tr>\n",
       "      <th>4</th>\n",
       "      <td>False</td>\n",
       "      <td>False</td>\n",
       "      <td>False</td>\n",
       "      <td>False</td>\n",
       "      <td>False</td>\n",
       "      <td>False</td>\n",
       "    </tr>\n",
       "    <tr>\n",
       "      <th>5</th>\n",
       "      <td>False</td>\n",
       "      <td>False</td>\n",
       "      <td>False</td>\n",
       "      <td>False</td>\n",
       "      <td>False</td>\n",
       "      <td>False</td>\n",
       "    </tr>\n",
       "    <tr>\n",
       "      <th>6</th>\n",
       "      <td>False</td>\n",
       "      <td>False</td>\n",
       "      <td>False</td>\n",
       "      <td>False</td>\n",
       "      <td>False</td>\n",
       "      <td>False</td>\n",
       "    </tr>\n",
       "    <tr>\n",
       "      <th>7</th>\n",
       "      <td>False</td>\n",
       "      <td>False</td>\n",
       "      <td>False</td>\n",
       "      <td>False</td>\n",
       "      <td>False</td>\n",
       "      <td>False</td>\n",
       "    </tr>\n",
       "    <tr>\n",
       "      <th>8</th>\n",
       "      <td>False</td>\n",
       "      <td>False</td>\n",
       "      <td>False</td>\n",
       "      <td>False</td>\n",
       "      <td>False</td>\n",
       "      <td>False</td>\n",
       "    </tr>\n",
       "    <tr>\n",
       "      <th>9</th>\n",
       "      <td>False</td>\n",
       "      <td>False</td>\n",
       "      <td>False</td>\n",
       "      <td>False</td>\n",
       "      <td>False</td>\n",
       "      <td>False</td>\n",
       "    </tr>\n",
       "    <tr>\n",
       "      <th>10</th>\n",
       "      <td>False</td>\n",
       "      <td>False</td>\n",
       "      <td>False</td>\n",
       "      <td>False</td>\n",
       "      <td>False</td>\n",
       "      <td>False</td>\n",
       "    </tr>\n",
       "    <tr>\n",
       "      <th>11</th>\n",
       "      <td>False</td>\n",
       "      <td>False</td>\n",
       "      <td>False</td>\n",
       "      <td>False</td>\n",
       "      <td>False</td>\n",
       "      <td>False</td>\n",
       "    </tr>\n",
       "    <tr>\n",
       "      <th>12</th>\n",
       "      <td>False</td>\n",
       "      <td>False</td>\n",
       "      <td>False</td>\n",
       "      <td>False</td>\n",
       "      <td>False</td>\n",
       "      <td>False</td>\n",
       "    </tr>\n",
       "    <tr>\n",
       "      <th>13</th>\n",
       "      <td>False</td>\n",
       "      <td>False</td>\n",
       "      <td>False</td>\n",
       "      <td>False</td>\n",
       "      <td>False</td>\n",
       "      <td>False</td>\n",
       "    </tr>\n",
       "    <tr>\n",
       "      <th>14</th>\n",
       "      <td>False</td>\n",
       "      <td>False</td>\n",
       "      <td>False</td>\n",
       "      <td>False</td>\n",
       "      <td>False</td>\n",
       "      <td>False</td>\n",
       "    </tr>\n",
       "    <tr>\n",
       "      <th>15</th>\n",
       "      <td>False</td>\n",
       "      <td>False</td>\n",
       "      <td>False</td>\n",
       "      <td>False</td>\n",
       "      <td>False</td>\n",
       "      <td>False</td>\n",
       "    </tr>\n",
       "    <tr>\n",
       "      <th>16</th>\n",
       "      <td>False</td>\n",
       "      <td>False</td>\n",
       "      <td>False</td>\n",
       "      <td>False</td>\n",
       "      <td>False</td>\n",
       "      <td>False</td>\n",
       "    </tr>\n",
       "    <tr>\n",
       "      <th>17</th>\n",
       "      <td>False</td>\n",
       "      <td>False</td>\n",
       "      <td>False</td>\n",
       "      <td>False</td>\n",
       "      <td>False</td>\n",
       "      <td>False</td>\n",
       "    </tr>\n",
       "    <tr>\n",
       "      <th>18</th>\n",
       "      <td>False</td>\n",
       "      <td>False</td>\n",
       "      <td>True</td>\n",
       "      <td>False</td>\n",
       "      <td>False</td>\n",
       "      <td>False</td>\n",
       "    </tr>\n",
       "    <tr>\n",
       "      <th>19</th>\n",
       "      <td>False</td>\n",
       "      <td>False</td>\n",
       "      <td>False</td>\n",
       "      <td>False</td>\n",
       "      <td>False</td>\n",
       "      <td>False</td>\n",
       "    </tr>\n",
       "    <tr>\n",
       "      <th>20</th>\n",
       "      <td>False</td>\n",
       "      <td>False</td>\n",
       "      <td>False</td>\n",
       "      <td>False</td>\n",
       "      <td>False</td>\n",
       "      <td>False</td>\n",
       "    </tr>\n",
       "    <tr>\n",
       "      <th>...</th>\n",
       "      <td>...</td>\n",
       "      <td>...</td>\n",
       "      <td>...</td>\n",
       "      <td>...</td>\n",
       "      <td>...</td>\n",
       "      <td>...</td>\n",
       "    </tr>\n",
       "    <tr>\n",
       "      <th>127</th>\n",
       "      <td>False</td>\n",
       "      <td>False</td>\n",
       "      <td>False</td>\n",
       "      <td>False</td>\n",
       "      <td>False</td>\n",
       "      <td>False</td>\n",
       "    </tr>\n",
       "    <tr>\n",
       "      <th>128</th>\n",
       "      <td>False</td>\n",
       "      <td>False</td>\n",
       "      <td>False</td>\n",
       "      <td>False</td>\n",
       "      <td>False</td>\n",
       "      <td>False</td>\n",
       "    </tr>\n",
       "    <tr>\n",
       "      <th>129</th>\n",
       "      <td>False</td>\n",
       "      <td>False</td>\n",
       "      <td>False</td>\n",
       "      <td>False</td>\n",
       "      <td>False</td>\n",
       "      <td>False</td>\n",
       "    </tr>\n",
       "    <tr>\n",
       "      <th>130</th>\n",
       "      <td>False</td>\n",
       "      <td>False</td>\n",
       "      <td>False</td>\n",
       "      <td>False</td>\n",
       "      <td>False</td>\n",
       "      <td>False</td>\n",
       "    </tr>\n",
       "    <tr>\n",
       "      <th>131</th>\n",
       "      <td>False</td>\n",
       "      <td>False</td>\n",
       "      <td>False</td>\n",
       "      <td>False</td>\n",
       "      <td>False</td>\n",
       "      <td>False</td>\n",
       "    </tr>\n",
       "    <tr>\n",
       "      <th>132</th>\n",
       "      <td>False</td>\n",
       "      <td>False</td>\n",
       "      <td>False</td>\n",
       "      <td>False</td>\n",
       "      <td>False</td>\n",
       "      <td>False</td>\n",
       "    </tr>\n",
       "    <tr>\n",
       "      <th>133</th>\n",
       "      <td>False</td>\n",
       "      <td>False</td>\n",
       "      <td>False</td>\n",
       "      <td>False</td>\n",
       "      <td>False</td>\n",
       "      <td>False</td>\n",
       "    </tr>\n",
       "    <tr>\n",
       "      <th>134</th>\n",
       "      <td>False</td>\n",
       "      <td>False</td>\n",
       "      <td>False</td>\n",
       "      <td>False</td>\n",
       "      <td>False</td>\n",
       "      <td>False</td>\n",
       "    </tr>\n",
       "    <tr>\n",
       "      <th>135</th>\n",
       "      <td>False</td>\n",
       "      <td>False</td>\n",
       "      <td>False</td>\n",
       "      <td>False</td>\n",
       "      <td>False</td>\n",
       "      <td>False</td>\n",
       "    </tr>\n",
       "    <tr>\n",
       "      <th>136</th>\n",
       "      <td>False</td>\n",
       "      <td>False</td>\n",
       "      <td>False</td>\n",
       "      <td>False</td>\n",
       "      <td>False</td>\n",
       "      <td>False</td>\n",
       "    </tr>\n",
       "    <tr>\n",
       "      <th>137</th>\n",
       "      <td>False</td>\n",
       "      <td>False</td>\n",
       "      <td>False</td>\n",
       "      <td>False</td>\n",
       "      <td>False</td>\n",
       "      <td>False</td>\n",
       "    </tr>\n",
       "    <tr>\n",
       "      <th>138</th>\n",
       "      <td>False</td>\n",
       "      <td>False</td>\n",
       "      <td>False</td>\n",
       "      <td>False</td>\n",
       "      <td>False</td>\n",
       "      <td>False</td>\n",
       "    </tr>\n",
       "    <tr>\n",
       "      <th>139</th>\n",
       "      <td>False</td>\n",
       "      <td>False</td>\n",
       "      <td>False</td>\n",
       "      <td>False</td>\n",
       "      <td>False</td>\n",
       "      <td>False</td>\n",
       "    </tr>\n",
       "    <tr>\n",
       "      <th>140</th>\n",
       "      <td>False</td>\n",
       "      <td>False</td>\n",
       "      <td>False</td>\n",
       "      <td>False</td>\n",
       "      <td>False</td>\n",
       "      <td>False</td>\n",
       "    </tr>\n",
       "    <tr>\n",
       "      <th>141</th>\n",
       "      <td>False</td>\n",
       "      <td>False</td>\n",
       "      <td>False</td>\n",
       "      <td>False</td>\n",
       "      <td>False</td>\n",
       "      <td>False</td>\n",
       "    </tr>\n",
       "    <tr>\n",
       "      <th>142</th>\n",
       "      <td>False</td>\n",
       "      <td>False</td>\n",
       "      <td>False</td>\n",
       "      <td>False</td>\n",
       "      <td>False</td>\n",
       "      <td>False</td>\n",
       "    </tr>\n",
       "    <tr>\n",
       "      <th>143</th>\n",
       "      <td>False</td>\n",
       "      <td>False</td>\n",
       "      <td>False</td>\n",
       "      <td>False</td>\n",
       "      <td>False</td>\n",
       "      <td>False</td>\n",
       "    </tr>\n",
       "    <tr>\n",
       "      <th>144</th>\n",
       "      <td>False</td>\n",
       "      <td>False</td>\n",
       "      <td>False</td>\n",
       "      <td>False</td>\n",
       "      <td>False</td>\n",
       "      <td>False</td>\n",
       "    </tr>\n",
       "    <tr>\n",
       "      <th>145</th>\n",
       "      <td>False</td>\n",
       "      <td>False</td>\n",
       "      <td>False</td>\n",
       "      <td>False</td>\n",
       "      <td>False</td>\n",
       "      <td>False</td>\n",
       "    </tr>\n",
       "    <tr>\n",
       "      <th>146</th>\n",
       "      <td>False</td>\n",
       "      <td>True</td>\n",
       "      <td>False</td>\n",
       "      <td>False</td>\n",
       "      <td>False</td>\n",
       "      <td>False</td>\n",
       "    </tr>\n",
       "  </tbody>\n",
       "</table>\n",
       "<p>146 rows × 6 columns</p>\n",
       "</div>"
      ],
      "text/plain": [
       "     datetime  discharge  temperature (C)  dissolved oxygen     pH  \\\n",
       "1       False      False            False             False  False   \n",
       "2       False      False            False             False  False   \n",
       "3       False      False            False             False  False   \n",
       "4       False      False            False             False  False   \n",
       "5       False      False            False             False  False   \n",
       "6       False      False            False             False  False   \n",
       "7       False      False            False             False  False   \n",
       "8       False      False            False             False  False   \n",
       "9       False      False            False             False  False   \n",
       "10      False      False            False             False  False   \n",
       "11      False      False            False             False  False   \n",
       "12      False      False            False             False  False   \n",
       "13      False      False            False             False  False   \n",
       "14      False      False            False             False  False   \n",
       "15      False      False            False             False  False   \n",
       "16      False      False            False             False  False   \n",
       "17      False      False            False             False  False   \n",
       "18      False      False             True             False  False   \n",
       "19      False      False            False             False  False   \n",
       "20      False      False            False             False  False   \n",
       "..        ...        ...              ...               ...    ...   \n",
       "127     False      False            False             False  False   \n",
       "128     False      False            False             False  False   \n",
       "129     False      False            False             False  False   \n",
       "130     False      False            False             False  False   \n",
       "131     False      False            False             False  False   \n",
       "132     False      False            False             False  False   \n",
       "133     False      False            False             False  False   \n",
       "134     False      False            False             False  False   \n",
       "135     False      False            False             False  False   \n",
       "136     False      False            False             False  False   \n",
       "137     False      False            False             False  False   \n",
       "138     False      False            False             False  False   \n",
       "139     False      False            False             False  False   \n",
       "140     False      False            False             False  False   \n",
       "141     False      False            False             False  False   \n",
       "142     False      False            False             False  False   \n",
       "143     False      False            False             False  False   \n",
       "144     False      False            False             False  False   \n",
       "145     False      False            False             False  False   \n",
       "146     False       True            False             False  False   \n",
       "\n",
       "     temperature  \n",
       "1          False  \n",
       "2          False  \n",
       "3          False  \n",
       "4          False  \n",
       "5          False  \n",
       "6          False  \n",
       "7          False  \n",
       "8          False  \n",
       "9          False  \n",
       "10         False  \n",
       "11         False  \n",
       "12         False  \n",
       "13         False  \n",
       "14         False  \n",
       "15         False  \n",
       "16         False  \n",
       "17         False  \n",
       "18         False  \n",
       "19         False  \n",
       "20         False  \n",
       "..           ...  \n",
       "127        False  \n",
       "128        False  \n",
       "129        False  \n",
       "130        False  \n",
       "131        False  \n",
       "132        False  \n",
       "133        False  \n",
       "134        False  \n",
       "135        False  \n",
       "136        False  \n",
       "137        False  \n",
       "138        False  \n",
       "139        False  \n",
       "140        False  \n",
       "141        False  \n",
       "142        False  \n",
       "143        False  \n",
       "144        False  \n",
       "145        False  \n",
       "146        False  \n",
       "\n",
       "[146 rows x 6 columns]"
      ]
     },
     "execution_count": 16,
     "metadata": {},
     "output_type": "execute_result"
    }
   ],
   "source": [
    "water_vars.isnull()"
   ]
  },
  {
   "cell_type": "code",
   "execution_count": 17,
   "id": "7ff09c1a",
   "metadata": {},
   "outputs": [],
   "source": [
    "# Run this line after this problem if you'd like to reset your output display\n",
    "pd.set_option('display.min_rows', 10)"
   ]
  },
  {
   "cell_type": "markdown",
   "id": "e8cdf683",
   "metadata": {},
   "source": [
    "**B)** Use the [`.dropna()`](https://pandas.pydata.org/docs/reference/api/pandas.DataFrame.dropna.html) method to replace all of the columns that have any NaN values.  (_That will require an argument in the function._)"
   ]
  },
  {
   "cell_type": "code",
   "execution_count": null,
   "id": "78bf9590",
   "metadata": {},
   "outputs": [],
   "source": []
  },
  {
   "cell_type": "markdown",
   "id": "a7969a74",
   "metadata": {},
   "source": [
    "**C)** Drop any rows that have NaN values.  Assign that dataframe to a new variable called `water_vars_nonan`."
   ]
  },
  {
   "cell_type": "code",
   "execution_count": null,
   "id": "3e8136d0",
   "metadata": {},
   "outputs": [],
   "source": []
  },
  {
   "cell_type": "markdown",
   "id": "1c81b666",
   "metadata": {},
   "source": [
    "**D)** Replace all of the NaN values in this dataframe with a different value to indicate NaN: -999."
   ]
  },
  {
   "cell_type": "code",
   "execution_count": null,
   "id": "5ab88b17",
   "metadata": {},
   "outputs": [],
   "source": []
  },
  {
   "cell_type": "markdown",
   "id": "1915c83e",
   "metadata": {},
   "source": [
    "_Google hint: try \"pandas dataframe replace null values\"_\n",
    "\n",
    "_Stronger hint: [here's a page](https://www.geeksforgeeks.org/python-pandas-dataframe-fillna-to-replace-null-values-in-dataframe/)_"
   ]
  },
  {
   "cell_type": "markdown",
   "id": "d5ad0c92",
   "metadata": {},
   "source": [
    "(After completing this problem please re-run the original data import cells at the top of Part 2 to set your data back to using NaNs.)"
   ]
  },
  {
   "cell_type": "markdown",
   "id": "98133ecf",
   "metadata": {},
   "source": [
    "#### Question 4\n",
    "\n",
    "Sort the rows in the dataframe by discharge, with the largest discharge on the top (descending order).  "
   ]
  },
  {
   "cell_type": "code",
   "execution_count": null,
   "id": "ab714b3b",
   "metadata": {},
   "outputs": [],
   "source": []
  },
  {
   "cell_type": "code",
   "execution_count": 18,
   "id": "91f10b2b",
   "metadata": {
    "scrolled": true
   },
   "outputs": [
    {
     "data": {
      "text/html": [
       "<div>\n",
       "<style scoped>\n",
       "    .dataframe tbody tr th:only-of-type {\n",
       "        vertical-align: middle;\n",
       "    }\n",
       "\n",
       "    .dataframe tbody tr th {\n",
       "        vertical-align: top;\n",
       "    }\n",
       "\n",
       "    .dataframe thead th {\n",
       "        text-align: right;\n",
       "    }\n",
       "</style>\n",
       "<table border=\"1\" class=\"dataframe\">\n",
       "  <thead>\n",
       "    <tr style=\"text-align: right;\">\n",
       "      <th></th>\n",
       "      <th>datetime</th>\n",
       "      <th>discharge</th>\n",
       "      <th>temperature (C)</th>\n",
       "      <th>dissolved oxygen</th>\n",
       "      <th>pH</th>\n",
       "      <th>temperature</th>\n",
       "    </tr>\n",
       "  </thead>\n",
       "  <tbody>\n",
       "    <tr>\n",
       "      <th>30</th>\n",
       "      <td>2021-03-12 07:15</td>\n",
       "      <td>48.5</td>\n",
       "      <td>6.9</td>\n",
       "      <td>8.2</td>\n",
       "      <td>7.9</td>\n",
       "      <td>6</td>\n",
       "    </tr>\n",
       "    <tr>\n",
       "      <th>26</th>\n",
       "      <td>2021-03-12 06:15</td>\n",
       "      <td>48.5</td>\n",
       "      <td>7.1</td>\n",
       "      <td>8.1</td>\n",
       "      <td>8.0</td>\n",
       "      <td>6</td>\n",
       "    </tr>\n",
       "    <tr>\n",
       "      <th>23</th>\n",
       "      <td>2021-03-12 05:30</td>\n",
       "      <td>48.5</td>\n",
       "      <td>7.3</td>\n",
       "      <td>8.1</td>\n",
       "      <td>8.0</td>\n",
       "      <td>6</td>\n",
       "    </tr>\n",
       "    <tr>\n",
       "      <th>24</th>\n",
       "      <td>2021-03-12 05:45</td>\n",
       "      <td>48.5</td>\n",
       "      <td>7.3</td>\n",
       "      <td>8.1</td>\n",
       "      <td>8.0</td>\n",
       "      <td>6</td>\n",
       "    </tr>\n",
       "    <tr>\n",
       "      <th>34</th>\n",
       "      <td>2021-03-12 08:15</td>\n",
       "      <td>48.5</td>\n",
       "      <td>6.7</td>\n",
       "      <td>8.4</td>\n",
       "      <td>7.9</td>\n",
       "      <td>6</td>\n",
       "    </tr>\n",
       "    <tr>\n",
       "      <th>...</th>\n",
       "      <td>...</td>\n",
       "      <td>...</td>\n",
       "      <td>...</td>\n",
       "      <td>...</td>\n",
       "      <td>...</td>\n",
       "      <td>...</td>\n",
       "    </tr>\n",
       "    <tr>\n",
       "      <th>62</th>\n",
       "      <td>2021-03-12 15:15</td>\n",
       "      <td>39.0</td>\n",
       "      <td>8.4</td>\n",
       "      <td>13.0</td>\n",
       "      <td>8.2</td>\n",
       "      <td>6</td>\n",
       "    </tr>\n",
       "    <tr>\n",
       "      <th>60</th>\n",
       "      <td>2021-03-12 14:45</td>\n",
       "      <td>39.0</td>\n",
       "      <td>8.3</td>\n",
       "      <td>12.8</td>\n",
       "      <td>8.2</td>\n",
       "      <td>6</td>\n",
       "    </tr>\n",
       "    <tr>\n",
       "      <th>59</th>\n",
       "      <td>2021-03-12 14:30</td>\n",
       "      <td>39.0</td>\n",
       "      <td>8.1</td>\n",
       "      <td>12.7</td>\n",
       "      <td>8.2</td>\n",
       "      <td>6</td>\n",
       "    </tr>\n",
       "    <tr>\n",
       "      <th>61</th>\n",
       "      <td>2021-03-12 15:00</td>\n",
       "      <td>39.0</td>\n",
       "      <td>8.4</td>\n",
       "      <td>12.9</td>\n",
       "      <td>8.2</td>\n",
       "      <td>6</td>\n",
       "    </tr>\n",
       "    <tr>\n",
       "      <th>146</th>\n",
       "      <td>2021-03-13 12:15</td>\n",
       "      <td>NaN</td>\n",
       "      <td>6.6</td>\n",
       "      <td>10.3</td>\n",
       "      <td>7.9</td>\n",
       "      <td>6</td>\n",
       "    </tr>\n",
       "  </tbody>\n",
       "</table>\n",
       "<p>146 rows × 6 columns</p>\n",
       "</div>"
      ],
      "text/plain": [
       "             datetime  discharge  temperature (C)  dissolved oxygen   pH  \\\n",
       "30   2021-03-12 07:15       48.5              6.9               8.2  7.9   \n",
       "26   2021-03-12 06:15       48.5              7.1               8.1  8.0   \n",
       "23   2021-03-12 05:30       48.5              7.3               8.1  8.0   \n",
       "24   2021-03-12 05:45       48.5              7.3               8.1  8.0   \n",
       "34   2021-03-12 08:15       48.5              6.7               8.4  7.9   \n",
       "..                ...        ...              ...               ...  ...   \n",
       "62   2021-03-12 15:15       39.0              8.4              13.0  8.2   \n",
       "60   2021-03-12 14:45       39.0              8.3              12.8  8.2   \n",
       "59   2021-03-12 14:30       39.0              8.1              12.7  8.2   \n",
       "61   2021-03-12 15:00       39.0              8.4              12.9  8.2   \n",
       "146  2021-03-13 12:15        NaN              6.6              10.3  7.9   \n",
       "\n",
       "     temperature  \n",
       "30             6  \n",
       "26             6  \n",
       "23             6  \n",
       "24             6  \n",
       "34             6  \n",
       "..           ...  \n",
       "62             6  \n",
       "60             6  \n",
       "59             6  \n",
       "61             6  \n",
       "146            6  \n",
       "\n",
       "[146 rows x 6 columns]"
      ]
     },
     "execution_count": 18,
     "metadata": {},
     "output_type": "execute_result"
    }
   ],
   "source": [
    "water_vars.sort_values(by='discharge', ascending=False)"
   ]
  },
  {
   "cell_type": "markdown",
   "id": "efa5efc2",
   "metadata": {},
   "source": [
    "_Google support: \"pandas sort values\" search.  Or, [this stackoverflow article](https://stackoverflow.com/questions/37787698/how-to-sort-pandas-dataframe-from-one-column) would be helpful, the second answer in particular._"
   ]
  },
  {
   "cell_type": "code",
   "execution_count": null,
   "id": "a7833102",
   "metadata": {},
   "outputs": [],
   "source": []
  },
  {
   "cell_type": "markdown",
   "id": "b1d0abaf",
   "metadata": {},
   "source": [
    "#### Question 5"
   ]
  },
  {
   "cell_type": "markdown",
   "id": "42dd127d",
   "metadata": {},
   "source": [
    "Before doing question 5 run the following lines of code.  This will format our data a little nicer for this problem."
   ]
  },
  {
   "cell_type": "code",
   "execution_count": 19,
   "id": "285d24b0",
   "metadata": {},
   "outputs": [],
   "source": [
    "# Set a new index.  Instead of integers 0+, use the datetime instead\n",
    "water_vars = water_vars.set_index(pd.to_datetime(water_vars['datetime']))\n",
    "# Drop the old datetime column\n",
    "water_vars = water_vars.drop(columns='datetime')"
   ]
  },
  {
   "cell_type": "markdown",
   "id": "4a27bf15",
   "metadata": {},
   "source": [
    "**A)** While there isn't a lot of control in it, we can use the dataframe method `.plot()` to make quick plots of our data.  This isn't the way you would make plots for presentations, but it can still be useful sometimes to help us get a sense of our data.\n",
    "\n",
    "Try ising the `.plot()` method on the dataframe to make a quick plot. (Example: `forecast.plot()`, where `forecast` is the dataframe)"
   ]
  },
  {
   "cell_type": "code",
   "execution_count": 20,
   "id": "f6850385",
   "metadata": {},
   "outputs": [
    {
     "data": {
      "text/plain": [
       "<AxesSubplot:xlabel='datetime'>"
      ]
     },
     "execution_count": 20,
     "metadata": {},
     "output_type": "execute_result"
    },
    {
     "data": {
      "image/png": "[encoded data removed]",
      "text/plain": [
       "<Figure size 432x288 with 1 Axes>"
      ]
     },
     "metadata": {
      "needs_background": "light"
     },
     "output_type": "display_data"
    }
   ],
   "source": [
    "water_vars.plot()"
   ]
  },
  {
   "cell_type": "markdown",
   "id": "4cca57c7",
   "metadata": {},
   "source": [
    "**B)** `.plot()` also works on a single Series.  Try making a plot for just the disolved oxygen variable."
   ]
  },
  {
   "cell_type": "code",
   "execution_count": null,
   "id": "f0b59c17",
   "metadata": {},
   "outputs": [],
   "source": []
  },
  {
   "cell_type": "code",
   "execution_count": 21,
   "id": "fee2fbd1",
   "metadata": {},
   "outputs": [
    {
     "data": {
      "text/plain": [
       "<AxesSubplot:xlabel='datetime'>"
      ]
     },
     "execution_count": 21,
     "metadata": {},
     "output_type": "execute_result"
    },
    {
     "data": {
      "image/png": "[encoded data removed]",
      "text/plain": [
       "<Figure size 432x288 with 1 Axes>"
      ]
     },
     "metadata": {
      "needs_background": "light"
     },
     "output_type": "display_data"
    }
   ],
   "source": [
    "water_vars['dissolved oxygen'].plot()"
   ]
  },
  {
   "cell_type": "markdown",
   "id": "0865f708",
   "metadata": {},
   "source": [
    "**C)** Looking at the first plot of all the variables we can see that discharge values are so high it shifts the graph so the other variables can't be seen as well.\n",
    "\n",
    "Create a plot that shows all the variables except for discharge.  You can use the following line of code, which I used in the data cleaning lines for this problem, as a guide for dropping a single column from a dataframe:\n",
    "\n",
    "```\n",
    "# Droppping a single column, \"datetime\" from the water_vars dataframe\n",
    "water_vars.drop(columns='datetime')\n",
    "```"
   ]
  },
  {
   "cell_type": "code",
   "execution_count": 22,
   "id": "30c727a9",
   "metadata": {},
   "outputs": [
    {
     "data": {
      "text/plain": [
       "<AxesSubplot:xlabel='datetime'>"
      ]
     },
     "execution_count": 22,
     "metadata": {},
     "output_type": "execute_result"
    },
    {
     "data": {
      "image/png": "[encoded data removed]",
      "text/plain": [
       "<Figure size 432x288 with 1 Axes>"
      ]
     },
     "metadata": {
      "needs_background": "light"
     },
     "output_type": "display_data"
    }
   ],
   "source": [
    "water_vars.drop(columns='discharge').plot()"
   ]
  },
  {
   "cell_type": "code",
   "execution_count": null,
   "id": "f99900d7",
   "metadata": {},
   "outputs": [],
   "source": []
  }
 ],
 "metadata": {
  "kernelspec": {
   "display_name": "Python 3",
   "language": "python",
   "name": "python3"
  },
  "language_info": {
   "codemirror_mode": {
    "name": "ipython",
    "version": 3
   },
   "file_extension": ".py",
   "mimetype": "text/x-python",
   "name": "python",
   "nbconvert_exporter": "python",
   "pygments_lexer": "ipython3",
   "version": "3.8.8"
  }
 },
 "nbformat": 4,
 "nbformat_minor": 5
}
