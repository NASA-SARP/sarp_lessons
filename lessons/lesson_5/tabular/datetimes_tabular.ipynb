{
 "cells": [
  {
   "cell_type": "markdown",
   "id": "344755f3",
   "metadata": {},
   "source": [
    "# Tabular Data, Week 3 Lesson 1\n",
    "Monday June 27th"
   ]
  },
  {
   "cell_type": "markdown",
   "id": "9de2631f",
   "metadata": {},
   "source": [
    "## Contents\n",
    "\n",
    "- Dates\n",
    "- Datetimes\n",
    "- Timedeltas"
   ]
  },
  {
   "cell_type": "markdown",
   "id": "9aa8c01d",
   "metadata": {},
   "source": [
    "## Context\n",
    "Dates and times are a common part of working with scientific data.  They are very common fields.  While dates and times are commonly represented as strings, you can also represent them using Python-specific objects that come with added functionality specific to dates and times."
   ]
  },
  {
   "cell_type": "markdown",
   "id": "d66f6ba3",
   "metadata": {},
   "source": [
    "## Python library `datetime`\n",
    "\n",
    "The `datetime` library has three major components:\n",
    "1. `date()` - for handling a date (Ex. 2021-06-28)\n",
    "2. `datetime()` - for handling a specific time of a particular date (Ex. 2021-06-28 at 12:31pm)\n",
    "3. `timedelta()` - for handling a length of time (Ex. 1 hour, 2 weeks, 3.5 years)"
   ]
  },
  {
   "cell_type": "markdown",
   "id": "76083325",
   "metadata": {},
   "source": [
    "## Dates"
   ]
  },
  {
   "cell_type": "code",
   "execution_count": 1,
   "id": "7ce6597c",
   "metadata": {},
   "outputs": [],
   "source": [
    "# from datetime import date"
   ]
  },
  {
   "cell_type": "code",
   "execution_count": 2,
   "id": "42c11ff9",
   "metadata": {
    "scrolled": true
   },
   "outputs": [],
   "source": [
    "# date(2017, 6, 30)"
   ]
  },
  {
   "cell_type": "code",
   "execution_count": 3,
   "id": "4c1a5da8",
   "metadata": {},
   "outputs": [],
   "source": [
    "# assigning a date to a variable\n",
    "# birthday = date(2019, 9, 12)"
   ]
  },
  {
   "cell_type": "markdown",
   "id": "c92c073a",
   "metadata": {},
   "source": [
    "#### Why bother?\n",
    "The dates are nice, but why put in the effort?  Your data by default probably uses a string, for example `2016-06-30`, so why not stick with that?\n",
    "\n",
    "**Reason 1**\n",
    "> If Python knows it's a date it can help you find errors."
   ]
  },
  {
   "cell_type": "code",
   "execution_count": 4,
   "id": "c06c326e",
   "metadata": {},
   "outputs": [],
   "source": [
    "# date(2017, 6, 31)"
   ]
  },
  {
   "cell_type": "code",
   "execution_count": 5,
   "id": "a6408bf9",
   "metadata": {},
   "outputs": [],
   "source": [
    "# date(2012,2, 29)"
   ]
  },
  {
   "cell_type": "code",
   "execution_count": 6,
   "id": "6a2fcb15",
   "metadata": {
    "scrolled": true
   },
   "outputs": [],
   "source": [
    "# date(2011, 2, 29)"
   ]
  },
  {
   "cell_type": "markdown",
   "id": "5751e5e4",
   "metadata": {},
   "source": [
    "**Reason 2**\n",
    "> Added organization through quick accessing of elements.\n",
    "\n",
    "We'll talk about this more below."
   ]
  },
  {
   "cell_type": "markdown",
   "id": "b7f03e19",
   "metadata": {},
   "source": [
    "### Accessing parts of a date\n",
    "\n",
    "Once you have a date created you can easily pull out the piece you want."
   ]
  },
  {
   "cell_type": "code",
   "execution_count": 7,
   "id": "318b6f58",
   "metadata": {},
   "outputs": [],
   "source": [
    "# campaign_start = date(2011, 5, 15)"
   ]
  },
  {
   "cell_type": "code",
   "execution_count": 8,
   "id": "127b4fec",
   "metadata": {},
   "outputs": [],
   "source": [
    "# campaign_start.month"
   ]
  },
  {
   "cell_type": "code",
   "execution_count": 9,
   "id": "a687f2c6",
   "metadata": {},
   "outputs": [],
   "source": [
    "# Monday is 0 and Sunday is 6\n",
    "# campaign_start.weekday()"
   ]
  },
  {
   "cell_type": "markdown",
   "id": "b258ab8c",
   "metadata": {},
   "source": [
    "### Using `dates()` with other objects\n",
    "You can do what you want with these objects, such as putting them in lists or dictionaries."
   ]
  },
  {
   "cell_type": "code",
   "execution_count": 10,
   "id": "f74047ac",
   "metadata": {},
   "outputs": [],
   "source": [
    "# holidays = [date(2021, 1, 1), date(2021, 1, 18), date(2021, 11, 25)]\n",
    "# holidays_dict = {\n",
    "#     'New Years Day': date(2021, 1, 1),\n",
    "#     'MLK Day': date(2021, 1, 18),\n",
    "#     'Thanksgiving': date(2021, 11, 25),\n",
    "# }"
   ]
  },
  {
   "cell_type": "code",
   "execution_count": 11,
   "id": "40cef9a4",
   "metadata": {},
   "outputs": [],
   "source": [
    "# holidays_dict['Thanksgiving']"
   ]
  },
  {
   "cell_type": "markdown",
   "id": "29f08d62",
   "metadata": {},
   "source": [
    "### A comment on calendars\n",
    "\n",
    "Turns out there are actually lots of different calendars that can be used to track time.  The one you are most likely familiar with is the Gregorian calendar (using years, months, and days).  Another common one that you will use is a Julian calendar, which starts on January 1st and counts the days one by one.\n",
    "\n",
    "If you use model data you will also find more types of calendars, such as `365_day` (just ignores leap days) or `360_day` (every month has 30 days).\n",
    "\n",
    "<img src=\"https://imgs.xkcd.com/comics/leap_smearing.png\" width=350>\n"
   ]
  },
  {
   "cell_type": "markdown",
   "id": "ba81ed7b",
   "metadata": {},
   "source": [
    "### 📝 Checking In\n",
    "\n",
    "[link](https://pollev.com/rachelwegene375)\n",
    "\n",
    "```\n",
    "holidays_dict = {\n",
    "    'New Years Day': date(2021, 1, 1),\n",
    "    'MLK Day': date(2021, 1, 18),\n",
    "    'Thanksgiving': date(2021, 11, 25),\n",
    "}\n",
    "```\n",
    "\n",
    "What is the output of `holidays_dict['MLK Day'].day`?\n"
   ]
  },
  {
   "cell_type": "markdown",
   "id": "55cd254a",
   "metadata": {},
   "source": [
    "## Datetimes"
   ]
  },
  {
   "cell_type": "markdown",
   "id": "04225cf5",
   "metadata": {},
   "source": [
    "### Creating `datetime()` objects manually"
   ]
  },
  {
   "cell_type": "code",
   "execution_count": 12,
   "id": "8a40e0ae",
   "metadata": {},
   "outputs": [],
   "source": [
    "# from datetime import datetime"
   ]
  },
  {
   "cell_type": "code",
   "execution_count": 13,
   "id": "ede19c83",
   "metadata": {},
   "outputs": [],
   "source": [
    "# Created just like `date` objects\n",
    "# datetime(2021, 9, 21, 13, 45, 0)"
   ]
  },
  {
   "cell_type": "markdown",
   "id": "0b729d6b",
   "metadata": {},
   "source": [
    "We have the same ability as with `date()`s to access the different parts of the datetime object.  One place this could come in handy is if we need to narrow down our data by some aspect of the date."
   ]
  },
  {
   "cell_type": "code",
   "execution_count": 14,
   "id": "551e4c4a",
   "metadata": {},
   "outputs": [],
   "source": [
    "# example = datetime(2021, 9, 21, 13, 45, 0)\n",
    "# if example.hour >= 12 and example.hour <= 18:\n",
    "#     print('sample taken in the afternoon')"
   ]
  },
  {
   "cell_type": "markdown",
   "id": "41e61add",
   "metadata": {},
   "source": [
    "### A comment on timezones\n",
    "\n",
    "The `datetime` library also has the ability to keep track and convert timezones.  Timezones can cause a lot of chaos in the data world.  We aren't going to talk about them in depth but know that if you need to track timezones for whatever reason `datetime` can handle that."
   ]
  },
  {
   "cell_type": "markdown",
   "id": "23a4c2f1",
   "metadata": {},
   "source": [
    "## Creating `date()`s and `datetime()`s from strings"
   ]
  },
  {
   "cell_type": "markdown",
   "id": "052c94dd",
   "metadata": {},
   "source": [
    "Thus far we have created our time objects by inputing the integer number of the year, month, etc.  Much more commonly, though, you aren't creating them from scratch, you are creating them from a string.  For that we have `strptime` and `strftime`.\n",
    "\n",
    "| Syntax      | Description |\n",
    "| :-----------: | :-----------: |\n",
    "| `datetime.strptime()`      | Convert from string to datetime       |\n",
    "| `DATETIME_OBJECT.strftime()`   | Convert from datetime to string       |\n",
    "\n",
    "All of the following strings can be converted programatically into datetime objects:\n",
    "* `'2019-01-29'`\n",
    "* `'01-31-88'`\n",
    "* `'September 12 7:00PM'`\n",
    "* `'Apr 11 2001 13:00:00'`\n",
    "* `'210 9:00'`\n",
    "* And so many other combinations"
   ]
  },
  {
   "cell_type": "markdown",
   "id": "ebed2bdb",
   "metadata": {},
   "source": [
    "The key part of converting from string to datetime and vice versa is that we need to tell the computer what is supposed to be looking for in the string.  For that we have labels, or directives, such as `%Y` or `%d`.  The place to consult for format strings is [strftime.org](https://strftime.org/)."
   ]
  },
  {
   "cell_type": "markdown",
   "id": "d954334d",
   "metadata": {},
   "source": [
    "#### Example 1"
   ]
  },
  {
   "cell_type": "code",
   "execution_count": 15,
   "id": "dc095b9f",
   "metadata": {},
   "outputs": [],
   "source": [
    "# date_string = '2019-01-29'"
   ]
  },
  {
   "cell_type": "code",
   "execution_count": null,
   "id": "09dbe727",
   "metadata": {},
   "outputs": [],
   "source": []
  },
  {
   "cell_type": "markdown",
   "id": "f1424446",
   "metadata": {},
   "source": [
    "#### Example 2"
   ]
  },
  {
   "cell_type": "code",
   "execution_count": 16,
   "id": "b57a0dfc",
   "metadata": {},
   "outputs": [],
   "source": [
    "# date_string = 'Apr 11 2001 13:00:00'"
   ]
  },
  {
   "cell_type": "code",
   "execution_count": null,
   "id": "a19337dc",
   "metadata": {},
   "outputs": [],
   "source": []
  },
  {
   "cell_type": "markdown",
   "id": "36fcf7b0",
   "metadata": {},
   "source": [
    "#### Example 3\n",
    "\n",
    "_Switching date formats_"
   ]
  },
  {
   "cell_type": "code",
   "execution_count": 17,
   "id": "4c62a039",
   "metadata": {},
   "outputs": [],
   "source": [
    "# start_date_string = '2016234'"
   ]
  },
  {
   "cell_type": "code",
   "execution_count": null,
   "id": "a55b8495",
   "metadata": {},
   "outputs": [],
   "source": []
  },
  {
   "cell_type": "code",
   "execution_count": 18,
   "id": "b449cea7",
   "metadata": {},
   "outputs": [],
   "source": [
    "# Goal: '2016-08-21 00:00:00'"
   ]
  },
  {
   "cell_type": "markdown",
   "id": "d2a35b49",
   "metadata": {},
   "source": [
    "### 📝 Checking In\n",
    "\n",
    "[link](https://pollev.com/rachelwegene375)\n",
    "\n",
    "What is the format string corresponding to the following datetime string?\n",
    "\n",
    "`'8/30/2019 22:13:00'`, which shows the date August 30th 2019 at 10:13PM (military time).\n"
   ]
  },
  {
   "cell_type": "markdown",
   "id": "39b06a76",
   "metadata": {},
   "source": [
    "## `timedelta()` objects"
   ]
  },
  {
   "cell_type": "markdown",
   "id": "4590cf34",
   "metadata": {},
   "source": [
    "While `date()`sand `datetime()`s represent a specific moment in time, `timedelta()`s represent a length of time, for example, one week, two hours, or 15 seconds.  They aren't connected to any particular moment, they just represent a set length of time."
   ]
  },
  {
   "cell_type": "code",
   "execution_count": 19,
   "id": "457426f7",
   "metadata": {},
   "outputs": [],
   "source": [
    "# from datetime import timedelta"
   ]
  },
  {
   "cell_type": "code",
   "execution_count": 20,
   "id": "d49ea636",
   "metadata": {},
   "outputs": [],
   "source": [
    "# Representing 3 days\n",
    "# timedelta(days=3)"
   ]
  },
  {
   "cell_type": "code",
   "execution_count": 21,
   "id": "9820e94d",
   "metadata": {},
   "outputs": [],
   "source": [
    "# date.today() + timedelta(days=3)"
   ]
  },
  {
   "cell_type": "code",
   "execution_count": 22,
   "id": "fc12ec23",
   "metadata": {},
   "outputs": [],
   "source": [
    "# Negatives also work\n",
    "# date.today() + timedelta(days=-3)"
   ]
  },
  {
   "cell_type": "markdown",
   "id": "4d945f06",
   "metadata": {},
   "source": [
    "When we combine `timedelta()`s and `datetime()`s what we get is the ability to really quickly determine how long there is between two things."
   ]
  },
  {
   "cell_type": "code",
   "execution_count": 23,
   "id": "bbe4eea5",
   "metadata": {},
   "outputs": [],
   "source": [
    "# Combine lengths of time\n",
    "# datetime.now() + timedelta(days=3, hours=1)"
   ]
  },
  {
   "cell_type": "code",
   "execution_count": 24,
   "id": "8fd8d2b4",
   "metadata": {},
   "outputs": [],
   "source": [
    "# If you want to find the difference between two lengths of time\n",
    "# date.today() - date(2021, 11, 25)"
   ]
  },
  {
   "cell_type": "markdown",
   "id": "ea76413a",
   "metadata": {},
   "source": [
    "### 📝 Checking In\n",
    "\n",
    "[link](https://pollev.com/rachelwegene375)\n",
    "\n",
    "How many days are there between today and Thanksgiving of this year (November 25th 2021)?"
   ]
  },
  {
   "cell_type": "code",
   "execution_count": null,
   "id": "37354715",
   "metadata": {},
   "outputs": [],
   "source": []
  }
 ],
 "metadata": {
  "kernelspec": {
   "display_name": "Python [conda env:.conda-lessons]",
   "language": "python",
   "name": "conda-env-.conda-lessons-py"
  },
  "language_info": {
   "codemirror_mode": {
    "name": "ipython",
    "version": 3
   },
   "file_extension": ".py",
   "mimetype": "text/x-python",
   "name": "python",
   "nbconvert_exporter": "python",
   "pygments_lexer": "ipython3",
   "version": "3.9.5"
  }
 },
 "nbformat": 4,
 "nbformat_minor": 5
}
