{
 "cells": [
  {
   "cell_type": "markdown",
   "id": "fd9bdd08",
   "metadata": {},
   "source": [
    "# Part 1"
   ]
  },
  {
   "cell_type": "markdown",
   "id": "0a5f07b6",
   "metadata": {},
   "source": [
    "## Dates and Datetimes"
   ]
  },
  {
   "cell_type": "code",
   "execution_count": 3,
   "id": "58484703",
   "metadata": {},
   "outputs": [],
   "source": [
    "from datetime import date, datetime, timedelta"
   ]
  },
  {
   "cell_type": "markdown",
   "id": "714724f9",
   "metadata": {},
   "source": [
    "1. Create a `date()` object representing your birthday.  Assign it to a variable and use the variable to print out your birthyear."
   ]
  },
  {
   "cell_type": "code",
   "execution_count": 4,
   "id": "99d0d358",
   "metadata": {
    "scrolled": false
   },
   "outputs": [
    {
     "name": "stdout",
     "output_type": "stream",
     "text": [
      "1994\n"
     ]
    }
   ],
   "source": [
    "my_birthday = date(1994, 4, 21)\n",
    "print(my_birthday.year)"
   ]
  },
  {
   "cell_type": "markdown",
   "id": "9860c044",
   "metadata": {},
   "source": [
    "2. Explain why the following code returns an error:"
   ]
  },
  {
   "cell_type": "code",
   "execution_count": 2,
   "id": "1f7a2c5a",
   "metadata": {
    "scrolled": true
   },
   "outputs": [
    {
     "ename": "ValueError",
     "evalue": "day is out of range for month",
     "output_type": "error",
     "traceback": [
      "\u001b[1;31m---------------------------------------------------------------------------\u001b[0m",
      "\u001b[1;31mValueError\u001b[0m                                Traceback (most recent call last)",
      "\u001b[1;32m<ipython-input-2-16a4d5913b87>\u001b[0m in \u001b[0;36m<module>\u001b[1;34m\u001b[0m\n\u001b[1;32m----> 1\u001b[1;33m \u001b[0mdate\u001b[0m\u001b[1;33m(\u001b[0m\u001b[1;36m2011\u001b[0m\u001b[1;33m,\u001b[0m \u001b[1;36m2\u001b[0m\u001b[1;33m,\u001b[0m \u001b[1;36m29\u001b[0m\u001b[1;33m)\u001b[0m\u001b[1;33m\u001b[0m\u001b[1;33m\u001b[0m\u001b[0m\n\u001b[0m",
      "\u001b[1;31mValueError\u001b[0m: day is out of range for month"
     ]
    }
   ],
   "source": [
    "date(2011, 2, 29)"
   ]
  },
  {
   "cell_type": "code",
   "execution_count": null,
   "id": "ef88bc8f",
   "metadata": {},
   "outputs": [],
   "source": [
    "# It returns an error because there weren't 29 days in February in 2011"
   ]
  },
  {
   "cell_type": "markdown",
   "id": "3c8cf49a",
   "metadata": {},
   "source": [
    "3. Create a datetime object for the 6:23pm on March 13th 1998"
   ]
  },
  {
   "cell_type": "code",
   "execution_count": 6,
   "id": "be747206",
   "metadata": {},
   "outputs": [
    {
     "data": {
      "text/plain": [
       "datetime.datetime(1998, 3, 13, 6, 23)"
      ]
     },
     "execution_count": 6,
     "metadata": {},
     "output_type": "execute_result"
    }
   ],
   "source": [
    "datetime(1998, 3, 13, 6, 23)"
   ]
  },
  {
   "cell_type": "markdown",
   "id": "d6b2edb4",
   "metadata": {},
   "source": [
    "4. Create a list with 3 datetime objects in it"
   ]
  },
  {
   "cell_type": "code",
   "execution_count": 7,
   "id": "d1f661fd",
   "metadata": {},
   "outputs": [],
   "source": [
    "sampling_times = [datetime(2011, 4, 10, 12), datetime(2011, 4, 11, 12), datetime(2011, 4, 12, 12)]"
   ]
  },
  {
   "cell_type": "code",
   "execution_count": 8,
   "id": "748c21b9",
   "metadata": {},
   "outputs": [
    {
     "data": {
      "text/plain": [
       "[datetime.datetime(2011, 4, 10, 12, 0),\n",
       " datetime.datetime(2011, 4, 11, 12, 0),\n",
       " datetime.datetime(2011, 4, 12, 12, 0)]"
      ]
     },
     "execution_count": 8,
     "metadata": {},
     "output_type": "execute_result"
    }
   ],
   "source": [
    "sampling_times"
   ]
  },
  {
   "cell_type": "markdown",
   "id": "f247f23b",
   "metadata": {},
   "source": [
    "## Creating Dates and Datetimes from Strings"
   ]
  },
  {
   "cell_type": "markdown",
   "id": "a58f7290",
   "metadata": {},
   "source": [
    "5. Create a datetime object from the following string"
   ]
  },
  {
   "cell_type": "code",
   "execution_count": 5,
   "id": "c86e880a",
   "metadata": {},
   "outputs": [],
   "source": [
    "date_string = '01-22-2009 21:00'"
   ]
  },
  {
   "cell_type": "code",
   "execution_count": 7,
   "id": "5c3d70c9",
   "metadata": {},
   "outputs": [],
   "source": [
    "dt = datetime.strptime(date_string, '%m-%d-%Y %H:%M')"
   ]
  },
  {
   "cell_type": "code",
   "execution_count": 8,
   "id": "d801ab4d",
   "metadata": {},
   "outputs": [
    {
     "data": {
      "text/plain": [
       "datetime.datetime(2009, 1, 22, 21, 0)"
      ]
     },
     "execution_count": 8,
     "metadata": {},
     "output_type": "execute_result"
    }
   ],
   "source": [
    "dt"
   ]
  },
  {
   "cell_type": "markdown",
   "id": "38b2495b",
   "metadata": {},
   "source": [
    "6. Create a datetime object from the following string"
   ]
  },
  {
   "cell_type": "code",
   "execution_count": null,
   "id": "d62dfb6c",
   "metadata": {},
   "outputs": [],
   "source": [
    "date_string = 'Jul 23 1998 8:02:00'"
   ]
  },
  {
   "cell_type": "markdown",
   "id": "4249f581",
   "metadata": {},
   "source": [
    "**My mistake** it turns out the windows machines don't support the strftime format `%-H` because of the dash. I wrote below the correct syntax, but if you are using these notebooks on the SARP laptop they won't run it.  Luckily unpadded hours is really uncommon so this hopefully won't be a problem for your datasets."
   ]
  },
  {
   "cell_type": "code",
   "execution_count": 20,
   "id": "29c45b0c",
   "metadata": {
    "scrolled": true
   },
   "outputs": [
    {
     "ename": "ValueError",
     "evalue": "'-' is a bad directive in format '%b %d %Y %-H:%M:%S'",
     "output_type": "error",
     "traceback": [
      "\u001b[1;31m---------------------------------------------------------------------------\u001b[0m",
      "\u001b[1;31mValueError\u001b[0m                                Traceback (most recent call last)",
      "\u001b[1;32m<ipython-input-20-001c4c88cc57>\u001b[0m in \u001b[0;36m<module>\u001b[1;34m\u001b[0m\n\u001b[0;32m      1\u001b[0m \u001b[1;31m# This errors\u001b[0m\u001b[1;33m\u001b[0m\u001b[1;33m\u001b[0m\u001b[1;33m\u001b[0m\u001b[0m\n\u001b[1;32m----> 2\u001b[1;33m \u001b[0mdt\u001b[0m \u001b[1;33m=\u001b[0m \u001b[0mdatetime\u001b[0m\u001b[1;33m.\u001b[0m\u001b[0mstrptime\u001b[0m\u001b[1;33m(\u001b[0m\u001b[0mdate_string\u001b[0m\u001b[1;33m,\u001b[0m \u001b[1;34m'%b %d %Y %-H:%M:%S'\u001b[0m\u001b[1;33m)\u001b[0m\u001b[1;33m\u001b[0m\u001b[1;33m\u001b[0m\u001b[0m\n\u001b[0m",
      "\u001b[1;32m~\\.conda\\envs\\lessons\\lib\\_strptime.py\u001b[0m in \u001b[0;36m_strptime_datetime\u001b[1;34m(cls, data_string, format)\u001b[0m\n\u001b[0;32m    566\u001b[0m     \"\"\"Return a class cls instance based on the input string and the\n\u001b[0;32m    567\u001b[0m     format string.\"\"\"\n\u001b[1;32m--> 568\u001b[1;33m     \u001b[0mtt\u001b[0m\u001b[1;33m,\u001b[0m \u001b[0mfraction\u001b[0m\u001b[1;33m,\u001b[0m \u001b[0mgmtoff_fraction\u001b[0m \u001b[1;33m=\u001b[0m \u001b[0m_strptime\u001b[0m\u001b[1;33m(\u001b[0m\u001b[0mdata_string\u001b[0m\u001b[1;33m,\u001b[0m \u001b[0mformat\u001b[0m\u001b[1;33m)\u001b[0m\u001b[1;33m\u001b[0m\u001b[1;33m\u001b[0m\u001b[0m\n\u001b[0m\u001b[0;32m    569\u001b[0m     \u001b[0mtzname\u001b[0m\u001b[1;33m,\u001b[0m \u001b[0mgmtoff\u001b[0m \u001b[1;33m=\u001b[0m \u001b[0mtt\u001b[0m\u001b[1;33m[\u001b[0m\u001b[1;33m-\u001b[0m\u001b[1;36m2\u001b[0m\u001b[1;33m:\u001b[0m\u001b[1;33m]\u001b[0m\u001b[1;33m\u001b[0m\u001b[1;33m\u001b[0m\u001b[0m\n\u001b[0;32m    570\u001b[0m     \u001b[0margs\u001b[0m \u001b[1;33m=\u001b[0m \u001b[0mtt\u001b[0m\u001b[1;33m[\u001b[0m\u001b[1;33m:\u001b[0m\u001b[1;36m6\u001b[0m\u001b[1;33m]\u001b[0m \u001b[1;33m+\u001b[0m \u001b[1;33m(\u001b[0m\u001b[0mfraction\u001b[0m\u001b[1;33m,\u001b[0m\u001b[1;33m)\u001b[0m\u001b[1;33m\u001b[0m\u001b[1;33m\u001b[0m\u001b[0m\n",
      "\u001b[1;32m~\\.conda\\envs\\lessons\\lib\\_strptime.py\u001b[0m in \u001b[0;36m_strptime\u001b[1;34m(data_string, format)\u001b[0m\n\u001b[0;32m    339\u001b[0m                     \u001b[0mbad_directive\u001b[0m \u001b[1;33m=\u001b[0m \u001b[1;34m\"%\"\u001b[0m\u001b[1;33m\u001b[0m\u001b[1;33m\u001b[0m\u001b[0m\n\u001b[0;32m    340\u001b[0m                 \u001b[1;32mdel\u001b[0m \u001b[0merr\u001b[0m\u001b[1;33m\u001b[0m\u001b[1;33m\u001b[0m\u001b[0m\n\u001b[1;32m--> 341\u001b[1;33m                 raise ValueError(\"'%s' is a bad directive in format '%s'\" %\n\u001b[0m\u001b[0;32m    342\u001b[0m                                     (bad_directive, format)) from None\n\u001b[0;32m    343\u001b[0m             \u001b[1;31m# IndexError only occurs when the format string is \"%\"\u001b[0m\u001b[1;33m\u001b[0m\u001b[1;33m\u001b[0m\u001b[1;33m\u001b[0m\u001b[0m\n",
      "\u001b[1;31mValueError\u001b[0m: '-' is a bad directive in format '%b %d %Y %-H:%M:%S'"
     ]
    }
   ],
   "source": [
    "# This errors\n",
    "dt = datetime.strptime(date_string, '%b %d %Y %-H:%M:%S')"
   ]
  },
  {
   "cell_type": "markdown",
   "id": "74a0989a",
   "metadata": {},
   "source": [
    "7. Create a datetime object from the following string"
   ]
  },
  {
   "cell_type": "code",
   "execution_count": null,
   "id": "e62db67e",
   "metadata": {},
   "outputs": [],
   "source": [
    "date_string = '12/1/72 01 52 12'"
   ]
  },
  {
   "cell_type": "markdown",
   "id": "6b0b858c",
   "metadata": {},
   "source": [
    "**My mistake** it turns out the windows machines don't support the strftime format `%-d` because of the dash. I wrote below the correct syntax, but if you are using these notebooks on the SARP laptop they won't run it.  Luckily unpadded hours is really uncommon so this hopefully won't be a problem for your datasets."
   ]
  },
  {
   "cell_type": "code",
   "execution_count": 24,
   "id": "db66b70a",
   "metadata": {},
   "outputs": [
    {
     "ename": "ValueError",
     "evalue": "'-' is a bad directive in format '%m/%-*d/%y %H %M %S'",
     "output_type": "error",
     "traceback": [
      "\u001b[1;31m---------------------------------------------------------------------------\u001b[0m",
      "\u001b[1;31mValueError\u001b[0m                                Traceback (most recent call last)",
      "\u001b[1;32m<ipython-input-24-8273d2976c5f>\u001b[0m in \u001b[0;36m<module>\u001b[1;34m\u001b[0m\n\u001b[1;32m----> 1\u001b[1;33m \u001b[0mdt\u001b[0m \u001b[1;33m=\u001b[0m \u001b[0mdatetime\u001b[0m\u001b[1;33m.\u001b[0m\u001b[0mstrptime\u001b[0m\u001b[1;33m(\u001b[0m\u001b[0mdate_string\u001b[0m\u001b[1;33m,\u001b[0m \u001b[1;34m'%m/%-*d/%y %H %M %S'\u001b[0m\u001b[1;33m)\u001b[0m\u001b[1;33m\u001b[0m\u001b[1;33m\u001b[0m\u001b[0m\n\u001b[0m",
      "\u001b[1;32m~\\.conda\\envs\\lessons\\lib\\_strptime.py\u001b[0m in \u001b[0;36m_strptime_datetime\u001b[1;34m(cls, data_string, format)\u001b[0m\n\u001b[0;32m    566\u001b[0m     \"\"\"Return a class cls instance based on the input string and the\n\u001b[0;32m    567\u001b[0m     format string.\"\"\"\n\u001b[1;32m--> 568\u001b[1;33m     \u001b[0mtt\u001b[0m\u001b[1;33m,\u001b[0m \u001b[0mfraction\u001b[0m\u001b[1;33m,\u001b[0m \u001b[0mgmtoff_fraction\u001b[0m \u001b[1;33m=\u001b[0m \u001b[0m_strptime\u001b[0m\u001b[1;33m(\u001b[0m\u001b[0mdata_string\u001b[0m\u001b[1;33m,\u001b[0m \u001b[0mformat\u001b[0m\u001b[1;33m)\u001b[0m\u001b[1;33m\u001b[0m\u001b[1;33m\u001b[0m\u001b[0m\n\u001b[0m\u001b[0;32m    569\u001b[0m     \u001b[0mtzname\u001b[0m\u001b[1;33m,\u001b[0m \u001b[0mgmtoff\u001b[0m \u001b[1;33m=\u001b[0m \u001b[0mtt\u001b[0m\u001b[1;33m[\u001b[0m\u001b[1;33m-\u001b[0m\u001b[1;36m2\u001b[0m\u001b[1;33m:\u001b[0m\u001b[1;33m]\u001b[0m\u001b[1;33m\u001b[0m\u001b[1;33m\u001b[0m\u001b[0m\n\u001b[0;32m    570\u001b[0m     \u001b[0margs\u001b[0m \u001b[1;33m=\u001b[0m \u001b[0mtt\u001b[0m\u001b[1;33m[\u001b[0m\u001b[1;33m:\u001b[0m\u001b[1;36m6\u001b[0m\u001b[1;33m]\u001b[0m \u001b[1;33m+\u001b[0m \u001b[1;33m(\u001b[0m\u001b[0mfraction\u001b[0m\u001b[1;33m,\u001b[0m\u001b[1;33m)\u001b[0m\u001b[1;33m\u001b[0m\u001b[1;33m\u001b[0m\u001b[0m\n",
      "\u001b[1;32m~\\.conda\\envs\\lessons\\lib\\_strptime.py\u001b[0m in \u001b[0;36m_strptime\u001b[1;34m(data_string, format)\u001b[0m\n\u001b[0;32m    339\u001b[0m                     \u001b[0mbad_directive\u001b[0m \u001b[1;33m=\u001b[0m \u001b[1;34m\"%\"\u001b[0m\u001b[1;33m\u001b[0m\u001b[1;33m\u001b[0m\u001b[0m\n\u001b[0;32m    340\u001b[0m                 \u001b[1;32mdel\u001b[0m \u001b[0merr\u001b[0m\u001b[1;33m\u001b[0m\u001b[1;33m\u001b[0m\u001b[0m\n\u001b[1;32m--> 341\u001b[1;33m                 raise ValueError(\"'%s' is a bad directive in format '%s'\" %\n\u001b[0m\u001b[0;32m    342\u001b[0m                                     (bad_directive, format)) from None\n\u001b[0;32m    343\u001b[0m             \u001b[1;31m# IndexError only occurs when the format string is \"%\"\u001b[0m\u001b[1;33m\u001b[0m\u001b[1;33m\u001b[0m\u001b[1;33m\u001b[0m\u001b[0m\n",
      "\u001b[1;31mValueError\u001b[0m: '-' is a bad directive in format '%m/%-*d/%y %H %M %S'"
     ]
    }
   ],
   "source": [
    "# This errors\n",
    "dt = datetime.strptime(date_string, '%m/%-d/%y %H %M %S')"
   ]
  },
  {
   "cell_type": "markdown",
   "id": "7b48ef4c",
   "metadata": {},
   "source": [
    "8. Convert the date August 29th 2008 to the date in Julian days"
   ]
  },
  {
   "cell_type": "code",
   "execution_count": 10,
   "id": "7e0f9cd1",
   "metadata": {},
   "outputs": [],
   "source": [
    "starting_date = datetime(2008, 8, 29)"
   ]
  },
  {
   "cell_type": "code",
   "execution_count": 11,
   "id": "203849da",
   "metadata": {},
   "outputs": [
    {
     "data": {
      "text/plain": [
       "'242'"
      ]
     },
     "execution_count": 11,
     "metadata": {},
     "output_type": "execute_result"
    }
   ],
   "source": [
    "format_string = '%j'\n",
    "starting_date.strftime(format_string)"
   ]
  },
  {
   "cell_type": "markdown",
   "id": "37aa6fb7",
   "metadata": {},
   "source": [
    "## Timedeltas"
   ]
  },
  {
   "cell_type": "markdown",
   "id": "1357463b",
   "metadata": {},
   "source": [
    "9. Calculate how many days it has been since your last birthday."
   ]
  },
  {
   "cell_type": "code",
   "execution_count": 31,
   "id": "90c723bb",
   "metadata": {},
   "outputs": [],
   "source": [
    "last_birthday = date(2021, 4, 21)"
   ]
  },
  {
   "cell_type": "code",
   "execution_count": 32,
   "id": "63426094",
   "metadata": {},
   "outputs": [
    {
     "data": {
      "text/plain": [
       "datetime.timedelta(days=69)"
      ]
     },
     "execution_count": 32,
     "metadata": {},
     "output_type": "execute_result"
    }
   ],
   "source": [
    "date.today() - last_birthday"
   ]
  },
  {
   "cell_type": "markdown",
   "id": "6f964bf6",
   "metadata": {},
   "source": [
    "10. Calculate exactly how old you are, down to the hour, right now."
   ]
  },
  {
   "cell_type": "code",
   "execution_count": 33,
   "id": "b1e86f33",
   "metadata": {},
   "outputs": [],
   "source": [
    "birth_moment = datetime(1994, 4, 21, 5, 33, 0)"
   ]
  },
  {
   "cell_type": "code",
   "execution_count": 34,
   "id": "654bbc81",
   "metadata": {},
   "outputs": [
    {
     "data": {
      "text/plain": [
       "datetime.timedelta(days=9931, seconds=17267, microseconds=131821)"
      ]
     },
     "execution_count": 34,
     "metadata": {},
     "output_type": "execute_result"
    }
   ],
   "source": [
    "datetime.now() - birth_moment"
   ]
  },
  {
   "cell_type": "markdown",
   "id": "d8495a3d",
   "metadata": {},
   "source": [
    "# Part 2"
   ]
  },
  {
   "cell_type": "code",
   "execution_count": 35,
   "id": "5f881ffc",
   "metadata": {},
   "outputs": [],
   "source": [
    "import pandas as pd"
   ]
  },
  {
   "cell_type": "code",
   "execution_count": 36,
   "id": "3c38c07a",
   "metadata": {},
   "outputs": [
    {
     "name": "stderr",
     "output_type": "stream",
     "text": [
      "<ipython-input-36-f4ef3a08305f>:2: FutureWarning: Your version of xlrd is 1.2.0. In xlrd >= 2.0, only the xls format is supported. As a result, the openpyxl engine will be used if it is installed and the engine argument is not specified. Install openpyxl instead.\n",
      "  was_2020 = pd.read_excel(was_2020_filepath, \"INPUT\", skipfooter=7)\n"
     ]
    }
   ],
   "source": [
    "was_2020_filepath = \"./data/SARP 2020 final.xlsx\"\n",
    "was_2020 = pd.read_excel(was_2020_filepath, \"INPUT\", skipfooter=7)"
   ]
  },
  {
   "cell_type": "code",
   "execution_count": 37,
   "id": "7b24a045",
   "metadata": {
    "scrolled": true
   },
   "outputs": [
    {
     "data": {
      "text/html": [
       "<div>\n",
       "<style scoped>\n",
       "    .dataframe tbody tr th:only-of-type {\n",
       "        vertical-align: middle;\n",
       "    }\n",
       "\n",
       "    .dataframe tbody tr th {\n",
       "        vertical-align: top;\n",
       "    }\n",
       "\n",
       "    .dataframe thead th {\n",
       "        text-align: right;\n",
       "    }\n",
       "</style>\n",
       "<table border=\"1\" class=\"dataframe\">\n",
       "  <thead>\n",
       "    <tr style=\"text-align: right;\">\n",
       "      <th></th>\n",
       "      <th>Can #</th>\n",
       "      <th>Snake can #</th>\n",
       "      <th>Location</th>\n",
       "      <th>State</th>\n",
       "      <th>Box</th>\n",
       "      <th>Date</th>\n",
       "      <th>Time</th>\n",
       "      <th>Altitude (m)</th>\n",
       "      <th>Temp. Celsius</th>\n",
       "      <th>Wind Spd (mph)</th>\n",
       "      <th>...</th>\n",
       "      <th>3-Ethyltoluene (MS)</th>\n",
       "      <th>4-Ethyltoluene (MS)</th>\n",
       "      <th>2-Ethyltoluene (MS)</th>\n",
       "      <th>1,3,5-Trimethylbenzene (MS)</th>\n",
       "      <th>1,2,4-Trimethylbenzene (MS)</th>\n",
       "      <th>alpha-Pinene (B/MS)</th>\n",
       "      <th>beta-Pinene (B/MS)</th>\n",
       "      <th>Unnamed: 113</th>\n",
       "      <th>Box.1</th>\n",
       "      <th>CH4 (ppmv height).1</th>\n",
       "    </tr>\n",
       "  </thead>\n",
       "  <tbody>\n",
       "    <tr>\n",
       "      <th>0</th>\n",
       "      <td>5044</td>\n",
       "      <td>3701</td>\n",
       "      <td>Mars Hill/Lowell Observatory, Flagstaff, Arizona</td>\n",
       "      <td>Arizona</td>\n",
       "      <td>37</td>\n",
       "      <td>2020-04-24</td>\n",
       "      <td>11:23:00</td>\n",
       "      <td>2200</td>\n",
       "      <td>18</td>\n",
       "      <td>5</td>\n",
       "      <td>...</td>\n",
       "      <td>12</td>\n",
       "      <td>17</td>\n",
       "      <td>17</td>\n",
       "      <td>15</td>\n",
       "      <td>23</td>\n",
       "      <td>12</td>\n",
       "      <td>7</td>\n",
       "      <td>NaN</td>\n",
       "      <td>37</td>\n",
       "      <td>1.914</td>\n",
       "    </tr>\n",
       "    <tr>\n",
       "      <th>1</th>\n",
       "      <td>7338</td>\n",
       "      <td>3716</td>\n",
       "      <td>Buffalo Park, Flagstaff, Arizona</td>\n",
       "      <td>Arizona</td>\n",
       "      <td>37</td>\n",
       "      <td>2020-04-24</td>\n",
       "      <td>11:44:00</td>\n",
       "      <td>2100</td>\n",
       "      <td>18</td>\n",
       "      <td>5</td>\n",
       "      <td>...</td>\n",
       "      <td>12</td>\n",
       "      <td>16</td>\n",
       "      <td>15</td>\n",
       "      <td>14</td>\n",
       "      <td>22</td>\n",
       "      <td>31</td>\n",
       "      <td>9</td>\n",
       "      <td>NaN</td>\n",
       "      <td>37</td>\n",
       "      <td>1.916</td>\n",
       "    </tr>\n",
       "    <tr>\n",
       "      <th>2</th>\n",
       "      <td>6027</td>\n",
       "      <td>3717</td>\n",
       "      <td>Downtown Sedona, Arizona</td>\n",
       "      <td>Arizona</td>\n",
       "      <td>37</td>\n",
       "      <td>2020-04-24</td>\n",
       "      <td>12:47:00</td>\n",
       "      <td>1350</td>\n",
       "      <td>27</td>\n",
       "      <td>5</td>\n",
       "      <td>...</td>\n",
       "      <td>-888</td>\n",
       "      <td>-888</td>\n",
       "      <td>-888</td>\n",
       "      <td>-888</td>\n",
       "      <td>6</td>\n",
       "      <td>11</td>\n",
       "      <td>-888</td>\n",
       "      <td>NaN</td>\n",
       "      <td>37</td>\n",
       "      <td>1.914</td>\n",
       "    </tr>\n",
       "    <tr>\n",
       "      <th>3</th>\n",
       "      <td>5012</td>\n",
       "      <td>3702</td>\n",
       "      <td>Buffalo Park, Flagstaff, Arizona</td>\n",
       "      <td>Arizona</td>\n",
       "      <td>37</td>\n",
       "      <td>2020-05-01</td>\n",
       "      <td>11:16:00</td>\n",
       "      <td>2100</td>\n",
       "      <td>19</td>\n",
       "      <td>16</td>\n",
       "      <td>...</td>\n",
       "      <td>-888</td>\n",
       "      <td>-888</td>\n",
       "      <td>-888</td>\n",
       "      <td>-888</td>\n",
       "      <td>-888</td>\n",
       "      <td>22</td>\n",
       "      <td>-888</td>\n",
       "      <td>NaN</td>\n",
       "      <td>37</td>\n",
       "      <td>1.895</td>\n",
       "    </tr>\n",
       "    <tr>\n",
       "      <th>4</th>\n",
       "      <td>7330</td>\n",
       "      <td>3715</td>\n",
       "      <td>Mars Hill/Lowell Observatory, Flagstaff, Arizona</td>\n",
       "      <td>Arizona</td>\n",
       "      <td>37</td>\n",
       "      <td>2020-05-01</td>\n",
       "      <td>11:49:00</td>\n",
       "      <td>2200</td>\n",
       "      <td>19</td>\n",
       "      <td>16</td>\n",
       "      <td>...</td>\n",
       "      <td>6</td>\n",
       "      <td>3</td>\n",
       "      <td>-888</td>\n",
       "      <td>-888</td>\n",
       "      <td>8</td>\n",
       "      <td>23</td>\n",
       "      <td>-888</td>\n",
       "      <td>NaN</td>\n",
       "      <td>37</td>\n",
       "      <td>1.900</td>\n",
       "    </tr>\n",
       "    <tr>\n",
       "      <th>...</th>\n",
       "      <td>...</td>\n",
       "      <td>...</td>\n",
       "      <td>...</td>\n",
       "      <td>...</td>\n",
       "      <td>...</td>\n",
       "      <td>...</td>\n",
       "      <td>...</td>\n",
       "      <td>...</td>\n",
       "      <td>...</td>\n",
       "      <td>...</td>\n",
       "      <td>...</td>\n",
       "      <td>...</td>\n",
       "      <td>...</td>\n",
       "      <td>...</td>\n",
       "      <td>...</td>\n",
       "      <td>...</td>\n",
       "      <td>...</td>\n",
       "      <td>...</td>\n",
       "      <td>...</td>\n",
       "      <td>...</td>\n",
       "      <td>...</td>\n",
       "    </tr>\n",
       "    <tr>\n",
       "      <th>924</th>\n",
       "      <td>7267</td>\n",
       "      <td>2610</td>\n",
       "      <td>Oakwood Manor, Oshkosh, Wisconsin</td>\n",
       "      <td>Wisconsin</td>\n",
       "      <td>26</td>\n",
       "      <td>2020-06-24</td>\n",
       "      <td>10:28:00</td>\n",
       "      <td>234.696</td>\n",
       "      <td>20</td>\n",
       "      <td>7</td>\n",
       "      <td>...</td>\n",
       "      <td>-888</td>\n",
       "      <td>-888</td>\n",
       "      <td>-888</td>\n",
       "      <td>-888</td>\n",
       "      <td>3</td>\n",
       "      <td>68</td>\n",
       "      <td>45</td>\n",
       "      <td>NaN</td>\n",
       "      <td>26</td>\n",
       "      <td>2.131</td>\n",
       "    </tr>\n",
       "    <tr>\n",
       "      <th>925</th>\n",
       "      <td>8257</td>\n",
       "      <td>2623</td>\n",
       "      <td>South Park, Oshkosh, Wisconsin</td>\n",
       "      <td>Wisconsin</td>\n",
       "      <td>26</td>\n",
       "      <td>2020-06-24</td>\n",
       "      <td>10:42:00</td>\n",
       "      <td>231.64</td>\n",
       "      <td>21.67</td>\n",
       "      <td>6</td>\n",
       "      <td>...</td>\n",
       "      <td>-888</td>\n",
       "      <td>-888</td>\n",
       "      <td>-888</td>\n",
       "      <td>-888</td>\n",
       "      <td>4</td>\n",
       "      <td>33</td>\n",
       "      <td>18</td>\n",
       "      <td>NaN</td>\n",
       "      <td>26</td>\n",
       "      <td>2.074</td>\n",
       "    </tr>\n",
       "    <tr>\n",
       "      <th>926</th>\n",
       "      <td>5194</td>\n",
       "      <td>2608</td>\n",
       "      <td>Carl Traeger middle school, Oshkosh, Wisconsin</td>\n",
       "      <td>Wisconsin</td>\n",
       "      <td>26</td>\n",
       "      <td>2020-07-01</td>\n",
       "      <td>13:09:00</td>\n",
       "      <td>243.84</td>\n",
       "      <td>28.89</td>\n",
       "      <td>9</td>\n",
       "      <td>...</td>\n",
       "      <td>4</td>\n",
       "      <td>-888</td>\n",
       "      <td>-888</td>\n",
       "      <td>-888</td>\n",
       "      <td>5</td>\n",
       "      <td>7</td>\n",
       "      <td>-888</td>\n",
       "      <td>NaN</td>\n",
       "      <td>26</td>\n",
       "      <td>2.017</td>\n",
       "    </tr>\n",
       "    <tr>\n",
       "      <th>927</th>\n",
       "      <td>7101</td>\n",
       "      <td>2609</td>\n",
       "      <td>Oakwood Manor, Oshkosh, Wisconsin</td>\n",
       "      <td>Wisconsin</td>\n",
       "      <td>26</td>\n",
       "      <td>2020-07-01</td>\n",
       "      <td>13:26:00</td>\n",
       "      <td>234.696</td>\n",
       "      <td>30.5</td>\n",
       "      <td>8</td>\n",
       "      <td>...</td>\n",
       "      <td>3</td>\n",
       "      <td>-888</td>\n",
       "      <td>-888</td>\n",
       "      <td>-888</td>\n",
       "      <td>5</td>\n",
       "      <td>23</td>\n",
       "      <td>5</td>\n",
       "      <td>NaN</td>\n",
       "      <td>26</td>\n",
       "      <td>2.027</td>\n",
       "    </tr>\n",
       "    <tr>\n",
       "      <th>928</th>\n",
       "      <td>8190</td>\n",
       "      <td>2624</td>\n",
       "      <td>South Park, Oshkosh, Wisconsin</td>\n",
       "      <td>Wisconsin</td>\n",
       "      <td>26</td>\n",
       "      <td>2020-07-01</td>\n",
       "      <td>13:50:00</td>\n",
       "      <td>231.64</td>\n",
       "      <td>30.5</td>\n",
       "      <td>9</td>\n",
       "      <td>...</td>\n",
       "      <td>3</td>\n",
       "      <td>-888</td>\n",
       "      <td>-888</td>\n",
       "      <td>-888</td>\n",
       "      <td>5</td>\n",
       "      <td>11</td>\n",
       "      <td>3</td>\n",
       "      <td>NaN</td>\n",
       "      <td>26</td>\n",
       "      <td>1.983</td>\n",
       "    </tr>\n",
       "  </tbody>\n",
       "</table>\n",
       "<p>929 rows × 116 columns</p>\n",
       "</div>"
      ],
      "text/plain": [
       "    Can #  Snake can #                                          Location  \\\n",
       "0    5044         3701  Mars Hill/Lowell Observatory, Flagstaff, Arizona   \n",
       "1    7338         3716                  Buffalo Park, Flagstaff, Arizona   \n",
       "2    6027         3717                          Downtown Sedona, Arizona   \n",
       "3    5012         3702                  Buffalo Park, Flagstaff, Arizona   \n",
       "4    7330         3715  Mars Hill/Lowell Observatory, Flagstaff, Arizona   \n",
       "..    ...          ...                                               ...   \n",
       "924  7267         2610                 Oakwood Manor, Oshkosh, Wisconsin   \n",
       "925  8257         2623                   South Park, Oshkosh, Wisconsin    \n",
       "926  5194         2608    Carl Traeger middle school, Oshkosh, Wisconsin   \n",
       "927  7101         2609                 Oakwood Manor, Oshkosh, Wisconsin   \n",
       "928  8190         2624                   South Park, Oshkosh, Wisconsin    \n",
       "\n",
       "         State  Box       Date     Time  Altitude (m) Temp. Celsius  \\\n",
       "0      Arizona   37 2020-04-24  11:23:00         2200            18   \n",
       "1      Arizona   37 2020-04-24  11:44:00         2100            18   \n",
       "2      Arizona   37 2020-04-24  12:47:00         1350            27   \n",
       "3      Arizona   37 2020-05-01  11:16:00         2100            19   \n",
       "4      Arizona   37 2020-05-01  11:49:00         2200            19   \n",
       "..         ...  ...        ...       ...          ...           ...   \n",
       "924  Wisconsin   26 2020-06-24  10:28:00      234.696            20   \n",
       "925  Wisconsin   26 2020-06-24  10:42:00       231.64         21.67   \n",
       "926  Wisconsin   26 2020-07-01  13:09:00       243.84         28.89   \n",
       "927  Wisconsin   26 2020-07-01  13:26:00      234.696          30.5   \n",
       "928  Wisconsin   26 2020-07-01  13:50:00       231.64          30.5   \n",
       "\n",
       "    Wind Spd (mph)  ... 3-Ethyltoluene (MS) 4-Ethyltoluene (MS)  \\\n",
       "0                5  ...                  12                  17   \n",
       "1                5  ...                  12                  16   \n",
       "2                5  ...                -888                -888   \n",
       "3               16  ...                -888                -888   \n",
       "4               16  ...                   6                   3   \n",
       "..             ...  ...                 ...                 ...   \n",
       "924              7  ...                -888                -888   \n",
       "925              6  ...                -888                -888   \n",
       "926              9  ...                   4                -888   \n",
       "927              8  ...                   3                -888   \n",
       "928              9  ...                   3                -888   \n",
       "\n",
       "    2-Ethyltoluene (MS)  1,3,5-Trimethylbenzene (MS)  \\\n",
       "0                    17                           15   \n",
       "1                    15                           14   \n",
       "2                  -888                         -888   \n",
       "3                  -888                         -888   \n",
       "4                  -888                         -888   \n",
       "..                  ...                          ...   \n",
       "924                -888                         -888   \n",
       "925                -888                         -888   \n",
       "926                -888                         -888   \n",
       "927                -888                         -888   \n",
       "928                -888                         -888   \n",
       "\n",
       "     1,2,4-Trimethylbenzene (MS)  alpha-Pinene (B/MS)  beta-Pinene (B/MS)  \\\n",
       "0                             23                   12                   7   \n",
       "1                             22                   31                   9   \n",
       "2                              6                   11                -888   \n",
       "3                           -888                   22                -888   \n",
       "4                              8                   23                -888   \n",
       "..                           ...                  ...                 ...   \n",
       "924                            3                   68                  45   \n",
       "925                            4                   33                  18   \n",
       "926                            5                    7                -888   \n",
       "927                            5                   23                   5   \n",
       "928                            5                   11                   3   \n",
       "\n",
       "     Unnamed: 113  Box.1  CH4 (ppmv height).1  \n",
       "0             NaN     37                1.914  \n",
       "1             NaN     37                1.916  \n",
       "2             NaN     37                1.914  \n",
       "3             NaN     37                1.895  \n",
       "4             NaN     37                1.900  \n",
       "..            ...    ...                  ...  \n",
       "924           NaN     26                2.131  \n",
       "925           NaN     26                2.074  \n",
       "926           NaN     26                2.017  \n",
       "927           NaN     26                2.027  \n",
       "928           NaN     26                1.983  \n",
       "\n",
       "[929 rows x 116 columns]"
      ]
     },
     "execution_count": 37,
     "metadata": {},
     "output_type": "execute_result"
    }
   ],
   "source": [
    "was_2020"
   ]
  },
  {
   "cell_type": "markdown",
   "id": "22034f2e",
   "metadata": {},
   "source": [
    "#### Question 1\n",
    "\n",
    "Using datetime object calculate how long the data record `was_2020` is. In other words, how much time passed between the first and the last measurement in this sample list?"
   ]
  },
  {
   "cell_type": "code",
   "execution_count": 40,
   "id": "9ae26d3b",
   "metadata": {},
   "outputs": [
    {
     "data": {
      "text/plain": [
       "Timedelta('132 days 00:00:00')"
      ]
     },
     "execution_count": 40,
     "metadata": {},
     "output_type": "execute_result"
    }
   ],
   "source": [
    "was_2020['Date'].max() - was_2020['Date'].min()"
   ]
  },
  {
   "cell_type": "markdown",
   "id": "45bfb822",
   "metadata": {},
   "source": [
    "#### Question 2 \n",
    "_Creating a datetime column from our `was_2020` Dataframe_\n",
    "\n",
    "**A)** In the `was_2020` dataset Date and Time are in two seperate columns.  Combine the two dataframes into one and assign the output to a new variable called `combined_datetime`.\n",
    "\n",
    "To do this you will need to:\n",
    "1. Convert each column to a string type\n",
    "2. Use concatenation to combine them"
   ]
  },
  {
   "cell_type": "code",
   "execution_count": 41,
   "id": "7c5f6d08",
   "metadata": {},
   "outputs": [
    {
     "data": {
      "text/plain": [
       "'hello there'"
      ]
     },
     "execution_count": 41,
     "metadata": {},
     "output_type": "execute_result"
    }
   ],
   "source": [
    "# Example of string concatenation\n",
    "'hello ' + 'there'"
   ]
  },
  {
   "cell_type": "code",
   "execution_count": 42,
   "id": "2c2d0b36",
   "metadata": {},
   "outputs": [],
   "source": [
    "combined_datetime = was_2020['Date'].astype(str) + was_2020['Time '].astype(str)"
   ]
  },
  {
   "cell_type": "code",
   "execution_count": 43,
   "id": "c9040a9f",
   "metadata": {},
   "outputs": [
    {
     "data": {
      "text/plain": [
       "0      2020-04-2411:23:00\n",
       "1      2020-04-2411:44:00\n",
       "2      2020-04-2412:47:00\n",
       "3      2020-05-0111:16:00\n",
       "4      2020-05-0111:49:00\n",
       "              ...        \n",
       "924    2020-06-2410:28:00\n",
       "925    2020-06-2410:42:00\n",
       "926    2020-07-0113:09:00\n",
       "927    2020-07-0113:26:00\n",
       "928    2020-07-0113:50:00\n",
       "Length: 929, dtype: object"
      ]
     },
     "execution_count": 43,
     "metadata": {},
     "output_type": "execute_result"
    }
   ],
   "source": [
    "combined_datetime"
   ]
  },
  {
   "cell_type": "markdown",
   "id": "2296fb97",
   "metadata": {},
   "source": [
    "**B)** Now that you have a `'combined_datetime'` variable, you can use the pandas function `pd.to_datetime()` to convert it from a string to a Series of datetime objects.  Create a new column in your dataframe called `'datetime'` for the new datetime objects."
   ]
  },
  {
   "cell_type": "code",
   "execution_count": 44,
   "id": "0ba7d737",
   "metadata": {},
   "outputs": [],
   "source": [
    "was_2020['datetime'] = pd.to_datetime(combined_datetime, format='%Y-%m-%d%H:%M:%S')"
   ]
  },
  {
   "cell_type": "markdown",
   "id": "a5e4fde3",
   "metadata": {},
   "source": [
    "_**Google suggestion** \"pandas to_datetime\" or the examples in [the docs](https://pandas.pydata.org/pandas-docs/stable/reference/api/pandas.to_datetime.html)_"
   ]
  },
  {
   "cell_type": "markdown",
   "id": "c9f0bebb",
   "metadata": {},
   "source": [
    "**C)** Delete the old `'Date'` and `'Time'` columns with the `DATAFRAME.drop()` method."
   ]
  },
  {
   "cell_type": "code",
   "execution_count": 50,
   "id": "50d4a8ae",
   "metadata": {},
   "outputs": [],
   "source": [
    "was_2020 = was_2020.drop(columns=['Date', 'Time '])"
   ]
  },
  {
   "cell_type": "markdown",
   "id": "629ba5c6",
   "metadata": {},
   "source": [
    "_**Google suggestion**_ \"pandas drop column, or the second (not the first) answer on [this stackoverflow](https://stackoverflow.com/questions/13411544/delete-a-column-from-a-pandas-dataframe)"
   ]
  },
  {
   "cell_type": "markdown",
   "id": "79dcaf49",
   "metadata": {},
   "source": [
    "#### Question 3\n",
    "\n",
    "_Filtering our dataframe to include only the rows within 7 days of our target date_"
   ]
  },
  {
   "cell_type": "code",
   "execution_count": 51,
   "id": "053bece8",
   "metadata": {},
   "outputs": [],
   "source": [
    "import numpy as np"
   ]
  },
  {
   "cell_type": "markdown",
   "id": "ec964460",
   "metadata": {},
   "source": [
    "**A)** Let's say that we are interested in a phenomena that occurred on July 5th, 2020 so we want to narrow down our dataframe to inclue only the observations that occured within a week of the 5th.\n",
    "\n",
    "Start by calculating the difference between each date in the 'datetime' column and July 5th, 2020. What type of object is returned in the result?"
   ]
  },
  {
   "cell_type": "code",
   "execution_count": 57,
   "id": "e248c838",
   "metadata": {},
   "outputs": [],
   "source": [
    "# Even though we don't care about the specific time we need to use a datetime object, not a date object, because the\n",
    "# datetime column of the was_2020 dataframe is a datetime\n",
    "target_date = datetime(2020, 7, 5)"
   ]
  },
  {
   "cell_type": "code",
   "execution_count": 58,
   "id": "8630d486",
   "metadata": {},
   "outputs": [
    {
     "data": {
      "text/plain": [
       "0     -72 days +11:23:00\n",
       "1     -72 days +11:44:00\n",
       "2     -72 days +12:47:00\n",
       "3     -65 days +11:16:00\n",
       "4     -65 days +11:49:00\n",
       "             ...        \n",
       "924   -11 days +10:28:00\n",
       "925   -11 days +10:42:00\n",
       "926    -4 days +13:09:00\n",
       "927    -4 days +13:26:00\n",
       "928    -4 days +13:50:00\n",
       "Name: datetime, Length: 929, dtype: timedelta64[ns]"
      ]
     },
     "execution_count": 58,
     "metadata": {},
     "output_type": "execute_result"
    }
   ],
   "source": [
    "was_2020['datetime'] - target_date"
   ]
  },
  {
   "cell_type": "markdown",
   "id": "385bc676",
   "metadata": {},
   "source": [
    "**B)** Use the calculation from part A and write a conditional statement checking if each of the rows occured within 7 days of the 5th.  Don't forget to include dates of samples both before and after the 5th."
   ]
  },
  {
   "cell_type": "code",
   "execution_count": 59,
   "id": "9c2665af",
   "metadata": {},
   "outputs": [
    {
     "data": {
      "text/plain": [
       "0      False\n",
       "1      False\n",
       "2      False\n",
       "3      False\n",
       "4      False\n",
       "       ...  \n",
       "924    False\n",
       "925    False\n",
       "926     True\n",
       "927     True\n",
       "928     True\n",
       "Name: datetime, Length: 929, dtype: bool"
      ]
     },
     "execution_count": 59,
     "metadata": {},
     "output_type": "execute_result"
    }
   ],
   "source": [
    "abs(was_2020['datetime'] - target_date) <= timedelta(days=7)"
   ]
  },
  {
   "cell_type": "markdown",
   "id": "fbb26c13",
   "metadata": {},
   "source": [
    "**C)** Use the boolean series from part B as a filter to output the `was_2020` dataframe with only the rows within 7 days of July 5th, 2020."
   ]
  },
  {
   "cell_type": "code",
   "execution_count": 60,
   "id": "ecc06671",
   "metadata": {},
   "outputs": [
    {
     "data": {
      "text/html": [
       "<div>\n",
       "<style scoped>\n",
       "    .dataframe tbody tr th:only-of-type {\n",
       "        vertical-align: middle;\n",
       "    }\n",
       "\n",
       "    .dataframe tbody tr th {\n",
       "        vertical-align: top;\n",
       "    }\n",
       "\n",
       "    .dataframe thead th {\n",
       "        text-align: right;\n",
       "    }\n",
       "</style>\n",
       "<table border=\"1\" class=\"dataframe\">\n",
       "  <thead>\n",
       "    <tr style=\"text-align: right;\">\n",
       "      <th></th>\n",
       "      <th>Can #</th>\n",
       "      <th>Snake can #</th>\n",
       "      <th>Location</th>\n",
       "      <th>State</th>\n",
       "      <th>Box</th>\n",
       "      <th>Altitude (m)</th>\n",
       "      <th>Temp. Celsius</th>\n",
       "      <th>Wind Spd (mph)</th>\n",
       "      <th>Wind direction (blowing from direction)</th>\n",
       "      <th>Weather</th>\n",
       "      <th>...</th>\n",
       "      <th>4-Ethyltoluene (MS)</th>\n",
       "      <th>2-Ethyltoluene (MS)</th>\n",
       "      <th>1,3,5-Trimethylbenzene (MS)</th>\n",
       "      <th>1,2,4-Trimethylbenzene (MS)</th>\n",
       "      <th>alpha-Pinene (B/MS)</th>\n",
       "      <th>beta-Pinene (B/MS)</th>\n",
       "      <th>Unnamed: 113</th>\n",
       "      <th>Box.1</th>\n",
       "      <th>CH4 (ppmv height).1</th>\n",
       "      <th>datetime</th>\n",
       "    </tr>\n",
       "  </thead>\n",
       "  <tbody>\n",
       "    <tr>\n",
       "      <th>17</th>\n",
       "      <td>7336</td>\n",
       "      <td>3710</td>\n",
       "      <td>Mars Hill/Lowell Observatory, Flagstaff, Arizona</td>\n",
       "      <td>Arizona</td>\n",
       "      <td>37</td>\n",
       "      <td>2200</td>\n",
       "      <td>27</td>\n",
       "      <td>10</td>\n",
       "      <td>SW</td>\n",
       "      <td>Slightly Cloudy</td>\n",
       "      <td>...</td>\n",
       "      <td>-888</td>\n",
       "      <td>-888</td>\n",
       "      <td>-888</td>\n",
       "      <td>4</td>\n",
       "      <td>126</td>\n",
       "      <td>12</td>\n",
       "      <td>NaN</td>\n",
       "      <td>37</td>\n",
       "      <td>1.882</td>\n",
       "      <td>2020-07-04 12:48:00</td>\n",
       "    </tr>\n",
       "    <tr>\n",
       "      <th>18</th>\n",
       "      <td>6035</td>\n",
       "      <td>3723</td>\n",
       "      <td>Downtown Sedona, Arizona</td>\n",
       "      <td>Arizona</td>\n",
       "      <td>37</td>\n",
       "      <td>1350</td>\n",
       "      <td>36</td>\n",
       "      <td>7</td>\n",
       "      <td>SW</td>\n",
       "      <td>Clear and sunny</td>\n",
       "      <td>...</td>\n",
       "      <td>-888</td>\n",
       "      <td>-888</td>\n",
       "      <td>-888</td>\n",
       "      <td>9</td>\n",
       "      <td>44</td>\n",
       "      <td>10</td>\n",
       "      <td>NaN</td>\n",
       "      <td>37</td>\n",
       "      <td>1.882</td>\n",
       "      <td>2020-07-04 14:09:00</td>\n",
       "    </tr>\n",
       "    <tr>\n",
       "      <th>209</th>\n",
       "      <td>7993</td>\n",
       "      <td>810</td>\n",
       "      <td>Anaheim AQMD site Loara Elementary school, Ana...</td>\n",
       "      <td>California</td>\n",
       "      <td>8</td>\n",
       "      <td>40</td>\n",
       "      <td>22</td>\n",
       "      <td>5</td>\n",
       "      <td>SSW</td>\n",
       "      <td>sunny, but a bit hazy</td>\n",
       "      <td>...</td>\n",
       "      <td>3</td>\n",
       "      <td>-888</td>\n",
       "      <td>-888</td>\n",
       "      <td>6</td>\n",
       "      <td>4</td>\n",
       "      <td>-888</td>\n",
       "      <td>NaN</td>\n",
       "      <td>8</td>\n",
       "      <td>1.968</td>\n",
       "      <td>2020-07-02 12:06:00</td>\n",
       "    </tr>\n",
       "    <tr>\n",
       "      <th>210</th>\n",
       "      <td>8247</td>\n",
       "      <td>808</td>\n",
       "      <td>Imperial Park, Anaheim Hills, California</td>\n",
       "      <td>California</td>\n",
       "      <td>8</td>\n",
       "      <td>137</td>\n",
       "      <td>23</td>\n",
       "      <td>5</td>\n",
       "      <td>WSW</td>\n",
       "      <td>sunny, but a bit hazy</td>\n",
       "      <td>...</td>\n",
       "      <td>22</td>\n",
       "      <td>22</td>\n",
       "      <td>20</td>\n",
       "      <td>30</td>\n",
       "      <td>27</td>\n",
       "      <td>9</td>\n",
       "      <td>NaN</td>\n",
       "      <td>8</td>\n",
       "      <td>1.984</td>\n",
       "      <td>2020-07-02 12:35:00</td>\n",
       "    </tr>\n",
       "    <tr>\n",
       "      <th>211</th>\n",
       "      <td>9343</td>\n",
       "      <td>4110</td>\n",
       "      <td>Corona, California</td>\n",
       "      <td>California</td>\n",
       "      <td>41</td>\n",
       "      <td>NaN</td>\n",
       "      <td>29</td>\n",
       "      <td>0</td>\n",
       "      <td>NaN</td>\n",
       "      <td>Clear</td>\n",
       "      <td>...</td>\n",
       "      <td>4</td>\n",
       "      <td>3</td>\n",
       "      <td>-888</td>\n",
       "      <td>5</td>\n",
       "      <td>60</td>\n",
       "      <td>-888</td>\n",
       "      <td>NaN</td>\n",
       "      <td>41</td>\n",
       "      <td>1.979</td>\n",
       "      <td>2020-07-03 11:21:00</td>\n",
       "    </tr>\n",
       "    <tr>\n",
       "      <th>...</th>\n",
       "      <td>...</td>\n",
       "      <td>...</td>\n",
       "      <td>...</td>\n",
       "      <td>...</td>\n",
       "      <td>...</td>\n",
       "      <td>...</td>\n",
       "      <td>...</td>\n",
       "      <td>...</td>\n",
       "      <td>...</td>\n",
       "      <td>...</td>\n",
       "      <td>...</td>\n",
       "      <td>...</td>\n",
       "      <td>...</td>\n",
       "      <td>...</td>\n",
       "      <td>...</td>\n",
       "      <td>...</td>\n",
       "      <td>...</td>\n",
       "      <td>...</td>\n",
       "      <td>...</td>\n",
       "      <td>...</td>\n",
       "      <td>...</td>\n",
       "    </tr>\n",
       "    <tr>\n",
       "      <th>785</th>\n",
       "      <td>6157</td>\n",
       "      <td>3210</td>\n",
       "      <td>Spring Creek Park (Downwind), Tomball, Texas</td>\n",
       "      <td>Texas</td>\n",
       "      <td>32</td>\n",
       "      <td>70</td>\n",
       "      <td>95 F</td>\n",
       "      <td>6</td>\n",
       "      <td>S</td>\n",
       "      <td>Partly Cloudy</td>\n",
       "      <td>...</td>\n",
       "      <td>8</td>\n",
       "      <td>6</td>\n",
       "      <td>7</td>\n",
       "      <td>19</td>\n",
       "      <td>147</td>\n",
       "      <td>58</td>\n",
       "      <td>NaN</td>\n",
       "      <td>32</td>\n",
       "      <td>1.881</td>\n",
       "      <td>2020-07-08 15:00:00</td>\n",
       "    </tr>\n",
       "    <tr>\n",
       "      <th>786</th>\n",
       "      <td>5105</td>\n",
       "      <td>3223</td>\n",
       "      <td>Spring Creek Park (Downwind), Tomball, Texas</td>\n",
       "      <td>Texas</td>\n",
       "      <td>32</td>\n",
       "      <td>70</td>\n",
       "      <td>94 F</td>\n",
       "      <td>5</td>\n",
       "      <td>SSW</td>\n",
       "      <td>Partly Cloudy</td>\n",
       "      <td>...</td>\n",
       "      <td>6</td>\n",
       "      <td>6</td>\n",
       "      <td>6</td>\n",
       "      <td>24</td>\n",
       "      <td>61</td>\n",
       "      <td>41</td>\n",
       "      <td>NaN</td>\n",
       "      <td>32</td>\n",
       "      <td>1.878</td>\n",
       "      <td>2020-07-08 16:00:00</td>\n",
       "    </tr>\n",
       "    <tr>\n",
       "      <th>926</th>\n",
       "      <td>5194</td>\n",
       "      <td>2608</td>\n",
       "      <td>Carl Traeger middle school, Oshkosh, Wisconsin</td>\n",
       "      <td>Wisconsin</td>\n",
       "      <td>26</td>\n",
       "      <td>243.84</td>\n",
       "      <td>28.89</td>\n",
       "      <td>9</td>\n",
       "      <td>ENE</td>\n",
       "      <td>Clear skies and sunny</td>\n",
       "      <td>...</td>\n",
       "      <td>-888</td>\n",
       "      <td>-888</td>\n",
       "      <td>-888</td>\n",
       "      <td>5</td>\n",
       "      <td>7</td>\n",
       "      <td>-888</td>\n",
       "      <td>NaN</td>\n",
       "      <td>26</td>\n",
       "      <td>2.017</td>\n",
       "      <td>2020-07-01 13:09:00</td>\n",
       "    </tr>\n",
       "    <tr>\n",
       "      <th>927</th>\n",
       "      <td>7101</td>\n",
       "      <td>2609</td>\n",
       "      <td>Oakwood Manor, Oshkosh, Wisconsin</td>\n",
       "      <td>Wisconsin</td>\n",
       "      <td>26</td>\n",
       "      <td>234.696</td>\n",
       "      <td>30.5</td>\n",
       "      <td>8</td>\n",
       "      <td>ENE</td>\n",
       "      <td>Clear skies and sunny</td>\n",
       "      <td>...</td>\n",
       "      <td>-888</td>\n",
       "      <td>-888</td>\n",
       "      <td>-888</td>\n",
       "      <td>5</td>\n",
       "      <td>23</td>\n",
       "      <td>5</td>\n",
       "      <td>NaN</td>\n",
       "      <td>26</td>\n",
       "      <td>2.027</td>\n",
       "      <td>2020-07-01 13:26:00</td>\n",
       "    </tr>\n",
       "    <tr>\n",
       "      <th>928</th>\n",
       "      <td>8190</td>\n",
       "      <td>2624</td>\n",
       "      <td>South Park, Oshkosh, Wisconsin</td>\n",
       "      <td>Wisconsin</td>\n",
       "      <td>26</td>\n",
       "      <td>231.64</td>\n",
       "      <td>30.5</td>\n",
       "      <td>9</td>\n",
       "      <td>ENE</td>\n",
       "      <td>Clear skies and sunny</td>\n",
       "      <td>...</td>\n",
       "      <td>-888</td>\n",
       "      <td>-888</td>\n",
       "      <td>-888</td>\n",
       "      <td>5</td>\n",
       "      <td>11</td>\n",
       "      <td>3</td>\n",
       "      <td>NaN</td>\n",
       "      <td>26</td>\n",
       "      <td>1.983</td>\n",
       "      <td>2020-07-01 13:50:00</td>\n",
       "    </tr>\n",
       "  </tbody>\n",
       "</table>\n",
       "<p>66 rows × 115 columns</p>\n",
       "</div>"
      ],
      "text/plain": [
       "    Can #  Snake can #                                           Location  \\\n",
       "17   7336         3710   Mars Hill/Lowell Observatory, Flagstaff, Arizona   \n",
       "18   6035         3723                           Downtown Sedona, Arizona   \n",
       "209  7993          810  Anaheim AQMD site Loara Elementary school, Ana...   \n",
       "210  8247          808           Imperial Park, Anaheim Hills, California   \n",
       "211  9343         4110                                 Corona, California   \n",
       "..    ...          ...                                                ...   \n",
       "785  6157         3210       Spring Creek Park (Downwind), Tomball, Texas   \n",
       "786  5105         3223       Spring Creek Park (Downwind), Tomball, Texas   \n",
       "926  5194         2608     Carl Traeger middle school, Oshkosh, Wisconsin   \n",
       "927  7101         2609                  Oakwood Manor, Oshkosh, Wisconsin   \n",
       "928  8190         2624                    South Park, Oshkosh, Wisconsin    \n",
       "\n",
       "          State  Box Altitude (m) Temp. Celsius Wind Spd (mph)  \\\n",
       "17      Arizona   37         2200            27             10   \n",
       "18      Arizona   37         1350            36              7   \n",
       "209  California    8           40            22              5   \n",
       "210  California    8          137            23              5   \n",
       "211  California   41          NaN            29              0   \n",
       "..          ...  ...          ...           ...            ...   \n",
       "785       Texas   32           70          95 F              6   \n",
       "786       Texas   32           70          94 F              5   \n",
       "926   Wisconsin   26       243.84         28.89              9   \n",
       "927   Wisconsin   26      234.696          30.5              8   \n",
       "928   Wisconsin   26       231.64          30.5              9   \n",
       "\n",
       "    Wind direction (blowing from direction)                Weather  ...  \\\n",
       "17                                       SW        Slightly Cloudy  ...   \n",
       "18                                       SW        Clear and sunny  ...   \n",
       "209                                     SSW  sunny, but a bit hazy  ...   \n",
       "210                                     WSW  sunny, but a bit hazy  ...   \n",
       "211                                     NaN                  Clear  ...   \n",
       "..                                      ...                    ...  ...   \n",
       "785                                       S          Partly Cloudy  ...   \n",
       "786                                     SSW          Partly Cloudy  ...   \n",
       "926                                     ENE  Clear skies and sunny  ...   \n",
       "927                                     ENE  Clear skies and sunny  ...   \n",
       "928                                     ENE  Clear skies and sunny  ...   \n",
       "\n",
       "    4-Ethyltoluene (MS)  2-Ethyltoluene (MS)  1,3,5-Trimethylbenzene (MS)  \\\n",
       "17                 -888                 -888                         -888   \n",
       "18                 -888                 -888                         -888   \n",
       "209                   3                 -888                         -888   \n",
       "210                  22                   22                           20   \n",
       "211                   4                    3                         -888   \n",
       "..                  ...                  ...                          ...   \n",
       "785                   8                    6                            7   \n",
       "786                   6                    6                            6   \n",
       "926                -888                 -888                         -888   \n",
       "927                -888                 -888                         -888   \n",
       "928                -888                 -888                         -888   \n",
       "\n",
       "     1,2,4-Trimethylbenzene (MS)  alpha-Pinene (B/MS)  beta-Pinene (B/MS)  \\\n",
       "17                             4                  126                  12   \n",
       "18                             9                   44                  10   \n",
       "209                            6                    4                -888   \n",
       "210                           30                   27                   9   \n",
       "211                            5                   60                -888   \n",
       "..                           ...                  ...                 ...   \n",
       "785                           19                  147                  58   \n",
       "786                           24                   61                  41   \n",
       "926                            5                    7                -888   \n",
       "927                            5                   23                   5   \n",
       "928                            5                   11                   3   \n",
       "\n",
       "     Unnamed: 113  Box.1  CH4 (ppmv height).1            datetime  \n",
       "17            NaN     37                1.882 2020-07-04 12:48:00  \n",
       "18            NaN     37                1.882 2020-07-04 14:09:00  \n",
       "209           NaN      8                1.968 2020-07-02 12:06:00  \n",
       "210           NaN      8                1.984 2020-07-02 12:35:00  \n",
       "211           NaN     41                1.979 2020-07-03 11:21:00  \n",
       "..            ...    ...                  ...                 ...  \n",
       "785           NaN     32                1.881 2020-07-08 15:00:00  \n",
       "786           NaN     32                1.878 2020-07-08 16:00:00  \n",
       "926           NaN     26                2.017 2020-07-01 13:09:00  \n",
       "927           NaN     26                2.027 2020-07-01 13:26:00  \n",
       "928           NaN     26                1.983 2020-07-01 13:50:00  \n",
       "\n",
       "[66 rows x 115 columns]"
      ]
     },
     "execution_count": 60,
     "metadata": {},
     "output_type": "execute_result"
    }
   ],
   "source": [
    "# abs() or absolute value is what caputres days both before and after, since it gets positive and negative numbers\n",
    "was_2020[abs(was_2020['datetime'] - target_date) <= timedelta(days=7)]"
   ]
  },
  {
   "cell_type": "markdown",
   "id": "0fd48f29",
   "metadata": {},
   "source": [
    "#### Question 4"
   ]
  },
  {
   "cell_type": "code",
   "execution_count": 61,
   "id": "9d0cb3d9",
   "metadata": {},
   "outputs": [],
   "source": [
    "# Read in the data\n",
    "water_vars = pd.read_csv('./data/englewood_3_12_21_usgs_water.tsv', sep='\\t', skiprows=30)\n",
    "# There are a lot of variables here, so let's shorten our dataframe to a few variables\n",
    "water_vars = water_vars[['datetime', '210920_00060', '210922_00010', '210924_00300', '210925_00400']]\n",
    "# Get rid of the first row of hard-coded datatype info\n",
    "water_vars = water_vars.drop(0)\n",
    "# Rename the columns from their USGS codes to more human-readible names\n",
    "name_codes = {'210920_00060': 'discharge','210922_00010': 'temperature', '210924_00300': 'dissolved oxygen', '210925_00400': 'pH'}\n",
    "water_vars = water_vars.rename(columns=name_codes)\n",
    "# Convert columns with numbers to a numeric type\n",
    "water_vars['discharge'] = pd.to_numeric(water_vars['discharge'])\n",
    "water_vars['temperature'] = pd.to_numeric(water_vars['temperature'])\n",
    "water_vars['dissolved oxygen'] = pd.to_numeric(water_vars['dissolved oxygen'])\n",
    "water_vars['pH'] = pd.to_numeric(water_vars['pH'])"
   ]
  },
  {
   "cell_type": "code",
   "execution_count": 62,
   "id": "27bb83a4",
   "metadata": {},
   "outputs": [
    {
     "data": {
      "text/html": [
       "<div>\n",
       "<style scoped>\n",
       "    .dataframe tbody tr th:only-of-type {\n",
       "        vertical-align: middle;\n",
       "    }\n",
       "\n",
       "    .dataframe tbody tr th {\n",
       "        vertical-align: top;\n",
       "    }\n",
       "\n",
       "    .dataframe thead th {\n",
       "        text-align: right;\n",
       "    }\n",
       "</style>\n",
       "<table border=\"1\" class=\"dataframe\">\n",
       "  <thead>\n",
       "    <tr style=\"text-align: right;\">\n",
       "      <th></th>\n",
       "      <th>datetime</th>\n",
       "      <th>discharge</th>\n",
       "      <th>temperature</th>\n",
       "      <th>dissolved oxygen</th>\n",
       "      <th>pH</th>\n",
       "    </tr>\n",
       "  </thead>\n",
       "  <tbody>\n",
       "    <tr>\n",
       "      <th>1</th>\n",
       "      <td>2021-03-12 00:00</td>\n",
       "      <td>44.5</td>\n",
       "      <td>8.1</td>\n",
       "      <td>8.3</td>\n",
       "      <td>8.1</td>\n",
       "    </tr>\n",
       "    <tr>\n",
       "      <th>2</th>\n",
       "      <td>2021-03-12 00:15</td>\n",
       "      <td>44.5</td>\n",
       "      <td>8.1</td>\n",
       "      <td>8.2</td>\n",
       "      <td>8.1</td>\n",
       "    </tr>\n",
       "    <tr>\n",
       "      <th>3</th>\n",
       "      <td>2021-03-12 00:30</td>\n",
       "      <td>44.5</td>\n",
       "      <td>8.1</td>\n",
       "      <td>8.2</td>\n",
       "      <td>8.1</td>\n",
       "    </tr>\n",
       "    <tr>\n",
       "      <th>4</th>\n",
       "      <td>2021-03-12 00:45</td>\n",
       "      <td>44.5</td>\n",
       "      <td>8.1</td>\n",
       "      <td>8.1</td>\n",
       "      <td>8.1</td>\n",
       "    </tr>\n",
       "    <tr>\n",
       "      <th>5</th>\n",
       "      <td>2021-03-12 01:00</td>\n",
       "      <td>44.5</td>\n",
       "      <td>8.1</td>\n",
       "      <td>8.1</td>\n",
       "      <td>8.1</td>\n",
       "    </tr>\n",
       "    <tr>\n",
       "      <th>...</th>\n",
       "      <td>...</td>\n",
       "      <td>...</td>\n",
       "      <td>...</td>\n",
       "      <td>...</td>\n",
       "      <td>...</td>\n",
       "    </tr>\n",
       "    <tr>\n",
       "      <th>142</th>\n",
       "      <td>2021-03-13 11:15</td>\n",
       "      <td>42.6</td>\n",
       "      <td>6.7</td>\n",
       "      <td>9.8</td>\n",
       "      <td>7.9</td>\n",
       "    </tr>\n",
       "    <tr>\n",
       "      <th>143</th>\n",
       "      <td>2021-03-13 11:30</td>\n",
       "      <td>42.6</td>\n",
       "      <td>6.7</td>\n",
       "      <td>9.9</td>\n",
       "      <td>7.9</td>\n",
       "    </tr>\n",
       "    <tr>\n",
       "      <th>144</th>\n",
       "      <td>2021-03-13 11:45</td>\n",
       "      <td>42.6</td>\n",
       "      <td>6.7</td>\n",
       "      <td>10.2</td>\n",
       "      <td>7.9</td>\n",
       "    </tr>\n",
       "    <tr>\n",
       "      <th>145</th>\n",
       "      <td>2021-03-13 12:00</td>\n",
       "      <td>46.5</td>\n",
       "      <td>6.7</td>\n",
       "      <td>10.3</td>\n",
       "      <td>7.9</td>\n",
       "    </tr>\n",
       "    <tr>\n",
       "      <th>146</th>\n",
       "      <td>2021-03-13 12:15</td>\n",
       "      <td>NaN</td>\n",
       "      <td>6.6</td>\n",
       "      <td>10.3</td>\n",
       "      <td>7.9</td>\n",
       "    </tr>\n",
       "  </tbody>\n",
       "</table>\n",
       "<p>146 rows × 5 columns</p>\n",
       "</div>"
      ],
      "text/plain": [
       "             datetime  discharge  temperature  dissolved oxygen   pH\n",
       "1    2021-03-12 00:00       44.5          8.1               8.3  8.1\n",
       "2    2021-03-12 00:15       44.5          8.1               8.2  8.1\n",
       "3    2021-03-12 00:30       44.5          8.1               8.2  8.1\n",
       "4    2021-03-12 00:45       44.5          8.1               8.1  8.1\n",
       "5    2021-03-12 01:00       44.5          8.1               8.1  8.1\n",
       "..                ...        ...          ...               ...  ...\n",
       "142  2021-03-13 11:15       42.6          6.7               9.8  7.9\n",
       "143  2021-03-13 11:30       42.6          6.7               9.9  7.9\n",
       "144  2021-03-13 11:45       42.6          6.7              10.2  7.9\n",
       "145  2021-03-13 12:00       46.5          6.7              10.3  7.9\n",
       "146  2021-03-13 12:15        NaN          6.6              10.3  7.9\n",
       "\n",
       "[146 rows x 5 columns]"
      ]
     },
     "execution_count": 62,
     "metadata": {},
     "output_type": "execute_result"
    }
   ],
   "source": [
    "water_vars"
   ]
  },
  {
   "cell_type": "markdown",
   "id": "93e1f98b",
   "metadata": {},
   "source": [
    "**A)** Convert the 'datetime' string column to a column of datetime objects using `pd.to_datetime()`."
   ]
  },
  {
   "cell_type": "code",
   "execution_count": 63,
   "id": "d7752dfa",
   "metadata": {},
   "outputs": [],
   "source": [
    "water_vars['datetime'] = pd.to_datetime(water_vars['datetime'], format='%Y-%m-%d %H:%M')"
   ]
  },
  {
   "cell_type": "markdown",
   "id": "e5dbd81d",
   "metadata": {},
   "source": [
    "**B)** Set the new datetime column as the index of the dataframe."
   ]
  },
  {
   "cell_type": "code",
   "execution_count": 64,
   "id": "fac7179b",
   "metadata": {},
   "outputs": [],
   "source": [
    "water_vars = water_vars.set_index('datetime')"
   ]
  },
  {
   "cell_type": "markdown",
   "id": "b0411537",
   "metadata": {},
   "source": [
    "**C)** Use the new index to retrieve the value for `'2021-03-12 13:30:00'`"
   ]
  },
  {
   "cell_type": "code",
   "execution_count": 65,
   "id": "e19490e5",
   "metadata": {},
   "outputs": [
    {
     "data": {
      "text/plain": [
       "discharge           40.8\n",
       "temperature          7.6\n",
       "dissolved oxygen    11.9\n",
       "pH                   8.1\n",
       "Name: 2021-03-12 13:30:00, dtype: float64"
      ]
     },
     "execution_count": 65,
     "metadata": {},
     "output_type": "execute_result"
    }
   ],
   "source": [
    "water_vars.loc['2021-03-12 13:30:00']"
   ]
  },
  {
   "cell_type": "markdown",
   "id": "df4ad33b",
   "metadata": {},
   "source": [
    "**D)** One cool thing we can do when we have a datetime index is easily **resample** the data.  Resampling is when we aggregate more finely resolved data to be more coarsely resolved. In this example we will be taking data that is reported every 15 minutes and resampling to an hourly resolution.\n",
    "\n",
    "Use the `DATAFRAME.resample()` function to resample to hourly resolution using the mean value of the 15 minute intervals.  Check out the [docs page](https://pandas.pydata.org/pandas-docs/stable/reference/api/pandas.DataFrame.resample.html) or the [pandas datetime overview](https://pandas.pydata.org/pandas-docs/stable/user_guide/timeseries.html#time-series-date-functionality) for examples."
   ]
  },
  {
   "cell_type": "code",
   "execution_count": 66,
   "id": "2d8bec0c",
   "metadata": {},
   "outputs": [
    {
     "data": {
      "text/html": [
       "<div>\n",
       "<style scoped>\n",
       "    .dataframe tbody tr th:only-of-type {\n",
       "        vertical-align: middle;\n",
       "    }\n",
       "\n",
       "    .dataframe tbody tr th {\n",
       "        vertical-align: top;\n",
       "    }\n",
       "\n",
       "    .dataframe thead th {\n",
       "        text-align: right;\n",
       "    }\n",
       "</style>\n",
       "<table border=\"1\" class=\"dataframe\">\n",
       "  <thead>\n",
       "    <tr style=\"text-align: right;\">\n",
       "      <th></th>\n",
       "      <th>discharge</th>\n",
       "      <th>temperature</th>\n",
       "      <th>dissolved oxygen</th>\n",
       "      <th>pH</th>\n",
       "    </tr>\n",
       "    <tr>\n",
       "      <th>datetime</th>\n",
       "      <th></th>\n",
       "      <th></th>\n",
       "      <th></th>\n",
       "      <th></th>\n",
       "    </tr>\n",
       "  </thead>\n",
       "  <tbody>\n",
       "    <tr>\n",
       "      <th>2021-03-12 00:00:00</th>\n",
       "      <td>44.500</td>\n",
       "      <td>8.100000</td>\n",
       "      <td>8.200</td>\n",
       "      <td>8.100</td>\n",
       "    </tr>\n",
       "    <tr>\n",
       "      <th>2021-03-12 01:00:00</th>\n",
       "      <td>44.500</td>\n",
       "      <td>8.050000</td>\n",
       "      <td>8.050</td>\n",
       "      <td>8.100</td>\n",
       "    </tr>\n",
       "    <tr>\n",
       "      <th>2021-03-12 02:00:00</th>\n",
       "      <td>44.500</td>\n",
       "      <td>7.950000</td>\n",
       "      <td>7.975</td>\n",
       "      <td>8.100</td>\n",
       "    </tr>\n",
       "    <tr>\n",
       "      <th>2021-03-12 03:00:00</th>\n",
       "      <td>44.500</td>\n",
       "      <td>7.750000</td>\n",
       "      <td>8.000</td>\n",
       "      <td>8.100</td>\n",
       "    </tr>\n",
       "    <tr>\n",
       "      <th>2021-03-12 04:00:00</th>\n",
       "      <td>46.500</td>\n",
       "      <td>7.533333</td>\n",
       "      <td>8.000</td>\n",
       "      <td>8.100</td>\n",
       "    </tr>\n",
       "    <tr>\n",
       "      <th>2021-03-12 05:00:00</th>\n",
       "      <td>47.500</td>\n",
       "      <td>7.350000</td>\n",
       "      <td>8.050</td>\n",
       "      <td>8.000</td>\n",
       "    </tr>\n",
       "    <tr>\n",
       "      <th>2021-03-12 06:00:00</th>\n",
       "      <td>48.500</td>\n",
       "      <td>7.100000</td>\n",
       "      <td>8.150</td>\n",
       "      <td>7.950</td>\n",
       "    </tr>\n",
       "    <tr>\n",
       "      <th>2021-03-12 07:00:00</th>\n",
       "      <td>48.500</td>\n",
       "      <td>6.900000</td>\n",
       "      <td>8.250</td>\n",
       "      <td>7.900</td>\n",
       "    </tr>\n",
       "    <tr>\n",
       "      <th>2021-03-12 08:00:00</th>\n",
       "      <td>47.500</td>\n",
       "      <td>6.725000</td>\n",
       "      <td>8.475</td>\n",
       "      <td>7.900</td>\n",
       "    </tr>\n",
       "    <tr>\n",
       "      <th>2021-03-12 09:00:00</th>\n",
       "      <td>46.500</td>\n",
       "      <td>6.700000</td>\n",
       "      <td>8.850</td>\n",
       "      <td>7.900</td>\n",
       "    </tr>\n",
       "    <tr>\n",
       "      <th>2021-03-12 10:00:00</th>\n",
       "      <td>44.500</td>\n",
       "      <td>6.725000</td>\n",
       "      <td>9.500</td>\n",
       "      <td>7.900</td>\n",
       "    </tr>\n",
       "    <tr>\n",
       "      <th>2021-03-12 11:00:00</th>\n",
       "      <td>43.550</td>\n",
       "      <td>6.900000</td>\n",
       "      <td>10.325</td>\n",
       "      <td>7.950</td>\n",
       "    </tr>\n",
       "    <tr>\n",
       "      <th>2021-03-12 12:00:00</th>\n",
       "      <td>42.600</td>\n",
       "      <td>7.150000</td>\n",
       "      <td>11.150</td>\n",
       "      <td>8.000</td>\n",
       "    </tr>\n",
       "    <tr>\n",
       "      <th>2021-03-12 13:00:00</th>\n",
       "      <td>40.800</td>\n",
       "      <td>7.550000</td>\n",
       "      <td>11.850</td>\n",
       "      <td>8.100</td>\n",
       "    </tr>\n",
       "    <tr>\n",
       "      <th>2021-03-12 14:00:00</th>\n",
       "      <td>39.900</td>\n",
       "      <td>8.075000</td>\n",
       "      <td>12.525</td>\n",
       "      <td>8.150</td>\n",
       "    </tr>\n",
       "    <tr>\n",
       "      <th>2021-03-12 15:00:00</th>\n",
       "      <td>39.000</td>\n",
       "      <td>8.450000</td>\n",
       "      <td>13.025</td>\n",
       "      <td>8.200</td>\n",
       "    </tr>\n",
       "    <tr>\n",
       "      <th>2021-03-12 16:00:00</th>\n",
       "      <td>40.350</td>\n",
       "      <td>8.475000</td>\n",
       "      <td>12.950</td>\n",
       "      <td>8.200</td>\n",
       "    </tr>\n",
       "    <tr>\n",
       "      <th>2021-03-12 17:00:00</th>\n",
       "      <td>41.700</td>\n",
       "      <td>8.400000</td>\n",
       "      <td>12.125</td>\n",
       "      <td>8.125</td>\n",
       "    </tr>\n",
       "    <tr>\n",
       "      <th>2021-03-12 18:00:00</th>\n",
       "      <td>44.025</td>\n",
       "      <td>8.300000</td>\n",
       "      <td>11.225</td>\n",
       "      <td>8.025</td>\n",
       "    </tr>\n",
       "    <tr>\n",
       "      <th>2021-03-12 19:00:00</th>\n",
       "      <td>45.500</td>\n",
       "      <td>8.250000</td>\n",
       "      <td>10.650</td>\n",
       "      <td>8.000</td>\n",
       "    </tr>\n",
       "    <tr>\n",
       "      <th>2021-03-12 20:00:00</th>\n",
       "      <td>46.500</td>\n",
       "      <td>8.100000</td>\n",
       "      <td>10.100</td>\n",
       "      <td>7.925</td>\n",
       "    </tr>\n",
       "    <tr>\n",
       "      <th>2021-03-12 21:00:00</th>\n",
       "      <td>46.500</td>\n",
       "      <td>7.950000</td>\n",
       "      <td>9.575</td>\n",
       "      <td>7.900</td>\n",
       "    </tr>\n",
       "    <tr>\n",
       "      <th>2021-03-12 22:00:00</th>\n",
       "      <td>46.000</td>\n",
       "      <td>7.800000</td>\n",
       "      <td>9.050</td>\n",
       "      <td>7.900</td>\n",
       "    </tr>\n",
       "    <tr>\n",
       "      <th>2021-03-12 23:00:00</th>\n",
       "      <td>44.500</td>\n",
       "      <td>7.700000</td>\n",
       "      <td>8.750</td>\n",
       "      <td>7.925</td>\n",
       "    </tr>\n",
       "    <tr>\n",
       "      <th>2021-03-13 00:00:00</th>\n",
       "      <td>44.500</td>\n",
       "      <td>7.700000</td>\n",
       "      <td>8.550</td>\n",
       "      <td>8.000</td>\n",
       "    </tr>\n",
       "    <tr>\n",
       "      <th>2021-03-13 01:00:00</th>\n",
       "      <td>44.500</td>\n",
       "      <td>7.700000</td>\n",
       "      <td>8.375</td>\n",
       "      <td>8.000</td>\n",
       "    </tr>\n",
       "    <tr>\n",
       "      <th>2021-03-13 02:00:00</th>\n",
       "      <td>44.500</td>\n",
       "      <td>7.675000</td>\n",
       "      <td>8.275</td>\n",
       "      <td>8.000</td>\n",
       "    </tr>\n",
       "    <tr>\n",
       "      <th>2021-03-13 03:00:00</th>\n",
       "      <td>44.500</td>\n",
       "      <td>7.600000</td>\n",
       "      <td>8.200</td>\n",
       "      <td>8.000</td>\n",
       "    </tr>\n",
       "    <tr>\n",
       "      <th>2021-03-13 04:00:00</th>\n",
       "      <td>46.000</td>\n",
       "      <td>7.475000</td>\n",
       "      <td>8.200</td>\n",
       "      <td>8.000</td>\n",
       "    </tr>\n",
       "    <tr>\n",
       "      <th>2021-03-13 05:00:00</th>\n",
       "      <td>46.500</td>\n",
       "      <td>7.350000</td>\n",
       "      <td>8.200</td>\n",
       "      <td>7.950</td>\n",
       "    </tr>\n",
       "    <tr>\n",
       "      <th>2021-03-13 06:00:00</th>\n",
       "      <td>46.500</td>\n",
       "      <td>7.150000</td>\n",
       "      <td>8.200</td>\n",
       "      <td>7.900</td>\n",
       "    </tr>\n",
       "    <tr>\n",
       "      <th>2021-03-13 07:00:00</th>\n",
       "      <td>46.500</td>\n",
       "      <td>6.966667</td>\n",
       "      <td>8.300</td>\n",
       "      <td>7.850</td>\n",
       "    </tr>\n",
       "    <tr>\n",
       "      <th>2021-03-13 08:00:00</th>\n",
       "      <td>46.500</td>\n",
       "      <td>6.875000</td>\n",
       "      <td>8.575</td>\n",
       "      <td>7.800</td>\n",
       "    </tr>\n",
       "    <tr>\n",
       "      <th>2021-03-13 09:00:00</th>\n",
       "      <td>46.500</td>\n",
       "      <td>6.800000</td>\n",
       "      <td>9.050</td>\n",
       "      <td>7.875</td>\n",
       "    </tr>\n",
       "    <tr>\n",
       "      <th>2021-03-13 10:00:00</th>\n",
       "      <td>45.000</td>\n",
       "      <td>6.775000</td>\n",
       "      <td>9.475</td>\n",
       "      <td>7.900</td>\n",
       "    </tr>\n",
       "    <tr>\n",
       "      <th>2021-03-13 11:00:00</th>\n",
       "      <td>42.600</td>\n",
       "      <td>6.700000</td>\n",
       "      <td>9.900</td>\n",
       "      <td>7.900</td>\n",
       "    </tr>\n",
       "    <tr>\n",
       "      <th>2021-03-13 12:00:00</th>\n",
       "      <td>46.500</td>\n",
       "      <td>6.650000</td>\n",
       "      <td>10.300</td>\n",
       "      <td>7.900</td>\n",
       "    </tr>\n",
       "  </tbody>\n",
       "</table>\n",
       "</div>"
      ],
      "text/plain": [
       "                     discharge  temperature  dissolved oxygen     pH\n",
       "datetime                                                            \n",
       "2021-03-12 00:00:00     44.500     8.100000             8.200  8.100\n",
       "2021-03-12 01:00:00     44.500     8.050000             8.050  8.100\n",
       "2021-03-12 02:00:00     44.500     7.950000             7.975  8.100\n",
       "2021-03-12 03:00:00     44.500     7.750000             8.000  8.100\n",
       "2021-03-12 04:00:00     46.500     7.533333             8.000  8.100\n",
       "2021-03-12 05:00:00     47.500     7.350000             8.050  8.000\n",
       "2021-03-12 06:00:00     48.500     7.100000             8.150  7.950\n",
       "2021-03-12 07:00:00     48.500     6.900000             8.250  7.900\n",
       "2021-03-12 08:00:00     47.500     6.725000             8.475  7.900\n",
       "2021-03-12 09:00:00     46.500     6.700000             8.850  7.900\n",
       "2021-03-12 10:00:00     44.500     6.725000             9.500  7.900\n",
       "2021-03-12 11:00:00     43.550     6.900000            10.325  7.950\n",
       "2021-03-12 12:00:00     42.600     7.150000            11.150  8.000\n",
       "2021-03-12 13:00:00     40.800     7.550000            11.850  8.100\n",
       "2021-03-12 14:00:00     39.900     8.075000            12.525  8.150\n",
       "2021-03-12 15:00:00     39.000     8.450000            13.025  8.200\n",
       "2021-03-12 16:00:00     40.350     8.475000            12.950  8.200\n",
       "2021-03-12 17:00:00     41.700     8.400000            12.125  8.125\n",
       "2021-03-12 18:00:00     44.025     8.300000            11.225  8.025\n",
       "2021-03-12 19:00:00     45.500     8.250000            10.650  8.000\n",
       "2021-03-12 20:00:00     46.500     8.100000            10.100  7.925\n",
       "2021-03-12 21:00:00     46.500     7.950000             9.575  7.900\n",
       "2021-03-12 22:00:00     46.000     7.800000             9.050  7.900\n",
       "2021-03-12 23:00:00     44.500     7.700000             8.750  7.925\n",
       "2021-03-13 00:00:00     44.500     7.700000             8.550  8.000\n",
       "2021-03-13 01:00:00     44.500     7.700000             8.375  8.000\n",
       "2021-03-13 02:00:00     44.500     7.675000             8.275  8.000\n",
       "2021-03-13 03:00:00     44.500     7.600000             8.200  8.000\n",
       "2021-03-13 04:00:00     46.000     7.475000             8.200  8.000\n",
       "2021-03-13 05:00:00     46.500     7.350000             8.200  7.950\n",
       "2021-03-13 06:00:00     46.500     7.150000             8.200  7.900\n",
       "2021-03-13 07:00:00     46.500     6.966667             8.300  7.850\n",
       "2021-03-13 08:00:00     46.500     6.875000             8.575  7.800\n",
       "2021-03-13 09:00:00     46.500     6.800000             9.050  7.875\n",
       "2021-03-13 10:00:00     45.000     6.775000             9.475  7.900\n",
       "2021-03-13 11:00:00     42.600     6.700000             9.900  7.900\n",
       "2021-03-13 12:00:00     46.500     6.650000            10.300  7.900"
      ]
     },
     "execution_count": 66,
     "metadata": {},
     "output_type": "execute_result"
    }
   ],
   "source": [
    "water_vars.resample(\"H\").mean()"
   ]
  },
  {
   "cell_type": "code",
   "execution_count": null,
   "id": "b0524c60",
   "metadata": {},
   "outputs": [],
   "source": []
  }
 ],
 "metadata": {
  "kernelspec": {
   "display_name": "Python 3 (ipykernel)",
   "language": "python",
   "name": "python3"
  },
  "language_info": {
   "codemirror_mode": {
    "name": "ipython",
    "version": 3
   },
   "file_extension": ".py",
   "mimetype": "text/x-python",
   "name": "python",
   "nbconvert_exporter": "python",
   "pygments_lexer": "ipython3",
   "version": "3.9.5"
  }
 },
 "nbformat": 4,
 "nbformat_minor": 5
}
