{
 "cells": [
  {
   "cell_type": "markdown",
   "id": "de83f833",
   "metadata": {},
   "source": [
    "# Lesson 6"
   ]
  },
  {
   "cell_type": "code",
   "execution_count": 1,
   "id": "3cf4e7d4",
   "metadata": {},
   "outputs": [],
   "source": [
    "import shapely"
   ]
  },
  {
   "cell_type": "markdown",
   "id": "f0a128cb",
   "metadata": {},
   "source": [
    "## Vector data vs. Raster data"
   ]
  },
  {
   "cell_type": "code",
   "execution_count": null,
   "id": "2a444ef9",
   "metadata": {},
   "outputs": [],
   "source": []
  },
  {
   "cell_type": "code",
   "execution_count": null,
   "id": "21e7bea9",
   "metadata": {},
   "outputs": [],
   "source": []
  },
  {
   "cell_type": "code",
   "execution_count": null,
   "id": "a1482ee5",
   "metadata": {},
   "outputs": [],
   "source": []
  },
  {
   "cell_type": "markdown",
   "id": "a7023757",
   "metadata": {},
   "source": [
    "## `shapely`\n",
    "`shapely` is a library for handling vector data.  It has objects for Points, LineStrings, LineRings,and Polygons. Points and Polygons are what we will primarily use."
   ]
  },
  {
   "cell_type": "markdown",
   "id": "05d287cb",
   "metadata": {},
   "source": [
    "You create a `shapely` object by giving it a set of coordinates, in the format (x, y).\n",
    "\n",
    "!! Watch out! x, y for degree coordinates is longitude, latitude"
   ]
  },
  {
   "cell_type": "code",
   "execution_count": 2,
   "id": "7798f240",
   "metadata": {},
   "outputs": [],
   "source": [
    "from shapely.geometry import Point"
   ]
  },
  {
   "cell_type": "code",
   "execution_count": 4,
   "id": "6dfc5a9b",
   "metadata": {},
   "outputs": [
    {
     "name": "stdout",
     "output_type": "stream",
     "text": [
      "POINT (0 0)\n"
     ]
    }
   ],
   "source": [
    "point = Point(0.0, 0.0)\n",
    "print(point)"
   ]
  },
  {
   "cell_type": "markdown",
   "id": "3217b7f4",
   "metadata": {},
   "source": [
    "Creating polygons"
   ]
  },
  {
   "cell_type": "code",
   "execution_count": 5,
   "id": "34c4dc1e",
   "metadata": {},
   "outputs": [],
   "source": [
    "from shapely.geometry import Polygon"
   ]
  },
  {
   "cell_type": "code",
   "execution_count": 6,
   "id": "4830d3db",
   "metadata": {},
   "outputs": [],
   "source": [
    "polygon = Polygon([(0, 0), (1, 1), (1, 0)])"
   ]
  },
  {
   "cell_type": "code",
   "execution_count": 9,
   "id": "4968c017",
   "metadata": {},
   "outputs": [
    {
     "name": "stdout",
     "output_type": "stream",
     "text": [
      "0.5\n",
      "3.414213562373095\n",
      "(0.0, 0.0, 1.0, 1.0)\n"
     ]
    }
   ],
   "source": [
    "print(polygon.area)\n",
    "print(polygon.length)\n",
    "print(polygon.bounds)"
   ]
  },
  {
   "cell_type": "markdown",
   "id": "e8e5dbba",
   "metadata": {},
   "source": [
    "Another really common shapely object is a bounding box"
   ]
  },
  {
   "cell_type": "code",
   "execution_count": 10,
   "id": "3dfa87bd",
   "metadata": {},
   "outputs": [],
   "source": [
    "from shapely.geometry import box"
   ]
  },
  {
   "cell_type": "code",
   "execution_count": 16,
   "id": "e7bb44e6",
   "metadata": {},
   "outputs": [],
   "source": [
    "b = box(0.0, 0.0, 1.0, 1.0)"
   ]
  },
  {
   "cell_type": "markdown",
   "id": "9a0cc3ae",
   "metadata": {},
   "source": [
    "_Diagram mapping minx, miny, etc. -> N, S, E, W?_"
   ]
  },
  {
   "cell_type": "code",
   "execution_count": null,
   "id": "6a6ea627",
   "metadata": {},
   "outputs": [],
   "source": []
  },
  {
   "cell_type": "code",
   "execution_count": null,
   "id": "d8910302",
   "metadata": {},
   "outputs": [],
   "source": []
  },
  {
   "cell_type": "code",
   "execution_count": null,
   "id": "fdf5719c",
   "metadata": {},
   "outputs": [],
   "source": []
  },
  {
   "cell_type": "markdown",
   "id": "72111087",
   "metadata": {},
   "source": [
    "## Masked Arrays"
   ]
  },
  {
   "cell_type": "code",
   "execution_count": null,
   "id": "1c711f29",
   "metadata": {},
   "outputs": [],
   "source": []
  },
  {
   "cell_type": "code",
   "execution_count": null,
   "id": "66dff9e5",
   "metadata": {},
   "outputs": [],
   "source": []
  },
  {
   "cell_type": "code",
   "execution_count": null,
   "id": "48d39138",
   "metadata": {},
   "outputs": [],
   "source": []
  }
 ],
 "metadata": {
  "kernelspec": {
   "display_name": "Python [conda env:lectures] *",
   "language": "python",
   "name": "conda-env-lectures-py"
  },
  "language_info": {
   "codemirror_mode": {
    "name": "ipython",
    "version": 3
   },
   "file_extension": ".py",
   "mimetype": "text/x-python",
   "name": "python",
   "nbconvert_exporter": "python",
   "pygments_lexer": "ipython3",
   "version": "3.8.8"
  }
 },
 "nbformat": 4,
 "nbformat_minor": 5
}
