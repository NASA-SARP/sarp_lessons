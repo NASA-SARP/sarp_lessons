{
 "cells": [
  {
   "cell_type": "markdown",
   "id": "533b017b",
   "metadata": {},
   "source": [
    "# Practice with `geopandas`"
   ]
  },
  {
   "cell_type": "markdown",
   "id": "3b20eba2",
   "metadata": {},
   "source": [
    "Here I have write out the code to load in the SARP 2020 at home data.  If you'd like to use your own dataset for this practice the questions are generally generic enough for you to try this with any spatial dataset."
   ]
  },
  {
   "cell_type": "code",
   "execution_count": 1,
   "id": "4964092d",
   "metadata": {},
   "outputs": [],
   "source": [
    "import pandas as pd"
   ]
  },
  {
   "cell_type": "code",
   "execution_count": 2,
   "id": "d3aa6e44",
   "metadata": {},
   "outputs": [],
   "source": [
    "filepath = './data/SARP 2020 final.xlsx'\n",
    "SARP_2020 = pd.read_excel(filepath)[:929]"
   ]
  },
  {
   "cell_type": "markdown",
   "id": "40368b5c",
   "metadata": {},
   "source": [
    "1. What are the column names for latitude and longitude?"
   ]
  },
  {
   "cell_type": "code",
   "execution_count": null,
   "id": "f8b07934",
   "metadata": {},
   "outputs": [],
   "source": []
  },
  {
   "cell_type": "markdown",
   "id": "27dcdee6",
   "metadata": {},
   "source": [
    "2. Use the latitude and longitude columns to create a list of geometry objects that represents the data location of this dataframe."
   ]
  },
  {
   "cell_type": "code",
   "execution_count": null,
   "id": "781efb65",
   "metadata": {},
   "outputs": [],
   "source": []
  },
  {
   "cell_type": "markdown",
   "id": "e3ff0851",
   "metadata": {},
   "source": [
    "3. Create a GeoDataFrame for the SARP_2020 data.  Call the dataset `geoSARP_2020`."
   ]
  },
  {
   "cell_type": "code",
   "execution_count": null,
   "id": "2c2d6776",
   "metadata": {},
   "outputs": [],
   "source": []
  },
  {
   "cell_type": "markdown",
   "id": "b00f54ca",
   "metadata": {},
   "source": [
    "4. Since you know you will likely want to do some distance or area calculations, reproject your dataframe to epsg:3857 and save the reprojected dataframe to the variable `geoSARP_2020_meters`"
   ]
  },
  {
   "cell_type": "code",
   "execution_count": null,
   "id": "b31b3246",
   "metadata": {},
   "outputs": [],
   "source": []
  },
  {
   "cell_type": "markdown",
   "id": "e5304bb9",
   "metadata": {},
   "source": [
    "5. The world's largest ball of twine is located in Cawker City, Kansas, at 39.5094° N, 98.4344° W.  For reasons which are scientifically ambiguous, find the distance from each location to the world's largest ball of twine."
   ]
  },
  {
   "cell_type": "code",
   "execution_count": null,
   "id": "db4743bf",
   "metadata": {},
   "outputs": [],
   "source": []
  },
  {
   "cell_type": "markdown",
   "id": "dad295dc",
   "metadata": {},
   "source": [
    "6. Which sampling location is closest to the world's largest ball of twine?  Which is the furthest away?"
   ]
  },
  {
   "cell_type": "code",
   "execution_count": null,
   "id": "ad70e6c0",
   "metadata": {},
   "outputs": [],
   "source": []
  },
  {
   "cell_type": "markdown",
   "id": "20a118f8",
   "metadata": {},
   "source": [
    "7. (process not covered in lecture) What is the total area covered by all all of the points in the dataset?"
   ]
  },
  {
   "cell_type": "code",
   "execution_count": null,
   "id": "91648200",
   "metadata": {},
   "outputs": [],
   "source": []
  },
  {
   "cell_type": "markdown",
   "id": "1071b188",
   "metadata": {},
   "source": [
    "_**Google hint**_: \"shapely calcuale area of set of points\" or [this article](https://stackoverflow.com/questions/20094346/is-there-an-envelope-class-in-shapely)_"
   ]
  },
  {
   "cell_type": "markdown",
   "id": "fb8a172b",
   "metadata": {},
   "source": [
    "8. Here I have imported the shape of California from a geojson."
   ]
  },
  {
   "cell_type": "code",
   "execution_count": 3,
   "id": "807da958",
   "metadata": {},
   "outputs": [],
   "source": [
    "from shapely.geometry import shape\n",
    "import json"
   ]
  },
  {
   "cell_type": "code",
   "execution_count": 4,
   "id": "5ae7d7cc",
   "metadata": {},
   "outputs": [],
   "source": [
    "with open('./data/california.geojson') as f:\n",
    "    ca_geom_json = json.load(f)\n",
    "ca_geom = shape(ca_geom_json['geometry'])"
   ]
  },
  {
   "cell_type": "markdown",
   "id": "de175ab1",
   "metadata": {},
   "source": [
    "Create a boolean Series showing if each point is intersects the state of California."
   ]
  },
  {
   "cell_type": "code",
   "execution_count": null,
   "id": "dc7d6653",
   "metadata": {},
   "outputs": [],
   "source": []
  },
  {
   "cell_type": "markdown",
   "id": "731cd48c",
   "metadata": {},
   "source": [
    "9. Use that boolean series to filter your dataframe to only the samples which were taken in California"
   ]
  },
  {
   "cell_type": "code",
   "execution_count": null,
   "id": "e55d4368",
   "metadata": {},
   "outputs": [],
   "source": []
  },
  {
   "cell_type": "markdown",
   "id": "d1ce2046",
   "metadata": {},
   "source": [
    "10. Filter your dataset to only samples which were taken in California and also had a `'CO (ppbv)'` value over 102"
   ]
  },
  {
   "cell_type": "code",
   "execution_count": null,
   "id": "78ac6499",
   "metadata": {},
   "outputs": [],
   "source": []
  },
  {
   "cell_type": "code",
   "execution_count": null,
   "id": "0297d191",
   "metadata": {},
   "outputs": [],
   "source": []
  },
  {
   "cell_type": "markdown",
   "id": "67d27b0c",
   "metadata": {},
   "source": [
    "# Hints"
   ]
  },
  {
   "cell_type": "markdown",
   "id": "ab781440",
   "metadata": {},
   "source": [
    "1. Try using `DATAFRAME.columns.values`"
   ]
  },
  {
   "cell_type": "markdown",
   "id": "4171ae49",
   "metadata": {},
   "source": [
    "2. `gpd.points_from_xy()`, with an example in the lecture notebook"
   ]
  },
  {
   "cell_type": "markdown",
   "id": "dee6c823",
   "metadata": {},
   "source": [
    "3. `gpd.GeoDataFrame(DATAFRAME, geometry=LIST_OF_GEOMETRIES)`"
   ]
  },
  {
   "cell_type": "markdown",
   "id": "b0afb4a9",
   "metadata": {},
   "source": [
    "4. Don't forget to set the crs of the dataframe to epsg=4326 before reprojecting"
   ]
  },
  {
   "cell_type": "markdown",
   "id": "888acd44",
   "metadata": {},
   "source": [
    "5. Remember to use the dataframe in meters"
   ]
  },
  {
   "cell_type": "markdown",
   "id": "e7f3cc5b",
   "metadata": {},
   "source": [
    "7. First answer in the [stackoverflow article](https://stackoverflow.com/questions/20094346/is-there-an-envelope-class-in-shapely).  Calculate area with `SHAPELY_OBJ.area`"
   ]
  },
  {
   "cell_type": "markdown",
   "id": "ea454fcd",
   "metadata": {},
   "source": [
    "8. Which version of the SARP_2020 data should you be using?  The one in meters or in degrees?"
   ]
  },
  {
   "cell_type": "markdown",
   "id": "cc453bcf",
   "metadata": {},
   "source": [
    "9. The spatial operation that corresponds to \"taken in California\" is `.intersects()`"
   ]
  },
  {
   "cell_type": "markdown",
   "id": "a6985e7e",
   "metadata": {},
   "source": [
    "10. Here we are using multiple statements in a filter.  Look back at lesson 4 for a reminder on this syntax"
   ]
  },
  {
   "cell_type": "code",
   "execution_count": null,
   "id": "af2ef7c1",
   "metadata": {},
   "outputs": [],
   "source": []
  }
 ],
 "metadata": {
  "kernelspec": {
   "display_name": "Python [conda env:.conda-lessons]",
   "language": "python",
   "name": "conda-env-.conda-lessons-py"
  },
  "language_info": {
   "codemirror_mode": {
    "name": "ipython",
    "version": 3
   },
   "file_extension": ".py",
   "mimetype": "text/x-python",
   "name": "python",
   "nbconvert_exporter": "python",
   "pygments_lexer": "ipython3",
   "version": "3.9.5"
  }
 },
 "nbformat": 4,
 "nbformat_minor": 5
}
