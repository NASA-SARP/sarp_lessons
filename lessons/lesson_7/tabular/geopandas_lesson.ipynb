{
 "cells": [
  {
   "cell_type": "markdown",
   "id": "5680ff45",
   "metadata": {},
   "source": [
    "# `geopandas`, Tabular data group"
   ]
  },
  {
   "cell_type": "markdown",
   "id": "746e0170",
   "metadata": {},
   "source": [
    "## Contents\n",
    "- `geopandas` vs. `pandas`\n",
    "- spatial data operations\n",
    "- reprojecting to meters\n",
    "- filtering a geodataframe by a vector"
   ]
  },
  {
   "cell_type": "markdown",
   "id": "0f3d9efd",
   "metadata": {},
   "source": [
    "## Context\n",
    "\n",
    "🐼➕🌐 = 🚀🎉❤️\n",
    "\n",
    "We've used `pandas` to help us get the most out of our csv and excel data.  We talked yesterday about how spatial data is stored and organized.  Today we combine both worlds with `geopandas`, an extenions of `pandas` specific to spatial data.\n",
    "\n",
    "Just like how we saw that converting datetime strings to Python datetime objects, converting our latitudes and longitudes to points allows us to use a world more of spatial data analysis techniques.  It's so exciting!"
   ]
  },
  {
   "cell_type": "markdown",
   "id": "ee7e6c8b",
   "metadata": {},
   "source": [
    "## `geopandas`\n",
    "\n",
    "GeoPandas is an extension of Pandas. GeoDataFrames have the same row, column structure with indexes that are accessed in the same way as Pandas. The difference is that they also have a `geometry` column.\n",
    "\n",
    "<img src='./images/geodataframe.png'>"
   ]
  },
  {
   "cell_type": "markdown",
   "id": "4649f43a",
   "metadata": {},
   "source": [
    "Let's look at an example geodataframe that comes pre-loaded on geopandas."
   ]
  },
  {
   "cell_type": "code",
   "execution_count": 1,
   "id": "f63156ac",
   "metadata": {},
   "outputs": [],
   "source": [
    "import geopandas as gpd"
   ]
  },
  {
   "cell_type": "code",
   "execution_count": 2,
   "id": "53e7cb88",
   "metadata": {},
   "outputs": [
    {
     "data": {
      "text/html": [
       "<div>\n",
       "<style scoped>\n",
       "    .dataframe tbody tr th:only-of-type {\n",
       "        vertical-align: middle;\n",
       "    }\n",
       "\n",
       "    .dataframe tbody tr th {\n",
       "        vertical-align: top;\n",
       "    }\n",
       "\n",
       "    .dataframe thead th {\n",
       "        text-align: right;\n",
       "    }\n",
       "</style>\n",
       "<table border=\"1\" class=\"dataframe\">\n",
       "  <thead>\n",
       "    <tr style=\"text-align: right;\">\n",
       "      <th></th>\n",
       "      <th>pop_est</th>\n",
       "      <th>continent</th>\n",
       "      <th>name</th>\n",
       "      <th>iso_a3</th>\n",
       "      <th>gdp_md_est</th>\n",
       "      <th>geometry</th>\n",
       "    </tr>\n",
       "  </thead>\n",
       "  <tbody>\n",
       "    <tr>\n",
       "      <th>0</th>\n",
       "      <td>920938</td>\n",
       "      <td>Oceania</td>\n",
       "      <td>Fiji</td>\n",
       "      <td>FJI</td>\n",
       "      <td>8374.0</td>\n",
       "      <td>MULTIPOLYGON (((180.00000 -16.06713, 180.00000...</td>\n",
       "    </tr>\n",
       "    <tr>\n",
       "      <th>1</th>\n",
       "      <td>53950935</td>\n",
       "      <td>Africa</td>\n",
       "      <td>Tanzania</td>\n",
       "      <td>TZA</td>\n",
       "      <td>150600.0</td>\n",
       "      <td>POLYGON ((33.90371 -0.95000, 34.07262 -1.05982...</td>\n",
       "    </tr>\n",
       "    <tr>\n",
       "      <th>2</th>\n",
       "      <td>603253</td>\n",
       "      <td>Africa</td>\n",
       "      <td>W. Sahara</td>\n",
       "      <td>ESH</td>\n",
       "      <td>906.5</td>\n",
       "      <td>POLYGON ((-8.66559 27.65643, -8.66512 27.58948...</td>\n",
       "    </tr>\n",
       "    <tr>\n",
       "      <th>3</th>\n",
       "      <td>35623680</td>\n",
       "      <td>North America</td>\n",
       "      <td>Canada</td>\n",
       "      <td>CAN</td>\n",
       "      <td>1674000.0</td>\n",
       "      <td>MULTIPOLYGON (((-122.84000 49.00000, -122.9742...</td>\n",
       "    </tr>\n",
       "    <tr>\n",
       "      <th>4</th>\n",
       "      <td>326625791</td>\n",
       "      <td>North America</td>\n",
       "      <td>United States of America</td>\n",
       "      <td>USA</td>\n",
       "      <td>18560000.0</td>\n",
       "      <td>MULTIPOLYGON (((-122.84000 49.00000, -120.0000...</td>\n",
       "    </tr>\n",
       "    <tr>\n",
       "      <th>...</th>\n",
       "      <td>...</td>\n",
       "      <td>...</td>\n",
       "      <td>...</td>\n",
       "      <td>...</td>\n",
       "      <td>...</td>\n",
       "      <td>...</td>\n",
       "    </tr>\n",
       "    <tr>\n",
       "      <th>172</th>\n",
       "      <td>7111024</td>\n",
       "      <td>Europe</td>\n",
       "      <td>Serbia</td>\n",
       "      <td>SRB</td>\n",
       "      <td>101800.0</td>\n",
       "      <td>POLYGON ((18.82982 45.90887, 18.82984 45.90888...</td>\n",
       "    </tr>\n",
       "    <tr>\n",
       "      <th>173</th>\n",
       "      <td>642550</td>\n",
       "      <td>Europe</td>\n",
       "      <td>Montenegro</td>\n",
       "      <td>MNE</td>\n",
       "      <td>10610.0</td>\n",
       "      <td>POLYGON ((20.07070 42.58863, 19.80161 42.50009...</td>\n",
       "    </tr>\n",
       "    <tr>\n",
       "      <th>174</th>\n",
       "      <td>1895250</td>\n",
       "      <td>Europe</td>\n",
       "      <td>Kosovo</td>\n",
       "      <td>-99</td>\n",
       "      <td>18490.0</td>\n",
       "      <td>POLYGON ((20.59025 41.85541, 20.52295 42.21787...</td>\n",
       "    </tr>\n",
       "    <tr>\n",
       "      <th>175</th>\n",
       "      <td>1218208</td>\n",
       "      <td>North America</td>\n",
       "      <td>Trinidad and Tobago</td>\n",
       "      <td>TTO</td>\n",
       "      <td>43570.0</td>\n",
       "      <td>POLYGON ((-61.68000 10.76000, -61.10500 10.890...</td>\n",
       "    </tr>\n",
       "    <tr>\n",
       "      <th>176</th>\n",
       "      <td>13026129</td>\n",
       "      <td>Africa</td>\n",
       "      <td>S. Sudan</td>\n",
       "      <td>SSD</td>\n",
       "      <td>20880.0</td>\n",
       "      <td>POLYGON ((30.83385 3.50917, 29.95350 4.17370, ...</td>\n",
       "    </tr>\n",
       "  </tbody>\n",
       "</table>\n",
       "<p>177 rows × 6 columns</p>\n",
       "</div>"
      ],
      "text/plain": [
       "       pop_est      continent                      name iso_a3  gdp_md_est  \\\n",
       "0       920938        Oceania                      Fiji    FJI      8374.0   \n",
       "1     53950935         Africa                  Tanzania    TZA    150600.0   \n",
       "2       603253         Africa                 W. Sahara    ESH       906.5   \n",
       "3     35623680  North America                    Canada    CAN   1674000.0   \n",
       "4    326625791  North America  United States of America    USA  18560000.0   \n",
       "..         ...            ...                       ...    ...         ...   \n",
       "172    7111024         Europe                    Serbia    SRB    101800.0   \n",
       "173     642550         Europe                Montenegro    MNE     10610.0   \n",
       "174    1895250         Europe                    Kosovo    -99     18490.0   \n",
       "175    1218208  North America       Trinidad and Tobago    TTO     43570.0   \n",
       "176   13026129         Africa                  S. Sudan    SSD     20880.0   \n",
       "\n",
       "                                              geometry  \n",
       "0    MULTIPOLYGON (((180.00000 -16.06713, 180.00000...  \n",
       "1    POLYGON ((33.90371 -0.95000, 34.07262 -1.05982...  \n",
       "2    POLYGON ((-8.66559 27.65643, -8.66512 27.58948...  \n",
       "3    MULTIPOLYGON (((-122.84000 49.00000, -122.9742...  \n",
       "4    MULTIPOLYGON (((-122.84000 49.00000, -120.0000...  \n",
       "..                                                 ...  \n",
       "172  POLYGON ((18.82982 45.90887, 18.82984 45.90888...  \n",
       "173  POLYGON ((20.07070 42.58863, 19.80161 42.50009...  \n",
       "174  POLYGON ((20.59025 41.85541, 20.52295 42.21787...  \n",
       "175  POLYGON ((-61.68000 10.76000, -61.10500 10.890...  \n",
       "176  POLYGON ((30.83385 3.50917, 29.95350 4.17370, ...  \n",
       "\n",
       "[177 rows x 6 columns]"
      ]
     },
     "execution_count": 2,
     "metadata": {},
     "output_type": "execute_result"
    }
   ],
   "source": [
    "gpd.read_file(gpd.datasets.get_path('naturalearth_lowres'))"
   ]
  },
  {
   "cell_type": "markdown",
   "id": "51e9d1e3",
   "metadata": {},
   "source": [
    "What is the data type of the `geometry` column?"
   ]
  },
  {
   "cell_type": "code",
   "execution_count": null,
   "id": "21abb0f3",
   "metadata": {},
   "outputs": [],
   "source": []
  },
  {
   "cell_type": "markdown",
   "id": "7309910d",
   "metadata": {},
   "source": [
    "# Converting our `pandas` dataframe to a GeoDataFrame\n",
    "\n",
    "geodataframe = pandas dataframe + geometry column of shapely objects"
   ]
  },
  {
   "cell_type": "code",
   "execution_count": 3,
   "id": "2fa1725b",
   "metadata": {},
   "outputs": [],
   "source": [
    "import pandas as pd\n",
    "import geopandas as gpd"
   ]
  },
  {
   "cell_type": "markdown",
   "id": "d32ec86e",
   "metadata": {},
   "source": [
    "_This dataset holds data from the firex campaign. We will be using just a few columns for this lesson_"
   ]
  },
  {
   "cell_type": "code",
   "execution_count": 4,
   "id": "282f0b84",
   "metadata": {
    "scrolled": true
   },
   "outputs": [],
   "source": [
    "firex_filepath = \"./data/Copy of SARP 2009 to 2020 sent to Alex with plotting.xlsx\"\n",
    "firex = pd.read_excel(firex_filepath, 'data')\n",
    "firex = firex[['Can#', 'Jday', 'Latitude', 'Longitude', 'State', 'CH4 (ppmv)',\n",
    "       'CO (ppbv)', 'CO2_ppm', 'OCS (MS)', 'DMS (MS)']].iloc[:4490]"
   ]
  },
  {
   "cell_type": "code",
   "execution_count": 5,
   "id": "867f47b5",
   "metadata": {},
   "outputs": [],
   "source": [
    "# Drop columns where Latitude or Longitude are nan\n",
    "firex = firex[firex['Longitude'].notna()]"
   ]
  },
  {
   "cell_type": "markdown",
   "id": "0d085b57",
   "metadata": {},
   "source": [
    "If you have string latitude and longitude columns (as in this dataframe) there is a function prebuilt for that common case: `gpd.points_from_xy()`"
   ]
  },
  {
   "cell_type": "code",
   "execution_count": 6,
   "id": "0b99379c",
   "metadata": {},
   "outputs": [
    {
     "data": {
      "text/plain": [
       "<GeometryArray>\n",
       "[<shapely.geometry.point.Point object at 0x000001E1D991DFA0>,\n",
       " <shapely.geometry.point.Point object at 0x000001E1D991DD90>,\n",
       " <shapely.geometry.point.Point object at 0x000001E1D991DC70>,\n",
       " <shapely.geometry.point.Point object at 0x000001E1D991DD30>,\n",
       " <shapely.geometry.point.Point object at 0x000001E1D991DBB0>,\n",
       " <shapely.geometry.point.Point object at 0x000001E1D991DB50>,\n",
       " <shapely.geometry.point.Point object at 0x000001E1D991DAC0>,\n",
       " <shapely.geometry.point.Point object at 0x000001E1D991D910>,\n",
       " <shapely.geometry.point.Point object at 0x000001E1D991D8B0>,\n",
       " <shapely.geometry.point.Point object at 0x000001E1D991DDC0>,\n",
       " ...\n",
       " <shapely.geometry.point.Point object at 0x000001E1DA5C0910>,\n",
       " <shapely.geometry.point.Point object at 0x000001E1DA5C0970>,\n",
       " <shapely.geometry.point.Point object at 0x000001E1DA5C09D0>,\n",
       " <shapely.geometry.point.Point object at 0x000001E1DA5C0A30>,\n",
       " <shapely.geometry.point.Point object at 0x000001E1DA5C0A90>,\n",
       " <shapely.geometry.point.Point object at 0x000001E1DA5C0AF0>,\n",
       " <shapely.geometry.point.Point object at 0x000001E1DA5C0B50>,\n",
       " <shapely.geometry.point.Point object at 0x000001E1DA5C0BB0>,\n",
       " <shapely.geometry.point.Point object at 0x000001E1DA5C0C10>,\n",
       " <shapely.geometry.point.Point object at 0x000001E1DA5C0C70>]\n",
       "Length: 4405, dtype: geometry"
      ]
     },
     "execution_count": 6,
     "metadata": {},
     "output_type": "execute_result"
    }
   ],
   "source": [
    "gpd.points_from_xy(firex['Longitude'], firex['Latitude'])"
   ]
  },
  {
   "cell_type": "code",
   "execution_count": 7,
   "id": "773341e4",
   "metadata": {},
   "outputs": [],
   "source": [
    "geoFIREX = gpd.GeoDataFrame(\n",
    "    firex, geometry=gpd.points_from_xy(firex['Longitude'], firex['Latitude']))"
   ]
  },
  {
   "cell_type": "code",
   "execution_count": 8,
   "id": "168688b3",
   "metadata": {
    "scrolled": true
   },
   "outputs": [
    {
     "data": {
      "text/html": [
       "<div>\n",
       "<style scoped>\n",
       "    .dataframe tbody tr th:only-of-type {\n",
       "        vertical-align: middle;\n",
       "    }\n",
       "\n",
       "    .dataframe tbody tr th {\n",
       "        vertical-align: top;\n",
       "    }\n",
       "\n",
       "    .dataframe thead th {\n",
       "        text-align: right;\n",
       "    }\n",
       "</style>\n",
       "<table border=\"1\" class=\"dataframe\">\n",
       "  <thead>\n",
       "    <tr style=\"text-align: right;\">\n",
       "      <th></th>\n",
       "      <th>Can#</th>\n",
       "      <th>Jday</th>\n",
       "      <th>Latitude</th>\n",
       "      <th>Longitude</th>\n",
       "      <th>State</th>\n",
       "      <th>CH4 (ppmv)</th>\n",
       "      <th>CO (ppbv)</th>\n",
       "      <th>CO2_ppm</th>\n",
       "      <th>OCS (MS)</th>\n",
       "      <th>DMS (MS)</th>\n",
       "      <th>geometry</th>\n",
       "    </tr>\n",
       "  </thead>\n",
       "  <tbody>\n",
       "    <tr>\n",
       "      <th>0</th>\n",
       "      <td>8198</td>\n",
       "      <td>202.0</td>\n",
       "      <td>35.000000</td>\n",
       "      <td>-118.943333</td>\n",
       "      <td>NaN</td>\n",
       "      <td>1.947</td>\n",
       "      <td>-999.0</td>\n",
       "      <td>-999.0</td>\n",
       "      <td>518.0</td>\n",
       "      <td>-888.0</td>\n",
       "      <td>POINT (-118.94333 35.00000)</td>\n",
       "    </tr>\n",
       "    <tr>\n",
       "      <th>1</th>\n",
       "      <td>7167</td>\n",
       "      <td>202.0</td>\n",
       "      <td>35.081667</td>\n",
       "      <td>-119.101000</td>\n",
       "      <td>NaN</td>\n",
       "      <td>1.808</td>\n",
       "      <td>-999.0</td>\n",
       "      <td>-999.0</td>\n",
       "      <td>519.0</td>\n",
       "      <td>-888.0</td>\n",
       "      <td>POINT (-119.10100 35.08167)</td>\n",
       "    </tr>\n",
       "    <tr>\n",
       "      <th>2</th>\n",
       "      <td>6354</td>\n",
       "      <td>202.0</td>\n",
       "      <td>35.170000</td>\n",
       "      <td>-119.233333</td>\n",
       "      <td>NaN</td>\n",
       "      <td>1.940</td>\n",
       "      <td>-999.0</td>\n",
       "      <td>-999.0</td>\n",
       "      <td>495.0</td>\n",
       "      <td>14.0</td>\n",
       "      <td>POINT (-119.23333 35.17000)</td>\n",
       "    </tr>\n",
       "    <tr>\n",
       "      <th>3</th>\n",
       "      <td>7226</td>\n",
       "      <td>202.0</td>\n",
       "      <td>35.346667</td>\n",
       "      <td>-119.381667</td>\n",
       "      <td>NaN</td>\n",
       "      <td>1.944</td>\n",
       "      <td>-999.0</td>\n",
       "      <td>-999.0</td>\n",
       "      <td>505.0</td>\n",
       "      <td>11.9</td>\n",
       "      <td>POINT (-119.38167 35.34667)</td>\n",
       "    </tr>\n",
       "    <tr>\n",
       "      <th>4</th>\n",
       "      <td>6269</td>\n",
       "      <td>202.0</td>\n",
       "      <td>35.438333</td>\n",
       "      <td>-119.433333</td>\n",
       "      <td>NaN</td>\n",
       "      <td>1.922</td>\n",
       "      <td>-999.0</td>\n",
       "      <td>-999.0</td>\n",
       "      <td>487.0</td>\n",
       "      <td>17.4</td>\n",
       "      <td>POINT (-119.43333 35.43833)</td>\n",
       "    </tr>\n",
       "    <tr>\n",
       "      <th>...</th>\n",
       "      <td>...</td>\n",
       "      <td>...</td>\n",
       "      <td>...</td>\n",
       "      <td>...</td>\n",
       "      <td>...</td>\n",
       "      <td>...</td>\n",
       "      <td>...</td>\n",
       "      <td>...</td>\n",
       "      <td>...</td>\n",
       "      <td>...</td>\n",
       "      <td>...</td>\n",
       "    </tr>\n",
       "    <tr>\n",
       "      <th>4485</th>\n",
       "      <td>5090</td>\n",
       "      <td>NaN</td>\n",
       "      <td>29.717200</td>\n",
       "      <td>-95.341600</td>\n",
       "      <td>Texas</td>\n",
       "      <td>-999.000</td>\n",
       "      <td>-999.0</td>\n",
       "      <td>-999.0</td>\n",
       "      <td>553.0</td>\n",
       "      <td>4.0</td>\n",
       "      <td>POINT (-95.34160 29.71720)</td>\n",
       "    </tr>\n",
       "    <tr>\n",
       "      <th>4486</th>\n",
       "      <td>5028</td>\n",
       "      <td>NaN</td>\n",
       "      <td>29.717200</td>\n",
       "      <td>-95.341600</td>\n",
       "      <td>Texas</td>\n",
       "      <td>-999.000</td>\n",
       "      <td>-999.0</td>\n",
       "      <td>-999.0</td>\n",
       "      <td>528.0</td>\n",
       "      <td>5.5</td>\n",
       "      <td>POINT (-95.34160 29.71720)</td>\n",
       "    </tr>\n",
       "    <tr>\n",
       "      <th>4487</th>\n",
       "      <td>5017</td>\n",
       "      <td>NaN</td>\n",
       "      <td>29.717200</td>\n",
       "      <td>-95.341600</td>\n",
       "      <td>Texas</td>\n",
       "      <td>-999.000</td>\n",
       "      <td>-999.0</td>\n",
       "      <td>-999.0</td>\n",
       "      <td>583.0</td>\n",
       "      <td>8.6</td>\n",
       "      <td>POINT (-95.34160 29.71720)</td>\n",
       "    </tr>\n",
       "    <tr>\n",
       "      <th>4488</th>\n",
       "      <td>5091</td>\n",
       "      <td>NaN</td>\n",
       "      <td>29.717200</td>\n",
       "      <td>-95.341600</td>\n",
       "      <td>Texas</td>\n",
       "      <td>-999.000</td>\n",
       "      <td>-999.0</td>\n",
       "      <td>-999.0</td>\n",
       "      <td>534.0</td>\n",
       "      <td>3.9</td>\n",
       "      <td>POINT (-95.34160 29.71720)</td>\n",
       "    </tr>\n",
       "    <tr>\n",
       "      <th>4489</th>\n",
       "      <td>5046</td>\n",
       "      <td>NaN</td>\n",
       "      <td>29.717200</td>\n",
       "      <td>-95.341600</td>\n",
       "      <td>Texas</td>\n",
       "      <td>-999.000</td>\n",
       "      <td>-999.0</td>\n",
       "      <td>-999.0</td>\n",
       "      <td>530.0</td>\n",
       "      <td>9.1</td>\n",
       "      <td>POINT (-95.34160 29.71720)</td>\n",
       "    </tr>\n",
       "  </tbody>\n",
       "</table>\n",
       "<p>4405 rows × 11 columns</p>\n",
       "</div>"
      ],
      "text/plain": [
       "      Can#   Jday   Latitude   Longitude  State  CH4 (ppmv)  CO (ppbv)  \\\n",
       "0     8198  202.0  35.000000 -118.943333    NaN       1.947     -999.0   \n",
       "1     7167  202.0  35.081667 -119.101000    NaN       1.808     -999.0   \n",
       "2     6354  202.0  35.170000 -119.233333    NaN       1.940     -999.0   \n",
       "3     7226  202.0  35.346667 -119.381667    NaN       1.944     -999.0   \n",
       "4     6269  202.0  35.438333 -119.433333    NaN       1.922     -999.0   \n",
       "...    ...    ...        ...         ...    ...         ...        ...   \n",
       "4485  5090    NaN  29.717200  -95.341600  Texas    -999.000     -999.0   \n",
       "4486  5028    NaN  29.717200  -95.341600  Texas    -999.000     -999.0   \n",
       "4487  5017    NaN  29.717200  -95.341600  Texas    -999.000     -999.0   \n",
       "4488  5091    NaN  29.717200  -95.341600  Texas    -999.000     -999.0   \n",
       "4489  5046    NaN  29.717200  -95.341600  Texas    -999.000     -999.0   \n",
       "\n",
       "      CO2_ppm  OCS (MS)  DMS (MS)                     geometry  \n",
       "0      -999.0     518.0    -888.0  POINT (-118.94333 35.00000)  \n",
       "1      -999.0     519.0    -888.0  POINT (-119.10100 35.08167)  \n",
       "2      -999.0     495.0      14.0  POINT (-119.23333 35.17000)  \n",
       "3      -999.0     505.0      11.9  POINT (-119.38167 35.34667)  \n",
       "4      -999.0     487.0      17.4  POINT (-119.43333 35.43833)  \n",
       "...       ...       ...       ...                          ...  \n",
       "4485   -999.0     553.0       4.0   POINT (-95.34160 29.71720)  \n",
       "4486   -999.0     528.0       5.5   POINT (-95.34160 29.71720)  \n",
       "4487   -999.0     583.0       8.6   POINT (-95.34160 29.71720)  \n",
       "4488   -999.0     534.0       3.9   POINT (-95.34160 29.71720)  \n",
       "4489   -999.0     530.0       9.1   POINT (-95.34160 29.71720)  \n",
       "\n",
       "[4405 rows x 11 columns]"
      ]
     },
     "execution_count": 8,
     "metadata": {},
     "output_type": "execute_result"
    }
   ],
   "source": [
    "geoFIREX"
   ]
  },
  {
   "cell_type": "markdown",
   "id": "1045afe9",
   "metadata": {},
   "source": [
    "### 📝 Checking In\n",
    "\n",
    "What type of data should be in the `geometry` column?"
   ]
  },
  {
   "cell_type": "markdown",
   "id": "fc035442",
   "metadata": {},
   "source": [
    "## Spatial data operations\n",
    "\n",
    "By using `shapely` points we get the advantages of spatial operations built into our DataFrame.\n",
    "\n",
    "Example question: _How far are all of my data points from Mt. St. Helens?_"
   ]
  },
  {
   "cell_type": "code",
   "execution_count": 9,
   "id": "c6cab6de",
   "metadata": {},
   "outputs": [],
   "source": [
    "from shapely.geometry import Point"
   ]
  },
  {
   "cell_type": "code",
   "execution_count": 10,
   "id": "6c1a3f78",
   "metadata": {},
   "outputs": [],
   "source": [
    "mt_st_helens = Point(-122.1956, 46.1914)"
   ]
  },
  {
   "cell_type": "code",
   "execution_count": 11,
   "id": "12d5ff02",
   "metadata": {
    "scrolled": true
   },
   "outputs": [
    {
     "data": {
      "text/plain": [
       "0       0.000117\n",
       "1       0.000115\n",
       "2       0.000114\n",
       "3       0.000112\n",
       "4       0.000111\n",
       "          ...   \n",
       "4485    0.000315\n",
       "4486    0.000315\n",
       "4487    0.000315\n",
       "4488    0.000315\n",
       "4489    0.000315\n",
       "Length: 4405, dtype: float64"
      ]
     },
     "execution_count": 11,
     "metadata": {},
     "output_type": "execute_result"
    }
   ],
   "source": [
    "geoFIREX['geometry'].distance(mt_st_helens) / 100000"
   ]
  },
  {
   "cell_type": "markdown",
   "id": "8ef182a1",
   "metadata": {},
   "source": [
    "## Reprojecting to meters\n",
    "\n",
    "Reprojecting a GeoDataFrame is really smooth, it only takes one `.to_crs()` method.  The only thing to be careful of is to make sure first that you have a crs set for your dataframe.  If you don't and your points are in lat/lon then EPSG:4326 is the CRS you should give it."
   ]
  },
  {
   "cell_type": "code",
   "execution_count": 12,
   "id": "9af06b79",
   "metadata": {},
   "outputs": [],
   "source": [
    "# Set the CRS\n",
    "geoFIREX = geoFIREX.set_crs(epsg=4326)"
   ]
  },
  {
   "cell_type": "code",
   "execution_count": 13,
   "id": "db3288f1",
   "metadata": {},
   "outputs": [
    {
     "name": "stdout",
     "output_type": "stream",
     "text": [
      "epsg:4326\n"
     ]
    }
   ],
   "source": [
    "print(geoFIREX.crs)"
   ]
  },
  {
   "cell_type": "code",
   "execution_count": 14,
   "id": "4d3ac1a3",
   "metadata": {},
   "outputs": [
    {
     "data": {
      "text/plain": [
       "0       POINT (-118.94333 35.00000)\n",
       "1       POINT (-119.10100 35.08167)\n",
       "2       POINT (-119.23333 35.17000)\n",
       "3       POINT (-119.38167 35.34667)\n",
       "4       POINT (-119.43333 35.43833)\n",
       "                   ...             \n",
       "4485     POINT (-95.34160 29.71720)\n",
       "4486     POINT (-95.34160 29.71720)\n",
       "4487     POINT (-95.34160 29.71720)\n",
       "4488     POINT (-95.34160 29.71720)\n",
       "4489     POINT (-95.34160 29.71720)\n",
       "Name: geometry, Length: 4405, dtype: geometry"
      ]
     },
     "execution_count": 14,
     "metadata": {},
     "output_type": "execute_result"
    }
   ],
   "source": [
    "geoFIREX['geometry']"
   ]
  },
  {
   "cell_type": "code",
   "execution_count": 15,
   "id": "e210237a",
   "metadata": {},
   "outputs": [],
   "source": [
    "geoFIREXprojcrs = geoFIREX.to_crs(epsg=3857)"
   ]
  },
  {
   "cell_type": "code",
   "execution_count": 16,
   "id": "83132239",
   "metadata": {},
   "outputs": [
    {
     "data": {
      "text/plain": [
       "0       POINT (-13240711.300 4163881.144)\n",
       "1       POINT (-13258262.673 4174984.864)\n",
       "2       POINT (-13272993.952 4187007.530)\n",
       "3       POINT (-13289506.343 4211092.125)\n",
       "4       POINT (-13295257.850 4223609.598)\n",
       "                      ...                \n",
       "4485    POINT (-10613378.363 3467250.090)\n",
       "4486    POINT (-10613378.363 3467250.090)\n",
       "4487    POINT (-10613378.363 3467250.090)\n",
       "4488    POINT (-10613378.363 3467250.090)\n",
       "4489    POINT (-10613378.363 3467250.090)\n",
       "Name: geometry, Length: 4405, dtype: geometry"
      ]
     },
     "execution_count": 16,
     "metadata": {},
     "output_type": "execute_result"
    }
   ],
   "source": [
    "geoFIREXprojcrs['geometry']"
   ]
  },
  {
   "cell_type": "markdown",
   "id": "870bfa44",
   "metadata": {},
   "source": [
    "### 📝 Checking In\n",
    "\n",
    "I run the block of code `geoFIREX.to_crs(epsg=3857)` and get the following error:\n",
    "\n",
    "`ValueError: Cannot transform naive geometries.  Please set a crs on the object first.`\n",
    "\n",
    "What is likely my problem?"
   ]
  },
  {
   "cell_type": "markdown",
   "id": "fb94e08f",
   "metadata": {},
   "source": [
    "## Filtering a geodataframe by a vector"
   ]
  },
  {
   "cell_type": "markdown",
   "id": "c316ad59",
   "metadata": {},
   "source": [
    "Let's say we want to know how many measurements were taken within 150 km of mt. st. helens.  We start with our mt. st. helens point and then we buffer it."
   ]
  },
  {
   "cell_type": "code",
   "execution_count": 17,
   "id": "699cc374",
   "metadata": {},
   "outputs": [],
   "source": [
    "# convert our mt st helens 4326 point to 3857"
   ]
  },
  {
   "cell_type": "code",
   "execution_count": 18,
   "id": "56901c91",
   "metadata": {},
   "outputs": [],
   "source": [
    "from pyproj import Transformer\n",
    "from shapely.ops import transform"
   ]
  },
  {
   "cell_type": "code",
   "execution_count": 19,
   "id": "c9592f9e",
   "metadata": {},
   "outputs": [],
   "source": [
    "uc_irvine = Point(-117.835, 33.644)"
   ]
  },
  {
   "cell_type": "code",
   "execution_count": 20,
   "id": "d4e989c3",
   "metadata": {},
   "outputs": [],
   "source": [
    "t = Transformer.from_crs('epsg:4326', 'epsg:3857', always_xy=True).transform\n",
    "uc_irvine_projcrs = transform(t, uc_irvine)"
   ]
  },
  {
   "cell_type": "code",
   "execution_count": 21,
   "id": "d60a98dc",
   "metadata": {},
   "outputs": [],
   "source": [
    "# Buffer the point\n",
    "buff_uc_irvine = uc_irvine_projcrs.buffer(10000)"
   ]
  },
  {
   "cell_type": "code",
   "execution_count": 22,
   "id": "2bb692db",
   "metadata": {},
   "outputs": [
    {
     "data": {
      "text/plain": [
       "0       False\n",
       "1       False\n",
       "2       False\n",
       "3       False\n",
       "4       False\n",
       "        ...  \n",
       "4485    False\n",
       "4486    False\n",
       "4487    False\n",
       "4488    False\n",
       "4489    False\n",
       "Length: 4405, dtype: bool"
      ]
     },
     "execution_count": 22,
     "metadata": {},
     "output_type": "execute_result"
    }
   ],
   "source": [
    "geoFIREXprojcrs['geometry'].intersects(buff_uc_irvine)"
   ]
  },
  {
   "cell_type": "code",
   "execution_count": 23,
   "id": "31bc9a1e",
   "metadata": {},
   "outputs": [
    {
     "data": {
      "text/html": [
       "<div>\n",
       "<style scoped>\n",
       "    .dataframe tbody tr th:only-of-type {\n",
       "        vertical-align: middle;\n",
       "    }\n",
       "\n",
       "    .dataframe tbody tr th {\n",
       "        vertical-align: top;\n",
       "    }\n",
       "\n",
       "    .dataframe thead th {\n",
       "        text-align: right;\n",
       "    }\n",
       "</style>\n",
       "<table border=\"1\" class=\"dataframe\">\n",
       "  <thead>\n",
       "    <tr style=\"text-align: right;\">\n",
       "      <th></th>\n",
       "      <th>Can#</th>\n",
       "      <th>Jday</th>\n",
       "      <th>Latitude</th>\n",
       "      <th>Longitude</th>\n",
       "      <th>State</th>\n",
       "      <th>CH4 (ppmv)</th>\n",
       "      <th>CO (ppbv)</th>\n",
       "      <th>CO2_ppm</th>\n",
       "      <th>OCS (MS)</th>\n",
       "      <th>DMS (MS)</th>\n",
       "      <th>geometry</th>\n",
       "    </tr>\n",
       "  </thead>\n",
       "  <tbody>\n",
       "    <tr>\n",
       "      <th>1779</th>\n",
       "      <td>9068</td>\n",
       "      <td>174.0</td>\n",
       "      <td>33.667200</td>\n",
       "      <td>-117.847000</td>\n",
       "      <td>NaN</td>\n",
       "      <td>1.810</td>\n",
       "      <td>55.0</td>\n",
       "      <td>409.0</td>\n",
       "      <td>570.0</td>\n",
       "      <td>-888.0</td>\n",
       "      <td>POINT (-117.84700 33.66720)</td>\n",
       "    </tr>\n",
       "    <tr>\n",
       "      <th>2206</th>\n",
       "      <td>6343</td>\n",
       "      <td>177.0</td>\n",
       "      <td>33.615195</td>\n",
       "      <td>-117.784866</td>\n",
       "      <td>NaN</td>\n",
       "      <td>1.826</td>\n",
       "      <td>56.0</td>\n",
       "      <td>414.0</td>\n",
       "      <td>593.0</td>\n",
       "      <td>0.5</td>\n",
       "      <td>POINT (-117.78487 33.61519)</td>\n",
       "    </tr>\n",
       "    <tr>\n",
       "      <th>2234</th>\n",
       "      <td>9309</td>\n",
       "      <td>177.0</td>\n",
       "      <td>33.640604</td>\n",
       "      <td>-117.806361</td>\n",
       "      <td>NaN</td>\n",
       "      <td>1.820</td>\n",
       "      <td>-999.0</td>\n",
       "      <td>419.0</td>\n",
       "      <td>572.0</td>\n",
       "      <td>-888.0</td>\n",
       "      <td>POINT (-117.80636 33.64060)</td>\n",
       "    </tr>\n",
       "  </tbody>\n",
       "</table>\n",
       "</div>"
      ],
      "text/plain": [
       "      Can#   Jday   Latitude   Longitude State  CH4 (ppmv)  CO (ppbv)  \\\n",
       "1779  9068  174.0  33.667200 -117.847000   NaN       1.810       55.0   \n",
       "2206  6343  177.0  33.615195 -117.784866   NaN       1.826       56.0   \n",
       "2234  9309  177.0  33.640604 -117.806361   NaN       1.820     -999.0   \n",
       "\n",
       "      CO2_ppm  OCS (MS)  DMS (MS)                     geometry  \n",
       "1779    409.0     570.0    -888.0  POINT (-117.84700 33.66720)  \n",
       "2206    414.0     593.0       0.5  POINT (-117.78487 33.61519)  \n",
       "2234    419.0     572.0    -888.0  POINT (-117.80636 33.64060)  "
      ]
     },
     "execution_count": 23,
     "metadata": {},
     "output_type": "execute_result"
    }
   ],
   "source": [
    "# Notice that we indexed one dataframe by a different dataframe\n",
    "geoFIREX[geoFIREXprojcrs['geometry'].intersects(buff_uc_irvine)]"
   ]
  },
  {
   "cell_type": "markdown",
   "id": "bb3438f7",
   "metadata": {},
   "source": [
    "### 📝 Checking In\n",
    "\n",
    "I want to buffer the mt_st_helens point by 10000m.  What is the problem with the following code I've written below to do that?\n",
    "\n",
    "`Point(-122.1956, 46.1914).buffer(10000)`"
   ]
  },
  {
   "cell_type": "code",
   "execution_count": null,
   "id": "8b17bb1e",
   "metadata": {},
   "outputs": [],
   "source": []
  }
 ],
 "metadata": {
  "kernelspec": {
   "display_name": "Python 3 (ipykernel)",
   "language": "python",
   "name": "python3"
  },
  "language_info": {
   "codemirror_mode": {
    "name": "ipython",
    "version": 3
   },
   "file_extension": ".py",
   "mimetype": "text/x-python",
   "name": "python",
   "nbconvert_exporter": "python",
   "pygments_lexer": "ipython3",
   "version": "3.9.7"
  }
 },
 "nbformat": 4,
 "nbformat_minor": 5
}
