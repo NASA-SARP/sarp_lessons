{
 "cells": [
  {
   "cell_type": "markdown",
   "id": "f7ecacc8",
   "metadata": {},
   "source": [
    "# Part 1"
   ]
  },
  {
   "cell_type": "markdown",
   "id": "0ac04095",
   "metadata": {},
   "source": [
    "## Accessing Raster Coordinates"
   ]
  },
  {
   "cell_type": "markdown",
   "id": "739bba7c",
   "metadata": {},
   "source": [
    "1. Below is the filepath for a new AVIRIS image.  What is the crs of the raster?  What are the bounds and the unit of the bounds?"
   ]
  },
  {
   "cell_type": "code",
   "execution_count": 27,
   "id": "0cf6822e",
   "metadata": {},
   "outputs": [],
   "source": [
    "filepath = './data/subset_f131205t01p00r10rdn_e_sc01_ort_img'"
   ]
  },
  {
   "cell_type": "code",
   "execution_count": null,
   "id": "6e329655",
   "metadata": {},
   "outputs": [],
   "source": []
  },
  {
   "cell_type": "markdown",
   "id": "1e2b5880",
   "metadata": {},
   "source": [
    "2. What are the coordinates in UTM of the upper left corner of the aviris raster?"
   ]
  },
  {
   "cell_type": "code",
   "execution_count": null,
   "id": "e795b0a5",
   "metadata": {},
   "outputs": [],
   "source": []
  },
  {
   "cell_type": "markdown",
   "id": "fd699e87",
   "metadata": {},
   "source": [
    "3. What is the area covered by the raster in units of km^2?"
   ]
  },
  {
   "cell_type": "code",
   "execution_count": null,
   "id": "4594ba63",
   "metadata": {},
   "outputs": [],
   "source": []
  },
  {
   "cell_type": "markdown",
   "id": "3a7585f7",
   "metadata": {},
   "source": [
    "4. What are the coordinates in epsg:4326 of the upper left corner of the aviris raster?"
   ]
  },
  {
   "cell_type": "code",
   "execution_count": null,
   "id": "916ac75f",
   "metadata": {},
   "outputs": [],
   "source": []
  },
  {
   "cell_type": "markdown",
   "id": "329038c0",
   "metadata": {},
   "source": [
    "5. Create a polygon shapely object of the bounding box of the raster."
   ]
  },
  {
   "cell_type": "code",
   "execution_count": null,
   "id": "a5f4578d",
   "metadata": {},
   "outputs": [],
   "source": []
  },
  {
   "cell_type": "markdown",
   "id": "bb55b083",
   "metadata": {},
   "source": [
    "6. Convert the polygon bbox to epsg:4326 coordinates"
   ]
  },
  {
   "cell_type": "code",
   "execution_count": null,
   "id": "475685f9",
   "metadata": {},
   "outputs": [],
   "source": []
  },
  {
   "cell_type": "markdown",
   "id": "48fab46e",
   "metadata": {},
   "source": [
    "## Affine Transformation"
   ]
  },
  {
   "cell_type": "markdown",
   "id": "2d62c0c5",
   "metadata": {},
   "source": [
    "4. Pick a row and a column out of the middle of the dataset.  Use an affine tranformation to get the easting and northing of that data point."
   ]
  },
  {
   "cell_type": "code",
   "execution_count": null,
   "id": "76043d0a",
   "metadata": {},
   "outputs": [],
   "source": []
  },
  {
   "cell_type": "code",
   "execution_count": null,
   "id": "3e8b457f",
   "metadata": {},
   "outputs": [],
   "source": []
  },
  {
   "cell_type": "markdown",
   "id": "56d94c08",
   "metadata": {},
   "source": [
    "5. Using the epsg:4326 bounding box in problem 5 pick a coordinate location inside that bounding box.  Find the pixel location of that coordinate."
   ]
  },
  {
   "cell_type": "code",
   "execution_count": null,
   "id": "7c95a64f",
   "metadata": {},
   "outputs": [],
   "source": []
  },
  {
   "cell_type": "code",
   "execution_count": null,
   "id": "113d997d",
   "metadata": {},
   "outputs": [],
   "source": []
  },
  {
   "cell_type": "markdown",
   "id": "70374dbe",
   "metadata": {},
   "source": [
    "6. Find the pixel number for the utm coordinates 575666, 4170999.  What is the sign of the pixels?  What does that tell you about the coordinates?"
   ]
  },
  {
   "cell_type": "code",
   "execution_count": null,
   "id": "8d9b4bf4",
   "metadata": {},
   "outputs": [],
   "source": []
  },
  {
   "cell_type": "code",
   "execution_count": null,
   "id": "2740f9b0",
   "metadata": {},
   "outputs": [],
   "source": []
  },
  {
   "cell_type": "markdown",
   "id": "3b616562",
   "metadata": {},
   "source": [
    "## Subsetting Data"
   ]
  },
  {
   "cell_type": "markdown",
   "id": "3f46c5af",
   "metadata": {},
   "source": [
    "4. Read in your whole raster of data.  Use the numpy array to get just a ~100 pixel cube of data out of your raster."
   ]
  },
  {
   "cell_type": "code",
   "execution_count": null,
   "id": "111c6be3",
   "metadata": {},
   "outputs": [],
   "source": []
  },
  {
   "cell_type": "markdown",
   "id": "349dd4a2",
   "metadata": {},
   "source": [
    "5. Now get a different subset of the raster, but this time specify which part of the raster you want using a `Window()` object."
   ]
  },
  {
   "cell_type": "code",
   "execution_count": null,
   "id": "1a7e7d19",
   "metadata": {},
   "outputs": [],
   "source": []
  },
  {
   "cell_type": "markdown",
   "id": "f0d00376",
   "metadata": {},
   "source": [
    "6. You are looking at an AVIRIS image that is 12 GB large and you are using a computer with 16GB of RAM.  Which method of subsetting -- numpy indexing or Window reading -- are you going to use?  Why?"
   ]
  },
  {
   "cell_type": "code",
   "execution_count": null,
   "id": "cac0f1a4",
   "metadata": {},
   "outputs": [],
   "source": []
  },
  {
   "cell_type": "markdown",
   "id": "299e796e",
   "metadata": {},
   "source": [
    "7. The metadata from a raster file looks something like this:\n",
    "\n",
    "```\n",
    "{'driver': 'ENVI', 'dtype': 'int16', 'nodata': None, 'width': 150, 'height': 300, 'count': 224, 'crs': CRS.from_epsg(32611), 'transform': Affine(1.0348265452795135e-15, 16.9, 238135.11,\n",
    "       16.9, -1.0348265452795135e-15, 3766293.0)}\n",
    "```\n",
    "\n",
    "When you do a windowed read to get a subset of data, which 4 pieces of metadata will likely change?"
   ]
  },
  {
   "cell_type": "code",
   "execution_count": null,
   "id": "2ba403de",
   "metadata": {},
   "outputs": [],
   "source": []
  }
 ],
 "metadata": {
  "kernelspec": {
   "display_name": "Python 3 (ipykernel)",
   "language": "python",
   "name": "python3"
  },
  "language_info": {
   "codemirror_mode": {
    "name": "ipython",
    "version": 3
   },
   "file_extension": ".py",
   "mimetype": "text/x-python",
   "name": "python",
   "nbconvert_exporter": "python",
   "pygments_lexer": "ipython3",
   "version": "3.9.5"
  }
 },
 "nbformat": 4,
 "nbformat_minor": 5
}
