{
 "cells": [
  {
   "cell_type": "markdown",
   "metadata": {},
   "source": [
    "Timing: 14.5 minutes of lecture: Lists, Dictionaries (not including checkins[6] or question time.  no if statements section)"
   ]
  },
  {
   "cell_type": "markdown",
   "metadata": {},
   "source": [
    "# Lesson 2 (Beginner)\n",
    "## Contents\n",
    "* 🚥Lists\n",
    "* 📲List indexes\n",
    "* 🏋🏽Doing things to lists: Methods/Functions\n",
    "* 📕Dictionaries\n",
    "* 🔎Accessing items in a dictionary\n",
    "* ✏️Changing and adding dictionary items\n",
    "\n",
    "### Context\n",
    "Today we are building on our data types from yesterday and adding a few new ways of organizing data in Python: lists and dictionaries."
   ]
  },
  {
   "cell_type": "markdown",
   "metadata": {},
   "source": [
    "### Summary Image\n",
    "Vocab: list, index, dictionary, key, value, method/function, \n",
    "\n",
    "Main Ideas\n",
    "- list of the data structures so far"
   ]
  },
  {
   "cell_type": "markdown",
   "metadata": {},
   "source": [
    "## 🧐 Lesson 1 Review\n",
    "Poll link"
   ]
  },
  {
   "cell_type": "markdown",
   "metadata": {},
   "source": [
    "## From Data Types to Data Structures\n",
    "Data types are the first level of building blocks in code.  Using data types we can build increasingly more complex objects which we call **data structures**.  Data structures are made up of groups of data types, organized differently depending on the strucutre.  Today we are going to look at two data structures: Lists and Dictionaries."
   ]
  },
  {
   "cell_type": "markdown",
   "metadata": {},
   "source": [
    "## Lists"
   ]
  },
  {
   "cell_type": "markdown",
   "metadata": {},
   "source": [
    "**TODO** update:\n",
    "\n",
    "**Lists** are a data structure which represent a group of values.  Their syntax is square brackets `[]` with a comma in between each item."
   ]
  },
  {
   "cell_type": "code",
   "execution_count": 3,
   "metadata": {},
   "outputs": [
    {
     "data": {
      "text/plain": [
       "['co', 'co2', 'no2', 'o3']"
      ]
     },
     "execution_count": 3,
     "metadata": {},
     "output_type": "execute_result"
    }
   ],
   "source": [
    "# List of pollutants\n",
    "['co', 'co2', 'no2', 'o3']"
   ]
  },
  {
   "cell_type": "markdown",
   "metadata": {},
   "source": [
    "We can see how data structures are made of data types in the previous example.  Here we have a list of `string`s\n",
    "\n",
    "`List` = [`str`, `str`, `str`, `str`]\n",
    "\n",
    "The next example is a list of `float`s"
   ]
  },
  {
   "cell_type": "code",
   "execution_count": 7,
   "metadata": {},
   "outputs": [
    {
     "data": {
      "text/plain": [
       "[4.5, 1.0, 4.3, 4.3, 7.6]"
      ]
     },
     "execution_count": 7,
     "metadata": {},
     "output_type": "execute_result"
    }
   ],
   "source": [
    "# List of pH values\n",
    "[4.5, 1.0, 4.3, 4.3, 7.6]"
   ]
  },
  {
   "cell_type": "markdown",
   "metadata": {},
   "source": [
    "Lists can be any data type, or a mix of data types.  You can assign a list as a variable the same way as we did for strings and integers, with an equal sign."
   ]
  },
  {
   "cell_type": "code",
   "execution_count": 8,
   "metadata": {},
   "outputs": [],
   "source": [
    "list1 = [\"apple\", \"banana\", \"cherry\"]\n",
    "list2 = [1, 5, 7, 9, 3]\n",
    "list3 = [True, False, False]\n",
    "list4 = [\"abc\", 34, True, 40, \"male\"]"
   ]
  },
  {
   "cell_type": "code",
   "execution_count": 9,
   "metadata": {},
   "outputs": [],
   "source": [
    "pollutants = ['co', 'co2', 'no2', 'o3']"
   ]
  },
  {
   "cell_type": "markdown",
   "metadata": {},
   "source": [
    "## List Indexes"
   ]
  },
  {
   "cell_type": "markdown",
   "metadata": {},
   "source": [
    "You access items in a list using an **index**.  An index is a number which represents the position of an item in the sequence (in the list).  You use the index to find the value of that item using the `[]` syntax."
   ]
  },
  {
   "cell_type": "code",
   "execution_count": 11,
   "metadata": {},
   "outputs": [],
   "source": [
    "colors = ['red', 'green', 'blue', 'yellow', 'white', 'black']"
   ]
  },
  {
   "cell_type": "markdown",
   "metadata": {},
   "source": [
    "A conceptual image of the `colors` list\n",
    "\n",
    "<img src=\"https://railsware.com/blog/wp-content/uploads/2018/10/positive-indexes.png\" width=520>\n",
    "\n",
    "_Image from [Railsware](https://railsware.com/blog/python-for-machine-learning-indexing-and-slicing-for-lists-tuples-strings-and-other-sequential-types/)_"
   ]
  },
  {
   "cell_type": "code",
   "execution_count": 15,
   "metadata": {
    "scrolled": true
   },
   "outputs": [
    {
     "data": {
      "text/plain": [
       "'green'"
      ]
     },
     "execution_count": 15,
     "metadata": {},
     "output_type": "execute_result"
    }
   ],
   "source": [
    "# Which pollutant is at postiion 1 in the `pollutants` list?\n",
    "colors[1]"
   ]
  },
  {
   "cell_type": "markdown",
   "metadata": {},
   "source": [
    "### 🌟Key Clarification\n",
    "In Python (and most programming langauges) you begin counting with indexes at 0 instead of at 1.  So `pollutants[1]` did not return the first item in the list, it returned the second.  You access the first item in the list using `pollutants[0]`."
   ]
  },
  {
   "cell_type": "markdown",
   "metadata": {},
   "source": [
    "To access more than one value you use a `:`, which is refered to as the **sushi operator**."
   ]
  },
  {
   "cell_type": "code",
   "execution_count": 17,
   "metadata": {},
   "outputs": [
    {
     "data": {
      "text/plain": [
       "['green', 'blue']"
      ]
     },
     "execution_count": 17,
     "metadata": {},
     "output_type": "execute_result"
    }
   ],
   "source": [
    "colors[1:3]"
   ]
  },
  {
   "cell_type": "markdown",
   "metadata": {},
   "source": [
    "The general syntax is:\n",
    "> `list[start:end+1]`"
   ]
  },
  {
   "cell_type": "markdown",
   "metadata": {},
   "source": [
    "We only sampled a few of the ways to index lists here.  If you want to read about more check out [this article](https://railsware.com/blog/python-for-machine-learning-indexing-and-slicing-for-lists-tuples-strings-and-other-sequential-types/) from Railsware."
   ]
  },
  {
   "cell_type": "markdown",
   "metadata": {},
   "source": [
    "### 📝 Checking In\n",
    "What would be the result of `pollutants[2]`?\n",
    "\n",
    "What is the index you should use to find the value of the last item in the `pollutants` list?\n",
    "\n",
    "Write an index to find the first 3 items in the `pollutants` list.\n",
    "\n",
    "Poll link"
   ]
  },
  {
   "cell_type": "markdown",
   "metadata": {},
   "source": [
    "## Doing things to lists: Methods/Functions"
   ]
  },
  {
   "cell_type": "markdown",
   "metadata": {},
   "source": [
    "**Methods** or **functions** are actions that you can take, or things you can do to a list.  They are questions you can ask or changes that you want make to your list.  Right now you can consider methods and functions to be the same thing."
   ]
  },
  {
   "cell_type": "markdown",
   "metadata": {},
   "source": [
    "One very common question you might ask about a list is \"How many things are in my list?\".  You answer this question using a method called `len()`, with is short for \"length\".  This gives the number of items in the list."
   ]
  },
  {
   "cell_type": "code",
   "execution_count": 18,
   "metadata": {},
   "outputs": [
    {
     "data": {
      "text/plain": [
       "4"
      ]
     },
     "execution_count": 18,
     "metadata": {},
     "output_type": "execute_result"
    }
   ],
   "source": [
    "# Finding the number of items in a list\n",
    "len(pollutants)"
   ]
  },
  {
   "cell_type": "markdown",
   "metadata": {},
   "source": [
    "A different thing you might want to do to your list is add a new item. The syntax for this is `.append()`."
   ]
  },
  {
   "cell_type": "code",
   "execution_count": 5,
   "metadata": {},
   "outputs": [],
   "source": [
    "# Adding a new item to a list"
   ]
  },
  {
   "cell_type": "code",
   "execution_count": 21,
   "metadata": {},
   "outputs": [
    {
     "name": "stdout",
     "output_type": "stream",
     "text": [
      "['co', 'co2', 'no2', 'o3', 'ch4']\n"
     ]
    }
   ],
   "source": [
    "print(pollutants)"
   ]
  },
  {
   "cell_type": "code",
   "execution_count": 22,
   "metadata": {
    "scrolled": true
   },
   "outputs": [],
   "source": [
    "pollutants.append('ch4')"
   ]
  },
  {
   "cell_type": "code",
   "execution_count": 23,
   "metadata": {},
   "outputs": [
    {
     "name": "stdout",
     "output_type": "stream",
     "text": [
      "['co', 'co2', 'no2', 'o3', 'ch4', 'ch4']\n"
     ]
    }
   ],
   "source": [
    "print(pollutants)"
   ]
  },
  {
   "cell_type": "markdown",
   "metadata": {},
   "source": [
    "There are lots of methods that you can use on lists.  10 of them are described pretty nicely in [this article](https://towardsdatascience.com/python-list-methods-fa7c53010300)."
   ]
  },
  {
   "cell_type": "markdown",
   "metadata": {},
   "source": [
    "One action you might want to take is changing the value of an item.  This is so common you don't need to use a `.verb()`-type function for this.  You just use the same `[]` notation we used for indexing and an equals sign to update the value."
   ]
  },
  {
   "cell_type": "code",
   "execution_count": 27,
   "metadata": {},
   "outputs": [
    {
     "data": {
      "text/plain": [
       "['co', 'co2', 'ch4', 'o3', 'ch4', 'ch4']"
      ]
     },
     "execution_count": 27,
     "metadata": {},
     "output_type": "execute_result"
    }
   ],
   "source": [
    "# Original value of the 3rd item in `pollutants`\n",
    "pollutants"
   ]
  },
  {
   "cell_type": "code",
   "execution_count": 25,
   "metadata": {},
   "outputs": [],
   "source": [
    "# Changing the value\n",
    "pollutants[2] = 'ch4'"
   ]
  },
  {
   "cell_type": "code",
   "execution_count": 26,
   "metadata": {},
   "outputs": [
    {
     "data": {
      "text/plain": [
       "['co', 'co2', 'ch4', 'o3', 'ch4', 'ch4']"
      ]
     },
     "execution_count": 26,
     "metadata": {},
     "output_type": "execute_result"
    }
   ],
   "source": [
    "# Notice the value in the 3rd position (index 2) has changed.\n",
    "pollutants"
   ]
  },
  {
   "cell_type": "markdown",
   "metadata": {},
   "source": [
    "### 📝 Checking In\n",
    "\n",
    "Add the value 'nox' to our `pollutants` list.  Check that the number of items has changed.\n",
    "\n",
    "Change the third value of `pollutants` list to 'bc'."
   ]
  },
  {
   "cell_type": "markdown",
   "metadata": {},
   "source": [
    "### 💡 Main point\n",
    "1. Lists are a data type that hold a group of values.  They are defined with square brackets `[]` with commas in between values.\n",
    "2. **Indexes** are ways to access items in your list using its position in the list as a number.  In python we start counting from 0, not from 1 with indexes.\n",
    "2. Functions/methods (think of those two as the same thing right now) are actions you can take that let you ask a question about an object or change it somehow.  The two we looked at today are `len()` and `.append()`."
   ]
  },
  {
   "cell_type": "markdown",
   "metadata": {},
   "source": [
    "## Dictionaries"
   ]
  },
  {
   "cell_type": "markdown",
   "metadata": {},
   "source": [
    "Dictionaries are another data structure.  They are similar to lists in that they represent a group of things, but with dictionaries each value is given a name, called a **key**."
   ]
  },
  {
   "cell_type": "markdown",
   "metadata": {},
   "source": [
    "<img src=\"https://www.learnbyexample.org/wp-content/uploads/python/Dictionary-Key-Value-Pairs-Illustration.png\" width=370>"
   ]
  },
  {
   "cell_type": "markdown",
   "metadata": {},
   "source": [
    "We see in the image that dictionary items have two parts - the **key** and the **value**. Each item in the dictionary, called a **key-value pair** is seperated by a comma. \n",
    "\n",
    "This concept is similar to a book dictionary, with words and definitions.  In that case the words are the keys and the definitions are the values."
   ]
  },
  {
   "cell_type": "markdown",
   "metadata": {},
   "source": [
    "The dictionary represented conceptually above would be coded like this in Python:"
   ]
  },
  {
   "cell_type": "code",
   "execution_count": 28,
   "metadata": {},
   "outputs": [
    {
     "data": {
      "text/plain": [
       "{'name': 'Bob',\n",
       " 'age': 25,\n",
       " 'job': 'Dev',\n",
       " 'city': 'New York',\n",
       " 'email': 'bob@web.com'}"
      ]
     },
     "execution_count": 28,
     "metadata": {},
     "output_type": "execute_result"
    }
   ],
   "source": [
    "{\n",
    "    'name': 'Bob',\n",
    "    'age': 25,\n",
    "    'job': 'Dev',\n",
    "    'city': 'New York',\n",
    "    'email': 'bob@web.com',\n",
    "}"
   ]
  },
  {
   "cell_type": "markdown",
   "metadata": {},
   "source": [
    "The key comes before the colon and the value comes after.  So the general syntax of a dictionary would be: \n",
    "```\n",
    "{key1: value1,\n",
    "key2: value2,\n",
    "key3: value3}\n",
    "```"
   ]
  },
  {
   "cell_type": "markdown",
   "metadata": {},
   "source": [
    "The values in the dictionary can be any of the types of data types we know so far -- strings, numbers, booleans, or lists.  The keys can be strings, numbers, or booleans, but not lists."
   ]
  },
  {
   "cell_type": "markdown",
   "metadata": {},
   "source": [
    "Note that you don't have to leave the spaces between lines like I did.  You can define a dictionary all in one line. I just used multiple because I think it is easier to read."
   ]
  },
  {
   "cell_type": "code",
   "execution_count": 22,
   "metadata": {},
   "outputs": [
    {
     "data": {
      "text/plain": [
       "{'name': 'Bob',\n",
       " 'age': 25,\n",
       " 'job': 'Dev',\n",
       " 'city': 'New York',\n",
       " 'email': 'bob@web.com'}"
      ]
     },
     "execution_count": 22,
     "metadata": {},
     "output_type": "execute_result"
    }
   ],
   "source": [
    "{'name': 'Bob', 'age': 25, 'job': 'Dev', 'city': 'New York', 'email': 'bob@web.com',}"
   ]
  },
  {
   "cell_type": "markdown",
   "metadata": {},
   "source": [
    "As you may be noticing the trend, we can assign dictionaries as variables:"
   ]
  },
  {
   "cell_type": "code",
   "execution_count": 23,
   "metadata": {},
   "outputs": [],
   "source": [
    "human = {'name': 'Bob', 'age': 25, 'job': 'Dev', 'city': 'New York', 'email': 'bob@web.com',}"
   ]
  },
  {
   "cell_type": "markdown",
   "metadata": {},
   "source": [
    "### 📝 Checking In\n",
    "\n",
    "* How many keys are in the following dictionary?  What are they?\n",
    "```\n",
    "{\n",
    "'CO': 'Colorado',\n",
    "'AZ': 'Arizona',\n",
    "'WI': 'Wisconsin',\n",
    "}\n",
    "```\n",
    "\n",
    "* Write a dictionary that represents the english to spanish translation of the following words: table -> mesa, city -> ciudad, sky -> cielo"
   ]
  },
  {
   "cell_type": "markdown",
   "metadata": {},
   "source": [
    "### 💡 Main point\n",
    "\n",
    "* Dictionaries are a data structure that represent a group of **values** that have names, or **keys**.  This is similar to a book dictionary, where you have words (keys) and definitions (values).\n",
    "* Each item in a dictionary is called a **key-value pair**"
   ]
  },
  {
   "cell_type": "markdown",
   "metadata": {},
   "source": [
    "## Accessing items in a dictionary"
   ]
  },
  {
   "cell_type": "markdown",
   "metadata": {},
   "source": [
    "You can view a particular value of a dictionary using its key and square brackets `[]`."
   ]
  },
  {
   "cell_type": "code",
   "execution_count": 30,
   "metadata": {},
   "outputs": [],
   "source": [
    "metadata = {\n",
    "    'location': 'Nairobi', \n",
    "    'quality_flag': 5, \n",
    "    'zenith': 60, \n",
    "    'clouds': True,\n",
    "    'data_center': ['LPDAAC', 'ASDC'],\n",
    "}"
   ]
  },
  {
   "cell_type": "code",
   "execution_count": 25,
   "metadata": {},
   "outputs": [
    {
     "data": {
      "text/plain": [
       "'Nairobi'"
      ]
     },
     "execution_count": 25,
     "metadata": {},
     "output_type": "execute_result"
    }
   ],
   "source": [
    "metadata['location']"
   ]
  },
  {
   "cell_type": "markdown",
   "metadata": {},
   "source": [
    "If instead of a single value you want to view all either all of the keys or all of the values, you use `.keys()` and `.values()`, respectively."
   ]
  },
  {
   "cell_type": "code",
   "execution_count": 26,
   "metadata": {},
   "outputs": [
    {
     "data": {
      "text/plain": [
       "dict_keys(['location', 'quality_flag', 'zenith', 'clouds', 'data_center'])"
      ]
     },
     "execution_count": 26,
     "metadata": {},
     "output_type": "execute_result"
    }
   ],
   "source": [
    "metadata.keys()"
   ]
  },
  {
   "cell_type": "code",
   "execution_count": 27,
   "metadata": {},
   "outputs": [
    {
     "data": {
      "text/plain": [
       "dict_values(['Nairobi', 5, 60, True, ['LPDAAC', 'ASDC']])"
      ]
     },
     "execution_count": 27,
     "metadata": {},
     "output_type": "execute_result"
    }
   ],
   "source": [
    "metadata.values()"
   ]
  },
  {
   "cell_type": "markdown",
   "metadata": {},
   "source": [
    "## Changing and adding dictionary items"
   ]
  },
  {
   "cell_type": "markdown",
   "metadata": {},
   "source": [
    "You change or add a new dictionary item with the same `[]` syntax you use to access the item's value and a `=` (just like with a list)."
   ]
  },
  {
   "cell_type": "code",
   "execution_count": 31,
   "metadata": {},
   "outputs": [
    {
     "name": "stdout",
     "output_type": "stream",
     "text": [
      "value before 60\n"
     ]
    }
   ],
   "source": [
    "print('value before', metadata['zenith'])"
   ]
  },
  {
   "cell_type": "code",
   "execution_count": 32,
   "metadata": {
    "scrolled": true
   },
   "outputs": [],
   "source": [
    "metadata['zenith'] = 30"
   ]
  },
  {
   "cell_type": "code",
   "execution_count": 33,
   "metadata": {},
   "outputs": [
    {
     "name": "stdout",
     "output_type": "stream",
     "text": [
      "value after 30\n"
     ]
    }
   ],
   "source": [
    "print('value after', metadata['zenith'])"
   ]
  },
  {
   "cell_type": "markdown",
   "metadata": {},
   "source": [
    "This syntax works whether or not the dictionary key exists already or not. So in the previous code block we updated the value of the key `zenith`. We can use the same code, though, with a new key value to add a new key."
   ]
  },
  {
   "cell_type": "code",
   "execution_count": 34,
   "metadata": {},
   "outputs": [
    {
     "ename": "KeyError",
     "evalue": "'agency'",
     "output_type": "error",
     "traceback": [
      "\u001b[0;31m---------------------------------------------------------------------------\u001b[0m",
      "\u001b[0;31mKeyError\u001b[0m                                  Traceback (most recent call last)",
      "\u001b[0;32m<ipython-input-34-b5c082255839>\u001b[0m in \u001b[0;36m<module>\u001b[0;34m\u001b[0m\n\u001b[0;32m----> 1\u001b[0;31m \u001b[0mprint\u001b[0m\u001b[0;34m(\u001b[0m\u001b[0;34m'value before'\u001b[0m\u001b[0;34m,\u001b[0m \u001b[0mmetadata\u001b[0m\u001b[0;34m[\u001b[0m\u001b[0;34m'agency'\u001b[0m\u001b[0;34m]\u001b[0m\u001b[0;34m)\u001b[0m\u001b[0;34m\u001b[0m\u001b[0;34m\u001b[0m\u001b[0m\n\u001b[0m",
      "\u001b[0;31mKeyError\u001b[0m: 'agency'"
     ]
    }
   ],
   "source": [
    "print('value before', metadata['agency'])"
   ]
  },
  {
   "cell_type": "code",
   "execution_count": 35,
   "metadata": {},
   "outputs": [],
   "source": [
    "metadata['agency'] = 'NASA'"
   ]
  },
  {
   "cell_type": "code",
   "execution_count": 36,
   "metadata": {},
   "outputs": [
    {
     "name": "stdout",
     "output_type": "stream",
     "text": [
      "value after NASA\n"
     ]
    }
   ],
   "source": [
    "print('value after', metadata['agency'])"
   ]
  },
  {
   "cell_type": "markdown",
   "metadata": {},
   "source": [
    "### 📝 Checking In\n",
    "\n",
    "* Add a new value to the `metadata` dictionary called `satellite_name` and pick your own glorious satellite name to assign.\n",
    "* Overwrite the `satellite_name` field you just created with a new name."
   ]
  },
  {
   "cell_type": "markdown",
   "metadata": {},
   "source": [
    "### 💡 Main point\n",
    "* Access values in a dictionary using their key and square brackets `[]`  (Ex. `metadata['location']`)\n",
    "* Using the square bracket notation and then an equals sign will either add a new key-value pair to the dictionary, or overwrite the old one if the key already exists."
   ]
  },
  {
   "cell_type": "markdown",
   "metadata": {},
   "source": [
    "## `if` statements"
   ]
  },
  {
   "cell_type": "markdown",
   "metadata": {},
   "source": [
    "(probs move this to the top to flow more with the day before if doing this)"
   ]
  },
  {
   "cell_type": "code",
   "execution_count": null,
   "metadata": {},
   "outputs": [],
   "source": []
  }
 ],
 "metadata": {
  "kernelspec": {
   "display_name": "Python 3",
   "language": "python",
   "name": "python3"
  },
  "language_info": {
   "codemirror_mode": {
    "name": "ipython",
    "version": 3
   },
   "file_extension": ".py",
   "mimetype": "text/x-python",
   "name": "python",
   "nbconvert_exporter": "python",
   "pygments_lexer": "ipython3",
   "version": "3.8.8"
  }
 },
 "nbformat": 4,
 "nbformat_minor": 4
}
