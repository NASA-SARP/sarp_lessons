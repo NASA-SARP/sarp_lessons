{
 "cells": [
  {
   "cell_type": "markdown",
   "id": "8a968910",
   "metadata": {},
   "source": [
    "This notebook provides practice problems associated with lesson 2. It is divided into several parts:\n",
    "* **Part 1** - most approachable place to start.  Practices syntax and concepts\n",
    "* **Part 2** - a step up from part 1.  Integrates concepts from accross the lesson in more applied scenarios"
   ]
  },
  {
   "cell_type": "code",
   "execution_count": 1,
   "id": "a95d5b35",
   "metadata": {},
   "outputs": [],
   "source": [
    "import numpy as np"
   ]
  },
  {
   "cell_type": "markdown",
   "id": "c6bf45ba",
   "metadata": {},
   "source": [
    "# Practice Problems Part 1"
   ]
  },
  {
   "cell_type": "markdown",
   "id": "b4cfa111",
   "metadata": {},
   "source": [
    "## Creating and Inspecting arrays"
   ]
  },
  {
   "cell_type": "markdown",
   "id": "5d4defcf",
   "metadata": {},
   "source": [
    "1. Convert the following list into a numpy array"
   ]
  },
  {
   "cell_type": "code",
   "execution_count": 2,
   "id": "97c6c423",
   "metadata": {},
   "outputs": [],
   "source": [
    "chlor_a_list = [0.3, 1.2, 0.8, 0.8, 1.1, 0.2, 0.4]"
   ]
  },
  {
   "cell_type": "code",
   "execution_count": 3,
   "id": "08d9d2bb",
   "metadata": {},
   "outputs": [],
   "source": [
    "chlor_a = np.array(chlor_a_list)"
   ]
  },
  {
   "cell_type": "markdown",
   "id": "cca558d6",
   "metadata": {},
   "source": [
    "2. Get the following values from the `chlor_a` array you made in the last problem:\n",
    "* The first value\n",
    "* The last value"
   ]
  },
  {
   "cell_type": "code",
   "execution_count": 4,
   "id": "bd867ca3",
   "metadata": {},
   "outputs": [
    {
     "data": {
      "text/plain": [
       "0.3"
      ]
     },
     "execution_count": 4,
     "metadata": {},
     "output_type": "execute_result"
    }
   ],
   "source": [
    "chlor_a[0]"
   ]
  },
  {
   "cell_type": "code",
   "execution_count": 5,
   "id": "9f56789a",
   "metadata": {},
   "outputs": [
    {
     "data": {
      "text/plain": [
       "0.4"
      ]
     },
     "execution_count": 5,
     "metadata": {},
     "output_type": "execute_result"
    }
   ],
   "source": [
    "chlor_a[6]\n",
    "# or\n",
    "chlor_a[-1]"
   ]
  },
  {
   "cell_type": "markdown",
   "id": "4a1a6c4e",
   "metadata": {},
   "source": [
    "3. What is the data type of the `chlor_a` array you made?"
   ]
  },
  {
   "cell_type": "code",
   "execution_count": 6,
   "id": "a1a08f36",
   "metadata": {},
   "outputs": [
    {
     "data": {
      "text/plain": [
       "dtype('float64')"
      ]
     },
     "execution_count": 6,
     "metadata": {},
     "output_type": "execute_result"
    }
   ],
   "source": [
    "# float (specifically a 64-bit float)\n",
    "chlor_a.dtype"
   ]
  },
  {
   "cell_type": "markdown",
   "id": "bc0780ea",
   "metadata": {},
   "source": [
    "4. Use code to figure out how many items are in your array"
   ]
  },
  {
   "cell_type": "code",
   "execution_count": 7,
   "id": "e2d65f81",
   "metadata": {},
   "outputs": [
    {
     "data": {
      "text/plain": [
       "(7,)"
      ]
     },
     "execution_count": 7,
     "metadata": {},
     "output_type": "execute_result"
    }
   ],
   "source": [
    "chlor_a.shape"
   ]
  },
  {
   "cell_type": "markdown",
   "id": "cb588ec4",
   "metadata": {},
   "source": [
    "## Multiple dimensions"
   ]
  },
  {
   "cell_type": "markdown",
   "id": "c6ebbafa",
   "metadata": {},
   "source": [
    "5. What is the shape of the following array?  Use the shape to determine how many elements are in the array"
   ]
  },
  {
   "cell_type": "code",
   "execution_count": 8,
   "id": "f269bd59",
   "metadata": {},
   "outputs": [],
   "source": [
    "population_sparrows = np.array([[43, 24, 53, 24], [21, 32, 42, 32], [76, 23, 14, 12]])"
   ]
  },
  {
   "cell_type": "code",
   "execution_count": 9,
   "id": "d37bab5f",
   "metadata": {},
   "outputs": [
    {
     "data": {
      "text/plain": [
       "(3, 4)"
      ]
     },
     "execution_count": 9,
     "metadata": {},
     "output_type": "execute_result"
    }
   ],
   "source": [
    "population_sparrows.shape"
   ]
  },
  {
   "cell_type": "code",
   "execution_count": 10,
   "id": "aad8b60c",
   "metadata": {},
   "outputs": [
    {
     "data": {
      "text/plain": [
       "12"
      ]
     },
     "execution_count": 10,
     "metadata": {},
     "output_type": "execute_result"
    }
   ],
   "source": [
    "# Total elements is the size of each axis multiplied together\n",
    "3*4"
   ]
  },
  {
   "cell_type": "markdown",
   "id": "b742c9b9",
   "metadata": {},
   "source": [
    "6. Use the `len()` function and the `.shape` property to calculate the  number of dimensions of the `population_sparrows` array"
   ]
  },
  {
   "cell_type": "code",
   "execution_count": 11,
   "id": "cc8eac28",
   "metadata": {},
   "outputs": [
    {
     "data": {
      "text/plain": [
       "2"
      ]
     },
     "execution_count": 11,
     "metadata": {},
     "output_type": "execute_result"
    }
   ],
   "source": [
    "len(population_sparrows.shape)"
   ]
  },
  {
   "cell_type": "markdown",
   "id": "9a337550",
   "metadata": {},
   "source": [
    "7. Return the same result as problem 6 in a different way, using the `.ndim` property"
   ]
  },
  {
   "cell_type": "code",
   "execution_count": 12,
   "id": "800c44b3",
   "metadata": {},
   "outputs": [
    {
     "data": {
      "text/plain": [
       "2"
      ]
     },
     "execution_count": 12,
     "metadata": {},
     "output_type": "execute_result"
    }
   ],
   "source": [
    "population_sparrows.ndim"
   ]
  },
  {
   "cell_type": "markdown",
   "id": "5dfa143a",
   "metadata": {},
   "source": [
    "8. Get the value for the item in the last row and the last column of the `population_sparrows` array"
   ]
  },
  {
   "cell_type": "code",
   "execution_count": 13,
   "id": "1602b39b",
   "metadata": {},
   "outputs": [
    {
     "data": {
      "text/plain": [
       "12"
      ]
     },
     "execution_count": 13,
     "metadata": {},
     "output_type": "execute_result"
    }
   ],
   "source": [
    "population_sparrows[-1, -1]"
   ]
  },
  {
   "cell_type": "markdown",
   "id": "dab24d2d",
   "metadata": {},
   "source": [
    "9. Get a 4-number array that is a subset of number from the `population_sparrows` array using the slice operator `:`"
   ]
  },
  {
   "cell_type": "code",
   "execution_count": 14,
   "id": "e4616890",
   "metadata": {},
   "outputs": [
    {
     "data": {
      "text/plain": [
       "array([[24, 53],\n",
       "       [32, 42]])"
      ]
     },
     "execution_count": 14,
     "metadata": {},
     "output_type": "execute_result"
    }
   ],
   "source": [
    "population_sparrows[0:2, 1:3]"
   ]
  },
  {
   "cell_type": "markdown",
   "id": "9b4d3a71",
   "metadata": {},
   "source": [
    "## Math and aggregations"
   ]
  },
  {
   "cell_type": "markdown",
   "id": "757961e6",
   "metadata": {},
   "source": [
    "For the next few problems consider that the `population_sparrows` array represents the populations of sparrows at 12 different reserach locations."
   ]
  },
  {
   "cell_type": "markdown",
   "id": "d9eebc1a",
   "metadata": {},
   "source": [
    "10. Let's say our sparrow population grew, and the population of every location doubled.  Multiple all the values in the array by 2.  Make sure array is updated with the new values."
   ]
  },
  {
   "cell_type": "code",
   "execution_count": 15,
   "id": "8e5fbb27",
   "metadata": {},
   "outputs": [],
   "source": [
    "population_sparrows = population_sparrows*2"
   ]
  },
  {
   "cell_type": "markdown",
   "id": "a16542e7",
   "metadata": {},
   "source": [
    "10. Later in the season a group of biologists adds a few sparrows to each population.  The number of sparrows they added to each location is represented by the following array:"
   ]
  },
  {
   "cell_type": "code",
   "execution_count": 16,
   "id": "de4e6762",
   "metadata": {},
   "outputs": [],
   "source": [
    "indiviuals_added = np.array([[4, 4, 5, 4], [1, 2, 2, 3], [6, 3, 4, 2]])"
   ]
  },
  {
   "cell_type": "markdown",
   "id": "d318b4c5",
   "metadata": {},
   "source": [
    "Calculate the updated population values with the new additions.  Update the variable value."
   ]
  },
  {
   "cell_type": "code",
   "execution_count": 17,
   "id": "56792cf3",
   "metadata": {},
   "outputs": [],
   "source": [
    "population_sparrows = population_sparrows + indiviuals_added"
   ]
  },
  {
   "cell_type": "markdown",
   "id": "92f3a433",
   "metadata": {},
   "source": [
    "11. Calculate the sum of the sparrows at all the locations"
   ]
  },
  {
   "cell_type": "code",
   "execution_count": 18,
   "id": "6ce14632",
   "metadata": {},
   "outputs": [
    {
     "data": {
      "text/plain": [
       "832"
      ]
     },
     "execution_count": 18,
     "metadata": {},
     "output_type": "execute_result"
    }
   ],
   "source": [
    "population_sparrows.sum()"
   ]
  },
  {
   "cell_type": "markdown",
   "id": "96aafeef",
   "metadata": {},
   "source": [
    "12. Calculate the sum of sparrows over axis 1"
   ]
  },
  {
   "cell_type": "code",
   "execution_count": 19,
   "id": "f5f092c7",
   "metadata": {},
   "outputs": [
    {
     "data": {
      "text/plain": [
       "array([305, 262, 265])"
      ]
     },
     "execution_count": 19,
     "metadata": {},
     "output_type": "execute_result"
    }
   ],
   "source": [
    "population_sparrows.sum(axis=1)"
   ]
  },
  {
   "cell_type": "markdown",
   "id": "d7491e26",
   "metadata": {},
   "source": [
    "13. Consider the following array. If you ran an aggregation (Ex. `.max()`) and specified an axis, over what axis would you get 3 numbers as a result?"
   ]
  },
  {
   "cell_type": "code",
   "execution_count": 20,
   "id": "f7e30e26",
   "metadata": {},
   "outputs": [],
   "source": [
    "example_array = np.array([[4, 4, 5, 4], [1, 2, 2, 3], [6, 3, 4, 2]])"
   ]
  },
  {
   "cell_type": "code",
   "execution_count": 21,
   "id": "b82533af",
   "metadata": {},
   "outputs": [],
   "source": [
    "# axis 1"
   ]
  },
  {
   "cell_type": "markdown",
   "id": "86213c87",
   "metadata": {},
   "source": [
    "# Practice Problems Part 2"
   ]
  },
  {
   "cell_type": "markdown",
   "id": "abbe76fe",
   "metadata": {},
   "source": [
    "**Note that the exact answers to the practice problems may not be the same on my sheet as on yours, because the random function used to generate the values won't create the same array on your computer as on mine. Check that the code does the same thing, or run my code in your notebook to check the answer**"
   ]
  },
  {
   "cell_type": "markdown",
   "id": "a3dec889",
   "metadata": {},
   "source": [
    "#### Question 1"
   ]
  },
  {
   "cell_type": "code",
   "execution_count": 22,
   "id": "ce510294",
   "metadata": {
    "scrolled": true
   },
   "outputs": [],
   "source": [
    "reflectances = np.random.randint(0, high=100, size=(5, 30, 40))"
   ]
  },
  {
   "cell_type": "markdown",
   "id": "35bd2069",
   "metadata": {},
   "source": [
    "**A)** Get a subset of at least 15 values from the middle of the `reflectances` array."
   ]
  },
  {
   "cell_type": "code",
   "execution_count": 23,
   "id": "cd1d21d4",
   "metadata": {},
   "outputs": [
    {
     "data": {
      "text/plain": [
       "array([[67, 83, 54, 68, 13, 69, 69, 84, 40, 94],\n",
       "       [92, 37, 77, 37, 54,  2, 22, 93, 13, 67],\n",
       "       [99,  0, 37, 63, 83, 26, 94, 21, 48, 68]])"
      ]
     },
     "execution_count": 23,
     "metadata": {},
     "output_type": "execute_result"
    }
   ],
   "source": [
    "reflectances[2:5, 10:20, 20]"
   ]
  },
  {
   "cell_type": "markdown",
   "id": "b466ce28",
   "metadata": {},
   "source": [
    "**B)** Write a chunk of code to get the value in the center of the array.  Make sure the code works for arrays of different sizes, so calculate the center index values using the properties of the array."
   ]
  },
  {
   "cell_type": "code",
   "execution_count": 24,
   "id": "46eeca06",
   "metadata": {},
   "outputs": [
    {
     "name": "stdout",
     "output_type": "stream",
     "text": [
      "69\n"
     ]
    }
   ],
   "source": [
    "# Find the center index for each axis\n",
    "axis0_indx = reflectances.shape[0] // 2 # floor division to ensure a whole number\n",
    "axis1_indx = reflectances.shape[1] // 2 \n",
    "axis2_indx = reflectances.shape[2] // 2\n",
    "# Get the value\n",
    "print(reflectances[axis0_indx, axis1_indx, axis2_indx])"
   ]
  },
  {
   "cell_type": "markdown",
   "id": "50a385f0",
   "metadata": {},
   "source": [
    "#### Question 2\n",
    "\n",
    "**A)** Add 10 to every value in the `reflectances` array which has an index of 2 in the axis=0 position."
   ]
  },
  {
   "cell_type": "code",
   "execution_count": 25,
   "id": "f39c9e5b",
   "metadata": {},
   "outputs": [
    {
     "data": {
      "text/plain": [
       "array([[ 45,  61,  57, ..., 107,  97,  15],\n",
       "       [105,  79,  34, ...,  18,  66,  13],\n",
       "       [100,  72,  75, ...,  54, 100,  62],\n",
       "       ...,\n",
       "       [ 34,  92,  17, ...,  85,  44,  39],\n",
       "       [ 93,  65,  84, ...,  16,  17,  66],\n",
       "       [ 80,  23,  34, ..., 104,  75,  52]])"
      ]
     },
     "execution_count": 25,
     "metadata": {},
     "output_type": "execute_result"
    }
   ],
   "source": [
    "reflectances[2] + 10"
   ]
  },
  {
   "cell_type": "markdown",
   "id": "022603c7",
   "metadata": {},
   "source": [
    "#### Question 3\n",
    "**A)** What will be the shapes of the following arrays?  First take a guess, then run the code.\n",
    "\n",
    "```\n",
    "array1 = np.array([1, 2, 3])\n",
    "array2 = np.array([[1], [2], [3]])\n",
    "```"
   ]
  },
  {
   "cell_type": "code",
   "execution_count": 26,
   "id": "5cc17698",
   "metadata": {},
   "outputs": [],
   "source": [
    "# array1 -> (3,)\n",
    "# array2 -> (3, 1)"
   ]
  },
  {
   "cell_type": "markdown",
   "id": "670fd799",
   "metadata": {},
   "source": [
    "**B)** Starting with an array of all zeros, what how will the output look different adding together `starting_array` + `array1` vs. `starting_array` + `array2`?  Make your guess first, then run the code to compare to your expectation."
   ]
  },
  {
   "cell_type": "code",
   "execution_count": 27,
   "id": "2bc77cb1",
   "metadata": {},
   "outputs": [],
   "source": [
    "starting_array = np.zeros((3,3))"
   ]
  },
  {
   "cell_type": "code",
   "execution_count": 28,
   "id": "d48d977b",
   "metadata": {},
   "outputs": [],
   "source": [
    "array1 = np.array([1, 2, 3])\n",
    "array2 = np.array([[1], [2], [3]])"
   ]
  },
  {
   "cell_type": "code",
   "execution_count": 29,
   "id": "8f33089a",
   "metadata": {},
   "outputs": [
    {
     "data": {
      "text/plain": [
       "array([[1., 2., 3.],\n",
       "       [1., 2., 3.],\n",
       "       [1., 2., 3.]])"
      ]
     },
     "execution_count": 29,
     "metadata": {},
     "output_type": "execute_result"
    }
   ],
   "source": [
    "# Array is broadcast along axis 0\n",
    "starting_array + array1"
   ]
  },
  {
   "cell_type": "code",
   "execution_count": 30,
   "id": "56f5a66b",
   "metadata": {},
   "outputs": [
    {
     "data": {
      "text/plain": [
       "array([[1., 1., 1.],\n",
       "       [2., 2., 2.],\n",
       "       [3., 3., 3.]])"
      ]
     },
     "execution_count": 30,
     "metadata": {},
     "output_type": "execute_result"
    }
   ],
   "source": [
    "# Array is broadcast along axis 1\n",
    "starting_array + array2"
   ]
  },
  {
   "cell_type": "markdown",
   "id": "8370e2b1",
   "metadata": {},
   "source": [
    "#### Question 4\n",
    "\n",
    "**A)** Going back to our `reflectances` array, find the mean and standard deviation of all the values in the array."
   ]
  },
  {
   "cell_type": "code",
   "execution_count": 31,
   "id": "86864584",
   "metadata": {},
   "outputs": [],
   "source": [
    "reflectances = np.random.randint(0, high=100, size=(5, 30, 40))"
   ]
  },
  {
   "cell_type": "code",
   "execution_count": 32,
   "id": "80a7cfa2",
   "metadata": {},
   "outputs": [
    {
     "data": {
      "text/plain": [
       "49.513333333333335"
      ]
     },
     "execution_count": 32,
     "metadata": {},
     "output_type": "execute_result"
    }
   ],
   "source": [
    "reflectances.mean()"
   ]
  },
  {
   "cell_type": "code",
   "execution_count": 33,
   "id": "7247b6e6",
   "metadata": {},
   "outputs": [
    {
     "data": {
      "text/plain": [
       "28.948019314319627"
      ]
     },
     "execution_count": 33,
     "metadata": {},
     "output_type": "execute_result"
    }
   ],
   "source": [
    "reflectances.std()"
   ]
  },
  {
   "cell_type": "markdown",
   "id": "7b5534a0",
   "metadata": {},
   "source": [
    "**B)** What is the maximum value of the 2D array at index 1 of axis 0?"
   ]
  },
  {
   "cell_type": "code",
   "execution_count": 34,
   "id": "28318fe2",
   "metadata": {},
   "outputs": [],
   "source": [
    "example = np.array([[23, 43, 10], [3, 10, 8], [13, 16, 0]])"
   ]
  },
  {
   "cell_type": "code",
   "execution_count": 35,
   "id": "d2ff3f84",
   "metadata": {},
   "outputs": [
    {
     "data": {
      "text/plain": [
       "10"
      ]
     },
     "execution_count": 35,
     "metadata": {},
     "output_type": "execute_result"
    }
   ],
   "source": [
    "example[1].max()"
   ]
  },
  {
   "cell_type": "markdown",
   "id": "211ef869",
   "metadata": {},
   "source": [
    "#### Question 5"
   ]
  },
  {
   "cell_type": "markdown",
   "id": "f3479c45",
   "metadata": {},
   "source": [
    "**A)** The `.astype()` method is a method that changes the datatype of the values in the array.  It takes one argument - the new data type (which you type in without quotations).\n",
    "\n",
    "Use the `.astype()` method on the reflectances array to change the data type to float."
   ]
  },
  {
   "cell_type": "code",
   "execution_count": 36,
   "id": "f72975c0",
   "metadata": {},
   "outputs": [
    {
     "data": {
      "text/plain": [
       "int"
      ]
     },
     "execution_count": 36,
     "metadata": {},
     "output_type": "execute_result"
    }
   ],
   "source": [
    "# Data types don't need quotations, they are one of the few words you can just type\n",
    "int"
   ]
  },
  {
   "cell_type": "code",
   "execution_count": 37,
   "id": "aadd83b9",
   "metadata": {},
   "outputs": [
    {
     "data": {
      "text/plain": [
       "array([[[76., 67., 58., ..., 21., 17., 95.],\n",
       "        [22., 33., 55., ..., 43., 71., 38.],\n",
       "        [ 3., 15., 63., ..., 33., 40., 54.],\n",
       "        ...,\n",
       "        [53., 67., 58., ..., 58., 87., 91.],\n",
       "        [20., 10., 43., ..., 56., 75., 50.],\n",
       "        [86., 31.,  8., ..., 96., 68., 92.]],\n",
       "\n",
       "       [[66., 41., 28., ..., 69., 60., 70.],\n",
       "        [36.,  8., 28., ..., 66., 40., 28.],\n",
       "        [25., 90., 36., ..., 62., 68., 92.],\n",
       "        ...,\n",
       "        [74., 81., 72., ..., 45., 30., 51.],\n",
       "        [89., 42., 66., ...,  1., 38., 21.],\n",
       "        [76., 58., 57., ..., 68., 24.,  3.]],\n",
       "\n",
       "       [[ 7., 33., 95., ..., 41., 32., 37.],\n",
       "        [49., 18.,  3., ...,  2., 29., 23.],\n",
       "        [75., 45., 19., ..., 15., 79., 49.],\n",
       "        ...,\n",
       "        [55., 81., 86., ...,  1.,  9., 95.],\n",
       "        [40., 71., 69., ..., 63., 32.,  0.],\n",
       "        [30., 25., 95., ..., 53., 39., 76.]],\n",
       "\n",
       "       [[10., 84., 19., ..., 40., 57., 45.],\n",
       "        [86., 56., 46., ..., 70., 67., 74.],\n",
       "        [19., 73., 88., ..., 56., 92., 48.],\n",
       "        ...,\n",
       "        [ 4., 97., 79., ..., 27., 65., 57.],\n",
       "        [25., 28., 69., ..., 46., 77., 30.],\n",
       "        [36., 18., 41., ..., 12., 51., 59.]],\n",
       "\n",
       "       [[89., 81., 79., ..., 85., 34., 38.],\n",
       "        [ 3., 39., 18., ..., 96., 82.,  8.],\n",
       "        [52.,  9.,  9., ..., 68., 44., 76.],\n",
       "        ...,\n",
       "        [86., 49., 63., ..., 96., 44., 79.],\n",
       "        [37., 49., 40., ..., 66., 57., 81.],\n",
       "        [40., 85., 36., ...,  4., 73., 98.]]])"
      ]
     },
     "execution_count": 37,
     "metadata": {},
     "output_type": "execute_result"
    }
   ],
   "source": [
    "reflectances.astype(float)"
   ]
  },
  {
   "cell_type": "markdown",
   "id": "f666cad6",
   "metadata": {},
   "source": [
    "**B)** We have seen the use of `axis` as a kwarg in the `.max()` function.  If you need to you can use multiple kwargs, which you seperate by commas.\n",
    "\n",
    "The `keepdims` kwarg maintains the output value within the original axis they were calculated over.  So if you took the sum of an array over axis 1, you would recieve the output array with a vertically stacked output.  `keepdims` takes a boolean input - True if you would like to keep the dimensions and False if not.\n",
    "\n",
    "Take the max of the `reflectances` array, using the `axis` kwarg with value 1 and the `keepdims` kwarg set to True.  Try it again with the kwarg set to False.  Take the shape of both outputs and notice how they change."
   ]
  },
  {
   "cell_type": "code",
   "execution_count": 38,
   "id": "2814df71",
   "metadata": {},
   "outputs": [
    {
     "data": {
      "text/plain": [
       "array([[[96, 98, 99, 92, 99, 96, 94, 97, 99, 94, 96, 96, 96, 99, 97, 95,\n",
       "         98, 98, 91, 97, 96, 96, 89, 92, 95, 97, 92, 99, 96, 95, 98, 98,\n",
       "         97, 90, 99, 95, 93, 99, 96, 95]],\n",
       "\n",
       "       [[98, 97, 98, 99, 93, 92, 92, 96, 95, 93, 99, 98, 99, 96, 98, 98,\n",
       "         93, 98, 99, 99, 98, 99, 97, 96, 99, 97, 94, 97, 98, 99, 88, 99,\n",
       "         92, 97, 99, 90, 93, 95, 95, 98]],\n",
       "\n",
       "       [[99, 95, 97, 99, 97, 95, 98, 98, 98, 99, 97, 98, 98, 98, 99, 97,\n",
       "         84, 99, 98, 90, 93, 97, 95, 92, 99, 85, 99, 94, 90, 92, 97, 93,\n",
       "         98, 99, 99, 99, 95, 98, 97, 95]],\n",
       "\n",
       "       [[99, 97, 88, 93, 96, 98, 97, 99, 93, 92, 96, 98, 99, 95, 97, 97,\n",
       "         90, 97, 94, 95, 97, 98, 99, 97, 94, 94, 94, 97, 98, 99, 94, 94,\n",
       "         99, 98, 90, 99, 93, 98, 92, 98]],\n",
       "\n",
       "       [[89, 90, 98, 98, 96, 97, 97, 99, 97, 98, 96, 96, 96, 98, 99, 96,\n",
       "         98, 97, 93, 99, 94, 97, 99, 99, 98, 96, 99, 95, 99, 97, 96, 99,\n",
       "         94, 93, 99, 96, 95, 96, 82, 98]]])"
      ]
     },
     "execution_count": 38,
     "metadata": {},
     "output_type": "execute_result"
    }
   ],
   "source": [
    "reflectances.max(axis=1, keepdims=True)"
   ]
  },
  {
   "cell_type": "code",
   "execution_count": 39,
   "id": "0613ce8c",
   "metadata": {},
   "outputs": [
    {
     "data": {
      "text/plain": [
       "(5, 1, 40)"
      ]
     },
     "execution_count": 39,
     "metadata": {},
     "output_type": "execute_result"
    }
   ],
   "source": [
    "reflectances.max(axis=1, keepdims=True).shape"
   ]
  },
  {
   "cell_type": "code",
   "execution_count": 40,
   "id": "d4474081",
   "metadata": {},
   "outputs": [
    {
     "data": {
      "text/plain": [
       "(5, 40)"
      ]
     },
     "execution_count": 40,
     "metadata": {},
     "output_type": "execute_result"
    }
   ],
   "source": [
    "reflectances.max(axis=1, keepdims=False).shape"
   ]
  },
  {
   "cell_type": "markdown",
   "id": "3d3419af",
   "metadata": {},
   "source": [
    "_Note: The \"keepdims\" concept is a bit conceptually abstract and I couldn't find a good visual illustration for it right now.  If you leave this problem feeling a little iffy on \"keepdims\" that is totally fine and normal.  The more important concept to be comfortable with is using multiple kwargs in a function/method._"
   ]
  },
  {
   "cell_type": "markdown",
   "id": "16abec3e",
   "metadata": {},
   "source": [
    "#### Question 6"
   ]
  },
  {
   "cell_type": "code",
   "execution_count": 41,
   "id": "b641c620",
   "metadata": {},
   "outputs": [],
   "source": [
    "example = np.array([[6, 10, 5, 9], [6, 9, 9, 11], [12, 14, 6, 3]])"
   ]
  },
  {
   "cell_type": "markdown",
   "id": "a9efd370",
   "metadata": {},
   "source": [
    "**A)** Get a list of unique items in the `example` array."
   ]
  },
  {
   "cell_type": "code",
   "execution_count": 42,
   "id": "82388eac",
   "metadata": {},
   "outputs": [
    {
     "data": {
      "text/plain": [
       "array([ 3,  5,  6,  9, 10, 11, 12, 14])"
      ]
     },
     "execution_count": 42,
     "metadata": {},
     "output_type": "execute_result"
    }
   ],
   "source": [
    "np.unique(example)"
   ]
  },
  {
   "cell_type": "code",
   "execution_count": null,
   "id": "f7ef70da",
   "metadata": {},
   "outputs": [],
   "source": []
  },
  {
   "cell_type": "markdown",
   "id": "e639c5f6",
   "metadata": {},
   "source": [
    "_**Google help:** \"numpy unique values in an array\", or [this stackoverflow](https://stackoverflow.com/questions/16970982/find-unique-rows-in-numpy-array)._"
   ]
  },
  {
   "cell_type": "markdown",
   "id": "238218a0",
   "metadata": {},
   "source": [
    "**B)** Pick one of the values in the array and determine how many times that value occurs in the array."
   ]
  },
  {
   "cell_type": "code",
   "execution_count": 43,
   "id": "0b5c1bb7",
   "metadata": {},
   "outputs": [
    {
     "data": {
      "text/plain": [
       "(array([ 3,  5,  6,  9, 10, 11, 12, 14]),\n",
       " array([1, 1, 3, 3, 1, 1, 1, 1], dtype=int64))"
      ]
     },
     "execution_count": 43,
     "metadata": {},
     "output_type": "execute_result"
    }
   ],
   "source": [
    "np.unique(example, return_counts=True)\n",
    "# Then read the output to see that (for example) the value 6 occured 3 times"
   ]
  },
  {
   "cell_type": "code",
   "execution_count": 44,
   "id": "09407f79",
   "metadata": {},
   "outputs": [],
   "source": [
    "# OR"
   ]
  },
  {
   "cell_type": "code",
   "execution_count": 45,
   "id": "95a3acdd",
   "metadata": {},
   "outputs": [
    {
     "data": {
      "text/plain": [
       "3"
      ]
     },
     "execution_count": 45,
     "metadata": {},
     "output_type": "execute_result"
    }
   ],
   "source": [
    "np.count_nonzero(example == 6)"
   ]
  },
  {
   "cell_type": "markdown",
   "id": "d41bb85c",
   "metadata": {},
   "source": [
    "_**Google help:** \"numpy number of occurances of a value\" or [this stackoverflow](https://stackoverflow.com/questions/28663856/how-to-count-the-occurrence-of-certain-item-in-an-ndarray)._"
   ]
  },
  {
   "cell_type": "markdown",
   "id": "71256dea",
   "metadata": {},
   "source": [
    "#### Question 7\n",
    "\n",
    "NaNs are an important data point when working with real data - rarely do you have a totally complete dataset.\n",
    "\n",
    "You can make individual nans with `np.NaN`:"
   ]
  },
  {
   "cell_type": "code",
   "execution_count": 46,
   "id": "91cc9c48",
   "metadata": {},
   "outputs": [
    {
     "data": {
      "text/plain": [
       "nan"
      ]
     },
     "execution_count": 46,
     "metadata": {},
     "output_type": "execute_result"
    }
   ],
   "source": [
    "np.NaN"
   ]
  },
  {
   "cell_type": "markdown",
   "id": "7870ddee",
   "metadata": {},
   "source": [
    "Look at [the docs](https://numpy.org/devdocs/reference/generated/numpy.full.html) for the function `np.full()` and create a new array of shape (4, 5, 6) filled with nan values."
   ]
  },
  {
   "cell_type": "code",
   "execution_count": 47,
   "id": "f025c6fa",
   "metadata": {
    "scrolled": true
   },
   "outputs": [
    {
     "data": {
      "text/plain": [
       "array([[[nan, nan, nan, nan, nan, nan],\n",
       "        [nan, nan, nan, nan, nan, nan],\n",
       "        [nan, nan, nan, nan, nan, nan],\n",
       "        [nan, nan, nan, nan, nan, nan],\n",
       "        [nan, nan, nan, nan, nan, nan]],\n",
       "\n",
       "       [[nan, nan, nan, nan, nan, nan],\n",
       "        [nan, nan, nan, nan, nan, nan],\n",
       "        [nan, nan, nan, nan, nan, nan],\n",
       "        [nan, nan, nan, nan, nan, nan],\n",
       "        [nan, nan, nan, nan, nan, nan]],\n",
       "\n",
       "       [[nan, nan, nan, nan, nan, nan],\n",
       "        [nan, nan, nan, nan, nan, nan],\n",
       "        [nan, nan, nan, nan, nan, nan],\n",
       "        [nan, nan, nan, nan, nan, nan],\n",
       "        [nan, nan, nan, nan, nan, nan]],\n",
       "\n",
       "       [[nan, nan, nan, nan, nan, nan],\n",
       "        [nan, nan, nan, nan, nan, nan],\n",
       "        [nan, nan, nan, nan, nan, nan],\n",
       "        [nan, nan, nan, nan, nan, nan],\n",
       "        [nan, nan, nan, nan, nan, nan]]])"
      ]
     },
     "execution_count": 47,
     "metadata": {},
     "output_type": "execute_result"
    }
   ],
   "source": [
    "np.full((4,5,6), np.NaN)"
   ]
  },
  {
   "cell_type": "code",
   "execution_count": null,
   "id": "a09ee1cb",
   "metadata": {},
   "outputs": [],
   "source": []
  }
 ],
 "metadata": {
  "kernelspec": {
   "display_name": "Python 3",
   "language": "python",
   "name": "python3"
  },
  "language_info": {
   "codemirror_mode": {
    "name": "ipython",
    "version": 3
   },
   "file_extension": ".py",
   "mimetype": "text/x-python",
   "name": "python",
   "nbconvert_exporter": "python",
   "pygments_lexer": "ipython3",
   "version": "3.8.8"
  }
 },
 "nbformat": 4,
 "nbformat_minor": 5
}
