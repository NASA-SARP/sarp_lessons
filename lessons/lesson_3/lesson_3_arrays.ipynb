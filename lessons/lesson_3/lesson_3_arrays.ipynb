{
 "cells": [
  {
   "cell_type": "markdown",
   "id": "proved-county",
   "metadata": {},
   "source": [
    "# Lesson 3: Arrays"
   ]
  },
  {
   "cell_type": "markdown",
   "id": "75814463",
   "metadata": {},
   "source": [
    "## Content"
   ]
  },
  {
   "cell_type": "markdown",
   "id": "fifteen-contractor",
   "metadata": {},
   "source": [
    "### Poll Review\n",
    "* Lists and Dictionaries"
   ]
  },
  {
   "cell_type": "markdown",
   "id": "bfba2cec",
   "metadata": {},
   "source": [
    "## Libraries"
   ]
  },
  {
   "cell_type": "code",
   "execution_count": null,
   "id": "8e371438",
   "metadata": {},
   "outputs": [],
   "source": []
  },
  {
   "cell_type": "markdown",
   "id": "northern-distributor",
   "metadata": {},
   "source": [
    "## Data structure: Arrays\n",
    "Arrays are the new data structure of this lesson.  They are similar to lists in that they represent a group of values.  Arrays are also simliar to list because you reference specific values using an index.  The main difference between lists and arrays is that arrays can have multiple dimensions.\n",
    "\n",
    "Still, if you array only has 1 dimension (like a list), why not just use a list?  Because:\n",
    "* `numpy` arrays are super optimized for speed\n",
    "* `numpy` arrays have lots of funcions build in that let you do extra things to a list\n",
    "\n",
    "In the end the choice between an array and a list depends on what kind of data you have and what you want to do with it.  There is also an element of personal preference."
   ]
  },
  {
   "cell_type": "markdown",
   "id": "3f8364c9",
   "metadata": {},
   "source": [
    "<img src=\"../images/L3_numpy-arrays.png\" width=550>\n",
    "\n",
    "_Image ammended from \n",
    "[Indian AI Production](https://indianaiproduction.com/python-numpy-tutorial/)._"
   ]
  },
  {
   "cell_type": "markdown",
   "id": "informal-comparative",
   "metadata": {},
   "source": [
    "## `numpy` library\n",
    "`numpy` is the standard Python library for dealing with arrays and matricies.  A lot of time and energy has gone into making `numpy` fast.\n",
    "\n",
    "`conda install -n lectures numpy`"
   ]
  },
  {
   "cell_type": "code",
   "execution_count": 4,
   "id": "expected-bouquet",
   "metadata": {},
   "outputs": [],
   "source": [
    "import numpy as np"
   ]
  },
  {
   "cell_type": "markdown",
   "id": "separate-payday",
   "metadata": {},
   "source": [
    "### Side note: `xarray`\n",
    "`xarray` is another array/matrix library that has gained a LOT of traction among scientists.  It is a great library and it is developed by a group of scientists in the earthdata community so it often works really well for earth science applications.\n",
    "\n",
    "There are two big problems with `xarray` right now:\n",
    "* it doesn't have good spatial referencing.  This means that there isn't good tooling for people to, for example, pick a data point based on latitude and longitude\n",
    "* There isn't a great way to read `xarray` data from the cloud\n",
    "\n",
    "These are both problems that are being actively worked on by members of the community and will, I think, be resolved in the near future.  Until then, though, and for the sake of stability, this summer we are focused on `numpy`.  If you are interested in trying `xarray`, certainly go for it or talk to me."
   ]
  },
  {
   "cell_type": "markdown",
   "id": "sustained-plenty",
   "metadata": {},
   "source": [
    "## Creating `numpy` arrays\n",
    "\n",
    "Because arrays are so similar to lists one common way to make an array is by starting with a list.  \n",
    "\n",
    "We use `np.array()` to convert a list to an array.  In that line `np.` reminds Python which library we are referecing.  Here `np.` means `numpy`, which is what we told Python to call `numpy` when we imported it with `import numpy as np`."
   ]
  },
  {
   "cell_type": "code",
   "execution_count": 5,
   "id": "electoral-template",
   "metadata": {},
   "outputs": [],
   "source": [
    "reflectance_list = [25, 65, 43, 13, 54]"
   ]
  },
  {
   "cell_type": "code",
   "execution_count": 6,
   "id": "suffering-permit",
   "metadata": {},
   "outputs": [],
   "source": [
    "reflectance_array = np.array([25, 65, 43, 13, 54])"
   ]
  },
  {
   "cell_type": "code",
   "execution_count": 25,
   "id": "basic-dress",
   "metadata": {},
   "outputs": [
    {
     "data": {
      "text/plain": [
       "array([25, 65, 43, 13, 54])"
      ]
     },
     "execution_count": 25,
     "metadata": {},
     "output_type": "execute_result"
    }
   ],
   "source": [
    "reflectance_array"
   ]
  },
  {
   "cell_type": "markdown",
   "id": "crazy-reminder",
   "metadata": {},
   "source": [
    "Nothing very special so far."
   ]
  },
  {
   "cell_type": "markdown",
   "id": "atlantic-associate",
   "metadata": {},
   "source": [
    "What we get with the array, though, is some extra **properties** (information) and **methods** (actions).\n",
    "\n",
    "Some useful properties of an array are:\n",
    "- **dtype**: the data type of the array (Ex. integer, float, etc.)\n",
    "- **shape**: the number of items along each dimension\n",
    "\n",
    "Properties are applied using a period `.` at the end of the object:\n",
    "* Ex. `my_array.property`"
   ]
  },
  {
   "cell_type": "code",
   "execution_count": 27,
   "id": "a4bed85e",
   "metadata": {},
   "outputs": [
    {
     "data": {
      "text/plain": [
       "dtype('int64')"
      ]
     },
     "execution_count": 27,
     "metadata": {},
     "output_type": "execute_result"
    }
   ],
   "source": [
    "reflectance_array.dtype"
   ]
  },
  {
   "cell_type": "code",
   "execution_count": 26,
   "id": "mechanical-asset",
   "metadata": {
    "scrolled": true
   },
   "outputs": [
    {
     "data": {
      "text/plain": [
       "(5,)"
      ]
     },
     "execution_count": 26,
     "metadata": {},
     "output_type": "execute_result"
    }
   ],
   "source": [
    "reflectance_array.shape"
   ]
  },
  {
   "cell_type": "markdown",
   "id": "60b8c94b",
   "metadata": {},
   "source": [
    "We will look at some useful methods in a bit."
   ]
  },
  {
   "cell_type": "markdown",
   "id": "1c3bb237",
   "metadata": {},
   "source": [
    "### 👀Notice\n",
    "We have seen both properties and methods before for lists.  Now that we have seen them in multiple places, you might start noticing a pattern.  \n",
    "* Properties of objects you access with `data_structure.property`.  They **tell** you something about the object\n",
    "* Methods of objects you access with `data_structure.method()`.  They **do** something to the object."
   ]
  },
  {
   "cell_type": "markdown",
   "id": "c3c95eac",
   "metadata": {},
   "source": [
    "_Starting Structures_\n",
    "* `list_ex = ['co','co2','ch4']`\n",
    "* `array_ex = np.array([6.5, 7.3. 2.9])`\n",
    "\n",
    "_Examples of properties_\n",
    "\n",
    "* `print(array_ex.shape)  # returns (3,)`\n",
    "\n",
    "_Examples of methods_\n",
    "\n",
    "* `list_ex.append('o3')`\n",
    "* `array_ex.full(3)`"
   ]
  },
  {
   "cell_type": "markdown",
   "id": "ba670c27",
   "metadata": {},
   "source": [
    "## Array Indexes"
   ]
  },
  {
   "cell_type": "markdown",
   "id": "altered-performer",
   "metadata": {},
   "source": [
    "You can access elements of the array by index, just like with lists."
   ]
  },
  {
   "cell_type": "code",
   "execution_count": 7,
   "id": "norman-flavor",
   "metadata": {},
   "outputs": [
    {
     "data": {
      "text/plain": [
       "54"
      ]
     },
     "execution_count": 7,
     "metadata": {},
     "output_type": "execute_result"
    }
   ],
   "source": [
    "# Return the 5th value in the array\n",
    "reflectance_array[4]"
   ]
  },
  {
   "cell_type": "markdown",
   "id": "36f54f32",
   "metadata": {},
   "source": [
    "With a one-dimensional array this looks exactly the same as a list.  With higher-dimensional arrays there is a little more to keep track of."
   ]
  },
  {
   "cell_type": "markdown",
   "id": "intermediate-article",
   "metadata": {},
   "source": [
    "### 📝 Checking In\n",
    "Print out the shape of the array\n",
    "\n",
    "Print the value of the 3rd item in the array"
   ]
  },
  {
   "cell_type": "markdown",
   "id": "disciplinary-calculator",
   "metadata": {},
   "source": [
    "## More than one dimension\n",
    "The array we made so far is a one-dimensional array.  Very often when working with arrays you will have two or more dimensions.  You can create arrays like this by putting lists inside of lists, or **nesting** them."
   ]
  },
  {
   "cell_type": "code",
   "execution_count": 19,
   "id": "8e0e820c",
   "metadata": {},
   "outputs": [],
   "source": [
    "nested_list = [[1,2,3], [4,5,6]]\n",
    "array_2d = np.array(nested_list)"
   ]
  },
  {
   "cell_type": "code",
   "execution_count": 21,
   "id": "9da9df79",
   "metadata": {
    "scrolled": true
   },
   "outputs": [
    {
     "name": "stdout",
     "output_type": "stream",
     "text": [
      "(2, 3)\n"
     ]
    }
   ],
   "source": [
    "print(array_2d.shape)"
   ]
  },
  {
   "cell_type": "markdown",
   "id": "33adc02f",
   "metadata": {},
   "source": [
    "Oen thing that you have to start keeping track of once your arrays have more than one dimension is their **axes**. An axis is a number assigned to each new dimension to keep track of it."
   ]
  },
  {
   "cell_type": "markdown",
   "id": "c8d5a51e",
   "metadata": {},
   "source": [
    "<img src=\"https://codeguru.academy/wp-content/uploads/2020/11/numpy-intro-01.png\" width=450>\n",
    "\n",
    "_Image from [Code Guru](https://codeguru.academy/?p=335)_"
   ]
  },
  {
   "cell_type": "markdown",
   "id": "aa2e6d2f",
   "metadata": {},
   "source": [
    "You might often hear/read arrays called `ndarray`s.  This is short for an n-dimensional array, which refers to the fact that it can have any, or \"n\", number of dimensions."
   ]
  },
  {
   "cell_type": "code",
   "execution_count": 16,
   "id": "velvet-welding",
   "metadata": {},
   "outputs": [],
   "source": [
    "reflectance_list = [[1, 2, 3], [4, 5, 6]]"
   ]
  },
  {
   "cell_type": "code",
   "execution_count": 17,
   "id": "resistant-independence",
   "metadata": {},
   "outputs": [],
   "source": [
    "reflectance_array = np.array(reflectance_list)"
   ]
  },
  {
   "cell_type": "markdown",
   "id": "4ca616ea",
   "metadata": {},
   "source": [
    "|   |   |   |\n",
    "|---|---|---|\n",
    "| 1  | 2  |3   |\n",
    "|  4 |  5 | 6 |"
   ]
  },
  {
   "cell_type": "markdown",
   "id": "d65bf7d9",
   "metadata": {},
   "source": [
    "### Indexing multi-dimensional arrays"
   ]
  },
  {
   "cell_type": "code",
   "execution_count": 18,
   "id": "fed5feab",
   "metadata": {},
   "outputs": [
    {
     "data": {
      "text/plain": [
       "6"
      ]
     },
     "execution_count": 18,
     "metadata": {},
     "output_type": "execute_result"
    }
   ],
   "source": [
    "reflectance_array[1,2]"
   ]
  },
  {
   "cell_type": "code",
   "execution_count": null,
   "id": "28a3bfbc",
   "metadata": {},
   "outputs": [],
   "source": []
  },
  {
   "cell_type": "markdown",
   "id": "damaged-messenger",
   "metadata": {},
   "source": [
    "## Aggretations"
   ]
  },
  {
   "cell_type": "markdown",
   "id": "polished-scene",
   "metadata": {},
   "source": [
    "Really nice visuals on this https://numpy.org/doc/stable/user/absolute_beginners.html"
   ]
  },
  {
   "cell_type": "code",
   "execution_count": 21,
   "id": "knowing-yield",
   "metadata": {},
   "outputs": [
    {
     "data": {
      "text/plain": [
       "288"
      ]
     },
     "execution_count": 21,
     "metadata": {},
     "output_type": "execute_result"
    }
   ],
   "source": [
    "reflectance_array.sum()"
   ]
  },
  {
   "cell_type": "code",
   "execution_count": 24,
   "id": "divine-rwanda",
   "metadata": {},
   "outputs": [
    {
     "data": {
      "text/plain": [
       "65"
      ]
     },
     "execution_count": 24,
     "metadata": {},
     "output_type": "execute_result"
    }
   ],
   "source": [
    "reflectance_array.max()"
   ]
  },
  {
   "cell_type": "markdown",
   "id": "broken-desert",
   "metadata": {},
   "source": [
    "Keeping track of axes"
   ]
  },
  {
   "cell_type": "code",
   "execution_count": 22,
   "id": "annoying-capture",
   "metadata": {},
   "outputs": [
    {
     "data": {
      "text/plain": [
       "array([ 50, 130, 108])"
      ]
     },
     "execution_count": 22,
     "metadata": {},
     "output_type": "execute_result"
    }
   ],
   "source": [
    "reflectance_array.sum(axis=0)"
   ]
  },
  {
   "cell_type": "code",
   "execution_count": 25,
   "id": "front-basketball",
   "metadata": {},
   "outputs": [
    {
     "data": {
      "text/plain": [
       "array([25, 65, 54])"
      ]
     },
     "execution_count": 25,
     "metadata": {},
     "output_type": "execute_result"
    }
   ],
   "source": [
    "reflectance_array.max(axis=0)"
   ]
  },
  {
   "cell_type": "markdown",
   "id": "deluxe-demand",
   "metadata": {},
   "source": [
    "## Adding/subtracting arrays"
   ]
  },
  {
   "cell_type": "markdown",
   "id": "norman-translator",
   "metadata": {},
   "source": [
    "Once we start getting into manipulating the values of matrices we are approaching some of the principles of linear algebra.  If you have taken linear algebra before then you'll be right at home.  If not, don't worry too much.  The operations that you are most likely to use don't get too deep."
   ]
  },
  {
   "cell_type": "markdown",
   "id": "paperback-holocaust",
   "metadata": {},
   "source": [
    "The most important thing to remember when you start trying to add/subtract/multiply values to an array is that the shape of you array is important.  So if you have a 3x2 array and you want to add some values you need to add another matrix which has the shape 3x2 OR you add one value to all of the values in that array.  This second option is called \"broadcasting\"."
   ]
  },
  {
   "cell_type": "code",
   "execution_count": 29,
   "id": "comic-limitation",
   "metadata": {},
   "outputs": [
    {
     "data": {
      "text/plain": [
       "array([[25, 65, 54],\n",
       "       [22, 35, 12]])"
      ]
     },
     "execution_count": 29,
     "metadata": {},
     "output_type": "execute_result"
    }
   ],
   "source": [
    "reflectance_array"
   ]
  },
  {
   "cell_type": "code",
   "execution_count": 28,
   "id": "nasty-terry",
   "metadata": {},
   "outputs": [
    {
     "data": {
      "text/plain": [
       "array([[26, 66, 55],\n",
       "       [23, 36, 13]])"
      ]
     },
     "execution_count": 28,
     "metadata": {},
     "output_type": "execute_result"
    }
   ],
   "source": [
    "reflectance_array + 1"
   ]
  },
  {
   "cell_type": "code",
   "execution_count": 30,
   "id": "fabulous-librarian",
   "metadata": {},
   "outputs": [
    {
     "data": {
      "text/plain": [
       "array([[26, 67, 57],\n",
       "       [23, 37, 15]])"
      ]
     },
     "execution_count": 30,
     "metadata": {},
     "output_type": "execute_result"
    }
   ],
   "source": [
    "reflectance_array + np.array([1,2,3])"
   ]
  },
  {
   "cell_type": "markdown",
   "id": "6d455acc",
   "metadata": {},
   "source": [
    "## Array Methods (Doing more stuff to arrays)"
   ]
  },
  {
   "cell_type": "markdown",
   "id": "59d958f8",
   "metadata": {},
   "source": [
    "https://numpy.org/doc/stable/reference/generated/numpy.ndarray.html"
   ]
  },
  {
   "cell_type": "code",
   "execution_count": 7,
   "id": "88d7796d",
   "metadata": {
    "scrolled": true
   },
   "outputs": [],
   "source": [
    "array = np.array([[1,2,3], [4,5,6]])"
   ]
  },
  {
   "cell_type": "code",
   "execution_count": 5,
   "id": "99926871",
   "metadata": {},
   "outputs": [],
   "source": [
    "array.fill(3)"
   ]
  },
  {
   "cell_type": "code",
   "execution_count": 8,
   "id": "26626a39",
   "metadata": {},
   "outputs": [
    {
     "data": {
      "text/plain": [
       "array([[1, 2, 3],\n",
       "       [4, 5, 6]])"
      ]
     },
     "execution_count": 8,
     "metadata": {},
     "output_type": "execute_result"
    }
   ],
   "source": [
    "array"
   ]
  },
  {
   "cell_type": "code",
   "execution_count": null,
   "id": "74fea668",
   "metadata": {},
   "outputs": [],
   "source": []
  },
  {
   "cell_type": "markdown",
   "id": "furnished-stake",
   "metadata": {},
   "source": [
    "## Intermediate Addon"
   ]
  },
  {
   "cell_type": "markdown",
   "id": "steady-denial",
   "metadata": {},
   "source": [
    "* unique items and counts\n",
    "* adding dimensions\n",
    "* conceptual detail -- numpy is faster because it accesses Cython, the C \"bindings\" for Python.  I have never delved into that world but people do it."
   ]
  },
  {
   "cell_type": "markdown",
   "id": "hydraulic-contribution",
   "metadata": {},
   "source": [
    "## Potential Practice Problems\n",
    "Looking at docs to create an array of zeros. https://numpy.org/doc/stable/user/quickstart.html"
   ]
  },
  {
   "cell_type": "code",
   "execution_count": null,
   "id": "disturbed-russell",
   "metadata": {},
   "outputs": [],
   "source": []
  }
 ],
 "metadata": {
  "kernelspec": {
   "display_name": "Python 3",
   "language": "python",
   "name": "python3"
  },
  "language_info": {
   "codemirror_mode": {
    "name": "ipython",
    "version": 3
   },
   "file_extension": ".py",
   "mimetype": "text/x-python",
   "name": "python",
   "nbconvert_exporter": "python",
   "pygments_lexer": "ipython3",
   "version": "3.8.8"
  }
 },
 "nbformat": 4,
 "nbformat_minor": 5
}
