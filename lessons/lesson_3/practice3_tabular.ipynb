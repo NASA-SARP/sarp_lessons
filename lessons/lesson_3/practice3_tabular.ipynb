{
 "cells": [
  {
   "cell_type": "markdown",
   "id": "8a968910",
   "metadata": {},
   "source": [
    "This notebook provides practice problems associated with lesson 2. It is divided into several parts:\n",
    "* **Part 1** - most approachable place to start.  Practices syntax and concepts\n",
    "* **Part 2** - a step up from part 1.  Integrates concepts from accross the lesson in more applied scenarios\n",
    "* **Intermediate Reading** - a few problems and suggested reading for a more in depth understanding of some of the foundational concepts discussed in the lesson. I would recommmend this for folks that started SARP feeling very competent with Python."
   ]
  },
  {
   "cell_type": "markdown",
   "id": "c6bf45ba",
   "metadata": {},
   "source": [
    "# Practice Problems Part 1"
   ]
  },
  {
   "cell_type": "code",
   "execution_count": null,
   "id": "97c6c423",
   "metadata": {},
   "outputs": [],
   "source": []
  },
  {
   "cell_type": "code",
   "execution_count": null,
   "id": "f7e30e26",
   "metadata": {},
   "outputs": [],
   "source": []
  },
  {
   "cell_type": "markdown",
   "id": "86213c87",
   "metadata": {},
   "source": [
    "# Practice Problems Part 2"
   ]
  },
  {
   "cell_type": "markdown",
   "id": "a3dec889",
   "metadata": {},
   "source": [
    "#### Question 1"
   ]
  },
  {
   "cell_type": "code",
   "execution_count": null,
   "id": "ce510294",
   "metadata": {},
   "outputs": [],
   "source": []
  },
  {
   "cell_type": "code",
   "execution_count": null,
   "id": "c363b918",
   "metadata": {},
   "outputs": [],
   "source": []
  },
  {
   "cell_type": "code",
   "execution_count": null,
   "id": "cd1d21d4",
   "metadata": {},
   "outputs": [],
   "source": []
  },
  {
   "cell_type": "markdown",
   "id": "60ce9741",
   "metadata": {},
   "source": [
    "# Intermediate Reading"
   ]
  },
  {
   "cell_type": "code",
   "execution_count": null,
   "id": "8bd16feb",
   "metadata": {},
   "outputs": [],
   "source": []
  }
 ],
 "metadata": {
  "kernelspec": {
   "display_name": "Python 3",
   "language": "python",
   "name": "python3"
  },
  "language_info": {
   "codemirror_mode": {
    "name": "ipython",
    "version": 3
   },
   "file_extension": ".py",
   "mimetype": "text/x-python",
   "name": "python",
   "nbconvert_exporter": "python",
   "pygments_lexer": "ipython3",
   "version": "3.8.8"
  }
 },
 "nbformat": 4,
 "nbformat_minor": 5
}
