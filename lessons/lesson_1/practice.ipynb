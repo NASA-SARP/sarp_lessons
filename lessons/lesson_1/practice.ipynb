{
 "cells": [
  {
   "cell_type": "markdown",
   "metadata": {},
   "source": [
    "This notebook provides practice problems associated with lesson 1. It is divided into several parts:\n",
    "* **Part 1** - most approachable place to start.  Practices syntax and concepts\n",
    "* **Part 2** - a step up from part 1.  Integrates concepts from accross the lesson in more applied scenarios\n",
    "* **Intermediate Reading** - a few problems and suggested reading for a more in depth understanding of some of the foundational concepts discussed in the lesson. I would recommmend this for folks that started SARP feeling very competent with Python."
   ]
  },
  {
   "cell_type": "markdown",
   "metadata": {},
   "source": [
    "# Practice Problems Part 1"
   ]
  },
  {
   "cell_type": "markdown",
   "metadata": {},
   "source": [
    "## Assigning Variables"
   ]
  },
  {
   "cell_type": "markdown",
   "metadata": {},
   "source": [
    "1. Create a variable called `location` and assign it the value Quito, Ecuador. Print your variable."
   ]
  },
  {
   "cell_type": "code",
   "execution_count": null,
   "metadata": {},
   "outputs": [],
   "source": []
  },
  {
   "cell_type": "markdown",
   "metadata": {},
   "source": [
    "2. Create a two variables that are numbers and print the result of one of them divided by the other."
   ]
  },
  {
   "cell_type": "code",
   "execution_count": null,
   "metadata": {},
   "outputs": [],
   "source": []
  },
  {
   "cell_type": "markdown",
   "metadata": {},
   "source": [
    "3. What do you expect to be the output of the following block of code?\n",
    "\n",
    "```\n",
    "my_fav_icecream = 'mint'\n",
    "your_fav_icecream = 'blue moon'\n",
    "my_fav_icecream = 'peanut butter cup'\n",
    "print(my_fav_icecream)\n",
    "```"
   ]
  },
  {
   "cell_type": "code",
   "execution_count": null,
   "metadata": {},
   "outputs": [],
   "source": []
  },
  {
   "cell_type": "code",
   "execution_count": null,
   "metadata": {},
   "outputs": [],
   "source": []
  },
  {
   "cell_type": "markdown",
   "metadata": {},
   "source": [
    "## Data Types"
   ]
  },
  {
   "cell_type": "markdown",
   "metadata": {},
   "source": [
    "4. What are the data types of each of the following values?"
   ]
  },
  {
   "cell_type": "markdown",
   "metadata": {},
   "source": [
    "1. `True`\n",
    "1. `832`\n",
    "1. `0.001`\n",
    "1. `'giant kelp'`\n",
    "1. `\"false\"`\n",
    "1. `\"5\"`\n",
    "\n",
    "Check that you are correct using the `type()` function, as shown below.  The Python type names come out abbreviated as:\n",
    "\n",
    "`str` (String), `int`(Integer), `float`(Float), `bool`(Boolean)"
   ]
  },
  {
   "cell_type": "code",
   "execution_count": 12,
   "metadata": {},
   "outputs": [
    {
     "data": {
      "text/plain": [
       "str"
      ]
     },
     "execution_count": 12,
     "metadata": {},
     "output_type": "execute_result"
    }
   ],
   "source": [
    "type('cheese')"
   ]
  },
  {
   "cell_type": "code",
   "execution_count": null,
   "metadata": {},
   "outputs": [],
   "source": []
  },
  {
   "cell_type": "markdown",
   "metadata": {},
   "source": [
    "## Booleans"
   ]
  },
  {
   "cell_type": "markdown",
   "metadata": {},
   "source": [
    "5. What is a boolean?  When might a boolean be useful?"
   ]
  },
  {
   "cell_type": "code",
   "execution_count": null,
   "metadata": {},
   "outputs": [],
   "source": []
  },
  {
   "cell_type": "markdown",
   "metadata": {},
   "source": [
    "6. The following cell represents some data you are working with."
   ]
  },
  {
   "cell_type": "code",
   "execution_count": null,
   "metadata": {},
   "outputs": [],
   "source": [
    "cloud_cover = 15\n",
    "city = 'Oshkosh'\n",
    "cfc_present = True\n",
    "ozone = 3.8"
   ]
  },
  {
   "cell_type": "markdown",
   "metadata": {},
   "source": [
    "Run the cell above, and use the variables to individually check for each of the following conditions:\n",
    "* cloud cover is less than 90\n",
    "* city is not Minneapolis\n",
    "* there are no cfcs present\n",
    "* ozone is greater than or equal to 2"
   ]
  },
  {
   "cell_type": "code",
   "execution_count": null,
   "metadata": {},
   "outputs": [],
   "source": []
  },
  {
   "cell_type": "markdown",
   "metadata": {},
   "source": [
    "7. Explain the difference between `=` and `==`."
   ]
  },
  {
   "cell_type": "code",
   "execution_count": null,
   "metadata": {},
   "outputs": [],
   "source": []
  },
  {
   "cell_type": "markdown",
   "metadata": {},
   "source": [
    "## Logical Operators"
   ]
  },
  {
   "cell_type": "markdown",
   "metadata": {},
   "source": [
    "8. How is `and` different from `or`?"
   ]
  },
  {
   "cell_type": "code",
   "execution_count": null,
   "metadata": {},
   "outputs": [],
   "source": []
  },
  {
   "cell_type": "markdown",
   "metadata": {},
   "source": [
    "9. For each of the following scenarios do you think it would make more sense to use `and` or `or`?\n",
    "* You have several images and you want to make sure that at least on of them has the wavelength you need.\n",
    "* You have an algorithm which requires three variables in a specific range and you want to check those three variables in your image to make sure the image will work.\n",
    "* In a particular dataset you are looking at invalid results are marked with -999. You also know that values above 1000 are not suitable for your use case.  You need to check the dataset to make sure that neither of those things are true."
   ]
  },
  {
   "cell_type": "code",
   "execution_count": null,
   "metadata": {},
   "outputs": [],
   "source": []
  },
  {
   "cell_type": "markdown",
   "metadata": {},
   "source": [
    "10. Write a statement using the following operators: `and`, `!=`"
   ]
  },
  {
   "cell_type": "code",
   "execution_count": null,
   "metadata": {},
   "outputs": [],
   "source": []
  },
  {
   "cell_type": "markdown",
   "metadata": {},
   "source": [
    "11. Write a statement using the following operators: `or`, `+`"
   ]
  },
  {
   "cell_type": "code",
   "execution_count": null,
   "metadata": {},
   "outputs": [],
   "source": []
  },
  {
   "cell_type": "markdown",
   "metadata": {},
   "source": [
    "# Practice Problems Part 2"
   ]
  },
  {
   "cell_type": "markdown",
   "metadata": {},
   "source": [
    "#### Question 1"
   ]
  },
  {
   "cell_type": "markdown",
   "metadata": {},
   "source": [
    "**A)** Google \"Python operators\".  Find a webpage with some operators and use two of them below.\n",
    "If you are having a hard time finding a webpage you can use [this one](https://www.w3schools.com/python/python_operators.asp), which is the first page that shows up when I run the search."
   ]
  },
  {
   "cell_type": "code",
   "execution_count": null,
   "metadata": {},
   "outputs": [],
   "source": []
  },
  {
   "cell_type": "markdown",
   "metadata": {},
   "source": [
    "**B)** Fill in the `# Your code here` space below to compute the area of a circle given the radius.  You can approximate the value of pi with `3.14`."
   ]
  },
  {
   "cell_type": "code",
   "execution_count": null,
   "metadata": {
    "scrolled": true
   },
   "outputs": [],
   "source": [
    "radius = 4\n",
    "# Your code here\n",
    "print(area)"
   ]
  },
  {
   "cell_type": "markdown",
   "metadata": {},
   "source": [
    "_**Hint** I haven't told you how to take the square of a variable, so you will either have to do that using the tools you have or do a google search for \"square of a number Python\"._"
   ]
  },
  {
   "cell_type": "markdown",
   "metadata": {},
   "source": [
    "**C)** Calculate 2 to the 8th power.  Assign it to a variable and print the output.  Include a string in the print statement that says: _2 to the 8th power is:_"
   ]
  },
  {
   "cell_type": "code",
   "execution_count": null,
   "metadata": {},
   "outputs": [],
   "source": []
  },
  {
   "cell_type": "markdown",
   "metadata": {},
   "source": [
    "#### Question 2"
   ]
  },
  {
   "cell_type": "markdown",
   "metadata": {},
   "source": [
    "What is the output of the following block of code?\n",
    "```\n",
    "updated_temp = 72\n",
    "updated_temp = updated_temp + 5\n",
    "updated_temp = updated_temp + 2\n",
    "updated_temp = updated_temp -9\n",
    "```"
   ]
  },
  {
   "cell_type": "code",
   "execution_count": null,
   "metadata": {},
   "outputs": [],
   "source": []
  },
  {
   "cell_type": "markdown",
   "metadata": {},
   "source": [
    "#### Question 3"
   ]
  },
  {
   "cell_type": "markdown",
   "metadata": {},
   "source": [
    "Use a comparison (less than, equal to, etc.) to determine if the result of 3 to the power of some number (the input variable `exponent`) is between 100 and 1000.  Start with the code below."
   ]
  },
  {
   "cell_type": "code",
   "execution_count": null,
   "metadata": {},
   "outputs": [],
   "source": []
  },
  {
   "cell_type": "markdown",
   "metadata": {},
   "source": [
    "#### Question 4"
   ]
  },
  {
   "cell_type": "code",
   "execution_count": null,
   "metadata": {},
   "outputs": [],
   "source": [
    "cloud_cover = 15\n",
    "city = 'Oshkosh'\n",
    "cfc_present = True\n",
    "ozone = 3.8"
   ]
  },
  {
   "cell_type": "markdown",
   "metadata": {},
   "source": [
    "**A)** Run the cell above, and use the variables in the cell below to check for all  following conditions:\n",
    "* Cloud cover is less than 90\n",
    "* city is not Minneapolis\n",
    "* There are no cfcs present\n",
    "* ozone is greater than or equal to 2"
   ]
  },
  {
   "cell_type": "code",
   "execution_count": null,
   "metadata": {},
   "outputs": [],
   "source": []
  },
  {
   "cell_type": "markdown",
   "metadata": {},
   "source": [
    "**B)** Using the same variables and conditions above, check if any of the conditions are met"
   ]
  },
  {
   "cell_type": "code",
   "execution_count": null,
   "metadata": {},
   "outputs": [],
   "source": []
  },
  {
   "cell_type": "markdown",
   "metadata": {},
   "source": [
    "#### Question 5"
   ]
  },
  {
   "cell_type": "markdown",
   "metadata": {},
   "source": [
    "As a variable, wind is often expressed as two different numbers, which together make up the complete wind vector:\n",
    "1. wind speed\n",
    "2. wind direction\n",
    "\n",
    "\n",
    "<img src=\"https://slideplayer.com/slide/17852123/106/images/17/Wind+Direction+%28degrees%29+Meteorologists+generally+use+degrees.jpg\" width=520>\n",
    "Note that 0 degrees is on top and the degrees increase going clockwise. Use this knowledge to work through the following problems."
   ]
  },
  {
   "cell_type": "markdown",
   "metadata": {},
   "source": [
    "**A)** Sometimes wind directions are conveyed as greater than 360 degrees.  Numbers above 360 indicate a second loop around the quadrant. For example:\n",
    "- 450 degrees is the same as 90 degrees\n",
    "- 720 degrees is the same as 0 degrees\n",
    "Given wind directions that are greater than 360, write some code to return the wind direction expressed between 0 and 360."
   ]
  },
  {
   "cell_type": "code",
   "execution_count": null,
   "metadata": {},
   "outputs": [],
   "source": []
  },
  {
   "cell_type": "markdown",
   "metadata": {},
   "source": [
    "_**Hint** check out the Python arithmetic operators_"
   ]
  },
  {
   "cell_type": "markdown",
   "metadata": {},
   "source": [
    "**B)** Write a statement to check if a given wind direction is coming from the west"
   ]
  },
  {
   "cell_type": "code",
   "execution_count": null,
   "metadata": {},
   "outputs": [],
   "source": [
    "wind_direction = 145"
   ]
  },
  {
   "cell_type": "code",
   "execution_count": null,
   "metadata": {},
   "outputs": [],
   "source": []
  },
  {
   "cell_type": "markdown",
   "metadata": {},
   "source": [
    "**C)** Monsoon winds in some regions are identified by winds coming from the Northwest (+/1 30 degrees) at greater than or equal to 20 mph.  Write a statement to evaluate if the wind direction/wind speed combination would qualify as a monsoon-type wind."
   ]
  },
  {
   "cell_type": "code",
   "execution_count": null,
   "metadata": {},
   "outputs": [],
   "source": []
  },
  {
   "cell_type": "markdown",
   "metadata": {},
   "source": [
    "#### Question 6"
   ]
  },
  {
   "cell_type": "markdown",
   "metadata": {},
   "source": [
    "Given a temperature in fahrenheit, write an equation to convert the temperature to celsius.  Print out a statement after converting that states True or False based on whether the temperature is above the boiling point of water or not."
   ]
  },
  {
   "cell_type": "code",
   "execution_count": null,
   "metadata": {},
   "outputs": [],
   "source": []
  },
  {
   "cell_type": "markdown",
   "metadata": {},
   "source": [
    "# Intermediate Reading\n",
    "The problems tackle more in depth concepts of the same topics covered in the lesson. The problems assume knowledge outside of the lesson notebook. The following articles are suggested for learning about the Pythonic nuances or data concepts exposed in the problems below:\n",
    "* comparison vs. identity operators\n",
    "* dealing with unicode\n",
    "* formatting strings"
   ]
  },
  {
   "cell_type": "markdown",
   "metadata": {},
   "source": [
    "What will be the output of the following statements?\n",
    "\n",
    "* `print('10'+'1')`\n",
    "* `1 == True`"
   ]
  },
  {
   "cell_type": "code",
   "execution_count": null,
   "metadata": {},
   "outputs": [],
   "source": []
  },
  {
   "cell_type": "markdown",
   "metadata": {},
   "source": [
    "What will be the output of the following code?\n",
    "```\n",
    "expected = [8.9, 2.2, 0.9, 1.2]\n",
    "observed = list(expected)\n",
    "print(observed == expected)\n",
    "print(observed is expected)\n",
    "```"
   ]
  },
  {
   "cell_type": "code",
   "execution_count": null,
   "metadata": {},
   "outputs": [],
   "source": []
  },
  {
   "cell_type": "markdown",
   "metadata": {},
   "source": [
    "This version?\n",
    "```\n",
    "expected = [8.9, 2.2, 0.9, 1.2]\n",
    "observed = expected\n",
    "print(observed == expected)\n",
    "print(observed is expected)\n",
    "```"
   ]
  },
  {
   "cell_type": "code",
   "execution_count": null,
   "metadata": {},
   "outputs": [],
   "source": []
  },
  {
   "cell_type": "code",
   "execution_count": null,
   "metadata": {},
   "outputs": [],
   "source": []
  },
  {
   "cell_type": "code",
   "execution_count": null,
   "metadata": {},
   "outputs": [],
   "source": []
  }
 ],
 "metadata": {
  "kernelspec": {
   "display_name": "Python 3",
   "language": "python",
   "name": "python3"
  },
  "language_info": {
   "codemirror_mode": {
    "name": "ipython",
    "version": 3
   },
   "file_extension": ".py",
   "mimetype": "text/x-python",
   "name": "python",
   "nbconvert_exporter": "python",
   "pygments_lexer": "ipython3",
   "version": "3.8.8"
  }
 },
 "nbformat": 4,
 "nbformat_minor": 4
}
