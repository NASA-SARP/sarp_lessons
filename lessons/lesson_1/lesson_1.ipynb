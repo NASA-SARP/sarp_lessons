{
 "cells": [
  {
   "cell_type": "markdown",
   "id": "c27ed47a",
   "metadata": {},
   "source": [
    "# Lecture 1\n",
    "\n",
    "## Contents\n",
    "* 👩🏽‍💻 Communicating with the computer\n",
    "* 💪🏼 Operators\n",
    "* 👣 Assigning Variables\n",
    "* 🧩 Data Types\n",
    "* 🔳 Booleans\n",
    "\n",
    "### Context\n",
    "Today we are getting started with code!  We'll be:\n",
    "* Thinking about why we code\n",
    "* Learning to use a Jupyter notebook\n",
    "* Establishing some of the base ingredients in code such as variables, data types, and operators and getting familiar with the associated vocabulary\n",
    "\n",
    "The different ideas might feel a little disconnected right now, but eventually these building blocks will work together to help us to make more complicated things."
   ]
  },
  {
   "cell_type": "markdown",
   "id": "2ce1d965",
   "metadata": {},
   "source": [
    "### Summary Image"
   ]
  },
  {
   "cell_type": "code",
   "execution_count": null,
   "id": "bcbf332e",
   "metadata": {},
   "outputs": [],
   "source": []
  },
  {
   "cell_type": "markdown",
   "id": "5b9eec88",
   "metadata": {},
   "source": [
    "## Jupyter Notebooks\n",
    "The primary way of writing code during lessons this summer will be in Jupyter Notebooks.  Notebooks are a bit of a unique way of writing code, but they have become popular in data science fields due to the flexbility they give the user to iterate on the same dataset many times and their great visualization support.  Read more in depth about Jupyter notebooks [here](https://www.dataquest.io/blog/jupyter-notebook-tutorial/).\n",
    "\n",
    "Jupyter notebooks are made up of **cells**, or individual chunks of input.  Cells can be either **markdown cells**, which are made up of text, or code cells. You run the code in a cell by hitting the `Run` button in the to bar or `shift + enter`.\n",
    "\n",
    "A few links for interested individuals to explore:\n",
    "* [Markdown tutorial](https://www.markdowntutorial.com/lesson/1/)\n",
    "* [Markdown reference](https://commonmark.org/help/)\n",
    "* [Jupyter shortcut keys](https://towardsdatascience.com/jypyter-notebook-shortcuts-bf0101a98330)"
   ]
  },
  {
   "cell_type": "markdown",
   "id": "bacbf0db",
   "metadata": {},
   "source": [
    "### 📝 Checking In\n",
    "Everyone click on this cell, run it, then add a new cell below."
   ]
  },
  {
   "cell_type": "markdown",
   "id": "61661a96",
   "metadata": {},
   "source": [
    "## Communicating with the computer\n",
    "Programming is about getting a computer to do something for you.  You do this all the time when you use a computer.  You tell it to access the internet or download a file for you.  You tell it take a screenshot and save it to your Desktop.  In those scenarios you are telling a computer to do something using your mouse or trackpad.  In coding you are telling a computer what to do by learning how to write text that the computer understands."
   ]
  },
  {
   "cell_type": "markdown",
   "id": "532f6284",
   "metadata": {},
   "source": [
    "One of the first tasks programmers ask a computer to do is repeat a line of text back to you.  In Python, the instruction for that is `print()`.  Learning what words the computer understands is called learning **syntax**."
   ]
  },
  {
   "cell_type": "code",
   "execution_count": 12,
   "id": "a52066b6",
   "metadata": {},
   "outputs": [
    {
     "name": "stdout",
     "output_type": "stream",
     "text": [
      "Hello, world\n",
      "Boa tarde, mundo\n"
     ]
    }
   ],
   "source": [
    "# repeat a line of text back to you: \"printing\"\n",
    "# modify it to change the output\n",
    "print('Hello, world')\n",
    "print(\"Boa tarde, mundo\")  # single ' and double \" are the same in Python"
   ]
  },
  {
   "cell_type": "code",
   "execution_count": 4,
   "id": "0308ba01",
   "metadata": {},
   "outputs": [
    {
     "name": "stdout",
     "output_type": "stream",
     "text": [
      "3.1415927\n"
     ]
    }
   ],
   "source": [
    "# you can also print numbers\n",
    "print(3.1415927)"
   ]
  },
  {
   "cell_type": "code",
   "execution_count": 5,
   "id": "de3ef9e2",
   "metadata": {},
   "outputs": [
    {
     "name": "stdout",
     "output_type": "stream",
     "text": [
      "hi  8943\n"
     ]
    }
   ],
   "source": [
    "# you can print a couple of things together if you seperate them by commas\n",
    "print('hi ', 8943)"
   ]
  },
  {
   "cell_type": "code",
   "execution_count": 6,
   "id": "8215dacb",
   "metadata": {},
   "outputs": [
    {
     "name": "stdout",
     "output_type": "stream",
     "text": [
      "5.5\n"
     ]
    }
   ],
   "source": [
    "# you can print the output of math calculations\n",
    "print(4/8+5)"
   ]
  },
  {
   "cell_type": "markdown",
   "id": "5478639e",
   "metadata": {},
   "source": [
    "### 💡 Main point\n",
    "In programming we learn which words the computer understands (or the Python language, to be specific) and we use those to get the computer to do something for us.  \n",
    "\n",
    "Right now the computer is just parroting back text, but eventually it could be doing huge mathematical calculations, creating a stunning map, or connecting us to an exciting dataset!"
   ]
  },
  {
   "cell_type": "markdown",
   "id": "81f65013",
   "metadata": {},
   "source": [
    "### 📝 Checking In\n",
    "Write a cell of code to print out the phrase: I am programming!"
   ]
  },
  {
   "cell_type": "markdown",
   "id": "1bab52b5",
   "metadata": {},
   "source": [
    "### 🌀Side Conversation: Programming Languages\n",
    "There are tons of different programming languages and each one has different strengths and weakness, meaning that they have syntax to let you do different types of things.  For example, the language **R** is known for having great statistics support.  **Matlab** is another common language, but it is a **proprietary software**, or a software that you have to pay for.  Python is an **open source software**, meaning that the source code that Python is built on is openly available and anyone could propose changes or make their own flavor. If you like legal nuance you can get into the details of Free and Open Source Software (FOSS) on the [FOSS wikipedia page](https://en.wikipedia.org/wiki/Free_and_open-source_software)."
   ]
  },
  {
   "cell_type": "markdown",
   "id": "214d62d6",
   "metadata": {},
   "source": [
    "## Operators"
   ]
  },
  {
   "cell_type": "markdown",
   "id": "ea98af9f",
   "metadata": {},
   "source": [
    "The previous print statement from several cells up, `print(4/8+5)`, used operators.  **Operators** are symbols that do something, or operate, on an object in Python. You are probably very familiar with operators, but have just never called them that. There are several types of operators, but the three we will talk about in this notebook are:\n",
    "* **arithmetic operators** - Ex. addition, subtraction, multiplication, exponents\n",
    "* **logical operators** - Ex. and, not, or\n",
    "* **comparison operators** - Ex. greater than, less than, equal to\n",
    "Logical and comparison operators will be discussed later in the notebook in the Booleans section.\n",
    "\n",
    "You can get a list of all operators [here](https://www.w3schools.com/python/python_operators.asp), or by googling \"python operators\"."
   ]
  },
  {
   "cell_type": "code",
   "execution_count": 11,
   "id": "ab02d693",
   "metadata": {},
   "outputs": [
    {
     "data": {
      "text/plain": [
       "5.5"
      ]
     },
     "execution_count": 11,
     "metadata": {},
     "output_type": "execute_result"
    }
   ],
   "source": [
    "# Using arithmetic operators\n",
    "4/8+5"
   ]
  },
  {
   "cell_type": "code",
   "execution_count": 10,
   "id": "6b6011a2",
   "metadata": {},
   "outputs": [
    {
     "name": "stdout",
     "output_type": "stream",
     "text": [
      "48.0\n"
     ]
    }
   ],
   "source": [
    "sun_angle1 = 45\n",
    "sun_angle2 = 32\n",
    "sun_angle3 = 67\n",
    "mean_sun_angle = (sun_angle1 + sun_angle2 + sun_angle3)/3\n",
    "print(mean_sun_angle)"
   ]
  },
  {
   "cell_type": "markdown",
   "id": "78831e70",
   "metadata": {},
   "source": [
    "## Assigning Variables"
   ]
  },
  {
   "cell_type": "markdown",
   "id": "fd729a27",
   "metadata": {},
   "source": [
    "As programming tasks get more complex we want to be able to keep track of many values at once.  The way we do this is by assinging values we want to keep track of as **variables**.  This gives them a name, which we chose."
   ]
  },
  {
   "cell_type": "code",
   "execution_count": 7,
   "id": "d139431e",
   "metadata": {},
   "outputs": [],
   "source": [
    "# Assigning the number 7 to a variable I named x\n",
    "x = 7\n",
    "# Assigning the number 2 to a variable I named y\n",
    "y = 2"
   ]
  },
  {
   "cell_type": "code",
   "execution_count": 8,
   "id": "fd55071b",
   "metadata": {},
   "outputs": [],
   "source": [
    "# assigning the string 'pineapple' to a variable I named my_lunch\n",
    "my_lunch = 'pineapple'"
   ]
  },
  {
   "cell_type": "markdown",
   "id": "7e9f712d",
   "metadata": {},
   "source": [
    "How do we see our variables?  We `print` them."
   ]
  },
  {
   "cell_type": "code",
   "execution_count": 9,
   "id": "601226f0",
   "metadata": {},
   "outputs": [
    {
     "name": "stdout",
     "output_type": "stream",
     "text": [
      "x is 7\n",
      "y is 2\n"
     ]
    }
   ],
   "source": [
    "print('x is', x)\n",
    "print('y is', y)"
   ]
  },
  {
   "cell_type": "markdown",
   "id": "079d2a73",
   "metadata": {},
   "source": [
    "### 📝 Checking In\n",
    "`print` the sum of your two variables x and y."
   ]
  },
  {
   "cell_type": "markdown",
   "id": "99474b14",
   "metadata": {},
   "source": [
    "An example with words instead of numbers"
   ]
  },
  {
   "cell_type": "code",
   "execution_count": 17,
   "id": "0e6764ed",
   "metadata": {},
   "outputs": [
    {
     "name": "stdout",
     "output_type": "stream",
     "text": [
      "Sunday\n"
     ]
    }
   ],
   "source": [
    "today = 'Sunday' # Change this to be the actual day\n",
    "tomorrow = 'Friday'\n",
    "print(today)"
   ]
  },
  {
   "cell_type": "markdown",
   "id": "42c086b4",
   "metadata": {},
   "source": [
    "### 🌟Key Clarification\n",
    "One fundamental principle of code is that it executes things in a certain order - from top to bottom. If you define a variable and change it further down the cell the output value will be the value be the most recent value."
   ]
  },
  {
   "cell_type": "code",
   "execution_count": 1,
   "id": "d65b0f62",
   "metadata": {},
   "outputs": [
    {
     "name": "stdout",
     "output_type": "stream",
     "text": [
      "print #1 Sunday\n",
      "print #2 Thursday\n",
      "print #3 Arbor Day\n"
     ]
    }
   ],
   "source": [
    "today = 'Sunday'\n",
    "print('print #1', today)\n",
    "today = 'Thursday'\n",
    "print('print #2', today)\n",
    "today = 'Arbor Day'\n",
    "print('print #3', today)"
   ]
  },
  {
   "cell_type": "markdown",
   "id": "ebde375f",
   "metadata": {},
   "source": [
    "This also applied to the order in which you run the cells in your jupyter notebook."
   ]
  },
  {
   "cell_type": "code",
   "execution_count": 22,
   "id": "1bd317ae",
   "metadata": {},
   "outputs": [],
   "source": [
    "today = 'Sunday'"
   ]
  },
  {
   "cell_type": "code",
   "execution_count": 24,
   "id": "e8523c59",
   "metadata": {},
   "outputs": [],
   "source": [
    "today = 'Monday'"
   ]
  },
  {
   "cell_type": "code",
   "execution_count": 25,
   "id": "e4ce346d",
   "metadata": {},
   "outputs": [
    {
     "name": "stdout",
     "output_type": "stream",
     "text": [
      "Monday\n"
     ]
    }
   ],
   "source": [
    "print(today)"
   ]
  },
  {
   "cell_type": "markdown",
   "id": "b6d6397a",
   "metadata": {},
   "source": [
    "### 💡 Main point\n",
    "1. Assiging a variable means giving a name to a value (a number, a piece of text, etc.) that you care about.  \n",
    "2. You can change the value of your variable.  Code executes from top to bottom so you need to follow along to keep track of changes to your variable."
   ]
  },
  {
   "cell_type": "markdown",
   "id": "9c3ffef0",
   "metadata": {},
   "source": [
    "### 📝 Checking In\n",
    "What is the output of the following lines of code:\n",
    "```\n",
    "x = 7\n",
    "x = 9\n",
    "y = x + 2\n",
    "print('y is ', y)\n",
    "print('x is ', x)\n",
    "```\n",
    "[Poll link](https://PollEv.com/surveys/97McOkTQDSik4njwDs4H7/respond)"
   ]
  },
  {
   "cell_type": "markdown",
   "id": "8da2da39",
   "metadata": {},
   "source": [
    "## Data Types"
   ]
  },
  {
   "cell_type": "markdown",
   "id": "6896d6ff",
   "metadata": {},
   "source": [
    "So far in our code we have used text and numbers as our values.  When we talk about our values we often refer to their **data type**.  \"text\" and \"number\" aren't actually data types in Python, but they do have corresponding data types:\n",
    "\n",
    "\n",
    "| Plain English   | Python Data Type | Example |\n",
    "|:---|:---:|:---:|\n",
    "| text  |  `string` | 'Tuesday' or \"Tuesday\" |\n",
    "|  whole number |  `integer` | 67 |\n",
    "| decimal number  | `float`  | 2.9 |\n",
    "\n",
    "Notice that with strings we tell Python that we want that as a data type by using '' or \"\" around our value."
   ]
  },
  {
   "cell_type": "markdown",
   "id": "2c963bea",
   "metadata": {},
   "source": [
    "One more data type I'll introduce today is the **boolean data type**.  Booleans have to possible values: True or False.\n",
    "\n",
    "| English   | Python Data Type | Example |\n",
    "|:---|:---:|:---:|\n",
    "| yes/no  |  `boolean` | True or False |"
   ]
  },
  {
   "cell_type": "code",
   "execution_count": 26,
   "id": "a09c28dd",
   "metadata": {},
   "outputs": [
    {
     "name": "stdout",
     "output_type": "stream",
     "text": [
      "True\n"
     ]
    }
   ],
   "source": [
    "# Example boolean\n",
    "x = True\n",
    "print(x)"
   ]
  },
  {
   "cell_type": "code",
   "execution_count": 40,
   "id": "ccfd8849",
   "metadata": {},
   "outputs": [
    {
     "ename": "NameError",
     "evalue": "name 'true' is not defined",
     "output_type": "error",
     "traceback": [
      "\u001b[0;31m---------------------------------------------------------------------------\u001b[0m",
      "\u001b[0;31mNameError\u001b[0m                                 Traceback (most recent call last)",
      "\u001b[0;32m<ipython-input-40-ed048989c03e>\u001b[0m in \u001b[0;36m<module>\u001b[0;34m\u001b[0m\n\u001b[0;32m----> 1\u001b[0;31m \u001b[0mx\u001b[0m \u001b[0;34m=\u001b[0m \u001b[0mtrue\u001b[0m\u001b[0;34m\u001b[0m\u001b[0;34m\u001b[0m\u001b[0m\n\u001b[0m",
      "\u001b[0;31mNameError\u001b[0m: name 'true' is not defined"
     ]
    }
   ],
   "source": [
    "x = true"
   ]
  },
  {
   "cell_type": "markdown",
   "id": "b7fe2064",
   "metadata": {},
   "source": [
    "A list of Python data types can be found [here](https://www.w3schools.com/python/python_datatypes.asp)."
   ]
  },
  {
   "cell_type": "markdown",
   "id": "87e86271",
   "metadata": {},
   "source": [
    "### 📝 Checking In\n",
    "What are the data types of the following values?\n",
    "```\n",
    "x = 9\n",
    "y = 'stratocumulus'\n",
    "z = False\n",
    "i = 3.0\n",
    "j = '2'\n",
    "```\n",
    "[Poll link](https://PollEv.com/surveys/Zf1ZcItndwVeLP5RSdOg9/respond)"
   ]
  },
  {
   "cell_type": "markdown",
   "id": "123df333",
   "metadata": {},
   "source": [
    "### 💡 Main point\n",
    "We categorize our variables using data types.  This helps us understand what the expected values are."
   ]
  },
  {
   "cell_type": "markdown",
   "id": "b10fe147",
   "metadata": {},
   "source": [
    "## Booleans and Comparison Operators"
   ]
  },
  {
   "cell_type": "markdown",
   "id": "5f34b913",
   "metadata": {},
   "source": [
    "Booleans might seem a bit useless on their own, but they become really useful when we get into comparisons.  We compare things in Python using **comparison operators**, which are the Python syntax for things like greater than, less than, and equal to."
   ]
  },
  {
   "cell_type": "markdown",
   "id": "f8d62d25",
   "metadata": {},
   "source": [
    "<img src=\"../images/L1_comparison_operators.png\" width=520>\n",
    "\n",
    "_This table was taken from the [W3 schools Operators page](https://www.w3schools.com/python/python_operators.asp)._"
   ]
  },
  {
   "cell_type": "markdown",
   "id": "bf12b5ac",
   "metadata": {},
   "source": [
    "Examples"
   ]
  },
  {
   "cell_type": "code",
   "execution_count": 29,
   "id": "d2bd24c6",
   "metadata": {},
   "outputs": [
    {
     "data": {
      "text/plain": [
       "False"
      ]
     },
     "execution_count": 29,
     "metadata": {},
     "output_type": "execute_result"
    }
   ],
   "source": [
    "# Example of \"equal to\" syntax\n",
    "4+5 == 10"
   ]
  },
  {
   "cell_type": "code",
   "execution_count": 30,
   "id": "895bcf9c",
   "metadata": {},
   "outputs": [
    {
     "data": {
      "text/plain": [
       "True"
      ]
     },
     "execution_count": 30,
     "metadata": {},
     "output_type": "execute_result"
    }
   ],
   "source": [
    "# Example of \"greater than or equal to\" syntax\n",
    "2**10 >= 1000"
   ]
  },
  {
   "cell_type": "code",
   "execution_count": 13,
   "id": "56563591",
   "metadata": {},
   "outputs": [
    {
     "data": {
      "text/plain": [
       "False"
      ]
     },
     "execution_count": 13,
     "metadata": {},
     "output_type": "execute_result"
    }
   ],
   "source": [
    "# Example: Checking if a state code is New York\n",
    "state_code = 'WI'\n",
    "state_code == 'NY'"
   ]
  },
  {
   "cell_type": "markdown",
   "id": "ef6e9bc9",
   "metadata": {},
   "source": [
    "### 📝 Checking In\n",
    "Evaluate the output of the following:\n",
    "1. `2*3 <= 6`\n",
    "2. `8 == 8`\n",
    "3. `6 != 3+3`"
   ]
  },
  {
   "cell_type": "markdown",
   "id": "cff7ebe6",
   "metadata": {},
   "source": [
    "### 💡 Main point\n",
    "* Boolean data types have a value of either `True` or `False`.  They are most often used in data processing when you are comparing one or more things at once.\n",
    "* Booleans are especially handy when doing comparisons (Ex. greater than, less than) "
   ]
  },
  {
   "cell_type": "markdown",
   "id": "8f7cefc4",
   "metadata": {},
   "source": [
    "## Logical Operators"
   ]
  },
  {
   "cell_type": "markdown",
   "id": "390b3114",
   "metadata": {},
   "source": [
    "If you want to compare more than one thing at once you use **logical operators**.  The two most common operators are `and` and `or`.\n",
    "* `and`: checks if both logical statements are True\n",
    "* `or`: checks if either logical statement is True"
   ]
  },
  {
   "cell_type": "code",
   "execution_count": 35,
   "id": "973d7188",
   "metadata": {},
   "outputs": [
    {
     "data": {
      "text/plain": [
       "True"
      ]
     },
     "execution_count": 35,
     "metadata": {},
     "output_type": "execute_result"
    }
   ],
   "source": [
    "True and True"
   ]
  },
  {
   "cell_type": "code",
   "execution_count": 36,
   "id": "684ad3c8",
   "metadata": {},
   "outputs": [
    {
     "data": {
      "text/plain": [
       "False"
      ]
     },
     "execution_count": 36,
     "metadata": {},
     "output_type": "execute_result"
    }
   ],
   "source": [
    "True and False"
   ]
  },
  {
   "cell_type": "code",
   "execution_count": 38,
   "id": "cb24ace8",
   "metadata": {},
   "outputs": [
    {
     "data": {
      "text/plain": [
       "True"
      ]
     },
     "execution_count": 38,
     "metadata": {},
     "output_type": "execute_result"
    }
   ],
   "source": [
    "True or False"
   ]
  },
  {
   "cell_type": "code",
   "execution_count": 39,
   "id": "e8d2ff16",
   "metadata": {},
   "outputs": [
    {
     "data": {
      "text/plain": [
       "True"
      ]
     },
     "execution_count": 39,
     "metadata": {},
     "output_type": "execute_result"
    }
   ],
   "source": [
    "True or True"
   ]
  },
  {
   "cell_type": "markdown",
   "id": "b978669f",
   "metadata": {},
   "source": [
    "Examples"
   ]
  },
  {
   "cell_type": "code",
   "execution_count": null,
   "id": "cd591156",
   "metadata": {},
   "outputs": [],
   "source": [
    "4 == 4 and 5 == 6\n",
    "# True and False -> False"
   ]
  },
  {
   "cell_type": "code",
   "execution_count": null,
   "id": "36d910b8",
   "metadata": {
    "scrolled": true
   },
   "outputs": [],
   "source": [
    "5 < 6 and 6 < 7\n",
    "# True and True -> True"
   ]
  },
  {
   "cell_type": "code",
   "execution_count": null,
   "id": "50f44249",
   "metadata": {},
   "outputs": [],
   "source": [
    "4 == 4 or 5 == 6\n",
    "# True or False -> True"
   ]
  },
  {
   "cell_type": "markdown",
   "id": "f9b8c272",
   "metadata": {},
   "source": [
    "### 📝 Checking In\n",
    "Evaluate the output of the following:\n",
    "1. `5 <= 6 and 5 != 5`\n",
    "2. `4 > 5 or 5 < 6`\n",
    "3. `5 > 5 or 5 > 6`\n",
    "\n",
    "Clickable T/F and/or picture to hit all the \"True\" statements"
   ]
  },
  {
   "cell_type": "markdown",
   "id": "05f3768e",
   "metadata": {},
   "source": [
    "### 💡 Main point\n",
    "* `and` and `or` are ways to compare groups of things at the same time.\n",
    "* When using `and` you are asking if **all** of the items are true.  When using `or` you are asking if any **one** of the items is true."
   ]
  },
  {
   "cell_type": "markdown",
   "id": "df6e5368",
   "metadata": {},
   "source": [
    "## Real Life\n",
    "\n",
    "https://pollev.com/rachelwegene375\n",
    "\n",
    "Click an example of:\n",
    "* any kind of operator\n",
    "* a variable getting assigned a value\n",
    "* a variable changing its value\n",
    "* any integer\n",
    "* any string\n",
    "* any line that will have a Boolean output"
   ]
  },
  {
   "cell_type": "markdown",
   "id": "270d0a80",
   "metadata": {},
   "source": [
    "# Language Agnostic Concepts"
   ]
  },
  {
   "cell_type": "markdown",
   "id": "cb0f85b9",
   "metadata": {},
   "source": [
    "## Organizing your Files"
   ]
  },
  {
   "cell_type": "code",
   "execution_count": null,
   "id": "07ccff6e",
   "metadata": {},
   "outputs": [],
   "source": []
  },
  {
   "cell_type": "code",
   "execution_count": null,
   "id": "fb0af31f",
   "metadata": {},
   "outputs": [],
   "source": []
  },
  {
   "cell_type": "markdown",
   "id": "7c3d3338",
   "metadata": {},
   "source": [
    "## Communicating about Broken Code"
   ]
  },
  {
   "cell_type": "code",
   "execution_count": null,
   "id": "1dc4dd7e",
   "metadata": {},
   "outputs": [],
   "source": []
  },
  {
   "cell_type": "code",
   "execution_count": null,
   "id": "bb4fb0c4",
   "metadata": {},
   "outputs": [],
   "source": []
  }
 ],
 "metadata": {
  "kernelspec": {
   "display_name": "Python 3",
   "language": "python",
   "name": "python3"
  },
  "language_info": {
   "codemirror_mode": {
    "name": "ipython",
    "version": 3
   },
   "file_extension": ".py",
   "mimetype": "text/x-python",
   "name": "python",
   "nbconvert_exporter": "python",
   "pygments_lexer": "ipython3",
   "version": "3.8.8"
  }
 },
 "nbformat": 4,
 "nbformat_minor": 5
}
