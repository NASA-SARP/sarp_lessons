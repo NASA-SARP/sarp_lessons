{
 "cells": [
  {
   "cell_type": "markdown",
   "id": "559a3e33",
   "metadata": {},
   "source": [
    "## Answers"
   ]
  },
  {
   "cell_type": "markdown",
   "id": "985a730d",
   "metadata": {},
   "source": [
    "Question 1"
   ]
  },
  {
   "cell_type": "code",
   "execution_count": 3,
   "id": "be868b51",
   "metadata": {},
   "outputs": [],
   "source": [
    "location = 'Ecuador'\n",
    "# or\n",
    "location = \"Ecuador\""
   ]
  },
  {
   "cell_type": "code",
   "execution_count": null,
   "id": "594ca95d",
   "metadata": {},
   "outputs": [],
   "source": []
  }
 ],
 "metadata": {
  "kernelspec": {
   "display_name": "Python 3",
   "language": "python",
   "name": "python3"
  },
  "language_info": {
   "codemirror_mode": {
    "name": "ipython",
    "version": 3
   },
   "file_extension": ".py",
   "mimetype": "text/x-python",
   "name": "python",
   "nbconvert_exporter": "python",
   "pygments_lexer": "ipython3",
   "version": "3.8.8"
  }
 },
 "nbformat": 4,
 "nbformat_minor": 5
}
