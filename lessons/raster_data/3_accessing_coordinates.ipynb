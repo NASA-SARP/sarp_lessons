{
 "cells": [
  {
   "cell_type": "markdown",
   "id": "8ff4a6bb",
   "metadata": {},
   "source": [
    "# Accessing Data"
   ]
  },
  {
   "cell_type": "markdown",
   "id": "75714d6e",
   "metadata": {},
   "source": [
    ":::{admonition} Lesson Content\n",
    ":class: note, dropdown\n",
    "\n",
    "- Accessing raster coordinates\n",
    "- Affine Transformations\n",
    "- Subsetting data with `Window`\n",
    "\n",
    ":::"
   ]
  },
  {
   "cell_type": "markdown",
   "id": "c3a2fd2d",
   "metadata": {},
   "source": [
    "## Context\n",
    "\n",
    "Today we are going to revisit our AVIRIS dataset and look again at the metadata.  This time instead of focusing on properties like height and width we are going to focus on the spatial metadata, like `crs` `bounds` and `transform`.  We will also created some numpy masked arrays to start considering nodata values or ROIs."
   ]
  },
  {
   "cell_type": "markdown",
   "id": "f5d30481",
   "metadata": {},
   "source": [
    "## Accessing Raster Coordinates"
   ]
  },
  {
   "cell_type": "markdown",
   "id": "7174754e",
   "metadata": {},
   "source": [
    "So to figure out where a particular point is on the earth we need two things:\n",
    "1. the EPSG code to tell us which grid we are looking at\n",
    "2. our coordinates"
   ]
  },
  {
   "cell_type": "markdown",
   "id": "03b1f9fb",
   "metadata": {},
   "source": [
    "### Example with AVIRIS"
   ]
  },
  {
   "cell_type": "markdown",
   "id": "3d5678c3",
   "metadata": {},
   "source": [
    "Since our AVIRIS data uses UTM grids our coordinates will be an easting and a northing."
   ]
  },
  {
   "cell_type": "code",
   "execution_count": 1,
   "id": "d03ec5d4",
   "metadata": {},
   "outputs": [],
   "source": [
    "import rasterio"
   ]
  },
  {
   "cell_type": "code",
   "execution_count": 2,
   "id": "a001ef4c",
   "metadata": {},
   "outputs": [],
   "source": [
    "filepath_rad = './data/subset_f180628t01p00r02_corr_v1k1_img'"
   ]
  },
  {
   "cell_type": "code",
   "execution_count": 3,
   "id": "976b782d",
   "metadata": {
    "scrolled": false
   },
   "outputs": [
    {
     "name": "stdout",
     "output_type": "stream",
     "text": [
      "crs is  EPSG:32610\n",
      "bbox is  BoundingBox(left=769855.79, bottom=3751257.6, right=774030.79, top=3757520.1)\n"
     ]
    }
   ],
   "source": [
    "with rasterio.open(filepath_rad, 'r') as src:\n",
    "    bbox = src.bounds\n",
    "    src_crs = src.crs\n",
    "    \n",
    "print('crs is ', src_crs)\n",
    "print('bbox is ', bbox)"
   ]
  },
  {
   "cell_type": "markdown",
   "id": "52770cfe",
   "metadata": {},
   "source": [
    "Looking at the output of the above cell we see that the EPSG code is `32610`.  The 6 in this code tells us that we are looking at the northern hemisphere, and the `10` tells us that we are looking at UTM zone 10."
   ]
  },
  {
   "cell_type": "markdown",
   "id": "da6c1967",
   "metadata": {},
   "source": [
    "### Reprojecting a vector to epsg:4326"
   ]
  },
  {
   "cell_type": "markdown",
   "id": "4f7c052d",
   "metadata": {},
   "source": [
    "Depending on why you want these coordinates the easting/northing still might not be very useful unless we can get them to latitude and longitude.  Reprojecting a whole raster is a multistep process, but in the second part of the practice yesterday we saw how to reproject a vector object, like a point or a polygon."
   ]
  },
  {
   "cell_type": "code",
   "execution_count": 4,
   "id": "9d675d89",
   "metadata": {},
   "outputs": [],
   "source": [
    "from pyproj import Transformer\n",
    "from shapely.ops import transform"
   ]
  },
  {
   "cell_type": "markdown",
   "id": "1b3fe201",
   "metadata": {},
   "source": [
    "```\n",
    "Transformer.from_crs(INPUT_PROJ, OUTPUT_PROJ, always_xy=True)\n",
    "t = Transformer.from_crs('epsg:4326', 'epsg:3857', always_xy=True).transform\n",
    "transform(t, SHAPELY_POINT)\n",
    "```"
   ]
  },
  {
   "cell_type": "markdown",
   "id": "5c710a3b",
   "metadata": {},
   "source": [
    "#### Example 1\n",
    "Reproject a point"
   ]
  },
  {
   "cell_type": "code",
   "execution_count": null,
   "id": "d2c63a9d",
   "metadata": {},
   "outputs": [],
   "source": []
  },
  {
   "cell_type": "markdown",
   "id": "e2a94f29",
   "metadata": {},
   "source": [
    "#### Example 2\n",
    "Reproject the bounding box"
   ]
  },
  {
   "cell_type": "code",
   "execution_count": null,
   "id": "30ff068d",
   "metadata": {},
   "outputs": [],
   "source": []
  },
  {
   "cell_type": "markdown",
   "id": "853976b6",
   "metadata": {},
   "source": [
    ":::{admonition} 📝 Check your understanding\n",
    ":class: tip\n",
    "\n",
    "How can we figure out where our raster is located in space?\n",
    "\n",
    ":::"
   ]
  },
  {
   "cell_type": "markdown",
   "id": "68267033",
   "metadata": {},
   "source": [
    "## Affine Transformations"
   ]
  },
  {
   "cell_type": "markdown",
   "id": "2f9e1dca",
   "metadata": {},
   "source": [
    "We can get the coordinates of the corners of our bounding box from the metadata, but what if we want the coordinates of some other location on our raster?  We know how to find a pixel value using rows and columns, but what about using coordinates?\n",
    "\n",
    "Affine transformations are the way that we move from row, column notation (pixel space) to the notation of a coordinate reference system (usually either latitude & longitude or easting & northing)\n",
    "\n",
    "My favorite affine transformation article is [this one](https://www.perrygeo.com/python-affine-transforms.html) written by Matthew Perry."
   ]
  },
  {
   "cell_type": "markdown",
   "id": "28d1b9ae",
   "metadata": {},
   "source": [
    "Here is what an affine tranformation looks like:"
   ]
  },
  {
   "cell_type": "code",
   "execution_count": 6,
   "id": "c796f6e8",
   "metadata": {},
   "outputs": [
    {
     "name": "stdout",
     "output_type": "stream",
     "text": [
      "| 0.00, 16.70, 769855.79|\n",
      "| 16.70,-0.00, 3751257.60|\n",
      "| 0.00, 0.00, 1.00|\n"
     ]
    }
   ],
   "source": [
    "with rasterio.open(filepath_rad, 'r') as src:\n",
    "    print(src.transform)"
   ]
  },
  {
   "cell_type": "markdown",
   "id": "8e1948a8",
   "metadata": {},
   "source": [
    "Where each number means something different:\n",
    "\n",
    "| | |  |\n",
    "|---|---|---|\n",
    "|  a |  b | c  |\n",
    "|  d | e  | f  |\n",
    "| 0 | 0 | 1 |\n",
    "\n",
    "\n",
    "* a = width of a pixel in units of the crs\n",
    "* b = row rotation (typically zero)\n",
    "* c = x-coordinate of the upper-left corner of the upper-left pixel\n",
    "* d = column rotation (typically zero)\n",
    "* e = height of a pixel in units of the crs (typically negative)\n",
    "* f = y-coordinate of the of the upper-left corner of the upper-left pixel\n",
    "\n",
    "The three numbers in the bottom row are always 0, 0, 1 (since we are working on a 2 dimensional plane)."
   ]
  },
  {
   "cell_type": "markdown",
   "id": "84212cb7",
   "metadata": {},
   "source": [
    "So looking again at our affine transform from above we see that the size of an single pixel is 17.10 meters square and that the upper left corner of the image is located at 475,785.77, 3,350,578.50."
   ]
  },
  {
   "cell_type": "markdown",
   "id": "dd3b0ca5",
   "metadata": {},
   "source": [
    "### Using the affine to get the coordinates of a particular grid cell"
   ]
  },
  {
   "cell_type": "markdown",
   "id": "80b5f500",
   "metadata": {},
   "source": [
    "The affine transform gives us some information just by looking at it, but it can also be used to convert a row, column coordiante to a grid coordinate."
   ]
  },
  {
   "cell_type": "code",
   "execution_count": 7,
   "id": "98cb2b92",
   "metadata": {},
   "outputs": [
    {
     "name": "stdout",
     "output_type": "stream",
     "text": [
      "pixel  40 567  corresponds to easting, northing of  770523.79 3760726.5\n"
     ]
    }
   ],
   "source": [
    "# Define which pixel we want to convert\n",
    "row, col = 40, 567\n",
    "\n",
    "# Extract the affine transform\n",
    "with rasterio.open(filepath_rad, 'r') as src:\n",
    "    affine = src.transform\n",
    "\n",
    "# Use the transform to convert our input pixel row/column to coordinates\n",
    "x, y = affine * (col, row)\n",
    "print('pixel ', row, col, ' corresponds to easting, northing of ', x, y)"
   ]
  },
  {
   "cell_type": "markdown",
   "id": "e8a5b4a1",
   "metadata": {},
   "source": [
    "### Using the inverse affine to get the pixel of a coordinate"
   ]
  },
  {
   "cell_type": "markdown",
   "id": "7798e050",
   "metadata": {},
   "source": [
    "If you have a grid coordinate and want to find out what the row, column location is you need the inverse affine transform.  The inverse transform is calculated with the `~` operator."
   ]
  },
  {
   "cell_type": "code",
   "execution_count": 8,
   "id": "3474198c",
   "metadata": {},
   "outputs": [
    {
     "name": "stdout",
     "output_type": "stream",
     "text": [
      "row/column of my coordinates:  -17602.143113772454 -22410.634730538935\n"
     ]
    }
   ],
   "source": [
    "# Define the coordinates we want to convert\n",
    "xcoord, ycoord = 475900, 3377000\n",
    "\n",
    "# Extract the affine transform\n",
    "with rasterio.open(filepath_rad, 'r') as src:\n",
    "    affine = src.transform\n",
    "\n",
    "# Use the transform to convert our input coordinates to pixel row/column\n",
    "# col, row = ~a * (x, y)\n",
    "col, row = ~affine * (xcoord, ycoord)\n",
    "print('row/column of my coordinates: ', row, col)"
   ]
  },
  {
   "cell_type": "markdown",
   "id": "a42f4c66",
   "metadata": {},
   "source": [
    "If you get a negative number here or your pixel row/column are bigger than the height or width of your raster it means you have asked for the pixel location of a point which is not located in your raster."
   ]
  },
  {
   "cell_type": "code",
   "execution_count": 9,
   "id": "38244616",
   "metadata": {},
   "outputs": [
    {
     "name": "stdout",
     "output_type": "stream",
     "text": [
      "shape of my raster  250 375\n"
     ]
    }
   ],
   "source": [
    "with rasterio.open(filepath_rad, 'r') as src:\n",
    "    print('shape of my raster ', src.height, src.width)"
   ]
  },
  {
   "cell_type": "markdown",
   "id": "4df5a1f9",
   "metadata": {},
   "source": [
    ":::{admonition} 📝 Check your understanding\n",
    ":class: tip\n",
    "\n",
    "What is the purpose of an affine transform?\n",
    "\n",
    "\n",
    ":::"
   ]
  },
  {
   "cell_type": "markdown",
   "id": "eff0a77c",
   "metadata": {},
   "source": [
    "## Subsetting Data"
   ]
  },
  {
   "cell_type": "markdown",
   "id": "91184e5a",
   "metadata": {},
   "source": [
    "Subsetting your data refers to selecting some amount of data to work with that is less than the whole image.  In Python I see two main ways to do this:\n",
    "1. manually by dropping data from your numpy array\n",
    "2. using rasterio's windowed reading methods\n",
    "\n",
    "The manual option is simplier, but has the limitations that\n",
    "* it is a little harder to save the output data to a new file\n",
    "* you still have to read the whole dataset into memory\n",
    "\n",
    "The rasterio option doesn't have these limitations, but is a bit more complicated."
   ]
  },
  {
   "cell_type": "markdown",
   "id": "d1e835c7",
   "metadata": {},
   "source": [
    "### Memory vs. Storage\n",
    "\n",
    "|      | Memory |  Storage |\n",
    "| :-----------: | :-----------: | :--: |\n",
    "| Definition      | how much data you can have open at one time      |how much data you can have saved on your computer|\n",
    "| Persistence  | goes away when you close the program     | stays unless you delete it |\n",
    "| Size | volume in 10s (Ex. 32 GB RAM)    |volume in hundreds (ex. 256 GB)|"
   ]
  },
  {
   "cell_type": "markdown",
   "id": "cf69ddb9",
   "metadata": {},
   "source": [
    "### Using Indexes to subset data"
   ]
  },
  {
   "cell_type": "code",
   "execution_count": 10,
   "id": "614c71cc",
   "metadata": {},
   "outputs": [],
   "source": [
    "filepath_rad = './data/subset_f180628t01p00r02_corr_v1k1_img'\n",
    "with rasterio.open(filepath_rad, 'r') as src:\n",
    "    full_dataset = src.read()"
   ]
  },
  {
   "cell_type": "markdown",
   "id": "42c875b3",
   "metadata": {},
   "source": [
    "### Using `Window` to subset data"
   ]
  },
  {
   "cell_type": "markdown",
   "id": "1f755743",
   "metadata": {},
   "source": [
    "_A lot of the code from this section comes from the [rasterio docs](https://rasterio.readthedocs.io/en/latest/topics/windowed-rw.html)._"
   ]
  },
  {
   "cell_type": "markdown",
   "id": "e82a52c8",
   "metadata": {},
   "source": [
    "Windowed reading requires a bit more work up front, but it allows you to keep your transform geospatially updated in the event you want to save out your data.  This method involves using a rasterio object called `Window` to access your subset instead of indexing it directly.\n",
    "\n",
    "The steps to this method are:\n",
    "1. create the window object\n",
    "2. read the data from `src` using the window"
   ]
  },
  {
   "cell_type": "markdown",
   "id": "fa0ca6cf",
   "metadata": {},
   "source": [
    "### Creating the `Window` object"
   ]
  },
  {
   "cell_type": "markdown",
   "id": "e8287677",
   "metadata": {},
   "source": [
    "#### Sytnax #1\n",
    "The syntax for a the subset chunk in rasterio is `Window` and the sytnax to use the `Window` object looks like this:\n",
    "\n",
    "> Window(COLUMN_OFFSET, ROW_OFFSET, WIDTH, HEIGHT)\n",
    "\n",
    "The OFFSETs specify the row and column numbers of the upper left corner of your window.\n",
    "\n",
    "So getting the 1000-1800th row and 200-420th column with a window object would look like `Window(200, 1000, 220, 800)`."
   ]
  },
  {
   "cell_type": "code",
   "execution_count": 11,
   "id": "286ba9b1",
   "metadata": {},
   "outputs": [],
   "source": [
    "from rasterio.windows import Window"
   ]
  },
  {
   "cell_type": "code",
   "execution_count": 12,
   "id": "8cd7297d",
   "metadata": {},
   "outputs": [
    {
     "data": {
      "text/plain": [
       "Window(col_off=200, row_off=1000, width=220, height=800)"
      ]
     },
     "execution_count": 12,
     "metadata": {},
     "output_type": "execute_result"
    }
   ],
   "source": [
    "Window(200, 1000, 220, 800)"
   ]
  },
  {
   "cell_type": "markdown",
   "id": "80b93eb9",
   "metadata": {},
   "source": [
    "#### Syntax #2\n",
    "Another way to create the window is to use the `.from_slices()` method.\n",
    "\n",
    "> Window.from_slices((ROW_START, ROW_STOP), (COLUMN_START, COLUMNS_STOP))"
   ]
  },
  {
   "cell_type": "code",
   "execution_count": 13,
   "id": "bfa9d0d7",
   "metadata": {},
   "outputs": [
    {
     "data": {
      "text/plain": [
       "Window(col_off=200, row_off=1000, width=220, height=800)"
      ]
     },
     "execution_count": 13,
     "metadata": {},
     "output_type": "execute_result"
    }
   ],
   "source": [
    "Window.from_slices((1000, 1800), (200, 420))"
   ]
  },
  {
   "cell_type": "markdown",
   "id": "acc256fc",
   "metadata": {},
   "source": [
    "These two are equivalent ways to do the same thing, so we can can see in the output that this gives us the same window as above."
   ]
  },
  {
   "cell_type": "markdown",
   "id": "106eca2d",
   "metadata": {},
   "source": [
    "### Reading the data with the `Window`"
   ]
  },
  {
   "cell_type": "markdown",
   "id": "bfd5a6f0",
   "metadata": {},
   "source": [
    "To read the data out we use our regular `src.read()` method but this time we specify `window`."
   ]
  },
  {
   "cell_type": "code",
   "execution_count": 14,
   "id": "9646e306",
   "metadata": {},
   "outputs": [],
   "source": [
    "import rasterio"
   ]
  },
  {
   "cell_type": "code",
   "execution_count": 15,
   "id": "396a51dc",
   "metadata": {},
   "outputs": [],
   "source": [
    "with rasterio.open(filepath_rad, 'r') as src:\n",
    "    my_window = Window(200, 1000, 220, 800)\n",
    "    window_data = src.read(window=my_window)"
   ]
  },
  {
   "cell_type": "code",
   "execution_count": 16,
   "id": "45f062d9",
   "metadata": {},
   "outputs": [
    {
     "data": {
      "text/plain": [
       "(224, 0, 175)"
      ]
     },
     "execution_count": 16,
     "metadata": {},
     "output_type": "execute_result"
    }
   ],
   "source": [
    "window_data.shape"
   ]
  },
  {
   "cell_type": "markdown",
   "id": "77048838",
   "metadata": {},
   "source": [
    ":::{admonition} 📝 Check your understanding\n",
    ":class: tip\n",
    "\n",
    "If using the syntax\n",
    "> Window(COLUMN_OFFSET, ROW_OFFSET, WIDTH, HEIGHT)\n",
    "\n",
    "how many pixels would the code `Window(15, 30, 10, 10)` return?\n",
    "\n",
    ":::\n"
   ]
  },
  {
   "cell_type": "markdown",
   "id": "df9b7bdd",
   "metadata": {},
   "source": [
    "## Language Agnostic: What's my workflow?\n",
    "\n",
    "At this point you've seen how to do many tasks in ENVI and in Python.  For example:\n",
    "\n",
    "* viewing specific pixel reflectance values\n",
    "* getting a z transect\n",
    "* statistics on the full raster\n",
    "* statistics on a subset of a raster\n",
    "* defining an ROI\n",
    "\n",
    "When it comes time for you to do this in your reseach, how might you choose which tool to use?"
   ]
  },
  {
   "cell_type": "markdown",
   "id": "e7db0c80",
   "metadata": {},
   "source": [
    "#### Questions to consider\n",
    "\n",
    "* What would the steps look like in the different options?\n",
    "* What are the technical pros/cons to each option?\n",
    "* Which options do I know exactly what to do and in which options would I need to be experimenting?\n",
    "* Is there a skill I am interested in gaining that makes it worth extra time?\n",
    "* Who are the resources I have to support me if I get stuck?"
   ]
  },
  {
   "cell_type": "markdown",
   "id": "7c4be5a3",
   "metadata": {},
   "source": [
    "#### Coding in Python in notebooks\n",
    "_Pros_\n",
    "* highly customizable, most flexibilty\n",
    "* easily repeated if scalaing is needed\n",
    "\n",
    "_Cons_\n",
    "* slower\n",
    "* visualizations are not interactive\n"
   ]
  }
 ],
 "metadata": {
  "kernelspec": {
   "display_name": "Python 3 (ipykernel)",
   "language": "python",
   "name": "python3"
  },
  "language_info": {
   "codemirror_mode": {
    "name": "ipython",
    "version": 3
   },
   "file_extension": ".py",
   "mimetype": "text/x-python",
   "name": "python",
   "nbconvert_exporter": "python",
   "pygments_lexer": "ipython3",
   "version": "3.9.7"
  }
 },
 "nbformat": 4,
 "nbformat_minor": 5
}
