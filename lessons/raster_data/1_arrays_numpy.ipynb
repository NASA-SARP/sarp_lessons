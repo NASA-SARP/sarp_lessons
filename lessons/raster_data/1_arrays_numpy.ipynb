{
 "cells": [
  {
   "cell_type": "markdown",
   "id": "proved-county",
   "metadata": {},
   "source": [
    "# Arrays and `numpy`"
   ]
  },
  {
   "cell_type": "markdown",
   "id": "75814463",
   "metadata": {},
   "source": [
    "## Content\n",
    "- 🗃️ Libraries\n",
    "- 🧊 `numpy` Data structures\n",
    "- 📁 Creating and Inspecting `numpy` arrays\n",
    "- 🚅 More than one dimension\n",
    "- ➕ Math and Aggregations"
   ]
  },
  {
   "cell_type": "markdown",
   "id": "c722a05a",
   "metadata": {},
   "source": [
    "## Context\n",
    "\n",
    "Today we are building up our arsenal of data structures with a really exiting one - the `numpy` array.  Numpy arrays can be used on their own but they also underlie many really useful libraries.  `xarray`, the primary library we will use to manipulate rasters, uses `numpy` arrays to store the data.  `numpy` is also highly optimized for large computations, which is the benefit we gain from stepping from the generic `list` Python structure to the more specialized `numpy` array."
   ]
  },
  {
   "cell_type": "markdown",
   "id": "f7eb4fa3",
   "metadata": {},
   "source": [
    "<img src=\"./summaryslide_3raster.jpg\" width=800>"
   ]
  },
  {
   "cell_type": "markdown",
   "id": "f1de487e",
   "metadata": {},
   "source": [
    "# 🗃️ Libraries"
   ]
  },
  {
   "cell_type": "markdown",
   "id": "917580df",
   "metadata": {},
   "source": [
    "Today we are going to dig into our first library in Python!  A **library** is a like an \"extras\" package for a programming language (think Settlers of Catan expansion pack).  It is a set of commands that doesn't automatically come activated when you use Python, but that you can still use if you just tell Python that you plan to do so.  You let python know you are going to use a library with an `import` statment.  After you do that the additional commands become availble."
   ]
  },
  {
   "cell_type": "code",
   "execution_count": null,
   "id": "f14fd792",
   "metadata": {},
   "outputs": [],
   "source": [
    "# Attempting to use the `math` libray before importing\n",
    "math.factorial(3)"
   ]
  },
  {
   "cell_type": "code",
   "execution_count": null,
   "id": "b777174b",
   "metadata": {},
   "outputs": [],
   "source": [
    "# Importing a Python library\n",
    "import math"
   ]
  },
  {
   "cell_type": "code",
   "execution_count": null,
   "id": "7e893ebb",
   "metadata": {},
   "outputs": [],
   "source": [
    "# Attempt #2 to use the `math` libray, after importing\n",
    "math.factorial(3)"
   ]
  },
  {
   "cell_type": "markdown",
   "id": "5fe29bb6",
   "metadata": {},
   "source": [
    "Once we have imported the library we can use the new commands that the library contains.  The `math` library was just an example and it isn't the focus of this lesson, but if you want you can see a list of `math` commands [here](https://docs.python.org/3/library/math.html)."
   ]
  },
  {
   "cell_type": "markdown",
   "id": "35004cc9",
   "metadata": {},
   "source": [
    "### 🌀Side Conversation: Standard vs. Non-standard Libraries\n",
    "One large chunk of libraries are together referred to as the **Python Standard Library**. These libraries are not a part of the \"core\" language (everything we can do without import statments) but have still been offically accepted into the Python distribution package and are maintained in the same way as the rest of the core language.  You can read more [here](https://docs.python.org/3/tutorial/stdlib.html).\n",
    "\n",
    "There are also libraries which aren't a part of this designation, and are still widely used and developed, but they are simply not included when you hit the \"Download Python\" button.  Non-standard libraries are maintained by groups of developers outside of the Python Software Foundation and anyone can make one.  That includes you!"
   ]
  },
  {
   "cell_type": "markdown",
   "id": "northern-distributor",
   "metadata": {},
   "source": [
    "# 🧊 Data structure: Arrays\n",
    "Arrays are the new data structure of this lesson.  They are similar to lists in that they represent a group of values.  Arrays are also simliar to list because you reference specific values using an index.  The main difference between lists and arrays is that arrays can have multiple dimensions.\n",
    "\n",
    "Still, if you array only has 1 dimension (like a list), why not just use a list?  Because:\n",
    "* `numpy` arrays are super optimized for speed\n",
    "* `numpy` arrays have lots of funcions build in that let you do extra things to a list\n",
    "\n",
    "In the end the choice between an array and a list depends on what kind of data you have and what you want to do with it.  There is also an element of personal preference."
   ]
  },
  {
   "cell_type": "markdown",
   "id": "3f8364c9",
   "metadata": {},
   "source": [
    "<img src=\"../images/L3_numpy-arrays.png\" width=550>\n",
    "\n",
    "_Image ammended from \n",
    "[Indian AI Production](https://indianaiproduction.com/python-numpy-tutorial/)._"
   ]
  },
  {
   "cell_type": "markdown",
   "id": "informal-comparative",
   "metadata": {},
   "source": [
    "## `numpy` library\n",
    "`numpy` is the standard Python library for dealing with arrays and matricies.  A lot of time and energy has gone into making `numpy` fast."
   ]
  },
  {
   "cell_type": "code",
   "execution_count": 5,
   "id": "expected-bouquet",
   "metadata": {},
   "outputs": [],
   "source": [
    "import numpy as np"
   ]
  },
  {
   "cell_type": "markdown",
   "id": "separate-payday",
   "metadata": {},
   "source": [
    "### 🌀 Side conversation: `xarray`\n",
    "`xarray` is another array/matrix library that has gained a LOT of traction among scientists.  It is a great library and it is developed by a group of scientists in the earthdata community so it often works really well for earth science applications.\n",
    "\n",
    "There are two big problems with `xarray` right now:\n",
    "* it doesn't have good spatial referencing.  This means that there isn't good tooling for people to, for example, pick a data point based on latitude and longitude\n",
    "* There isn't a great way to read `xarray` data from the cloud\n",
    "\n",
    "These are both problems that are being actively worked on by members of the community and will, I think, be resolved in the near future.  Until then, though, and for the sake of stability, this summer we are focused on `numpy`.  If you are interested in trying `xarray`, certainly go for it or talk to me."
   ]
  },
  {
   "cell_type": "markdown",
   "id": "sustained-plenty",
   "metadata": {},
   "source": [
    "## Creating and Inspecting `numpy` arrays\n",
    "\n",
    "Because arrays are so similar to lists one common way to make an array is by starting with a list.  \n",
    "\n",
    "We use `np.array()` to convert a list to an array.  In that line `np.` reminds Python which library we are referecing.  Here `np.` means `numpy`, which is what we told Python to call `numpy` when we imported it with `import numpy as np`."
   ]
  },
  {
   "cell_type": "code",
   "execution_count": 37,
   "id": "electoral-template",
   "metadata": {},
   "outputs": [],
   "source": [
    "reflectance_list = [25, 65, 43, 13, 54]"
   ]
  },
  {
   "cell_type": "code",
   "execution_count": 38,
   "id": "suffering-permit",
   "metadata": {},
   "outputs": [],
   "source": [
    "reflectance_array = np.array([25, 65, 43, 13, 54])"
   ]
  },
  {
   "cell_type": "code",
   "execution_count": 25,
   "id": "basic-dress",
   "metadata": {},
   "outputs": [
    {
     "data": {
      "text/plain": [
       "array([25, 65, 43, 13, 54])"
      ]
     },
     "execution_count": 25,
     "metadata": {},
     "output_type": "execute_result"
    }
   ],
   "source": [
    "reflectance_array"
   ]
  },
  {
   "cell_type": "markdown",
   "id": "crazy-reminder",
   "metadata": {},
   "source": [
    "Nothing very special so far."
   ]
  },
  {
   "cell_type": "markdown",
   "id": "atlantic-associate",
   "metadata": {},
   "source": [
    "What we get with the array, though, is some extra **properties** (information) and **methods** (actions).  To continue with our analogy from the previous lessons, if data structures are _nouns_, and functions/methods are _verbs_, properties are the _adjectives_.  They describe the object to you.\n",
    "\n",
    "Some useful properties of an array are:\n",
    "- **dtype**: the data type of the array (Ex. integer, float, etc.)\n",
    "- **shape**: the number of items along each dimension\n",
    "\n",
    "Properties are applied using a period `.` at the end of the object:\n",
    "* Ex. `my_array.property`"
   ]
  },
  {
   "cell_type": "code",
   "execution_count": 27,
   "id": "a4bed85e",
   "metadata": {},
   "outputs": [
    {
     "data": {
      "text/plain": [
       "dtype('int64')"
      ]
     },
     "execution_count": 27,
     "metadata": {},
     "output_type": "execute_result"
    }
   ],
   "source": [
    "reflectance_array.dtype"
   ]
  },
  {
   "cell_type": "code",
   "execution_count": 26,
   "id": "mechanical-asset",
   "metadata": {
    "scrolled": true
   },
   "outputs": [
    {
     "data": {
      "text/plain": [
       "(5,)"
      ]
     },
     "execution_count": 26,
     "metadata": {},
     "output_type": "execute_result"
    }
   ],
   "source": [
    "reflectance_array.shape"
   ]
  },
  {
   "cell_type": "markdown",
   "id": "60b8c94b",
   "metadata": {},
   "source": [
    "We will look at some useful methods in a bit."
   ]
  },
  {
   "cell_type": "markdown",
   "id": "3d1d0afe",
   "metadata": {},
   "source": [
    "Vocab note: You will sometimes hear the word **attribute** in place of **property**.  Either one works."
   ]
  },
  {
   "cell_type": "markdown",
   "id": "1c3bb237",
   "metadata": {},
   "source": [
    "### 👀 Notice\n",
    "We have seen both properties and methods before for lists.  Now that we have seen them in multiple places, you might start noticing a pattern.  \n",
    "* Properties of objects you access with `data_structure.property`.  They **tell** you something about the object\n",
    "* Methods of objects you access with `data_structure.method()`.  They **do** something to the object."
   ]
  },
  {
   "cell_type": "markdown",
   "id": "c3c95eac",
   "metadata": {},
   "source": [
    "_Starting Structures_\n",
    "* `list_ex = ['co','co2','ch4']`\n",
    "* `array_ex = np.array([6.5, 7.3. 2.9])`\n",
    "\n",
    "_Examples of properties_\n",
    "\n",
    "* `print(array_ex.shape)  # returns (3,)`\n",
    "\n",
    "_Examples of methods_\n",
    "\n",
    "* `list_ex.append('o3')`\n",
    "* `array_ex.full(3)`"
   ]
  },
  {
   "cell_type": "markdown",
   "id": "ba670c27",
   "metadata": {},
   "source": [
    "### Array Indexes"
   ]
  },
  {
   "cell_type": "markdown",
   "id": "altered-performer",
   "metadata": {},
   "source": [
    "You can access elements of the array by index, just like with lists."
   ]
  },
  {
   "cell_type": "code",
   "execution_count": 7,
   "id": "norman-flavor",
   "metadata": {},
   "outputs": [
    {
     "data": {
      "text/plain": [
       "54"
      ]
     },
     "execution_count": 7,
     "metadata": {},
     "output_type": "execute_result"
    }
   ],
   "source": [
    "# Return the 5th value in the array\n",
    "reflectance_array[4]"
   ]
  },
  {
   "cell_type": "code",
   "execution_count": 40,
   "id": "c14a7143",
   "metadata": {},
   "outputs": [
    {
     "data": {
      "text/plain": [
       "54"
      ]
     },
     "execution_count": 40,
     "metadata": {},
     "output_type": "execute_result"
    }
   ],
   "source": [
    "# Return the last value in the array\n",
    "reflectance_array[-1]"
   ]
  },
  {
   "cell_type": "markdown",
   "id": "36f54f32",
   "metadata": {},
   "source": [
    "With a one-dimensional array this looks exactly the same as a list.  With higher-dimensional arrays there is a little more to keep track of."
   ]
  },
  {
   "cell_type": "markdown",
   "id": "intermediate-article",
   "metadata": {},
   "source": [
    "### 📝 Checking In\n",
    "\n",
    "1. Get the shape of the array\n",
    "1. Get the value of the 3rd item in the array"
   ]
  },
  {
   "cell_type": "markdown",
   "id": "disciplinary-calculator",
   "metadata": {},
   "source": [
    "## More than one dimension\n",
    "The array we made so far is a one-dimensional array.  Very often when working with arrays you will have two or more dimensions.  You can create arrays like this by putting lists inside of lists, or **nesting** them."
   ]
  },
  {
   "cell_type": "code",
   "execution_count": 6,
   "id": "8e0e820c",
   "metadata": {},
   "outputs": [],
   "source": [
    "nested_list = [[1,2,3], [4,5,6]]\n",
    "array_2d = np.array(nested_list)"
   ]
  },
  {
   "cell_type": "markdown",
   "id": "50905245",
   "metadata": {},
   "source": [
    "The array we just created looks like this:\n",
    "\n",
    "|   |   |   |\n",
    "|---|---|---|\n",
    "| 1  | 2  |3   |\n",
    "|  4 |  5 | 6 |"
   ]
  },
  {
   "cell_type": "code",
   "execution_count": 7,
   "id": "1c9cbcd0",
   "metadata": {},
   "outputs": [
    {
     "data": {
      "text/plain": [
       "array([[1, 2, 3],\n",
       "       [4, 5, 6]])"
      ]
     },
     "execution_count": 7,
     "metadata": {},
     "output_type": "execute_result"
    }
   ],
   "source": [
    "array_2d"
   ]
  },
  {
   "cell_type": "code",
   "execution_count": 8,
   "id": "9da9df79",
   "metadata": {
    "scrolled": true
   },
   "outputs": [
    {
     "name": "stdout",
     "output_type": "stream",
     "text": [
      "(2, 3)\n"
     ]
    }
   ],
   "source": [
    "print(array_2d.shape)"
   ]
  },
  {
   "cell_type": "markdown",
   "id": "33adc02f",
   "metadata": {},
   "source": [
    "Oen thing that you have to start keeping track of once your arrays have more than one dimension is their **axes**. An axis is a number assigned to each new dimension to keep track of it."
   ]
  },
  {
   "cell_type": "markdown",
   "id": "c8d5a51e",
   "metadata": {},
   "source": [
    "<img src=\"https://codeguru.academy/wp-content/uploads/2020/11/numpy-intro-01.png\" width=450>\n",
    "\n",
    "_Image from [Code Guru](https://codeguru.academy/?p=335)_"
   ]
  },
  {
   "cell_type": "markdown",
   "id": "aa2e6d2f",
   "metadata": {},
   "source": [
    "You might often hear/read arrays called `ndarray`s.  This is short for an n-dimensional array, which refers to the fact that it can have any, or \"n\", number of dimensions."
   ]
  },
  {
   "cell_type": "code",
   "execution_count": 10,
   "id": "velvet-welding",
   "metadata": {},
   "outputs": [],
   "source": [
    "reflectance_list = [[1, 2, 3], [4, 5, 6]]"
   ]
  },
  {
   "cell_type": "code",
   "execution_count": 12,
   "id": "resistant-independence",
   "metadata": {},
   "outputs": [],
   "source": [
    "reflectance_array = np.array(reflectance_list)"
   ]
  },
  {
   "cell_type": "markdown",
   "id": "d65bf7d9",
   "metadata": {},
   "source": [
    "### Indexing multi-dimensional arrays\n",
    "\n",
    "When indexing multi-dimensional arrays we use the same square bracket `[]` syntax.  To get a single number we need to specify the index for each of the axes that we have in the array.  So if we have a 3 dimensional array we need 3 indexes to specify exactly which value we want."
   ]
  },
  {
   "cell_type": "code",
   "execution_count": 19,
   "id": "42deed2f",
   "metadata": {},
   "outputs": [
    {
     "data": {
      "text/plain": [
       "2"
      ]
     },
     "execution_count": 19,
     "metadata": {},
     "output_type": "execute_result"
    }
   ],
   "source": [
    "# Reflectance_array has two dimensions, accessed using the property `ndim` (number of dimensions)\n",
    "reflectance_array.ndim"
   ]
  },
  {
   "cell_type": "code",
   "execution_count": 20,
   "id": "c0b4766d",
   "metadata": {},
   "outputs": [
    {
     "data": {
      "text/plain": [
       "array([[1, 2, 3],\n",
       "       [4, 5, 6]])"
      ]
     },
     "execution_count": 20,
     "metadata": {},
     "output_type": "execute_result"
    }
   ],
   "source": [
    "reflectance_array"
   ]
  },
  {
   "cell_type": "code",
   "execution_count": 21,
   "id": "fed5feab",
   "metadata": {},
   "outputs": [
    {
     "data": {
      "text/plain": [
       "6"
      ]
     },
     "execution_count": 21,
     "metadata": {},
     "output_type": "execute_result"
    }
   ],
   "source": [
    "# lets get the second value down and the third value across\n",
    "reflectance_array[1, 2]"
   ]
  },
  {
   "cell_type": "markdown",
   "id": "fb82c504",
   "metadata": {},
   "source": [
    "If you would like to see an entire slice of data (for example, the whole second row) you don't have to specify an index for every dimension."
   ]
  },
  {
   "cell_type": "code",
   "execution_count": 22,
   "id": "b84f75d9",
   "metadata": {
    "scrolled": true
   },
   "outputs": [
    {
     "data": {
      "text/plain": [
       "array([4, 5, 6])"
      ]
     },
     "execution_count": 22,
     "metadata": {},
     "output_type": "execute_result"
    }
   ],
   "source": [
    "reflectance_array[1]"
   ]
  },
  {
   "cell_type": "markdown",
   "id": "b64242fa",
   "metadata": {},
   "source": [
    "Finally, note that you can also use the slice operator `:` with the mutli-dimensional indexes as well:"
   ]
  },
  {
   "cell_type": "code",
   "execution_count": 26,
   "id": "a08fb024",
   "metadata": {},
   "outputs": [
    {
     "data": {
      "text/plain": [
       "array([2, 3])"
      ]
     },
     "execution_count": 26,
     "metadata": {},
     "output_type": "execute_result"
    }
   ],
   "source": [
    "reflectance_array[0, 1:3]"
   ]
  },
  {
   "cell_type": "markdown",
   "id": "75521567",
   "metadata": {},
   "source": [
    "**What is the use of this?**\n",
    "\n",
    "With these small examples it isn't that much of a mystery what any particular value is.  Once you start working with real data it will become much more challenging to get a sense of your dataset, so you will likely spend a few minutes after opening any new dataset inspecting it using indexes and probably also using some of the aggregations from the next section."
   ]
  },
  {
   "cell_type": "markdown",
   "id": "df7dc60f",
   "metadata": {},
   "source": [
    "### 📝 Checking In\n",
    "\n",
    "Consider an array of the following form called `example_array`:\n",
    "\n",
    "|   |   |   |  |  |\n",
    "|---|---|---|---|---|\n",
    "| 1  | 2  |3   | 4 | 5 |\n",
    "|  6 |  7 | 8 | 9 | 10 |\n",
    "| 11 | 12 | 13 | 14 | 15 |\n",
    "| 16 | 17 | 18 | 19 | 20 |\n",
    "\n",
    "1. What is the value at index [0, 2]?\n",
    "1. What is the result of `example_array[4]`?\n",
    "2. What is the result of `example_array[1:3, 2]`?\n",
    "1. Give the index to return the value 15."
   ]
  },
  {
   "cell_type": "markdown",
   "id": "deluxe-demand",
   "metadata": {},
   "source": [
    "## Array Math and Aggregations"
   ]
  },
  {
   "cell_type": "markdown",
   "id": "norman-translator",
   "metadata": {},
   "source": [
    "Once we start getting into manipulating the values of matrices we are approaching some of the principles of linear algebra.  If you have taken linear algebra before then you'll be right at home.  If not, don't worry too much.  The operations that you are most likely to use don't get too deep."
   ]
  },
  {
   "cell_type": "markdown",
   "id": "paperback-holocaust",
   "metadata": {},
   "source": [
    "Because we are working with matricies instead of single numbers, if you want to do addition on a matrix, you have two options:\n",
    "1. Add the same number to every item in the array\n",
    "2. Add a value depending on the position of the item to the items in an array \n",
    "\n",
    "With method 2 the most important thing to remember when you start trying to add/subtract/multiply values to an array is that the shape of you array is important. So, if you have a 3x2 array and you want to add some values, you need to add another matrix which has the shape 3x2."
   ]
  },
  {
   "cell_type": "code",
   "execution_count": 27,
   "id": "comic-limitation",
   "metadata": {},
   "outputs": [
    {
     "data": {
      "text/plain": [
       "array([[1, 2, 3],\n",
       "       [4, 5, 6]])"
      ]
     },
     "execution_count": 27,
     "metadata": {},
     "output_type": "execute_result"
    }
   ],
   "source": [
    "reflectance_array"
   ]
  },
  {
   "cell_type": "code",
   "execution_count": 28,
   "id": "nasty-terry",
   "metadata": {},
   "outputs": [
    {
     "data": {
      "text/plain": [
       "array([[11, 12, 13],\n",
       "       [14, 15, 16]])"
      ]
     },
     "execution_count": 28,
     "metadata": {},
     "output_type": "execute_result"
    }
   ],
   "source": [
    "# Adding the same value to the whole matrix\n",
    "reflectance_array + 10"
   ]
  },
  {
   "cell_type": "code",
   "execution_count": 33,
   "id": "f13182f4",
   "metadata": {},
   "outputs": [
    {
     "name": "stdout",
     "output_type": "stream",
     "text": [
      "(4, 2)\n"
     ]
    }
   ],
   "source": [
    "# Creating a new array of shape 4x2\n",
    "second_array = np.array([[1,2],[3,4], [5,6], [7,8]])\n",
    "print(second_array.shape)"
   ]
  },
  {
   "cell_type": "code",
   "execution_count": 34,
   "id": "53d823bc",
   "metadata": {},
   "outputs": [
    {
     "ename": "ValueError",
     "evalue": "operands could not be broadcast together with shapes (2,3) (4,2) ",
     "output_type": "error",
     "traceback": [
      "\u001b[1;31m---------------------------------------------------------------------------\u001b[0m",
      "\u001b[1;31mValueError\u001b[0m                                Traceback (most recent call last)",
      "\u001b[1;32m<ipython-input-34-a246eba9a3c1>\u001b[0m in \u001b[0;36m<module>\u001b[1;34m\u001b[0m\n\u001b[1;32m----> 1\u001b[1;33m \u001b[0mreflectance_array\u001b[0m \u001b[1;33m+\u001b[0m \u001b[0msecond_array\u001b[0m\u001b[1;33m\u001b[0m\u001b[1;33m\u001b[0m\u001b[0m\n\u001b[0m",
      "\u001b[1;31mValueError\u001b[0m: operands could not be broadcast together with shapes (2,3) (4,2) "
     ]
    }
   ],
   "source": [
    "reflectance_array + second_array"
   ]
  },
  {
   "cell_type": "markdown",
   "id": "e663c43e",
   "metadata": {},
   "source": [
    "One thing to be careful of is that numpy will try to help you out by changing the shape of your matrix if it doesn't make sense.  This is called _broadcasting_ and it can be helpful, but it can also lead to errors if you aren't aware that it is happening."
   ]
  },
  {
   "cell_type": "code",
   "execution_count": 35,
   "id": "fabulous-librarian",
   "metadata": {},
   "outputs": [
    {
     "data": {
      "text/plain": [
       "array([[2, 4, 6],\n",
       "       [5, 7, 9]])"
      ]
     },
     "execution_count": 35,
     "metadata": {},
     "output_type": "execute_result"
    }
   ],
   "source": [
    "# 2x3 matrix + 1x3 matrix -> no error\n",
    "reflectance_array + np.array([1,2,3])"
   ]
  },
  {
   "cell_type": "markdown",
   "id": "a84d655f",
   "metadata": {},
   "source": [
    "If this concept is confusing there are some really great visuals of adding arrays [in the numpy docs](https://numpy.org/doc/stable/user/absolute_beginners.html#basic-array-operations)."
   ]
  },
  {
   "cell_type": "markdown",
   "id": "f7983aee",
   "metadata": {},
   "source": [
    "### More math\n",
    "\n",
    "Since numpy in a library intended for computational mathematics it has most any function built ito it that you could ever want.  In general, googling \"numpy\", then the function you want (Ex. \"numpy dot product\") will get you want you need.  There is also a list of functions [in the docs](https://numpy.org/doc/stable/user/quickstart.html#universal-functions)."
   ]
  },
  {
   "cell_type": "markdown",
   "id": "damaged-messenger",
   "metadata": {},
   "source": [
    "## Aggregations\n",
    "\n",
    "Another really common operation, both during processing and while inspecting a dataset, is to run some kind of aggregation.  There are lots of them build into `numpy`:\n",
    "\n",
    "| Syntax      | Description |\n",
    "| ----------- | ----------- |\n",
    "| `.max()`    | Maximum value |\n",
    "| `.min()`    | Minimum value |\n",
    "| `.std()`    | Standard deviation |\n",
    "| `.mean()`    | Mean value |\n",
    "| `.sum()`    | Sum total of all the values |\n",
    "\n",
    "These methods are all run with the `object.method()` syntax."
   ]
  },
  {
   "cell_type": "code",
   "execution_count": 21,
   "id": "knowing-yield",
   "metadata": {},
   "outputs": [
    {
     "data": {
      "text/plain": [
       "288"
      ]
     },
     "execution_count": 21,
     "metadata": {},
     "output_type": "execute_result"
    }
   ],
   "source": [
    "reflectance_array.sum()"
   ]
  },
  {
   "cell_type": "code",
   "execution_count": 24,
   "id": "divine-rwanda",
   "metadata": {
    "scrolled": true
   },
   "outputs": [
    {
     "data": {
      "text/plain": [
       "65"
      ]
     },
     "execution_count": 24,
     "metadata": {},
     "output_type": "execute_result"
    }
   ],
   "source": [
    "reflectance_array.max()"
   ]
  },
  {
   "cell_type": "markdown",
   "id": "broken-desert",
   "metadata": {},
   "source": [
    "The aggregation functions have an additional option with arrays of specifying over which axis you would like to take the aggregation.  This is done using a **key word argument**.  \n",
    "\n",
    "We saw un-named arguments when we used the `.append()` method to add methane to our list of pollutants in the lists lesson:\n",
    "\n",
    "```\n",
    "pollutants = ['o3', 'co2',' nox']\n",
    "pollutants.append('ch4')\n",
    "```\n",
    "\n",
    "In that case 'ch4' is the argument.  Sometimes, though, to use an argument you have to tell the method what you want it to do with that argument.  This is the use of Key word arguments.\n",
    "\n",
    "Vocab note: You will often see in documentation the options for arguments listed as **args** (pronounced like a pirate) and the key word argument options listed under **kwargs** (pronounced like a pirate that just accidently ran into something)."
   ]
  },
  {
   "cell_type": "markdown",
   "id": "7c4942ce",
   "metadata": {},
   "source": [
    "The syntax for a kwarg is to put it inside the parenthesis of the method with an equals sign:"
   ]
  },
  {
   "cell_type": "code",
   "execution_count": 36,
   "id": "annoying-capture",
   "metadata": {},
   "outputs": [
    {
     "data": {
      "text/plain": [
       "array([5, 7, 9])"
      ]
     },
     "execution_count": 36,
     "metadata": {},
     "output_type": "execute_result"
    }
   ],
   "source": [
    "# Specifying axis as a kwarg\n",
    "reflectance_array.sum(axis=0)"
   ]
  },
  {
   "cell_type": "code",
   "execution_count": 25,
   "id": "front-basketball",
   "metadata": {},
   "outputs": [
    {
     "data": {
      "text/plain": [
       "array([25, 65, 54])"
      ]
     },
     "execution_count": 25,
     "metadata": {},
     "output_type": "execute_result"
    }
   ],
   "source": [
    "reflectance_array.max(axis=0)"
   ]
  },
  {
   "cell_type": "markdown",
   "id": "0f01a296",
   "metadata": {},
   "source": [
    "Here is a visual showing how an aggregation over an axis returns a value for the aggregation for each element along that axis:\n",
    "<img src=\"../images/L3_aggregations_axis.png\" width=900>\n",
    "\n",
    "_Image from [the numpy docs](https://numpy.org/doc/stable/user/absolute_beginners.html#creating-matrices)_"
   ]
  },
  {
   "cell_type": "markdown",
   "id": "60705212",
   "metadata": {},
   "source": [
    "There are more great visuals for aggregations [in the numpy docs](https://numpy.org/doc/stable/user/absolute_beginners.html#creating-matrices)."
   ]
  },
  {
   "cell_type": "markdown",
   "id": "c0691aeb",
   "metadata": {},
   "source": [
    "### 📝 Checking In\n",
    "Consider an array of the following form called `example_array`:\n",
    "\n",
    "|   |   |   |\n",
    "|---|---|---|\n",
    "| 2  | 4  | 6  |\n",
    "|  8 |  10 | 12 |\n",
    "\n",
    "1. What is the output of `example_array.max()`?\n",
    "1. Over which axis (0 or 1) was the `sum()` method run to get a result of `[10, 14, 18]`?"
   ]
  },
  {
   "cell_type": "code",
   "execution_count": null,
   "id": "disturbed-russell",
   "metadata": {},
   "outputs": [],
   "source": []
  }
 ],
 "metadata": {
  "kernelspec": {
   "display_name": "Python 3 (ipykernel)",
   "language": "python",
   "name": "python3"
  },
  "language_info": {
   "codemirror_mode": {
    "name": "ipython",
    "version": 3
   },
   "file_extension": ".py",
   "mimetype": "text/x-python",
   "name": "python",
   "nbconvert_exporter": "python",
   "pygments_lexer": "ipython3",
   "version": "3.9.7"
  }
 },
 "nbformat": 4,
 "nbformat_minor": 5
}
