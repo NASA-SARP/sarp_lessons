{
 "cells": [
  {
   "cell_type": "markdown",
   "id": "8a968910",
   "metadata": {},
   "source": [
    "This notebook provides practice problems associated with lesson 2. It is divided into several parts:\n",
    "* **Part 1** - most approachable place to start.  Practices syntax and concepts\n",
    "* **Part 2** - a step up from part 1.  Integrates concepts from accross the lesson in more applied scenarios"
   ]
  },
  {
   "cell_type": "code",
   "execution_count": 1,
   "id": "a95d5b35",
   "metadata": {},
   "outputs": [],
   "source": [
    "import numpy as np"
   ]
  },
  {
   "cell_type": "markdown",
   "id": "c6bf45ba",
   "metadata": {},
   "source": [
    "# Practice Problems Part 1"
   ]
  },
  {
   "cell_type": "markdown",
   "id": "88e0aefc",
   "metadata": {},
   "source": [
    "## Creating and Inspecting arrays"
   ]
  },
  {
   "cell_type": "markdown",
   "id": "5d4defcf",
   "metadata": {},
   "source": [
    "1. Convert the following list into a numpy array"
   ]
  },
  {
   "cell_type": "code",
   "execution_count": 2,
   "id": "97c6c423",
   "metadata": {},
   "outputs": [],
   "source": [
    "chlor_a_list = [0.3, 1.2, 0.8, 0.8, 1.1, 0.2, 0.4]"
   ]
  },
  {
   "cell_type": "code",
   "execution_count": null,
   "id": "08d9d2bb",
   "metadata": {},
   "outputs": [],
   "source": []
  },
  {
   "cell_type": "markdown",
   "id": "359497ac",
   "metadata": {},
   "source": [
    "2. Get the following values from the `chlor_a` array you made in the last problem:\n",
    "* The first value\n",
    "* The last value"
   ]
  },
  {
   "cell_type": "code",
   "execution_count": null,
   "id": "35c76163",
   "metadata": {},
   "outputs": [],
   "source": []
  },
  {
   "cell_type": "markdown",
   "id": "a714f33b",
   "metadata": {},
   "source": [
    "3. What is the data type of the `chlor_a` array you made?"
   ]
  },
  {
   "cell_type": "code",
   "execution_count": null,
   "id": "faba7e40",
   "metadata": {},
   "outputs": [],
   "source": []
  },
  {
   "cell_type": "markdown",
   "id": "2c16fa33",
   "metadata": {},
   "source": [
    "4. Use code to figure out how many items are in your array"
   ]
  },
  {
   "cell_type": "code",
   "execution_count": null,
   "id": "7d4808e2",
   "metadata": {},
   "outputs": [],
   "source": []
  },
  {
   "cell_type": "markdown",
   "id": "ca01544c",
   "metadata": {},
   "source": [
    "## Multiple dimensions"
   ]
  },
  {
   "cell_type": "markdown",
   "id": "8721904e",
   "metadata": {},
   "source": [
    "5. What is the shape of the following array?"
   ]
  },
  {
   "cell_type": "code",
   "execution_count": 3,
   "id": "a91003c6",
   "metadata": {},
   "outputs": [],
   "source": [
    "population_sparrows = np.array([[43, 24, 53, 24], [21, 32, 42, 32], [76, 23, 14, 12]])"
   ]
  },
  {
   "cell_type": "code",
   "execution_count": null,
   "id": "8bd5f704",
   "metadata": {},
   "outputs": [],
   "source": []
  },
  {
   "cell_type": "markdown",
   "id": "8ccf8b52",
   "metadata": {},
   "source": [
    "6. Use the `len()` function and the `.shape` property to calculate the  number of dimensions of the `population_sparrows` array"
   ]
  },
  {
   "cell_type": "code",
   "execution_count": null,
   "id": "f8f74763",
   "metadata": {},
   "outputs": [],
   "source": []
  },
  {
   "cell_type": "markdown",
   "id": "9eb082ef",
   "metadata": {},
   "source": [
    "7. Return the same result as problem 6 in a different way, using the `.ndims` property"
   ]
  },
  {
   "cell_type": "code",
   "execution_count": null,
   "id": "f560798e",
   "metadata": {},
   "outputs": [],
   "source": []
  },
  {
   "cell_type": "markdown",
   "id": "f58f3127",
   "metadata": {},
   "source": [
    "8. Get the value for the item in the last row and the last column of the `population_sparrows` array"
   ]
  },
  {
   "cell_type": "code",
   "execution_count": null,
   "id": "a5bc4ec7",
   "metadata": {},
   "outputs": [],
   "source": []
  },
  {
   "cell_type": "markdown",
   "id": "2e030155",
   "metadata": {},
   "source": [
    "9. Get a 4-number array that is a subset of number from the `population_sparrows` array using the slice operator `:`"
   ]
  },
  {
   "cell_type": "code",
   "execution_count": null,
   "id": "cfc774a2",
   "metadata": {},
   "outputs": [],
   "source": []
  },
  {
   "cell_type": "markdown",
   "id": "b6a14ff3",
   "metadata": {},
   "source": [
    "## Math and aggregations"
   ]
  },
  {
   "cell_type": "markdown",
   "id": "26dbb0a7",
   "metadata": {},
   "source": [
    "For the next few problems consider that the `population_sparrows` array represents the populations of sparrows at 12 different reserach locations."
   ]
  },
  {
   "cell_type": "markdown",
   "id": "8edf76ec",
   "metadata": {},
   "source": [
    "10. Let's say our sparrow population grew, and the population of every location doubled.  Multiple all the values in the array by 2.  Make sure array is updated with the new values."
   ]
  },
  {
   "cell_type": "code",
   "execution_count": null,
   "id": "1148da27",
   "metadata": {},
   "outputs": [],
   "source": []
  },
  {
   "cell_type": "markdown",
   "id": "174f6fe9",
   "metadata": {},
   "source": [
    "10. Later in the season a group of biologists adds a few sparrows to each population.  The number of sparrows they added to each location is represented by the following array:"
   ]
  },
  {
   "cell_type": "code",
   "execution_count": 4,
   "id": "bebb69b7",
   "metadata": {},
   "outputs": [],
   "source": [
    "indiviuals_added = np.array([[4, 4, 5, 4], [1, 2, 2, 3], [6, 3, 4, 2]])"
   ]
  },
  {
   "cell_type": "markdown",
   "id": "54ac9a9f",
   "metadata": {},
   "source": [
    "Calculate the updated population values with the new additions.  Update the variable value."
   ]
  },
  {
   "cell_type": "code",
   "execution_count": null,
   "id": "9c287b40",
   "metadata": {},
   "outputs": [],
   "source": []
  },
  {
   "cell_type": "markdown",
   "id": "3dd90825",
   "metadata": {},
   "source": [
    "11. Calculate the sum of the sparrows at all the locations"
   ]
  },
  {
   "cell_type": "code",
   "execution_count": null,
   "id": "ac6fe483",
   "metadata": {},
   "outputs": [],
   "source": []
  },
  {
   "cell_type": "markdown",
   "id": "de93ecca",
   "metadata": {},
   "source": [
    "12. Calculate the sum of sparrows over axis 1"
   ]
  },
  {
   "cell_type": "code",
   "execution_count": null,
   "id": "86947452",
   "metadata": {},
   "outputs": [],
   "source": []
  },
  {
   "cell_type": "markdown",
   "id": "6872e638",
   "metadata": {},
   "source": [
    "13. Consider the following array. If you ran an aggregation (Ex. `.max()`) and specified an axis, over what axis would you get 3 numbers as a result?"
   ]
  },
  {
   "cell_type": "code",
   "execution_count": 5,
   "id": "f7e30e26",
   "metadata": {},
   "outputs": [],
   "source": [
    "example_array = np.array([[4, 4, 5, 4], [1, 2, 2, 3], [6, 3, 4, 2]])"
   ]
  },
  {
   "cell_type": "code",
   "execution_count": null,
   "id": "5ac93827",
   "metadata": {},
   "outputs": [],
   "source": []
  },
  {
   "cell_type": "markdown",
   "id": "86213c87",
   "metadata": {},
   "source": [
    "# Practice Problems Part 2"
   ]
  },
  {
   "cell_type": "markdown",
   "id": "a3dec889",
   "metadata": {},
   "source": [
    "#### Question 1"
   ]
  },
  {
   "cell_type": "code",
   "execution_count": 6,
   "id": "ce510294",
   "metadata": {
    "scrolled": true
   },
   "outputs": [],
   "source": [
    "reflectances = np.random.randint(0, high=100, size=(5, 30, 40))"
   ]
  },
  {
   "cell_type": "markdown",
   "id": "f5d1d713",
   "metadata": {},
   "source": [
    "**A)** Get a subset of at least 15 values from the middle of the `reflectances` array."
   ]
  },
  {
   "cell_type": "code",
   "execution_count": null,
   "id": "cd1d21d4",
   "metadata": {},
   "outputs": [],
   "source": []
  },
  {
   "cell_type": "markdown",
   "id": "282dcb37",
   "metadata": {},
   "source": [
    "**B)** Write a chunk of code to get the value in the center of the array.  Make sure the code works for arrays of different sizes, so calculate the center index values using the properties of the array."
   ]
  },
  {
   "cell_type": "code",
   "execution_count": null,
   "id": "68ae068c",
   "metadata": {},
   "outputs": [],
   "source": []
  },
  {
   "cell_type": "markdown",
   "id": "aab5773c",
   "metadata": {},
   "source": [
    "#### Question 2\n",
    "\n",
    "**A)** Add 10 to every value in the `reflectances` array which has an index of 2 in the axis=0 position."
   ]
  },
  {
   "cell_type": "code",
   "execution_count": null,
   "id": "c1951bc1",
   "metadata": {},
   "outputs": [],
   "source": []
  },
  {
   "cell_type": "markdown",
   "id": "70b68be7",
   "metadata": {},
   "source": [
    "#### Question 3\n",
    "**A)** What will be the shapes of the following arrays?  First take a guess, then run the code.\n",
    "\n",
    "```\n",
    "array1 = np.array([1, 2, 3])\n",
    "array2 = np.array([[1], [2], [3]])\n",
    "```"
   ]
  },
  {
   "cell_type": "code",
   "execution_count": null,
   "id": "30b6d62c",
   "metadata": {},
   "outputs": [],
   "source": []
  },
  {
   "cell_type": "markdown",
   "id": "df479367",
   "metadata": {},
   "source": [
    "**B)** Starting with an array of all zeros, what how will the output look different adding together `starting_array` + `array1` vs. `starting_array` + `array2`?  Make your guess first, then run the code to compare to your expectation."
   ]
  },
  {
   "cell_type": "code",
   "execution_count": 7,
   "id": "1aaff4ba",
   "metadata": {},
   "outputs": [],
   "source": [
    "starting_array = np.zeros((3,3))"
   ]
  },
  {
   "cell_type": "code",
   "execution_count": 8,
   "id": "8dc18184",
   "metadata": {},
   "outputs": [],
   "source": [
    "array1 = np.array([1, 2, 3])\n",
    "array2 = np.array([[1], [2], [3]])"
   ]
  },
  {
   "cell_type": "code",
   "execution_count": null,
   "id": "1b8bae8c",
   "metadata": {},
   "outputs": [],
   "source": []
  },
  {
   "cell_type": "markdown",
   "id": "8ff6061d",
   "metadata": {},
   "source": [
    "#### Question 4\n",
    "\n",
    "**A)** Going back to our `reflectances` array, find the mean and standard deviation of all the values in the array."
   ]
  },
  {
   "cell_type": "code",
   "execution_count": 9,
   "id": "13c3d124",
   "metadata": {},
   "outputs": [],
   "source": [
    "reflectances = np.random.randint(0, high=100, size=(5, 30, 40))"
   ]
  },
  {
   "cell_type": "code",
   "execution_count": null,
   "id": "7343e1c8",
   "metadata": {},
   "outputs": [],
   "source": []
  },
  {
   "cell_type": "markdown",
   "id": "d71cf64a",
   "metadata": {},
   "source": [
    "**B)** What is the maximum value of the 2D array at index 1 of axis 0?"
   ]
  },
  {
   "cell_type": "code",
   "execution_count": null,
   "id": "291f2fbb",
   "metadata": {},
   "outputs": [],
   "source": []
  },
  {
   "cell_type": "markdown",
   "id": "b3171d2c",
   "metadata": {},
   "source": [
    "#### Question 5"
   ]
  },
  {
   "cell_type": "markdown",
   "id": "8b7c5ef1",
   "metadata": {},
   "source": [
    "**A)** The `.astype()` method is a method that changes the datatype of the values in the array.  It takes one argument - the new data type (which you type in without quotations).\n",
    "\n",
    "Use the `.astype()` method on the reflectances array to change the data type to float."
   ]
  },
  {
   "cell_type": "code",
   "execution_count": 10,
   "id": "7aa62c1a",
   "metadata": {},
   "outputs": [
    {
     "data": {
      "text/plain": [
       "int"
      ]
     },
     "execution_count": 10,
     "metadata": {},
     "output_type": "execute_result"
    }
   ],
   "source": [
    "# Data types don't need quotations, they are one of the few words you can just type\n",
    "int"
   ]
  },
  {
   "cell_type": "code",
   "execution_count": null,
   "id": "bd31bb1d",
   "metadata": {},
   "outputs": [],
   "source": []
  },
  {
   "cell_type": "markdown",
   "id": "1bcdbdf7",
   "metadata": {},
   "source": [
    "**B)** We have seen the use of `axis` as a kwarg in the `.max()` function.  If you need to you can use multiple kwargs, which you seperate by commas.\n",
    "\n",
    "The `keepdims` kwarg maintains the output value within the original axis they were calculated over.  So if you took the sum of an array over axis 1, you would recieve the output array with a vertically stacked output.  `keepdims` takes a boolean input - True if you would like to keep the dimensions and False if not.\n",
    "\n",
    "Take the max of the `reflectances` array, using the `axis` kwarg with value 1 and the `keepdims` kwarg set to True.  Try it again with the kwarg set to False.  Take the shape of both outputs and notice how they change."
   ]
  },
  {
   "cell_type": "code",
   "execution_count": null,
   "id": "c5533790",
   "metadata": {},
   "outputs": [],
   "source": []
  },
  {
   "cell_type": "markdown",
   "id": "13728081",
   "metadata": {},
   "source": [
    "_Note: The \"keepdims\" concept is a bit conceptually abstract and I couldn't find a good visual illustration for it right now.  If you leave this problem feeling a little iffy on \"keepdims\" that is totally fine and normal.  The more important concept to be comfortable with is using multiple kwargs in a function/method._"
   ]
  },
  {
   "cell_type": "markdown",
   "id": "99353000",
   "metadata": {},
   "source": [
    "#### Question 6"
   ]
  },
  {
   "cell_type": "code",
   "execution_count": 11,
   "id": "3017aa29",
   "metadata": {},
   "outputs": [],
   "source": [
    "example = np.array([[6, 10, 5, 9], [6, 9, 9, 11], [12, 14, 6, 3]])"
   ]
  },
  {
   "cell_type": "markdown",
   "id": "3b9dd37c",
   "metadata": {},
   "source": [
    "**A)** Get a list of unique items in the `example` array."
   ]
  },
  {
   "cell_type": "code",
   "execution_count": null,
   "id": "245d37c8",
   "metadata": {},
   "outputs": [],
   "source": []
  },
  {
   "cell_type": "markdown",
   "id": "f3f11b9e",
   "metadata": {},
   "source": [
    "_**Google help:** \"numpy unique values in an array\", or [this stackoverflow](https://stackoverflow.com/questions/16970982/find-unique-rows-in-numpy-array)._"
   ]
  },
  {
   "cell_type": "markdown",
   "id": "9a6aa246",
   "metadata": {},
   "source": [
    "**B)** Pick one of the values in the array and determine how many times that value occurs in the array."
   ]
  },
  {
   "cell_type": "code",
   "execution_count": null,
   "id": "64064a55",
   "metadata": {},
   "outputs": [],
   "source": []
  },
  {
   "cell_type": "markdown",
   "id": "d9b4ef30",
   "metadata": {},
   "source": [
    "_**Google help:** \"numpy number of occurances of a value\" or [this stackoverflow](https://stackoverflow.com/questions/28663856/how-to-count-the-occurrence-of-certain-item-in-an-ndarray)._"
   ]
  },
  {
   "cell_type": "markdown",
   "id": "41ddeb00",
   "metadata": {},
   "source": [
    "#### Question 7\n",
    "\n",
    "NaNs are an important data point when working with real data - rarely do you have a totally complete dataset.\n",
    "\n",
    "You can make individual nans with `np.NaN`:"
   ]
  },
  {
   "cell_type": "code",
   "execution_count": 12,
   "id": "06cffd02",
   "metadata": {},
   "outputs": [
    {
     "data": {
      "text/plain": [
       "nan"
      ]
     },
     "execution_count": 12,
     "metadata": {},
     "output_type": "execute_result"
    }
   ],
   "source": [
    "np.NaN"
   ]
  },
  {
   "cell_type": "markdown",
   "id": "39bffe77",
   "metadata": {},
   "source": [
    "Look at [the docs](https://numpy.org/devdocs/reference/generated/numpy.full.html) for the function `np.full()` and create a new array of shape (4, 5, 6) filled with nan values."
   ]
  },
  {
   "cell_type": "code",
   "execution_count": null,
   "id": "07ddac71",
   "metadata": {},
   "outputs": [],
   "source": []
  },
  {
   "cell_type": "code",
   "execution_count": null,
   "id": "e18fe242",
   "metadata": {},
   "outputs": [],
   "source": []
  }
 ],
 "metadata": {
  "kernelspec": {
   "display_name": "Python 3",
   "language": "python",
   "name": "python3"
  },
  "language_info": {
   "codemirror_mode": {
    "name": "ipython",
    "version": 3
   },
   "file_extension": ".py",
   "mimetype": "text/x-python",
   "name": "python",
   "nbconvert_exporter": "python",
   "pygments_lexer": "ipython3",
   "version": "3.8.8"
  }
 },
 "nbformat": 4,
 "nbformat_minor": 5
}
