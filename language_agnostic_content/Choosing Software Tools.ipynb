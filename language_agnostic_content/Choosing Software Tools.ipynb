{
 "cells": [
  {
   "cell_type": "markdown",
   "id": "e7945967-f147-4a2d-9676-a18f658e1355",
   "metadata": {},
   "source": [
    "## What's my workflow?\n",
    "\n",
    "At this point you've seen how to do many tasks in ENVI and in Python.  For example:\n",
    "\n",
    "* viewing specific pixel reflectance values\n",
    "* getting a z transect\n",
    "* statistics on the full raster\n",
    "* statistics on a subset of a raster\n",
    "* defining an ROI\n",
    "\n",
    "When it comes time for you to do this in your reseach, how might you choose which tool to use?"
   ]
  },
  {
   "cell_type": "markdown",
   "id": "ca1069cf-8c63-4495-8e1e-299716f8774d",
   "metadata": {},
   "source": [
    "#### Questions to consider\n",
    "\n",
    "* What would the steps look like in the different options?\n",
    "* What are the technical pros/cons to each option?\n",
    "* Which options do I know exactly what to do and in which options would I need to be experimenting?\n",
    "* Is there a skill I am interested in gaining that makes it worth extra time?\n",
    "* Who are the resources I have to support me if I get stuck?"
   ]
  },
  {
   "cell_type": "markdown",
   "id": "2d3cabac-475b-4438-873c-1f0dc72bf0ea",
   "metadata": {},
   "source": [
    "#### Coding in Python in notebooks\n",
    "_Pros_\n",
    "* highly customizable, most flexibilty\n",
    "* easily repeated if scalaing is needed\n",
    "\n",
    "_Cons_\n",
    "* slower\n",
    "* visualizations are not interactive"
   ]
  },
  {
   "cell_type": "code",
   "execution_count": null,
   "id": "22d81b61-1a59-418e-8385-bfc1ab81605a",
   "metadata": {},
   "outputs": [],
   "source": []
  }
 ],
 "metadata": {
  "kernelspec": {
   "display_name": "Python 3 (ipykernel)",
   "language": "python",
   "name": "python3"
  },
  "language_info": {
   "codemirror_mode": {
    "name": "ipython",
    "version": 3
   },
   "file_extension": ".py",
   "mimetype": "text/x-python",
   "name": "python",
   "nbconvert_exporter": "python",
   "pygments_lexer": "ipython3",
   "version": "3.9.7"
  }
 },
 "nbformat": 4,
 "nbformat_minor": 5
}
