{
 "cells": [
  {
   "cell_type": "markdown",
   "id": "9db58eed-f5b1-4f12-b135-fe0be77d91a8",
   "metadata": {
    "tags": []
   },
   "source": [
    "## Debugging\n",
    "\n",
    "Debugging is the process of fixing your code when it is broken.  It will happen and, for better or worse, it an integral part of life in coding.\n",
    "\n",
    "Debugging is a skill that takes practice.  Knowledge of the programming language you are working in is certainly important, but there are also other skills to learn and practice that can help.\n",
    "\n",
    "#### Debugging has two main steps:\n",
    "1. Define/find the problem\n",
    "2. Fix the problem\n",
    "\n",
    "The pdf doc \"Debugging Guide\" in the same folder of this notebook has a more indepth explanation of the debugging process. [This Real Python article](https://realpython.com/python-traceback/) has a great explanation of the tracebacks."
   ]
  },
  {
   "cell_type": "code",
   "execution_count": null,
   "id": "473578ce-bcdf-4a28-b743-4f8e17b65692",
   "metadata": {},
   "outputs": [],
   "source": []
  }
 ],
 "metadata": {
  "kernelspec": {
   "display_name": "Python 3 (ipykernel)",
   "language": "python",
   "name": "python3"
  },
  "language_info": {
   "codemirror_mode": {
    "name": "ipython",
    "version": 3
   },
   "file_extension": ".py",
   "mimetype": "text/x-python",
   "name": "python",
   "nbconvert_exporter": "python",
   "pygments_lexer": "ipython3",
   "version": "3.9.7"
  }
 },
 "nbformat": 4,
 "nbformat_minor": 5
}
